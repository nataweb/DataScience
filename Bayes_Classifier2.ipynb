{
  "nbformat": 4,
  "nbformat_minor": 0,
  "metadata": {
    "colab": {
      "provenance": []
    },
    "kernelspec": {
      "name": "python3",
      "display_name": "Python 3"
    },
    "language_info": {
      "name": "python"
    }
  },
  "cells": [
    {
      "cell_type": "code",
      "execution_count": 93,
      "metadata": {
        "id": "DWavRtIolvSF"
      },
      "outputs": [],
      "source": [
        "import zipfile\n",
        "import os\n",
        "from os import walk\n",
        "from os.path import join\n",
        "import pandas as pd"
      ]
    },
    {
      "cell_type": "code",
      "source": [
        "from google.colab import files\n",
        "uploaded = files.upload()\n"
      ],
      "metadata": {
        "colab": {
          "base_uri": "https://localhost:8080/",
          "height": 73
        },
        "id": "z9MZO_hl_HsP",
        "outputId": "d0299852-a8d7-4de8-9636-68ff8b252713"
      },
      "execution_count": 94,
      "outputs": [
        {
          "output_type": "display_data",
          "data": {
            "text/plain": [
              "<IPython.core.display.HTML object>"
            ],
            "text/html": [
              "\n",
              "     <input type=\"file\" id=\"files-b757a244-926c-4bbd-b911-87ea830cd1ac\" name=\"files[]\" multiple disabled\n",
              "        style=\"border:none\" />\n",
              "     <output id=\"result-b757a244-926c-4bbd-b911-87ea830cd1ac\">\n",
              "      Upload widget is only available when the cell has been executed in the\n",
              "      current browser session. Please rerun this cell to enable.\n",
              "      </output>\n",
              "      <script>// Copyright 2017 Google LLC\n",
              "//\n",
              "// Licensed under the Apache License, Version 2.0 (the \"License\");\n",
              "// you may not use this file except in compliance with the License.\n",
              "// You may obtain a copy of the License at\n",
              "//\n",
              "//      http://www.apache.org/licenses/LICENSE-2.0\n",
              "//\n",
              "// Unless required by applicable law or agreed to in writing, software\n",
              "// distributed under the License is distributed on an \"AS IS\" BASIS,\n",
              "// WITHOUT WARRANTIES OR CONDITIONS OF ANY KIND, either express or implied.\n",
              "// See the License for the specific language governing permissions and\n",
              "// limitations under the License.\n",
              "\n",
              "/**\n",
              " * @fileoverview Helpers for google.colab Python module.\n",
              " */\n",
              "(function(scope) {\n",
              "function span(text, styleAttributes = {}) {\n",
              "  const element = document.createElement('span');\n",
              "  element.textContent = text;\n",
              "  for (const key of Object.keys(styleAttributes)) {\n",
              "    element.style[key] = styleAttributes[key];\n",
              "  }\n",
              "  return element;\n",
              "}\n",
              "\n",
              "// Max number of bytes which will be uploaded at a time.\n",
              "const MAX_PAYLOAD_SIZE = 100 * 1024;\n",
              "\n",
              "function _uploadFiles(inputId, outputId) {\n",
              "  const steps = uploadFilesStep(inputId, outputId);\n",
              "  const outputElement = document.getElementById(outputId);\n",
              "  // Cache steps on the outputElement to make it available for the next call\n",
              "  // to uploadFilesContinue from Python.\n",
              "  outputElement.steps = steps;\n",
              "\n",
              "  return _uploadFilesContinue(outputId);\n",
              "}\n",
              "\n",
              "// This is roughly an async generator (not supported in the browser yet),\n",
              "// where there are multiple asynchronous steps and the Python side is going\n",
              "// to poll for completion of each step.\n",
              "// This uses a Promise to block the python side on completion of each step,\n",
              "// then passes the result of the previous step as the input to the next step.\n",
              "function _uploadFilesContinue(outputId) {\n",
              "  const outputElement = document.getElementById(outputId);\n",
              "  const steps = outputElement.steps;\n",
              "\n",
              "  const next = steps.next(outputElement.lastPromiseValue);\n",
              "  return Promise.resolve(next.value.promise).then((value) => {\n",
              "    // Cache the last promise value to make it available to the next\n",
              "    // step of the generator.\n",
              "    outputElement.lastPromiseValue = value;\n",
              "    return next.value.response;\n",
              "  });\n",
              "}\n",
              "\n",
              "/**\n",
              " * Generator function which is called between each async step of the upload\n",
              " * process.\n",
              " * @param {string} inputId Element ID of the input file picker element.\n",
              " * @param {string} outputId Element ID of the output display.\n",
              " * @return {!Iterable<!Object>} Iterable of next steps.\n",
              " */\n",
              "function* uploadFilesStep(inputId, outputId) {\n",
              "  const inputElement = document.getElementById(inputId);\n",
              "  inputElement.disabled = false;\n",
              "\n",
              "  const outputElement = document.getElementById(outputId);\n",
              "  outputElement.innerHTML = '';\n",
              "\n",
              "  const pickedPromise = new Promise((resolve) => {\n",
              "    inputElement.addEventListener('change', (e) => {\n",
              "      resolve(e.target.files);\n",
              "    });\n",
              "  });\n",
              "\n",
              "  const cancel = document.createElement('button');\n",
              "  inputElement.parentElement.appendChild(cancel);\n",
              "  cancel.textContent = 'Cancel upload';\n",
              "  const cancelPromise = new Promise((resolve) => {\n",
              "    cancel.onclick = () => {\n",
              "      resolve(null);\n",
              "    };\n",
              "  });\n",
              "\n",
              "  // Wait for the user to pick the files.\n",
              "  const files = yield {\n",
              "    promise: Promise.race([pickedPromise, cancelPromise]),\n",
              "    response: {\n",
              "      action: 'starting',\n",
              "    }\n",
              "  };\n",
              "\n",
              "  cancel.remove();\n",
              "\n",
              "  // Disable the input element since further picks are not allowed.\n",
              "  inputElement.disabled = true;\n",
              "\n",
              "  if (!files) {\n",
              "    return {\n",
              "      response: {\n",
              "        action: 'complete',\n",
              "      }\n",
              "    };\n",
              "  }\n",
              "\n",
              "  for (const file of files) {\n",
              "    const li = document.createElement('li');\n",
              "    li.append(span(file.name, {fontWeight: 'bold'}));\n",
              "    li.append(span(\n",
              "        `(${file.type || 'n/a'}) - ${file.size} bytes, ` +\n",
              "        `last modified: ${\n",
              "            file.lastModifiedDate ? file.lastModifiedDate.toLocaleDateString() :\n",
              "                                    'n/a'} - `));\n",
              "    const percent = span('0% done');\n",
              "    li.appendChild(percent);\n",
              "\n",
              "    outputElement.appendChild(li);\n",
              "\n",
              "    const fileDataPromise = new Promise((resolve) => {\n",
              "      const reader = new FileReader();\n",
              "      reader.onload = (e) => {\n",
              "        resolve(e.target.result);\n",
              "      };\n",
              "      reader.readAsArrayBuffer(file);\n",
              "    });\n",
              "    // Wait for the data to be ready.\n",
              "    let fileData = yield {\n",
              "      promise: fileDataPromise,\n",
              "      response: {\n",
              "        action: 'continue',\n",
              "      }\n",
              "    };\n",
              "\n",
              "    // Use a chunked sending to avoid message size limits. See b/62115660.\n",
              "    let position = 0;\n",
              "    do {\n",
              "      const length = Math.min(fileData.byteLength - position, MAX_PAYLOAD_SIZE);\n",
              "      const chunk = new Uint8Array(fileData, position, length);\n",
              "      position += length;\n",
              "\n",
              "      const base64 = btoa(String.fromCharCode.apply(null, chunk));\n",
              "      yield {\n",
              "        response: {\n",
              "          action: 'append',\n",
              "          file: file.name,\n",
              "          data: base64,\n",
              "        },\n",
              "      };\n",
              "\n",
              "      let percentDone = fileData.byteLength === 0 ?\n",
              "          100 :\n",
              "          Math.round((position / fileData.byteLength) * 100);\n",
              "      percent.textContent = `${percentDone}% done`;\n",
              "\n",
              "    } while (position < fileData.byteLength);\n",
              "  }\n",
              "\n",
              "  // All done.\n",
              "  yield {\n",
              "    response: {\n",
              "      action: 'complete',\n",
              "    }\n",
              "  };\n",
              "}\n",
              "\n",
              "scope.google = scope.google || {};\n",
              "scope.google.colab = scope.google.colab || {};\n",
              "scope.google.colab._files = {\n",
              "  _uploadFiles,\n",
              "  _uploadFilesContinue,\n",
              "};\n",
              "})(self);\n",
              "</script> "
            ]
          },
          "metadata": {}
        },
        {
          "output_type": "stream",
          "name": "stdout",
          "text": [
            "Saving SpamData.zip to SpamData (1).zip\n"
          ]
        }
      ]
    },
    {
      "cell_type": "code",
      "source": [
        "zip_file = 'SpamData.zip'\n",
        "unzip_dir = '/content/DataExtracted'\n",
        "\n",
        "with zipfile.ZipFile(zip_file, 'r') as zip_ref:\n",
        "    zip_ref.extractall(unzip_dir)\n"
      ],
      "metadata": {
        "id": "hHSVBhNN_WsC"
      },
      "execution_count": 95,
      "outputs": []
    },
    {
      "cell_type": "code",
      "source": [
        "import os\n",
        "current_directory = os.getcwd()\n",
        "print(\"Current working directory:\", current_directory)"
      ],
      "metadata": {
        "id": "gX0X2_qFtM4m",
        "colab": {
          "base_uri": "https://localhost:8080/"
        },
        "outputId": "3f215163-d26d-4f84-99a5-28176afe438c"
      },
      "execution_count": 96,
      "outputs": [
        {
          "output_type": "stream",
          "name": "stdout",
          "text": [
            "Current working directory: /content\n"
          ]
        }
      ]
    },
    {
      "cell_type": "markdown",
      "source": [
        "**Constants**"
      ],
      "metadata": {
        "id": "1wdUCEQptR4d"
      }
    },
    {
      "cell_type": "code",
      "source": [
        "EXAMPLE_FILE = 'practice_email.txt'\n",
        "\n",
        "SPAM_1_PATH = 'DataExtracted/SpamData/01_Processing/spam_assassin_corpus/spam_1'\n",
        "SPAM_2_PATH = 'DataExtracted/SpamData/01_Processing/spam_assassin_corpus/spam_2'\n",
        "EASY_NONSPAM_1_PATH = 'DataExtracted/SpamData/01_Processing/spam_assassin_corpus/easy_ham_1'\n",
        "EASY_NONSPAM_2_PATH = 'DataExtracted/SpamData/01_Processing/spam_assassin_corpus/easy_ham_2'\n",
        "\n",
        "SPAM_CAT = 1\n",
        "HAM_CAT = 0"
      ],
      "metadata": {
        "id": "1j-cVjMCtSNI"
      },
      "execution_count": 71,
      "outputs": []
    },
    {
      "cell_type": "code",
      "source": [
        "stream = open(EXAMPLE_FILE, encoding='utf-8')\n",
        "message = stream.read()\n",
        "stream.close()\n",
        "\n",
        "print(message)"
      ],
      "metadata": {
        "id": "5_Vz5LKrtXJp",
        "colab": {
          "base_uri": "https://localhost:8080/"
        },
        "outputId": "0d40ed4f-54f6-4dac-d1ff-cf2cd07a808d"
      },
      "execution_count": 72,
      "outputs": [
        {
          "output_type": "stream",
          "name": "stdout",
          "text": [
            "From exmh-workers-admin@redhat.com  Thu Aug 22 12:36:23 2002\n",
            "Return-Path: <exmh-workers-admin@spamassassin.taint.org>\n",
            "Delivered-To: zzzz@localhost.netnoteinc.com\n",
            "Received: from localhost (localhost [127.0.0.1])\n",
            "\tby phobos.labs.netnoteinc.com (Postfix) with ESMTP id D03E543C36\n",
            "\tfor <zzzz@localhost>; Thu, 22 Aug 2002 07:36:16 -0400 (EDT)\n",
            "Received: from phobos [127.0.0.1]\n",
            "\tby localhost with IMAP (fetchmail-5.9.0)\n",
            "\tfor zzzz@localhost (single-drop); Thu, 22 Aug 2002 12:36:16 +0100 (IST)\n",
            "Received: from listman.spamassassin.taint.org (listman.spamassassin.taint.org [66.187.233.211]) by\n",
            "    dogma.slashnull.org (8.11.6/8.11.6) with ESMTP id g7MBYrZ04811 for\n",
            "    <zzzz-exmh@spamassassin.taint.org>; Thu, 22 Aug 2002 12:34:53 +0100\n",
            "Received: from listman.spamassassin.taint.org (localhost.localdomain [127.0.0.1]) by\n",
            "    listman.redhat.com (Postfix) with ESMTP id 8386540858; Thu, 22 Aug 2002\n",
            "    07:35:02 -0400 (EDT)\n",
            "Delivered-To: exmh-workers@listman.spamassassin.taint.org\n",
            "Received: from int-mx1.corp.spamassassin.taint.org (int-mx1.corp.spamassassin.taint.org\n",
            "    [172.16.52.254]) by listman.redhat.com (Postfix) with ESMTP id 10CF8406D7\n",
            "    for <exmh-workers@listman.redhat.com>; Thu, 22 Aug 2002 07:34:10 -0400\n",
            "    (EDT)\n",
            "Received: (from mail@localhost) by int-mx1.corp.spamassassin.taint.org (8.11.6/8.11.6)\n",
            "    id g7MBY7g11259 for exmh-workers@listman.redhat.com; Thu, 22 Aug 2002\n",
            "    07:34:07 -0400\n",
            "Received: from mx1.spamassassin.taint.org (mx1.spamassassin.taint.org [172.16.48.31]) by\n",
            "    int-mx1.corp.redhat.com (8.11.6/8.11.6) with SMTP id g7MBY7Y11255 for\n",
            "    <exmh-workers@redhat.com>; Thu, 22 Aug 2002 07:34:07 -0400\n",
            "Received: from ratree.psu.ac.th ([202.28.97.6]) by mx1.spamassassin.taint.org\n",
            "    (8.11.6/8.11.6) with SMTP id g7MBIhl25223 for <exmh-workers@redhat.com>;\n",
            "    Thu, 22 Aug 2002 07:18:55 -0400\n",
            "Received: from delta.cs.mu.OZ.AU (delta.coe.psu.ac.th [172.30.0.98]) by\n",
            "    ratree.psu.ac.th (8.11.6/8.11.6) with ESMTP id g7MBWel29762;\n",
            "    Thu, 22 Aug 2002 18:32:40 +0700 (ICT)\n",
            "Received: from munnari.OZ.AU (localhost [127.0.0.1]) by delta.cs.mu.OZ.AU\n",
            "    (8.11.6/8.11.6) with ESMTP id g7MBQPW13260; Thu, 22 Aug 2002 18:26:25\n",
            "    +0700 (ICT)\n",
            "From: Robert Elz <kre@munnari.OZ.AU>\n",
            "To: Chris Garrigues <cwg-dated-1030377287.06fa6d@DeepEddy.Com>\n",
            "Cc: exmh-workers@spamassassin.taint.org\n",
            "Subject: Re: New Sequences Window\n",
            "In-Reply-To: <1029945287.4797.TMDA@deepeddy.vircio.com>\n",
            "References: <1029945287.4797.TMDA@deepeddy.vircio.com>\n",
            "    <1029882468.3116.TMDA@deepeddy.vircio.com> <9627.1029933001@munnari.OZ.AU>\n",
            "    <1029943066.26919.TMDA@deepeddy.vircio.com>\n",
            "    <1029944441.398.TMDA@deepeddy.vircio.com>\n",
            "MIME-Version: 1.0\n",
            "Content-Type: text/plain; charset=us-ascii\n",
            "Message-Id: <13258.1030015585@munnari.OZ.AU>\n",
            "X-Loop: exmh-workers@spamassassin.taint.org\n",
            "Sender: exmh-workers-admin@spamassassin.taint.org\n",
            "Errors-To: exmh-workers-admin@spamassassin.taint.org\n",
            "X-Beenthere: exmh-workers@spamassassin.taint.org\n",
            "X-Mailman-Version: 2.0.1\n",
            "Precedence: bulk\n",
            "List-Help: <mailto:exmh-workers-request@spamassassin.taint.org?subject=help>\n",
            "List-Post: <mailto:exmh-workers@spamassassin.taint.org>\n",
            "List-Subscribe: <https://listman.spamassassin.taint.org/mailman/listinfo/exmh-workers>,\n",
            "    <mailto:exmh-workers-request@redhat.com?subject=subscribe>\n",
            "List-Id: Discussion list for EXMH developers <exmh-workers.spamassassin.taint.org>\n",
            "List-Unsubscribe: <https://listman.spamassassin.taint.org/mailman/listinfo/exmh-workers>,\n",
            "    <mailto:exmh-workers-request@redhat.com?subject=unsubscribe>\n",
            "List-Archive: <https://listman.spamassassin.taint.org/mailman/private/exmh-workers/>\n",
            "Date: Thu, 22 Aug 2002 18:26:25 +0700\n",
            "\n",
            "\n",
            "Dear Mr Still\n",
            "\n",
            "Good tidings to you and all your staff for the festive season ahead (Christmas).\n",
            "Now to the crux of the matter-in-hand: I am a fully qualified Santa Claus and am wondering whether you might consider me to run my own \"Santa's Grotto\" in your store.\n",
            "But WAIT! You're probably thinking: \"What makes him so special?\"\n",
            "Well, first of all, I have made several changes to the characterisation of Father Christmas. Rather than greeting the children with shouts of \"Ho, ho, ho!\" I prefer to whisper the phrase \"Dependence is not unfathomable in this cruel world we live in\". In addition, my gifts are ALL hand-made, ranging from felt hoops to vanilla-pod holders.\n",
            "You will note also, from the enclosed sketch, that I have radically redesigned Santa's outfit and have renamed my character \"Lord Buckles\". Would you be interested in employing me? I promise NEVER to let you down.\n",
            "I look forward to hearing from you.\n",
            "\n",
            "Best wishes\n",
            "Robin Cooper\n",
            "[Excerpt from the book: The Timewaster Letters by Robin Cooper]\n",
            "\n"
          ]
        }
      ]
    },
    {
      "cell_type": "code",
      "source": [
        "stream = open(EXAMPLE_FILE, encoding='utf-8')\n",
        "is_body = False\n",
        "lines = []\n",
        "\n",
        "for line in stream:\n",
        "  if is_body:\n",
        "    lines.append(line)\n",
        "  elif line == '\\n':\n",
        "    is_body = True\n",
        "\n",
        "stream.close()\n",
        "email_body = '\\n'.join(lines)\n",
        "\n",
        "print(email_body)\n"
      ],
      "metadata": {
        "id": "A8lD1DdttmZL",
        "colab": {
          "base_uri": "https://localhost:8080/"
        },
        "outputId": "32c66d99-f5fb-4a35-e653-7ebae25a067c"
      },
      "execution_count": 73,
      "outputs": [
        {
          "output_type": "stream",
          "name": "stdout",
          "text": [
            "\n",
            "\n",
            "Dear Mr Still\n",
            "\n",
            "\n",
            "\n",
            "Good tidings to you and all your staff for the festive season ahead (Christmas).\n",
            "\n",
            "Now to the crux of the matter-in-hand: I am a fully qualified Santa Claus and am wondering whether you might consider me to run my own \"Santa's Grotto\" in your store.\n",
            "\n",
            "But WAIT! You're probably thinking: \"What makes him so special?\"\n",
            "\n",
            "Well, first of all, I have made several changes to the characterisation of Father Christmas. Rather than greeting the children with shouts of \"Ho, ho, ho!\" I prefer to whisper the phrase \"Dependence is not unfathomable in this cruel world we live in\". In addition, my gifts are ALL hand-made, ranging from felt hoops to vanilla-pod holders.\n",
            "\n",
            "You will note also, from the enclosed sketch, that I have radically redesigned Santa's outfit and have renamed my character \"Lord Buckles\". Would you be interested in employing me? I promise NEVER to let you down.\n",
            "\n",
            "I look forward to hearing from you.\n",
            "\n",
            "\n",
            "\n",
            "Best wishes\n",
            "\n",
            "Robin Cooper\n",
            "\n",
            "[Excerpt from the book: The Timewaster Letters by Robin Cooper]\n",
            "\n"
          ]
        }
      ]
    },
    {
      "cell_type": "markdown",
      "source": [
        "**Generator Functions**"
      ],
      "metadata": {
        "id": "3jyPKGG-tqFU"
      }
    },
    {
      "cell_type": "code",
      "source": [
        "def generate_squares(N):\n",
        "  for my_number in range(N):\n",
        "    yield my_number ** 2"
      ],
      "metadata": {
        "id": "vNmL2jo9trtD"
      },
      "execution_count": 74,
      "outputs": []
    },
    {
      "cell_type": "code",
      "source": [
        "for i in generate_squares(5):\n",
        "  print(i, end=' ->')"
      ],
      "metadata": {
        "id": "yepdcfVYtwgw",
        "colab": {
          "base_uri": "https://localhost:8080/"
        },
        "outputId": "2a4090d9-f551-4671-9b1c-a31434a63262"
      },
      "execution_count": 75,
      "outputs": [
        {
          "output_type": "stream",
          "name": "stdout",
          "text": [
            "0 ->1 ->4 ->9 ->16 ->"
          ]
        }
      ]
    },
    {
      "cell_type": "markdown",
      "source": [
        "**Email body extraction**"
      ],
      "metadata": {
        "id": "Hbx-9eFat0W_"
      }
    },
    {
      "cell_type": "code",
      "source": [
        "def email_body_generator(path):\n",
        "\n",
        "  for root, dirnames, filenames in walk(path):\n",
        "    for file_name in filenames:\n",
        "\n",
        "      filepath = join(root, file_name)\n",
        "      stream = open(filepath, encoding='latin-1')\n",
        "      is_body = False\n",
        "      lines = []\n",
        "\n",
        "      for line in stream:\n",
        "        if is_body:\n",
        "          lines.append(line)\n",
        "        elif line == '\\n':\n",
        "          is_body = True\n",
        "\n",
        "      stream.close()\n",
        "      email_body = '\\n'.join(lines)\n",
        "\n",
        "      yield file_name, email_body"
      ],
      "metadata": {
        "id": "FzjJaMKJtx2j"
      },
      "execution_count": 76,
      "outputs": []
    },
    {
      "cell_type": "code",
      "source": [
        "def df_from_directory(path,classification):\n",
        "  rows = []\n",
        "  row_names = []\n",
        "\n",
        "  for file_name, email_body in email_body_generator(path):\n",
        "    rows.append({'MESSAGE': email_body, 'CATEGORY': classification})\n",
        "    row_names.append(file_name)\n",
        "\n",
        "\n",
        "  return pd.DataFrame(rows, index=row_names)"
      ],
      "metadata": {
        "id": "c2nHgd-Mt4lB"
      },
      "execution_count": 97,
      "outputs": []
    },
    {
      "cell_type": "code",
      "source": [
        "spam_emails = df_from_directory(SPAM_1_PATH, 1)\n",
        "spam_emails = pd.concat([spam_emails, df_from_directory(SPAM_2_PATH, 1)])\n",
        "spam_emails.head()"
      ],
      "metadata": {
        "id": "2Cp7svCLu-3f",
        "colab": {
          "base_uri": "https://localhost:8080/",
          "height": 206
        },
        "outputId": "9d4f0da3-d8c1-4df6-f07e-6013f51aa1ec"
      },
      "execution_count": 98,
      "outputs": [
        {
          "output_type": "execute_result",
          "data": {
            "text/plain": [
              "                                                                                  MESSAGE  \\\n",
              "00333.4bb36a535cb3d738f30f985f1e10a786  ------000000000000000000000\\n\\nContent-Type: t...   \n",
              "00160.cec5f611ae665ff0add6c4928d47f2be  FREE 30 day supply of HGH 1000:\\n\\nLook Younge...   \n",
              "00240.2ff7f745285653a238214d975859406b  \\n\\nDear Sir or Madam\\n\\n\\n\\nIn the past you h...   \n",
              "00438.41295e1df4b651b7611316331b8468e4  Dear Homeowner,\\n\\n \\n\\nInterest Rates are at ...   \n",
              "00425.1434e0ab4e5235b64825b4c2a0999d76  <HTML><HEAD><TITLE>Hi i'm Rita !!!</TITLE>\\n\\n...   \n",
              "\n",
              "                                        CATEGORY  \n",
              "00333.4bb36a535cb3d738f30f985f1e10a786         1  \n",
              "00160.cec5f611ae665ff0add6c4928d47f2be         1  \n",
              "00240.2ff7f745285653a238214d975859406b         1  \n",
              "00438.41295e1df4b651b7611316331b8468e4         1  \n",
              "00425.1434e0ab4e5235b64825b4c2a0999d76         1  "
            ],
            "text/html": [
              "\n",
              "  <div id=\"df-05ed1c46-a377-41e5-882e-152f7f0ee815\" class=\"colab-df-container\">\n",
              "    <div>\n",
              "<style scoped>\n",
              "    .dataframe tbody tr th:only-of-type {\n",
              "        vertical-align: middle;\n",
              "    }\n",
              "\n",
              "    .dataframe tbody tr th {\n",
              "        vertical-align: top;\n",
              "    }\n",
              "\n",
              "    .dataframe thead th {\n",
              "        text-align: right;\n",
              "    }\n",
              "</style>\n",
              "<table border=\"1\" class=\"dataframe\">\n",
              "  <thead>\n",
              "    <tr style=\"text-align: right;\">\n",
              "      <th></th>\n",
              "      <th>MESSAGE</th>\n",
              "      <th>CATEGORY</th>\n",
              "    </tr>\n",
              "  </thead>\n",
              "  <tbody>\n",
              "    <tr>\n",
              "      <th>00333.4bb36a535cb3d738f30f985f1e10a786</th>\n",
              "      <td>------000000000000000000000\\n\\nContent-Type: t...</td>\n",
              "      <td>1</td>\n",
              "    </tr>\n",
              "    <tr>\n",
              "      <th>00160.cec5f611ae665ff0add6c4928d47f2be</th>\n",
              "      <td>FREE 30 day supply of HGH 1000:\\n\\nLook Younge...</td>\n",
              "      <td>1</td>\n",
              "    </tr>\n",
              "    <tr>\n",
              "      <th>00240.2ff7f745285653a238214d975859406b</th>\n",
              "      <td>\\n\\nDear Sir or Madam\\n\\n\\n\\nIn the past you h...</td>\n",
              "      <td>1</td>\n",
              "    </tr>\n",
              "    <tr>\n",
              "      <th>00438.41295e1df4b651b7611316331b8468e4</th>\n",
              "      <td>Dear Homeowner,\\n\\n \\n\\nInterest Rates are at ...</td>\n",
              "      <td>1</td>\n",
              "    </tr>\n",
              "    <tr>\n",
              "      <th>00425.1434e0ab4e5235b64825b4c2a0999d76</th>\n",
              "      <td>&lt;HTML&gt;&lt;HEAD&gt;&lt;TITLE&gt;Hi i'm Rita !!!&lt;/TITLE&gt;\\n\\n...</td>\n",
              "      <td>1</td>\n",
              "    </tr>\n",
              "  </tbody>\n",
              "</table>\n",
              "</div>\n",
              "    <div class=\"colab-df-buttons\">\n",
              "\n",
              "  <div class=\"colab-df-container\">\n",
              "    <button class=\"colab-df-convert\" onclick=\"convertToInteractive('df-05ed1c46-a377-41e5-882e-152f7f0ee815')\"\n",
              "            title=\"Convert this dataframe to an interactive table.\"\n",
              "            style=\"display:none;\">\n",
              "\n",
              "  <svg xmlns=\"http://www.w3.org/2000/svg\" height=\"24px\" viewBox=\"0 -960 960 960\">\n",
              "    <path d=\"M120-120v-720h720v720H120Zm60-500h600v-160H180v160Zm220 220h160v-160H400v160Zm0 220h160v-160H400v160ZM180-400h160v-160H180v160Zm440 0h160v-160H620v160ZM180-180h160v-160H180v160Zm440 0h160v-160H620v160Z\"/>\n",
              "  </svg>\n",
              "    </button>\n",
              "\n",
              "  <style>\n",
              "    .colab-df-container {\n",
              "      display:flex;\n",
              "      gap: 12px;\n",
              "    }\n",
              "\n",
              "    .colab-df-convert {\n",
              "      background-color: #E8F0FE;\n",
              "      border: none;\n",
              "      border-radius: 50%;\n",
              "      cursor: pointer;\n",
              "      display: none;\n",
              "      fill: #1967D2;\n",
              "      height: 32px;\n",
              "      padding: 0 0 0 0;\n",
              "      width: 32px;\n",
              "    }\n",
              "\n",
              "    .colab-df-convert:hover {\n",
              "      background-color: #E2EBFA;\n",
              "      box-shadow: 0px 1px 2px rgba(60, 64, 67, 0.3), 0px 1px 3px 1px rgba(60, 64, 67, 0.15);\n",
              "      fill: #174EA6;\n",
              "    }\n",
              "\n",
              "    .colab-df-buttons div {\n",
              "      margin-bottom: 4px;\n",
              "    }\n",
              "\n",
              "    [theme=dark] .colab-df-convert {\n",
              "      background-color: #3B4455;\n",
              "      fill: #D2E3FC;\n",
              "    }\n",
              "\n",
              "    [theme=dark] .colab-df-convert:hover {\n",
              "      background-color: #434B5C;\n",
              "      box-shadow: 0px 1px 3px 1px rgba(0, 0, 0, 0.15);\n",
              "      filter: drop-shadow(0px 1px 2px rgba(0, 0, 0, 0.3));\n",
              "      fill: #FFFFFF;\n",
              "    }\n",
              "  </style>\n",
              "\n",
              "    <script>\n",
              "      const buttonEl =\n",
              "        document.querySelector('#df-05ed1c46-a377-41e5-882e-152f7f0ee815 button.colab-df-convert');\n",
              "      buttonEl.style.display =\n",
              "        google.colab.kernel.accessAllowed ? 'block' : 'none';\n",
              "\n",
              "      async function convertToInteractive(key) {\n",
              "        const element = document.querySelector('#df-05ed1c46-a377-41e5-882e-152f7f0ee815');\n",
              "        const dataTable =\n",
              "          await google.colab.kernel.invokeFunction('convertToInteractive',\n",
              "                                                    [key], {});\n",
              "        if (!dataTable) return;\n",
              "\n",
              "        const docLinkHtml = 'Like what you see? Visit the ' +\n",
              "          '<a target=\"_blank\" href=https://colab.research.google.com/notebooks/data_table.ipynb>data table notebook</a>'\n",
              "          + ' to learn more about interactive tables.';\n",
              "        element.innerHTML = '';\n",
              "        dataTable['output_type'] = 'display_data';\n",
              "        await google.colab.output.renderOutput(dataTable, element);\n",
              "        const docLink = document.createElement('div');\n",
              "        docLink.innerHTML = docLinkHtml;\n",
              "        element.appendChild(docLink);\n",
              "      }\n",
              "    </script>\n",
              "  </div>\n",
              "\n",
              "\n",
              "<div id=\"df-e958fe93-e2d5-42c1-83ab-87fb06b76f73\">\n",
              "  <button class=\"colab-df-quickchart\" onclick=\"quickchart('df-e958fe93-e2d5-42c1-83ab-87fb06b76f73')\"\n",
              "            title=\"Suggest charts\"\n",
              "            style=\"display:none;\">\n",
              "\n",
              "<svg xmlns=\"http://www.w3.org/2000/svg\" height=\"24px\"viewBox=\"0 0 24 24\"\n",
              "     width=\"24px\">\n",
              "    <g>\n",
              "        <path d=\"M19 3H5c-1.1 0-2 .9-2 2v14c0 1.1.9 2 2 2h14c1.1 0 2-.9 2-2V5c0-1.1-.9-2-2-2zM9 17H7v-7h2v7zm4 0h-2V7h2v10zm4 0h-2v-4h2v4z\"/>\n",
              "    </g>\n",
              "</svg>\n",
              "  </button>\n",
              "\n",
              "<style>\n",
              "  .colab-df-quickchart {\n",
              "      --bg-color: #E8F0FE;\n",
              "      --fill-color: #1967D2;\n",
              "      --hover-bg-color: #E2EBFA;\n",
              "      --hover-fill-color: #174EA6;\n",
              "      --disabled-fill-color: #AAA;\n",
              "      --disabled-bg-color: #DDD;\n",
              "  }\n",
              "\n",
              "  [theme=dark] .colab-df-quickchart {\n",
              "      --bg-color: #3B4455;\n",
              "      --fill-color: #D2E3FC;\n",
              "      --hover-bg-color: #434B5C;\n",
              "      --hover-fill-color: #FFFFFF;\n",
              "      --disabled-bg-color: #3B4455;\n",
              "      --disabled-fill-color: #666;\n",
              "  }\n",
              "\n",
              "  .colab-df-quickchart {\n",
              "    background-color: var(--bg-color);\n",
              "    border: none;\n",
              "    border-radius: 50%;\n",
              "    cursor: pointer;\n",
              "    display: none;\n",
              "    fill: var(--fill-color);\n",
              "    height: 32px;\n",
              "    padding: 0;\n",
              "    width: 32px;\n",
              "  }\n",
              "\n",
              "  .colab-df-quickchart:hover {\n",
              "    background-color: var(--hover-bg-color);\n",
              "    box-shadow: 0 1px 2px rgba(60, 64, 67, 0.3), 0 1px 3px 1px rgba(60, 64, 67, 0.15);\n",
              "    fill: var(--button-hover-fill-color);\n",
              "  }\n",
              "\n",
              "  .colab-df-quickchart-complete:disabled,\n",
              "  .colab-df-quickchart-complete:disabled:hover {\n",
              "    background-color: var(--disabled-bg-color);\n",
              "    fill: var(--disabled-fill-color);\n",
              "    box-shadow: none;\n",
              "  }\n",
              "\n",
              "  .colab-df-spinner {\n",
              "    border: 2px solid var(--fill-color);\n",
              "    border-color: transparent;\n",
              "    border-bottom-color: var(--fill-color);\n",
              "    animation:\n",
              "      spin 1s steps(1) infinite;\n",
              "  }\n",
              "\n",
              "  @keyframes spin {\n",
              "    0% {\n",
              "      border-color: transparent;\n",
              "      border-bottom-color: var(--fill-color);\n",
              "      border-left-color: var(--fill-color);\n",
              "    }\n",
              "    20% {\n",
              "      border-color: transparent;\n",
              "      border-left-color: var(--fill-color);\n",
              "      border-top-color: var(--fill-color);\n",
              "    }\n",
              "    30% {\n",
              "      border-color: transparent;\n",
              "      border-left-color: var(--fill-color);\n",
              "      border-top-color: var(--fill-color);\n",
              "      border-right-color: var(--fill-color);\n",
              "    }\n",
              "    40% {\n",
              "      border-color: transparent;\n",
              "      border-right-color: var(--fill-color);\n",
              "      border-top-color: var(--fill-color);\n",
              "    }\n",
              "    60% {\n",
              "      border-color: transparent;\n",
              "      border-right-color: var(--fill-color);\n",
              "    }\n",
              "    80% {\n",
              "      border-color: transparent;\n",
              "      border-right-color: var(--fill-color);\n",
              "      border-bottom-color: var(--fill-color);\n",
              "    }\n",
              "    90% {\n",
              "      border-color: transparent;\n",
              "      border-bottom-color: var(--fill-color);\n",
              "    }\n",
              "  }\n",
              "</style>\n",
              "\n",
              "  <script>\n",
              "    async function quickchart(key) {\n",
              "      const quickchartButtonEl =\n",
              "        document.querySelector('#' + key + ' button');\n",
              "      quickchartButtonEl.disabled = true;  // To prevent multiple clicks.\n",
              "      quickchartButtonEl.classList.add('colab-df-spinner');\n",
              "      try {\n",
              "        const charts = await google.colab.kernel.invokeFunction(\n",
              "            'suggestCharts', [key], {});\n",
              "      } catch (error) {\n",
              "        console.error('Error during call to suggestCharts:', error);\n",
              "      }\n",
              "      quickchartButtonEl.classList.remove('colab-df-spinner');\n",
              "      quickchartButtonEl.classList.add('colab-df-quickchart-complete');\n",
              "    }\n",
              "    (() => {\n",
              "      let quickchartButtonEl =\n",
              "        document.querySelector('#df-e958fe93-e2d5-42c1-83ab-87fb06b76f73 button');\n",
              "      quickchartButtonEl.style.display =\n",
              "        google.colab.kernel.accessAllowed ? 'block' : 'none';\n",
              "    })();\n",
              "  </script>\n",
              "</div>\n",
              "\n",
              "    </div>\n",
              "  </div>\n"
            ],
            "application/vnd.google.colaboratory.intrinsic+json": {
              "type": "dataframe",
              "variable_name": "spam_emails",
              "summary": "{\n  \"name\": \"spam_emails\",\n  \"rows\": 1898,\n  \"fields\": [\n    {\n      \"column\": \"MESSAGE\",\n      \"properties\": {\n        \"dtype\": \"string\",\n        \"num_unique_values\": 1764,\n        \"samples\": [\n          \"<HTML>\\n\\n<body bgcolor=#FFFFFF>\\n\\n<font color=#ff00ff>LIMITED Time OFFER!! <BR>\\n\\n\\n\\n</font>\\n\\n<font color=#ff0066>\\n\\nQuick Perfection Breast Enhancement is proud to offer to you<BR>\\n\\n a safe natural choice to breast enhancement (augmentation) surgery.  <BR>\\n\\nWith such frequent problems as scarring, leaking, un-natural appearance, <BR>\\n\\nloss of nipple area sensitivity, not to mention the physical pain of the <BR>\\n\\nprocedure & final cost, women are seeking and finding alternative methods of <BR>\\n\\nsafe natural breast enhancement.   \\n\\n</FONT>\\n\\n\\n\\n<font color=#009933>\\n\\n\\n\\n<A HREF=http://bustenhancer.co.ukgoodreaper.com@terra.es/personal9/trew07/index5.htm>\\n\\nClick \\n\\nhere to learn more:</a><BR>\\n\\n\\n\\n<font color=#9900ff>\\n\\nAfter many years of medical research and studies, it is now quick, <BR>\\n\\neasy, safe, and virtually inexpensive for you to permanently achieve <BR>\\n\\nthe breast size that you've always wanted! Bigger, firmer breasts That Look and feel all Natural!<BR>\\n\\n\\n\\n\\n\\n<font color=#ff11gg>\\n\\n\\n\\nThis advanced high quality breast enhancement herbal formula has no <BR>\\n\\nknown negative side effects and will stimulate breast growth quickly- while <BR>\\n\\nfirming and tightening. Regardless of your age, size, race, or <BR>\\n\\nphysical condition, you will see amazing results!\\n\\n<BR>\\n\\n\\n\\n\\n\\n<A HREF=http://bustenhancer.co.ukgoodreaper.com@terra.es/personal9/trew07/index5.htm>\\n\\nClick here to learn more Information</a><BR>\\n\\n and read What Major News Organisations Are Saying About <BR>\\n\\nQuick Perfection Breast Enhancement<BR>\\n\\n</FONT>\\n\\n</BODY>\\n\\n</HTML>\\n\\n \\n\\n[W170P118O82W108P95M91C72D77K75X94L82V87T87T89U89U89D72K75]\\n\",\n          \"<\\u001b$B;v6H<T\\u001b(B>\\n\\n\\u001b$B;aL>\\u001b(B:Vip-mail\\n\\n\\u001b$BFMA3$N%a!<%k<:Ni$$$?$7$^$9!#\\u001b(B\\n\\n\\u001b$B:#8e$3$N9-9p$,$4ITMW$JJ}$O$=$N;]$r\\u001b(B\\n\\nstop-vip@e-project-web.com\\n\\n\\u001b$B$^$G$*Aw$j2<$5$$!#\\u001b(B\\n\\n\\n\\n\\u001b$B!y!z!y!z!y!z!y!z!y!z!y!z!y!z!y!z!y!z!y!z!y!z!y!z!y\\u001b(B\\n\\n\\u001b$B\\\"v%j%C%A$J=P2q$$$O\\u001b(BVip-mail\\u001b$B$G\\\"v\\u001b(B\\n\\nVip-mail\\u001b$B$,%O%$%/%i%9$J=P2q$$$r%W%l%<%s%H!y\\u001b(B\\n\\n\\u001b$B7HBS\\u001b(B3\\u001b$B%-%c%j%\\\"$H\\u001b(BPC\\u001b$BBP1~$N=P2q$$%5%$%H\\\"v\\u001b(B\\n\\n\\u001b$B:#$^$G$N=P2q$$%5%$%H$KK0$-$??M\\u001b(B!\\n\\n\\u001b$B=P2q$$$OM_$7$$$1$I%5%$%H$r;H$&$N$O$HLB$C$F$k?M\\u001b(B!\\n\\n\\u001b$B:#D>$0\\u001b(BVip-mail\\u001b$B$K\\u001b(BGo!!!!!\\n\\nhttp://www.vip-jp.net/?sid=2\\n\\n\\u001b$B=w@-L5NA$OEv$?$jA0\\u001b(B!?\\n\\n\\u001b$BCK@-$K$O$*;n$7%]%$%s%H\\u001b(B50pt\\u001b$B%W%l%<%s%H!y\\u001b(B\\n\\n\\u001b$B=w@-$O%j%C%A$JCK@-$r\\u001b(BGET\\u001b$B$7$h$&\\u001b(Bo(\\u001b$B!f\\\"`!e\\u001b(B)o\\n\\n\\u001b$BCK@-$O$*;n$7%]%$%s%H5$$KF~$C$?L<$r8+$D$1$h$&\\u001b(B(\\u001b$B\\\"`!c\\u001b(B)b\\n\\n\\u001b$B=P2q$$$r5a$a$k$J$i\\u001b(BVip-mail\\u001b$B$K:#D>$0%\\\"%/%;%9\\u001b(B\\n\\n\\u001b$B\\\"-\\\"-\\\"-\\\"-\\\"-\\\"-\\\"-\\\"-\\\"-\\\"-\\\"-\\\"-\\\"-\\\"-\\u001b(B\\n\\nhttp://www.vip-jp.net/?sid=2\\n\\n\\u001b$B!y!z!y!z!y!z!y!z!y!z!y!z!y!z!y!z!y!z!y!z!y!z!y!z!y\\u001b(B\\n\\n\\n\\n\\u001b$BFMA3$N%a!<%k<:Ni$$$?$7$^$7$?!#\\u001b(B\\n\\n\\u001b$B:#8e$3$N9-9p$,$4ITMW$JJ}!\\\"G[?.Dd;_$r4uK>$5$l$kJ}$O$=$N;]$r\\u001b(B\\n\\nstop-vip@e-project-web.com\\n\\n\\u001b$B$^$G$*Aw$j2<$5$$\\u001b(B\\n\",\n          \"THIS E-MAIL AD IS BEING SENT IN FULL COMPLIANCE WITH U.S. SENATE BILL 1618, TITLE #3, SECTION 301\\n\\n\\n\\nTO REMOVE YOURSELF SEND A BLANK E-MAIL TO:removal992002@yahoo.com\\n\\n\\n\\nHi,\\n\\n\\n\\nYou most likely have seen or heard about \\n\\n\\\"The Letter\\\" $5.00 Paypal Program\\\" that has been seen lately \\n\\non 20/20 and OPRAH WINFREY...etc... How would you like \\n\\nto generate more income through a different avenue? What \\n\\nif it took only an hour to set it up? Even if you are already in another \\n\\nprogram, stay with it, but do yourself a favor and DO THIS ONE as well. \\n\\nThere \\n\\nis NO LIMIT to the income you can generate from this business!!\\n\\n\\n\\nTHE FACTS ARE SIMPLE;- IF YOU NEED TO MAKE A FEW\\n\\nTHOUSAND DOLLARS REALLY FAST, THEN THIS PROGRAM I'M GOING TO SHARE WITH \\n\\nYOU \\n\\nIS THE WAY TO DO IT! IT'S THE FASTEST, EASIEST PROGRAM YOU WILL EVER DO!!!\\n\\n\\n\\nHere's something which (I trust) will be of interest\\n\\nto you! Please read all of this. This is not something \\n\\nthat I would normally look at, except that I read an \\n\\narticle in the Wall Street Journal on 6/16/2001 about \\n\\nPayPal and, when I came across this concept I knew it \\n\\nwould work because, as a member of Pay Pal, I had\\n\\nalready experienced their efficiency and good standing. \\n\\nYou can complete this whole process in one hour and you \\n\\nwill never forget the day you decided to do so!!! Oh! \\n\\nDid I say FAST? By fast I mean 'the speed of the \\n\\nInternet-type fast.' Everything is done on the\\n\\nInternet by E-mail.\\n\\n\\n\\nNEED PROOF? Here are just two testimonials from\\n\\nindividuals who decided to invest nothing more than a \\n\\nlittle of their time.\\n\\n\\n\\nTESTIMONIALS FROM:\\n\\n\\n\\nTony Stevens, Vandenberg AFB, CA:\\n\\nHey! I got your e-mail! YOU ROCK! I sent it to all of\\n\\nour frat brothers.....and while I haven't seen my $20 \\n\\ngrand yet, I'm up to $8,285. Hook me up when you run \\n\\nthis program again........\\n\\n\\n\\nMary Gathers, Columbia, SC:\\n\\nHey cuz! This is Mary. I only have one thing to say to\\n\\nyou... OH MY GOD! I sent 20 e-mail's out like you said \\n\\nand went on vacation. When I got back, my account was \\n\\nup to over $12,000! I owe you!\\n\\n\\n\\nGETTING STARTED.\\n\\n\\n\\nIf you're not already a user, the very first thing you\\n\\nneed to do is go to PayPal and sign up. It takes two minutes \\n\\nand PayPal will deposit $5.00 in your account. That makes this \\n\\nprogram FREE!\\n\\n\\n\\nHere's the link:\\n\\n\\n\\nhttps://www.paypal.com/refer/pal=larryspaypal%40yahoo.com\\n\\n\\n\\nBE SURE TO SIGN UP FOR A PREMIER (FREE) ACCOUNT! OR YOU'LL BE LIMITED TO \\n\\n$100 \\n\\nDOLLARS ONLY!!! YOU WILL MAKE MUCH MORE THAN THIS!!!\\n\\n\\n\\nThen...... E-mail $5.00 from your PayPal account ($5.00 free) \\n\\nto the FIRST name on the list (No.1) along with a little note\\n\\nlike \\\"Please add me to your mailing list.\\\" BE PREPARED TO GET\\n\\nEXCITED.... YOU \\n\\nWON'T BE DISAPPOINTED!!! Don't laugh! Try this while you wait for the \\n\\nothers \\n\\nto start working. One hour of work to get started - no mailing lists. No \\n\\nprinting, copying or waiting and the concept is 100% legal (refer to US \\n\\nPostal and \\n\\nLottery Laws, Title 18, Section 1302 and 1341, or Title 18, \\n\\nSection 3005 in the US code, also in the code of Federal \\n\\nRegulations, Volume 16, Sections 255 and 436, which state a \\n\\nproduct or service must be exchanged for money received). \\n\\n\\n\\nHere's How It Works. Unlike many other programs, this \\n\\nTHREE LEVEL PROGRAM is more realistic and much, much\\n\\nfaster. Because it is so easy, the response rate is VERY \\n\\nHIGH, VERY FAST-Internet E-mail FAST-and you will see \\n\\nresults in just two weeks or less! JUST IN TIME FOR NEXT \\n\\nMONTHS BILLS! You need only mail out 20 copies (not 200 \\n\\nor more as in other programs). Ideally, you should\\n\\nsend them to people who send their programs to you or to \\n\\npersonal contacts who are already working on the web, \\n\\nbecause they know these programs work and they are already \\n\\nbelievers in the system! Besides, this program is \\n\\nMUCH, MUCH FASTER and has a HIGHER RESPONSE RATE! Even if you are already \\n\\nin \\n\\nanother program, stay with it, but do\\n\\nyourself a favor and DO THIS ONE as well. START RIGHT NOW! \\n\\n\\n\\nIt's simple and will only cost $5.00 max. It will pay off long \\n\\nbefore others even begin to receive letters! Just give ONE \\n\\nperson a $5.00 gift (REMEMBER THOUGH, this $5.00 is the $5.00 YOU GET \\n\\nWHEN \\n\\nYOU SIGN UP FOR YOUR new PayPal account). That's all! If you already have \\n\\na \\n\\nPayPal account and do not receive the $5.00, feel free to donate a $5.00 \\n\\nGIFT \\n\\nto\\n\\nthe person in the No.1 spot and add your name on the list \\n\\nat No.3 position having moved up the remaining two. Follow \\n\\nthe simple instructions and in two weeks you will have $20,000 \\n\\nin your bank account!\\n\\n\\n\\nBecause of the VIRTUALLY ZERO INVESTMENT, SPEED and HIGH PROFIT \\n\\nPOTENTIAL, \\n\\nthis program has a VERY HIGH RESPONSE RATE! All from just one $5.00 \\n\\ntransaction that you get from PayPal!!!\\n\\n\\n\\nFollow These Simple Instructions: \\n\\n\\n\\nE-mail the $5.00 from your Paypal account to the FIRST \\n\\nname on the list (No.1) along with a note saying \\n\\n\\\"subscribe me to your mailing list\\\". Only the first \\n\\nperson on the list gets your name and $5.00 gift. \\n\\n\\n\\nEdit the list, removing the FIRST (No.1) NAME FROM THE LIST. Move the \\n\\nother \\n\\ntwo names UP and ADD YOUR NAME. Don't try to add your name in the first \\n\\nplace \\n\\nin order to earn money fast! \\n\\nIf you do that, you will ONLY reach people you send e-\\n\\nmail to then your name will be immediately removed\\n\\nfrom the No.1 place and you can't reach more people! But if \\n\\nyou add your name on the No.3 place, there will be tons of \\n\\npeople receiving e-mail's later and when your name is No.1!!! \\n\\n\\n\\nNOTE: Do not forget to replace the PayPal referring URL in \\n\\nthe body of the letter with your own PayPal referring URL. \\n\\nSend out 20 copies (minimum) of this letter.\\n\\n\\n\\nALSO NOTE: By sending this letter and the payment via E-MAIL, the \\n\\nresponse \\n\\ntime is much faster... ELECTRONIC TRANSFER INTERNET FAST! \\n\\n\\n\\nConsider this! Millions of people surf the Internet\\n\\neveryday, all day, all over the world! Here are the 3 people \\n\\nto start with. Sign up, send $5.00 to the first person, move \\n\\nthe other two up to Nos 1 & 2 respectively and add your own \\n\\ne-mail address at No.3. Be sure to use your email address that is \\n\\nassociated \\n\\nwith your PayPal account.\\n\\n\\n\\n*************************************\\n\\n\\n\\n1.  csreddy3@rediffmail.com\\n\\n\\n\\n2.  tomk4@prodigy.net\\n\\n\\n\\n3.  larryspaypal@yahoo.com \\n\\n\\n\\n*************************************\\n\\n\\n\\nThere are fifty thousand new people who get on the\\n\\nInternet every month! An excellent source ofemail addresses \\n\\nis the people who send you offers by email.\\n\\nThe source is UNLIMITED! It boggles my mind to\\n\\nthink of all the possibilities! Mail, or should I \\n\\nsay 'E-mail', your letter and payment TODAY! It's \\n\\nso easy. One hour of your time, THAT'S IT!\\n\\nTo send your letter by e-mail, copy this ENTIRE PAGE\\n\\nand paste it in the message of your E-mail. \\n\\n\\n\\nTO DO THIS:\\n\\n1. Go in your toolbar to \\\"edit\\\" and \\\"select all\\\"\\n\\n2. Go in your toolbar to \\\"edit\\\" and select \\\"copy\\\"\\n\\n3. Start (compose) a new E-mail message (make sure\\n\\nit's PLAIN TEXT so everyone can view it!)\\n\\n4. Fill in your Address and Subject Box\\n\\n5. Go to \\\"edit\\\" and \\\"paste\\\" (Then you can format it\\n\\nanyway you want!)\\n\\n\\n\\n\\n\\nNow you can edit the addresses with ease. Delete the\\n\\ntop name, adding your name and address to the bottom \\n\\nof the list, then simply changing the numbers. Remember, \\n\\nYOUR NAME goes on the BOTTOM and the other 2 names move up. But DO NOT \\n\\nforget \\n\\nto send $5.00 via PayPal (along \\n\\nwith your note) to the position #1 - TOP E-MAIL\\n\\naddress before deleting it!\\n\\n\\n\\nNOTE: Be sure to replace the PayPal referring URL in\\n\\nthis e-mail of the letter with your own PayPal \\n\\nreferring URL;\\n\\n\\n\\n\\n\\nhttps://www.paypal.com/refer/pal=larryspaypal%40yahoo.com\\n\\n\\n\\n\\n\\nTHERE'S NOTHING MORE TO DO.\\n\\nWhen your name reaches the first position in a few\\n\\ndays, it will be your turn to collect your MONEY!\\n\\nThe money will be sent to you by 2,000 to 4,000 people\\n\\nlike yourself, who are willing to invest one hour to \\n\\nreceive $20,000 in cash! That's all! There will be a \\n\\ntotal of $20,000 in $5.00 bills in your mailbox (account) \\n\\nin two weeks. $20,000 for one hour's work! This is \\n\\nreal money that you can spend on anything you wish!\\n\\nJust deposit it to your own bank account or spend it \\n\\ndirectly from your PayPal account!!! It's just that \\n\\neasy!!! I think it's WORTH IT, don't you?\\n\\n\\n\\nGO AHEAD--- TRY IT!!! EVEN IF YOU MAKE JUST 3 OR 4\\n\\nTHOUSAND, WOULDN'T THAT BE NICE?\\n\\n\\n\\nIF YOU TRY IT, IT WILL PAY! CAN YOU DO IT AGAIN? OF\\n\\nCOURSE YOU CAN---\\n\\n\\n\\nThis plan is structured for everyone to send only 20\\n\\nletters each. However, you are certainly not limited \\n\\nto 20. Mail out as many as you want. Every 20 letters \\n\\nyou send has a return of $20,000 or more. If you can \\n\\nE-MAIL forty, sixty, eighty, or whatever, GO FOR IT! \\n\\nTHE MORE YOU PUT INTO IT THE MORE YOU GET OUT OF IT! Each time you run \\n\\nthis \\n\\nprogram, just follow steps 1\\n\\nthrough 3 and everyone on your gift list benefits! \\n\\nSimple enough? You bet it is! Besides, there are no \\n\\nmailing lists to buy (and wait for), and trips to the \\n\\nprinter or copier, and you can do it again and again \\n\\nwith your regular groups or gift givers, or start up \\n\\na new group. Be SURE and PAY the first person on the \\n\\nlist. This is proof that you paid to get put on the \\n\\nlist which is the service rendered to make all this \\n\\nlegal!!! Why not? It's working! Each time you receive \\n\\nan MLM offer, respond with this letter! Your name will \\n\\nclimb to the number one position at dizzying rates. \\n\\nFollow the simple instructions, and above all, PLEASE \\n\\nPLAY FAIR. That's the key to this program's success. \\n\\nYour name must run the full gamut on the list to produce \\n\\nthe end results. Sneaking your name higher up on the list \\n\\nWILL NOT produce the results you think, and it only cheats \\n\\nthe other people who have worked hard and have earned the \\n\\nright to be there. So please, play by the rules and the \\n\\n$$$ will come to you!\\n\\n$$$ E-MAIL YOUR LETTERS OUT TODAY! Together we will \\n\\nprosper! $$$ You are probably skeptical of this, \\n\\nespecially with all the different programs out there \\n\\non the web, but if you don't try this you will \\n\\nnever know. That's the way I felt. I'm glad I did it!\\n\\nI've been watching this type of program for years and\\n\\nthis is about as easy and fast as you can get it and \\n\\nit can even be free to try now with Pay Pal, no stamps, \\n\\nno envelopes, no copies to be made - just a little effort \\n\\nand faith!!! This program really \\\"Keeps It Short and Simple\\\"! \\n\\n\\n\\nOH BY THE WAY....each time someone signs up with your link \\n\\nunder your name... you also make $5.00 from PayPal...\\n\\nso they pay to open up the account but they also pay you when \\n\\nsomeone signs up from being referred by you. AWESOME! \\n\\nLet's all make some serious money \\n\\n$$$$$$\\n\\n\\n\\nCLICK HERE TO BEGIN:\\n\\n\\n\\nhttps://www.paypal.com/refer/pal=larryspaypal%40yahoo.com\\n\\n\\n\\nPlay by the rules, this doesn't cost anything but your\\n\\ntime, and if everyone plays fair everyone WINS.\\n\\n\\n\\n\\n\\nFOLLOWING ARE SOME NOTES ABOUT PayPal WHICH YOU MAY FIND HELPFUL:PayPal \\n\\nlets \\n\\nyou pay anyone with an e-mail address and is the world's No.1 online \\n\\npayment \\n\\nservice - it's accepted on over 3 million eBay T auctions and thousands \\n\\nand \\n\\nthousands of online shops. You can also use PayPal to \\n\\npay your friends - example; it's a convenient way to \\n\\nsplit the phone bill with your roommate, send cash to your kids in \\n\\ncollege,or \\n\\nsend cash to someone in another country. Better yet, you can also \\n\\nearn $5 while you do it. Each time someone signs up for an account and \\n\\ncompletes the Refer-a-Friend requirements, we'll give you a $5 BONUS! \\n\\nWhen \\n\\nyou send money through Pay Pal, you can fund your payments with your \\n\\ncredit \\n\\ncard or checking account. You won't have to worry about your privacy, \\n\\nbecause \\n\\nPayPal keeps your accounting information safe. Making a purchase with \\n\\nPayPal \\n\\nis more secure than mailing a check or giving your credit card number to \\n\\na \\n\\nstranger. That's why over 9 million people from around the world use \\n\\nPayPal \\n\\nto move money.\\n\\nSigning up for a PayPal account is easy. It takes only\\n\\na couple of minutes and, if you complete the bonus \\n\\nrequirements PayPal will automatically add $5 to your \\n\\naccount balance. To learn more about PayPal visit the \\n\\nweb site at\\n\\n\\n\\nhttps://www.paypal.com/refer/pal=larryspaypal%40yahoo.com\\n\\n\\n\\n\\\"Best of the Web\\\" -Forbes\\n\\n\\\"Using the service is actually safer than a check or\\n\\nmoney order\\\"- Wall Street Journal\\n\\n\\n\\n\\n\\n\\\"PayPal can play a major role in your life. You can\\n\\nuse it to pay for stuff at auction sites, settle \\n\\ndinner debts with friends or nudge your cousin to \\n\\nrepay that $50 he borrowed at the family reunion.- Time\\n\\n\\n\\n\\n\\nPS. Does this sound too good? Well maybe to some skeptics it\\n\\nis. But it actually works, and is worth \\n\\nthe few minutes of your time now. \\n\\nP.S.S. If You Decide to Join in on this Venture Please Return a blank \\n\\nemail \\n\\nto the last email address on the list (#3) with \\\"Thanks, I'll Join\\\" in\\n\\nthe \\n\\nsubject line. This Helps everyone keep track of their progress. You Will \\n\\nNot \\n\\nbe added to My Email List\\n\\n\\n\\n\\n\\n\\n\\nofsknxxdqgtgqvsoiytkivajvtj\\n\"\n        ],\n        \"semantic_type\": \"\",\n        \"description\": \"\"\n      }\n    },\n    {\n      \"column\": \"CATEGORY\",\n      \"properties\": {\n        \"dtype\": \"number\",\n        \"std\": 0,\n        \"min\": 1,\n        \"max\": 1,\n        \"num_unique_values\": 1,\n        \"samples\": [\n          1\n        ],\n        \"semantic_type\": \"\",\n        \"description\": \"\"\n      }\n    }\n  ]\n}"
            }
          },
          "metadata": {},
          "execution_count": 98
        }
      ]
    },
    {
      "cell_type": "code",
      "source": [
        "spam_emails.shape"
      ],
      "metadata": {
        "colab": {
          "base_uri": "https://localhost:8080/"
        },
        "id": "CDbcE9DmHNac",
        "outputId": "34d39f3b-263e-4945-e40a-661716856966"
      },
      "execution_count": 99,
      "outputs": [
        {
          "output_type": "execute_result",
          "data": {
            "text/plain": [
              "(1898, 2)"
            ]
          },
          "metadata": {},
          "execution_count": 99
        }
      ]
    },
    {
      "cell_type": "code",
      "source": [
        "ham_emails = df_from_directory(EASY_NONSPAM_1_PATH, 0)\n",
        "ham_emails = pd.concat([ham_emails, df_from_directory(EASY_NONSPAM_2_PATH, 0)])\n",
        "ham_emails.shape"
      ],
      "metadata": {
        "colab": {
          "base_uri": "https://localhost:8080/"
        },
        "id": "SXP7ccqhITmC",
        "outputId": "0b8f1b87-4d7a-47a8-9b1d-1d2c78f241f3"
      },
      "execution_count": 100,
      "outputs": [
        {
          "output_type": "execute_result",
          "data": {
            "text/plain": [
              "(3901, 2)"
            ]
          },
          "metadata": {},
          "execution_count": 100
        }
      ]
    },
    {
      "cell_type": "code",
      "source": [
        "data = pd.concat([spam_emails, ham_emails])\n",
        "print('Shape of entire DataFrame is:', data.shape)\n",
        "data.head()"
      ],
      "metadata": {
        "colab": {
          "base_uri": "https://localhost:8080/",
          "height": 223
        },
        "id": "7aaDO7TLIfEj",
        "outputId": "eb339777-6347-4c51-e02c-6a3d162d35a6"
      },
      "execution_count": 101,
      "outputs": [
        {
          "output_type": "stream",
          "name": "stdout",
          "text": [
            "Shape of entire DataFrame is: (5799, 2)\n"
          ]
        },
        {
          "output_type": "execute_result",
          "data": {
            "text/plain": [
              "                                                                                  MESSAGE  \\\n",
              "00333.4bb36a535cb3d738f30f985f1e10a786  ------000000000000000000000\\n\\nContent-Type: t...   \n",
              "00160.cec5f611ae665ff0add6c4928d47f2be  FREE 30 day supply of HGH 1000:\\n\\nLook Younge...   \n",
              "00240.2ff7f745285653a238214d975859406b  \\n\\nDear Sir or Madam\\n\\n\\n\\nIn the past you h...   \n",
              "00438.41295e1df4b651b7611316331b8468e4  Dear Homeowner,\\n\\n \\n\\nInterest Rates are at ...   \n",
              "00425.1434e0ab4e5235b64825b4c2a0999d76  <HTML><HEAD><TITLE>Hi i'm Rita !!!</TITLE>\\n\\n...   \n",
              "\n",
              "                                        CATEGORY  \n",
              "00333.4bb36a535cb3d738f30f985f1e10a786         1  \n",
              "00160.cec5f611ae665ff0add6c4928d47f2be         1  \n",
              "00240.2ff7f745285653a238214d975859406b         1  \n",
              "00438.41295e1df4b651b7611316331b8468e4         1  \n",
              "00425.1434e0ab4e5235b64825b4c2a0999d76         1  "
            ],
            "text/html": [
              "\n",
              "  <div id=\"df-e0b9faa3-e7db-4d65-9078-79c9759042ec\" class=\"colab-df-container\">\n",
              "    <div>\n",
              "<style scoped>\n",
              "    .dataframe tbody tr th:only-of-type {\n",
              "        vertical-align: middle;\n",
              "    }\n",
              "\n",
              "    .dataframe tbody tr th {\n",
              "        vertical-align: top;\n",
              "    }\n",
              "\n",
              "    .dataframe thead th {\n",
              "        text-align: right;\n",
              "    }\n",
              "</style>\n",
              "<table border=\"1\" class=\"dataframe\">\n",
              "  <thead>\n",
              "    <tr style=\"text-align: right;\">\n",
              "      <th></th>\n",
              "      <th>MESSAGE</th>\n",
              "      <th>CATEGORY</th>\n",
              "    </tr>\n",
              "  </thead>\n",
              "  <tbody>\n",
              "    <tr>\n",
              "      <th>00333.4bb36a535cb3d738f30f985f1e10a786</th>\n",
              "      <td>------000000000000000000000\\n\\nContent-Type: t...</td>\n",
              "      <td>1</td>\n",
              "    </tr>\n",
              "    <tr>\n",
              "      <th>00160.cec5f611ae665ff0add6c4928d47f2be</th>\n",
              "      <td>FREE 30 day supply of HGH 1000:\\n\\nLook Younge...</td>\n",
              "      <td>1</td>\n",
              "    </tr>\n",
              "    <tr>\n",
              "      <th>00240.2ff7f745285653a238214d975859406b</th>\n",
              "      <td>\\n\\nDear Sir or Madam\\n\\n\\n\\nIn the past you h...</td>\n",
              "      <td>1</td>\n",
              "    </tr>\n",
              "    <tr>\n",
              "      <th>00438.41295e1df4b651b7611316331b8468e4</th>\n",
              "      <td>Dear Homeowner,\\n\\n \\n\\nInterest Rates are at ...</td>\n",
              "      <td>1</td>\n",
              "    </tr>\n",
              "    <tr>\n",
              "      <th>00425.1434e0ab4e5235b64825b4c2a0999d76</th>\n",
              "      <td>&lt;HTML&gt;&lt;HEAD&gt;&lt;TITLE&gt;Hi i'm Rita !!!&lt;/TITLE&gt;\\n\\n...</td>\n",
              "      <td>1</td>\n",
              "    </tr>\n",
              "  </tbody>\n",
              "</table>\n",
              "</div>\n",
              "    <div class=\"colab-df-buttons\">\n",
              "\n",
              "  <div class=\"colab-df-container\">\n",
              "    <button class=\"colab-df-convert\" onclick=\"convertToInteractive('df-e0b9faa3-e7db-4d65-9078-79c9759042ec')\"\n",
              "            title=\"Convert this dataframe to an interactive table.\"\n",
              "            style=\"display:none;\">\n",
              "\n",
              "  <svg xmlns=\"http://www.w3.org/2000/svg\" height=\"24px\" viewBox=\"0 -960 960 960\">\n",
              "    <path d=\"M120-120v-720h720v720H120Zm60-500h600v-160H180v160Zm220 220h160v-160H400v160Zm0 220h160v-160H400v160ZM180-400h160v-160H180v160Zm440 0h160v-160H620v160ZM180-180h160v-160H180v160Zm440 0h160v-160H620v160Z\"/>\n",
              "  </svg>\n",
              "    </button>\n",
              "\n",
              "  <style>\n",
              "    .colab-df-container {\n",
              "      display:flex;\n",
              "      gap: 12px;\n",
              "    }\n",
              "\n",
              "    .colab-df-convert {\n",
              "      background-color: #E8F0FE;\n",
              "      border: none;\n",
              "      border-radius: 50%;\n",
              "      cursor: pointer;\n",
              "      display: none;\n",
              "      fill: #1967D2;\n",
              "      height: 32px;\n",
              "      padding: 0 0 0 0;\n",
              "      width: 32px;\n",
              "    }\n",
              "\n",
              "    .colab-df-convert:hover {\n",
              "      background-color: #E2EBFA;\n",
              "      box-shadow: 0px 1px 2px rgba(60, 64, 67, 0.3), 0px 1px 3px 1px rgba(60, 64, 67, 0.15);\n",
              "      fill: #174EA6;\n",
              "    }\n",
              "\n",
              "    .colab-df-buttons div {\n",
              "      margin-bottom: 4px;\n",
              "    }\n",
              "\n",
              "    [theme=dark] .colab-df-convert {\n",
              "      background-color: #3B4455;\n",
              "      fill: #D2E3FC;\n",
              "    }\n",
              "\n",
              "    [theme=dark] .colab-df-convert:hover {\n",
              "      background-color: #434B5C;\n",
              "      box-shadow: 0px 1px 3px 1px rgba(0, 0, 0, 0.15);\n",
              "      filter: drop-shadow(0px 1px 2px rgba(0, 0, 0, 0.3));\n",
              "      fill: #FFFFFF;\n",
              "    }\n",
              "  </style>\n",
              "\n",
              "    <script>\n",
              "      const buttonEl =\n",
              "        document.querySelector('#df-e0b9faa3-e7db-4d65-9078-79c9759042ec button.colab-df-convert');\n",
              "      buttonEl.style.display =\n",
              "        google.colab.kernel.accessAllowed ? 'block' : 'none';\n",
              "\n",
              "      async function convertToInteractive(key) {\n",
              "        const element = document.querySelector('#df-e0b9faa3-e7db-4d65-9078-79c9759042ec');\n",
              "        const dataTable =\n",
              "          await google.colab.kernel.invokeFunction('convertToInteractive',\n",
              "                                                    [key], {});\n",
              "        if (!dataTable) return;\n",
              "\n",
              "        const docLinkHtml = 'Like what you see? Visit the ' +\n",
              "          '<a target=\"_blank\" href=https://colab.research.google.com/notebooks/data_table.ipynb>data table notebook</a>'\n",
              "          + ' to learn more about interactive tables.';\n",
              "        element.innerHTML = '';\n",
              "        dataTable['output_type'] = 'display_data';\n",
              "        await google.colab.output.renderOutput(dataTable, element);\n",
              "        const docLink = document.createElement('div');\n",
              "        docLink.innerHTML = docLinkHtml;\n",
              "        element.appendChild(docLink);\n",
              "      }\n",
              "    </script>\n",
              "  </div>\n",
              "\n",
              "\n",
              "<div id=\"df-06454bcf-73e6-4506-913a-49e583f2789c\">\n",
              "  <button class=\"colab-df-quickchart\" onclick=\"quickchart('df-06454bcf-73e6-4506-913a-49e583f2789c')\"\n",
              "            title=\"Suggest charts\"\n",
              "            style=\"display:none;\">\n",
              "\n",
              "<svg xmlns=\"http://www.w3.org/2000/svg\" height=\"24px\"viewBox=\"0 0 24 24\"\n",
              "     width=\"24px\">\n",
              "    <g>\n",
              "        <path d=\"M19 3H5c-1.1 0-2 .9-2 2v14c0 1.1.9 2 2 2h14c1.1 0 2-.9 2-2V5c0-1.1-.9-2-2-2zM9 17H7v-7h2v7zm4 0h-2V7h2v10zm4 0h-2v-4h2v4z\"/>\n",
              "    </g>\n",
              "</svg>\n",
              "  </button>\n",
              "\n",
              "<style>\n",
              "  .colab-df-quickchart {\n",
              "      --bg-color: #E8F0FE;\n",
              "      --fill-color: #1967D2;\n",
              "      --hover-bg-color: #E2EBFA;\n",
              "      --hover-fill-color: #174EA6;\n",
              "      --disabled-fill-color: #AAA;\n",
              "      --disabled-bg-color: #DDD;\n",
              "  }\n",
              "\n",
              "  [theme=dark] .colab-df-quickchart {\n",
              "      --bg-color: #3B4455;\n",
              "      --fill-color: #D2E3FC;\n",
              "      --hover-bg-color: #434B5C;\n",
              "      --hover-fill-color: #FFFFFF;\n",
              "      --disabled-bg-color: #3B4455;\n",
              "      --disabled-fill-color: #666;\n",
              "  }\n",
              "\n",
              "  .colab-df-quickchart {\n",
              "    background-color: var(--bg-color);\n",
              "    border: none;\n",
              "    border-radius: 50%;\n",
              "    cursor: pointer;\n",
              "    display: none;\n",
              "    fill: var(--fill-color);\n",
              "    height: 32px;\n",
              "    padding: 0;\n",
              "    width: 32px;\n",
              "  }\n",
              "\n",
              "  .colab-df-quickchart:hover {\n",
              "    background-color: var(--hover-bg-color);\n",
              "    box-shadow: 0 1px 2px rgba(60, 64, 67, 0.3), 0 1px 3px 1px rgba(60, 64, 67, 0.15);\n",
              "    fill: var(--button-hover-fill-color);\n",
              "  }\n",
              "\n",
              "  .colab-df-quickchart-complete:disabled,\n",
              "  .colab-df-quickchart-complete:disabled:hover {\n",
              "    background-color: var(--disabled-bg-color);\n",
              "    fill: var(--disabled-fill-color);\n",
              "    box-shadow: none;\n",
              "  }\n",
              "\n",
              "  .colab-df-spinner {\n",
              "    border: 2px solid var(--fill-color);\n",
              "    border-color: transparent;\n",
              "    border-bottom-color: var(--fill-color);\n",
              "    animation:\n",
              "      spin 1s steps(1) infinite;\n",
              "  }\n",
              "\n",
              "  @keyframes spin {\n",
              "    0% {\n",
              "      border-color: transparent;\n",
              "      border-bottom-color: var(--fill-color);\n",
              "      border-left-color: var(--fill-color);\n",
              "    }\n",
              "    20% {\n",
              "      border-color: transparent;\n",
              "      border-left-color: var(--fill-color);\n",
              "      border-top-color: var(--fill-color);\n",
              "    }\n",
              "    30% {\n",
              "      border-color: transparent;\n",
              "      border-left-color: var(--fill-color);\n",
              "      border-top-color: var(--fill-color);\n",
              "      border-right-color: var(--fill-color);\n",
              "    }\n",
              "    40% {\n",
              "      border-color: transparent;\n",
              "      border-right-color: var(--fill-color);\n",
              "      border-top-color: var(--fill-color);\n",
              "    }\n",
              "    60% {\n",
              "      border-color: transparent;\n",
              "      border-right-color: var(--fill-color);\n",
              "    }\n",
              "    80% {\n",
              "      border-color: transparent;\n",
              "      border-right-color: var(--fill-color);\n",
              "      border-bottom-color: var(--fill-color);\n",
              "    }\n",
              "    90% {\n",
              "      border-color: transparent;\n",
              "      border-bottom-color: var(--fill-color);\n",
              "    }\n",
              "  }\n",
              "</style>\n",
              "\n",
              "  <script>\n",
              "    async function quickchart(key) {\n",
              "      const quickchartButtonEl =\n",
              "        document.querySelector('#' + key + ' button');\n",
              "      quickchartButtonEl.disabled = true;  // To prevent multiple clicks.\n",
              "      quickchartButtonEl.classList.add('colab-df-spinner');\n",
              "      try {\n",
              "        const charts = await google.colab.kernel.invokeFunction(\n",
              "            'suggestCharts', [key], {});\n",
              "      } catch (error) {\n",
              "        console.error('Error during call to suggestCharts:', error);\n",
              "      }\n",
              "      quickchartButtonEl.classList.remove('colab-df-spinner');\n",
              "      quickchartButtonEl.classList.add('colab-df-quickchart-complete');\n",
              "    }\n",
              "    (() => {\n",
              "      let quickchartButtonEl =\n",
              "        document.querySelector('#df-06454bcf-73e6-4506-913a-49e583f2789c button');\n",
              "      quickchartButtonEl.style.display =\n",
              "        google.colab.kernel.accessAllowed ? 'block' : 'none';\n",
              "    })();\n",
              "  </script>\n",
              "</div>\n",
              "\n",
              "    </div>\n",
              "  </div>\n"
            ],
            "application/vnd.google.colaboratory.intrinsic+json": {
              "type": "dataframe",
              "variable_name": "data",
              "summary": "{\n  \"name\": \"data\",\n  \"rows\": 5799,\n  \"fields\": [\n    {\n      \"column\": \"MESSAGE\",\n      \"properties\": {\n        \"dtype\": \"string\",\n        \"num_unique_values\": 5626,\n        \"samples\": [\n          \"Problem with spamtrap\\n\\n/home/yyyy/lib/spamtrap.sh: /home/yyyy/ftp/spamassassin/spamassassin: No such file or directory\\n\\n\\n\\n\\n\",\n          \"<=21DOCTYPE HTML PUBLIC =22-//W3C//DTD HTML 4.0 Transitional//EN=22>\\n\\n<HTML><HEAD><TITLE></TITLE>\\n\\n<META http-equiv=3DContent-Type content=3D=22text/html; charset=3Dwindows-1=\\n\\n252=22>\\n\\n<STYLE>A:link =7B\\n\\n    TEXT-DECORATION: none\\n\\n=7D\\n\\nA:active =7B\\n\\n    TEXT-DECORATION: none\\n\\n=7D\\n\\nA:visited =7B\\n\\n    TEXT-DECORATION: none\\n\\n=7D\\n\\nA:hover =7B\\n\\n    COLOR: =230033ff; TEXT-DECORATION: underline\\n\\n=7D\\n\\n</STYLE>\\n\\n\\n\\n<META content=3D=22MSHTML 6.00.2713.1100=22 name=3DGENERATOR></HEAD>\\n\\n<BODY text=3D=23000000 vLink=3D=230033ff link=3D=230033ff bgColor=3D=23ffffff>\\n\\n<TABLE borderColor=3D=233366cc cellSpacing=3D4 cellPadding=3D15 border=3D4>\\n\\n  \\n\\n  <TR>\\n\\n    <TD bgColor=3D=233366cc>\\n\\n      <DIV align=3Dcenter><FONT face=3D=22arial, helvetica=22 color=3D=23ffff=\\n\\nff><FONT size=3D6><B>For \\n\\n      Immediate Release</B><BR></DIV></FONT></FONT></TD></TR>\\n\\n  <TR>\\n\\n    <TD>\\n\\n      <P><FONT face=3D=22arial, helvetica=22 color=3D=23000000 size=3D3><FONT=\\n\\n \\n\\n      size=3D2><STRONG>Cal-Bay (Stock Symbol:&nbsp;CBYI) \\n\\n      </STRONG>Watch for analyst =22Strong Buy Recommendations=22 and sev=\\n\\neral advisory \\n\\n      newsletters picking CBYI.&nbsp;&nbsp; CBYI has filed to be traded=\\n\\n on \\n\\n      the&nbsp;OTCBB, share prices historically INCREASE when companies=\\n\\n get \\n\\n      listed on this larger trading&nbsp;exhange. CBYI is trading aroun=\\n\\nd =24.30=A2 \\n\\n      and should skyrocket to =242.66 - =243.25 a share in the near futur=\\n\\ne. &nbsp; \\n\\n      <STRONG>Put CBYI on your watch list, acquire a postion</STRONG> \\n\\n      </FONT><FONT size=3D2><STRONG>TODAY.</STRONG> </FONT></FONT></P><F=\\n\\nONT \\n\\n      face=3D=22arial, helvetica=22 color=3D=23000000 size=3D3><FONT size=3D2>=\\n\\n\\n\\n      <P><B>REASONS TO INVEST IN CBYI</B> \\n\\n      <LI>A profitable company, NO DEBT and is on track to beat ALL ear=\\n\\nnings \\n\\n      estimates with<FONT size=3D2> increased revenue of 50% annually=21 =\\n\\n</FONT>\\n\\n      <LI>One of the FASTEST growing distributors in environmental &amp=\\n\\n; safety \\n\\n      equipment instruments. \\n\\n      <LI></FONT><FONT size=3D2>Excellent management team, several EXCLU=\\n\\nSIVE \\n\\n      contracts.&nbsp; IMPRESSIVE client list including the&nbsp;U.S. A=\\n\\nir Force, \\n\\n      Anheuser-Busch, Chevron Refining and Mitsubishi Heavy Industries,=\\n\\n \\n\\n      GE-Energy &amp; Environmental Research. </FONT></FONT>\\n\\n      <P><FONT face=3DArial size=3D2><STRONG>RAPIDLY GROWING INDUSTRY</ST=\\n\\nRONG>&nbsp; \\n\\n      <BR>Industry revenues exceed =24900 million, estimates indicate th=\\n\\nat there \\n\\n      could be as much as =2425 billion from =22smell technology=22 by the=\\n\\n end of \\n\\n      2003.</FONT></P>\\n\\n      <P><FONT face=3DArial size=3D2><STRONG>=21=21=21=21 CONGRATULATIONS \\n\\n      =21=21=21=21=21<BR></STRONG>To&nbsp;our subscribers that took advantag=\\n\\ne of \\n\\n      our&nbsp;last recommendation to buy&nbsp;NXLC.&nbsp; It rallied f=\\n\\nrom =247.87 \\n\\n      to&nbsp;=2411.73=21</FONT>&nbsp;&nbsp;</P><A \\n\\n      href=3D=22http://quote.morningstar.com/Quote.html?TimeFrame=3DY*&amp=\\n\\n;ExchangeId=3D&amp;ticker=3DCBYI=22><FONT \\n\\n      color=3D=230000ff size=3D2><BR></FONT></A><BR><BR><BR><BR><BR><BR><B=\\n\\nR>\\n\\n      <P align=3Dcenter><STRONG><FONT color=3D=23ff0000>ALL removes HONERE=\\n\\nD. Please allow 7 \\n\\n      days to be removed and send ALL address to: <A href=3D=22mailto:hon=\\n\\ney9531=40btamail.net.cn=22>honey9531=40mail.net.cn</A></A></FONT> \\n\\n      </STRONG></A></A></A></P></LI></TD></TR></TABLE>\\n\\n<P><FONT size=3D1></FONT>&nbsp;</P>\\n\\n<P><FONT size=3D1></FONT>&nbsp;</P>\\n\\n<P><FONT size=3D1>Certain statements contained in this news release may =\\n\\nbe \\n\\nforward-looking statements within the meaning of The Private Securities=\\n\\n \\n\\nLitigation Reform Act of 1995. These statements may be identified by su=\\n\\nch terms \\n\\nas =22expect=22, =22believe=22, =22may=22, =22will=22, and =22intend=22 or simila=\\n\\nr terms. We are NOT \\n\\na registered investment advisor or a broker dealer. This is NOT an offe=\\n\\nr to buy \\n\\nor sell securities. No recommendation that the securities of the compan=\\n\\nies \\n\\nprofiled should be purchased, sold or held by individuals or entities t=\\n\\nhat learn \\n\\nof the profiled companies. We were paid =2427,000 in cash by a third par=\\n\\nty to \\n\\npublish this report. Investing in companies profiled is high-risk and u=\\n\\nse of \\n\\nthis information is for reading purposes only. If anyone decides to act=\\n\\n as an \\n\\ninvestor, then it will be that investor's sole risk. Investors are advi=\\n\\nsed NOT \\n\\nto invest without the proper advisement from an attorney or a registere=\\n\\nd \\n\\nfinancial broker. Do not rely solely on the information presented, do a=\\n\\ndditional \\n\\nindependent research to form your own opinion and decision regarding in=\\n\\nvesting \\n\\nin the profiled companies. Be advised that the purchase of such high-ri=\\n\\nsk \\n\\nsecurities may result in the loss of your entire investment. </FONT><FO=\\n\\nNT \\n\\nsize=3D1>The owners of this publication may already own free trading sha=\\n\\nres in \\n\\nCBYI and may immediately sell all or a portion of these shares into the=\\n\\n open \\n\\nmarket at or about the time this report is published.&nbsp; Factual sta=\\n\\ntements \\n\\nare made as of the date stated and are subject to change without notice=\\n\\n.&nbsp; \\n\\nNot intended for recipients or residents of CA,CO,CT,DE,ID, <FONT \\n\\nsize=3D1>IL,IA,LA,MO,NV,NC,OK,OH,PA,RI,TN,VA,WA,WV,WI. Void where \\n\\nprohibited.&nbsp; </FONT><FONT size=3D1>Copyright c 2001</FONT> \\n\\n</FONT></P></BODY></HTML>\\n\\n\\n\\n\\n\\n**********\\n\",\n          \"Did you hear? Interest rates have just been lowered again. Don't delay! Get your free mortgage rate quote now and see how much you could save every month!\\n\\n    \\n\\nFree, no obligation quote:\\n\\nhttp://www.toplinequotes.com/freequote/\\n\\n                     \\n\\n                     \\n\\n                     \\n\\n                     \\n\\n                      \\n\\n---------------------------------------\\n\\nTo be removed, go to: \\n\\nhttp://www.toplinequotes.com/unsubscribe/\\n\\nAllow 48-72 hours for removal.\\n\\n\\n\\n\\n\"\n        ],\n        \"semantic_type\": \"\",\n        \"description\": \"\"\n      }\n    },\n    {\n      \"column\": \"CATEGORY\",\n      \"properties\": {\n        \"dtype\": \"number\",\n        \"std\": 0,\n        \"min\": 0,\n        \"max\": 1,\n        \"num_unique_values\": 2,\n        \"samples\": [\n          0,\n          1\n        ],\n        \"semantic_type\": \"\",\n        \"description\": \"\"\n      }\n    }\n  ]\n}"
            }
          },
          "metadata": {},
          "execution_count": 101
        }
      ]
    },
    {
      "cell_type": "code",
      "source": [
        "data.tail()"
      ],
      "metadata": {
        "colab": {
          "base_uri": "https://localhost:8080/",
          "height": 206
        },
        "id": "-_8WCYEmIxOx",
        "outputId": "f45564f2-1dde-481e-e572-abefe1fe977e"
      },
      "execution_count": 102,
      "outputs": [
        {
          "output_type": "execute_result",
          "data": {
            "text/plain": [
              "                                                                                  MESSAGE  \\\n",
              "00719.d3f6422685d691cd7d0aea8851b831f9  --==_Exmh_1737280444P\\n\\nContent-Type: text/pl...   \n",
              "00566.dbc5fe0b052e8d60b7a4e1d40f0d9652  Bob Proulx <bob@proulx.com> wrote:\\n\\nTo: <raz...   \n",
              "01060.95d3e0a8c47b33d1533f18ac2c60c81a  NRI Number One\\n\\n\\n\\nExpats help Hindi films ...   \n",
              "00789.f5ae0a050a9e179558e9d351d9cfb7d2  --==_Exmh_1217613150P\\n\\nContent-Type: text/pl...   \n",
              "00555.219cc078f109a6eea18c579f143a8cef  \\n\\n    I hate to ask...I've heard it mentione...   \n",
              "\n",
              "                                        CATEGORY  \n",
              "00719.d3f6422685d691cd7d0aea8851b831f9         0  \n",
              "00566.dbc5fe0b052e8d60b7a4e1d40f0d9652         0  \n",
              "01060.95d3e0a8c47b33d1533f18ac2c60c81a         0  \n",
              "00789.f5ae0a050a9e179558e9d351d9cfb7d2         0  \n",
              "00555.219cc078f109a6eea18c579f143a8cef         0  "
            ],
            "text/html": [
              "\n",
              "  <div id=\"df-93f75de0-bf4a-4474-90ec-a168e22391c0\" class=\"colab-df-container\">\n",
              "    <div>\n",
              "<style scoped>\n",
              "    .dataframe tbody tr th:only-of-type {\n",
              "        vertical-align: middle;\n",
              "    }\n",
              "\n",
              "    .dataframe tbody tr th {\n",
              "        vertical-align: top;\n",
              "    }\n",
              "\n",
              "    .dataframe thead th {\n",
              "        text-align: right;\n",
              "    }\n",
              "</style>\n",
              "<table border=\"1\" class=\"dataframe\">\n",
              "  <thead>\n",
              "    <tr style=\"text-align: right;\">\n",
              "      <th></th>\n",
              "      <th>MESSAGE</th>\n",
              "      <th>CATEGORY</th>\n",
              "    </tr>\n",
              "  </thead>\n",
              "  <tbody>\n",
              "    <tr>\n",
              "      <th>00719.d3f6422685d691cd7d0aea8851b831f9</th>\n",
              "      <td>--==_Exmh_1737280444P\\n\\nContent-Type: text/pl...</td>\n",
              "      <td>0</td>\n",
              "    </tr>\n",
              "    <tr>\n",
              "      <th>00566.dbc5fe0b052e8d60b7a4e1d40f0d9652</th>\n",
              "      <td>Bob Proulx &lt;bob@proulx.com&gt; wrote:\\n\\nTo: &lt;raz...</td>\n",
              "      <td>0</td>\n",
              "    </tr>\n",
              "    <tr>\n",
              "      <th>01060.95d3e0a8c47b33d1533f18ac2c60c81a</th>\n",
              "      <td>NRI Number One\\n\\n\\n\\nExpats help Hindi films ...</td>\n",
              "      <td>0</td>\n",
              "    </tr>\n",
              "    <tr>\n",
              "      <th>00789.f5ae0a050a9e179558e9d351d9cfb7d2</th>\n",
              "      <td>--==_Exmh_1217613150P\\n\\nContent-Type: text/pl...</td>\n",
              "      <td>0</td>\n",
              "    </tr>\n",
              "    <tr>\n",
              "      <th>00555.219cc078f109a6eea18c579f143a8cef</th>\n",
              "      <td>\\n\\n    I hate to ask...I've heard it mentione...</td>\n",
              "      <td>0</td>\n",
              "    </tr>\n",
              "  </tbody>\n",
              "</table>\n",
              "</div>\n",
              "    <div class=\"colab-df-buttons\">\n",
              "\n",
              "  <div class=\"colab-df-container\">\n",
              "    <button class=\"colab-df-convert\" onclick=\"convertToInteractive('df-93f75de0-bf4a-4474-90ec-a168e22391c0')\"\n",
              "            title=\"Convert this dataframe to an interactive table.\"\n",
              "            style=\"display:none;\">\n",
              "\n",
              "  <svg xmlns=\"http://www.w3.org/2000/svg\" height=\"24px\" viewBox=\"0 -960 960 960\">\n",
              "    <path d=\"M120-120v-720h720v720H120Zm60-500h600v-160H180v160Zm220 220h160v-160H400v160Zm0 220h160v-160H400v160ZM180-400h160v-160H180v160Zm440 0h160v-160H620v160ZM180-180h160v-160H180v160Zm440 0h160v-160H620v160Z\"/>\n",
              "  </svg>\n",
              "    </button>\n",
              "\n",
              "  <style>\n",
              "    .colab-df-container {\n",
              "      display:flex;\n",
              "      gap: 12px;\n",
              "    }\n",
              "\n",
              "    .colab-df-convert {\n",
              "      background-color: #E8F0FE;\n",
              "      border: none;\n",
              "      border-radius: 50%;\n",
              "      cursor: pointer;\n",
              "      display: none;\n",
              "      fill: #1967D2;\n",
              "      height: 32px;\n",
              "      padding: 0 0 0 0;\n",
              "      width: 32px;\n",
              "    }\n",
              "\n",
              "    .colab-df-convert:hover {\n",
              "      background-color: #E2EBFA;\n",
              "      box-shadow: 0px 1px 2px rgba(60, 64, 67, 0.3), 0px 1px 3px 1px rgba(60, 64, 67, 0.15);\n",
              "      fill: #174EA6;\n",
              "    }\n",
              "\n",
              "    .colab-df-buttons div {\n",
              "      margin-bottom: 4px;\n",
              "    }\n",
              "\n",
              "    [theme=dark] .colab-df-convert {\n",
              "      background-color: #3B4455;\n",
              "      fill: #D2E3FC;\n",
              "    }\n",
              "\n",
              "    [theme=dark] .colab-df-convert:hover {\n",
              "      background-color: #434B5C;\n",
              "      box-shadow: 0px 1px 3px 1px rgba(0, 0, 0, 0.15);\n",
              "      filter: drop-shadow(0px 1px 2px rgba(0, 0, 0, 0.3));\n",
              "      fill: #FFFFFF;\n",
              "    }\n",
              "  </style>\n",
              "\n",
              "    <script>\n",
              "      const buttonEl =\n",
              "        document.querySelector('#df-93f75de0-bf4a-4474-90ec-a168e22391c0 button.colab-df-convert');\n",
              "      buttonEl.style.display =\n",
              "        google.colab.kernel.accessAllowed ? 'block' : 'none';\n",
              "\n",
              "      async function convertToInteractive(key) {\n",
              "        const element = document.querySelector('#df-93f75de0-bf4a-4474-90ec-a168e22391c0');\n",
              "        const dataTable =\n",
              "          await google.colab.kernel.invokeFunction('convertToInteractive',\n",
              "                                                    [key], {});\n",
              "        if (!dataTable) return;\n",
              "\n",
              "        const docLinkHtml = 'Like what you see? Visit the ' +\n",
              "          '<a target=\"_blank\" href=https://colab.research.google.com/notebooks/data_table.ipynb>data table notebook</a>'\n",
              "          + ' to learn more about interactive tables.';\n",
              "        element.innerHTML = '';\n",
              "        dataTable['output_type'] = 'display_data';\n",
              "        await google.colab.output.renderOutput(dataTable, element);\n",
              "        const docLink = document.createElement('div');\n",
              "        docLink.innerHTML = docLinkHtml;\n",
              "        element.appendChild(docLink);\n",
              "      }\n",
              "    </script>\n",
              "  </div>\n",
              "\n",
              "\n",
              "<div id=\"df-3fdb2cb3-7f6e-4d93-8add-3edc9f9e0543\">\n",
              "  <button class=\"colab-df-quickchart\" onclick=\"quickchart('df-3fdb2cb3-7f6e-4d93-8add-3edc9f9e0543')\"\n",
              "            title=\"Suggest charts\"\n",
              "            style=\"display:none;\">\n",
              "\n",
              "<svg xmlns=\"http://www.w3.org/2000/svg\" height=\"24px\"viewBox=\"0 0 24 24\"\n",
              "     width=\"24px\">\n",
              "    <g>\n",
              "        <path d=\"M19 3H5c-1.1 0-2 .9-2 2v14c0 1.1.9 2 2 2h14c1.1 0 2-.9 2-2V5c0-1.1-.9-2-2-2zM9 17H7v-7h2v7zm4 0h-2V7h2v10zm4 0h-2v-4h2v4z\"/>\n",
              "    </g>\n",
              "</svg>\n",
              "  </button>\n",
              "\n",
              "<style>\n",
              "  .colab-df-quickchart {\n",
              "      --bg-color: #E8F0FE;\n",
              "      --fill-color: #1967D2;\n",
              "      --hover-bg-color: #E2EBFA;\n",
              "      --hover-fill-color: #174EA6;\n",
              "      --disabled-fill-color: #AAA;\n",
              "      --disabled-bg-color: #DDD;\n",
              "  }\n",
              "\n",
              "  [theme=dark] .colab-df-quickchart {\n",
              "      --bg-color: #3B4455;\n",
              "      --fill-color: #D2E3FC;\n",
              "      --hover-bg-color: #434B5C;\n",
              "      --hover-fill-color: #FFFFFF;\n",
              "      --disabled-bg-color: #3B4455;\n",
              "      --disabled-fill-color: #666;\n",
              "  }\n",
              "\n",
              "  .colab-df-quickchart {\n",
              "    background-color: var(--bg-color);\n",
              "    border: none;\n",
              "    border-radius: 50%;\n",
              "    cursor: pointer;\n",
              "    display: none;\n",
              "    fill: var(--fill-color);\n",
              "    height: 32px;\n",
              "    padding: 0;\n",
              "    width: 32px;\n",
              "  }\n",
              "\n",
              "  .colab-df-quickchart:hover {\n",
              "    background-color: var(--hover-bg-color);\n",
              "    box-shadow: 0 1px 2px rgba(60, 64, 67, 0.3), 0 1px 3px 1px rgba(60, 64, 67, 0.15);\n",
              "    fill: var(--button-hover-fill-color);\n",
              "  }\n",
              "\n",
              "  .colab-df-quickchart-complete:disabled,\n",
              "  .colab-df-quickchart-complete:disabled:hover {\n",
              "    background-color: var(--disabled-bg-color);\n",
              "    fill: var(--disabled-fill-color);\n",
              "    box-shadow: none;\n",
              "  }\n",
              "\n",
              "  .colab-df-spinner {\n",
              "    border: 2px solid var(--fill-color);\n",
              "    border-color: transparent;\n",
              "    border-bottom-color: var(--fill-color);\n",
              "    animation:\n",
              "      spin 1s steps(1) infinite;\n",
              "  }\n",
              "\n",
              "  @keyframes spin {\n",
              "    0% {\n",
              "      border-color: transparent;\n",
              "      border-bottom-color: var(--fill-color);\n",
              "      border-left-color: var(--fill-color);\n",
              "    }\n",
              "    20% {\n",
              "      border-color: transparent;\n",
              "      border-left-color: var(--fill-color);\n",
              "      border-top-color: var(--fill-color);\n",
              "    }\n",
              "    30% {\n",
              "      border-color: transparent;\n",
              "      border-left-color: var(--fill-color);\n",
              "      border-top-color: var(--fill-color);\n",
              "      border-right-color: var(--fill-color);\n",
              "    }\n",
              "    40% {\n",
              "      border-color: transparent;\n",
              "      border-right-color: var(--fill-color);\n",
              "      border-top-color: var(--fill-color);\n",
              "    }\n",
              "    60% {\n",
              "      border-color: transparent;\n",
              "      border-right-color: var(--fill-color);\n",
              "    }\n",
              "    80% {\n",
              "      border-color: transparent;\n",
              "      border-right-color: var(--fill-color);\n",
              "      border-bottom-color: var(--fill-color);\n",
              "    }\n",
              "    90% {\n",
              "      border-color: transparent;\n",
              "      border-bottom-color: var(--fill-color);\n",
              "    }\n",
              "  }\n",
              "</style>\n",
              "\n",
              "  <script>\n",
              "    async function quickchart(key) {\n",
              "      const quickchartButtonEl =\n",
              "        document.querySelector('#' + key + ' button');\n",
              "      quickchartButtonEl.disabled = true;  // To prevent multiple clicks.\n",
              "      quickchartButtonEl.classList.add('colab-df-spinner');\n",
              "      try {\n",
              "        const charts = await google.colab.kernel.invokeFunction(\n",
              "            'suggestCharts', [key], {});\n",
              "      } catch (error) {\n",
              "        console.error('Error during call to suggestCharts:', error);\n",
              "      }\n",
              "      quickchartButtonEl.classList.remove('colab-df-spinner');\n",
              "      quickchartButtonEl.classList.add('colab-df-quickchart-complete');\n",
              "    }\n",
              "    (() => {\n",
              "      let quickchartButtonEl =\n",
              "        document.querySelector('#df-3fdb2cb3-7f6e-4d93-8add-3edc9f9e0543 button');\n",
              "      quickchartButtonEl.style.display =\n",
              "        google.colab.kernel.accessAllowed ? 'block' : 'none';\n",
              "    })();\n",
              "  </script>\n",
              "</div>\n",
              "\n",
              "    </div>\n",
              "  </div>\n"
            ],
            "application/vnd.google.colaboratory.intrinsic+json": {
              "type": "dataframe",
              "summary": "{\n  \"name\": \"data\",\n  \"rows\": 5,\n  \"fields\": [\n    {\n      \"column\": \"MESSAGE\",\n      \"properties\": {\n        \"dtype\": \"string\",\n        \"num_unique_values\": 5,\n        \"samples\": [\n          \"Bob Proulx <bob@proulx.com> wrote:\\n\\nTo: <razor-users@example.sourceforge.net>\\n\\nSent: Friday, August 02, 2002 9:59 PM\\n\\nSubject: Re: [Razor-users] False Positives on EFF Messages\\n\\n\\n\\n\\n\\n> If spammers spoof a From: Bugtraq address then their\\n\\n> spam is automatically revoked by you.\\n\\n\\n\\nGood point, but notice that cmeclax said in his example procmail recipe:\\n\\n\\n\\n   :0\\n\\n   * !^(some Bugtraq-specific header)\\n\\n\\n\\nIt should be possible to pick a header that a spammer is not likely forge. He was\\n\\neven careful not to reveal in public just what header(s) he is checking.\\n\\n\\n\\n -- sidney\\n\\n\\n\\n\\n\\n\\n\\n\\n\\n-------------------------------------------------------\\n\\nThis sf.net email is sponsored by:ThinkGeek\\n\\nWelcome to geek heaven.\\n\\nhttp://thinkgeek.com/sf\\n\\n_______________________________________________\\n\\nRazor-users mailing list\\n\\nRazor-users@lists.sourceforge.net\\n\\nhttps://lists.sourceforge.net/lists/listinfo/razor-users\\n\\n\\n\\n\\n\",\n          \"\\n\\n    I hate to ask...I've heard it mentioned several times here, but I couldn't find a digest, and the hits I found on Google turned up missing pages.  :(\\n\\n\\n\\n    I thought I was reporting spams all this time...the last month or so...but I wasn't.  I had a pathing problem going on, and a log-pathing problem, too, but hadn't noticed it yet.  Now, the system seems to be working, other than this message in the logs:\\n\\n\\n\\n    nextserver: Could not get valid info from Discovery Servers\\n\\n\\n\\n    What's the fix for this again?  Is it a server outtage, or something else?\\n\\n\\n\\n    I'm using the 2.03 sdk, and the new 2.14 agent...\\n\\n\\n\\n------------------------------------------------------------------------\\n\\nBrian Fahrl\\u00e4nder              Linux Zealot, Conservative, and Technomad\\n\\nEvansville, IN                    My Voyage: http://www.CounterMoon.com\\n\\nICQ  5119262\\n\\n------------------------------------------------------------------------\\n\\nI don't want to hear news from Isreal until the news contains the words\\n\\n\\\"Bullet\\\", \\\"Brain\\\", and \\\"Arafat\\\".\\n\\n\\n\\n\\n\\n-------------------------------------------------------\\n\\nThis sf.net email is sponsored by:ThinkGeek\\n\\nWelcome to geek heaven.\\n\\nhttp://thinkgeek.com/sf\\n\\n_______________________________________________\\n\\nRazor-users mailing list\\n\\nRazor-users@lists.sourceforge.net\\n\\nhttps://lists.sourceforge.net/lists/listinfo/razor-users\\n\\n\\n\\n\\n\",\n          \"NRI Number One\\n\\n\\n\\nExpats help Hindi films make dollars and sense even at their own expense\\n\\n\\n\\nBy JEANNE E. FREDRIKSEN\\n\\n\\n\\nThe expatriate in films is nothing new. Casablanca starring Humphrey \\n\\nBogart as the suave, mysterious Rick in Morocco remains the top favorite \\n\\n60 years after its release in America. Although expat characters' lives \\n\\nare traditionally painted as being extraordinary, the simple fact that \\n\\nthey live \\\"elsewhere\\\" adds a sense of adventure, a dash of romance, and \\n\\na bit of wishful longing. However, expats have never made the kind of \\n\\nimpact on films that non-resident Indians (NRIs) have with Hindi cinema, \\n\\nboth at the box office and on the big screen.\\n\\n\\n\\nAccording to India's 2001 census, the country's population exceeded the \\n\\n1 billion persons milestone, and there are approximately 11 million \\n\\nIndians living, working, and studying elsewhere around the world. NRIs \\n\\nhave become a serious market for the Hindi film industry, particularly \\n\\nin the U.K., where approximately 3 percent of the population is \\n\\nIndian/Pakistani, and in the U.S., where 1.7 million out of 281.5 \\n\\nmillion people are Indian. The rupee box office is now augmented quite \\n\\nhandsomely by the dollar-and-pound box office, much to the delight of \\n\\ndirectors and producers.\\n\\n\\n\\nAmong the films reporting a half-to-three-quarters-of-a-million-dollar \\n\\nbox office in the U.S. or the U.K. are Aa Ab Laut Chalen (1999), Kaho \\n\\nNaa Pyaar Hai (2000), Refugee (2000), Lajja (2001), and Asoka (2001). \\n\\nThe NRI \\\"million-dollar-box-office club\\\" boasts such films as Yaadein \\n\\n(2001) and Lagaan (2001) in the U.S. Taal (1999), Hum Saath Saath Hain \\n\\n(HSSH, 1999), and Mohabbatein (2000) made the mark or better in the U.K. \\n\\nTaal and HSSH doubled their U.K. intakes in the U.S. and brought in $2 \\n\\nmillion each. Kuch Kuch Hota Hai (1998) tallied up $2.6 million in the \\n\\nU.K. Most recently, setting a new high-water mark in the overseas box \\n\\noffice, Kabhi Khushi Kabhie Gham (K3G, 2001) grabbed the No. 10 spot its \\n\\nfirst week of release in the U.S. and earned $2.9 million during its \\n\\nfive-week run. In the U.K., K3G earned nearly $3.6 million over an 18 \\n\\nweek run.\\n\\n\\n\\nImpressive? Yes, considering that promotion of Hindi films outside of \\n\\nthe Indian community is virtually zero, although that may be on the \\n\\nbrink of changing slightly. If nothing else, the figures indicate that \\n\\nthe NRI spends a big chunk of change on the films.\\n\\n\\n\\nDuring the past decade, the inclusion of NRI characters in both \\n\\ncommercial and non-commercial films has been on the rise, and in a \\n\\ncircular logic, it's only natural that they have become a part of these \\n\\nfilms' stories. Each NRI touches someone in India, and these \\\"global \\n\\nIndians,\\\" as filmmaker Subhash Ghai has called them, cannot be shrugged \\n\\noff as a passing phase. Films featuring or \\\"made for\\\" NRIs have been \\n\\ncriticized by some in India, but in reality, many of those films have \\n\\nperformed extremely well at the Indian box office. Could this speak to \\n\\nthe lure of adventure and the romance of the NRI?\\n\\n\\n\\nThe first Hindi blockbuster to spotlight NRI characters was Dilwale \\n\\nDulhania Le Jayenge (DDLJ, 1995), the story of two young people who grew \\n\\nup Indian in London. DDLJ introduced us to the mischievous, \\n\\nprank-pulling Raj, who in the beginning fails to graduate but succeeds \\n\\nin pilfering a case of beer from an Indian-owned convenience store. In \\n\\nthe end, he steadfastly applies Indian sensibilities in his pursuit of \\n\\nthe rebellious-but-trapped Simran as her unwanted arranged marriage \\n\\napproaches. Very possibly, because of this juxtaposition of traits, \\n\\nattitudes, and events, DDLJ enjoys the distinction of being the \\n\\nlongest-continually-running film in Indian cinema history.\\n\\n\\n\\nPopularity aside, there is the ongoing issue regarding accuracy in the \\n\\ncharacterization of NRIs in films. Often they are drawn as stereotypes, \\n\\nwhich are easy to lean on, requiring neither depth nor dimension. \\n\\nBecause of this, Hindi filmmakers may be said to straddle the border \\n\\nseparating East and West, staying securely at home and dipping into \\n\\ntheir highly-fantasized world of the Indian diaspora.\\n\\n\\n\\nIn many cases, commercial Hindi films present an overly-devised sense of \\n\\nthe NRI as being either corruptly-Westernized or as being more homesick \\n\\nthan a child gone away to camp for the first time. While these concepts \\n\\nmay carry a certain truth, the corresponding misconceptions come from \\n\\nthe minds of the at-home Indians, who wag a seemingly-envious finger at \\n\\nthe NRI's ability to exist in two worlds: one allowing space and upward \\n\\nmobility, the other offering traditions and history.\\n\\n\\n\\nPompous, materialistic, alcohol-drinking, cigarette-smoking, \\n\\ndrug-taking, affair-having, spoiled brats \\u0085\\n\\n\\n\\nThe first Hindi film I saw was Subhash Ghai's Pardes (1997). Despite \\n\\nencouraging me to see more films, it made me wonder if \\\"NRI\\\" actually \\n\\nmeant \\\"Not Really Indian.\\\" If the NRI characters weren't silly, whiney \\n\\ntroublemakers, they were mean and nasty, embracing every possible \\n\\nnegative human quality in stark contrast to the pristine Kusum Ganga. \\n\\nEven the dialogue and song lyrics in the film were designed to instruct \\n\\nthe viewer that the West is inferior but one can still bring India back \\n\\ninto one's life. The film is propaganda at its finest and filled with \\n\\nrelentless reminders of good vs. evil, purity vs. corruption, right vs. \\n\\nwrong, traditional vs. modern \\u0085 in short India vs. the West.\\n\\n\\n\\nBut this is not where the negativity ends.\\n\\n\\n\\nVery often, there is a \\\"dress code\\\" for the female characters to help \\n\\nthe viewer understand her measure of purity or wickedness: the more \\n\\ntraditionally-dressed, the more Indian the woman. Unsurprisingly, this \\n\\ndoes not seem to carry over to the men's characters.\\n\\n\\n\\nRunning alongside this can be the \\\"training guide\\\" in which NRIs are \\n\\nconstantly reeducated that \\\"This is not India \\u0085,\\\" \\\"This is not America \\n\\n\\u0085,\\\" \\\"Only in India \\u0085,\\\" \\\"This is our culture.\\\" The repetition seems less \\n\\ndesigned to be a natural part of life than to foster reinforcement, as \\n\\nif NRIs are too ignorant to appreciate it the first time.\\n\\n\\n\\nWhen Indians achieve success and wealth, have large homes, and own their \\n\\ncompanies in these films, they are industrious, clever, and respected \\n\\nbusinessmen. The NRI equivalent is held up to a double standard and \\n\\nconsidered materialistic. Even the printed synopsis of Taal in the Eros \\n\\nEntertainment/B4U DVD booklet refers to the NRI characters' \\\"world of \\n\\nruthless materialism.\\\" On the other hand, the Mumbai-based, plagiarizing \\n\\nVikrant Kapoor character is likeable enough and presented as an \\n\\nopportunist, which seems to be a step up.\\n\\n\\n\\nItaly is an unlikely origin for an NRI and offspring in a Hindi film, \\n\\nbut Hum Dil De Chuke Sanam (2000) filled the bill. For all the film's \\n\\nsplendor, it was regrettable that the Indo-Italian Sameer was presented \\n\\nas a na\\u00efve, bumbling nerd who had little going for him beyond his \\n\\nsinging ability.\\n\\n\\n\\nYaadein gave us a kind and loving, if slightly confused, single parent \\n\\nfrom London raising three daughters who suffer enough issues to put a \\n\\ntherapist into a tailspin. As if that weren't enough, the film includes \\n\\nan American-raised brat who wants nothing to do with parents, settling \\n\\ndown, or having babies\\u0097hardly the ideal Indian bride-to-be.\\n\\n\\n\\nAnd what happens when a married NRI couple splits into the \\\"modern\\\" vs. \\n\\nthe \\\"old-fashioned?\\\" The wife is tossed out like the garbage and sent \\n\\nhome to India as punishment for being unreceptive to having affairs \\n\\noutside of marriage. Such is the initial setup for Lajja, Rajkumar \\n\\nSantoshi's look into the world of Indian women.\\n\\n\\n\\nShow me the way to go home \\u0085\\n\\n\\n\\nThe other extreme of NRIs in film is the homesick, culture-craving, \\n\\nmore-patriotic-than-thou Indian. Building their own mini-Indias for \\n\\nmaxi-memories, this NRI portrayal takes a real issue and magnifies it to \\n\\nunreal proportions. And no film illustrates that as extravagantly as the \\n\\nlush and sumptuous Kabhi Khushi Kabhi Gham (K3G).\\n\\n\\n\\nNot only did K3G enjoy a healthy run at home, it exploded worldwide onto \\n\\ntheater screens in Indian communities last December and played to packed \\n\\nhouses for weeks. And K3G is a film in which everything\\u0097homes, \\n\\ntransportation, finances, fashion, holidays, events, emotions, and \\n\\ntears\\u0097sets a new standard for the term \\\"larger-than-life.\\\"\\n\\n\\n\\nIn K3G, much of the post-interval footage takes place in England. For \\n\\nAnjali, life in London simmers with a patriotic zeal and an \\n\\nall-consuming homesickness manifested in the meticulous maintenance of \\n\\nIndian customs and rituals while she separates herself from her \\n\\nsurroundings. Her need for India is so overwhelming that she relies on \\n\\nthe false protection of mocking people and places outside of her own \\n\\nfamily and home.\\n\\n\\n\\nOverkill? Certainly, as writer-director Karan Johar's inflated \\n\\nrepresentation of what have become some of the filmi passions of the \\n\\ntypical NRI. But when it boils down to the common denominators without \\n\\nthe fanfare, flash, and fervor, even those who move across country miss \\n\\ntheir families and familiar surroundings; one always retains a credible \\n\\namount of home-turf loyalty; and if one's heritage is lost, the person \\n\\nis rendered as no more than a racial statistic.\\n\\n\\n\\n\\\"Those living in India are surrounded by our culture every minute, even \\n\\nif they don't realize it,\\\" says Vivek Malhotra, a thirty-something NRI \\n\\nand business owner in the Chicago area. \\\"Here it's different, but we \\n\\nwill always be Indian,\\\" he continues, striking at the heart of the \\n\\nperceived problem. \\\"Sometimes, I feel that the movies think we've \\n\\nforgotten that. Maybe the filmmakers should spend some time finding out \\n\\nwho we are. I really don't think they have a clue.\\\"\\n\\n\\n\\nOn the upside is a beneficial aspect for the children of NRIs. \\\"It's \\n\\ngood that these films show our kids what happens in India\\u0097the \\n\\ntraditions, customs, values,\\\" says Parag Gandhi, a long time theater \\n\\nowner and promoter of Hindi films in Chicago. \\\"They may be modernized in \\n\\nIndia, but the traditional values remain.\\\" And many popular films target \\n\\nthe late-teens, twenty-something demographic. \\\"Films such as Dilwale \\n\\nDulhania Le Jayenge, Kuch Kuch Hota Hai, and K3G,\\\" adds Gandhi, \\\"are \\n\\nexamples of films that are half traditional, half modern, striking a \\n\\nbalance between the two for all of the markets.\\\"\\n\\n\\n\\nAnother positive consideration is that not all films show NRIs in a \\n\\nquestionable light. Caricatures of NRIs have been challenged in \\n\\ncommercial films like Kaho Naa Pyaar Hai, Dil Chhata Hai (2001), Monsoon \\n\\nWedding (2001), and the recent Kitne Door Kitne Paas, all of which \\n\\npresent NRIs as more realistic, more human characters. Aa Ab Laut Chalen \\n\\noffers a variety of NRI personalities from the selfish, the conniving, \\n\\nand the party animal to the lovable cabbies and the pandit-cop who make \\n\\nthe best of their situations without complaint. Interestingly, the film \\n\\nalso dares to include shop owners, Dunkin' Donuts clerks, gas station \\n\\nattendants: characters who aren't weighed down by palatial surroundings, \\n\\ncorporate crises, or overseas judgments.\\n\\n\\n\\nThe U.S., the U.K., and Australia are represented in Bombay Boys (1999) \\n\\nby three young men coming/returning to Bombay, India for personal \\n\\nreasons. In a refreshing reversal of the typical attitude concerning \\n\\nNRIs in film, the boys are the \\\"good\\\" Indians, and everyone they meet \\n\\nhas some relationship with the darker side of the city. At its most \\n\\nbasic, the film shows that if something is lost, it won't necessarily be \\n\\nfound in India.\\n\\n\\n\\nEven the non-commercial, multi-award-winning Bawandar (2001) \\n\\nincorporates an NRI as a connecting thread in the piecing together of \\n\\nSanvri Devi's story. Curious, passionate about women's rights, the \\n\\nIndo-English journalist represents the fact that the story has a wider \\n\\ninterest than a small, rural village.\\n\\n\\n\\nStepping outside of the Hindi film industry for a moment, the \\n\\nEnglish/Telegu film Hyderabad Blues (1998) and the English/Tamil film \\n\\nMitr\\u0097My Friend (2002), both smaller-budget films built on delivering \\n\\nmessages without preaching, deserve mention. The former engages in the \\n\\nquestioning of, rather than the criticism of, East vs. West, and the \\n\\nlatter examines the challenges faced by women, NRIs, and their families. \\n\\nThe characters and stories of both films enjoy respect in their \\n\\npresentation, partially due to the existence of layered issues that are \\n\\nrevealed and resolved (or not) without finger-snapping swiftness or \\n\\nclich\\u00e9d answers. Hyderabad Blues enjoyed a 31-week run in Mumbai alone, \\n\\nand Mitr\\u0097My Friend is currently one of the most-rented films in Indian \\n\\ncommunities in the U.S.\\n\\n\\n\\nWhile the inclusion of NRIs in Hindi films does not guarantee box office \\n\\nsuccess outside of India, it does send a strong signal that filmmakers \\n\\nacknowledge this constantly growing and lucrative audience sector. If \\n\\nthe big-budget, big box-office commercial films coming out of Mumbai \\n\\noften seem to bite one of the hands that feeds it, has the box office \\n\\nanywhere been adversely affected? Well \\u0085 no, not by any charted reports \\n\\nthat can be found. And that, itself, sends a loud and clear message back \\n\\nto the industry in Mumbai: \\\"if it isn't broken, don't fix it.\\\"\\n\\n\\n\\nNevertheless, when filmmakers who see NRIs as falling only to the evil \\n\\nside of Western ways look beyond their assumptions, perhaps they will \\n\\ndiscard their reliance on stereotypes and start paying their overseas \\n\\nfamily an increased measure of respect. And when filmmakers who take the \\n\\nhomesick and patriotic themes beyond believability analyze their own \\n\\nfeelings, perhaps they will realize that what NRIs hold dear in their \\n\\nhearts is no different from what those at home should be proud of. n\\n\\n\\n\\nNOTE: All box office figures are reported as US$ and are courtesy of \\n\\nVariety Magazine online archives. Not all Hindi films abroad report box \\n\\noffice, and not all box office reports are available.\\n\\n\\n\\nJeanne E. Fredriksen writes from Chicago. She is family with, friends \\n\\nwith, acquainted with, and works for NRIs with an amazing variety of \\n\\npersonalities, attitudes, hopes, dreams, goals, livelihoods, needs, \\n\\nwants, and beliefs.\\n\\n\\n\\n=========================================\\n\\n\\u00a0\\n\\nDilwale Dulhaniya Le Jayenge\\n\\n\\n\\nSo globally successful is the film that in 1999 it warranted a billboard \\n\\noutside Shinjuku train station in Tokyo, Japan, announcing its \\n\\nscreenings sponsored by India Center there. Shinjuku is the \\n\\nentertainment center of Tokyo, and there is plenty of high-profile \\n\\ncompetition for attention, attendance, and box office. In Japan, where \\n\\nIndian films enjoy a certain popularity with the natives, the country's \\n\\n1995 population census of 125.6 million persons showed only 4,244 were \\n\\nIndian with an additional 13,589 being other South Asians. Without \\n\\nquestion, DDLJ continues to be a favorite whenever, wherever offered for \\n\\nviewing.\\n\\n\\n\\nKabhi Khushi Kabhie Gham\\n\\n\\n\\nAccording to a report in the South China Morning Post in January, 2002, \\n\\nall screenings of K3G in December, 2001, were sell-outs in Hong Kong, \\n\\nwhile pirated copies of the film were the hottest items circulating on \\n\\nthe island. Hong Kong's 2001 population census of 6.3 million people \\n\\nrevealed that 18,543 were Indian and another 23,581 were Nepalese and \\n\\nPakistani. K3G's popularity in the Special Administrative Region was \\n\\nimpressive because Hong Kong enjoys being the third-largest producer of \\n\\nfilms by volume after India and the U.S. \\u00a0\\t\\n\\n\\n\\n\\n\\n=====================================================\\n\\nBhansali's Musical Heaven\\n\\n\\n\\nBy ANIRUDDH CHAWDA\\n\\n\\n\\nDEVDAS (Universal, 2002). Hindi film soundtrack. Music: Ismail Darbar. \\n\\nLyrics: Nusrat Badr\\n\\n\\n\\nFor perhaps the most eagerly anticipated film of the year, filmmaker \\n\\nSanjay Leela Bhansali's Devdas had to deliver a score that not only met \\n\\nthe hype but also let Ismail Darbar prove that the mega-selling Hum Dil \\n\\nDe Chuke Sanam was no one-time flash in the pan. By devising a \\n\\nsemi-classical, once-in-a-decade, 100 percent \\\"Indian\\\" musical score, \\n\\nBhansali and Darbar emerge victorious in baking and serving a 10-layer \\n\\nmonumental soundtrack.\\n\\n\\n\\nWhat is most groundbreaking is the powerful one-two punch of lyrics by \\n\\nnewcomer Nusrat Badr and the from-soul-voice of first-timer Shreya \\n\\nGhosal. Ghosal's voice, reminiscent of both Suman Kalyanpur with a \\n\\nslightly thicker pitch and Anuradha Paudwal without the nasal monotone, \\n\\nis the most original singing voice since Kavita Subramaniam appeared in \\n\\nthe Mangeshkar mold. Ghosal's \\\"Silsila ye chaahat ka\\\" is a sultry \\n\\ntabla-dominated opening to 52 minutes of sheer musical bliss. \\\"Maar \\n\\ndaala\\\" (Subramaniam, KK) is an excellent example of the use of classical \\n\\nragas to complement, rather than fill-in, interludes between verses. On \\n\\n\\\"Kahe chhed,\\\" Pandit Birju Maharaj, using his own tune, adds an \\n\\nintoxicating opening for Madhuri Dixit's vocals and Subramaniam to \\n\\nfinish out a piercing song of longing.\\n\\n\\n\\nWhile a combination of Ghosal and Subramaniam give life to on-screen \\n\\nlip-synching for Madhuri Dixit and Aishwarya Rai, on the male side Udit \\n\\nNarayan fronts for Shah Rukh Khan. Narayan's on-target \\\"Bairi piya,\\\" a \\n\\nduet with Ghosal, could find company in many Lata-Rafi duets of yore. \\n\\nThe up-tempo \\\"Chalak chalak\\\" again smoothly floats Narayan with Vinod \\n\\nRathod and Ghosal while Subramaniam and Ghosal's jugalbandhi on \\\"Dola re \\n\\ndola\\\" simply shakes the rafters.\\n\\n\\n\\nPackaged in Universal's Bombay plant, the earliest CD pressings have a \\n\\ncheap, paper-thin casing. Purists may consider replacing the cheap cover \\n\\nwith a store-bought sturdier one. At a suggested Bombay retail value of \\n\\nabout $2 and selling like hot cakes stateside for $10 a pop, Devdas is \\n\\nwithout doubt a huge profit-maker for the multinational music marketer. \\n\\nBut buyers beware: avoid being distracted by bootleg CDs. This \\n\\nexceptional music and exceptionally well-recorded CD deserve \\n\\nunadulterated musical glory. Pop in only a properly copyrighted, \\n\\noriginal CD and let Darbar & Co. whisk you away on a magical musical \\n\\nride.\\n\\n\\n\\nLifelong cinephile Aniruddh Chawda lives, works, and writes from \\n\\nWisconsin, on America's north coast.\\n\\n\\n\\nhttp://xent.com/mailman/listinfo/fork\\n\\n\\n\"\n        ],\n        \"semantic_type\": \"\",\n        \"description\": \"\"\n      }\n    },\n    {\n      \"column\": \"CATEGORY\",\n      \"properties\": {\n        \"dtype\": \"number\",\n        \"std\": 0,\n        \"min\": 0,\n        \"max\": 0,\n        \"num_unique_values\": 1,\n        \"samples\": [\n          0\n        ],\n        \"semantic_type\": \"\",\n        \"description\": \"\"\n      }\n    }\n  ]\n}"
            }
          },
          "metadata": {},
          "execution_count": 102
        }
      ]
    },
    {
      "cell_type": "markdown",
      "source": [
        "**Data Cleaning: Checking for missing values**"
      ],
      "metadata": {
        "id": "2uMnDLGDJVxT"
      }
    },
    {
      "cell_type": "code",
      "source": [
        "#Check if any message bodies are null\n",
        "#data.MESSAGE\n",
        "#second option\n",
        "data['MESSAGE'].isnull().values.any()\n"
      ],
      "metadata": {
        "colab": {
          "base_uri": "https://localhost:8080/"
        },
        "id": "1xuzGu8BJjf7",
        "outputId": "c06a54fc-323c-4c14-bf11-e1bc499b12c4"
      },
      "execution_count": 103,
      "outputs": [
        {
          "output_type": "execute_result",
          "data": {
            "text/plain": [
              "False"
            ]
          },
          "metadata": {},
          "execution_count": 103
        }
      ]
    },
    {
      "cell_type": "code",
      "source": [
        "#check if there are empty emails(string length zero)\n",
        "(data.MESSAGE.str.len() == 0).any()"
      ],
      "metadata": {
        "colab": {
          "base_uri": "https://localhost:8080/"
        },
        "id": "bGqh_5plLmTu",
        "outputId": "00e8d9ba-e9d8-4c38-d162-6e385e69d51b"
      },
      "execution_count": 104,
      "outputs": [
        {
          "output_type": "execute_result",
          "data": {
            "text/plain": [
              "True"
            ]
          },
          "metadata": {},
          "execution_count": 104
        }
      ]
    },
    {
      "cell_type": "code",
      "source": [
        "(data.MESSAGE.str.len() == 0).sum()"
      ],
      "metadata": {
        "colab": {
          "base_uri": "https://localhost:8080/"
        },
        "id": "NoAYzUJ-LlWt",
        "outputId": "867d61a9-1621-49fb-8c95-a8d8a0d56c0a"
      },
      "execution_count": 85,
      "outputs": [
        {
          "output_type": "execute_result",
          "data": {
            "text/plain": [
              "3"
            ]
          },
          "metadata": {},
          "execution_count": 85
        }
      ]
    },
    {
      "cell_type": "code",
      "source": [
        "data.MESSAGE.isnull().sum()"
      ],
      "metadata": {
        "colab": {
          "base_uri": "https://localhost:8080/"
        },
        "id": "5F9dddeqNSR4",
        "outputId": "8f50ba63-8923-4208-8eac-1f0ae1ddc4d9"
      },
      "execution_count": 86,
      "outputs": [
        {
          "output_type": "execute_result",
          "data": {
            "text/plain": [
              "0"
            ]
          },
          "metadata": {},
          "execution_count": 86
        }
      ]
    },
    {
      "cell_type": "markdown",
      "source": [
        "**Locate empty emails**"
      ],
      "metadata": {
        "id": "xfRwDa4wNk1p"
      }
    },
    {
      "cell_type": "code",
      "source": [
        "type(data.MESSAGE.str.len() == 0)"
      ],
      "metadata": {
        "colab": {
          "base_uri": "https://localhost:8080/",
          "height": 203
        },
        "id": "wsigJjTBNjbT",
        "outputId": "9ce302d2-331b-4c01-ceef-e0a3fe1c080e"
      },
      "execution_count": 105,
      "outputs": [
        {
          "output_type": "execute_result",
          "data": {
            "text/plain": [
              "pandas.core.series.Series"
            ],
            "text/html": [
              "<div style=\"max-width:800px; border: 1px solid var(--colab-border-color);\"><style>\n",
              "      pre.function-repr-contents {\n",
              "        overflow-x: auto;\n",
              "        padding: 8px 12px;\n",
              "        max-height: 500px;\n",
              "      }\n",
              "\n",
              "      pre.function-repr-contents.function-repr-contents-collapsed {\n",
              "        cursor: pointer;\n",
              "        max-height: 100px;\n",
              "      }\n",
              "    </style>\n",
              "    <pre style=\"white-space: initial; background:\n",
              "         var(--colab-secondary-surface-color); padding: 8px 12px;\n",
              "         border-bottom: 1px solid var(--colab-border-color);\"><b>pandas.core.series.Series</b><br/>def __init__(data=None, index=None, dtype: Dtype | None=None, name=None, copy: bool | None=None, fastpath: bool=False) -&gt; None</pre><pre class=\"function-repr-contents function-repr-contents-collapsed\" style=\"\"><a class=\"filepath\" style=\"display:none\" href=\"#\">/usr/local/lib/python3.10/dist-packages/pandas/core/series.py</a>One-dimensional ndarray with axis labels (including time series).\n",
              "\n",
              "Labels need not be unique but must be a hashable type. The object\n",
              "supports both integer- and label-based indexing and provides a host of\n",
              "methods for performing operations involving the index. Statistical\n",
              "methods from ndarray have been overridden to automatically exclude\n",
              "missing data (currently represented as NaN).\n",
              "\n",
              "Operations between Series (+, -, /, \\*, \\*\\*) align values based on their\n",
              "associated index values-- they need not be the same length. The result\n",
              "index will be the sorted union of the two indexes.\n",
              "\n",
              "Parameters\n",
              "----------\n",
              "data : array-like, Iterable, dict, or scalar value\n",
              "    Contains data stored in Series. If data is a dict, argument order is\n",
              "    maintained.\n",
              "index : array-like or Index (1d)\n",
              "    Values must be hashable and have the same length as `data`.\n",
              "    Non-unique index values are allowed. Will default to\n",
              "    RangeIndex (0, 1, 2, ..., n) if not provided. If data is dict-like\n",
              "    and index is None, then the keys in the data are used as the index. If the\n",
              "    index is not None, the resulting Series is reindexed with the index values.\n",
              "dtype : str, numpy.dtype, or ExtensionDtype, optional\n",
              "    Data type for the output Series. If not specified, this will be\n",
              "    inferred from `data`.\n",
              "    See the :ref:`user guide &lt;basics.dtypes&gt;` for more usages.\n",
              "name : Hashable, default None\n",
              "    The name to give to the Series.\n",
              "copy : bool, default False\n",
              "    Copy input data. Only affects Series or 1d ndarray input. See examples.\n",
              "\n",
              "Notes\n",
              "-----\n",
              "Please reference the :ref:`User Guide &lt;basics.series&gt;` for more information.\n",
              "\n",
              "Examples\n",
              "--------\n",
              "Constructing Series from a dictionary with an Index specified\n",
              "\n",
              "&gt;&gt;&gt; d = {&#x27;a&#x27;: 1, &#x27;b&#x27;: 2, &#x27;c&#x27;: 3}\n",
              "&gt;&gt;&gt; ser = pd.Series(data=d, index=[&#x27;a&#x27;, &#x27;b&#x27;, &#x27;c&#x27;])\n",
              "&gt;&gt;&gt; ser\n",
              "a   1\n",
              "b   2\n",
              "c   3\n",
              "dtype: int64\n",
              "\n",
              "The keys of the dictionary match with the Index values, hence the Index\n",
              "values have no effect.\n",
              "\n",
              "&gt;&gt;&gt; d = {&#x27;a&#x27;: 1, &#x27;b&#x27;: 2, &#x27;c&#x27;: 3}\n",
              "&gt;&gt;&gt; ser = pd.Series(data=d, index=[&#x27;x&#x27;, &#x27;y&#x27;, &#x27;z&#x27;])\n",
              "&gt;&gt;&gt; ser\n",
              "x   NaN\n",
              "y   NaN\n",
              "z   NaN\n",
              "dtype: float64\n",
              "\n",
              "Note that the Index is first build with the keys from the dictionary.\n",
              "After this the Series is reindexed with the given Index values, hence we\n",
              "get all NaN as a result.\n",
              "\n",
              "Constructing Series from a list with `copy=False`.\n",
              "\n",
              "&gt;&gt;&gt; r = [1, 2]\n",
              "&gt;&gt;&gt; ser = pd.Series(r, copy=False)\n",
              "&gt;&gt;&gt; ser.iloc[0] = 999\n",
              "&gt;&gt;&gt; r\n",
              "[1, 2]\n",
              "&gt;&gt;&gt; ser\n",
              "0    999\n",
              "1      2\n",
              "dtype: int64\n",
              "\n",
              "Due to input data type the Series has a `copy` of\n",
              "the original data even though `copy=False`, so\n",
              "the data is unchanged.\n",
              "\n",
              "Constructing Series from a 1d ndarray with `copy=False`.\n",
              "\n",
              "&gt;&gt;&gt; r = np.array([1, 2])\n",
              "&gt;&gt;&gt; ser = pd.Series(r, copy=False)\n",
              "&gt;&gt;&gt; ser.iloc[0] = 999\n",
              "&gt;&gt;&gt; r\n",
              "array([999,   2])\n",
              "&gt;&gt;&gt; ser\n",
              "0    999\n",
              "1      2\n",
              "dtype: int64\n",
              "\n",
              "Due to input data type the Series has a `view` on\n",
              "the original data, so\n",
              "the data is changed as well.</pre>\n",
              "      <script>\n",
              "      if (google.colab.kernel.accessAllowed && google.colab.files && google.colab.files.view) {\n",
              "        for (const element of document.querySelectorAll('.filepath')) {\n",
              "          element.style.display = 'block'\n",
              "          element.onclick = (event) => {\n",
              "            event.preventDefault();\n",
              "            event.stopPropagation();\n",
              "            google.colab.files.view(element.textContent, 245);\n",
              "          };\n",
              "        }\n",
              "      }\n",
              "      for (const element of document.querySelectorAll('.function-repr-contents')) {\n",
              "        element.onclick = (event) => {\n",
              "          event.preventDefault();\n",
              "          event.stopPropagation();\n",
              "          element.classList.toggle('function-repr-contents-collapsed');\n",
              "        };\n",
              "      }\n",
              "      </script>\n",
              "      </div>"
            ]
          },
          "metadata": {},
          "execution_count": 105
        }
      ]
    },
    {
      "cell_type": "code",
      "source": [
        "data[data.MESSAGE.str.len() == 0].index"
      ],
      "metadata": {
        "colab": {
          "base_uri": "https://localhost:8080/"
        },
        "id": "A_7qGsAWNxEb",
        "outputId": "3fbec112-c96e-4807-9340-491f6b9d528b"
      },
      "execution_count": 106,
      "outputs": [
        {
          "output_type": "execute_result",
          "data": {
            "text/plain": [
              "Index(['cmds', 'cmds', 'cmds'], dtype='object')"
            ]
          },
          "metadata": {},
          "execution_count": 106
        }
      ]
    },
    {
      "cell_type": "code",
      "source": [
        "data.index.get_loc('cmds')"
      ],
      "metadata": {
        "colab": {
          "base_uri": "https://localhost:8080/"
        },
        "id": "oLZc7TEhOCLJ",
        "outputId": "ebbee632-fc94-4ced-bd4c-8c5489bb3a76"
      },
      "execution_count": 107,
      "outputs": [
        {
          "output_type": "execute_result",
          "data": {
            "text/plain": [
              "array([False, False, False, ..., False, False, False])"
            ]
          },
          "metadata": {},
          "execution_count": 107
        }
      ]
    },
    {
      "cell_type": "markdown",
      "source": [
        "**Remove System File Entries from Dataframe**"
      ],
      "metadata": {
        "id": "D_SDUwlsO_H4"
      }
    },
    {
      "cell_type": "code",
      "source": [
        "type(data)\n"
      ],
      "metadata": {
        "colab": {
          "base_uri": "https://localhost:8080/"
        },
        "id": "mlHpTbKSRkBJ",
        "outputId": "ed68ddc0-23ff-4928-9792-80a0671f11e4"
      },
      "execution_count": 92,
      "outputs": [
        {
          "output_type": "execute_result",
          "data": {
            "text/plain": [
              "NoneType"
            ]
          },
          "metadata": {},
          "execution_count": 92
        }
      ]
    },
    {
      "cell_type": "markdown",
      "source": [
        "**Add Document Ids to track emails in dataset**"
      ],
      "metadata": {
        "id": "sTVn1exYQaOS"
      }
    }
  ]
}