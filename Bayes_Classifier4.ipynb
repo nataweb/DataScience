{
  "nbformat": 4,
  "nbformat_minor": 0,
  "metadata": {
    "colab": {
      "provenance": []
    },
    "kernelspec": {
      "name": "python3",
      "display_name": "Python 3"
    },
    "language_info": {
      "name": "python"
    }
  },
  "cells": [
    {
      "cell_type": "code",
      "execution_count": 46,
      "metadata": {
        "id": "DWavRtIolvSF"
      },
      "outputs": [],
      "source": [
        "import zipfile\n",
        "import os\n",
        "from os import walk\n",
        "from os.path import join\n",
        "import pandas as pd\n",
        "import matplotlib.pyplot as plt\n",
        "\n",
        "import nltk\n",
        "from nltk.stem import PorterStemmer\n",
        "from nltk.stem import SnowballStemmer\n",
        "from nltk.corpus import stopwords\n",
        "from nltk.tokenize import word_tokenize\n",
        "\n",
        "from bs4 import BeautifulSoup\n",
        "%matplotlib inline"
      ]
    },
    {
      "cell_type": "code",
      "source": [
        "from google.colab import files\n",
        "uploaded = files.upload()\n"
      ],
      "metadata": {
        "colab": {
          "base_uri": "https://localhost:8080/",
          "height": 73
        },
        "id": "z9MZO_hl_HsP",
        "outputId": "60816463-d899-46ab-9f17-dbdb68f8202c"
      },
      "execution_count": 2,
      "outputs": [
        {
          "output_type": "display_data",
          "data": {
            "text/plain": [
              "<IPython.core.display.HTML object>"
            ],
            "text/html": [
              "\n",
              "     <input type=\"file\" id=\"files-ed62c33f-3dea-4b1c-89f9-70bb59636f26\" name=\"files[]\" multiple disabled\n",
              "        style=\"border:none\" />\n",
              "     <output id=\"result-ed62c33f-3dea-4b1c-89f9-70bb59636f26\">\n",
              "      Upload widget is only available when the cell has been executed in the\n",
              "      current browser session. Please rerun this cell to enable.\n",
              "      </output>\n",
              "      <script>// Copyright 2017 Google LLC\n",
              "//\n",
              "// Licensed under the Apache License, Version 2.0 (the \"License\");\n",
              "// you may not use this file except in compliance with the License.\n",
              "// You may obtain a copy of the License at\n",
              "//\n",
              "//      http://www.apache.org/licenses/LICENSE-2.0\n",
              "//\n",
              "// Unless required by applicable law or agreed to in writing, software\n",
              "// distributed under the License is distributed on an \"AS IS\" BASIS,\n",
              "// WITHOUT WARRANTIES OR CONDITIONS OF ANY KIND, either express or implied.\n",
              "// See the License for the specific language governing permissions and\n",
              "// limitations under the License.\n",
              "\n",
              "/**\n",
              " * @fileoverview Helpers for google.colab Python module.\n",
              " */\n",
              "(function(scope) {\n",
              "function span(text, styleAttributes = {}) {\n",
              "  const element = document.createElement('span');\n",
              "  element.textContent = text;\n",
              "  for (const key of Object.keys(styleAttributes)) {\n",
              "    element.style[key] = styleAttributes[key];\n",
              "  }\n",
              "  return element;\n",
              "}\n",
              "\n",
              "// Max number of bytes which will be uploaded at a time.\n",
              "const MAX_PAYLOAD_SIZE = 100 * 1024;\n",
              "\n",
              "function _uploadFiles(inputId, outputId) {\n",
              "  const steps = uploadFilesStep(inputId, outputId);\n",
              "  const outputElement = document.getElementById(outputId);\n",
              "  // Cache steps on the outputElement to make it available for the next call\n",
              "  // to uploadFilesContinue from Python.\n",
              "  outputElement.steps = steps;\n",
              "\n",
              "  return _uploadFilesContinue(outputId);\n",
              "}\n",
              "\n",
              "// This is roughly an async generator (not supported in the browser yet),\n",
              "// where there are multiple asynchronous steps and the Python side is going\n",
              "// to poll for completion of each step.\n",
              "// This uses a Promise to block the python side on completion of each step,\n",
              "// then passes the result of the previous step as the input to the next step.\n",
              "function _uploadFilesContinue(outputId) {\n",
              "  const outputElement = document.getElementById(outputId);\n",
              "  const steps = outputElement.steps;\n",
              "\n",
              "  const next = steps.next(outputElement.lastPromiseValue);\n",
              "  return Promise.resolve(next.value.promise).then((value) => {\n",
              "    // Cache the last promise value to make it available to the next\n",
              "    // step of the generator.\n",
              "    outputElement.lastPromiseValue = value;\n",
              "    return next.value.response;\n",
              "  });\n",
              "}\n",
              "\n",
              "/**\n",
              " * Generator function which is called between each async step of the upload\n",
              " * process.\n",
              " * @param {string} inputId Element ID of the input file picker element.\n",
              " * @param {string} outputId Element ID of the output display.\n",
              " * @return {!Iterable<!Object>} Iterable of next steps.\n",
              " */\n",
              "function* uploadFilesStep(inputId, outputId) {\n",
              "  const inputElement = document.getElementById(inputId);\n",
              "  inputElement.disabled = false;\n",
              "\n",
              "  const outputElement = document.getElementById(outputId);\n",
              "  outputElement.innerHTML = '';\n",
              "\n",
              "  const pickedPromise = new Promise((resolve) => {\n",
              "    inputElement.addEventListener('change', (e) => {\n",
              "      resolve(e.target.files);\n",
              "    });\n",
              "  });\n",
              "\n",
              "  const cancel = document.createElement('button');\n",
              "  inputElement.parentElement.appendChild(cancel);\n",
              "  cancel.textContent = 'Cancel upload';\n",
              "  const cancelPromise = new Promise((resolve) => {\n",
              "    cancel.onclick = () => {\n",
              "      resolve(null);\n",
              "    };\n",
              "  });\n",
              "\n",
              "  // Wait for the user to pick the files.\n",
              "  const files = yield {\n",
              "    promise: Promise.race([pickedPromise, cancelPromise]),\n",
              "    response: {\n",
              "      action: 'starting',\n",
              "    }\n",
              "  };\n",
              "\n",
              "  cancel.remove();\n",
              "\n",
              "  // Disable the input element since further picks are not allowed.\n",
              "  inputElement.disabled = true;\n",
              "\n",
              "  if (!files) {\n",
              "    return {\n",
              "      response: {\n",
              "        action: 'complete',\n",
              "      }\n",
              "    };\n",
              "  }\n",
              "\n",
              "  for (const file of files) {\n",
              "    const li = document.createElement('li');\n",
              "    li.append(span(file.name, {fontWeight: 'bold'}));\n",
              "    li.append(span(\n",
              "        `(${file.type || 'n/a'}) - ${file.size} bytes, ` +\n",
              "        `last modified: ${\n",
              "            file.lastModifiedDate ? file.lastModifiedDate.toLocaleDateString() :\n",
              "                                    'n/a'} - `));\n",
              "    const percent = span('0% done');\n",
              "    li.appendChild(percent);\n",
              "\n",
              "    outputElement.appendChild(li);\n",
              "\n",
              "    const fileDataPromise = new Promise((resolve) => {\n",
              "      const reader = new FileReader();\n",
              "      reader.onload = (e) => {\n",
              "        resolve(e.target.result);\n",
              "      };\n",
              "      reader.readAsArrayBuffer(file);\n",
              "    });\n",
              "    // Wait for the data to be ready.\n",
              "    let fileData = yield {\n",
              "      promise: fileDataPromise,\n",
              "      response: {\n",
              "        action: 'continue',\n",
              "      }\n",
              "    };\n",
              "\n",
              "    // Use a chunked sending to avoid message size limits. See b/62115660.\n",
              "    let position = 0;\n",
              "    do {\n",
              "      const length = Math.min(fileData.byteLength - position, MAX_PAYLOAD_SIZE);\n",
              "      const chunk = new Uint8Array(fileData, position, length);\n",
              "      position += length;\n",
              "\n",
              "      const base64 = btoa(String.fromCharCode.apply(null, chunk));\n",
              "      yield {\n",
              "        response: {\n",
              "          action: 'append',\n",
              "          file: file.name,\n",
              "          data: base64,\n",
              "        },\n",
              "      };\n",
              "\n",
              "      let percentDone = fileData.byteLength === 0 ?\n",
              "          100 :\n",
              "          Math.round((position / fileData.byteLength) * 100);\n",
              "      percent.textContent = `${percentDone}% done`;\n",
              "\n",
              "    } while (position < fileData.byteLength);\n",
              "  }\n",
              "\n",
              "  // All done.\n",
              "  yield {\n",
              "    response: {\n",
              "      action: 'complete',\n",
              "    }\n",
              "  };\n",
              "}\n",
              "\n",
              "scope.google = scope.google || {};\n",
              "scope.google.colab = scope.google.colab || {};\n",
              "scope.google.colab._files = {\n",
              "  _uploadFiles,\n",
              "  _uploadFilesContinue,\n",
              "};\n",
              "})(self);\n",
              "</script> "
            ]
          },
          "metadata": {}
        },
        {
          "output_type": "stream",
          "name": "stdout",
          "text": [
            "Saving SpamData.zip to SpamData.zip\n"
          ]
        }
      ]
    },
    {
      "cell_type": "code",
      "source": [
        "zip_file = 'SpamData.zip'\n",
        "unzip_dir = '/content/DataExtracted'\n",
        "\n",
        "with zipfile.ZipFile(zip_file, 'r') as zip_ref:\n",
        "    zip_ref.extractall(unzip_dir)\n"
      ],
      "metadata": {
        "id": "hHSVBhNN_WsC"
      },
      "execution_count": 3,
      "outputs": []
    },
    {
      "cell_type": "code",
      "source": [
        "import os\n",
        "current_directory = os.getcwd()\n",
        "print(\"Current working directory:\", current_directory)"
      ],
      "metadata": {
        "id": "gX0X2_qFtM4m",
        "colab": {
          "base_uri": "https://localhost:8080/"
        },
        "outputId": "41172bce-f228-47d1-ef1e-927bf46eb4e0"
      },
      "execution_count": 4,
      "outputs": [
        {
          "output_type": "stream",
          "name": "stdout",
          "text": [
            "Current working directory: /content\n"
          ]
        }
      ]
    },
    {
      "cell_type": "markdown",
      "source": [
        "**Constants**"
      ],
      "metadata": {
        "id": "1wdUCEQptR4d"
      }
    },
    {
      "cell_type": "code",
      "source": [
        "EXAMPLE_FILE = 'DataExtracted/SpamData/01_Processing/practice_email.txt'\n",
        "\n",
        "SPAM_1_PATH = 'DataExtracted/SpamData/01_Processing/spam_assassin_corpus/spam_1'\n",
        "SPAM_2_PATH = 'DataExtracted/SpamData/01_Processing/spam_assassin_corpus/spam_2'\n",
        "EASY_NONSPAM_1_PATH = 'DataExtracted/SpamData/01_Processing/spam_assassin_corpus/easy_ham_1'\n",
        "EASY_NONSPAM_2_PATH = 'DataExtracted/SpamData/01_Processing/spam_assassin_corpus/easy_ham_2'\n",
        "\n",
        "SPAM_CAT = 1\n",
        "HAM_CAT = 0\n",
        "\n",
        "DATA_JSON_FILE = 'DataExtracted/SpamData/01_Processing/email-text-data.json'"
      ],
      "metadata": {
        "id": "1j-cVjMCtSNI"
      },
      "execution_count": 5,
      "outputs": []
    },
    {
      "cell_type": "code",
      "source": [
        "stream = open(EXAMPLE_FILE, encoding='utf-8')\n",
        "message = stream.read()\n",
        "stream.close()\n",
        "\n",
        "print(message)"
      ],
      "metadata": {
        "colab": {
          "base_uri": "https://localhost:8080/"
        },
        "id": "cRmM2ehw9su2",
        "outputId": "fad37ac2-a1a4-421d-cf89-254b2448ef91"
      },
      "execution_count": 54,
      "outputs": [
        {
          "output_type": "stream",
          "name": "stdout",
          "text": [
            "From exmh-workers-admin@redhat.com  Thu Aug 22 12:36:23 2002\n",
            "Return-Path: <exmh-workers-admin@spamassassin.taint.org>\n",
            "Delivered-To: zzzz@localhost.netnoteinc.com\n",
            "Received: from localhost (localhost [127.0.0.1])\n",
            "\tby phobos.labs.netnoteinc.com (Postfix) with ESMTP id D03E543C36\n",
            "\tfor <zzzz@localhost>; Thu, 22 Aug 2002 07:36:16 -0400 (EDT)\n",
            "Received: from phobos [127.0.0.1]\n",
            "\tby localhost with IMAP (fetchmail-5.9.0)\n",
            "\tfor zzzz@localhost (single-drop); Thu, 22 Aug 2002 12:36:16 +0100 (IST)\n",
            "Received: from listman.spamassassin.taint.org (listman.spamassassin.taint.org [66.187.233.211]) by\n",
            "    dogma.slashnull.org (8.11.6/8.11.6) with ESMTP id g7MBYrZ04811 for\n",
            "    <zzzz-exmh@spamassassin.taint.org>; Thu, 22 Aug 2002 12:34:53 +0100\n",
            "Received: from listman.spamassassin.taint.org (localhost.localdomain [127.0.0.1]) by\n",
            "    listman.redhat.com (Postfix) with ESMTP id 8386540858; Thu, 22 Aug 2002\n",
            "    07:35:02 -0400 (EDT)\n",
            "Delivered-To: exmh-workers@listman.spamassassin.taint.org\n",
            "Received: from int-mx1.corp.spamassassin.taint.org (int-mx1.corp.spamassassin.taint.org\n",
            "    [172.16.52.254]) by listman.redhat.com (Postfix) with ESMTP id 10CF8406D7\n",
            "    for <exmh-workers@listman.redhat.com>; Thu, 22 Aug 2002 07:34:10 -0400\n",
            "    (EDT)\n",
            "Received: (from mail@localhost) by int-mx1.corp.spamassassin.taint.org (8.11.6/8.11.6)\n",
            "    id g7MBY7g11259 for exmh-workers@listman.redhat.com; Thu, 22 Aug 2002\n",
            "    07:34:07 -0400\n",
            "Received: from mx1.spamassassin.taint.org (mx1.spamassassin.taint.org [172.16.48.31]) by\n",
            "    int-mx1.corp.redhat.com (8.11.6/8.11.6) with SMTP id g7MBY7Y11255 for\n",
            "    <exmh-workers@redhat.com>; Thu, 22 Aug 2002 07:34:07 -0400\n",
            "Received: from ratree.psu.ac.th ([202.28.97.6]) by mx1.spamassassin.taint.org\n",
            "    (8.11.6/8.11.6) with SMTP id g7MBIhl25223 for <exmh-workers@redhat.com>;\n",
            "    Thu, 22 Aug 2002 07:18:55 -0400\n",
            "Received: from delta.cs.mu.OZ.AU (delta.coe.psu.ac.th [172.30.0.98]) by\n",
            "    ratree.psu.ac.th (8.11.6/8.11.6) with ESMTP id g7MBWel29762;\n",
            "    Thu, 22 Aug 2002 18:32:40 +0700 (ICT)\n",
            "Received: from munnari.OZ.AU (localhost [127.0.0.1]) by delta.cs.mu.OZ.AU\n",
            "    (8.11.6/8.11.6) with ESMTP id g7MBQPW13260; Thu, 22 Aug 2002 18:26:25\n",
            "    +0700 (ICT)\n",
            "From: Robert Elz <kre@munnari.OZ.AU>\n",
            "To: Chris Garrigues <cwg-dated-1030377287.06fa6d@DeepEddy.Com>\n",
            "Cc: exmh-workers@spamassassin.taint.org\n",
            "Subject: Re: New Sequences Window\n",
            "In-Reply-To: <1029945287.4797.TMDA@deepeddy.vircio.com>\n",
            "References: <1029945287.4797.TMDA@deepeddy.vircio.com>\n",
            "    <1029882468.3116.TMDA@deepeddy.vircio.com> <9627.1029933001@munnari.OZ.AU>\n",
            "    <1029943066.26919.TMDA@deepeddy.vircio.com>\n",
            "    <1029944441.398.TMDA@deepeddy.vircio.com>\n",
            "MIME-Version: 1.0\n",
            "Content-Type: text/plain; charset=us-ascii\n",
            "Message-Id: <13258.1030015585@munnari.OZ.AU>\n",
            "X-Loop: exmh-workers@spamassassin.taint.org\n",
            "Sender: exmh-workers-admin@spamassassin.taint.org\n",
            "Errors-To: exmh-workers-admin@spamassassin.taint.org\n",
            "X-Beenthere: exmh-workers@spamassassin.taint.org\n",
            "X-Mailman-Version: 2.0.1\n",
            "Precedence: bulk\n",
            "List-Help: <mailto:exmh-workers-request@spamassassin.taint.org?subject=help>\n",
            "List-Post: <mailto:exmh-workers@spamassassin.taint.org>\n",
            "List-Subscribe: <https://listman.spamassassin.taint.org/mailman/listinfo/exmh-workers>,\n",
            "    <mailto:exmh-workers-request@redhat.com?subject=subscribe>\n",
            "List-Id: Discussion list for EXMH developers <exmh-workers.spamassassin.taint.org>\n",
            "List-Unsubscribe: <https://listman.spamassassin.taint.org/mailman/listinfo/exmh-workers>,\n",
            "    <mailto:exmh-workers-request@redhat.com?subject=unsubscribe>\n",
            "List-Archive: <https://listman.spamassassin.taint.org/mailman/private/exmh-workers/>\n",
            "Date: Thu, 22 Aug 2002 18:26:25 +0700\n",
            "\n",
            "\n",
            "Dear Mr Still\n",
            "\n",
            "Good tidings to you and all your staff for the festive season ahead (Christmas).\n",
            "Now to the crux of the matter-in-hand: I am a fully qualified Santa Claus and am wondering whether you might consider me to run my own \"Santa's Grotto\" in your store.\n",
            "But WAIT! You're probably thinking: \"What makes him so special?\"\n",
            "Well, first of all, I have made several changes to the characterisation of Father Christmas. Rather than greeting the children with shouts of \"Ho, ho, ho!\" I prefer to whisper the phrase \"Dependence is not unfathomable in this cruel world we live in\". In addition, my gifts are ALL hand-made, ranging from felt hoops to vanilla-pod holders.\n",
            "You will note also, from the enclosed sketch, that I have radically redesigned Santa's outfit and have renamed my character \"Lord Buckles\". Would you be interested in employing me? I promise NEVER to let you down.\n",
            "I look forward to hearing from you.\n",
            "\n",
            "Best wishes\n",
            "Robin Cooper\n",
            "[Excerpt from the book: The Timewaster Letters by Robin Cooper]\n",
            "\n"
          ]
        }
      ]
    },
    {
      "cell_type": "code",
      "source": [
        "stream = open(EXAMPLE_FILE, encoding='utf-8')\n",
        "is_body = False\n",
        "lines = []\n",
        "\n",
        "for line in stream:\n",
        "  if is_body:\n",
        "    lines.append(line)\n",
        "  elif line == '\\n':\n",
        "    is_body = True\n",
        "\n",
        "stream.close()\n",
        "email_body = '\\n'.join(lines)\n",
        "\n",
        "print(email_body)"
      ],
      "metadata": {
        "colab": {
          "base_uri": "https://localhost:8080/"
        },
        "id": "IcySOelM9YWh",
        "outputId": "ed143518-37f1-4730-d61d-77172594de07"
      },
      "execution_count": 55,
      "outputs": [
        {
          "output_type": "stream",
          "name": "stdout",
          "text": [
            "\n",
            "\n",
            "Dear Mr Still\n",
            "\n",
            "\n",
            "\n",
            "Good tidings to you and all your staff for the festive season ahead (Christmas).\n",
            "\n",
            "Now to the crux of the matter-in-hand: I am a fully qualified Santa Claus and am wondering whether you might consider me to run my own \"Santa's Grotto\" in your store.\n",
            "\n",
            "But WAIT! You're probably thinking: \"What makes him so special?\"\n",
            "\n",
            "Well, first of all, I have made several changes to the characterisation of Father Christmas. Rather than greeting the children with shouts of \"Ho, ho, ho!\" I prefer to whisper the phrase \"Dependence is not unfathomable in this cruel world we live in\". In addition, my gifts are ALL hand-made, ranging from felt hoops to vanilla-pod holders.\n",
            "\n",
            "You will note also, from the enclosed sketch, that I have radically redesigned Santa's outfit and have renamed my character \"Lord Buckles\". Would you be interested in employing me? I promise NEVER to let you down.\n",
            "\n",
            "I look forward to hearing from you.\n",
            "\n",
            "\n",
            "\n",
            "Best wishes\n",
            "\n",
            "Robin Cooper\n",
            "\n",
            "[Excerpt from the book: The Timewaster Letters by Robin Cooper]\n",
            "\n"
          ]
        }
      ]
    },
    {
      "cell_type": "markdown",
      "source": [
        "**Generator Functions**"
      ],
      "metadata": {
        "id": "3jyPKGG-tqFU"
      }
    },
    {
      "cell_type": "code",
      "source": [
        "def generate_squares(N):\n",
        "  for my_number in range(N):\n",
        "    yield my_number ** 2"
      ],
      "metadata": {
        "id": "vNmL2jo9trtD"
      },
      "execution_count": 6,
      "outputs": []
    },
    {
      "cell_type": "code",
      "source": [
        "for i in generate_squares(5):\n",
        "  print(i, end=' ->')"
      ],
      "metadata": {
        "id": "yepdcfVYtwgw",
        "colab": {
          "base_uri": "https://localhost:8080/"
        },
        "outputId": "98cae22d-4e9e-421f-9b61-5fedba7b2ac6"
      },
      "execution_count": 7,
      "outputs": [
        {
          "output_type": "stream",
          "name": "stdout",
          "text": [
            "0 ->1 ->4 ->9 ->16 ->"
          ]
        }
      ]
    },
    {
      "cell_type": "markdown",
      "source": [
        "**Email body extraction**"
      ],
      "metadata": {
        "id": "Hbx-9eFat0W_"
      }
    },
    {
      "cell_type": "code",
      "source": [
        "def email_body_generator(path):\n",
        "\n",
        "  for root, dirnames, filenames in walk(path):\n",
        "    for file_name in filenames:\n",
        "\n",
        "      filepath = join(root, file_name)\n",
        "      stream = open(filepath, encoding='latin-1')\n",
        "      is_body = False\n",
        "      lines = []\n",
        "\n",
        "      for line in stream:\n",
        "        if is_body:\n",
        "          lines.append(line)\n",
        "        elif line == '\\n':\n",
        "          is_body = True\n",
        "\n",
        "      stream.close()\n",
        "      email_body = '\\n'.join(lines)\n",
        "\n",
        "      yield file_name, email_body"
      ],
      "metadata": {
        "id": "FzjJaMKJtx2j"
      },
      "execution_count": 8,
      "outputs": []
    },
    {
      "cell_type": "code",
      "source": [
        "def df_from_directory(path,classification):\n",
        "  rows = []\n",
        "  row_names = []\n",
        "\n",
        "  for file_name, email_body in email_body_generator(path):\n",
        "    rows.append({'MESSAGE': email_body, 'CATEGORY': classification})\n",
        "    row_names.append(file_name)\n",
        "\n",
        "\n",
        "  return pd.DataFrame(rows, index=row_names)"
      ],
      "metadata": {
        "id": "c2nHgd-Mt4lB"
      },
      "execution_count": 9,
      "outputs": []
    },
    {
      "cell_type": "code",
      "source": [
        "spam_emails = df_from_directory(SPAM_1_PATH, 1)\n",
        "spam_emails = pd.concat([spam_emails, df_from_directory(SPAM_2_PATH, 1)])\n",
        "spam_emails.head()"
      ],
      "metadata": {
        "id": "2Cp7svCLu-3f",
        "colab": {
          "base_uri": "https://localhost:8080/",
          "height": 206
        },
        "outputId": "6c62c3af-a488-4704-cba7-08c306c67ade"
      },
      "execution_count": 10,
      "outputs": [
        {
          "output_type": "execute_result",
          "data": {
            "text/plain": [
              "                                                                                  MESSAGE  \\\n",
              "00331.a61788d316e7393c8bbf8ee19b24c713  <HTML><HEAD><TITLE></TITLE><META http-equiv=3D...   \n",
              "00213.8c42a1c257aa30ff3b3ba668cca59408   <p>We thank you for just a moment of your tim...   \n",
              "00438.41295e1df4b651b7611316331b8468e4  Dear Homeowner,\\n\\n \\n\\nInterest Rates are at ...   \n",
              "00420.e208f7d65551c01efaa3b4ee4bc4df3c  REGISTER DOMAINS FOR JUST $14.95\\n\\n\\n\\n\\n\\nTh...   \n",
              "00019.bbc97ad616ffd06e93ce0f821ca8c381  Lowest rates available for term life insurance...   \n",
              "\n",
              "                                        CATEGORY  \n",
              "00331.a61788d316e7393c8bbf8ee19b24c713         1  \n",
              "00213.8c42a1c257aa30ff3b3ba668cca59408         1  \n",
              "00438.41295e1df4b651b7611316331b8468e4         1  \n",
              "00420.e208f7d65551c01efaa3b4ee4bc4df3c         1  \n",
              "00019.bbc97ad616ffd06e93ce0f821ca8c381         1  "
            ],
            "text/html": [
              "\n",
              "  <div id=\"df-72fd92ac-2f53-4944-8d90-bea744ffa779\" class=\"colab-df-container\">\n",
              "    <div>\n",
              "<style scoped>\n",
              "    .dataframe tbody tr th:only-of-type {\n",
              "        vertical-align: middle;\n",
              "    }\n",
              "\n",
              "    .dataframe tbody tr th {\n",
              "        vertical-align: top;\n",
              "    }\n",
              "\n",
              "    .dataframe thead th {\n",
              "        text-align: right;\n",
              "    }\n",
              "</style>\n",
              "<table border=\"1\" class=\"dataframe\">\n",
              "  <thead>\n",
              "    <tr style=\"text-align: right;\">\n",
              "      <th></th>\n",
              "      <th>MESSAGE</th>\n",
              "      <th>CATEGORY</th>\n",
              "    </tr>\n",
              "  </thead>\n",
              "  <tbody>\n",
              "    <tr>\n",
              "      <th>00331.a61788d316e7393c8bbf8ee19b24c713</th>\n",
              "      <td>&lt;HTML&gt;&lt;HEAD&gt;&lt;TITLE&gt;&lt;/TITLE&gt;&lt;META http-equiv=3D...</td>\n",
              "      <td>1</td>\n",
              "    </tr>\n",
              "    <tr>\n",
              "      <th>00213.8c42a1c257aa30ff3b3ba668cca59408</th>\n",
              "      <td>&lt;p&gt;We thank you for just a moment of your tim...</td>\n",
              "      <td>1</td>\n",
              "    </tr>\n",
              "    <tr>\n",
              "      <th>00438.41295e1df4b651b7611316331b8468e4</th>\n",
              "      <td>Dear Homeowner,\\n\\n \\n\\nInterest Rates are at ...</td>\n",
              "      <td>1</td>\n",
              "    </tr>\n",
              "    <tr>\n",
              "      <th>00420.e208f7d65551c01efaa3b4ee4bc4df3c</th>\n",
              "      <td>REGISTER DOMAINS FOR JUST $14.95\\n\\n\\n\\n\\n\\nTh...</td>\n",
              "      <td>1</td>\n",
              "    </tr>\n",
              "    <tr>\n",
              "      <th>00019.bbc97ad616ffd06e93ce0f821ca8c381</th>\n",
              "      <td>Lowest rates available for term life insurance...</td>\n",
              "      <td>1</td>\n",
              "    </tr>\n",
              "  </tbody>\n",
              "</table>\n",
              "</div>\n",
              "    <div class=\"colab-df-buttons\">\n",
              "\n",
              "  <div class=\"colab-df-container\">\n",
              "    <button class=\"colab-df-convert\" onclick=\"convertToInteractive('df-72fd92ac-2f53-4944-8d90-bea744ffa779')\"\n",
              "            title=\"Convert this dataframe to an interactive table.\"\n",
              "            style=\"display:none;\">\n",
              "\n",
              "  <svg xmlns=\"http://www.w3.org/2000/svg\" height=\"24px\" viewBox=\"0 -960 960 960\">\n",
              "    <path d=\"M120-120v-720h720v720H120Zm60-500h600v-160H180v160Zm220 220h160v-160H400v160Zm0 220h160v-160H400v160ZM180-400h160v-160H180v160Zm440 0h160v-160H620v160ZM180-180h160v-160H180v160Zm440 0h160v-160H620v160Z\"/>\n",
              "  </svg>\n",
              "    </button>\n",
              "\n",
              "  <style>\n",
              "    .colab-df-container {\n",
              "      display:flex;\n",
              "      gap: 12px;\n",
              "    }\n",
              "\n",
              "    .colab-df-convert {\n",
              "      background-color: #E8F0FE;\n",
              "      border: none;\n",
              "      border-radius: 50%;\n",
              "      cursor: pointer;\n",
              "      display: none;\n",
              "      fill: #1967D2;\n",
              "      height: 32px;\n",
              "      padding: 0 0 0 0;\n",
              "      width: 32px;\n",
              "    }\n",
              "\n",
              "    .colab-df-convert:hover {\n",
              "      background-color: #E2EBFA;\n",
              "      box-shadow: 0px 1px 2px rgba(60, 64, 67, 0.3), 0px 1px 3px 1px rgba(60, 64, 67, 0.15);\n",
              "      fill: #174EA6;\n",
              "    }\n",
              "\n",
              "    .colab-df-buttons div {\n",
              "      margin-bottom: 4px;\n",
              "    }\n",
              "\n",
              "    [theme=dark] .colab-df-convert {\n",
              "      background-color: #3B4455;\n",
              "      fill: #D2E3FC;\n",
              "    }\n",
              "\n",
              "    [theme=dark] .colab-df-convert:hover {\n",
              "      background-color: #434B5C;\n",
              "      box-shadow: 0px 1px 3px 1px rgba(0, 0, 0, 0.15);\n",
              "      filter: drop-shadow(0px 1px 2px rgba(0, 0, 0, 0.3));\n",
              "      fill: #FFFFFF;\n",
              "    }\n",
              "  </style>\n",
              "\n",
              "    <script>\n",
              "      const buttonEl =\n",
              "        document.querySelector('#df-72fd92ac-2f53-4944-8d90-bea744ffa779 button.colab-df-convert');\n",
              "      buttonEl.style.display =\n",
              "        google.colab.kernel.accessAllowed ? 'block' : 'none';\n",
              "\n",
              "      async function convertToInteractive(key) {\n",
              "        const element = document.querySelector('#df-72fd92ac-2f53-4944-8d90-bea744ffa779');\n",
              "        const dataTable =\n",
              "          await google.colab.kernel.invokeFunction('convertToInteractive',\n",
              "                                                    [key], {});\n",
              "        if (!dataTable) return;\n",
              "\n",
              "        const docLinkHtml = 'Like what you see? Visit the ' +\n",
              "          '<a target=\"_blank\" href=https://colab.research.google.com/notebooks/data_table.ipynb>data table notebook</a>'\n",
              "          + ' to learn more about interactive tables.';\n",
              "        element.innerHTML = '';\n",
              "        dataTable['output_type'] = 'display_data';\n",
              "        await google.colab.output.renderOutput(dataTable, element);\n",
              "        const docLink = document.createElement('div');\n",
              "        docLink.innerHTML = docLinkHtml;\n",
              "        element.appendChild(docLink);\n",
              "      }\n",
              "    </script>\n",
              "  </div>\n",
              "\n",
              "\n",
              "<div id=\"df-072d6673-bcde-4c05-8c9f-0cdf12f1877d\">\n",
              "  <button class=\"colab-df-quickchart\" onclick=\"quickchart('df-072d6673-bcde-4c05-8c9f-0cdf12f1877d')\"\n",
              "            title=\"Suggest charts\"\n",
              "            style=\"display:none;\">\n",
              "\n",
              "<svg xmlns=\"http://www.w3.org/2000/svg\" height=\"24px\"viewBox=\"0 0 24 24\"\n",
              "     width=\"24px\">\n",
              "    <g>\n",
              "        <path d=\"M19 3H5c-1.1 0-2 .9-2 2v14c0 1.1.9 2 2 2h14c1.1 0 2-.9 2-2V5c0-1.1-.9-2-2-2zM9 17H7v-7h2v7zm4 0h-2V7h2v10zm4 0h-2v-4h2v4z\"/>\n",
              "    </g>\n",
              "</svg>\n",
              "  </button>\n",
              "\n",
              "<style>\n",
              "  .colab-df-quickchart {\n",
              "      --bg-color: #E8F0FE;\n",
              "      --fill-color: #1967D2;\n",
              "      --hover-bg-color: #E2EBFA;\n",
              "      --hover-fill-color: #174EA6;\n",
              "      --disabled-fill-color: #AAA;\n",
              "      --disabled-bg-color: #DDD;\n",
              "  }\n",
              "\n",
              "  [theme=dark] .colab-df-quickchart {\n",
              "      --bg-color: #3B4455;\n",
              "      --fill-color: #D2E3FC;\n",
              "      --hover-bg-color: #434B5C;\n",
              "      --hover-fill-color: #FFFFFF;\n",
              "      --disabled-bg-color: #3B4455;\n",
              "      --disabled-fill-color: #666;\n",
              "  }\n",
              "\n",
              "  .colab-df-quickchart {\n",
              "    background-color: var(--bg-color);\n",
              "    border: none;\n",
              "    border-radius: 50%;\n",
              "    cursor: pointer;\n",
              "    display: none;\n",
              "    fill: var(--fill-color);\n",
              "    height: 32px;\n",
              "    padding: 0;\n",
              "    width: 32px;\n",
              "  }\n",
              "\n",
              "  .colab-df-quickchart:hover {\n",
              "    background-color: var(--hover-bg-color);\n",
              "    box-shadow: 0 1px 2px rgba(60, 64, 67, 0.3), 0 1px 3px 1px rgba(60, 64, 67, 0.15);\n",
              "    fill: var(--button-hover-fill-color);\n",
              "  }\n",
              "\n",
              "  .colab-df-quickchart-complete:disabled,\n",
              "  .colab-df-quickchart-complete:disabled:hover {\n",
              "    background-color: var(--disabled-bg-color);\n",
              "    fill: var(--disabled-fill-color);\n",
              "    box-shadow: none;\n",
              "  }\n",
              "\n",
              "  .colab-df-spinner {\n",
              "    border: 2px solid var(--fill-color);\n",
              "    border-color: transparent;\n",
              "    border-bottom-color: var(--fill-color);\n",
              "    animation:\n",
              "      spin 1s steps(1) infinite;\n",
              "  }\n",
              "\n",
              "  @keyframes spin {\n",
              "    0% {\n",
              "      border-color: transparent;\n",
              "      border-bottom-color: var(--fill-color);\n",
              "      border-left-color: var(--fill-color);\n",
              "    }\n",
              "    20% {\n",
              "      border-color: transparent;\n",
              "      border-left-color: var(--fill-color);\n",
              "      border-top-color: var(--fill-color);\n",
              "    }\n",
              "    30% {\n",
              "      border-color: transparent;\n",
              "      border-left-color: var(--fill-color);\n",
              "      border-top-color: var(--fill-color);\n",
              "      border-right-color: var(--fill-color);\n",
              "    }\n",
              "    40% {\n",
              "      border-color: transparent;\n",
              "      border-right-color: var(--fill-color);\n",
              "      border-top-color: var(--fill-color);\n",
              "    }\n",
              "    60% {\n",
              "      border-color: transparent;\n",
              "      border-right-color: var(--fill-color);\n",
              "    }\n",
              "    80% {\n",
              "      border-color: transparent;\n",
              "      border-right-color: var(--fill-color);\n",
              "      border-bottom-color: var(--fill-color);\n",
              "    }\n",
              "    90% {\n",
              "      border-color: transparent;\n",
              "      border-bottom-color: var(--fill-color);\n",
              "    }\n",
              "  }\n",
              "</style>\n",
              "\n",
              "  <script>\n",
              "    async function quickchart(key) {\n",
              "      const quickchartButtonEl =\n",
              "        document.querySelector('#' + key + ' button');\n",
              "      quickchartButtonEl.disabled = true;  // To prevent multiple clicks.\n",
              "      quickchartButtonEl.classList.add('colab-df-spinner');\n",
              "      try {\n",
              "        const charts = await google.colab.kernel.invokeFunction(\n",
              "            'suggestCharts', [key], {});\n",
              "      } catch (error) {\n",
              "        console.error('Error during call to suggestCharts:', error);\n",
              "      }\n",
              "      quickchartButtonEl.classList.remove('colab-df-spinner');\n",
              "      quickchartButtonEl.classList.add('colab-df-quickchart-complete');\n",
              "    }\n",
              "    (() => {\n",
              "      let quickchartButtonEl =\n",
              "        document.querySelector('#df-072d6673-bcde-4c05-8c9f-0cdf12f1877d button');\n",
              "      quickchartButtonEl.style.display =\n",
              "        google.colab.kernel.accessAllowed ? 'block' : 'none';\n",
              "    })();\n",
              "  </script>\n",
              "</div>\n",
              "\n",
              "    </div>\n",
              "  </div>\n"
            ],
            "application/vnd.google.colaboratory.intrinsic+json": {
              "type": "dataframe",
              "variable_name": "spam_emails",
              "summary": "{\n  \"name\": \"spam_emails\",\n  \"rows\": 1898,\n  \"fields\": [\n    {\n      \"column\": \"MESSAGE\",\n      \"properties\": {\n        \"dtype\": \"string\",\n        \"num_unique_values\": 1764,\n        \"samples\": [\n          \"<html><body>\\n\\n<hr width = \\\"100%\\\">\\n\\n<center><font size = \\\"+2\\\" color = \\\"#44C300\\\"><b>Government Grants E-Book 2002 edition</font></b><p>\\n\\n<table><Tr><td> \\n\\n<li>You Can Receive The <font color = \\\"green\\\"><b>Money</b></font> You Need...\\n\\n<li>Every day <b><font color = \\\"green\\\">millions of dollars</font></b> are given away to people, just like you!!\\n\\n<li>Your Government spends <b><font color = \\\"green\\\">billions</font></b> of tax dollars on government grants.\\n\\n<li>Do you know that private foundations, trust and corporations are\\n\\n<li>required to give away a portion of theirs assets. It doesn't matter,\\n\\n<li>where you live (USA ONLY), your employment status, or if you are broke, retired\\n\\n<li>or living on a fixed income. There may be a grant for you!\\n\\n<hr width = \\\"100%\\\">\\n\\n<li><font color = \\\"red\\\"><b>ANYONE</b></font> can apply for a Grant from 18 years old and up!\\n\\n<li>We will show you HOW & WHERE to get Grants. <font color = \\\"red\\\"><b>THIS BOOK IS NEWLY UPDATED WITH THE MOST CURRENT INFORMATION!!!</b></font>\\n\\n<li>Grants from $500.00 to $50,000.00 are possible!\\n\\n<li>GRANTS don't have to be paid back, EVER!\\n\\n<li>Grants can be ideal for people who are or were bankrupt or just have bad credit.\\n\\n</td></tr></table>\\n\\n<br><font size = \\\"+1\\\">Please Visit Our Website<p></font>\\n\\nAnd Place Your <font color = \\\"red\\\"> <b>Order TODAY!</b> </font><a href = \\\"http://www153.wiildaccess.com/\\\"><b><font size=\\\"5\\\">CLICK HERE</font></b> </a><p>&nbsp;<p>\\n\\n<font size=\\\"1\\\">\\n\\nWe apologize for any email you may have inadvertently received.<br>\\n\\nPlease <a href = \\\"http://www153.wiildaccess.com/remove.htm\\\">CLICK HERE</a> to be removed from future mailings.</font><br>\\n\\n\\n\\n [IYs5]\\n\\n\\n\\n\\n\",\n          \"Dear Partner to be,\\n\\n\\n\\nFirst, I must apologise to you for using this medium to communicate to you\\n\\nabout this project.\\n\\n\\n\\nI am a highly placed official of  Government of Nigeria and also a\\n\\nfounding member of the ruling party in Power now,the Peoples Democratic\\n\\nParty(PDP).\\n\\n\\n\\nMy committee - The Niger Delta Development Corporation(NDDC)-which is in\\n\\ncharge of managing and supervising  the disbursement of oil sales revenues\\n\\nfor the Nigerian government.The revenues  under our control runs into\\n\\nseveral hundred of millions of dollars monthly.My self and   \\n\\nother colleagues in the NDDC are currently in need of a foreign partner\\n\\nwith whose bank account we shall transfer the sum of Forty Nine Million\\n\\nFive Hundred Thosand United States Dollars($49.5m).This fund accrued to us\\n\\nas commission for oil sales contracts handled under our supervision.\\n\\n\\n\\nThe fund is presently waiting in the Government Account named CBN/FGN\\n\\nINDEPENDENT REVENUE account number 400-939134 with J.P.MORGAN CHASE\\n\\nBANK,New York.You can do your independent verification of this. However,\\n\\nby virtue of our  position as civil servants and members of the NDDC, we\\n\\ncannot acquire this funds in our name. This is because as top civil\\n\\nservants, we are not allowed by law of the land to own or operate bank\\n\\naccounts outside our country for now.\\n\\n\\n\\nI have been delegated as a matter of trust by my colleagues,\\n\\nto look for an overseas partner in whose account we would\\n\\ntransfer the fund\\n\\n\\n\\nHence the reason for this mail.We shall be Transferring the money to your\\n\\naccount with your company as we shall present your company as a registered\\n\\nForeign company in Nigeria and you are been paid for a contract which you\\n\\nexecuted for our country through the NDDC and any other Federal Ministry\\n\\nthat we decide to use to siphon the funds through.\\n\\n\\n\\nFor your support and partnership,please reply me to negotiate your fees or\\n\\nthe percentage you wish to be paid when the funds arrive your bank account.\\n\\n\\n\\nYou must however note that this transaction, with\\n\\nregards to our disposition to continue with you, is subject\\n\\nto these terms. Firstly, our conviction of your transparency.\\n\\nSecondly, that you treat this transaction with utmost secrecy\\n\\nand confidentiality. Finally and above all, that you will provide\\n\\nan account that you have absolute control over.\\n\\n\\n\\nThe transaction, although discrete, is legitimate and there\\n\\nis no risk or legal disadvantages either to ourselves or yourself now or\\n\\nin the future as we have put in place perfect mchineries that will ensure\\n\\na hitch free transfer into your account upon acceptance.\\n\\n\\n\\nThe transfer will be effected to your account within ten-fourteen\\n\\n(10-14) working days as soon as we reach an agreement and you furnish\\n\\nme with a  suitable bank account and company name and address with all\\n\\nyour contact numbers including fax number.\\n\\n\\n\\nI am looking forward to doing business with you and do solicit\\n\\nyour confidentiality in this transaction,  Please mail your\\n\\nresponse to me.\\n\\n\\n\\nYours faithfully,\\n\\nAnderson K. Eseimoku\\n\\n \\n\\n\\n\\n\\n\\n\\n\\n-- \\n\\nIrish Linux Users' Group: ilug@linux.ie\\n\\nhttp://www.linux.ie/mailman/listinfo/ilug for (un)subscription information.\\n\\nList maintainer: listmaster@linux.ie\\n\\n\\n\\n\\n\",\n          \"<html><body><IMG SRC='http://master2.free4all.com/cgi-bin/sp/t.pl?id=7:56446664&o=1&d=1' BORDER=0 WIDTH=0 HEIGHT=0/>\\n\\n<center><img src=http://www.vitafactory.com/ad-friday/test.gif border=0>\\n\\n</body></html>\\n\\n\\n\\n\\n\"\n        ],\n        \"semantic_type\": \"\",\n        \"description\": \"\"\n      }\n    },\n    {\n      \"column\": \"CATEGORY\",\n      \"properties\": {\n        \"dtype\": \"number\",\n        \"std\": 0,\n        \"min\": 1,\n        \"max\": 1,\n        \"num_unique_values\": 1,\n        \"samples\": [\n          1\n        ],\n        \"semantic_type\": \"\",\n        \"description\": \"\"\n      }\n    }\n  ]\n}"
            }
          },
          "metadata": {},
          "execution_count": 10
        }
      ]
    },
    {
      "cell_type": "code",
      "source": [
        "ham_emails = df_from_directory(EASY_NONSPAM_1_PATH, 0)\n",
        "ham_emails = pd.concat([ham_emails, df_from_directory(EASY_NONSPAM_2_PATH, 0)])\n",
        "ham_emails.shape"
      ],
      "metadata": {
        "colab": {
          "base_uri": "https://localhost:8080/"
        },
        "id": "SXP7ccqhITmC",
        "outputId": "ad857078-18a4-4e36-cf9f-64b9a9ee0e24"
      },
      "execution_count": 11,
      "outputs": [
        {
          "output_type": "execute_result",
          "data": {
            "text/plain": [
              "(3901, 2)"
            ]
          },
          "metadata": {},
          "execution_count": 11
        }
      ]
    },
    {
      "cell_type": "code",
      "source": [
        "data = pd.concat([spam_emails, ham_emails])\n",
        "print('Shape of entire DataFrame is:', data.shape)\n",
        "data.head()"
      ],
      "metadata": {
        "colab": {
          "base_uri": "https://localhost:8080/",
          "height": 223
        },
        "id": "7aaDO7TLIfEj",
        "outputId": "c795c7e1-5cb9-4909-dc36-eb5f586493f2"
      },
      "execution_count": 12,
      "outputs": [
        {
          "output_type": "stream",
          "name": "stdout",
          "text": [
            "Shape of entire DataFrame is: (5799, 2)\n"
          ]
        },
        {
          "output_type": "execute_result",
          "data": {
            "text/plain": [
              "                                                                                  MESSAGE  \\\n",
              "00331.a61788d316e7393c8bbf8ee19b24c713  <HTML><HEAD><TITLE></TITLE><META http-equiv=3D...   \n",
              "00213.8c42a1c257aa30ff3b3ba668cca59408   <p>We thank you for just a moment of your tim...   \n",
              "00438.41295e1df4b651b7611316331b8468e4  Dear Homeowner,\\n\\n \\n\\nInterest Rates are at ...   \n",
              "00420.e208f7d65551c01efaa3b4ee4bc4df3c  REGISTER DOMAINS FOR JUST $14.95\\n\\n\\n\\n\\n\\nTh...   \n",
              "00019.bbc97ad616ffd06e93ce0f821ca8c381  Lowest rates available for term life insurance...   \n",
              "\n",
              "                                        CATEGORY  \n",
              "00331.a61788d316e7393c8bbf8ee19b24c713         1  \n",
              "00213.8c42a1c257aa30ff3b3ba668cca59408         1  \n",
              "00438.41295e1df4b651b7611316331b8468e4         1  \n",
              "00420.e208f7d65551c01efaa3b4ee4bc4df3c         1  \n",
              "00019.bbc97ad616ffd06e93ce0f821ca8c381         1  "
            ],
            "text/html": [
              "\n",
              "  <div id=\"df-519a3481-aeff-41ca-975c-0b229fca1fe8\" class=\"colab-df-container\">\n",
              "    <div>\n",
              "<style scoped>\n",
              "    .dataframe tbody tr th:only-of-type {\n",
              "        vertical-align: middle;\n",
              "    }\n",
              "\n",
              "    .dataframe tbody tr th {\n",
              "        vertical-align: top;\n",
              "    }\n",
              "\n",
              "    .dataframe thead th {\n",
              "        text-align: right;\n",
              "    }\n",
              "</style>\n",
              "<table border=\"1\" class=\"dataframe\">\n",
              "  <thead>\n",
              "    <tr style=\"text-align: right;\">\n",
              "      <th></th>\n",
              "      <th>MESSAGE</th>\n",
              "      <th>CATEGORY</th>\n",
              "    </tr>\n",
              "  </thead>\n",
              "  <tbody>\n",
              "    <tr>\n",
              "      <th>00331.a61788d316e7393c8bbf8ee19b24c713</th>\n",
              "      <td>&lt;HTML&gt;&lt;HEAD&gt;&lt;TITLE&gt;&lt;/TITLE&gt;&lt;META http-equiv=3D...</td>\n",
              "      <td>1</td>\n",
              "    </tr>\n",
              "    <tr>\n",
              "      <th>00213.8c42a1c257aa30ff3b3ba668cca59408</th>\n",
              "      <td>&lt;p&gt;We thank you for just a moment of your tim...</td>\n",
              "      <td>1</td>\n",
              "    </tr>\n",
              "    <tr>\n",
              "      <th>00438.41295e1df4b651b7611316331b8468e4</th>\n",
              "      <td>Dear Homeowner,\\n\\n \\n\\nInterest Rates are at ...</td>\n",
              "      <td>1</td>\n",
              "    </tr>\n",
              "    <tr>\n",
              "      <th>00420.e208f7d65551c01efaa3b4ee4bc4df3c</th>\n",
              "      <td>REGISTER DOMAINS FOR JUST $14.95\\n\\n\\n\\n\\n\\nTh...</td>\n",
              "      <td>1</td>\n",
              "    </tr>\n",
              "    <tr>\n",
              "      <th>00019.bbc97ad616ffd06e93ce0f821ca8c381</th>\n",
              "      <td>Lowest rates available for term life insurance...</td>\n",
              "      <td>1</td>\n",
              "    </tr>\n",
              "  </tbody>\n",
              "</table>\n",
              "</div>\n",
              "    <div class=\"colab-df-buttons\">\n",
              "\n",
              "  <div class=\"colab-df-container\">\n",
              "    <button class=\"colab-df-convert\" onclick=\"convertToInteractive('df-519a3481-aeff-41ca-975c-0b229fca1fe8')\"\n",
              "            title=\"Convert this dataframe to an interactive table.\"\n",
              "            style=\"display:none;\">\n",
              "\n",
              "  <svg xmlns=\"http://www.w3.org/2000/svg\" height=\"24px\" viewBox=\"0 -960 960 960\">\n",
              "    <path d=\"M120-120v-720h720v720H120Zm60-500h600v-160H180v160Zm220 220h160v-160H400v160Zm0 220h160v-160H400v160ZM180-400h160v-160H180v160Zm440 0h160v-160H620v160ZM180-180h160v-160H180v160Zm440 0h160v-160H620v160Z\"/>\n",
              "  </svg>\n",
              "    </button>\n",
              "\n",
              "  <style>\n",
              "    .colab-df-container {\n",
              "      display:flex;\n",
              "      gap: 12px;\n",
              "    }\n",
              "\n",
              "    .colab-df-convert {\n",
              "      background-color: #E8F0FE;\n",
              "      border: none;\n",
              "      border-radius: 50%;\n",
              "      cursor: pointer;\n",
              "      display: none;\n",
              "      fill: #1967D2;\n",
              "      height: 32px;\n",
              "      padding: 0 0 0 0;\n",
              "      width: 32px;\n",
              "    }\n",
              "\n",
              "    .colab-df-convert:hover {\n",
              "      background-color: #E2EBFA;\n",
              "      box-shadow: 0px 1px 2px rgba(60, 64, 67, 0.3), 0px 1px 3px 1px rgba(60, 64, 67, 0.15);\n",
              "      fill: #174EA6;\n",
              "    }\n",
              "\n",
              "    .colab-df-buttons div {\n",
              "      margin-bottom: 4px;\n",
              "    }\n",
              "\n",
              "    [theme=dark] .colab-df-convert {\n",
              "      background-color: #3B4455;\n",
              "      fill: #D2E3FC;\n",
              "    }\n",
              "\n",
              "    [theme=dark] .colab-df-convert:hover {\n",
              "      background-color: #434B5C;\n",
              "      box-shadow: 0px 1px 3px 1px rgba(0, 0, 0, 0.15);\n",
              "      filter: drop-shadow(0px 1px 2px rgba(0, 0, 0, 0.3));\n",
              "      fill: #FFFFFF;\n",
              "    }\n",
              "  </style>\n",
              "\n",
              "    <script>\n",
              "      const buttonEl =\n",
              "        document.querySelector('#df-519a3481-aeff-41ca-975c-0b229fca1fe8 button.colab-df-convert');\n",
              "      buttonEl.style.display =\n",
              "        google.colab.kernel.accessAllowed ? 'block' : 'none';\n",
              "\n",
              "      async function convertToInteractive(key) {\n",
              "        const element = document.querySelector('#df-519a3481-aeff-41ca-975c-0b229fca1fe8');\n",
              "        const dataTable =\n",
              "          await google.colab.kernel.invokeFunction('convertToInteractive',\n",
              "                                                    [key], {});\n",
              "        if (!dataTable) return;\n",
              "\n",
              "        const docLinkHtml = 'Like what you see? Visit the ' +\n",
              "          '<a target=\"_blank\" href=https://colab.research.google.com/notebooks/data_table.ipynb>data table notebook</a>'\n",
              "          + ' to learn more about interactive tables.';\n",
              "        element.innerHTML = '';\n",
              "        dataTable['output_type'] = 'display_data';\n",
              "        await google.colab.output.renderOutput(dataTable, element);\n",
              "        const docLink = document.createElement('div');\n",
              "        docLink.innerHTML = docLinkHtml;\n",
              "        element.appendChild(docLink);\n",
              "      }\n",
              "    </script>\n",
              "  </div>\n",
              "\n",
              "\n",
              "<div id=\"df-4f75dd58-e85f-4e30-b4a8-e83b4b2e7583\">\n",
              "  <button class=\"colab-df-quickchart\" onclick=\"quickchart('df-4f75dd58-e85f-4e30-b4a8-e83b4b2e7583')\"\n",
              "            title=\"Suggest charts\"\n",
              "            style=\"display:none;\">\n",
              "\n",
              "<svg xmlns=\"http://www.w3.org/2000/svg\" height=\"24px\"viewBox=\"0 0 24 24\"\n",
              "     width=\"24px\">\n",
              "    <g>\n",
              "        <path d=\"M19 3H5c-1.1 0-2 .9-2 2v14c0 1.1.9 2 2 2h14c1.1 0 2-.9 2-2V5c0-1.1-.9-2-2-2zM9 17H7v-7h2v7zm4 0h-2V7h2v10zm4 0h-2v-4h2v4z\"/>\n",
              "    </g>\n",
              "</svg>\n",
              "  </button>\n",
              "\n",
              "<style>\n",
              "  .colab-df-quickchart {\n",
              "      --bg-color: #E8F0FE;\n",
              "      --fill-color: #1967D2;\n",
              "      --hover-bg-color: #E2EBFA;\n",
              "      --hover-fill-color: #174EA6;\n",
              "      --disabled-fill-color: #AAA;\n",
              "      --disabled-bg-color: #DDD;\n",
              "  }\n",
              "\n",
              "  [theme=dark] .colab-df-quickchart {\n",
              "      --bg-color: #3B4455;\n",
              "      --fill-color: #D2E3FC;\n",
              "      --hover-bg-color: #434B5C;\n",
              "      --hover-fill-color: #FFFFFF;\n",
              "      --disabled-bg-color: #3B4455;\n",
              "      --disabled-fill-color: #666;\n",
              "  }\n",
              "\n",
              "  .colab-df-quickchart {\n",
              "    background-color: var(--bg-color);\n",
              "    border: none;\n",
              "    border-radius: 50%;\n",
              "    cursor: pointer;\n",
              "    display: none;\n",
              "    fill: var(--fill-color);\n",
              "    height: 32px;\n",
              "    padding: 0;\n",
              "    width: 32px;\n",
              "  }\n",
              "\n",
              "  .colab-df-quickchart:hover {\n",
              "    background-color: var(--hover-bg-color);\n",
              "    box-shadow: 0 1px 2px rgba(60, 64, 67, 0.3), 0 1px 3px 1px rgba(60, 64, 67, 0.15);\n",
              "    fill: var(--button-hover-fill-color);\n",
              "  }\n",
              "\n",
              "  .colab-df-quickchart-complete:disabled,\n",
              "  .colab-df-quickchart-complete:disabled:hover {\n",
              "    background-color: var(--disabled-bg-color);\n",
              "    fill: var(--disabled-fill-color);\n",
              "    box-shadow: none;\n",
              "  }\n",
              "\n",
              "  .colab-df-spinner {\n",
              "    border: 2px solid var(--fill-color);\n",
              "    border-color: transparent;\n",
              "    border-bottom-color: var(--fill-color);\n",
              "    animation:\n",
              "      spin 1s steps(1) infinite;\n",
              "  }\n",
              "\n",
              "  @keyframes spin {\n",
              "    0% {\n",
              "      border-color: transparent;\n",
              "      border-bottom-color: var(--fill-color);\n",
              "      border-left-color: var(--fill-color);\n",
              "    }\n",
              "    20% {\n",
              "      border-color: transparent;\n",
              "      border-left-color: var(--fill-color);\n",
              "      border-top-color: var(--fill-color);\n",
              "    }\n",
              "    30% {\n",
              "      border-color: transparent;\n",
              "      border-left-color: var(--fill-color);\n",
              "      border-top-color: var(--fill-color);\n",
              "      border-right-color: var(--fill-color);\n",
              "    }\n",
              "    40% {\n",
              "      border-color: transparent;\n",
              "      border-right-color: var(--fill-color);\n",
              "      border-top-color: var(--fill-color);\n",
              "    }\n",
              "    60% {\n",
              "      border-color: transparent;\n",
              "      border-right-color: var(--fill-color);\n",
              "    }\n",
              "    80% {\n",
              "      border-color: transparent;\n",
              "      border-right-color: var(--fill-color);\n",
              "      border-bottom-color: var(--fill-color);\n",
              "    }\n",
              "    90% {\n",
              "      border-color: transparent;\n",
              "      border-bottom-color: var(--fill-color);\n",
              "    }\n",
              "  }\n",
              "</style>\n",
              "\n",
              "  <script>\n",
              "    async function quickchart(key) {\n",
              "      const quickchartButtonEl =\n",
              "        document.querySelector('#' + key + ' button');\n",
              "      quickchartButtonEl.disabled = true;  // To prevent multiple clicks.\n",
              "      quickchartButtonEl.classList.add('colab-df-spinner');\n",
              "      try {\n",
              "        const charts = await google.colab.kernel.invokeFunction(\n",
              "            'suggestCharts', [key], {});\n",
              "      } catch (error) {\n",
              "        console.error('Error during call to suggestCharts:', error);\n",
              "      }\n",
              "      quickchartButtonEl.classList.remove('colab-df-spinner');\n",
              "      quickchartButtonEl.classList.add('colab-df-quickchart-complete');\n",
              "    }\n",
              "    (() => {\n",
              "      let quickchartButtonEl =\n",
              "        document.querySelector('#df-4f75dd58-e85f-4e30-b4a8-e83b4b2e7583 button');\n",
              "      quickchartButtonEl.style.display =\n",
              "        google.colab.kernel.accessAllowed ? 'block' : 'none';\n",
              "    })();\n",
              "  </script>\n",
              "</div>\n",
              "\n",
              "    </div>\n",
              "  </div>\n"
            ],
            "application/vnd.google.colaboratory.intrinsic+json": {
              "type": "dataframe",
              "variable_name": "data",
              "summary": "{\n  \"name\": \"data\",\n  \"rows\": 5799,\n  \"fields\": [\n    {\n      \"column\": \"MESSAGE\",\n      \"properties\": {\n        \"dtype\": \"string\",\n        \"num_unique_values\": 5626,\n        \"samples\": [\n          \"On Tue, Aug 13, 2002 at 12:48:18AM +0100, wintermute wrote:\\n\\n> Rick Moen <rick@linuxmafia.com> wrote:\\n\\n> \\n\\n> <snip>\\n\\n> > Don't like SuSE's product licensing?  Write your own distribution.  You\\n\\n> > can even grab most of what you need _from SuSE_.  All you have to do is \\n\\n> > heed the licensing terms on the individual pieces.\\n\\n> <snip>\\n\\n> \\n\\n> How unimaginably difficult is this to do?\\n\\n\\n\\nIt shouldn't be too hard.  Red Hat, for example, ships with everything\\n\\nyou need to build a modified distribution.  And it's all GPL (or free\\n\\nenough).\\n\\n\\n\\n> There are as far as I know, no Linux kernel hackers, \\n\\n\\n\\nAhem.  There are more than one.\\n\\n\\n\\n> nor distros \\n\\n> that originate from this fair island right?\\n\\n> Right.\\n\\n> \\n\\n> Yes it might be very,very difficult and subject to abject failure \\n\\n> in sticking together a distro.... call it Dolmen Linux (or other), \\n\\n> no doubt the packaging system would be one of the first places\\n\\n>  such a suggestion would stumble.\\n\\n> Some (like me) favouring a FreeBSD style ports system others favouring\\n\\n>  a Debian style system and others still favouring *rpm style packaging.\\n\\n> \\n\\n> That said other *LUG have done interesting things like making blackbox.\\n\\n> \\n\\n> Perhaps making a distro would be ..... umm.... fun.\\n\\n\\n\\nThere was talk of this in the past.  Taking a regular distribution like\\n\\nRed Hat or Debian and tweaking it for Ireland - things like translations,\\n\\nISP setups, default bookmarks.\\n\\n\\n\\nNever took off.\\n\\n\\n\\nWhy not try it yourself.\\n\\n\\n\\nLater,\\n\\nKenn\\n\\n\\n\\n\\n\\n-- \\n\\nIrish Linux Users' Group: ilug@linux.ie\\n\\nhttp://www.linux.ie/mailman/listinfo/ilug for (un)subscription information.\\n\\nList maintainer: listmaster@linux.ie\\n\\n\\n\\n\\n\",\n          \"HELLO,\\n\\n\\n\\nI AM A CITIZEN OF ZAIRE, SON OF THE LATE FORMER\\n\\nPRESIDENT OF ZAIRE (PRESIDENT MOBUTU SESE SEKO)\\n\\nSINCE THE DEATH OF MY LATE FATHER SOME YEARS AGO I HAVE\\n\\nBEEN RESIDING IN SOUTH AFRICA ON TEMPORARY POLITICAL ASYLUM. ON MY ARRIVALIN SOUTH AFRICA AFTER MY LATE FATHER'S BURIAL, I CAME IN WITH A DIPLOMATIC\\n\\nPACKAGED CONSIGNMENT CONTAINING THE SUM OF $8,000,000.00 (EIGHT MILLION UNITED STATES DOLLARS) WHICH I GOT FROM PART OF THE MONEY MY LATE FATHER MADE THROUGH DIAMONDS SALES WHEN HE WAS THE PRESIDENT OF ZAIRE FOR ABOUT 32 YEARS.PRECISELY, SINCE MY ARRIVAL WITH THE DIPLOMATIC PACKAGED CONSIGNMENT IT HAS BEEN SAFELY KEPT WITH A SECURITY COMPANY HERE IN SOUTH AFRICA.\\n\\nI DO NOT WANT TO INVEST THIS MONEY IN ANY PART OF\\n\\nAFRICA DUE TO THE CONSTANT POLITICAL INSTABILITY IN\\n\\nAFRICA.MY PLAN IS TO USE THIS MONEY TO INVEST IN A\\n\\nPROFITABLE BUSINESS IN ANY PART OF THE WORLD APART\\n\\nFROM AFRICA, ALSO TO PURCHASE A RESIDENTIAL\\n\\nACCOMMODATION. I WILL COME OVER AND SETTLE THERE\\n\\nWITH MY FAMILY. HENCE,I AM SOLICITING FOR YOUR\\n\\nASSISTANCE AS MY FOREIGN PARTNER TO RECEIVE THIS\\n\\nMONEY ON MY BEHALF ON ARRIVAL ABROAD AND TO KEEP IT\\n\\nIN A SAFE PLACE PENDING MY ARRIVAL TO JOIN YOU UP.\\n\\nUPON THE RECEIPT OF YOUR ACCEPTANCE TO MY PROPOSAL, I CAN IMMEDIATELY ARRANGE FOR THE MONEY TO LEAVE NIGERIA IN YOUR FAVOUR (i.e. AS THE BENEFICIARY) FOR ONWARD\\n\\nMOVEMENT TO WHERE YOU CAN RECEIVE THE CONSIGNMENT.\\n\\nPLEASE IF YOU ARE WILLING TO ASSIST ME, DO SEND IN\\n\\nYOUR REPLY IMMEDIATELY BASED ON THE FOLLOWING: -\\n\\n\\n\\n1) THE PERCENTAGE OF THIS AMOUNT WHICH YOU INTEND\\n\\nTO CHARGE FOR YOUR ASSISTANCE, PLEASE FEEL FREE TO\\n\\nEXPRESS YOUR MIND,\\n\\n(2) INCLUDE YOUR PRIVATE TELEPHONE AND FAX NUMBERS\\n\\nTO ENHANCE THE CONFIDENTIALITY,WHICH THIS BUSINESS\\n\\nDEMANDS.\\n\\nI SHALL INFORM YOU ON THE NEXT LINE OF ACTION AS\\n\\nSOON AS I RECEIVE YOUR POSITIVE RESPONSE. 10% OF THE TOTAL MONEY WILL BE SET ASIDE FOR ANY EXTRA EXPENDITURE. I ASSURE YOU THAT THIS DEAL IS 100% RISK\\n\\nFREE AS LONG AS WE KEEP IT TO OURSELVES.\\n\\nYOUR URGENT RESPONSE THROUGH MY E-MAIL SHALL BE\\n\\nHIGHLY APPRECIATED.\\n\\n\\n\\nBEST REGARDS,\\n\\n\\n\\nTAMKO MOBUTU.\\n\\n\\n\\n--DeathToSpamDeathToSpamDeathToSpam--\\n\\n\\n\\n\\n\\n-------------------------------------------------------\\n\\nThis sf.net email is sponsored by: Jabber - The world's fastest growing \\n\\nreal-time communications platform! Don't just IM. Build it in! \\n\\nhttp://www.jabber.com/osdn/xim\\n\\n_______________________________________________\\n\\nSpamassassin-Sightings mailing list\\n\\nSpamassassin-Sightings@lists.sourceforge.net\\n\\nhttps://lists.sourceforge.net/lists/listinfo/spamassassin-sightings\\n\\n\\n\\n\\n\",\n          \"<html>\\n\\n<head>\\n\\n<title></title>\\n\\n</head>\\n\\n<body bgcolor=3D\\\"#FFFFFF\\\">\\n\\n\\n\\n<table width=3D500 cellpadding=3D10 border=3D0><tr>\\n\\n<td><font  face=3D\\\"bankgothic, western\\\" color=3D\\\"#6600FF\\\"  size=3D5><p><b>\\n\\n<a href=3D\\\"http://www.mailcomesandgoes.com/ang/index.asp?id=3D609\\\">\\n\\nMother Natures all Natural Marital Aid<br> for Men and Women - Your's Risk=\\n\\n Free!</b></p></font>\\n\\n<font face=3D\\\"arial black\\\" color=3D\\\"#000000\\\" size=3D3><p>The all natural s=\\n\\nafe formula for men and women your's risk free for 30 days. Mother Nature'=\\n\\ns wonder pill of the 21st century.<p>\\n\\n<li>Increased Sensation</li><br><li>Increased Frequency</li><br>\\n\\n<li>Increased Pleasure</li><br><li>Increased Desire</li><br>\\n\\n<li>Increased Stamina</li><br><li>Increased Libido</li></font><br><br>\\n\\nBoth male and female formulas!<br><p><body bgcolor=3D\\\"#FFFFFF\\\">\\n\\nOrder Your  Trial Today !</a></p></font>\\n\\n</td></tr></table>\\n\\n<table width=3D500 cellpadding=3D10 border=3D0><tr><td>\\n\\n<font face=3Darial size=3D1.5><br><br><br><p>to depart from further contac=\\n\\nts\\n\\n<a href=3D\\\"http://www.mailcomesandgoes.com/ang/service.html\\\">visit here</a=\\n\\n></p></font>\\n\\n</td></tr></table>\\n\\n</body>\\n\\n</html>\\n\\ntimc\\n\\n\\n\\n\\n\"\n        ],\n        \"semantic_type\": \"\",\n        \"description\": \"\"\n      }\n    },\n    {\n      \"column\": \"CATEGORY\",\n      \"properties\": {\n        \"dtype\": \"number\",\n        \"std\": 0,\n        \"min\": 0,\n        \"max\": 1,\n        \"num_unique_values\": 2,\n        \"samples\": [\n          0,\n          1\n        ],\n        \"semantic_type\": \"\",\n        \"description\": \"\"\n      }\n    }\n  ]\n}"
            }
          },
          "metadata": {},
          "execution_count": 12
        }
      ]
    },
    {
      "cell_type": "code",
      "source": [
        "data.tail()"
      ],
      "metadata": {
        "colab": {
          "base_uri": "https://localhost:8080/",
          "height": 206
        },
        "id": "-_8WCYEmIxOx",
        "outputId": "2dba2e1b-eb53-453e-e3d2-362bf2ae671d"
      },
      "execution_count": 13,
      "outputs": [
        {
          "output_type": "execute_result",
          "data": {
            "text/plain": [
              "                                                                                  MESSAGE  \\\n",
              "00027.c9e76a75d21f9221d65d4d577a2cfb75  On Fri 19 Jul 2002 12:41, Wynne, Conor wrote:\\...   \n",
              "00780.8a0cad9870b20617d68fff0b4f73c4ad  Hi,\\n\\n\\n\\nmy exmh-2.5 suddenly will not spell...   \n",
              "00674.bce8a0d5cf2fcc9888c9c2f88725df78  On Thu, 18 Jul 2002 13:00:29 +0200\\n\\nMatthias...   \n",
              "00246.5322e23629e73664f224aa829efb63c5  Hi guys,\\n\\n\\tI'm looking for help on this one...   \n",
              "00169.701617763832617a7d0d1dfbc08b8a0d  When I was in school they pushed Irish down my...   \n",
              "\n",
              "                                        CATEGORY  \n",
              "00027.c9e76a75d21f9221d65d4d577a2cfb75         0  \n",
              "00780.8a0cad9870b20617d68fff0b4f73c4ad         0  \n",
              "00674.bce8a0d5cf2fcc9888c9c2f88725df78         0  \n",
              "00246.5322e23629e73664f224aa829efb63c5         0  \n",
              "00169.701617763832617a7d0d1dfbc08b8a0d         0  "
            ],
            "text/html": [
              "\n",
              "  <div id=\"df-659ab69d-c9c0-45e9-a921-74cd33703e6f\" class=\"colab-df-container\">\n",
              "    <div>\n",
              "<style scoped>\n",
              "    .dataframe tbody tr th:only-of-type {\n",
              "        vertical-align: middle;\n",
              "    }\n",
              "\n",
              "    .dataframe tbody tr th {\n",
              "        vertical-align: top;\n",
              "    }\n",
              "\n",
              "    .dataframe thead th {\n",
              "        text-align: right;\n",
              "    }\n",
              "</style>\n",
              "<table border=\"1\" class=\"dataframe\">\n",
              "  <thead>\n",
              "    <tr style=\"text-align: right;\">\n",
              "      <th></th>\n",
              "      <th>MESSAGE</th>\n",
              "      <th>CATEGORY</th>\n",
              "    </tr>\n",
              "  </thead>\n",
              "  <tbody>\n",
              "    <tr>\n",
              "      <th>00027.c9e76a75d21f9221d65d4d577a2cfb75</th>\n",
              "      <td>On Fri 19 Jul 2002 12:41, Wynne, Conor wrote:\\...</td>\n",
              "      <td>0</td>\n",
              "    </tr>\n",
              "    <tr>\n",
              "      <th>00780.8a0cad9870b20617d68fff0b4f73c4ad</th>\n",
              "      <td>Hi,\\n\\n\\n\\nmy exmh-2.5 suddenly will not spell...</td>\n",
              "      <td>0</td>\n",
              "    </tr>\n",
              "    <tr>\n",
              "      <th>00674.bce8a0d5cf2fcc9888c9c2f88725df78</th>\n",
              "      <td>On Thu, 18 Jul 2002 13:00:29 +0200\\n\\nMatthias...</td>\n",
              "      <td>0</td>\n",
              "    </tr>\n",
              "    <tr>\n",
              "      <th>00246.5322e23629e73664f224aa829efb63c5</th>\n",
              "      <td>Hi guys,\\n\\n\\tI'm looking for help on this one...</td>\n",
              "      <td>0</td>\n",
              "    </tr>\n",
              "    <tr>\n",
              "      <th>00169.701617763832617a7d0d1dfbc08b8a0d</th>\n",
              "      <td>When I was in school they pushed Irish down my...</td>\n",
              "      <td>0</td>\n",
              "    </tr>\n",
              "  </tbody>\n",
              "</table>\n",
              "</div>\n",
              "    <div class=\"colab-df-buttons\">\n",
              "\n",
              "  <div class=\"colab-df-container\">\n",
              "    <button class=\"colab-df-convert\" onclick=\"convertToInteractive('df-659ab69d-c9c0-45e9-a921-74cd33703e6f')\"\n",
              "            title=\"Convert this dataframe to an interactive table.\"\n",
              "            style=\"display:none;\">\n",
              "\n",
              "  <svg xmlns=\"http://www.w3.org/2000/svg\" height=\"24px\" viewBox=\"0 -960 960 960\">\n",
              "    <path d=\"M120-120v-720h720v720H120Zm60-500h600v-160H180v160Zm220 220h160v-160H400v160Zm0 220h160v-160H400v160ZM180-400h160v-160H180v160Zm440 0h160v-160H620v160ZM180-180h160v-160H180v160Zm440 0h160v-160H620v160Z\"/>\n",
              "  </svg>\n",
              "    </button>\n",
              "\n",
              "  <style>\n",
              "    .colab-df-container {\n",
              "      display:flex;\n",
              "      gap: 12px;\n",
              "    }\n",
              "\n",
              "    .colab-df-convert {\n",
              "      background-color: #E8F0FE;\n",
              "      border: none;\n",
              "      border-radius: 50%;\n",
              "      cursor: pointer;\n",
              "      display: none;\n",
              "      fill: #1967D2;\n",
              "      height: 32px;\n",
              "      padding: 0 0 0 0;\n",
              "      width: 32px;\n",
              "    }\n",
              "\n",
              "    .colab-df-convert:hover {\n",
              "      background-color: #E2EBFA;\n",
              "      box-shadow: 0px 1px 2px rgba(60, 64, 67, 0.3), 0px 1px 3px 1px rgba(60, 64, 67, 0.15);\n",
              "      fill: #174EA6;\n",
              "    }\n",
              "\n",
              "    .colab-df-buttons div {\n",
              "      margin-bottom: 4px;\n",
              "    }\n",
              "\n",
              "    [theme=dark] .colab-df-convert {\n",
              "      background-color: #3B4455;\n",
              "      fill: #D2E3FC;\n",
              "    }\n",
              "\n",
              "    [theme=dark] .colab-df-convert:hover {\n",
              "      background-color: #434B5C;\n",
              "      box-shadow: 0px 1px 3px 1px rgba(0, 0, 0, 0.15);\n",
              "      filter: drop-shadow(0px 1px 2px rgba(0, 0, 0, 0.3));\n",
              "      fill: #FFFFFF;\n",
              "    }\n",
              "  </style>\n",
              "\n",
              "    <script>\n",
              "      const buttonEl =\n",
              "        document.querySelector('#df-659ab69d-c9c0-45e9-a921-74cd33703e6f button.colab-df-convert');\n",
              "      buttonEl.style.display =\n",
              "        google.colab.kernel.accessAllowed ? 'block' : 'none';\n",
              "\n",
              "      async function convertToInteractive(key) {\n",
              "        const element = document.querySelector('#df-659ab69d-c9c0-45e9-a921-74cd33703e6f');\n",
              "        const dataTable =\n",
              "          await google.colab.kernel.invokeFunction('convertToInteractive',\n",
              "                                                    [key], {});\n",
              "        if (!dataTable) return;\n",
              "\n",
              "        const docLinkHtml = 'Like what you see? Visit the ' +\n",
              "          '<a target=\"_blank\" href=https://colab.research.google.com/notebooks/data_table.ipynb>data table notebook</a>'\n",
              "          + ' to learn more about interactive tables.';\n",
              "        element.innerHTML = '';\n",
              "        dataTable['output_type'] = 'display_data';\n",
              "        await google.colab.output.renderOutput(dataTable, element);\n",
              "        const docLink = document.createElement('div');\n",
              "        docLink.innerHTML = docLinkHtml;\n",
              "        element.appendChild(docLink);\n",
              "      }\n",
              "    </script>\n",
              "  </div>\n",
              "\n",
              "\n",
              "<div id=\"df-114e11fe-ad58-41ee-bcee-55307f9eedcf\">\n",
              "  <button class=\"colab-df-quickchart\" onclick=\"quickchart('df-114e11fe-ad58-41ee-bcee-55307f9eedcf')\"\n",
              "            title=\"Suggest charts\"\n",
              "            style=\"display:none;\">\n",
              "\n",
              "<svg xmlns=\"http://www.w3.org/2000/svg\" height=\"24px\"viewBox=\"0 0 24 24\"\n",
              "     width=\"24px\">\n",
              "    <g>\n",
              "        <path d=\"M19 3H5c-1.1 0-2 .9-2 2v14c0 1.1.9 2 2 2h14c1.1 0 2-.9 2-2V5c0-1.1-.9-2-2-2zM9 17H7v-7h2v7zm4 0h-2V7h2v10zm4 0h-2v-4h2v4z\"/>\n",
              "    </g>\n",
              "</svg>\n",
              "  </button>\n",
              "\n",
              "<style>\n",
              "  .colab-df-quickchart {\n",
              "      --bg-color: #E8F0FE;\n",
              "      --fill-color: #1967D2;\n",
              "      --hover-bg-color: #E2EBFA;\n",
              "      --hover-fill-color: #174EA6;\n",
              "      --disabled-fill-color: #AAA;\n",
              "      --disabled-bg-color: #DDD;\n",
              "  }\n",
              "\n",
              "  [theme=dark] .colab-df-quickchart {\n",
              "      --bg-color: #3B4455;\n",
              "      --fill-color: #D2E3FC;\n",
              "      --hover-bg-color: #434B5C;\n",
              "      --hover-fill-color: #FFFFFF;\n",
              "      --disabled-bg-color: #3B4455;\n",
              "      --disabled-fill-color: #666;\n",
              "  }\n",
              "\n",
              "  .colab-df-quickchart {\n",
              "    background-color: var(--bg-color);\n",
              "    border: none;\n",
              "    border-radius: 50%;\n",
              "    cursor: pointer;\n",
              "    display: none;\n",
              "    fill: var(--fill-color);\n",
              "    height: 32px;\n",
              "    padding: 0;\n",
              "    width: 32px;\n",
              "  }\n",
              "\n",
              "  .colab-df-quickchart:hover {\n",
              "    background-color: var(--hover-bg-color);\n",
              "    box-shadow: 0 1px 2px rgba(60, 64, 67, 0.3), 0 1px 3px 1px rgba(60, 64, 67, 0.15);\n",
              "    fill: var(--button-hover-fill-color);\n",
              "  }\n",
              "\n",
              "  .colab-df-quickchart-complete:disabled,\n",
              "  .colab-df-quickchart-complete:disabled:hover {\n",
              "    background-color: var(--disabled-bg-color);\n",
              "    fill: var(--disabled-fill-color);\n",
              "    box-shadow: none;\n",
              "  }\n",
              "\n",
              "  .colab-df-spinner {\n",
              "    border: 2px solid var(--fill-color);\n",
              "    border-color: transparent;\n",
              "    border-bottom-color: var(--fill-color);\n",
              "    animation:\n",
              "      spin 1s steps(1) infinite;\n",
              "  }\n",
              "\n",
              "  @keyframes spin {\n",
              "    0% {\n",
              "      border-color: transparent;\n",
              "      border-bottom-color: var(--fill-color);\n",
              "      border-left-color: var(--fill-color);\n",
              "    }\n",
              "    20% {\n",
              "      border-color: transparent;\n",
              "      border-left-color: var(--fill-color);\n",
              "      border-top-color: var(--fill-color);\n",
              "    }\n",
              "    30% {\n",
              "      border-color: transparent;\n",
              "      border-left-color: var(--fill-color);\n",
              "      border-top-color: var(--fill-color);\n",
              "      border-right-color: var(--fill-color);\n",
              "    }\n",
              "    40% {\n",
              "      border-color: transparent;\n",
              "      border-right-color: var(--fill-color);\n",
              "      border-top-color: var(--fill-color);\n",
              "    }\n",
              "    60% {\n",
              "      border-color: transparent;\n",
              "      border-right-color: var(--fill-color);\n",
              "    }\n",
              "    80% {\n",
              "      border-color: transparent;\n",
              "      border-right-color: var(--fill-color);\n",
              "      border-bottom-color: var(--fill-color);\n",
              "    }\n",
              "    90% {\n",
              "      border-color: transparent;\n",
              "      border-bottom-color: var(--fill-color);\n",
              "    }\n",
              "  }\n",
              "</style>\n",
              "\n",
              "  <script>\n",
              "    async function quickchart(key) {\n",
              "      const quickchartButtonEl =\n",
              "        document.querySelector('#' + key + ' button');\n",
              "      quickchartButtonEl.disabled = true;  // To prevent multiple clicks.\n",
              "      quickchartButtonEl.classList.add('colab-df-spinner');\n",
              "      try {\n",
              "        const charts = await google.colab.kernel.invokeFunction(\n",
              "            'suggestCharts', [key], {});\n",
              "      } catch (error) {\n",
              "        console.error('Error during call to suggestCharts:', error);\n",
              "      }\n",
              "      quickchartButtonEl.classList.remove('colab-df-spinner');\n",
              "      quickchartButtonEl.classList.add('colab-df-quickchart-complete');\n",
              "    }\n",
              "    (() => {\n",
              "      let quickchartButtonEl =\n",
              "        document.querySelector('#df-114e11fe-ad58-41ee-bcee-55307f9eedcf button');\n",
              "      quickchartButtonEl.style.display =\n",
              "        google.colab.kernel.accessAllowed ? 'block' : 'none';\n",
              "    })();\n",
              "  </script>\n",
              "</div>\n",
              "\n",
              "    </div>\n",
              "  </div>\n"
            ],
            "application/vnd.google.colaboratory.intrinsic+json": {
              "type": "dataframe",
              "summary": "{\n  \"name\": \"data\",\n  \"rows\": 5,\n  \"fields\": [\n    {\n      \"column\": \"MESSAGE\",\n      \"properties\": {\n        \"dtype\": \"string\",\n        \"num_unique_values\": 5,\n        \"samples\": [\n          \"Hi,\\n\\n\\n\\nmy exmh-2.5 suddenly will not spell-check anymore. If I click More..., Spell...\\n\\na window opens and is gone just as fast.\\n\\n\\n\\nI don't recall having tinkered with anything.\\n\\n\\n\\nHow can I get spell-checking back?\\n\\n\\n\\nIf you explain please do it so a standard PC user will understand.\\n\\n\\n\\nThanks in advance!\\n\\n\\n\\n-- \\n\\nPeter\\n\\n\\n\\n\\n\\n\\n\\n\\n\\n\\n\\n\\n\\n\\n\\n\\n\\n\\n\\n\\n\\n_______________________________________________\\n\\nExmh-users mailing list\\n\\nExmh-users@redhat.com\\n\\nhttps://listman.redhat.com/mailman/listinfo/exmh-users\\n\\n\\n\",\n          \"When I was in school they pushed Irish down my throat. I developed a hatred\\n\\nfor Irish. I did French for 3 years and German for 6 months, I could\\n\\n(almost) hold a basic conversation. I am proud of the fact that I don't know\\n\\none word of Irish. \\n\\n\\n\\n-----Original Message-----\\n\\nFrom: Wynne, Conor [mailto:conor_wynne@maxtor.com]\\n\\nSent: 31 July 2002 09:56\\n\\nTo: 'Patton, Tony'; Irish LUG\\n\\nSubject: RE: [ILUG] Fwd: Linux Beer Hike\\n\\n\\n\\n\\n\\nI am the evil one, you will respect my authoritai ;--)\\n\\n\\n\\nSorry, but I couldn't resist, I must say that mails like this really impress\\n\\nme. coz I have pretty much no Irish at all, although my wee Girl starts\\n\\nGaelscoil in September so there hope for me yet :)\\n\\n\\n\\nMuch Respect to the Gaeilgors out there. \\n\\n\\n\\nCW\\n\\n\\n\\n-------------------\\n\\nmar\\n\\n> gheall ar an Hike ar an gcl\\u00e1r - an mbeidh t\\u00fa f\\u00e9in n\\u00f3 aon duine eile le\\n\\n> Gaeilge ar an Hike go bhfios duit?\\n\\n> \\n\\n> Go raibh maith agat as do chabhair,\\n\\n> \\n\\n\\n\\n---->8\\n\\n\\n\\nCan someone translate this for me? Lost all sense of Irish when moved\\n\\nover the border about 10 years ago. Not by choice mind you :-(\\n\\n\\n\\n\\n\\n-- \\n\\nIrish Linux Users' Group: ilug@linux.ie\\n\\nhttp://www.linux.ie/mailman/listinfo/ilug for (un)subscription information.\\n\\nList maintainer: listmaster@linux.ie\\n\\n\\n\\n-- \\n\\nIrish Linux Users' Group: ilug@linux.ie\\n\\nhttp://www.linux.ie/mailman/listinfo/ilug for (un)subscription information.\\n\\nList maintainer: listmaster@linux.ie\\n\\n\\n\\n\\n\",\n          \"On Thu, 18 Jul 2002 13:00:29 +0200\\n\\nMatthias Saou <matthias@egwn.net> wrote:\\n\\n\\n\\n> Once upon a time, Matthias wrote :\\n\\n> > ..see subject.\\n\\n> ..see valhalla.freshrpms.net ;-)\\n\\n\\n\\nHi, Matthias,\\n\\n\\n\\nYou should temporarly remove gentoo 0.11.29 from valhalla.freshrpms.net.\\n\\nThis build (and 0.11.28) has a strong bug: Problems with copying \\\"deep\\\"\\n\\ndirectories.\\n\\n\\n\\nHave reported this to Emil, he looks currently into it, a fix should be\\n\\navailable soon..\\n\\n\\n\\nSorry\\n\\n\\n\\n-- \\n\\nregards from Germany\\n\\n                   Matthias\\n\\n                   \\n\\n\\n\\n_______________________________________________\\n\\nRPM-List mailing list <RPM-List@freshrpms.net>\\n\\nhttp://lists.freshrpms.net/mailman/listinfo/rpm-list\\n\\n\\n\\n\\n\"\n        ],\n        \"semantic_type\": \"\",\n        \"description\": \"\"\n      }\n    },\n    {\n      \"column\": \"CATEGORY\",\n      \"properties\": {\n        \"dtype\": \"number\",\n        \"std\": 0,\n        \"min\": 0,\n        \"max\": 0,\n        \"num_unique_values\": 1,\n        \"samples\": [\n          0\n        ],\n        \"semantic_type\": \"\",\n        \"description\": \"\"\n      }\n    }\n  ]\n}"
            }
          },
          "metadata": {},
          "execution_count": 13
        }
      ]
    },
    {
      "cell_type": "markdown",
      "source": [
        "**Data Cleaning: Checking for missing values**"
      ],
      "metadata": {
        "id": "2uMnDLGDJVxT"
      }
    },
    {
      "cell_type": "code",
      "source": [
        "#Check if any message bodies are null\n",
        "#data.MESSAGE\n",
        "#second option\n",
        "data['MESSAGE'].isnull().values.any()\n"
      ],
      "metadata": {
        "colab": {
          "base_uri": "https://localhost:8080/"
        },
        "id": "1xuzGu8BJjf7",
        "outputId": "d012ef84-f215-424a-b43d-171ab9587f3e"
      },
      "execution_count": 14,
      "outputs": [
        {
          "output_type": "execute_result",
          "data": {
            "text/plain": [
              "False"
            ]
          },
          "metadata": {},
          "execution_count": 14
        }
      ]
    },
    {
      "cell_type": "code",
      "source": [
        "#check if there are empty emails(string length zero)\n",
        "(data.MESSAGE.str.len() == 0).any()"
      ],
      "metadata": {
        "colab": {
          "base_uri": "https://localhost:8080/"
        },
        "id": "bGqh_5plLmTu",
        "outputId": "05b110e0-27b1-4cfc-a460-0a72257d65ad"
      },
      "execution_count": 15,
      "outputs": [
        {
          "output_type": "execute_result",
          "data": {
            "text/plain": [
              "True"
            ]
          },
          "metadata": {},
          "execution_count": 15
        }
      ]
    },
    {
      "cell_type": "code",
      "source": [
        "(data.MESSAGE.str.len() == 0).sum()"
      ],
      "metadata": {
        "colab": {
          "base_uri": "https://localhost:8080/"
        },
        "id": "NoAYzUJ-LlWt",
        "outputId": "24314798-0884-4a9e-93c7-2632cfec3c00"
      },
      "execution_count": 16,
      "outputs": [
        {
          "output_type": "execute_result",
          "data": {
            "text/plain": [
              "3"
            ]
          },
          "metadata": {},
          "execution_count": 16
        }
      ]
    },
    {
      "cell_type": "code",
      "source": [
        "data.MESSAGE.isnull().sum()"
      ],
      "metadata": {
        "colab": {
          "base_uri": "https://localhost:8080/"
        },
        "id": "5F9dddeqNSR4",
        "outputId": "8ddc5770-d213-4b4a-f489-462aadb79b52"
      },
      "execution_count": 17,
      "outputs": [
        {
          "output_type": "execute_result",
          "data": {
            "text/plain": [
              "0"
            ]
          },
          "metadata": {},
          "execution_count": 17
        }
      ]
    },
    {
      "cell_type": "markdown",
      "source": [
        "**Locate empty emails**"
      ],
      "metadata": {
        "id": "xfRwDa4wNk1p"
      }
    },
    {
      "cell_type": "code",
      "source": [
        "type(data.MESSAGE.str.len() == 0)"
      ],
      "metadata": {
        "colab": {
          "base_uri": "https://localhost:8080/",
          "height": 203
        },
        "id": "wsigJjTBNjbT",
        "outputId": "77f0d59c-730d-4b1b-d470-ad8fcb522b5c"
      },
      "execution_count": 18,
      "outputs": [
        {
          "output_type": "execute_result",
          "data": {
            "text/plain": [
              "pandas.core.series.Series"
            ],
            "text/html": [
              "<div style=\"max-width:800px; border: 1px solid var(--colab-border-color);\"><style>\n",
              "      pre.function-repr-contents {\n",
              "        overflow-x: auto;\n",
              "        padding: 8px 12px;\n",
              "        max-height: 500px;\n",
              "      }\n",
              "\n",
              "      pre.function-repr-contents.function-repr-contents-collapsed {\n",
              "        cursor: pointer;\n",
              "        max-height: 100px;\n",
              "      }\n",
              "    </style>\n",
              "    <pre style=\"white-space: initial; background:\n",
              "         var(--colab-secondary-surface-color); padding: 8px 12px;\n",
              "         border-bottom: 1px solid var(--colab-border-color);\"><b>pandas.core.series.Series</b><br/>def __init__(data=None, index=None, dtype: Dtype | None=None, name=None, copy: bool | None=None, fastpath: bool=False) -&gt; None</pre><pre class=\"function-repr-contents function-repr-contents-collapsed\" style=\"\"><a class=\"filepath\" style=\"display:none\" href=\"#\">/usr/local/lib/python3.10/dist-packages/pandas/core/series.py</a>One-dimensional ndarray with axis labels (including time series).\n",
              "\n",
              "Labels need not be unique but must be a hashable type. The object\n",
              "supports both integer- and label-based indexing and provides a host of\n",
              "methods for performing operations involving the index. Statistical\n",
              "methods from ndarray have been overridden to automatically exclude\n",
              "missing data (currently represented as NaN).\n",
              "\n",
              "Operations between Series (+, -, /, \\*, \\*\\*) align values based on their\n",
              "associated index values-- they need not be the same length. The result\n",
              "index will be the sorted union of the two indexes.\n",
              "\n",
              "Parameters\n",
              "----------\n",
              "data : array-like, Iterable, dict, or scalar value\n",
              "    Contains data stored in Series. If data is a dict, argument order is\n",
              "    maintained.\n",
              "index : array-like or Index (1d)\n",
              "    Values must be hashable and have the same length as `data`.\n",
              "    Non-unique index values are allowed. Will default to\n",
              "    RangeIndex (0, 1, 2, ..., n) if not provided. If data is dict-like\n",
              "    and index is None, then the keys in the data are used as the index. If the\n",
              "    index is not None, the resulting Series is reindexed with the index values.\n",
              "dtype : str, numpy.dtype, or ExtensionDtype, optional\n",
              "    Data type for the output Series. If not specified, this will be\n",
              "    inferred from `data`.\n",
              "    See the :ref:`user guide &lt;basics.dtypes&gt;` for more usages.\n",
              "name : Hashable, default None\n",
              "    The name to give to the Series.\n",
              "copy : bool, default False\n",
              "    Copy input data. Only affects Series or 1d ndarray input. See examples.\n",
              "\n",
              "Notes\n",
              "-----\n",
              "Please reference the :ref:`User Guide &lt;basics.series&gt;` for more information.\n",
              "\n",
              "Examples\n",
              "--------\n",
              "Constructing Series from a dictionary with an Index specified\n",
              "\n",
              "&gt;&gt;&gt; d = {&#x27;a&#x27;: 1, &#x27;b&#x27;: 2, &#x27;c&#x27;: 3}\n",
              "&gt;&gt;&gt; ser = pd.Series(data=d, index=[&#x27;a&#x27;, &#x27;b&#x27;, &#x27;c&#x27;])\n",
              "&gt;&gt;&gt; ser\n",
              "a   1\n",
              "b   2\n",
              "c   3\n",
              "dtype: int64\n",
              "\n",
              "The keys of the dictionary match with the Index values, hence the Index\n",
              "values have no effect.\n",
              "\n",
              "&gt;&gt;&gt; d = {&#x27;a&#x27;: 1, &#x27;b&#x27;: 2, &#x27;c&#x27;: 3}\n",
              "&gt;&gt;&gt; ser = pd.Series(data=d, index=[&#x27;x&#x27;, &#x27;y&#x27;, &#x27;z&#x27;])\n",
              "&gt;&gt;&gt; ser\n",
              "x   NaN\n",
              "y   NaN\n",
              "z   NaN\n",
              "dtype: float64\n",
              "\n",
              "Note that the Index is first build with the keys from the dictionary.\n",
              "After this the Series is reindexed with the given Index values, hence we\n",
              "get all NaN as a result.\n",
              "\n",
              "Constructing Series from a list with `copy=False`.\n",
              "\n",
              "&gt;&gt;&gt; r = [1, 2]\n",
              "&gt;&gt;&gt; ser = pd.Series(r, copy=False)\n",
              "&gt;&gt;&gt; ser.iloc[0] = 999\n",
              "&gt;&gt;&gt; r\n",
              "[1, 2]\n",
              "&gt;&gt;&gt; ser\n",
              "0    999\n",
              "1      2\n",
              "dtype: int64\n",
              "\n",
              "Due to input data type the Series has a `copy` of\n",
              "the original data even though `copy=False`, so\n",
              "the data is unchanged.\n",
              "\n",
              "Constructing Series from a 1d ndarray with `copy=False`.\n",
              "\n",
              "&gt;&gt;&gt; r = np.array([1, 2])\n",
              "&gt;&gt;&gt; ser = pd.Series(r, copy=False)\n",
              "&gt;&gt;&gt; ser.iloc[0] = 999\n",
              "&gt;&gt;&gt; r\n",
              "array([999,   2])\n",
              "&gt;&gt;&gt; ser\n",
              "0    999\n",
              "1      2\n",
              "dtype: int64\n",
              "\n",
              "Due to input data type the Series has a `view` on\n",
              "the original data, so\n",
              "the data is changed as well.</pre>\n",
              "      <script>\n",
              "      if (google.colab.kernel.accessAllowed && google.colab.files && google.colab.files.view) {\n",
              "        for (const element of document.querySelectorAll('.filepath')) {\n",
              "          element.style.display = 'block'\n",
              "          element.onclick = (event) => {\n",
              "            event.preventDefault();\n",
              "            event.stopPropagation();\n",
              "            google.colab.files.view(element.textContent, 245);\n",
              "          };\n",
              "        }\n",
              "      }\n",
              "      for (const element of document.querySelectorAll('.function-repr-contents')) {\n",
              "        element.onclick = (event) => {\n",
              "          event.preventDefault();\n",
              "          event.stopPropagation();\n",
              "          element.classList.toggle('function-repr-contents-collapsed');\n",
              "        };\n",
              "      }\n",
              "      </script>\n",
              "      </div>"
            ]
          },
          "metadata": {},
          "execution_count": 18
        }
      ]
    },
    {
      "cell_type": "code",
      "source": [
        "data[data.MESSAGE.str.len() == 0].index"
      ],
      "metadata": {
        "colab": {
          "base_uri": "https://localhost:8080/"
        },
        "id": "A_7qGsAWNxEb",
        "outputId": "c5828545-6d10-4477-cb7f-da16a03120c4"
      },
      "execution_count": 19,
      "outputs": [
        {
          "output_type": "execute_result",
          "data": {
            "text/plain": [
              "Index(['cmds', 'cmds', 'cmds'], dtype='object')"
            ]
          },
          "metadata": {},
          "execution_count": 19
        }
      ]
    },
    {
      "cell_type": "code",
      "source": [
        "data.index.get_loc('cmds')"
      ],
      "metadata": {
        "colab": {
          "base_uri": "https://localhost:8080/"
        },
        "id": "oLZc7TEhOCLJ",
        "outputId": "dfb06b8e-f4af-4e77-bac2-a729bf64e137"
      },
      "execution_count": 20,
      "outputs": [
        {
          "output_type": "execute_result",
          "data": {
            "text/plain": [
              "array([False, False, False, ..., False, False, False])"
            ]
          },
          "metadata": {},
          "execution_count": 20
        }
      ]
    },
    {
      "cell_type": "markdown",
      "source": [
        "**Remove System File Entries from Dataframe**"
      ],
      "metadata": {
        "id": "D_SDUwlsO_H4"
      }
    },
    {
      "cell_type": "code",
      "source": [
        "data.drop(['cmds'], inplace=True)\n"
      ],
      "metadata": {
        "id": "1jSzIfXnuDAf"
      },
      "execution_count": 21,
      "outputs": []
    },
    {
      "cell_type": "code",
      "source": [
        "data.shape"
      ],
      "metadata": {
        "colab": {
          "base_uri": "https://localhost:8080/"
        },
        "id": "BjDzfYVyukQr",
        "outputId": "6d466ba1-6747-4b2b-cc6f-4b6431255e0a"
      },
      "execution_count": 22,
      "outputs": [
        {
          "output_type": "execute_result",
          "data": {
            "text/plain": [
              "(5796, 2)"
            ]
          },
          "metadata": {},
          "execution_count": 22
        }
      ]
    },
    {
      "cell_type": "code",
      "source": [
        "#type(data)\n"
      ],
      "metadata": {
        "id": "mlHpTbKSRkBJ"
      },
      "execution_count": 24,
      "outputs": []
    },
    {
      "cell_type": "markdown",
      "source": [
        "**Add Document Ids to track emails in dataset**"
      ],
      "metadata": {
        "id": "sTVn1exYQaOS"
      }
    },
    {
      "cell_type": "code",
      "source": [
        "document_ids = range(0, len(data.index))\n",
        "data['DOC_ID'] = document_ids\n"
      ],
      "metadata": {
        "id": "Ay2qz3Lhu5y9"
      },
      "execution_count": 25,
      "outputs": []
    },
    {
      "cell_type": "code",
      "source": [
        "data.DOC_ID"
      ],
      "metadata": {
        "colab": {
          "base_uri": "https://localhost:8080/",
          "height": 458
        },
        "id": "7eLEK6VivW_x",
        "outputId": "80fa8396-b4cd-430e-ac0e-0ddc843f5ffb"
      },
      "execution_count": 26,
      "outputs": [
        {
          "output_type": "execute_result",
          "data": {
            "text/plain": [
              "00331.a61788d316e7393c8bbf8ee19b24c713       0\n",
              "00213.8c42a1c257aa30ff3b3ba668cca59408       1\n",
              "00438.41295e1df4b651b7611316331b8468e4       2\n",
              "00420.e208f7d65551c01efaa3b4ee4bc4df3c       3\n",
              "00019.bbc97ad616ffd06e93ce0f821ca8c381       4\n",
              "                                          ... \n",
              "00027.c9e76a75d21f9221d65d4d577a2cfb75    5791\n",
              "00780.8a0cad9870b20617d68fff0b4f73c4ad    5792\n",
              "00674.bce8a0d5cf2fcc9888c9c2f88725df78    5793\n",
              "00246.5322e23629e73664f224aa829efb63c5    5794\n",
              "00169.701617763832617a7d0d1dfbc08b8a0d    5795\n",
              "Name: DOC_ID, Length: 5796, dtype: int64"
            ],
            "text/html": [
              "<div>\n",
              "<style scoped>\n",
              "    .dataframe tbody tr th:only-of-type {\n",
              "        vertical-align: middle;\n",
              "    }\n",
              "\n",
              "    .dataframe tbody tr th {\n",
              "        vertical-align: top;\n",
              "    }\n",
              "\n",
              "    .dataframe thead th {\n",
              "        text-align: right;\n",
              "    }\n",
              "</style>\n",
              "<table border=\"1\" class=\"dataframe\">\n",
              "  <thead>\n",
              "    <tr style=\"text-align: right;\">\n",
              "      <th></th>\n",
              "      <th>DOC_ID</th>\n",
              "    </tr>\n",
              "  </thead>\n",
              "  <tbody>\n",
              "    <tr>\n",
              "      <th>00331.a61788d316e7393c8bbf8ee19b24c713</th>\n",
              "      <td>0</td>\n",
              "    </tr>\n",
              "    <tr>\n",
              "      <th>00213.8c42a1c257aa30ff3b3ba668cca59408</th>\n",
              "      <td>1</td>\n",
              "    </tr>\n",
              "    <tr>\n",
              "      <th>00438.41295e1df4b651b7611316331b8468e4</th>\n",
              "      <td>2</td>\n",
              "    </tr>\n",
              "    <tr>\n",
              "      <th>00420.e208f7d65551c01efaa3b4ee4bc4df3c</th>\n",
              "      <td>3</td>\n",
              "    </tr>\n",
              "    <tr>\n",
              "      <th>00019.bbc97ad616ffd06e93ce0f821ca8c381</th>\n",
              "      <td>4</td>\n",
              "    </tr>\n",
              "    <tr>\n",
              "      <th>...</th>\n",
              "      <td>...</td>\n",
              "    </tr>\n",
              "    <tr>\n",
              "      <th>00027.c9e76a75d21f9221d65d4d577a2cfb75</th>\n",
              "      <td>5791</td>\n",
              "    </tr>\n",
              "    <tr>\n",
              "      <th>00780.8a0cad9870b20617d68fff0b4f73c4ad</th>\n",
              "      <td>5792</td>\n",
              "    </tr>\n",
              "    <tr>\n",
              "      <th>00674.bce8a0d5cf2fcc9888c9c2f88725df78</th>\n",
              "      <td>5793</td>\n",
              "    </tr>\n",
              "    <tr>\n",
              "      <th>00246.5322e23629e73664f224aa829efb63c5</th>\n",
              "      <td>5794</td>\n",
              "    </tr>\n",
              "    <tr>\n",
              "      <th>00169.701617763832617a7d0d1dfbc08b8a0d</th>\n",
              "      <td>5795</td>\n",
              "    </tr>\n",
              "  </tbody>\n",
              "</table>\n",
              "<p>5796 rows × 1 columns</p>\n",
              "</div><br><label><b>dtype:</b> int64</label>"
            ]
          },
          "metadata": {},
          "execution_count": 26
        }
      ]
    },
    {
      "cell_type": "code",
      "source": [
        "data['FILE_NAME'] = data.index\n",
        "data.set_index('DOC_ID', inplace=True)\n",
        "data.head()"
      ],
      "metadata": {
        "colab": {
          "base_uri": "https://localhost:8080/",
          "height": 237
        },
        "id": "AQSODaY6vsYu",
        "outputId": "1f1648f1-b0c1-4377-8ab3-5ff6f346b082"
      },
      "execution_count": 27,
      "outputs": [
        {
          "output_type": "execute_result",
          "data": {
            "text/plain": [
              "                                                  MESSAGE  CATEGORY  \\\n",
              "DOC_ID                                                                \n",
              "0       <HTML><HEAD><TITLE></TITLE><META http-equiv=3D...         1   \n",
              "1        <p>We thank you for just a moment of your tim...         1   \n",
              "2       Dear Homeowner,\\n\\n \\n\\nInterest Rates are at ...         1   \n",
              "3       REGISTER DOMAINS FOR JUST $14.95\\n\\n\\n\\n\\n\\nTh...         1   \n",
              "4       Lowest rates available for term life insurance...         1   \n",
              "\n",
              "                                     FILE_NAME  \n",
              "DOC_ID                                          \n",
              "0       00331.a61788d316e7393c8bbf8ee19b24c713  \n",
              "1       00213.8c42a1c257aa30ff3b3ba668cca59408  \n",
              "2       00438.41295e1df4b651b7611316331b8468e4  \n",
              "3       00420.e208f7d65551c01efaa3b4ee4bc4df3c  \n",
              "4       00019.bbc97ad616ffd06e93ce0f821ca8c381  "
            ],
            "text/html": [
              "\n",
              "  <div id=\"df-256b4eaf-8506-44b5-a19d-619737557ad7\" class=\"colab-df-container\">\n",
              "    <div>\n",
              "<style scoped>\n",
              "    .dataframe tbody tr th:only-of-type {\n",
              "        vertical-align: middle;\n",
              "    }\n",
              "\n",
              "    .dataframe tbody tr th {\n",
              "        vertical-align: top;\n",
              "    }\n",
              "\n",
              "    .dataframe thead th {\n",
              "        text-align: right;\n",
              "    }\n",
              "</style>\n",
              "<table border=\"1\" class=\"dataframe\">\n",
              "  <thead>\n",
              "    <tr style=\"text-align: right;\">\n",
              "      <th></th>\n",
              "      <th>MESSAGE</th>\n",
              "      <th>CATEGORY</th>\n",
              "      <th>FILE_NAME</th>\n",
              "    </tr>\n",
              "    <tr>\n",
              "      <th>DOC_ID</th>\n",
              "      <th></th>\n",
              "      <th></th>\n",
              "      <th></th>\n",
              "    </tr>\n",
              "  </thead>\n",
              "  <tbody>\n",
              "    <tr>\n",
              "      <th>0</th>\n",
              "      <td>&lt;HTML&gt;&lt;HEAD&gt;&lt;TITLE&gt;&lt;/TITLE&gt;&lt;META http-equiv=3D...</td>\n",
              "      <td>1</td>\n",
              "      <td>00331.a61788d316e7393c8bbf8ee19b24c713</td>\n",
              "    </tr>\n",
              "    <tr>\n",
              "      <th>1</th>\n",
              "      <td>&lt;p&gt;We thank you for just a moment of your tim...</td>\n",
              "      <td>1</td>\n",
              "      <td>00213.8c42a1c257aa30ff3b3ba668cca59408</td>\n",
              "    </tr>\n",
              "    <tr>\n",
              "      <th>2</th>\n",
              "      <td>Dear Homeowner,\\n\\n \\n\\nInterest Rates are at ...</td>\n",
              "      <td>1</td>\n",
              "      <td>00438.41295e1df4b651b7611316331b8468e4</td>\n",
              "    </tr>\n",
              "    <tr>\n",
              "      <th>3</th>\n",
              "      <td>REGISTER DOMAINS FOR JUST $14.95\\n\\n\\n\\n\\n\\nTh...</td>\n",
              "      <td>1</td>\n",
              "      <td>00420.e208f7d65551c01efaa3b4ee4bc4df3c</td>\n",
              "    </tr>\n",
              "    <tr>\n",
              "      <th>4</th>\n",
              "      <td>Lowest rates available for term life insurance...</td>\n",
              "      <td>1</td>\n",
              "      <td>00019.bbc97ad616ffd06e93ce0f821ca8c381</td>\n",
              "    </tr>\n",
              "  </tbody>\n",
              "</table>\n",
              "</div>\n",
              "    <div class=\"colab-df-buttons\">\n",
              "\n",
              "  <div class=\"colab-df-container\">\n",
              "    <button class=\"colab-df-convert\" onclick=\"convertToInteractive('df-256b4eaf-8506-44b5-a19d-619737557ad7')\"\n",
              "            title=\"Convert this dataframe to an interactive table.\"\n",
              "            style=\"display:none;\">\n",
              "\n",
              "  <svg xmlns=\"http://www.w3.org/2000/svg\" height=\"24px\" viewBox=\"0 -960 960 960\">\n",
              "    <path d=\"M120-120v-720h720v720H120Zm60-500h600v-160H180v160Zm220 220h160v-160H400v160Zm0 220h160v-160H400v160ZM180-400h160v-160H180v160Zm440 0h160v-160H620v160ZM180-180h160v-160H180v160Zm440 0h160v-160H620v160Z\"/>\n",
              "  </svg>\n",
              "    </button>\n",
              "\n",
              "  <style>\n",
              "    .colab-df-container {\n",
              "      display:flex;\n",
              "      gap: 12px;\n",
              "    }\n",
              "\n",
              "    .colab-df-convert {\n",
              "      background-color: #E8F0FE;\n",
              "      border: none;\n",
              "      border-radius: 50%;\n",
              "      cursor: pointer;\n",
              "      display: none;\n",
              "      fill: #1967D2;\n",
              "      height: 32px;\n",
              "      padding: 0 0 0 0;\n",
              "      width: 32px;\n",
              "    }\n",
              "\n",
              "    .colab-df-convert:hover {\n",
              "      background-color: #E2EBFA;\n",
              "      box-shadow: 0px 1px 2px rgba(60, 64, 67, 0.3), 0px 1px 3px 1px rgba(60, 64, 67, 0.15);\n",
              "      fill: #174EA6;\n",
              "    }\n",
              "\n",
              "    .colab-df-buttons div {\n",
              "      margin-bottom: 4px;\n",
              "    }\n",
              "\n",
              "    [theme=dark] .colab-df-convert {\n",
              "      background-color: #3B4455;\n",
              "      fill: #D2E3FC;\n",
              "    }\n",
              "\n",
              "    [theme=dark] .colab-df-convert:hover {\n",
              "      background-color: #434B5C;\n",
              "      box-shadow: 0px 1px 3px 1px rgba(0, 0, 0, 0.15);\n",
              "      filter: drop-shadow(0px 1px 2px rgba(0, 0, 0, 0.3));\n",
              "      fill: #FFFFFF;\n",
              "    }\n",
              "  </style>\n",
              "\n",
              "    <script>\n",
              "      const buttonEl =\n",
              "        document.querySelector('#df-256b4eaf-8506-44b5-a19d-619737557ad7 button.colab-df-convert');\n",
              "      buttonEl.style.display =\n",
              "        google.colab.kernel.accessAllowed ? 'block' : 'none';\n",
              "\n",
              "      async function convertToInteractive(key) {\n",
              "        const element = document.querySelector('#df-256b4eaf-8506-44b5-a19d-619737557ad7');\n",
              "        const dataTable =\n",
              "          await google.colab.kernel.invokeFunction('convertToInteractive',\n",
              "                                                    [key], {});\n",
              "        if (!dataTable) return;\n",
              "\n",
              "        const docLinkHtml = 'Like what you see? Visit the ' +\n",
              "          '<a target=\"_blank\" href=https://colab.research.google.com/notebooks/data_table.ipynb>data table notebook</a>'\n",
              "          + ' to learn more about interactive tables.';\n",
              "        element.innerHTML = '';\n",
              "        dataTable['output_type'] = 'display_data';\n",
              "        await google.colab.output.renderOutput(dataTable, element);\n",
              "        const docLink = document.createElement('div');\n",
              "        docLink.innerHTML = docLinkHtml;\n",
              "        element.appendChild(docLink);\n",
              "      }\n",
              "    </script>\n",
              "  </div>\n",
              "\n",
              "\n",
              "<div id=\"df-f3931a17-4d7a-4501-948c-f1e1a081fa1e\">\n",
              "  <button class=\"colab-df-quickchart\" onclick=\"quickchart('df-f3931a17-4d7a-4501-948c-f1e1a081fa1e')\"\n",
              "            title=\"Suggest charts\"\n",
              "            style=\"display:none;\">\n",
              "\n",
              "<svg xmlns=\"http://www.w3.org/2000/svg\" height=\"24px\"viewBox=\"0 0 24 24\"\n",
              "     width=\"24px\">\n",
              "    <g>\n",
              "        <path d=\"M19 3H5c-1.1 0-2 .9-2 2v14c0 1.1.9 2 2 2h14c1.1 0 2-.9 2-2V5c0-1.1-.9-2-2-2zM9 17H7v-7h2v7zm4 0h-2V7h2v10zm4 0h-2v-4h2v4z\"/>\n",
              "    </g>\n",
              "</svg>\n",
              "  </button>\n",
              "\n",
              "<style>\n",
              "  .colab-df-quickchart {\n",
              "      --bg-color: #E8F0FE;\n",
              "      --fill-color: #1967D2;\n",
              "      --hover-bg-color: #E2EBFA;\n",
              "      --hover-fill-color: #174EA6;\n",
              "      --disabled-fill-color: #AAA;\n",
              "      --disabled-bg-color: #DDD;\n",
              "  }\n",
              "\n",
              "  [theme=dark] .colab-df-quickchart {\n",
              "      --bg-color: #3B4455;\n",
              "      --fill-color: #D2E3FC;\n",
              "      --hover-bg-color: #434B5C;\n",
              "      --hover-fill-color: #FFFFFF;\n",
              "      --disabled-bg-color: #3B4455;\n",
              "      --disabled-fill-color: #666;\n",
              "  }\n",
              "\n",
              "  .colab-df-quickchart {\n",
              "    background-color: var(--bg-color);\n",
              "    border: none;\n",
              "    border-radius: 50%;\n",
              "    cursor: pointer;\n",
              "    display: none;\n",
              "    fill: var(--fill-color);\n",
              "    height: 32px;\n",
              "    padding: 0;\n",
              "    width: 32px;\n",
              "  }\n",
              "\n",
              "  .colab-df-quickchart:hover {\n",
              "    background-color: var(--hover-bg-color);\n",
              "    box-shadow: 0 1px 2px rgba(60, 64, 67, 0.3), 0 1px 3px 1px rgba(60, 64, 67, 0.15);\n",
              "    fill: var(--button-hover-fill-color);\n",
              "  }\n",
              "\n",
              "  .colab-df-quickchart-complete:disabled,\n",
              "  .colab-df-quickchart-complete:disabled:hover {\n",
              "    background-color: var(--disabled-bg-color);\n",
              "    fill: var(--disabled-fill-color);\n",
              "    box-shadow: none;\n",
              "  }\n",
              "\n",
              "  .colab-df-spinner {\n",
              "    border: 2px solid var(--fill-color);\n",
              "    border-color: transparent;\n",
              "    border-bottom-color: var(--fill-color);\n",
              "    animation:\n",
              "      spin 1s steps(1) infinite;\n",
              "  }\n",
              "\n",
              "  @keyframes spin {\n",
              "    0% {\n",
              "      border-color: transparent;\n",
              "      border-bottom-color: var(--fill-color);\n",
              "      border-left-color: var(--fill-color);\n",
              "    }\n",
              "    20% {\n",
              "      border-color: transparent;\n",
              "      border-left-color: var(--fill-color);\n",
              "      border-top-color: var(--fill-color);\n",
              "    }\n",
              "    30% {\n",
              "      border-color: transparent;\n",
              "      border-left-color: var(--fill-color);\n",
              "      border-top-color: var(--fill-color);\n",
              "      border-right-color: var(--fill-color);\n",
              "    }\n",
              "    40% {\n",
              "      border-color: transparent;\n",
              "      border-right-color: var(--fill-color);\n",
              "      border-top-color: var(--fill-color);\n",
              "    }\n",
              "    60% {\n",
              "      border-color: transparent;\n",
              "      border-right-color: var(--fill-color);\n",
              "    }\n",
              "    80% {\n",
              "      border-color: transparent;\n",
              "      border-right-color: var(--fill-color);\n",
              "      border-bottom-color: var(--fill-color);\n",
              "    }\n",
              "    90% {\n",
              "      border-color: transparent;\n",
              "      border-bottom-color: var(--fill-color);\n",
              "    }\n",
              "  }\n",
              "</style>\n",
              "\n",
              "  <script>\n",
              "    async function quickchart(key) {\n",
              "      const quickchartButtonEl =\n",
              "        document.querySelector('#' + key + ' button');\n",
              "      quickchartButtonEl.disabled = true;  // To prevent multiple clicks.\n",
              "      quickchartButtonEl.classList.add('colab-df-spinner');\n",
              "      try {\n",
              "        const charts = await google.colab.kernel.invokeFunction(\n",
              "            'suggestCharts', [key], {});\n",
              "      } catch (error) {\n",
              "        console.error('Error during call to suggestCharts:', error);\n",
              "      }\n",
              "      quickchartButtonEl.classList.remove('colab-df-spinner');\n",
              "      quickchartButtonEl.classList.add('colab-df-quickchart-complete');\n",
              "    }\n",
              "    (() => {\n",
              "      let quickchartButtonEl =\n",
              "        document.querySelector('#df-f3931a17-4d7a-4501-948c-f1e1a081fa1e button');\n",
              "      quickchartButtonEl.style.display =\n",
              "        google.colab.kernel.accessAllowed ? 'block' : 'none';\n",
              "    })();\n",
              "  </script>\n",
              "</div>\n",
              "\n",
              "    </div>\n",
              "  </div>\n"
            ],
            "application/vnd.google.colaboratory.intrinsic+json": {
              "type": "dataframe",
              "variable_name": "data",
              "summary": "{\n  \"name\": \"data\",\n  \"rows\": 5796,\n  \"fields\": [\n    {\n      \"column\": \"DOC_ID\",\n      \"properties\": {\n        \"dtype\": \"number\",\n        \"std\": 1673,\n        \"min\": 0,\n        \"max\": 5795,\n        \"num_unique_values\": 5796,\n        \"samples\": [\n          4675,\n          4220,\n          2484\n        ],\n        \"semantic_type\": \"\",\n        \"description\": \"\"\n      }\n    },\n    {\n      \"column\": \"MESSAGE\",\n      \"properties\": {\n        \"dtype\": \"string\",\n        \"num_unique_values\": 5625,\n        \"samples\": [\n          \"\\n\\n----- Original Message -----\\n\\nFrom: \\\"Kragen Sitaker\\\" <kragen@pobox.com>\\n\\n\\n\\n> > It's an exclamation that may allude to a ship striking some rock or\\n\\n> > other obstacle so hard that her timbers shiver, or shake, so implying a\\n\\n> > calamity has occurred. It is first recorded as being used by Captain\\n\\n> > Frederick Marryat in /Jacob Faithful/ in 1835: \\\"I won't thrash you Tom.\\n\\n> > Shiver my timbers if I do\\\".\\n\\nI think it went like this: \\\"I won't thrash you Tom, if you shiver my\\n\\ntimber...\\\"\\n\\nOr maybe that was just the butt pirates...\\n\\n\\n\\n\\n\",\n          \"FUTURE TECH INTERNATIONAL\\n\\n\\n\\nSPECIAL OFFER that \\\"BLOWS AWAY TRADITIONAL MARKETING\\\" - Advertising Age.\\n\\n\\n\\nThe most powerful fully exportable CD Fax Database on the market\\n\\n1,500,000 Business Fax Numbers\\n\\n\\n\\nOVER 1.5 MILLION FAX NUMBERS FULLY EXPORTABLE!\\n\\nUsually Sells for $295. For a limited time only we are offering them for:\\n\\n\\n\\nONLY $49.95 USD\\n\\n(Never before have this many fax numbers been sold for so cheap)\\n\\n\\n\\nTARGETED EMAIL LIST\\n\\n100 MILLION EMAIL ADDRESSES\\n\\nUsually sells for $195.00. For a limited time only we are offering them for:\\n\\n\\n\\nONLY $79.95 USD\\n\\n\\n\\nSPECIAL PACKAGE DEAL FOR BOTH DIRECTORIES:\\n\\n\\n\\nONLY $99.95 USD\\n\\n\\n\\nMORE THAN 34 CATEGORIES SUCH AS:\\n\\n-Multi level marketers\\n\\n-Opportunity Seekers\\n\\n-Telephone Area Code\\n\\n-Country, City, State, etc...\\n\\n-Travel & Vacations\\n\\n-Opt-in\\n\\n-People intersted in investments\\n\\n-People or businesses who spent more than $1000 on the web in the last 2 months\\n\\n-AND MANY MORE\\n\\n\\n\\n*Everything o n this disk is in TEXT file format and fully Exportable.\\n\\n*The CD is as easy to use as browsing your C drive in Explorer.\\n\\n\\n\\nTO ORDER YOURS CALL 416-467-6585\\n\\n\\n\\nOR FAX THE FORM BELOW TO 416-467-8986\\n\\n\\n\\nORDER FORM (Please PRINT clearly)\\n\\n\\n\\n-------------------------------------------------------------------------------------------------------------------\\n\\nName:\\n\\n\\n\\nCompany Name:\\n\\n\\n\\nEmail Address:\\n\\n\\n\\nTel#:\\n\\n\\n\\nShipping Address:\\n\\n\\n\\nCity:                                   Zip/Postal Code:\\n\\n\\n\\nCountry:\\n\\n\\n\\n---------------------------------------------------------------------------------------------------------------------\\n\\nPRODUCT:\\n\\n\\n\\n[] Email Address CDROM (100 Million Addresses) $79.95\\n\\n[] Fax Directory (1.5 Million Business Fax Numbers) $49.95\\n\\n[] SPECIAL PACKAGE DEAL (Both Fax & Email Directories) $99.95\\n\\n\\n\\nSHIPPING OPTIONS:\\n\\n\\n\\n[] Regular Mail (1 - 2 weeks delivery) $5.95\\n\\n[] Priority Mail (2 - 5 business days) $12.95\\n\\n[] Fedex Overnite $25.95\\n\\n\\n\\nTOTAL AMOUNT TO BE BILLED TO CREDIT CARD: $\\n\\n\\n\\n----------------------------------------------------------------------------------------------------------------------\\n\\nCREDIT CARD INFO:\\n\\n\\n\\n[] VISA  [] MASTERCARD  [] AMERICAN EXPRESS\\n\\n\\n\\nCard #:\\n\\n\\n\\nExpiry Date:\\n\\n\\n\\nName on Card:\\n\\n\\n\\nBilling Address:\\n\\n\\n\\nAuthorized Signature:\\n\\n----------------------------------------------------------------------------------------------------------------------\\n\\nPLEASE FAX THIS FORM BACK TO 416-467-8986\\n\\n\\n\\nTO ORDER BY MAIL:\\n\\n\\n\\nPLEASE send the ORDER FORM BACK and PRODUCT FORM withy a money order payable to FUTURE TECH INTERNATIONAL for the balance to:\\n\\n\\n\\nFUTURE TECH INTERNATIONAL\\n\\nIMPORT EXPORT COMPANY\\n\\n85 THORNCLIFFE PARK DRIVE SUITE 3602\\n\\nTORONTO, ONTARIO\\n\\nCANADA (POSTAL) M4H 1L6\\n\\n\\n\\nFOR ANY QUESTIONS PLEASE FEEL FREE TO CALL US AT 1-416-467-6585\\n\\n\\n\\n*PROVIDE YOUR EMAIL ADDRESS SO THAT WE CAN SEND YOU A RECEIPT FOR YOUR TRANSACTION\\n\\nFor email removals sjshdhd-39e2@yahoo.com\\n\\n\\n\",\n          \"Computer Privacy Help elizabeth0318 ,\\n\\n\\n\\n<html>\\n\\n<body>\\n\\n<p><font face=\\\"Arial\\\" size=\\\"2\\\">YOUR INTERNET USAGE IS BEING TRACKED<br>\\n\\nYou have no privacy protection.<br>\\n\\nWill your BOSS, WIFE or KIDS find out?<br>\\n\\n<br>\\n\\n<br>\\n\\n</font><b><font face=\\\"Arial\\\">\\n\\n<a href=\\\"http://www185.wiildaccess.com/\\\">DOWNLOAD EZ INTERNET PRIVACY SOFTWARE</a></font></b><font face=\\\"Arial\\\" size=\\\"2\\\"><br>\\n\\n<br>\\n\\n+++++++++++++++++++++++++++++++++++++++++++<br>\\n\\n<br>\\n\\n<br>\\n\\nYou're in Serious Trouble - It's a Proven Fact!<br>\\n\\n<br>\\n\\n<br>\\n\\nDeleting &quot;Internet Cache and History&quot; will NOT protect you because any of<br>\\n\\nthe Web Pages, Pictures, Movies, Videos, Sounds, E-mail, Chat Logs and<br>\\n\\nEverything Else you see or do could easily be recovered to Haunt you<br>\\n\\nforever! How would you feel if a snoop made this information public to your<br>\\n\\nSpouse, Mother &amp; Father, Neighbors, Children, Boss or the Media? It could<br>\\n\\neasily Ruin Your Life! Solve all your problems and enjoy all the benefits of<br>\\n\\nan &quot;As New PC&quot;, EZ INTERNET PRIVACY SOFTWARE can Speed-Up your PC/Internet Browser,<br>\\n\\nreclaim Hard Disk space and Professionally Clean your PC in one easy mouse<br>\\n\\nclick!<br>\\n\\n<br>\\n\\n<br>\\n\\nDid you know for example that every click you make on Windows 98 Start Menu<br>\\n\\nis logged and stored permanently on a hidden encrypted database within your<br>\\n\\nown computer?<br>\\n\\nDeleting &quot;internet cache and history&quot;, will not protect you... your PC is<br>\\n\\nkeeping frightening records of both your online and off-line activity. Any<br>\\n\\nof the Web Pages, Pictures, Movies, Videos, Sounds, E-mail and Everything<br>\\n\\nElse you or anyone else have ever viewed could easily be recovered - even<br>\\n\\nmany years later!<br>\\n\\nHow would you feel if somebody snooped this information out of your computer<br>\\n\\nand made it public?<br>\\n\\nDo your children or their friends use your computers? What have they<br>\\n\\ndownloaded and tried to delete?<br>\\n\\nAct now! And stop these files coming &quot;back from the dead&quot; to haunt you!<br>\\n\\n&nbsp;</font></p>\\n\\n<p><b><font face=\\\"Arial\\\" size=\\\"5\\\"><a href=\\\"http://www185.wiildaccess.com/\\\">CLICK \\n\\nHERE</a></font></b></p>\\n\\n<p>&nbsp;</p>\\n\\n<p>&nbsp;</p>\\n\\n<p>&nbsp;</p>\\n\\n<p><font size=\\\"2\\\">to be removed <a href=\\\"http://www185.wiildaccess.com/takemeoff.html\\\">Click Here</a></font></p>\\n\\n</body>\\n\\n</html>\\n\\n\\n\\n\\n\\n--DeathToSpamDeathToSpamDeathToSpam--\\n\\n\\n\\n\\n\\n-------------------------------------------------------\\n\\nThis sf.net email is sponsored by: Jabber - The world's fastest growing \\n\\nreal-time communications platform! Don't just IM. Build it in! \\n\\nhttp://www.jabber.com/osdn/xim\\n\\n_______________________________________________\\n\\nSpamassassin-Sightings mailing list\\n\\nSpamassassin-Sightings@lists.sourceforge.net\\n\\nhttps://lists.sourceforge.net/lists/listinfo/spamassassin-sightings\\n\\n\\n\\n\\n\"\n        ],\n        \"semantic_type\": \"\",\n        \"description\": \"\"\n      }\n    },\n    {\n      \"column\": \"CATEGORY\",\n      \"properties\": {\n        \"dtype\": \"number\",\n        \"std\": 0,\n        \"min\": 0,\n        \"max\": 1,\n        \"num_unique_values\": 2,\n        \"samples\": [\n          0,\n          1\n        ],\n        \"semantic_type\": \"\",\n        \"description\": \"\"\n      }\n    },\n    {\n      \"column\": \"FILE_NAME\",\n      \"properties\": {\n        \"dtype\": \"string\",\n        \"num_unique_values\": 5796,\n        \"samples\": [\n          \"00993.cff996c201ffd0122c92ff6b670afc96\",\n          \"00191.41a15d7d511bc977b0fcb93cd9492bd1\"\n        ],\n        \"semantic_type\": \"\",\n        \"description\": \"\"\n      }\n    }\n  ]\n}"
            }
          },
          "metadata": {},
          "execution_count": 27
        }
      ]
    },
    {
      "cell_type": "code",
      "source": [
        "data.tail()"
      ],
      "metadata": {
        "colab": {
          "base_uri": "https://localhost:8080/",
          "height": 237
        },
        "id": "tcdhH-HCwjFN",
        "outputId": "85643a7d-e211-4765-dcbd-5baed31f7b7f"
      },
      "execution_count": 28,
      "outputs": [
        {
          "output_type": "execute_result",
          "data": {
            "text/plain": [
              "                                                  MESSAGE  CATEGORY  \\\n",
              "DOC_ID                                                                \n",
              "5791    On Fri 19 Jul 2002 12:41, Wynne, Conor wrote:\\...         0   \n",
              "5792    Hi,\\n\\n\\n\\nmy exmh-2.5 suddenly will not spell...         0   \n",
              "5793    On Thu, 18 Jul 2002 13:00:29 +0200\\n\\nMatthias...         0   \n",
              "5794    Hi guys,\\n\\n\\tI'm looking for help on this one...         0   \n",
              "5795    When I was in school they pushed Irish down my...         0   \n",
              "\n",
              "                                     FILE_NAME  \n",
              "DOC_ID                                          \n",
              "5791    00027.c9e76a75d21f9221d65d4d577a2cfb75  \n",
              "5792    00780.8a0cad9870b20617d68fff0b4f73c4ad  \n",
              "5793    00674.bce8a0d5cf2fcc9888c9c2f88725df78  \n",
              "5794    00246.5322e23629e73664f224aa829efb63c5  \n",
              "5795    00169.701617763832617a7d0d1dfbc08b8a0d  "
            ],
            "text/html": [
              "\n",
              "  <div id=\"df-c4e716a9-87b4-4e54-96eb-841a5b34c7a3\" class=\"colab-df-container\">\n",
              "    <div>\n",
              "<style scoped>\n",
              "    .dataframe tbody tr th:only-of-type {\n",
              "        vertical-align: middle;\n",
              "    }\n",
              "\n",
              "    .dataframe tbody tr th {\n",
              "        vertical-align: top;\n",
              "    }\n",
              "\n",
              "    .dataframe thead th {\n",
              "        text-align: right;\n",
              "    }\n",
              "</style>\n",
              "<table border=\"1\" class=\"dataframe\">\n",
              "  <thead>\n",
              "    <tr style=\"text-align: right;\">\n",
              "      <th></th>\n",
              "      <th>MESSAGE</th>\n",
              "      <th>CATEGORY</th>\n",
              "      <th>FILE_NAME</th>\n",
              "    </tr>\n",
              "    <tr>\n",
              "      <th>DOC_ID</th>\n",
              "      <th></th>\n",
              "      <th></th>\n",
              "      <th></th>\n",
              "    </tr>\n",
              "  </thead>\n",
              "  <tbody>\n",
              "    <tr>\n",
              "      <th>5791</th>\n",
              "      <td>On Fri 19 Jul 2002 12:41, Wynne, Conor wrote:\\...</td>\n",
              "      <td>0</td>\n",
              "      <td>00027.c9e76a75d21f9221d65d4d577a2cfb75</td>\n",
              "    </tr>\n",
              "    <tr>\n",
              "      <th>5792</th>\n",
              "      <td>Hi,\\n\\n\\n\\nmy exmh-2.5 suddenly will not spell...</td>\n",
              "      <td>0</td>\n",
              "      <td>00780.8a0cad9870b20617d68fff0b4f73c4ad</td>\n",
              "    </tr>\n",
              "    <tr>\n",
              "      <th>5793</th>\n",
              "      <td>On Thu, 18 Jul 2002 13:00:29 +0200\\n\\nMatthias...</td>\n",
              "      <td>0</td>\n",
              "      <td>00674.bce8a0d5cf2fcc9888c9c2f88725df78</td>\n",
              "    </tr>\n",
              "    <tr>\n",
              "      <th>5794</th>\n",
              "      <td>Hi guys,\\n\\n\\tI'm looking for help on this one...</td>\n",
              "      <td>0</td>\n",
              "      <td>00246.5322e23629e73664f224aa829efb63c5</td>\n",
              "    </tr>\n",
              "    <tr>\n",
              "      <th>5795</th>\n",
              "      <td>When I was in school they pushed Irish down my...</td>\n",
              "      <td>0</td>\n",
              "      <td>00169.701617763832617a7d0d1dfbc08b8a0d</td>\n",
              "    </tr>\n",
              "  </tbody>\n",
              "</table>\n",
              "</div>\n",
              "    <div class=\"colab-df-buttons\">\n",
              "\n",
              "  <div class=\"colab-df-container\">\n",
              "    <button class=\"colab-df-convert\" onclick=\"convertToInteractive('df-c4e716a9-87b4-4e54-96eb-841a5b34c7a3')\"\n",
              "            title=\"Convert this dataframe to an interactive table.\"\n",
              "            style=\"display:none;\">\n",
              "\n",
              "  <svg xmlns=\"http://www.w3.org/2000/svg\" height=\"24px\" viewBox=\"0 -960 960 960\">\n",
              "    <path d=\"M120-120v-720h720v720H120Zm60-500h600v-160H180v160Zm220 220h160v-160H400v160Zm0 220h160v-160H400v160ZM180-400h160v-160H180v160Zm440 0h160v-160H620v160ZM180-180h160v-160H180v160Zm440 0h160v-160H620v160Z\"/>\n",
              "  </svg>\n",
              "    </button>\n",
              "\n",
              "  <style>\n",
              "    .colab-df-container {\n",
              "      display:flex;\n",
              "      gap: 12px;\n",
              "    }\n",
              "\n",
              "    .colab-df-convert {\n",
              "      background-color: #E8F0FE;\n",
              "      border: none;\n",
              "      border-radius: 50%;\n",
              "      cursor: pointer;\n",
              "      display: none;\n",
              "      fill: #1967D2;\n",
              "      height: 32px;\n",
              "      padding: 0 0 0 0;\n",
              "      width: 32px;\n",
              "    }\n",
              "\n",
              "    .colab-df-convert:hover {\n",
              "      background-color: #E2EBFA;\n",
              "      box-shadow: 0px 1px 2px rgba(60, 64, 67, 0.3), 0px 1px 3px 1px rgba(60, 64, 67, 0.15);\n",
              "      fill: #174EA6;\n",
              "    }\n",
              "\n",
              "    .colab-df-buttons div {\n",
              "      margin-bottom: 4px;\n",
              "    }\n",
              "\n",
              "    [theme=dark] .colab-df-convert {\n",
              "      background-color: #3B4455;\n",
              "      fill: #D2E3FC;\n",
              "    }\n",
              "\n",
              "    [theme=dark] .colab-df-convert:hover {\n",
              "      background-color: #434B5C;\n",
              "      box-shadow: 0px 1px 3px 1px rgba(0, 0, 0, 0.15);\n",
              "      filter: drop-shadow(0px 1px 2px rgba(0, 0, 0, 0.3));\n",
              "      fill: #FFFFFF;\n",
              "    }\n",
              "  </style>\n",
              "\n",
              "    <script>\n",
              "      const buttonEl =\n",
              "        document.querySelector('#df-c4e716a9-87b4-4e54-96eb-841a5b34c7a3 button.colab-df-convert');\n",
              "      buttonEl.style.display =\n",
              "        google.colab.kernel.accessAllowed ? 'block' : 'none';\n",
              "\n",
              "      async function convertToInteractive(key) {\n",
              "        const element = document.querySelector('#df-c4e716a9-87b4-4e54-96eb-841a5b34c7a3');\n",
              "        const dataTable =\n",
              "          await google.colab.kernel.invokeFunction('convertToInteractive',\n",
              "                                                    [key], {});\n",
              "        if (!dataTable) return;\n",
              "\n",
              "        const docLinkHtml = 'Like what you see? Visit the ' +\n",
              "          '<a target=\"_blank\" href=https://colab.research.google.com/notebooks/data_table.ipynb>data table notebook</a>'\n",
              "          + ' to learn more about interactive tables.';\n",
              "        element.innerHTML = '';\n",
              "        dataTable['output_type'] = 'display_data';\n",
              "        await google.colab.output.renderOutput(dataTable, element);\n",
              "        const docLink = document.createElement('div');\n",
              "        docLink.innerHTML = docLinkHtml;\n",
              "        element.appendChild(docLink);\n",
              "      }\n",
              "    </script>\n",
              "  </div>\n",
              "\n",
              "\n",
              "<div id=\"df-d841b651-3995-407a-a282-3cbcc04b0c7a\">\n",
              "  <button class=\"colab-df-quickchart\" onclick=\"quickchart('df-d841b651-3995-407a-a282-3cbcc04b0c7a')\"\n",
              "            title=\"Suggest charts\"\n",
              "            style=\"display:none;\">\n",
              "\n",
              "<svg xmlns=\"http://www.w3.org/2000/svg\" height=\"24px\"viewBox=\"0 0 24 24\"\n",
              "     width=\"24px\">\n",
              "    <g>\n",
              "        <path d=\"M19 3H5c-1.1 0-2 .9-2 2v14c0 1.1.9 2 2 2h14c1.1 0 2-.9 2-2V5c0-1.1-.9-2-2-2zM9 17H7v-7h2v7zm4 0h-2V7h2v10zm4 0h-2v-4h2v4z\"/>\n",
              "    </g>\n",
              "</svg>\n",
              "  </button>\n",
              "\n",
              "<style>\n",
              "  .colab-df-quickchart {\n",
              "      --bg-color: #E8F0FE;\n",
              "      --fill-color: #1967D2;\n",
              "      --hover-bg-color: #E2EBFA;\n",
              "      --hover-fill-color: #174EA6;\n",
              "      --disabled-fill-color: #AAA;\n",
              "      --disabled-bg-color: #DDD;\n",
              "  }\n",
              "\n",
              "  [theme=dark] .colab-df-quickchart {\n",
              "      --bg-color: #3B4455;\n",
              "      --fill-color: #D2E3FC;\n",
              "      --hover-bg-color: #434B5C;\n",
              "      --hover-fill-color: #FFFFFF;\n",
              "      --disabled-bg-color: #3B4455;\n",
              "      --disabled-fill-color: #666;\n",
              "  }\n",
              "\n",
              "  .colab-df-quickchart {\n",
              "    background-color: var(--bg-color);\n",
              "    border: none;\n",
              "    border-radius: 50%;\n",
              "    cursor: pointer;\n",
              "    display: none;\n",
              "    fill: var(--fill-color);\n",
              "    height: 32px;\n",
              "    padding: 0;\n",
              "    width: 32px;\n",
              "  }\n",
              "\n",
              "  .colab-df-quickchart:hover {\n",
              "    background-color: var(--hover-bg-color);\n",
              "    box-shadow: 0 1px 2px rgba(60, 64, 67, 0.3), 0 1px 3px 1px rgba(60, 64, 67, 0.15);\n",
              "    fill: var(--button-hover-fill-color);\n",
              "  }\n",
              "\n",
              "  .colab-df-quickchart-complete:disabled,\n",
              "  .colab-df-quickchart-complete:disabled:hover {\n",
              "    background-color: var(--disabled-bg-color);\n",
              "    fill: var(--disabled-fill-color);\n",
              "    box-shadow: none;\n",
              "  }\n",
              "\n",
              "  .colab-df-spinner {\n",
              "    border: 2px solid var(--fill-color);\n",
              "    border-color: transparent;\n",
              "    border-bottom-color: var(--fill-color);\n",
              "    animation:\n",
              "      spin 1s steps(1) infinite;\n",
              "  }\n",
              "\n",
              "  @keyframes spin {\n",
              "    0% {\n",
              "      border-color: transparent;\n",
              "      border-bottom-color: var(--fill-color);\n",
              "      border-left-color: var(--fill-color);\n",
              "    }\n",
              "    20% {\n",
              "      border-color: transparent;\n",
              "      border-left-color: var(--fill-color);\n",
              "      border-top-color: var(--fill-color);\n",
              "    }\n",
              "    30% {\n",
              "      border-color: transparent;\n",
              "      border-left-color: var(--fill-color);\n",
              "      border-top-color: var(--fill-color);\n",
              "      border-right-color: var(--fill-color);\n",
              "    }\n",
              "    40% {\n",
              "      border-color: transparent;\n",
              "      border-right-color: var(--fill-color);\n",
              "      border-top-color: var(--fill-color);\n",
              "    }\n",
              "    60% {\n",
              "      border-color: transparent;\n",
              "      border-right-color: var(--fill-color);\n",
              "    }\n",
              "    80% {\n",
              "      border-color: transparent;\n",
              "      border-right-color: var(--fill-color);\n",
              "      border-bottom-color: var(--fill-color);\n",
              "    }\n",
              "    90% {\n",
              "      border-color: transparent;\n",
              "      border-bottom-color: var(--fill-color);\n",
              "    }\n",
              "  }\n",
              "</style>\n",
              "\n",
              "  <script>\n",
              "    async function quickchart(key) {\n",
              "      const quickchartButtonEl =\n",
              "        document.querySelector('#' + key + ' button');\n",
              "      quickchartButtonEl.disabled = true;  // To prevent multiple clicks.\n",
              "      quickchartButtonEl.classList.add('colab-df-spinner');\n",
              "      try {\n",
              "        const charts = await google.colab.kernel.invokeFunction(\n",
              "            'suggestCharts', [key], {});\n",
              "      } catch (error) {\n",
              "        console.error('Error during call to suggestCharts:', error);\n",
              "      }\n",
              "      quickchartButtonEl.classList.remove('colab-df-spinner');\n",
              "      quickchartButtonEl.classList.add('colab-df-quickchart-complete');\n",
              "    }\n",
              "    (() => {\n",
              "      let quickchartButtonEl =\n",
              "        document.querySelector('#df-d841b651-3995-407a-a282-3cbcc04b0c7a button');\n",
              "      quickchartButtonEl.style.display =\n",
              "        google.colab.kernel.accessAllowed ? 'block' : 'none';\n",
              "    })();\n",
              "  </script>\n",
              "</div>\n",
              "\n",
              "    </div>\n",
              "  </div>\n"
            ],
            "application/vnd.google.colaboratory.intrinsic+json": {
              "type": "dataframe",
              "summary": "{\n  \"name\": \"data\",\n  \"rows\": 5,\n  \"fields\": [\n    {\n      \"column\": \"DOC_ID\",\n      \"properties\": {\n        \"dtype\": \"number\",\n        \"std\": 1,\n        \"min\": 5791,\n        \"max\": 5795,\n        \"num_unique_values\": 5,\n        \"samples\": [\n          5792,\n          5795,\n          5793\n        ],\n        \"semantic_type\": \"\",\n        \"description\": \"\"\n      }\n    },\n    {\n      \"column\": \"MESSAGE\",\n      \"properties\": {\n        \"dtype\": \"string\",\n        \"num_unique_values\": 5,\n        \"samples\": [\n          \"Hi,\\n\\n\\n\\nmy exmh-2.5 suddenly will not spell-check anymore. If I click More..., Spell...\\n\\na window opens and is gone just as fast.\\n\\n\\n\\nI don't recall having tinkered with anything.\\n\\n\\n\\nHow can I get spell-checking back?\\n\\n\\n\\nIf you explain please do it so a standard PC user will understand.\\n\\n\\n\\nThanks in advance!\\n\\n\\n\\n-- \\n\\nPeter\\n\\n\\n\\n\\n\\n\\n\\n\\n\\n\\n\\n\\n\\n\\n\\n\\n\\n\\n\\n\\n\\n_______________________________________________\\n\\nExmh-users mailing list\\n\\nExmh-users@redhat.com\\n\\nhttps://listman.redhat.com/mailman/listinfo/exmh-users\\n\\n\\n\",\n          \"When I was in school they pushed Irish down my throat. I developed a hatred\\n\\nfor Irish. I did French for 3 years and German for 6 months, I could\\n\\n(almost) hold a basic conversation. I am proud of the fact that I don't know\\n\\none word of Irish. \\n\\n\\n\\n-----Original Message-----\\n\\nFrom: Wynne, Conor [mailto:conor_wynne@maxtor.com]\\n\\nSent: 31 July 2002 09:56\\n\\nTo: 'Patton, Tony'; Irish LUG\\n\\nSubject: RE: [ILUG] Fwd: Linux Beer Hike\\n\\n\\n\\n\\n\\nI am the evil one, you will respect my authoritai ;--)\\n\\n\\n\\nSorry, but I couldn't resist, I must say that mails like this really impress\\n\\nme. coz I have pretty much no Irish at all, although my wee Girl starts\\n\\nGaelscoil in September so there hope for me yet :)\\n\\n\\n\\nMuch Respect to the Gaeilgors out there. \\n\\n\\n\\nCW\\n\\n\\n\\n-------------------\\n\\nmar\\n\\n> gheall ar an Hike ar an gcl\\u00e1r - an mbeidh t\\u00fa f\\u00e9in n\\u00f3 aon duine eile le\\n\\n> Gaeilge ar an Hike go bhfios duit?\\n\\n> \\n\\n> Go raibh maith agat as do chabhair,\\n\\n> \\n\\n\\n\\n---->8\\n\\n\\n\\nCan someone translate this for me? Lost all sense of Irish when moved\\n\\nover the border about 10 years ago. Not by choice mind you :-(\\n\\n\\n\\n\\n\\n-- \\n\\nIrish Linux Users' Group: ilug@linux.ie\\n\\nhttp://www.linux.ie/mailman/listinfo/ilug for (un)subscription information.\\n\\nList maintainer: listmaster@linux.ie\\n\\n\\n\\n-- \\n\\nIrish Linux Users' Group: ilug@linux.ie\\n\\nhttp://www.linux.ie/mailman/listinfo/ilug for (un)subscription information.\\n\\nList maintainer: listmaster@linux.ie\\n\\n\\n\\n\\n\",\n          \"On Thu, 18 Jul 2002 13:00:29 +0200\\n\\nMatthias Saou <matthias@egwn.net> wrote:\\n\\n\\n\\n> Once upon a time, Matthias wrote :\\n\\n> > ..see subject.\\n\\n> ..see valhalla.freshrpms.net ;-)\\n\\n\\n\\nHi, Matthias,\\n\\n\\n\\nYou should temporarly remove gentoo 0.11.29 from valhalla.freshrpms.net.\\n\\nThis build (and 0.11.28) has a strong bug: Problems with copying \\\"deep\\\"\\n\\ndirectories.\\n\\n\\n\\nHave reported this to Emil, he looks currently into it, a fix should be\\n\\navailable soon..\\n\\n\\n\\nSorry\\n\\n\\n\\n-- \\n\\nregards from Germany\\n\\n                   Matthias\\n\\n                   \\n\\n\\n\\n_______________________________________________\\n\\nRPM-List mailing list <RPM-List@freshrpms.net>\\n\\nhttp://lists.freshrpms.net/mailman/listinfo/rpm-list\\n\\n\\n\\n\\n\"\n        ],\n        \"semantic_type\": \"\",\n        \"description\": \"\"\n      }\n    },\n    {\n      \"column\": \"CATEGORY\",\n      \"properties\": {\n        \"dtype\": \"number\",\n        \"std\": 0,\n        \"min\": 0,\n        \"max\": 0,\n        \"num_unique_values\": 1,\n        \"samples\": [\n          0\n        ],\n        \"semantic_type\": \"\",\n        \"description\": \"\"\n      }\n    },\n    {\n      \"column\": \"FILE_NAME\",\n      \"properties\": {\n        \"dtype\": \"string\",\n        \"num_unique_values\": 5,\n        \"samples\": [\n          \"00780.8a0cad9870b20617d68fff0b4f73c4ad\"\n        ],\n        \"semantic_type\": \"\",\n        \"description\": \"\"\n      }\n    }\n  ]\n}"
            }
          },
          "metadata": {},
          "execution_count": 28
        }
      ]
    },
    {
      "cell_type": "markdown",
      "source": [
        "**Save to file using Pandas**"
      ],
      "metadata": {
        "id": "-jG0Ohypw5V2"
      }
    },
    {
      "cell_type": "code",
      "source": [
        "data.to_json(DATA_JSON_FILE)"
      ],
      "metadata": {
        "id": "wsQKidkRw-C3"
      },
      "execution_count": 29,
      "outputs": []
    },
    {
      "cell_type": "markdown",
      "source": [
        "**Number of spam messages visualised**"
      ],
      "metadata": {
        "id": "3PZOdBcAzFjz"
      }
    },
    {
      "cell_type": "code",
      "source": [
        "data.CATEGORY.value_counts()"
      ],
      "metadata": {
        "colab": {
          "base_uri": "https://localhost:8080/",
          "height": 178
        },
        "id": "5O4fHwu_zFO7",
        "outputId": "9cbcaae3-acf3-4719-8532-647081a25836"
      },
      "execution_count": 30,
      "outputs": [
        {
          "output_type": "execute_result",
          "data": {
            "text/plain": [
              "CATEGORY\n",
              "0    3900\n",
              "1    1896\n",
              "Name: count, dtype: int64"
            ],
            "text/html": [
              "<div>\n",
              "<style scoped>\n",
              "    .dataframe tbody tr th:only-of-type {\n",
              "        vertical-align: middle;\n",
              "    }\n",
              "\n",
              "    .dataframe tbody tr th {\n",
              "        vertical-align: top;\n",
              "    }\n",
              "\n",
              "    .dataframe thead th {\n",
              "        text-align: right;\n",
              "    }\n",
              "</style>\n",
              "<table border=\"1\" class=\"dataframe\">\n",
              "  <thead>\n",
              "    <tr style=\"text-align: right;\">\n",
              "      <th></th>\n",
              "      <th>count</th>\n",
              "    </tr>\n",
              "    <tr>\n",
              "      <th>CATEGORY</th>\n",
              "      <th></th>\n",
              "    </tr>\n",
              "  </thead>\n",
              "  <tbody>\n",
              "    <tr>\n",
              "      <th>0</th>\n",
              "      <td>3900</td>\n",
              "    </tr>\n",
              "    <tr>\n",
              "      <th>1</th>\n",
              "      <td>1896</td>\n",
              "    </tr>\n",
              "  </tbody>\n",
              "</table>\n",
              "</div><br><label><b>dtype:</b> int64</label>"
            ]
          },
          "metadata": {},
          "execution_count": 30
        }
      ]
    },
    {
      "cell_type": "code",
      "source": [
        "amount_of_spam = data.CATEGORY.value_counts()[1]\n",
        "amount_of_ham = data.CATEGORY.value_counts()[0]\n",
        "print('Amount of spam messages:', amount_of_spam)\n",
        "print('Amount of ham messages:', amount_of_ham)"
      ],
      "metadata": {
        "colab": {
          "base_uri": "https://localhost:8080/"
        },
        "id": "mV_YDZLRzr0R",
        "outputId": "abf073b3-9d91-4071-cb2c-e4efc8333d4f"
      },
      "execution_count": 31,
      "outputs": [
        {
          "output_type": "stream",
          "name": "stdout",
          "text": [
            "Amount of spam messages: 1896\n",
            "Amount of ham messages: 3900\n"
          ]
        }
      ]
    },
    {
      "cell_type": "code",
      "source": [
        "category_names = ['Spam', 'Legit_Mail']\n",
        "sizes = [amount_of_spam, amount_of_ham]\n",
        "\n",
        "custom_colors = ['#ff7675','#74b9ff']\n",
        "plt.figure(figsize=(5, 5), dpi=100)\n",
        "plt.pie(sizes, labels=category_names, textprops={'fontsize':10},\n",
        "        startangle=90, autopct='%1.1f%%', colors = custom_colors, explode=[0, 0.1])\n",
        "plt.title('Spam vs Legit Mail')\n",
        "plt.show()"
      ],
      "metadata": {
        "colab": {
          "base_uri": "https://localhost:8080/",
          "height": 444
        },
        "outputId": "5d445252-6349-4dcc-cd22-9e7b68f85152",
        "id": "w9yfIhpJ8ish"
      },
      "execution_count": 32,
      "outputs": [
        {
          "output_type": "display_data",
          "data": {
            "text/plain": [
              "<Figure size 500x500 with 1 Axes>"
            ],
            "image/png": "[encoded data removed]"
          },
          "metadata": {}
        }
      ]
    },
    {
      "cell_type": "code",
      "source": [
        "category_names = ['Spam', 'Legit_Mail']\n",
        "sizes = [amount_of_spam, amount_of_ham]\n",
        "\n",
        "custom_colors = ['#ff7675','#74b9ff']\n",
        "plt.figure(figsize=(5, 5), dpi=100)\n",
        "plt.pie(sizes, labels=category_names, textprops={'fontsize':10},\n",
        "        startangle=90, autopct='%1.1f%%', colors = custom_colors, pctdistance=0.8)\n",
        "\n",
        "#draw circle\n",
        "centre_circle = plt.Circle((0,0), radius=0.6, fc='white')\n",
        "\n",
        "fig = plt.gcf()\n",
        "fig.gca().add_artist(centre_circle)\n",
        "\n",
        "plt.title('Spam vs Legit Mail')\n",
        "plt.show()"
      ],
      "metadata": {
        "colab": {
          "base_uri": "https://localhost:8080/",
          "height": 444
        },
        "id": "q-a7eNpE0Nc6",
        "outputId": "3093a4c7-00d9-4472-c841-1459abffb3de"
      },
      "execution_count": 33,
      "outputs": [
        {
          "output_type": "display_data",
          "data": {
            "text/plain": [
              "<Figure size 500x500 with 1 Axes>"
            ],
            "image/png": "[encoded data removed]"
          },
          "metadata": {}
        }
      ]
    },
    {
      "cell_type": "code",
      "source": [
        "category_names = ['Spam', 'Legit_Mail', 'Updates', 'Promotions']\n",
        "sizes = [25, 43, 19, 22]\n",
        "offset = [0.05, 0.05, 0.05, 0.05]\n",
        "\n",
        "custom_colors = ['#ff7675','#74b9ff', '#55efc4', '#ffeaa7']\n",
        "plt.figure(figsize=(5, 5), dpi=100)\n",
        "plt.pie(sizes, labels=category_names, textprops={'fontsize':10},\n",
        "        startangle=90, autopct='%1.1f%%', colors = custom_colors, pctdistance=0.8, explode=offset)\n",
        "\n",
        "#draw circle\n",
        "centre_circle = plt.Circle((0,0), radius=0.6, fc='white')\n",
        "\n",
        "fig = plt.gcf()\n",
        "fig.gca().add_artist(centre_circle)\n",
        "\n",
        "plt.title('Spam vs Legit Mail')\n",
        "plt.show()"
      ],
      "metadata": {
        "colab": {
          "base_uri": "https://localhost:8080/",
          "height": 444
        },
        "outputId": "d9763cd1-3154-4eea-d599-40929c63580f",
        "id": "A1ZGKPJZ-8oe"
      },
      "execution_count": 34,
      "outputs": [
        {
          "output_type": "display_data",
          "data": {
            "text/plain": [
              "<Figure size 500x500 with 1 Axes>"
            ],
            "image/png": "[encoded data removed]"
          },
          "metadata": {}
        }
      ]
    },
    {
      "cell_type": "markdown",
      "source": [
        "# **Natural Language Processing**\n",
        "**Text Pre-Processing**"
      ],
      "metadata": {
        "id": "6Dh7QxtXCNKB"
      }
    },
    {
      "cell_type": "code",
      "source": [
        "msg = 'All work and no play makes Jack a dull boy'\n",
        "msg.lower()"
      ],
      "metadata": {
        "colab": {
          "base_uri": "https://localhost:8080/",
          "height": 35
        },
        "id": "GO5-gshaCbwm",
        "outputId": "2880272a-3c52-4469-b540-91d7f92dc86d"
      },
      "execution_count": 35,
      "outputs": [
        {
          "output_type": "execute_result",
          "data": {
            "text/plain": [
              "'all work and no play makes jack a dull boy'"
            ],
            "application/vnd.google.colaboratory.intrinsic+json": {
              "type": "string"
            }
          },
          "metadata": {},
          "execution_count": 35
        }
      ]
    },
    {
      "cell_type": "markdown",
      "source": [
        "**Download the NLTK Resources(Tokenizer & Stopwords)**"
      ],
      "metadata": {
        "id": "Lqhg5Y7OEEuA"
      }
    },
    {
      "cell_type": "code",
      "source": [
        "nltk.download('punkt')\n"
      ],
      "metadata": {
        "colab": {
          "base_uri": "https://localhost:8080/"
        },
        "id": "UzpYvnUQFRjs",
        "outputId": "b2dbfe30-db42-49ef-ecd2-35d78cd685a6"
      },
      "execution_count": 36,
      "outputs": [
        {
          "output_type": "stream",
          "name": "stderr",
          "text": [
            "[nltk_data] Downloading package punkt to /root/nltk_data...\n",
            "[nltk_data]   Unzipping tokenizers/punkt.zip.\n"
          ]
        },
        {
          "output_type": "execute_result",
          "data": {
            "text/plain": [
              "True"
            ]
          },
          "metadata": {},
          "execution_count": 36
        }
      ]
    },
    {
      "cell_type": "code",
      "source": [
        "nltk.download('stopwords')"
      ],
      "metadata": {
        "colab": {
          "base_uri": "https://localhost:8080/"
        },
        "id": "nhkbaFS2T3t1",
        "outputId": "0b8b23a3-67ad-4d4e-8ec1-f277f25df2a4"
      },
      "execution_count": 37,
      "outputs": [
        {
          "output_type": "stream",
          "name": "stderr",
          "text": [
            "[nltk_data] Downloading package stopwords to /root/nltk_data...\n",
            "[nltk_data]   Unzipping corpora/stopwords.zip.\n"
          ]
        },
        {
          "output_type": "execute_result",
          "data": {
            "text/plain": [
              "True"
            ]
          },
          "metadata": {},
          "execution_count": 37
        }
      ]
    },
    {
      "cell_type": "markdown",
      "source": [
        "**Tokenising**"
      ],
      "metadata": {
        "id": "ISa2G47SFcwN"
      }
    },
    {
      "cell_type": "code",
      "source": [
        "msg = 'All work and no play makes Jack a dull boy'\n",
        "word_tokenize(msg.lower())"
      ],
      "metadata": {
        "colab": {
          "base_uri": "https://localhost:8080/"
        },
        "id": "fIJQn4g-S9Kb",
        "outputId": "84e5441f-20f3-4522-a035-a751ba017653"
      },
      "execution_count": null,
      "outputs": [
        {
          "output_type": "execute_result",
          "data": {
            "text/plain": [
              "['all', 'work', 'and', 'no', 'play', 'makes', 'jack', 'a', 'dull', 'boy']"
            ]
          },
          "metadata": {},
          "execution_count": 92
        }
      ]
    },
    {
      "cell_type": "markdown",
      "source": [
        "**Removing stop words**"
      ],
      "metadata": {
        "id": "4fdogUTHUsds"
      }
    },
    {
      "cell_type": "code",
      "source": [
        "stop_words = set(stopwords.words('english'))"
      ],
      "metadata": {
        "id": "oqaSOCv0U2Mb"
      },
      "execution_count": 38,
      "outputs": []
    },
    {
      "cell_type": "code",
      "source": [
        "if 'this' in stop_words:\n",
        "  print('True')\n",
        "else:\n",
        "  print('Nope.Not in here')"
      ],
      "metadata": {
        "colab": {
          "base_uri": "https://localhost:8080/"
        },
        "id": "7pQu3MZlVukp",
        "outputId": "831a0b73-e58b-43d0-a822-940067f5f4c2"
      },
      "execution_count": 39,
      "outputs": [
        {
          "output_type": "stream",
          "name": "stdout",
          "text": [
            "True\n"
          ]
        }
      ]
    },
    {
      "cell_type": "code",
      "source": [
        "msg = 'All work and no play makes Jack a dull boy.To be or not to be that is the question.'\n",
        "words = word_tokenize(msg.lower())\n",
        "\n",
        "filtered_words = []\n",
        "for word in words:\n",
        "  if word not in stop_words:\n",
        "    filtered_words.append(word)\n",
        "\n",
        "print(filtered_words)\n"
      ],
      "metadata": {
        "colab": {
          "base_uri": "https://localhost:8080/"
        },
        "id": "3sgVU53dWd1_",
        "outputId": "ea1b9971-785a-473a-b84f-4dc2450be77c"
      },
      "execution_count": 40,
      "outputs": [
        {
          "output_type": "stream",
          "name": "stdout",
          "text": [
            "['work', 'play', 'makes', 'jack', 'dull', 'boy.to', 'question', '.']\n"
          ]
        }
      ]
    },
    {
      "cell_type": "markdown",
      "source": [
        "**Word Stems and Stemming**"
      ],
      "metadata": {
        "id": "2kh8iVuTYfSW"
      }
    },
    {
      "cell_type": "code",
      "source": [
        "msg = 'All work and no play makes Jack a dull boy.To be or not to be that is the question. \\\n",
        "Nobody expects Spanish Inquisition'\n",
        "words = word_tokenize(msg.lower())\n",
        "\n",
        "#stemmer = PorterStemmer()\n",
        "stemmer = SnowballStemmer('english')\n",
        "\n",
        "filtered_words = []\n",
        "\n",
        "for word in words:\n",
        "  if word not in stop_words:\n",
        "    stemmed_word = stemmer.stem(word)\n",
        "    filtered_words.append(word)\n",
        "\n",
        "print(filtered_words)\n"
      ],
      "metadata": {
        "colab": {
          "base_uri": "https://localhost:8080/"
        },
        "outputId": "0374a26c-6066-4165-e399-0d22279b231b",
        "id": "kSviPNhbZ99h"
      },
      "execution_count": 41,
      "outputs": [
        {
          "output_type": "stream",
          "name": "stdout",
          "text": [
            "['work', 'play', 'makes', 'jack', 'dull', 'boy.to', 'question', '.', 'nobody', 'expects', 'spanish', 'inquisition']\n"
          ]
        }
      ]
    },
    {
      "cell_type": "code",
      "source": [
        "msg = 'All work and no play makes Jack a dull boy.To be or not to be that is the question.??? \\\n",
        "Nobody expects Spanish Inquisition'\n",
        "words = word_tokenize(msg.lower())\n",
        "\n",
        "#stemmer = PorterStemmer()\n",
        "stemmer = SnowballStemmer('english')\n",
        "filtered_words = []\n",
        "\n",
        "for word in words:\n",
        "  if word not in stop_words and word.isalpha():\n",
        "    stemmed_word = stemmer.stem(word)\n",
        "    filtered_words.append(word)\n",
        "\n",
        "print(filtered_words)\n"
      ],
      "metadata": {
        "colab": {
          "base_uri": "https://localhost:8080/"
        },
        "outputId": "fafda4e9-e7dc-4805-e1ad-6b8268e5781e",
        "id": "IECH8GOycBVV"
      },
      "execution_count": 42,
      "outputs": [
        {
          "output_type": "stream",
          "name": "stdout",
          "text": [
            "['work', 'play', 'makes', 'jack', 'dull', 'nobody', 'expects', 'spanish', 'inquisition']\n"
          ]
        }
      ]
    },
    {
      "cell_type": "markdown",
      "source": [
        "**Removing HTML tags from emails**"
      ],
      "metadata": {
        "id": "mg8m_6_z2DA-"
      }
    },
    {
      "cell_type": "code",
      "source": [
        "soup = BeautifulSoup(data.at[2, 'MESSAGE'], 'html.parser')\n",
        "print(soup.prettify())"
      ],
      "metadata": {
        "colab": {
          "base_uri": "https://localhost:8080/"
        },
        "id": "lD6CYm411lQg",
        "outputId": "5cd27424-9e55-42b4-e10f-1843898e3c61"
      },
      "execution_count": 48,
      "outputs": [
        {
          "output_type": "stream",
          "name": "stdout",
          "text": [
            "Dear Homeowner,\n",
            "\n",
            " \n",
            "\n",
            "Interest Rates are at their lowest point in 40 years!\n",
            "\n",
            "\n",
            "\n",
            "We help you find the best rate for your situation by\n",
            "\n",
            "matching your needs with hundreds of lenders!\n",
            "\n",
            "\n",
            "\n",
            "Home Improvement, Refinance, Second Mortgage,\n",
            "\n",
            "Home Equity Loans, and More! Even with less than\n",
            "\n",
            "perfect credit!\n",
            "\n",
            "\n",
            "\n",
            "This service is 100% FREE to home owners and new\n",
            "\n",
            "home buyers without any obligation. \n",
            "\n",
            "\n",
            "\n",
            "Just fill out a quick, simple form and jump-start\n",
            "\n",
            "your future plans today!\n",
            "\n",
            "\n",
            "\n",
            "\n",
            "\n",
            "Visit http://61.145.116.186/user0201/index.asp?Afft=QM10\n",
            "\n",
            "\n",
            "\n",
            "\n",
            "\n",
            "\n",
            "\n",
            "\n",
            "\n",
            "\n",
            "\n",
            "\n",
            "\n",
            "To unsubscribe, please visit:\n",
            "\n",
            "\n",
            "\n",
            "http://61.145.116.186/light/watch.asp\n",
            "\n"
          ]
        }
      ]
    },
    {
      "cell_type": "code",
      "source": [
        "soup.get_text()"
      ],
      "metadata": {
        "colab": {
          "base_uri": "https://localhost:8080/",
          "height": 104
        },
        "id": "GxKEmSsD2KTy",
        "outputId": "5fe8c0a5-7af4-4894-ac70-0551cd1c26fa"
      },
      "execution_count": 49,
      "outputs": [
        {
          "output_type": "execute_result",
          "data": {
            "text/plain": [
              "'Dear Homeowner,\\n\\n \\n\\nInterest Rates are at their lowest point in 40 years!\\n\\n\\n\\nWe help you find the best rate for your situation by\\n\\nmatching your needs with hundreds of lenders!\\n\\n\\n\\nHome Improvement, Refinance, Second Mortgage,\\n\\nHome Equity Loans, and More! Even with less than\\n\\nperfect credit!\\n\\n\\n\\nThis service is 100% FREE to home owners and new\\n\\nhome buyers without any obligation. \\n\\n\\n\\nJust fill out a quick, simple form and jump-start\\n\\nyour future plans today!\\n\\n\\n\\n\\n\\nVisit http://61.145.116.186/user0201/index.asp?Afft=QM10\\n\\n\\n\\n\\n\\n\\n\\n\\n\\n\\n\\n\\n\\nTo unsubscribe, please visit:\\n\\n\\n\\nhttp://61.145.116.186/light/watch.asp\\n\\n\\n\\n\\n'"
            ],
            "application/vnd.google.colaboratory.intrinsic+json": {
              "type": "string"
            }
          },
          "metadata": {},
          "execution_count": 49
        }
      ]
    },
    {
      "cell_type": "markdown",
      "source": [
        "**Fuctions for email processing**"
      ],
      "metadata": {
        "id": "4R2aOxFs5VKU"
      }
    },
    {
      "cell_type": "code",
      "source": [
        "def clean_message(message, stemmer=PorterStemmer(),\n",
        "                  stop_words = set(stopwords.words('english'))):\n",
        "\n",
        "   words = word_tokenize(message.lower())\n",
        "   filtered_words = []\n",
        "\n",
        "   for word in words:\n",
        "    if word not in stop_words and word.isalpha():\n",
        "      stemmed_word = stemmer.stem(word)\n",
        "      filtered_words.append(stemmer.stem(word))\n",
        "\n",
        "\n",
        "   return filtered_words\n",
        ""
      ],
      "metadata": {
        "id": "1335dSiT5d0H"
      },
      "execution_count": 56,
      "outputs": []
    },
    {
      "cell_type": "code",
      "source": [
        "clean_message(email_body)"
      ],
      "metadata": {
        "colab": {
          "base_uri": "https://localhost:8080/"
        },
        "id": "7i6R2g8y8TqP",
        "outputId": "c42f3b10-e702-4aa6-a6e8-75cec55194f1"
      },
      "execution_count": 57,
      "outputs": [
        {
          "output_type": "execute_result",
          "data": {
            "text/plain": [
              "['dear',\n",
              " 'mr',\n",
              " 'still',\n",
              " 'good',\n",
              " 'tide',\n",
              " 'staff',\n",
              " 'festiv',\n",
              " 'season',\n",
              " 'ahead',\n",
              " 'christma',\n",
              " 'crux',\n",
              " 'fulli',\n",
              " 'qualifi',\n",
              " 'santa',\n",
              " 'clau',\n",
              " 'wonder',\n",
              " 'whether',\n",
              " 'might',\n",
              " 'consid',\n",
              " 'run',\n",
              " 'santa',\n",
              " 'grotto',\n",
              " 'store',\n",
              " 'wait',\n",
              " 'probabl',\n",
              " 'think',\n",
              " 'make',\n",
              " 'special',\n",
              " 'well',\n",
              " 'first',\n",
              " 'made',\n",
              " 'sever',\n",
              " 'chang',\n",
              " 'characteris',\n",
              " 'father',\n",
              " 'christma',\n",
              " 'rather',\n",
              " 'greet',\n",
              " 'children',\n",
              " 'shout',\n",
              " 'ho',\n",
              " 'ho',\n",
              " 'ho',\n",
              " 'prefer',\n",
              " 'whisper',\n",
              " 'phrase',\n",
              " 'depend',\n",
              " 'unfathom',\n",
              " 'cruel',\n",
              " 'world',\n",
              " 'live',\n",
              " 'addit',\n",
              " 'gift',\n",
              " 'rang',\n",
              " 'felt',\n",
              " 'hoop',\n",
              " 'holder',\n",
              " 'note',\n",
              " 'also',\n",
              " 'enclos',\n",
              " 'sketch',\n",
              " 'radic',\n",
              " 'redesign',\n",
              " 'santa',\n",
              " 'outfit',\n",
              " 'renam',\n",
              " 'charact',\n",
              " 'lord',\n",
              " 'buckl',\n",
              " 'would',\n",
              " 'interest',\n",
              " 'employ',\n",
              " 'promis',\n",
              " 'never',\n",
              " 'let',\n",
              " 'look',\n",
              " 'forward',\n",
              " 'hear',\n",
              " 'best',\n",
              " 'wish',\n",
              " 'robin',\n",
              " 'cooper',\n",
              " 'excerpt',\n",
              " 'book',\n",
              " 'timewast',\n",
              " 'letter',\n",
              " 'robin',\n",
              " 'cooper']"
            ]
          },
          "metadata": {},
          "execution_count": 57
        }
      ]
    },
    {
      "cell_type": "code",
      "source": [],
      "metadata": {
        "id": "-ZvwVmUZ8SXl"
      },
      "execution_count": null,
      "outputs": []
    },
    {
      "cell_type": "code",
      "source": [
        "def clean_msg_no_html(message, stemmer=PorterStemmer(),\n",
        "                  stop_words = set(stopwords.words('english'))):\n",
        "\n",
        "   soup = BeautifulSoup(message, 'html.parser')\n",
        "   cleaned_text = soup.get_text()\n",
        "\n",
        "   words = word_tokenize(cleaned_text.lower())\n",
        "   filtered_words = []\n",
        "\n",
        "   for word in words:\n",
        "    if word not in stop_words and word.isalpha():\n",
        "      stemmed_word = stemmer.stem(word)\n",
        "      filtered_words.append(stemmer.stem(word))\n",
        "\n",
        "\n",
        "   return filtered_words\n"
      ],
      "metadata": {
        "id": "lNfOwJz2-MkA"
      },
      "execution_count": 59,
      "outputs": []
    },
    {
      "cell_type": "code",
      "source": [
        "clean_msg_no_html(data.at[2, 'MESSAGE'])"
      ],
      "metadata": {
        "colab": {
          "base_uri": "https://localhost:8080/"
        },
        "id": "6GTi99Y1_UM4",
        "outputId": "b4e3710e-d110-4e6b-c687-36b665e59919"
      },
      "execution_count": 60,
      "outputs": [
        {
          "output_type": "execute_result",
          "data": {
            "text/plain": [
              "['dear',\n",
              " 'homeown',\n",
              " 'interest',\n",
              " 'rate',\n",
              " 'lowest',\n",
              " 'point',\n",
              " 'year',\n",
              " 'help',\n",
              " 'find',\n",
              " 'best',\n",
              " 'rate',\n",
              " 'situat',\n",
              " 'match',\n",
              " 'need',\n",
              " 'hundr',\n",
              " 'lender',\n",
              " 'home',\n",
              " 'improv',\n",
              " 'refin',\n",
              " 'second',\n",
              " 'mortgag',\n",
              " 'home',\n",
              " 'equiti',\n",
              " 'loan',\n",
              " 'even',\n",
              " 'less',\n",
              " 'perfect',\n",
              " 'credit',\n",
              " 'servic',\n",
              " 'free',\n",
              " 'home',\n",
              " 'owner',\n",
              " 'new',\n",
              " 'home',\n",
              " 'buyer',\n",
              " 'without',\n",
              " 'oblig',\n",
              " 'fill',\n",
              " 'quick',\n",
              " 'simpl',\n",
              " 'form',\n",
              " 'futur',\n",
              " 'plan',\n",
              " 'today',\n",
              " 'visit',\n",
              " 'http',\n",
              " 'unsubscrib',\n",
              " 'pleas',\n",
              " 'visit',\n",
              " 'http']"
            ]
          },
          "metadata": {},
          "execution_count": 60
        }
      ]
    },
    {
      "cell_type": "markdown",
      "source": [
        "# **Apply Cleaning and Tokenisation to all messages**\n",
        "\n",
        "**Slicing dataframes and series & Creating Subsets**"
      ],
      "metadata": {
        "id": "xJoDQ2yiTSWW"
      }
    },
    {
      "cell_type": "code",
      "source": [
        "data.iat[2, 2]"
      ],
      "metadata": {
        "colab": {
          "base_uri": "https://localhost:8080/",
          "height": 35
        },
        "id": "u-6HO-dWTc5R",
        "outputId": "90c9a7a8-78e7-46c6-ab9f-2ba7077f649d"
      },
      "execution_count": 62,
      "outputs": [
        {
          "output_type": "execute_result",
          "data": {
            "text/plain": [
              "'00438.41295e1df4b651b7611316331b8468e4'"
            ],
            "application/vnd.google.colaboratory.intrinsic+json": {
              "type": "string"
            }
          },
          "metadata": {},
          "execution_count": 62
        }
      ]
    },
    {
      "cell_type": "code",
      "source": [
        "data.iloc[5:11]"
      ],
      "metadata": {
        "colab": {
          "base_uri": "https://localhost:8080/",
          "height": 269
        },
        "id": "ib6YpvUOUw-a",
        "outputId": "80624543-c23a-482d-b181-cde2ec0722cd"
      },
      "execution_count": 64,
      "outputs": [
        {
          "output_type": "execute_result",
          "data": {
            "text/plain": [
              "                                                  MESSAGE  CATEGORY  \\\n",
              "DOC_ID                                                                \n",
              "5       <html>\\n\\n\\n\\n<head>\\n\\n<title>Home Page</titl...         1   \n",
              "6       <html><xbody>\\n\\n<hr width = \"100%\">\\n\\n<cente...         1   \n",
              "7       This is a multi-part message in MIME format.\\n...         1   \n",
              "8       This is a multi-part message in MIME format.\\n...         1   \n",
              "9       =================================\\n\\n\\n\\nGuara...         1   \n",
              "10      This is a multi-part message in MIME format.\\n...         1   \n",
              "\n",
              "                                     FILE_NAME  \n",
              "DOC_ID                                          \n",
              "5       00417.7b196fd20fd308e0afa9032ccb02474b  \n",
              "6       00217.43b4ef3d9c56cf42be9c37b546a19e78  \n",
              "7       00311.9797029f3ee441b00f3b7521e573cb96  \n",
              "8       00338.a595ffbb6cbcf3a5058293051ebaabf4  \n",
              "9       00097.013347cc91e7d0915074dccb0428883f  \n",
              "10      00265.d2acd28cf29d90c9b7a1297b219187b3  "
            ],
            "text/html": [
              "\n",
              "  <div id=\"df-fdcb9c00-f7d1-4d39-a225-5b74a4d78e7b\" class=\"colab-df-container\">\n",
              "    <div>\n",
              "<style scoped>\n",
              "    .dataframe tbody tr th:only-of-type {\n",
              "        vertical-align: middle;\n",
              "    }\n",
              "\n",
              "    .dataframe tbody tr th {\n",
              "        vertical-align: top;\n",
              "    }\n",
              "\n",
              "    .dataframe thead th {\n",
              "        text-align: right;\n",
              "    }\n",
              "</style>\n",
              "<table border=\"1\" class=\"dataframe\">\n",
              "  <thead>\n",
              "    <tr style=\"text-align: right;\">\n",
              "      <th></th>\n",
              "      <th>MESSAGE</th>\n",
              "      <th>CATEGORY</th>\n",
              "      <th>FILE_NAME</th>\n",
              "    </tr>\n",
              "    <tr>\n",
              "      <th>DOC_ID</th>\n",
              "      <th></th>\n",
              "      <th></th>\n",
              "      <th></th>\n",
              "    </tr>\n",
              "  </thead>\n",
              "  <tbody>\n",
              "    <tr>\n",
              "      <th>5</th>\n",
              "      <td>&lt;html&gt;\\n\\n\\n\\n&lt;head&gt;\\n\\n&lt;title&gt;Home Page&lt;/titl...</td>\n",
              "      <td>1</td>\n",
              "      <td>00417.7b196fd20fd308e0afa9032ccb02474b</td>\n",
              "    </tr>\n",
              "    <tr>\n",
              "      <th>6</th>\n",
              "      <td>&lt;html&gt;&lt;xbody&gt;\\n\\n&lt;hr width = \"100%\"&gt;\\n\\n&lt;cente...</td>\n",
              "      <td>1</td>\n",
              "      <td>00217.43b4ef3d9c56cf42be9c37b546a19e78</td>\n",
              "    </tr>\n",
              "    <tr>\n",
              "      <th>7</th>\n",
              "      <td>This is a multi-part message in MIME format.\\n...</td>\n",
              "      <td>1</td>\n",
              "      <td>00311.9797029f3ee441b00f3b7521e573cb96</td>\n",
              "    </tr>\n",
              "    <tr>\n",
              "      <th>8</th>\n",
              "      <td>This is a multi-part message in MIME format.\\n...</td>\n",
              "      <td>1</td>\n",
              "      <td>00338.a595ffbb6cbcf3a5058293051ebaabf4</td>\n",
              "    </tr>\n",
              "    <tr>\n",
              "      <th>9</th>\n",
              "      <td>=================================\\n\\n\\n\\nGuara...</td>\n",
              "      <td>1</td>\n",
              "      <td>00097.013347cc91e7d0915074dccb0428883f</td>\n",
              "    </tr>\n",
              "    <tr>\n",
              "      <th>10</th>\n",
              "      <td>This is a multi-part message in MIME format.\\n...</td>\n",
              "      <td>1</td>\n",
              "      <td>00265.d2acd28cf29d90c9b7a1297b219187b3</td>\n",
              "    </tr>\n",
              "  </tbody>\n",
              "</table>\n",
              "</div>\n",
              "    <div class=\"colab-df-buttons\">\n",
              "\n",
              "  <div class=\"colab-df-container\">\n",
              "    <button class=\"colab-df-convert\" onclick=\"convertToInteractive('df-fdcb9c00-f7d1-4d39-a225-5b74a4d78e7b')\"\n",
              "            title=\"Convert this dataframe to an interactive table.\"\n",
              "            style=\"display:none;\">\n",
              "\n",
              "  <svg xmlns=\"http://www.w3.org/2000/svg\" height=\"24px\" viewBox=\"0 -960 960 960\">\n",
              "    <path d=\"M120-120v-720h720v720H120Zm60-500h600v-160H180v160Zm220 220h160v-160H400v160Zm0 220h160v-160H400v160ZM180-400h160v-160H180v160Zm440 0h160v-160H620v160ZM180-180h160v-160H180v160Zm440 0h160v-160H620v160Z\"/>\n",
              "  </svg>\n",
              "    </button>\n",
              "\n",
              "  <style>\n",
              "    .colab-df-container {\n",
              "      display:flex;\n",
              "      gap: 12px;\n",
              "    }\n",
              "\n",
              "    .colab-df-convert {\n",
              "      background-color: #E8F0FE;\n",
              "      border: none;\n",
              "      border-radius: 50%;\n",
              "      cursor: pointer;\n",
              "      display: none;\n",
              "      fill: #1967D2;\n",
              "      height: 32px;\n",
              "      padding: 0 0 0 0;\n",
              "      width: 32px;\n",
              "    }\n",
              "\n",
              "    .colab-df-convert:hover {\n",
              "      background-color: #E2EBFA;\n",
              "      box-shadow: 0px 1px 2px rgba(60, 64, 67, 0.3), 0px 1px 3px 1px rgba(60, 64, 67, 0.15);\n",
              "      fill: #174EA6;\n",
              "    }\n",
              "\n",
              "    .colab-df-buttons div {\n",
              "      margin-bottom: 4px;\n",
              "    }\n",
              "\n",
              "    [theme=dark] .colab-df-convert {\n",
              "      background-color: #3B4455;\n",
              "      fill: #D2E3FC;\n",
              "    }\n",
              "\n",
              "    [theme=dark] .colab-df-convert:hover {\n",
              "      background-color: #434B5C;\n",
              "      box-shadow: 0px 1px 3px 1px rgba(0, 0, 0, 0.15);\n",
              "      filter: drop-shadow(0px 1px 2px rgba(0, 0, 0, 0.3));\n",
              "      fill: #FFFFFF;\n",
              "    }\n",
              "  </style>\n",
              "\n",
              "    <script>\n",
              "      const buttonEl =\n",
              "        document.querySelector('#df-fdcb9c00-f7d1-4d39-a225-5b74a4d78e7b button.colab-df-convert');\n",
              "      buttonEl.style.display =\n",
              "        google.colab.kernel.accessAllowed ? 'block' : 'none';\n",
              "\n",
              "      async function convertToInteractive(key) {\n",
              "        const element = document.querySelector('#df-fdcb9c00-f7d1-4d39-a225-5b74a4d78e7b');\n",
              "        const dataTable =\n",
              "          await google.colab.kernel.invokeFunction('convertToInteractive',\n",
              "                                                    [key], {});\n",
              "        if (!dataTable) return;\n",
              "\n",
              "        const docLinkHtml = 'Like what you see? Visit the ' +\n",
              "          '<a target=\"_blank\" href=https://colab.research.google.com/notebooks/data_table.ipynb>data table notebook</a>'\n",
              "          + ' to learn more about interactive tables.';\n",
              "        element.innerHTML = '';\n",
              "        dataTable['output_type'] = 'display_data';\n",
              "        await google.colab.output.renderOutput(dataTable, element);\n",
              "        const docLink = document.createElement('div');\n",
              "        docLink.innerHTML = docLinkHtml;\n",
              "        element.appendChild(docLink);\n",
              "      }\n",
              "    </script>\n",
              "  </div>\n",
              "\n",
              "\n",
              "<div id=\"df-927fb4e4-7e0b-4ab8-8ee7-7346a23ce944\">\n",
              "  <button class=\"colab-df-quickchart\" onclick=\"quickchart('df-927fb4e4-7e0b-4ab8-8ee7-7346a23ce944')\"\n",
              "            title=\"Suggest charts\"\n",
              "            style=\"display:none;\">\n",
              "\n",
              "<svg xmlns=\"http://www.w3.org/2000/svg\" height=\"24px\"viewBox=\"0 0 24 24\"\n",
              "     width=\"24px\">\n",
              "    <g>\n",
              "        <path d=\"M19 3H5c-1.1 0-2 .9-2 2v14c0 1.1.9 2 2 2h14c1.1 0 2-.9 2-2V5c0-1.1-.9-2-2-2zM9 17H7v-7h2v7zm4 0h-2V7h2v10zm4 0h-2v-4h2v4z\"/>\n",
              "    </g>\n",
              "</svg>\n",
              "  </button>\n",
              "\n",
              "<style>\n",
              "  .colab-df-quickchart {\n",
              "      --bg-color: #E8F0FE;\n",
              "      --fill-color: #1967D2;\n",
              "      --hover-bg-color: #E2EBFA;\n",
              "      --hover-fill-color: #174EA6;\n",
              "      --disabled-fill-color: #AAA;\n",
              "      --disabled-bg-color: #DDD;\n",
              "  }\n",
              "\n",
              "  [theme=dark] .colab-df-quickchart {\n",
              "      --bg-color: #3B4455;\n",
              "      --fill-color: #D2E3FC;\n",
              "      --hover-bg-color: #434B5C;\n",
              "      --hover-fill-color: #FFFFFF;\n",
              "      --disabled-bg-color: #3B4455;\n",
              "      --disabled-fill-color: #666;\n",
              "  }\n",
              "\n",
              "  .colab-df-quickchart {\n",
              "    background-color: var(--bg-color);\n",
              "    border: none;\n",
              "    border-radius: 50%;\n",
              "    cursor: pointer;\n",
              "    display: none;\n",
              "    fill: var(--fill-color);\n",
              "    height: 32px;\n",
              "    padding: 0;\n",
              "    width: 32px;\n",
              "  }\n",
              "\n",
              "  .colab-df-quickchart:hover {\n",
              "    background-color: var(--hover-bg-color);\n",
              "    box-shadow: 0 1px 2px rgba(60, 64, 67, 0.3), 0 1px 3px 1px rgba(60, 64, 67, 0.15);\n",
              "    fill: var(--button-hover-fill-color);\n",
              "  }\n",
              "\n",
              "  .colab-df-quickchart-complete:disabled,\n",
              "  .colab-df-quickchart-complete:disabled:hover {\n",
              "    background-color: var(--disabled-bg-color);\n",
              "    fill: var(--disabled-fill-color);\n",
              "    box-shadow: none;\n",
              "  }\n",
              "\n",
              "  .colab-df-spinner {\n",
              "    border: 2px solid var(--fill-color);\n",
              "    border-color: transparent;\n",
              "    border-bottom-color: var(--fill-color);\n",
              "    animation:\n",
              "      spin 1s steps(1) infinite;\n",
              "  }\n",
              "\n",
              "  @keyframes spin {\n",
              "    0% {\n",
              "      border-color: transparent;\n",
              "      border-bottom-color: var(--fill-color);\n",
              "      border-left-color: var(--fill-color);\n",
              "    }\n",
              "    20% {\n",
              "      border-color: transparent;\n",
              "      border-left-color: var(--fill-color);\n",
              "      border-top-color: var(--fill-color);\n",
              "    }\n",
              "    30% {\n",
              "      border-color: transparent;\n",
              "      border-left-color: var(--fill-color);\n",
              "      border-top-color: var(--fill-color);\n",
              "      border-right-color: var(--fill-color);\n",
              "    }\n",
              "    40% {\n",
              "      border-color: transparent;\n",
              "      border-right-color: var(--fill-color);\n",
              "      border-top-color: var(--fill-color);\n",
              "    }\n",
              "    60% {\n",
              "      border-color: transparent;\n",
              "      border-right-color: var(--fill-color);\n",
              "    }\n",
              "    80% {\n",
              "      border-color: transparent;\n",
              "      border-right-color: var(--fill-color);\n",
              "      border-bottom-color: var(--fill-color);\n",
              "    }\n",
              "    90% {\n",
              "      border-color: transparent;\n",
              "      border-bottom-color: var(--fill-color);\n",
              "    }\n",
              "  }\n",
              "</style>\n",
              "\n",
              "  <script>\n",
              "    async function quickchart(key) {\n",
              "      const quickchartButtonEl =\n",
              "        document.querySelector('#' + key + ' button');\n",
              "      quickchartButtonEl.disabled = true;  // To prevent multiple clicks.\n",
              "      quickchartButtonEl.classList.add('colab-df-spinner');\n",
              "      try {\n",
              "        const charts = await google.colab.kernel.invokeFunction(\n",
              "            'suggestCharts', [key], {});\n",
              "      } catch (error) {\n",
              "        console.error('Error during call to suggestCharts:', error);\n",
              "      }\n",
              "      quickchartButtonEl.classList.remove('colab-df-spinner');\n",
              "      quickchartButtonEl.classList.add('colab-df-quickchart-complete');\n",
              "    }\n",
              "    (() => {\n",
              "      let quickchartButtonEl =\n",
              "        document.querySelector('#df-927fb4e4-7e0b-4ab8-8ee7-7346a23ce944 button');\n",
              "      quickchartButtonEl.style.display =\n",
              "        google.colab.kernel.accessAllowed ? 'block' : 'none';\n",
              "    })();\n",
              "  </script>\n",
              "</div>\n",
              "\n",
              "    </div>\n",
              "  </div>\n"
            ],
            "application/vnd.google.colaboratory.intrinsic+json": {
              "type": "dataframe",
              "summary": "{\n  \"name\": \"data\",\n  \"rows\": 6,\n  \"fields\": [\n    {\n      \"column\": \"DOC_ID\",\n      \"properties\": {\n        \"dtype\": \"number\",\n        \"std\": 1,\n        \"min\": 5,\n        \"max\": 10,\n        \"num_unique_values\": 6,\n        \"samples\": [\n          5,\n          6,\n          10\n        ],\n        \"semantic_type\": \"\",\n        \"description\": \"\"\n      }\n    },\n    {\n      \"column\": \"MESSAGE\",\n      \"properties\": {\n        \"dtype\": \"string\",\n        \"num_unique_values\": 6,\n        \"samples\": [\n          \"<html>\\n\\n\\n\\n<head>\\n\\n<title>Home Page</title>\\n\\n</head>\\n\\n\\n\\n<body>\\n\\n\\n\\n<p align=\\\"center\\\"><font color=\\\"#000000\\\" face=\\\"Arial\\\" size=\\\"+0\\\"><b><IMG SRC=\\\"http://mail4.mortgages101.net/logo.php?id=90&id2=193953\\\"></p>\\n\\n\\n\\n<p align=\\\"center\\\">If this promotion has reached you in error and you would prefer not to\\n\\nreceive marketing messages from us, please send an email to&nbsp; <a\\n\\nhref=\\\"mailto:cease-and-desist@mortgages101.net\\\">cease-and-desist@mortgages101.net</a>\\n\\n&nbsp; (all one word, no spaces) giving us the email address in question or call\\n\\n1-888-748-7751 for further assistance.</p>\\n\\n\\n\\n<p align=\\\"center\\\"><u>Gain access to a</b></font><font size=\\\"+1\\\" color=\\\"#000000\\\"\\n\\nface=\\\"Arial\\\"> <i><b>Vast Network Of Qualified Lenders at Nationwide Network!</b></i></font></u></p>\\n\\n\\n\\n<p align=\\\"center\\\"><font color=\\\"#000000\\\" face=\\\"Arial\\\">This is a zero-cost service which\\n\\nenables you to shop for a mortgage conveniently from your home computer. &nbsp; Our\\n\\nnationwide database will give you access to lenders with a variety of loan programs that\\n\\nwill work for Excellent, Good, Fair or even Poor Credit! </font><br>\\n\\n&nbsp; <font face=\\\"Arial,Helvetica\\\"><b><font color=\\\"#000000\\\">We will choose up to 3 mortgage companies\\n\\nfrom our database of&nbsp; registered brokers/lenders.</font></b> <b><font\\n\\nface=\\\"Arial,Helvetica\\\">Each will contact you to offer you their best rate and terms - at\\n\\nno charge.</font></b><br>\\n\\n&nbsp; <br>\\n\\n&nbsp;</font><b><font face=\\\"Arial,Helvetica\\\" size=\\\"+1\\\" color=\\\"#ff0000\\\">You choose the best\\n\\noffer and save - <A HREF=\\\"http://mail4.mortgages101.net/point.php?id=90&id2=193953\\\"> Shop here for your next mortgage with just ONE</font><font\\n\\nface=\\\"Arial,Helvetica\\\"><font color=\\\"#ff0000\\\"><font size=\\\"+1\\\"><font face=\\\"Arial,Helvetica\\\"></font>\\n\\nCLICK - </A></font></font></b> <br>\\n\\n&nbsp; <br>\\n\\n</font><font face=\\\"Arial,Helvetica\\\" size=\\\"+0\\\" color=\\\"#000000\\\"><b>Poor or Damaged Credit Is\\n\\nNot A Problem!</b></font><font face=\\\"Arial,Helvetica\\\"> </p>\\n\\n\\n\\n<ul>\\n\\n  <b><font size=\\\"+0\\\"><font color=\\\"#cc3300\\\"><p align=\\\"center\\\">Consolidate</font> &amp; pay\\n\\n  off <font color=\\\"#cc3300\\\">high interest bills</font> for one lower monthly payment!&nbsp;</font></b>\\n\\n  </p>\\n\\n  <p align=\\\"center\\\"><b><font size=\\\"+0\\\"><font color=\\\"#cc3300\\\">Refinance</font> (with or\\n\\n  without cash out) to a <font color=\\\"#cc3300\\\">low FIXED rate </font>and payment!</font></b>\\n\\n  </p>\\n\\n  <p align=\\\"center\\\"><b><font size=\\\"+0\\\">Get money<font color=\\\"#cc3300\\\"> </font>to cover\\n\\n  expenses for <font color=\\\"#cc3300\\\">tuitions</font>, <font color=\\\"#cc3300\\\">home\\n\\n  improvements</font>, <font color=\\\"#cc3300\\\">a new vehicle or vacations.</font></font></b></p>\\n\\n  <p align=\\\"center\\\"><b><font size=\\\"+0\\\">- Talk with up to three of our lenders today!\\n\\n  <A HREF=\\\"http://mail4.mortgages101.net/point.php?id=90&id2=193953\\\">   VISIT OUR SITE HERE!   </A> to get no-cost rate and payment quotes.&nbsp;\\n\\n  This service is completely FREE to you!</font></b></p>\\n\\n</ul>\\n\\n<b><i><font size=\\\"+1\\\">\\n\\n\\n\\n<p align=\\\"center\\\"></font></i></b>&nbsp;</p>\\n\\n</font>\\n\\n\\n\\n<p align=\\\"center\\\"><font face=\\\"Arial,Helvetica\\\">If this promotion has reached you in error\\n\\nand you do not want to be contacted by us further, <A HREF=\\\"http://mail4.mortgages101.net/optout.php?id=90&id2=193953\\\">click here</A> and let us know.&nbsp; You\\n\\nwill not be bothered by us at this email address again.&nbsp; Alternatively, you may send\\n\\nan email to <a href=\\\"mailto:cease-and-desist@mortgages101.net\\\">cease-and-desist@mortgages101.net</a>\\n\\n&nbsp;giving us the email address in question for IMMEDIATE attention.&nbsp; Should you\\n\\nwish to delete your email address from our mailing list by phone, please call\\n\\n1-888-748-7751 and leave your email address - please spell your email address\\n\\nclearly.&nbsp;&nbsp; You may also mail a written request to us at Compliance, NMLN, 3053\\n\\nRancho Vista Blvd. #H-252, Palmdale, CA, 93551.&nbsp; Your request will be honored within\\n\\n24 hours of our receipt of your mail.&nbsp; Failure to exclude yourself from our recurring\\n\\nmailer via any of the lawful channels provided means that you have given your consent to\\n\\nbe included in our mailer.&nbsp; You will continue to receive email as long as you do NOT\\n\\ndelete yourself from our mailer.&nbsp; Please do not continue to receive unwanted email\\n\\nafter we have provided you with lawful means to be excluded.&nbsp; We log, date and retain\\n\\nALL delete requests.&nbsp; NO PART OF THIS STATEMENT MAY BE AMENDED OR ELIMINATED.&nbsp;\\n\\nThank you.<br>\\n\\n&nbsp; </font></p>\\n\\n</body>\\n\\n</html>\\n\\n\\n\\n\\n\\n\\n\",\n          \"<html><xbody>\\n\\n<hr width = \\\"100%\\\">\\n\\n<center><font size = \\\"+1\\\" color =\\n\\n\\\"blue\\\"><b>Over $100,000 The First Year, Most Of That While I Was Sleeping!  Will Work For Anyone, Anywhere!</font></b><p>\\n\\n<table><Tr><td>\\n\\n\\n\\n      <p align=\\\"center\\\"><font face=\\\"Verdana, Arial, Helvetica, sans-serif\\\" size=\\\"2\\\"><b><font color=\\\"#000000\\\" size=\\\"4\\\" face=\\\"Arial\\\">Imagine \\n\\n        The Perfect Business</font></b></font></p>\\n\\n      <ul>\\n\\n        <li><font face=\\\"Verdana, Arial, Helvetica, sans-serif\\\" size=\\\"2\\\"><b>You \\n\\n          Can Run It From Home...Or From Anywhere With A Telephone Connection</b></font></li>\\n\\n      </ul>\\n\\n      <ul>\\n\\n        <li><font face=\\\"Verdana, Arial, Helvetica, sans-serif\\\" size=\\\"2\\\" color=\\\"#000099\\\"><b><font color=\\\"#000000\\\">There \\n\\n          Is No Large Investment To Get Started</font></b></font></li>\\n\\n      </ul>\\n\\n      <ul>\\n\\n        <li><font face=\\\"Verdana, Arial, Helvetica, sans-serif\\\" size=\\\"2\\\"><b>You \\n\\n          Can Put Everything On Auto-Pilot</b></font></li>\\n\\n      </ul>\\n\\n      <ul>\\n\\n        <li><font face=\\\"Verdana, Arial, Helvetica, sans-serif\\\" size=\\\"2\\\"><b><font color=\\\"#000000\\\">There \\n\\n          Is No Face-To-Face Selling Involved</font></b></font></li>\\n\\n      </ul>\\n\\n      <ul>\\n\\n        <li><font face=\\\"Verdana, Arial, Helvetica, sans-serif\\\" size=\\\"2\\\"><b>There \\n\\n          Is No Inventory To Buy Or Ship</b></font></li>\\n\\n      </ul>\\n\\n      <ul>\\n\\n        <li><font color=\\\"#000099\\\" face=\\\"Verdana, Arial, Helvetica, sans-serif\\\" size=\\\"2\\\"><b><font color=\\\"#000000\\\">You \\n\\n          Can Even Work In Your Underwear If You Want To (No More Ties!)</font></b></font></li>\\n\\n      </ul>\\n\\n      <ul>\\n\\n        <li><font color=\\\"#000099\\\" face=\\\"Verdana, Arial, Helvetica, sans-serif\\\" size=\\\"2\\\"><b><font color=\\\"#000000\\\">If You Are Willing To Put 1 Or 2 Hours In To Start, This Can Be A Mint!  <font color=\\\"red\\\">If You Can't Spare A Few Hours & The Money For A Movie For Two & A Snack, Don't Go Any Further!</font></b></font></li>\\n\\n      </ul>\\n\\n\\n\\n\\n\\n      <p><font face=\\\"Verdana, Arial, Helvetica, sans-serif\\\" size=\\\"2\\\">Sound good? \\n\\n        It Is! </font></p>\\n\\n      <p align=\\\"center\\\"><font face=\\\"Verdana, Arial, Helvetica, sans-serif\\\" size=\\\"2\\\"><tt><font color=\\\"#CC0000\\\"><b><font color=\\\"#000000\\\" size=\\\"4\\\" face=\\\"Arial\\\">The \\n\\n        Cash Flow System That Brought In Over $115,467.00 In The First Year</font></b></font></tt></font></p>\\n\\n      <p align=\\\"left\\\"><font face=\\\"Verdana, Arial, Helvetica, sans-serif\\\" size=\\\"2\\\"><b><font color=\\\"blue\\\">My \\n\\n        Internet Business brought in over $115,467.21 last year and I'm going \\n\\n        to show you exactly how you can do the same thing. But I'm not going \\n\\n        to stop there...I'm going to give you FIVE Internet businesses you can \\n\\n        start right now...TODAY!</font></b></font></p>\\n\\n\\n\\n</td></tr></table>\\n\\n<br><font size = \\\"+1\\\">Please Visit Our\\n\\nWebsite<p></font>\\n\\nAnd Place Your <font color = \\\"red\\\"> <b>Order\\n\\nTODAY!</b> </font><a target=\\\"_blank\\\"  href =\\n\\n\\\"http://www.geocities.com/instant_net2002/\\\"><b><font\\n\\nsize=\\\"5\\\">CLICK HERE</font></b> </a><p>&nbsp;<p>\\n\\n</center>\\n\\nTo Order by postal mail, please send to the below address.  Or order via fax from our\\n\\n24 hour fax line:  734-574-6455\\n\\n<p>\\n\\nMake payable to Instant Internet Empire.\\n\\n<br><br>\\n\\nInstant Internet Empire<br>\\n\\n238 East Southern Ave.<br>\\n\\nSpringfield, Ohio  45505<br>\\n\\n<br>\\n\\n___Instant Internet Empire $42.95<br>\\n\\nAdd $3.00 Processing Fee To Your Order.\\n\\n<br><br>\\n\\n*****<br>\\n\\n<b><font color=\\\"red\\\">Important Credit Card Information! Please Read Below!</b></font>\\n\\n <br><br>\\n\\n*     Credit Card Address, City, State and Zip Code, must match\\n\\n      billing address to be processed. \\n\\n<br><br>\\n\\n\\n\\nCHECK____  MONEYORDER____  VISA____ MASTERCARD____ AmericanExpress___\\n\\nDebt Card___\\n\\n<br><br>\\n\\nName_______________________________________________________<br>\\n\\n(As it appears on Check or Credit Card)\\n\\n<br><br>\\n\\nAddress____________________________________________________<br>\\n\\n(As it appears on Check or Credit Card)\\n\\n<br><br>\\n\\n___________________________________________________<br>\\n\\nCity,State,Zip(As it appears on Check or Credit Card)\\n\\n<br><br>\\n\\n___________________________________________________<br>\\n\\nCountry\\n\\n<br><br>\\n\\n___________________________________________________<br>\\n\\n(Credit Card Number)\\n\\n<br><br>\\n\\nExpiration Month_____  Year_____\\n\\n<br><br>\\n\\n______________________________________________<br>\\n\\nPhone Number\\n\\n<br><br>\\n\\n___________________________________________________________<br>\\n\\nEmail Address:  All Information Sent Via Email Address (Please Write Neat)!\\n\\n<br><br>\\n\\n___________________________________________________________<br>\\n\\nAuthorized Signature\\n\\n<p>\\n\\n<b>\\n\\nTo Be Removed From Our Mailing List, Simply Put The Word \\\"Remove\\\" In The Subject Line, And Send To The Email Address Below.  <font color=\\\"red\\\">For Those Who Wish To Be Removed, Please Don't Complain To The Remove Name ISP.  A Remove List Can't Be Make, If You Have It Shut Down!</font></b>\\n\\n<p>\\n\\nEmail Address:  <a href=\\\"mailto:takemeoff2002@hotpop.com\\\">REMOVE</a>\\n\\n\\n\\n</BODY>\\n\\n</HTML>\\n\\n\\n\",\n          \"This is a multi-part message in MIME format.\\n\\n\\n\\n------=_NextPart_000_82073_01C2581E.7C88D2C0\\n\\nContent-Type: text/plain;\\n\\n\\tcharset=\\\"Windows-1252\\\"\\n\\nContent-Transfer-Encoding: quoted-printable\\n\\n\\n\\n No Term Insurance\\n\\n Permanent Insurance is In!\\n\\n=20\\n\\n Diversified Makes it Better!=09\\n\\n  _____ =20\\n\\n\\n\\n Better... ...products!=09\\n\\n Better... ...commissions!=09\\n\\n Better... ...case design!=09\\n\\n Better... ...service!=09\\n\\n Better... ...marketing concepts!=09\\n\\n  _____ =20\\n\\n\\n\\nAggressive underwriting programs such as...\\t=20\\n\\n \\tTable 5 to Standard on permanent cases!\\t=20\\n\\nOther company term to permanent life insurance with=20\\n\\nnon-med underwriting!\\t=20\\n\\nSimplified and guarantee issue programs for multi-life cases!\\t=20\\n\\nLow cost lifetime guarantees!\\t=20\\n\\nUNDERWRITING EVENTS!...\\t=20\\n\\n\\n\\nDiversified Brokerage Specialists has been combining\\n\\nthe very best in technology and personal service since 1946!=20\\n\\nMake sure to ask about our full line of Disability & LTC products!\\n\\n\\\"If we can't do it, it can't be done!\\\" =09\\n\\n\\n\\nCall Diversified Brokerage Specialists Today!  800-621-6161\\n\\n=97 or =97\\n\\n\\n\\nPlease fill out the form below for more information\\t=20\\n\\nName:\\t \\t  =09\\n\\nE-mail:\\t \\t=20\\n\\nPhone:\\t \\t=20\\n\\nCity:\\t \\t State:\\t \\t=20\\n\\n \\t    =09\\n\\n=20\\n\\n\\n\\n Diversified Brokerage Specialists, Inc.=0A=\\n\\nBetter Service Through\\n\\nTechnology\\n\\n\\n\\nVisit us online at: www.dbs50.com <http://www.dbs50.com> =20\\n\\n =20\\n\\nWe don't want anyone to receive our mailings who does not wish to. This\\n\\nis professional communication sent to insurance professionals. To be\\n\\nremoved from this mailing list, DO NOT REPLY to this message. Instead,\\n\\ngo here: http://www.Insuranceiq.com/optout\\n\\n<http://www.Insuranceiq.com/optout/>=20\\n\\n\\n\\nLegal Notice <http://www.insuranceiq.com/legal.htm> =20\\n\\n\\n\\n------=_NextPart_000_82073_01C2581E.7C88D2C0\\n\\nContent-Type: text/html;\\n\\n\\tcharset=\\\"iso-8859-1\\\"\\n\\nContent-Transfer-Encoding: quoted-printable\\n\\n\\n\\n<html>\\n\\n<head>\\n\\n<title>Term Insurance Is Out</title>\\n\\n<meta http-equiv=3D\\\"Content-Type\\\" content=3D\\\"text/html; =\\n\\ncharset=3Diso-8859-1\\\">\\n\\n</head>\\n\\n<body bgcolor=3D\\\"#FFFFFF\\\" text=3D\\\"#000000\\\">\\n\\n<font face=3D\\\"Arial, Helvetica, sans-serif\\\">\\n\\n<table width=3D\\\"550\\\" cellpadding=3D\\\"0\\\" cellspacing=3D\\\"0\\\" =\\n\\nalign=3D\\\"center\\\" bgcolor=3D\\\"#FFFFFF\\\">\\n\\n  <tr>=20\\n\\n    <td>=20\\n\\n      <table width=3D\\\"100%\\\" cellpadding=3D\\\"2\\\" cellspacing=3D\\\"2\\\" =\\n\\nborder=3D\\\"0\\\" bgcolor=3D\\\"#ffffff\\\">\\n\\n        <tr>=20\\n\\n          <td align=3D\\\"center\\\"><img =\\n\\nsrc=3D\\\"http://iiq.us/images/dbs/20020805-1.gif\\\" width=3D\\\"540\\\" =\\n\\nheight=3D\\\"100\\\" alt=3D'No Term Insurance'><br>=20\\n\\n            <img src=3D\\\"http://iiq.us/images/dbs/20020805-2.jpg\\\" =\\n\\nalt=3D\\\"Permanent Insurance is In!\\\" width=3D\\\"540\\\" height=3D\\\"140\\\"><br>=20\\n\\n            <img src=3D\\\"http://iiq.us/images/dbs/20020805-3.gif\\\" =\\n\\nwidth=3D\\\"250\\\" height=3D\\\"200\\\"><br>=20\\n\\n            <img src=3D\\\"http://iiq.us/images/dbs/20020805-402.gif\\\" =\\n\\nalt=3D\\\"Diversified Makes it Better!\\\" width=3D\\\"433\\\" height=3D\\\"79\\\">\\n\\n          </td>\\n\\n        </tr>\\n\\n        <tr>=20\\n\\n          <td>=20\\n\\n            <table width=3D\\\"100%\\\" align=3D\\\"center\\\" cellpadding=3D\\\"0\\\" =\\n\\ncellspacing=3D\\\"0\\\">\\n\\n              <tr>=20\\n\\n                <td><hr width=3D\\\"95%\\\" size=3D\\\"1\\\" color=3D\\\"#000000\\\"></td>\\n\\n              </tr>\\n\\n              <tr>=20\\n\\n                <td><img =\\n\\nsrc=3D\\\"http://iiq.us/images/dbs/20020805-801.gif\\\" alt=3D\\\"Better...\\\" =\\n\\nwidth=3D\\\"149\\\" height=3D\\\"33\\\"><img =\\n\\nsrc=3D\\\"http://iiq.us/images/dbs/20020805-802.gif\\\" alt=3D\\\"...products!\\\" =\\n\\nwidth=3D\\\"391\\\" height=3D\\\"33\\\"></td>\\n\\n              </tr>\\n\\n              <tr>=20\\n\\n                <td><img =\\n\\nsrc=3D\\\"http://iiq.us/images/dbs/20020805-801.gif\\\" alt=3D\\\"Better...\\\" =\\n\\nwidth=3D\\\"149\\\" height=3D\\\"33\\\"><img =\\n\\nsrc=3D\\\"http://iiq.us/images/dbs/20020805-804.gif\\\" =\\n\\nalt=3D\\\"...commissions!\\\" width=3D\\\"391\\\" height=3D\\\"34\\\"></td>\\n\\n              </tr>\\n\\n              <tr>=20\\n\\n                <td><img =\\n\\nsrc=3D\\\"http://iiq.us/images/dbs/20020805-801.gif\\\" alt=3D\\\"Better...\\\" =\\n\\nwidth=3D\\\"149\\\" height=3D\\\"33\\\"><img =\\n\\nsrc=3D\\\"http://iiq.us/images/dbs/20020805-805.gif\\\" alt=3D\\\"...case =\\n\\ndesign!\\\" width=3D\\\"391\\\" height=3D\\\"35\\\"></td>\\n\\n              </tr>\\n\\n              <tr>=20\\n\\n                <td><img =\\n\\nsrc=3D\\\"http://iiq.us/images/dbs/20020805-801.gif\\\" alt=3D\\\"Better...\\\" =\\n\\nwidth=3D\\\"149\\\" height=3D\\\"33\\\"><img =\\n\\nsrc=3D\\\"http://iiq.us/images/dbs/20020805-806.gif\\\" alt=3D\\\"...service!\\\" =\\n\\nwidth=3D\\\"391\\\" height=3D\\\"36\\\"></td>\\n\\n              </tr>\\n\\n              <tr>=20\\n\\n                <td><img =\\n\\nsrc=3D\\\"http://iiq.us/images/dbs/20020805-801.gif\\\" alt=3D\\\"Better...\\\" =\\n\\nwidth=3D\\\"149\\\" height=3D\\\"33\\\" align=3D\\\"top\\\"><img =\\n\\nsrc=3D\\\"http://iiq.us/images/dbs/20020805-807.gif\\\" alt=3D\\\"...marketing =\\n\\nconcepts!\\\" width=3D\\\"391\\\" height=3D\\\"45\\\"></td>\\n\\n              </tr>\\n\\n              <tr>=20\\n\\n                <td><hr width=3D\\\"95%\\\" size=3D\\\"1\\\" color=3D\\\"#000000\\\"></td>\\n\\n              </tr>\\n\\n            </table>\\n\\n          </td>\\n\\n        </tr>\\n\\n        <tr>=20\\n\\n          <td>=20\\n\\n            <table width=3D\\\"100%\\\" border=3D\\\"0\\\" cellspacing=3D\\\"0\\\" =\\n\\ncellpadding=3D\\\"2\\\">\\n\\n              <tr>=20\\n\\n                <td colspan=3D\\\"2\\\" align=3D\\\"center\\\"><b><font =\\n\\nsize=3D\\\"4\\\">Aggressive underwriting programs such as...</font></b></td>\\n\\n              </tr>\\n\\n              <tr>=20\\n\\n                <td width=3D\\\"8%\\\" rowspan=3D\\\"5\\\" align=3D\\\"right\\\" =\\n\\nvalign=3D\\\"top\\\"><img src=3D\\\"http://iiq.us/images/dbs/20020805-5.gif\\\" =\\n\\nwidth=3D\\\"24\\\" height=3D\\\"130\\\"></td>\\n\\n                <td width=3D\\\"92%\\\"><b>Table 5 to Standard on permanent =\\n\\ncases!</b></td>\\n\\n              </tr>\\n\\n              <tr>=20\\n\\n                <td><b>Other company term to permanent life insurance =\\n\\nwith <br>\\n\\n                  non-med underwriting!</b></td>\\n\\n              </tr>\\n\\n              <tr>=20\\n\\n                <td><b>Simplified and guarantee issue programs for =\\n\\nmulti-life cases!</b></td>\\n\\n              </tr>\\n\\n              <tr>=20\\n\\n                <td><b>Low cost lifetime guarantees!</b></td>\\n\\n              </tr>\\n\\n              <tr>=20\\n\\n                <td><b>UNDERWRITING EVENTS!...</b></td>\\n\\n              </tr>\\n\\n            </table>\\n\\n          </td>\\n\\n        </tr>\\n\\n        <tr>=20\\n\\n          <td align=3D\\\"center\\\">=20\\n\\n            <font size=3D\\\"2\\\" color=3D\\\"#666666\\\"><b><br>\\n\\n            Diversified Brokerage Specialists has been combining<br>\\n\\n            the very best in technology and personal service since 1946! =\\n\\n</b></font><br>=20\\n\\n            <b>Make sure to ask about our full line of Disability &amp; =\\n\\nLTC products!<br>\\n\\n            <i><font color=3D\\\"#FF0000\\\" size=3D\\\"+1\\\">\\\"If we can't do it, =\\n\\nit can't be done!\\\"</font></i></b>=20\\n\\n          </td>\\n\\n        </tr>\\n\\n        <tr>=20\\n\\n          <td align=3D\\\"center\\\"><br>\\n\\n            <b><font size=3D\\\"3\\\">Call Diversified Brokerage Specialists =\\n\\nToday!</font>=20\\n\\n            <img src=3D\\\"http://iiq.us/images/dbs/20020805-6.gif\\\" =\\n\\nalt=3D\\\"800-621-6161\\\" width=3D\\\"532\\\" height=3D\\\"81\\\"><br>\\n\\n            <font size=3D\\\"2\\\">&#8212; or &#8212;<br>\\n\\n            <table width=3D\\\"95%\\\" border=3D\\\"1\\\" cellpadding=3D\\\"0\\\" =\\n\\ncellspacing=3D\\\"0\\\" bordercolor=3D\\\"#000000\\\">\\n\\n              <tr>=20\\n\\n                <form method=3D\\\"post\\\" =\\n\\naction=3D\\\"http://65.217.159.103/response/response.asp\\\">\\n\\n                  <td>=20\\n\\n                    <table width=3D\\\"100%\\\" border=3D\\\"0\\\" cellspacing=3D\\\"0\\\" =\\n\\ncellpadding=3D\\\"2\\\" align=3D\\\"center\\\" bgcolor=3D\\\"#eeeeee\\\">\\n\\n                      <tr bgcolor=3D\\\"#66CCFF\\\">=20\\n\\n                        <td colspan=3D\\\"5\\\" align=3D\\\"center\\\"><b><font =\\n\\nsize=3D\\\"2\\\">Please fill out the form below for more =\\n\\ninformation</font></b></td>\\n\\n                      </tr>\\n\\n                      <tr>=20\\n\\n                        <td width=3D\\\"15%\\\" align=3D\\\"right\\\"><b><font =\\n\\nsize=3D\\\"2\\\">Name:</font></b></td>\\n\\n                        <td colspan=3D\\\"3\\\"><input type=3D\\\"text\\\" =\\n\\nname=3D\\\"contactname\\\" size=3D\\\"50\\\"></td>\\n\\n                        <td rowspan=3D\\\"5\\\" valign=3D\\\"middle\\\" =\\n\\nalign=3D\\\"center\\\"><img src=3D\\\"http://iiq.us/images/q.gif\\\" width=3D\\\"43\\\" =\\n\\nheight=3D\\\"50\\\"></td>\\n\\n                      </tr>\\n\\n                      <tr>=20\\n\\n                        <td width=3D\\\"15%\\\" align=3D\\\"right\\\"><b><font =\\n\\nsize=3D\\\"2\\\">E-mail:</font></b></td>\\n\\n                        <td colspan=3D\\\"3\\\"><input type=3D\\\"text\\\" =\\n\\nname=3D\\\"email\\\" size=3D\\\"50\\\"></td>\\n\\n                      </tr>\\n\\n                      <tr>=20\\n\\n                        <td width=3D\\\"15%\\\" align=3D\\\"right\\\"><b><font =\\n\\nsize=3D\\\"2\\\">Phone:</font></b></td>\\n\\n                        <td colspan=3D\\\"3\\\"><input type=3D\\\"text\\\" =\\n\\nname=3D\\\"phone\\\" size=3D\\\"50\\\"></td>\\n\\n                      </tr>\\n\\n                      <tr>=20\\n\\n                        <td width=3D\\\"15%\\\" align=3D\\\"right\\\"><b><font =\\n\\nsize=3D\\\"2\\\">City:</font></b></td>\\n\\n                        <td width=3D\\\"30%\\\"><input type=3D\\\"text\\\" =\\n\\nname=3D\\\"city\\\" size=3D\\\"20\\\"></td>\\n\\n                        <td width=3D\\\"15%\\\" align=3D\\\"right\\\"><b><font =\\n\\nsize=3D\\\"2\\\">State:</font></b></td>\\n\\n                        <td width=3D\\\"20%\\\"><input type=3D\\\"text\\\" =\\n\\nname=3D\\\"state\\\" size=3D\\\"2\\\"></td>\\n\\n                      </tr>\\n\\n                      <tr>=20\\n\\n                        <td width=3D\\\"15%\\\">&nbsp;</td>\\n\\n                        <td width=3D\\\"30%\\\" colspan=3D'3'>=20\\n\\n                          <input type=3D\\\"submit\\\" name=3D\\\"btnsubmit\\\" =\\n\\nvalue=3D\\\"Submit\\\">=20\\n\\n                          <input type=3D\\\"hidden\\\" =\\n\\nname=3D\\\"hdnRecipientTxt\\\" value=3D\\\"info@dbs50.com\\\">=20\\n\\n                          <input type=3D\\\"hidden\\\" name=3D\\\"hdnSubjectTxt\\\" =\\n\\nvalue=3D\\\"DBS Ad Inquiry\\\">=20\\n\\n                        </td>\\n\\n                      </tr>\\n\\n                    </table>\\n\\n                  </td>\\n\\n                <input type=3D'hidden' name=3D'SentTo' value=3D'304704'>\\n\\n</form>\\n\\n              </tr>\\n\\n            </table>\\n\\n            </font></b><br>\\n\\n            <img src=3D\\\"http://iiq.us/images/dbs/20020805-9.gif\\\" =\\n\\nalt=3D\\\"Diversified Brokerage Specialists, Inc.&#10;Better Service =\\n\\nThrough Technology\\\" width=3D\\\"256\\\" height=3D\\\"118\\\"><br><br>\\n\\n            <b><font size=3D\\\"2\\\">Visit us online at: <a =\\n\\nhref=3D\\\"http://www.dbs50.com\\\">www.dbs50.com</a></font></b>=20\\n\\n            <br>&nbsp;\\n\\n          </td>\\n\\n        </tr>\\n\\n      </table>\\n\\n    </td>\\n\\n  </tr>\\n\\n  <tr>=20\\n\\n    <td width=3D\\\"100%\\\" bgcolor=3D\\\"#FFFFFF\\\">=20\\n\\n      <p><font face=3D\\\"Arial, Helvetica, sans-serif\\\" size=3D\\\"1\\\"> We =\\n\\ndon't want anyone=20\\n\\n        to receive our mailings who does not wish to. This is =\\n\\nprofessional communication=20\\n\\n        sent to insurance professionals. To be removed from this mailing =\\n\\nlist,=20\\n\\n        <b>DO NOT REPLY</b> to this message. Instead, go here: <a =\\n\\nhref=3D\\\"http://www.Insuranceiq.com/optout/\\\">=20\\n\\n        http://www.Insuranceiq.com/optout</a></font></p>\\n\\n    </td>\\n\\n  </tr>\\n\\n</table>\\n\\n<center>\\n\\n  <font face=3D\\\"Arial, Helvetica, sans-serif\\\" size=3D\\\"1\\\"><a =\\n\\nhref=3D\\\"http://www.insuranceiq.com/legal.htm\\\">Legal Notice</a></font>=20\\n\\n</center>\\n\\n</font>=20\\n\\n</body>\\n\\n</html>\\n\\n\\n\\n------=_NextPart_000_82073_01C2581E.7C88D2C0--\\n\\n\\n\\n\\n\"\n        ],\n        \"semantic_type\": \"\",\n        \"description\": \"\"\n      }\n    },\n    {\n      \"column\": \"CATEGORY\",\n      \"properties\": {\n        \"dtype\": \"number\",\n        \"std\": 0,\n        \"min\": 1,\n        \"max\": 1,\n        \"num_unique_values\": 1,\n        \"samples\": [\n          1\n        ],\n        \"semantic_type\": \"\",\n        \"description\": \"\"\n      }\n    },\n    {\n      \"column\": \"FILE_NAME\",\n      \"properties\": {\n        \"dtype\": \"string\",\n        \"num_unique_values\": 6,\n        \"samples\": [\n          \"00417.7b196fd20fd308e0afa9032ccb02474b\"\n        ],\n        \"semantic_type\": \"\",\n        \"description\": \"\"\n      }\n    }\n  ]\n}"
            }
          },
          "metadata": {},
          "execution_count": 64
        }
      ]
    },
    {
      "cell_type": "code",
      "source": [
        "first_emails = data.MESSAGE.iloc[0:3]\n",
        "nested_list = first_emails.apply(clean_message)"
      ],
      "metadata": {
        "id": "0MkySJK-VKQd"
      },
      "execution_count": 68,
      "outputs": []
    },
    {
      "cell_type": "code",
      "source": [
        "#flat_list = []\n",
        "#for sublist in nested_list:\n",
        "#  for item in sublist:\n",
        "#    flat_list.append(item)\n",
        "\n",
        "flat_list = [item for sublist in nested_list for item in sublist]\n",
        "\n",
        "len(flat_list)"
      ],
      "metadata": {
        "colab": {
          "base_uri": "https://localhost:8080/"
        },
        "id": "q-3WmeUTV_NW",
        "outputId": "842151cf-6dee-4d11-a967-b6cf16d97208"
      },
      "execution_count": 71,
      "outputs": [
        {
          "output_type": "execute_result",
          "data": {
            "text/plain": [
              "529"
            ]
          },
          "metadata": {},
          "execution_count": 71
        }
      ]
    },
    {
      "cell_type": "code",
      "source": [
        "#use apply() on all the messages in dataframe\n",
        "nested_list = data.MESSAGE.apply(clean_msg_no_html)"
      ],
      "metadata": {
        "colab": {
          "base_uri": "https://localhost:8080/"
        },
        "id": "sbf1zxirZzvV",
        "outputId": "931fee25-132e-4bf5-d639-b2b5ce87c224"
      },
      "execution_count": 75,
      "outputs": [
        {
          "output_type": "stream",
          "name": "stderr",
          "text": [
            "<ipython-input-59-2fcfc54ceef1>:4: MarkupResemblesLocatorWarning: The input looks more like a filename than markup. You may want to open this file and pass the filehandle into Beautiful Soup.\n",
            "  soup = BeautifulSoup(message, 'html.parser')\n",
            "<ipython-input-59-2fcfc54ceef1>:4: MarkupResemblesLocatorWarning: The input looks more like a URL than markup. You may want to use an HTTP client like requests to get the document behind the URL, and feed that document to Beautiful Soup.\n",
            "  soup = BeautifulSoup(message, 'html.parser')\n"
          ]
        }
      ]
    },
    {
      "cell_type": "code",
      "source": [
        "nested_list.tail()"
      ],
      "metadata": {
        "colab": {
          "base_uri": "https://localhost:8080/",
          "height": 272
        },
        "id": "ArOc8gGKaEvX",
        "outputId": "9c4b0d16-9225-43c0-9acc-bf4670847c80"
      },
      "execution_count": 76,
      "outputs": [
        {
          "output_type": "execute_result",
          "data": {
            "text/plain": [
              "DOC_ID\n",
              "5791    [fri, jul, wynn, conor, wrote, long, look, lik...\n",
              "5792    [hi, suddenli, anymor, click, spell, window, o...\n",
              "5793    [thu, jul, matthia, saou, wrote, upon, time, m...\n",
              "5794    [hi, guy, look, help, one, server, instal, use...\n",
              "5795    [school, push, irish, throat, develop, hatr, i...\n",
              "Name: MESSAGE, dtype: object"
            ],
            "text/html": [
              "<div>\n",
              "<style scoped>\n",
              "    .dataframe tbody tr th:only-of-type {\n",
              "        vertical-align: middle;\n",
              "    }\n",
              "\n",
              "    .dataframe tbody tr th {\n",
              "        vertical-align: top;\n",
              "    }\n",
              "\n",
              "    .dataframe thead th {\n",
              "        text-align: right;\n",
              "    }\n",
              "</style>\n",
              "<table border=\"1\" class=\"dataframe\">\n",
              "  <thead>\n",
              "    <tr style=\"text-align: right;\">\n",
              "      <th></th>\n",
              "      <th>MESSAGE</th>\n",
              "    </tr>\n",
              "    <tr>\n",
              "      <th>DOC_ID</th>\n",
              "      <th></th>\n",
              "    </tr>\n",
              "  </thead>\n",
              "  <tbody>\n",
              "    <tr>\n",
              "      <th>5791</th>\n",
              "      <td>[fri, jul, wynn, conor, wrote, long, look, lik...</td>\n",
              "    </tr>\n",
              "    <tr>\n",
              "      <th>5792</th>\n",
              "      <td>[hi, suddenli, anymor, click, spell, window, o...</td>\n",
              "    </tr>\n",
              "    <tr>\n",
              "      <th>5793</th>\n",
              "      <td>[thu, jul, matthia, saou, wrote, upon, time, m...</td>\n",
              "    </tr>\n",
              "    <tr>\n",
              "      <th>5794</th>\n",
              "      <td>[hi, guy, look, help, one, server, instal, use...</td>\n",
              "    </tr>\n",
              "    <tr>\n",
              "      <th>5795</th>\n",
              "      <td>[school, push, irish, throat, develop, hatr, i...</td>\n",
              "    </tr>\n",
              "  </tbody>\n",
              "</table>\n",
              "</div><br><label><b>dtype:</b> object</label>"
            ]
          },
          "metadata": {},
          "execution_count": 76
        }
      ]
    }
  ]
}