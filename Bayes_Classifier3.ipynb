{
  "nbformat": 4,
  "nbformat_minor": 0,
  "metadata": {
    "colab": {
      "provenance": []
    },
    "kernelspec": {
      "name": "python3",
      "display_name": "Python 3"
    },
    "language_info": {
      "name": "python"
    }
  },
  "cells": [
    {
      "cell_type": "code",
      "execution_count": 104,
      "metadata": {
        "id": "DWavRtIolvSF"
      },
      "outputs": [],
      "source": [
        "import zipfile\n",
        "import os\n",
        "from os import walk\n",
        "from os.path import join\n",
        "import pandas as pd\n",
        "import matplotlib.pyplot as plt\n",
        "\n",
        "import nltk\n",
        "from nltk.stem import PorterStemmer\n",
        "from nltk.stem import SnowballStemmer\n",
        "from nltk.corpus import stopwords\n",
        "from nltk.tokenize import word_tokenize\n",
        "\n",
        "%matplotlib inline"
      ]
    },
    {
      "cell_type": "code",
      "source": [
        "from google.colab import files\n",
        "uploaded = files.upload()\n"
      ],
      "metadata": {
        "colab": {
          "base_uri": "https://localhost:8080/",
          "height": 73
        },
        "id": "z9MZO_hl_HsP",
        "outputId": "d460737b-c648-4934-f2ed-3b357c705f36"
      },
      "execution_count": 2,
      "outputs": [
        {
          "output_type": "display_data",
          "data": {
            "text/plain": [
              "<IPython.core.display.HTML object>"
            ],
            "text/html": [
              "\n",
              "     <input type=\"file\" id=\"files-d6d59abc-b5be-4ee8-8af4-e5f8ebdd1b99\" name=\"files[]\" multiple disabled\n",
              "        style=\"border:none\" />\n",
              "     <output id=\"result-d6d59abc-b5be-4ee8-8af4-e5f8ebdd1b99\">\n",
              "      Upload widget is only available when the cell has been executed in the\n",
              "      current browser session. Please rerun this cell to enable.\n",
              "      </output>\n",
              "      <script>// Copyright 2017 Google LLC\n",
              "//\n",
              "// Licensed under the Apache License, Version 2.0 (the \"License\");\n",
              "// you may not use this file except in compliance with the License.\n",
              "// You may obtain a copy of the License at\n",
              "//\n",
              "//      http://www.apache.org/licenses/LICENSE-2.0\n",
              "//\n",
              "// Unless required by applicable law or agreed to in writing, software\n",
              "// distributed under the License is distributed on an \"AS IS\" BASIS,\n",
              "// WITHOUT WARRANTIES OR CONDITIONS OF ANY KIND, either express or implied.\n",
              "// See the License for the specific language governing permissions and\n",
              "// limitations under the License.\n",
              "\n",
              "/**\n",
              " * @fileoverview Helpers for google.colab Python module.\n",
              " */\n",
              "(function(scope) {\n",
              "function span(text, styleAttributes = {}) {\n",
              "  const element = document.createElement('span');\n",
              "  element.textContent = text;\n",
              "  for (const key of Object.keys(styleAttributes)) {\n",
              "    element.style[key] = styleAttributes[key];\n",
              "  }\n",
              "  return element;\n",
              "}\n",
              "\n",
              "// Max number of bytes which will be uploaded at a time.\n",
              "const MAX_PAYLOAD_SIZE = 100 * 1024;\n",
              "\n",
              "function _uploadFiles(inputId, outputId) {\n",
              "  const steps = uploadFilesStep(inputId, outputId);\n",
              "  const outputElement = document.getElementById(outputId);\n",
              "  // Cache steps on the outputElement to make it available for the next call\n",
              "  // to uploadFilesContinue from Python.\n",
              "  outputElement.steps = steps;\n",
              "\n",
              "  return _uploadFilesContinue(outputId);\n",
              "}\n",
              "\n",
              "// This is roughly an async generator (not supported in the browser yet),\n",
              "// where there are multiple asynchronous steps and the Python side is going\n",
              "// to poll for completion of each step.\n",
              "// This uses a Promise to block the python side on completion of each step,\n",
              "// then passes the result of the previous step as the input to the next step.\n",
              "function _uploadFilesContinue(outputId) {\n",
              "  const outputElement = document.getElementById(outputId);\n",
              "  const steps = outputElement.steps;\n",
              "\n",
              "  const next = steps.next(outputElement.lastPromiseValue);\n",
              "  return Promise.resolve(next.value.promise).then((value) => {\n",
              "    // Cache the last promise value to make it available to the next\n",
              "    // step of the generator.\n",
              "    outputElement.lastPromiseValue = value;\n",
              "    return next.value.response;\n",
              "  });\n",
              "}\n",
              "\n",
              "/**\n",
              " * Generator function which is called between each async step of the upload\n",
              " * process.\n",
              " * @param {string} inputId Element ID of the input file picker element.\n",
              " * @param {string} outputId Element ID of the output display.\n",
              " * @return {!Iterable<!Object>} Iterable of next steps.\n",
              " */\n",
              "function* uploadFilesStep(inputId, outputId) {\n",
              "  const inputElement = document.getElementById(inputId);\n",
              "  inputElement.disabled = false;\n",
              "\n",
              "  const outputElement = document.getElementById(outputId);\n",
              "  outputElement.innerHTML = '';\n",
              "\n",
              "  const pickedPromise = new Promise((resolve) => {\n",
              "    inputElement.addEventListener('change', (e) => {\n",
              "      resolve(e.target.files);\n",
              "    });\n",
              "  });\n",
              "\n",
              "  const cancel = document.createElement('button');\n",
              "  inputElement.parentElement.appendChild(cancel);\n",
              "  cancel.textContent = 'Cancel upload';\n",
              "  const cancelPromise = new Promise((resolve) => {\n",
              "    cancel.onclick = () => {\n",
              "      resolve(null);\n",
              "    };\n",
              "  });\n",
              "\n",
              "  // Wait for the user to pick the files.\n",
              "  const files = yield {\n",
              "    promise: Promise.race([pickedPromise, cancelPromise]),\n",
              "    response: {\n",
              "      action: 'starting',\n",
              "    }\n",
              "  };\n",
              "\n",
              "  cancel.remove();\n",
              "\n",
              "  // Disable the input element since further picks are not allowed.\n",
              "  inputElement.disabled = true;\n",
              "\n",
              "  if (!files) {\n",
              "    return {\n",
              "      response: {\n",
              "        action: 'complete',\n",
              "      }\n",
              "    };\n",
              "  }\n",
              "\n",
              "  for (const file of files) {\n",
              "    const li = document.createElement('li');\n",
              "    li.append(span(file.name, {fontWeight: 'bold'}));\n",
              "    li.append(span(\n",
              "        `(${file.type || 'n/a'}) - ${file.size} bytes, ` +\n",
              "        `last modified: ${\n",
              "            file.lastModifiedDate ? file.lastModifiedDate.toLocaleDateString() :\n",
              "                                    'n/a'} - `));\n",
              "    const percent = span('0% done');\n",
              "    li.appendChild(percent);\n",
              "\n",
              "    outputElement.appendChild(li);\n",
              "\n",
              "    const fileDataPromise = new Promise((resolve) => {\n",
              "      const reader = new FileReader();\n",
              "      reader.onload = (e) => {\n",
              "        resolve(e.target.result);\n",
              "      };\n",
              "      reader.readAsArrayBuffer(file);\n",
              "    });\n",
              "    // Wait for the data to be ready.\n",
              "    let fileData = yield {\n",
              "      promise: fileDataPromise,\n",
              "      response: {\n",
              "        action: 'continue',\n",
              "      }\n",
              "    };\n",
              "\n",
              "    // Use a chunked sending to avoid message size limits. See b/62115660.\n",
              "    let position = 0;\n",
              "    do {\n",
              "      const length = Math.min(fileData.byteLength - position, MAX_PAYLOAD_SIZE);\n",
              "      const chunk = new Uint8Array(fileData, position, length);\n",
              "      position += length;\n",
              "\n",
              "      const base64 = btoa(String.fromCharCode.apply(null, chunk));\n",
              "      yield {\n",
              "        response: {\n",
              "          action: 'append',\n",
              "          file: file.name,\n",
              "          data: base64,\n",
              "        },\n",
              "      };\n",
              "\n",
              "      let percentDone = fileData.byteLength === 0 ?\n",
              "          100 :\n",
              "          Math.round((position / fileData.byteLength) * 100);\n",
              "      percent.textContent = `${percentDone}% done`;\n",
              "\n",
              "    } while (position < fileData.byteLength);\n",
              "  }\n",
              "\n",
              "  // All done.\n",
              "  yield {\n",
              "    response: {\n",
              "      action: 'complete',\n",
              "    }\n",
              "  };\n",
              "}\n",
              "\n",
              "scope.google = scope.google || {};\n",
              "scope.google.colab = scope.google.colab || {};\n",
              "scope.google.colab._files = {\n",
              "  _uploadFiles,\n",
              "  _uploadFilesContinue,\n",
              "};\n",
              "})(self);\n",
              "</script> "
            ]
          },
          "metadata": {}
        },
        {
          "output_type": "stream",
          "name": "stdout",
          "text": [
            "Saving SpamData.zip to SpamData.zip\n"
          ]
        }
      ]
    },
    {
      "cell_type": "code",
      "source": [
        "zip_file = 'SpamData.zip'\n",
        "unzip_dir = '/content/DataExtracted'\n",
        "\n",
        "with zipfile.ZipFile(zip_file, 'r') as zip_ref:\n",
        "    zip_ref.extractall(unzip_dir)\n"
      ],
      "metadata": {
        "id": "hHSVBhNN_WsC"
      },
      "execution_count": 9,
      "outputs": []
    },
    {
      "cell_type": "code",
      "source": [
        "import os\n",
        "current_directory = os.getcwd()\n",
        "print(\"Current working directory:\", current_directory)"
      ],
      "metadata": {
        "id": "gX0X2_qFtM4m",
        "colab": {
          "base_uri": "https://localhost:8080/"
        },
        "outputId": "8c08fcc7-f356-4385-85cc-3d075fe35c7a"
      },
      "execution_count": 10,
      "outputs": [
        {
          "output_type": "stream",
          "name": "stdout",
          "text": [
            "Current working directory: /content\n"
          ]
        }
      ]
    },
    {
      "cell_type": "markdown",
      "source": [
        "**Constants**"
      ],
      "metadata": {
        "id": "1wdUCEQptR4d"
      }
    },
    {
      "cell_type": "code",
      "source": [
        "EXAMPLE_FILE = 'DataExtracted/SpamData/01_Processing/practice_email.txt'\n",
        "\n",
        "SPAM_1_PATH = 'DataExtracted/SpamData/01_Processing/spam_assassin_corpus/spam_1'\n",
        "SPAM_2_PATH = 'DataExtracted/SpamData/01_Processing/spam_assassin_corpus/spam_2'\n",
        "EASY_NONSPAM_1_PATH = 'DataExtracted/SpamData/01_Processing/spam_assassin_corpus/easy_ham_1'\n",
        "EASY_NONSPAM_2_PATH = 'DataExtracted/SpamData/01_Processing/spam_assassin_corpus/easy_ham_2'\n",
        "\n",
        "SPAM_CAT = 1\n",
        "HAM_CAT = 0\n",
        "\n",
        "DATA_JSON_FILE = 'DataExtracted/SpamData/01_Processing/email-text-data.json'"
      ],
      "metadata": {
        "id": "1j-cVjMCtSNI"
      },
      "execution_count": 50,
      "outputs": []
    },
    {
      "cell_type": "markdown",
      "source": [
        "**Generator Functions**"
      ],
      "metadata": {
        "id": "3jyPKGG-tqFU"
      }
    },
    {
      "cell_type": "code",
      "source": [
        "def generate_squares(N):\n",
        "  for my_number in range(N):\n",
        "    yield my_number ** 2"
      ],
      "metadata": {
        "id": "vNmL2jo9trtD"
      },
      "execution_count": 18,
      "outputs": []
    },
    {
      "cell_type": "code",
      "source": [
        "for i in generate_squares(5):\n",
        "  print(i, end=' ->')"
      ],
      "metadata": {
        "id": "yepdcfVYtwgw",
        "colab": {
          "base_uri": "https://localhost:8080/"
        },
        "outputId": "c7e083af-98d3-4182-f38d-fe36299eb89d"
      },
      "execution_count": 19,
      "outputs": [
        {
          "output_type": "stream",
          "name": "stdout",
          "text": [
            "0 ->1 ->4 ->9 ->16 ->"
          ]
        }
      ]
    },
    {
      "cell_type": "markdown",
      "source": [
        "**Email body extraction**"
      ],
      "metadata": {
        "id": "Hbx-9eFat0W_"
      }
    },
    {
      "cell_type": "code",
      "source": [
        "def email_body_generator(path):\n",
        "\n",
        "  for root, dirnames, filenames in walk(path):\n",
        "    for file_name in filenames:\n",
        "\n",
        "      filepath = join(root, file_name)\n",
        "      stream = open(filepath, encoding='latin-1')\n",
        "      is_body = False\n",
        "      lines = []\n",
        "\n",
        "      for line in stream:\n",
        "        if is_body:\n",
        "          lines.append(line)\n",
        "        elif line == '\\n':\n",
        "          is_body = True\n",
        "\n",
        "      stream.close()\n",
        "      email_body = '\\n'.join(lines)\n",
        "\n",
        "      yield file_name, email_body"
      ],
      "metadata": {
        "id": "FzjJaMKJtx2j"
      },
      "execution_count": 25,
      "outputs": []
    },
    {
      "cell_type": "code",
      "source": [
        "def df_from_directory(path,classification):\n",
        "  rows = []\n",
        "  row_names = []\n",
        "\n",
        "  for file_name, email_body in email_body_generator(path):\n",
        "    rows.append({'MESSAGE': email_body, 'CATEGORY': classification})\n",
        "    row_names.append(file_name)\n",
        "\n",
        "\n",
        "  return pd.DataFrame(rows, index=row_names)"
      ],
      "metadata": {
        "id": "c2nHgd-Mt4lB"
      },
      "execution_count": 21,
      "outputs": []
    },
    {
      "cell_type": "code",
      "source": [
        "spam_emails = df_from_directory(SPAM_1_PATH, 1)\n",
        "spam_emails = pd.concat([spam_emails, df_from_directory(SPAM_2_PATH, 1)])\n",
        "spam_emails.head()"
      ],
      "metadata": {
        "id": "2Cp7svCLu-3f",
        "colab": {
          "base_uri": "https://localhost:8080/",
          "height": 206
        },
        "outputId": "2f64bab9-0a59-47b5-b8e5-50dd5d969a67"
      },
      "execution_count": 26,
      "outputs": [
        {
          "output_type": "execute_result",
          "data": {
            "text/plain": [
              "                                                                                  MESSAGE  \\\n",
              "00201.00020fc9911604f6cae7ae0f598ad29d  <html>\\n\\n\\n\\n\\n\\n\\n\\n<body>\\n\\n\\n\\n<div align...   \n",
              "00210.050ffd105bd4e006771ee63cabc59978  IMPORTANT INFORMATION:\\n\\n\\n\\nThe new domain n...   \n",
              "00069.066b1a012235d062a5da73eead4a6b35   #############################################...   \n",
              "00117.b3ceb6525a1dc935463f3e3080110039  SUBSTANTIAL MONTHLY INCOME MAKERS VOUCHER\\n\\nI...   \n",
              "00163.244a217b150d2129cbdc52b96d992382  We guarantee you signups before you ever pay\\n...   \n",
              "\n",
              "                                        CATEGORY  \n",
              "00201.00020fc9911604f6cae7ae0f598ad29d         1  \n",
              "00210.050ffd105bd4e006771ee63cabc59978         1  \n",
              "00069.066b1a012235d062a5da73eead4a6b35         1  \n",
              "00117.b3ceb6525a1dc935463f3e3080110039         1  \n",
              "00163.244a217b150d2129cbdc52b96d992382         1  "
            ],
            "text/html": [
              "\n",
              "  <div id=\"df-b83cfcd3-29bb-410d-969e-7630b58a5fd8\" class=\"colab-df-container\">\n",
              "    <div>\n",
              "<style scoped>\n",
              "    .dataframe tbody tr th:only-of-type {\n",
              "        vertical-align: middle;\n",
              "    }\n",
              "\n",
              "    .dataframe tbody tr th {\n",
              "        vertical-align: top;\n",
              "    }\n",
              "\n",
              "    .dataframe thead th {\n",
              "        text-align: right;\n",
              "    }\n",
              "</style>\n",
              "<table border=\"1\" class=\"dataframe\">\n",
              "  <thead>\n",
              "    <tr style=\"text-align: right;\">\n",
              "      <th></th>\n",
              "      <th>MESSAGE</th>\n",
              "      <th>CATEGORY</th>\n",
              "    </tr>\n",
              "  </thead>\n",
              "  <tbody>\n",
              "    <tr>\n",
              "      <th>00201.00020fc9911604f6cae7ae0f598ad29d</th>\n",
              "      <td>&lt;html&gt;\\n\\n\\n\\n\\n\\n\\n\\n&lt;body&gt;\\n\\n\\n\\n&lt;div align...</td>\n",
              "      <td>1</td>\n",
              "    </tr>\n",
              "    <tr>\n",
              "      <th>00210.050ffd105bd4e006771ee63cabc59978</th>\n",
              "      <td>IMPORTANT INFORMATION:\\n\\n\\n\\nThe new domain n...</td>\n",
              "      <td>1</td>\n",
              "    </tr>\n",
              "    <tr>\n",
              "      <th>00069.066b1a012235d062a5da73eead4a6b35</th>\n",
              "      <td>#############################################...</td>\n",
              "      <td>1</td>\n",
              "    </tr>\n",
              "    <tr>\n",
              "      <th>00117.b3ceb6525a1dc935463f3e3080110039</th>\n",
              "      <td>SUBSTANTIAL MONTHLY INCOME MAKERS VOUCHER\\n\\nI...</td>\n",
              "      <td>1</td>\n",
              "    </tr>\n",
              "    <tr>\n",
              "      <th>00163.244a217b150d2129cbdc52b96d992382</th>\n",
              "      <td>We guarantee you signups before you ever pay\\n...</td>\n",
              "      <td>1</td>\n",
              "    </tr>\n",
              "  </tbody>\n",
              "</table>\n",
              "</div>\n",
              "    <div class=\"colab-df-buttons\">\n",
              "\n",
              "  <div class=\"colab-df-container\">\n",
              "    <button class=\"colab-df-convert\" onclick=\"convertToInteractive('df-b83cfcd3-29bb-410d-969e-7630b58a5fd8')\"\n",
              "            title=\"Convert this dataframe to an interactive table.\"\n",
              "            style=\"display:none;\">\n",
              "\n",
              "  <svg xmlns=\"http://www.w3.org/2000/svg\" height=\"24px\" viewBox=\"0 -960 960 960\">\n",
              "    <path d=\"M120-120v-720h720v720H120Zm60-500h600v-160H180v160Zm220 220h160v-160H400v160Zm0 220h160v-160H400v160ZM180-400h160v-160H180v160Zm440 0h160v-160H620v160ZM180-180h160v-160H180v160Zm440 0h160v-160H620v160Z\"/>\n",
              "  </svg>\n",
              "    </button>\n",
              "\n",
              "  <style>\n",
              "    .colab-df-container {\n",
              "      display:flex;\n",
              "      gap: 12px;\n",
              "    }\n",
              "\n",
              "    .colab-df-convert {\n",
              "      background-color: #E8F0FE;\n",
              "      border: none;\n",
              "      border-radius: 50%;\n",
              "      cursor: pointer;\n",
              "      display: none;\n",
              "      fill: #1967D2;\n",
              "      height: 32px;\n",
              "      padding: 0 0 0 0;\n",
              "      width: 32px;\n",
              "    }\n",
              "\n",
              "    .colab-df-convert:hover {\n",
              "      background-color: #E2EBFA;\n",
              "      box-shadow: 0px 1px 2px rgba(60, 64, 67, 0.3), 0px 1px 3px 1px rgba(60, 64, 67, 0.15);\n",
              "      fill: #174EA6;\n",
              "    }\n",
              "\n",
              "    .colab-df-buttons div {\n",
              "      margin-bottom: 4px;\n",
              "    }\n",
              "\n",
              "    [theme=dark] .colab-df-convert {\n",
              "      background-color: #3B4455;\n",
              "      fill: #D2E3FC;\n",
              "    }\n",
              "\n",
              "    [theme=dark] .colab-df-convert:hover {\n",
              "      background-color: #434B5C;\n",
              "      box-shadow: 0px 1px 3px 1px rgba(0, 0, 0, 0.15);\n",
              "      filter: drop-shadow(0px 1px 2px rgba(0, 0, 0, 0.3));\n",
              "      fill: #FFFFFF;\n",
              "    }\n",
              "  </style>\n",
              "\n",
              "    <script>\n",
              "      const buttonEl =\n",
              "        document.querySelector('#df-b83cfcd3-29bb-410d-969e-7630b58a5fd8 button.colab-df-convert');\n",
              "      buttonEl.style.display =\n",
              "        google.colab.kernel.accessAllowed ? 'block' : 'none';\n",
              "\n",
              "      async function convertToInteractive(key) {\n",
              "        const element = document.querySelector('#df-b83cfcd3-29bb-410d-969e-7630b58a5fd8');\n",
              "        const dataTable =\n",
              "          await google.colab.kernel.invokeFunction('convertToInteractive',\n",
              "                                                    [key], {});\n",
              "        if (!dataTable) return;\n",
              "\n",
              "        const docLinkHtml = 'Like what you see? Visit the ' +\n",
              "          '<a target=\"_blank\" href=https://colab.research.google.com/notebooks/data_table.ipynb>data table notebook</a>'\n",
              "          + ' to learn more about interactive tables.';\n",
              "        element.innerHTML = '';\n",
              "        dataTable['output_type'] = 'display_data';\n",
              "        await google.colab.output.renderOutput(dataTable, element);\n",
              "        const docLink = document.createElement('div');\n",
              "        docLink.innerHTML = docLinkHtml;\n",
              "        element.appendChild(docLink);\n",
              "      }\n",
              "    </script>\n",
              "  </div>\n",
              "\n",
              "\n",
              "<div id=\"df-1d3ad3be-a9f8-43c5-8841-f2bb56c70af9\">\n",
              "  <button class=\"colab-df-quickchart\" onclick=\"quickchart('df-1d3ad3be-a9f8-43c5-8841-f2bb56c70af9')\"\n",
              "            title=\"Suggest charts\"\n",
              "            style=\"display:none;\">\n",
              "\n",
              "<svg xmlns=\"http://www.w3.org/2000/svg\" height=\"24px\"viewBox=\"0 0 24 24\"\n",
              "     width=\"24px\">\n",
              "    <g>\n",
              "        <path d=\"M19 3H5c-1.1 0-2 .9-2 2v14c0 1.1.9 2 2 2h14c1.1 0 2-.9 2-2V5c0-1.1-.9-2-2-2zM9 17H7v-7h2v7zm4 0h-2V7h2v10zm4 0h-2v-4h2v4z\"/>\n",
              "    </g>\n",
              "</svg>\n",
              "  </button>\n",
              "\n",
              "<style>\n",
              "  .colab-df-quickchart {\n",
              "      --bg-color: #E8F0FE;\n",
              "      --fill-color: #1967D2;\n",
              "      --hover-bg-color: #E2EBFA;\n",
              "      --hover-fill-color: #174EA6;\n",
              "      --disabled-fill-color: #AAA;\n",
              "      --disabled-bg-color: #DDD;\n",
              "  }\n",
              "\n",
              "  [theme=dark] .colab-df-quickchart {\n",
              "      --bg-color: #3B4455;\n",
              "      --fill-color: #D2E3FC;\n",
              "      --hover-bg-color: #434B5C;\n",
              "      --hover-fill-color: #FFFFFF;\n",
              "      --disabled-bg-color: #3B4455;\n",
              "      --disabled-fill-color: #666;\n",
              "  }\n",
              "\n",
              "  .colab-df-quickchart {\n",
              "    background-color: var(--bg-color);\n",
              "    border: none;\n",
              "    border-radius: 50%;\n",
              "    cursor: pointer;\n",
              "    display: none;\n",
              "    fill: var(--fill-color);\n",
              "    height: 32px;\n",
              "    padding: 0;\n",
              "    width: 32px;\n",
              "  }\n",
              "\n",
              "  .colab-df-quickchart:hover {\n",
              "    background-color: var(--hover-bg-color);\n",
              "    box-shadow: 0 1px 2px rgba(60, 64, 67, 0.3), 0 1px 3px 1px rgba(60, 64, 67, 0.15);\n",
              "    fill: var(--button-hover-fill-color);\n",
              "  }\n",
              "\n",
              "  .colab-df-quickchart-complete:disabled,\n",
              "  .colab-df-quickchart-complete:disabled:hover {\n",
              "    background-color: var(--disabled-bg-color);\n",
              "    fill: var(--disabled-fill-color);\n",
              "    box-shadow: none;\n",
              "  }\n",
              "\n",
              "  .colab-df-spinner {\n",
              "    border: 2px solid var(--fill-color);\n",
              "    border-color: transparent;\n",
              "    border-bottom-color: var(--fill-color);\n",
              "    animation:\n",
              "      spin 1s steps(1) infinite;\n",
              "  }\n",
              "\n",
              "  @keyframes spin {\n",
              "    0% {\n",
              "      border-color: transparent;\n",
              "      border-bottom-color: var(--fill-color);\n",
              "      border-left-color: var(--fill-color);\n",
              "    }\n",
              "    20% {\n",
              "      border-color: transparent;\n",
              "      border-left-color: var(--fill-color);\n",
              "      border-top-color: var(--fill-color);\n",
              "    }\n",
              "    30% {\n",
              "      border-color: transparent;\n",
              "      border-left-color: var(--fill-color);\n",
              "      border-top-color: var(--fill-color);\n",
              "      border-right-color: var(--fill-color);\n",
              "    }\n",
              "    40% {\n",
              "      border-color: transparent;\n",
              "      border-right-color: var(--fill-color);\n",
              "      border-top-color: var(--fill-color);\n",
              "    }\n",
              "    60% {\n",
              "      border-color: transparent;\n",
              "      border-right-color: var(--fill-color);\n",
              "    }\n",
              "    80% {\n",
              "      border-color: transparent;\n",
              "      border-right-color: var(--fill-color);\n",
              "      border-bottom-color: var(--fill-color);\n",
              "    }\n",
              "    90% {\n",
              "      border-color: transparent;\n",
              "      border-bottom-color: var(--fill-color);\n",
              "    }\n",
              "  }\n",
              "</style>\n",
              "\n",
              "  <script>\n",
              "    async function quickchart(key) {\n",
              "      const quickchartButtonEl =\n",
              "        document.querySelector('#' + key + ' button');\n",
              "      quickchartButtonEl.disabled = true;  // To prevent multiple clicks.\n",
              "      quickchartButtonEl.classList.add('colab-df-spinner');\n",
              "      try {\n",
              "        const charts = await google.colab.kernel.invokeFunction(\n",
              "            'suggestCharts', [key], {});\n",
              "      } catch (error) {\n",
              "        console.error('Error during call to suggestCharts:', error);\n",
              "      }\n",
              "      quickchartButtonEl.classList.remove('colab-df-spinner');\n",
              "      quickchartButtonEl.classList.add('colab-df-quickchart-complete');\n",
              "    }\n",
              "    (() => {\n",
              "      let quickchartButtonEl =\n",
              "        document.querySelector('#df-1d3ad3be-a9f8-43c5-8841-f2bb56c70af9 button');\n",
              "      quickchartButtonEl.style.display =\n",
              "        google.colab.kernel.accessAllowed ? 'block' : 'none';\n",
              "    })();\n",
              "  </script>\n",
              "</div>\n",
              "\n",
              "    </div>\n",
              "  </div>\n"
            ],
            "application/vnd.google.colaboratory.intrinsic+json": {
              "type": "dataframe",
              "variable_name": "spam_emails",
              "summary": "{\n  \"name\": \"spam_emails\",\n  \"rows\": 1898,\n  \"fields\": [\n    {\n      \"column\": \"MESSAGE\",\n      \"properties\": {\n        \"dtype\": \"string\",\n        \"num_unique_values\": 1764,\n        \"samples\": [\n          \"\\n\\n---259765881.993893904265.JavaMail.RovAdmin.rovweb002\\n\\nContent-Type: text/plain; charset=iso-8859-1\\n\\n\\n\\nYour Membership Community & Commentary (June 29, 2001)\\n\\nIt's All About Making Money\\n\\n\\n\\n\\n\\n\\n\\nInformation to provide you with the absolute \\n\\n<br>best low and no cost ways of providing traffic \\n\\n<br>to your site, helping you to capitalize on the power <br>and potential the web brings to every Net-Preneur. <br>\\n\\n--- This Issue Contains Sites Who Will Trade Links With You! --- <br>\\n\\n\\n\\n-------------\\n\\nIN THIS ISSUE\\n\\n-------------\\n\\n32 Easy Ways To Breath New Life Into Any Webpage\\n\\nMember Showcase\\n\\nAre You Ready For Your 15 Minutes of Fame?\\n\\nWin A FREE Ad In Community & Commentary\\n\\n\\n\\n\\n\\n\\n\\n||| =-=-=-=-=-=-=-=-=-=-=-=-=-=-=-=-=-=>>\\n\\n    Today's Special Announcement:\\n\\n||| =-=-=-=-=-=-=-=-=-=-=-=-=-=-=-=-=-=>>\\n\\n\\n\\n<br>We can help you become an Internet Service <br>provider within 7 days or we will give you $100.00!!\\n\\n<br><a href=\\\"http://www.SELLinternetACCESS.com\\\">Click Here</a>\\n\\n<br>We have already signed 300 ISPs on a 4 year contract, \\n\\n<br>see if any are in YOUR town at:\\n\\n<br><a href=\\\"http://www.Find-Local-ISP.com\\\">Click Here</a>\\n\\n<br>&nbsp;<p>\\n\\n<br>&nbsp;<p>\\n\\nYou are a member in at least one of these programs \\n\\n- You should be in them all! <br>\\n\\n<a href=\\\"http://www.BannersGoMLM.com\\\"> BannersGoMLM.com </a>\\n\\n<br><a href=\\\"http://www.ProfitBanners.com\\\"> ProfitBanners.com </a>\\n\\n<br><a href=\\\"http://www.CashPromotions.com\\\"> CashPromotions.com </a>\\n\\n<br><a href=\\\"http://www.MySiteInc.com\\\"> MySiteInc.com </a>\\n\\n<br><a href=\\\"http://www.TimsHomeTownStories.com\\\"> TimsHomeTownStories.com </a>\\n\\n<br><a href=\\\"http://www.FreeLinksNetwork.com\\\"> FreeLinksNetwork.com </a>\\n\\n<br><a href=\\\"http://www.MyShoppingPlace.com\\\"> MyShoppingPlace.com </a>\\n\\n<br><a href=\\\"http://www.BannerCo-op.com\\\"> BannerCo-op.com </a>\\n\\n<br><a href=\\\"http://www.PutPEEL.com\\\"> PutPEEL.com </a>\\n\\n<br><a href=\\\"http://www.PutPEEL.net\\\"> PutPEEL.net </a>\\n\\n<br><a href=\\\"http://www.SELLinternetACCESS.com\\\"> SELLinternetACCESS.com </a>\\n\\n<br><a href=\\\"http://www.Be-Your-Own-ISP.com\\\"> Be-Your-Own-ISP.com </a>\\n\\n<br><a href=\\\"http://www.SeventhPower.com\\\"> SeventhPower.com </a><p>\\n\\n\\n\\n\\n\\n=-=-=-=-=-=-=-=-=-=-=-=-=-=-=-=-=-=\\n\\n32 Easy Ways To Breath New Life Into Any Webpage\\n\\n=-=-=-=-=-=-=-=-=-=-=-=-=-=-=-=-=-=\\n\\n\\n\\n<p>&nbsp;&nbsp;&nbsp;&nbsp;&nbsp; It's true.\\n\\n<p>Ask the CEOs of Yahoo.com and America Online.&nbsp; They'll\\n\\n<br>tell you it's true.&nbsp; Send an email to Terry Dean or Allen\\n\\n<br>Says or Jim Daniels and ask them about it.&nbsp; They'll agree\\n\\n<br>100% that it's true.&nbsp; Don't just take my word for it.\\n\\n<p>In fact, you can contact any of the 10,000 folks online\\n\\n<br>selling web marketing resources, and they will all tell you\\n\\n<br>emphatically, without question, no doubts whatsoever, that\\n\\n<br>it is absolutely true.\\n\\n<p>It's true. ANYONE can earn a living online.&nbsp; Really, they\\n\\n<br>can.&nbsp; But, it takes several very important components to\\n\\n<br>join the 5% who are successful on the web.\\n\\n<p>&nbsp;&nbsp;&nbsp;&nbsp; One of those necessities is a website.\\n\\n<p>&nbsp;&nbsp;&nbsp;&nbsp; Now, your website does one of two things...\\n\\n<p>&nbsp;&nbsp;&nbsp;&nbsp; ...it either makes the sale, or it doesn't.\\n\\n<p>For 95% of online businesses, their websites simply do\\n\\n<br>not produce results.\\n\\n<p>And there is a very simple reason for poor performance.\\n\\n<br>Poor sales letters.\\n\\n<p>Does your website convince people to make a purchase?\\n\\n<br>If not, here are 32 easy ways to breathe new life into\\n\\n<br>your sales letter...\\n\\n<p>1) Write your sales letter with an individual in mind.\\n\\n<br>Go ahead and pick out someone, a real person to write your\\n\\n<br>sales letter to.&nbsp; Doesn't matter if it is grandma or your\\n\\n<br>next door neighbor or your cat.&nbsp; Write your sales letter\\n\\n<br>just like you are writing it to them personally.&nbsp; Why?\\n\\n<br>Because when your potential customer reads, it then it will\\n\\n<br>seem personal, almost like you wrote it with them in mind.\\n\\n<br>Too often, sales letters are written as if they were going\\n\\n<br>to be read to an audience rather than one person.&nbsp; Keep your\\n\\n<br>sales letters personal, because one person at a time is\\n\\n<br>going to read them.\\n\\n<p>2) Use an illustration to get your point across.&nbsp; In my\\n\\n<br>sales letters I have told stories about my car stalling on\\n\\n<br>the side of the road to illustrate the idea that we must\\n\\n<br>constantly add the fuel of advertising to keep our\\n\\n<br>businesses running. I have compared the hype of easily\\n\\n<br>making millions online to the chances of me riding bareback\\n\\n<br>across Montana on a grizzly bear.&nbsp; Leads have read of how\\n\\n<br>getting to the top of an oak tree relates to aggressively\\n\\n<br>marketing online. People love a good story that pounds home\\n\\n<br>a solid message.&nbsp; Tell stories that illustrate a point you\\n\\n<br>are trying to make.&nbsp; Emphasize a benefit by sharing an\\n\\n<br>account from the \\\"real world.\\\"&nbsp; It effectively creates\\n\\n<br>interest and further establishes the point.\\n\\n<p>3) Create an interest in the reader from the very first\\n\\n<br>line.&nbsp; Your first line of the sales letter should\\n\\n<br>immediately create a desire in the reader to want to know\\n\\n<br>more.&nbsp; Go back to the beginning of this article.&nbsp; The first\\n\\n<br>words were, \\\"It's true.\\\"&nbsp; I can guarantee you that either\\n\\n<br>consciously or subconsciously you thought \\\"What's true?\\\"\\n\\n<br>Immediately, your mind wanted to know what I was talking\\n\\n<br>about.&nbsp; Before you even knew it you were right here, 8\\n\\n<br>paragraphs into this article.&nbsp; Carefully craft your first\\n\\n<br>line.&nbsp; If you can immediately get them wanting to know more,\\n\\n<br>you've got a winner.\\n\\n<p>4) Use bullets. People spend a lot of time reading bulleted\\n\\n<br>lists. In fact, they often reread them over and over. Use\\n\\n<br>bulleted lists to stress the benefits of your product or\\n\\n<br>service, to spell out exactly what is included in your offer.\\n\\n<br>Use an extra space in between each bullet to really highlight\\n\\n<br>each line and create a sense of more length to the list.\\n\\n<p>5) Launch into a bullet list immediately.&nbsp; Shortly after\\n\\n<br>your opening line, immediately give the reader a bullet\\n\\n<br>list of benefits to absorb.&nbsp; Hit them with your best shot.\\n\\n<br>Pull out the big guns and stress \\\"just a few of\\\" the most\\n\\n<br>important things the reader will discover.&nbsp; By offering a\\n\\n<br>killer list early in your sales letter, you will automatically\\n\\n<br>create a desire in the reader to continue through your ad\\n\\n<br>copy.&nbsp; After all, if they are already interested after the\\n\\n<br>first list of benefits, they will certainly be open to\\n\\n<br>finding out even more reasons why your product or service\\n\\n<br>will aid them.\\n\\n<p>6) Just let it all flow out.&nbsp; Write down everything that\\n\\n<br>enters your mind as you are writing your sales letter. You\\n\\n<br>can edit it later.&nbsp; If you just sit and start writing\\n\\n<br>everything you know about your product or service and how it\\n\\n<br>will benefit your customer, you will be amazed at how much\\n\\n<br>information floods your mind.&nbsp; Write it ALL down.&nbsp; Then read\\n\\n<br>through it - you'll be able to add a lot more detail to\\n\\n<br>many of the points.&nbsp; Edit it after you have exhausted all\\n\\n<br>of your ideas.\\n\\n<p>7) Make your sales letter personal.&nbsp; Make sure that the\\n\\n<br>words \\\"you\\\" and \\\"your\\\" are at least 4:1 over \\\"I\\\" and \\\"my.\\\"\\n\\n<br>Your ad copy must be written about YOUR CUSTOMER not\\n\\n<br>yourself.&nbsp; I'm not sure how the old advertising adage goes,\\n\\n<br>but it's something like this, \\\"I don't care a thing about\\n\\n<br>your lawn mower, I just care about my lawn.\\\"&nbsp; Leads aren't\\n\\n<br>interested in you or your products, they are interested in\\n\\n<br>themselves and their wants and needs.&nbsp; When you are finished\\n\\n<br>with your sales letter and have uploaded it to a test\\n\\n<br>webpage, run a check at http://www.keywordcount.com and see\\n\\n<br>what the ratio between \\\"you\\\" and \\\"your\\\" versus references to\\n\\n<br>\\\"I,\\\" \\\"me,\\\" \\\"my,\\\" etc.&nbsp; It's a free service.&nbsp; Make sure it's\\n\\n<br>at least 4:1 in favor of the customer.\\n\\n<p>8) Write like you speak.&nbsp; Forget all of those rules that\\n\\n<br>your grammar teacher taught you.&nbsp; Write your sales letters\\n\\n<br>in everyday language, just like you would talk in person.\\n\\n<br>Don't be afraid to begin sentences with \\\"And\\\" or \\\"Because.\\\"\\n\\n<br>Don't worry about ending a sentence with a preposition.\\n\\n<br>Write like you speak. Your sales letter isn't the great\\n\\n<br>American novel, so don't write it like you are Ernest\\n\\n<br>Hemingway.\\n\\n<p>9) Use short paragraphs consisting of 2-4 sentences each.\\n\\n<br>Long copy works... but long paragraphs do not.&nbsp; Use short\\n\\n<br>paragraphs that lead into the next paragraph. Don't be\\n\\n<br>afraid to use short sentences.&nbsp; Like this one.\\n\\n<p>Or this.\\n\\n<p>See what I mean?&nbsp; Shorter paragraphs keep the interest of\\n\\n<br>the reader. Longer paragraphs cause eye strain and often\\n\\n<br>force the reader to get distracted.\\n\\n<p>10)&nbsp; Stress the benefits, not the features.&nbsp; Again,\\n\\n<br>readers want the burning question answered, \\\"What's in it\\n\\n<br>for&nbsp; me?\\\"&nbsp; What need is it going to meet? What want is it\\n\\n<br>going to fill?&nbsp; How is your product or service going to be\\n\\n<br>of value or benefit to the reader?&nbsp; Spell it out.&nbsp; Don't\\n\\n<br>focus on the features of your product or service , but\\n\\n<br>rather how those features will add value to the life of your\\n\\n<br>reader.\\n\\n<p>For example:&nbsp; If you are selling automobile tires, you may\\n\\n<br>very well have the largest assortment of tires in the world,\\n\\n<br>but who cares? I don't care about your selection. But, I\\n\\n<br>do care about keeping my 3-month-old baby girl safe while\\n\\n<br>we are traveling.&nbsp; So, instead of focusing on your selection,\\n\\n<br>you focus on the fact that my baby girl can be kept safe\\n\\n<br>because you have a tire that will fit my car. You're not\\n\\n<br>selling tires, you're selling safety for my family. Stress\\n\\n<br>the benefits, not the features.\\n\\n<p>11) Keep the reader interested.&nbsp; Some sales letters read\\n\\n<br>like they are a manual trying to explain to me how I can\\n\\n<br>perform some complicated surgery on my wife. They are\\n\\n<br>filled with words and phrases that I need a dictionary to\\n\\n<br>understand.&nbsp; Unless you are writing to a very targeted\\n\\n<br>audience, avoid using technical language that many readers\\n\\n<br>might not understand. Keep it simple, using words, language\\n\\n<br>and information that are easy to understand and follow.\\n\\n<p>12) Target your sales letter.&nbsp; When you are finished with\\n\\n<br>your final draft of the sales letter, target it to a\\n\\n<br>specific audience.&nbsp; For example: If you are selling a \\\"work\\n\\n<br>at home\\\" product, then rewrite the sales letter by adding\\n\\n<br>words in the headlines and ad copy that are targeted towards\\n\\n<br>women who are homemakers.&nbsp; Then, rewrite the same sales\\n\\n<br>letter and target it to college students.&nbsp; Write another\\n\\n<br>letter targeting senior citizens.&nbsp; Still another could be\\n\\n<br>written to high school teachers wanting to earn extra income\\n\\n<br>during summer vacation.&nbsp; The possibilities are endless.\\n\\n<p>All you need to do is add a few words here and there in\\n\\n<br>your ad copy to make it appear that your product or service\\n\\n<br>is specifically designed for a target audience. \\\"Work only\\n\\n<br>5 hours a week,\\\" would become \\\"College Students, work only\\n\\n<br>5 hours a week.\\\"&nbsp; Your sales letter is now targeted. Upload\\n\\n<br>all of the sales letters to separate pages on your website\\n\\n<br>(you could easily target 100's of groups).\\n\\n<p>Then, simply advertise the targeted pages in targeted\\n\\n<br>mediums.&nbsp; You could advertise the \\\"College Students\\\" page\\n\\n<br>in a campus ezine.&nbsp; The \\\"Senior Citizens\\\" page could be\\n\\n<br>advertised at a retirement community message board.\\n\\n<p>By creating these targeted sales letters, you can literally\\n\\n<br>open up dozens of new groups to sell your existing product\\n\\n<br>to.&nbsp; And, in their eyes, it looks like the product was a\\n\\n<br>match made for them.\\n\\n<p>13) Make your ad copy easy to follow.&nbsp; Use short sentences\\n\\n<br>and paragraphs. Break up the sales letter with attention\\n\\n<br>grabbing headlines that lead into the next paragraph. One\\n\\n<br>thing that I have always found to work very well in sales\\n\\n<br>letters...\\n\\n<p>&nbsp;&nbsp;&nbsp;&nbsp; ...is to use a pause like this.\\n\\n<p>Start the sentence on one line, leaving the reader wanting\\n\\n<br>to know more, and then finishing up on the next line. Also,\\n\\n<br>if you are going to use a sales letter that continues on\\n\\n<br>several different pages of your website, use a catchy hook\\n\\n<br>line at the end of each page to keep them clicking. \\\"Let's\\n\\n<br>get you started down the road to success, shall we? CLICK\\n\\n<br>HERE to continue.\\\"\\n\\n<p>14) Use similes and metaphors for effect.&nbsp; When the\\n\\n<br>customer purchases your product, they will generate \\\"a flood\\n\\n<br>of traffic that would make Noah start building another ark.\\\"\\n\\n<br>If they do not order today, then they will \\\"feel like a cat\\n\\n<br>that let the mouse get away.\\\"&nbsp; Use words to create a picture\\n\\n<br>in the readers' mind.&nbsp; When you think of Superman, what\\n\\n<br>comes to mind?&nbsp; Immediately, we remember that he is \\\"faster\\n\\n<br>than a speeding bullet.\\\"&nbsp; \\\"More powerful than a locomotive.\\\"\\n\\n<br>\\\"Able to leap tall buildings in a single bound.\\\" See how\\n\\n<br>word pictures stick in our minds?\\n\\n<p>15) Focus on one product or service.&nbsp; Don't try to sell\\n\\n<br>your customer multiple products at the same time. It only\\n\\n<br>confuses the reader.&nbsp; Keep your ad copy directed at one\\n\\n<br>specific product or service.&nbsp; Then, use other products and\\n\\n<br>services as back-end products.\\n\\n<p>16) Make it stand out.&nbsp; Don't kid yourself.&nbsp; There are\\n\\n<br>hundreds, maybe thousands out there on the web doing the\\n\\n<br>same thing you are doing.&nbsp; How will you stand out among the\\n\\n<br>crowd?&nbsp; Your sales letter must inject personality. It must\\n\\n<br>breathe of originality.&nbsp; Your product or service is\\n\\n<br>different. It's not like all of the rest.&nbsp; It is unique.\\n\\n<br>Right? Your sales letter must separate you from the\\n\\n<br>competition.&nbsp; It must create a feeling of \\\"You won't find\\n\\n<br>this anywhere else.\\\"\\n\\n<p>17) Be believable. \\\"Earn $54,000 in the next 24 hours!!!\\\"\\n\\n<br>Delete.&nbsp; Good grief, do they think I am an idiot or\\n\\n<br>something?&nbsp; Get real.&nbsp; Don't make outrageous claims that\\n\\n<br>are obviously not the truth.&nbsp; You'll ruin your reputation.\\n\\n<br>Let me tell you a simple universal fact that cannot be\\n\\n<br>reversed.&nbsp; Once you have been branded a liar, you will\\n\\n<br>NEVER be anything but a liar.&nbsp; It doesn't matter if you\\n\\n<br>launch the most respectable, honest business available\\n\\n<br>anywhere, people will always have doubt because they\\n\\n<br>remember the crazy stuff you've said before.&nbsp; Be believable.\\n\\n<br>Don't exaggerate, mislead, stretch or distort the truth.\\n\\n<p>18) Be specific. Don't generalize your information, but\\n\\n<br>rather be EXACT.&nbsp; Instead of \\\"over 100 tips for losing\\n\\n<br>weight\\\" use \\\"124 tips for losing weight.\\\" By generalizing\\n\\n<br>information, it creates doubt and questions in the reader's\\n\\n<br>mind.&nbsp; \\\"What am I really getting here?&nbsp; Does he even know?\\\"\\n\\n<br>When you use specific information, the reader begins to\\n\\n<br>think, \\\"This person must have counted.&nbsp; I know exactly what\\n\\n<br>I can expect.\\\"&nbsp; \\\"Platitudes and generalities roll off the\\n\\n<br>human understanding like water from a duck,\\\" wrote Claude\\n\\n<br>Hopkins in his classic book \\\"Scientific Advertising.\\\" \\\"They\\n\\n<br>leave no impression whatsoever.\\\"\\n\\n<p>19) Be complete. Tell the reader everything they would\\n\\n<br>want to know about your product or service.&nbsp; Answer all of\\n\\n<br>their questions, anything they would want to consider before\\n\\n<br>making a purchase.&nbsp; Think about it from their point of view.\\n\\n<br>Ask yourself, \\\"Why wouldn't I buy this?\\\"&nbsp; Then, address that\\n\\n<br>in your sales letter.&nbsp; Remove anything that would keep the\\n\\n<br>reader from making the purchase.\\n\\n<p>20) Use testimonials to boost your sales.&nbsp; Share actual\\n\\n<br>excerpts from what your current customers are saying about\\n\\n<br>your product or service. Many websites have an entire\\n\\n<br>section or even a separate page that has endorsements and\\n\\n<br>compliments listed.&nbsp; Satisfied customers remove some of the\\n\\n<br>doubt in the mind of the reader.&nbsp; \\\"If these people have\\n\\n<br>found a lot of value and benefit in the product, then I\\n\\n<br>probably will too.\\\"&nbsp; Especially effective are testimonials\\n\\n<br>from respected, well known \\\"authorities\\\" within your target\\n\\n<br>field.\\n\\n<p>21) Use headlines over and over throughout the sales letter.\\n\\n<br>A headline isn't just relegated to the beginning of your\\n\\n<br>ad copy.&nbsp; Use them frequently -but don't overuse.&nbsp; A well-\\n\\n<br>placed headline re-grabs the reader's attention, brings\\n\\n<br>them deeper into the letter, and readies them for the next\\n\\n<br>paragraph. You will want to spend as much time working on\\n\\n<br>your headlines as you do the entire sales letter.&nbsp; They are\\n\\n<br>that important.\\n\\n<p>22) Avoid asking stupid questions.&nbsp; \\\"Wouldn't you like to\\n\\n<br>make $1,000,000 a year?\\\" \\\"Doesn't that sound great?\\\" \\\"Would\\n\\n<br>you like to be as successful as I am?\\\"&nbsp; Avoid any question\\n\\n<br>that insults the intelligence of your reader or makes them\\n\\n<br>feel like they are inferior.\\n\\n<p>23) Offer a freebie even if the customer doesn't buy.\\n\\n<br>If the customer decides he or she isn't going to make a\\n\\n<br>purchase, then you want to follow-up with them later to try\\n\\n<br>to influence them to buy in the future.&nbsp; By offering a free\\n\\n<br>item, you can&nbsp; request their email address in order to\\n\\n<br>obtain the freebie.&nbsp; By doing this, you can now follow-up\\n\\n<br>with the customer for a potential future sale.\\n\\n<br>Additionally, you can continue the sales process by having\\n\\n<br>your ad copy, banners, flyers, etc. within the free item.\\n\\n<br>And, of course, if your free item is a high quality, useful\\n\\n<br>product or service which impresses the customer, they\\n\\n<br>probably will be back as a customer soon.\\n\\n<p>24) Use bonuses to overwhelm the reader.&nbsp; One of the things\\n\\n<br>that I have found very effective in writing sales letters\\n\\n<br>is to include bonus items that OUT-VALUE the actual product\\n\\n<br>I am offering.&nbsp; Ginsu made this one famous. They were\\n\\n<br>selling a set of steak knives, but before the commercial\\n\\n<br>was finished, you had so many bonus items on the table\\n\\n<br>it was hard to refuse. Make sure you provide quality\\n\\n<br>bonuses and not some worthless, outdated junk that damages\\n\\n<br>the credibility of your main offer.\\n\\n<p>25) Use connective phrases like \\\"But wait, there's more\\\"\\n\\n<br>and \\\"But that's not all.\\\"&nbsp; These phrases effectively lead\\n\\n<br>the reader from one paragraph to the next, particularly\\n\\n<br>when the next paragraph is a bullet list of benefits, or\\n\\n<br>leads into bonus items.&nbsp; Again, the idea is MORE and MORE\\n\\n<br>value and benefits to the reader.\\n\\n<p>26) Always include a deadline.&nbsp; By including a deadline,\\n\\n<br>you create a sense of urgency in the mind of the customer.\\n\\n<br>\\\"If I don't order within 24 hours, then I won't get the\\n\\n<br>bonuses.\\\"&nbsp; \\\"Oh no, there are only 10 items remaining,\\n\\n<br>I've got to hurry.\\\"&nbsp; Let the customer know what they will\\n\\n<br>be missing out on if they don't make the deadline. Remember,\\n\\n<br>they won't miss out on your products or bonuses, they will\\n\\n<br>miss out on all of the benefits of your products. Deadlines\\n\\n<br>are very effective.&nbsp; Every sales letter should have one.\\n\\n<p>27) Tell them exactly how to order.&nbsp; Be clear as to the\\n\\n<br>order process. Point them towards the order link.&nbsp; Tell\\n\\n<br>them what methods you offer. (I.E. credit cards, checks,\\n\\n<br>etc.)&nbsp; Make this process as simple and clear as can be.\\n\\n<br>If it takes more than 2 steps, most people won't continue.\\n\\n<p>28)&nbsp; Explain when the product will be delivered.&nbsp; How\\n\\n<br>quickly will the order be processed?&nbsp; When will the order be\\n\\n<br>available?&nbsp; Let the customer know exactly what they can\\n\\n<br>expect when they place their order.&nbsp; The more specific you\\n\\n<br>can be here, the better.&nbsp; Let them know that you have a\\n\\n<br>system in place.&nbsp; \\\"Operators are standing by.\\\"&nbsp; Their order\\n\\n<br>will be handled properly.&nbsp; Tell them.\\n\\n<p>29) Offer a money back guarantee.&nbsp; Take away their last\\n\\n<br>reason to hold back.&nbsp; Offer a \\\"no questions asked\\\" 30 day\\n\\n<br>guarantee.&nbsp; Most people may not realize this, but in most\\n\\n<br>cases, it's the law of the land.&nbsp; You are REQUIRED to give\\n\\n<br>them their money back if they are not satisfied with the\\n\\n<br>product or service.&nbsp; Since it's the law anyway, why not make\\n\\n<br>it a benefit. Let them know that they are purchasing your\\n\\n<br>product or service RISK-FREE.\\n\\n<p>30) Instruct them to respond immediately.&nbsp; Many people\\n\\n<br>just need to read those words, \\\"Act Now!\\\"&nbsp; \\\"Order today!\\\"\\n\\n<br>\\\"Click Here to Instantly Place Your Order.\\\"&nbsp; You've got them\\n\\n<br>this far, now tell them what you want them to do.&nbsp; Get them\\n\\n<br>to \\\"Act Fast!\\\"&nbsp; Have you ever heard a mail order commercial\\n\\n<br>on television that didn't prompt the viewer to order right\\n\\n<br>way?\\n\\n<p>31) Include a post script.&nbsp; People will always read the\\n\\n<br>P.S.&nbsp; Always. In fact, the P.S. is one of the MOST IMPORTANT\\n\\n<br>parts of your sales letter. Why?&nbsp; Because in many cases the\\n\\n<br>visitor at your website will scroll immediately down to the\\n\\n<br>end of your page to see how much it is going to cost.&nbsp; A\\n\\n<br>P.S. is a perfect place to recap your offer, so when they\\n\\n<br>see your price tag, they will also see a very detailed\\n\\n<br>description of what they will receive for their money. Use\\n\\n<br>your P.S. to restate your offer in detail.\\n\\n<p>32) Include a second post script.&nbsp; You better believe\\n\\n<br>if they read the first P.S., they will read a P.P.S.&nbsp; Use\\n\\n<br>this post script to remind them of the deadline or offer\\n\\n<br>another bonus or point out some compelling factor that would\\n\\n<br>make them want to order.&nbsp; I guarantee you they will read it.\\n\\n<p>Use these 32 tips and I guarantee you that you will see\\n\\n<br>a significant increase in the amount of responses you\\n\\n<br>receive from your sales letters.&nbsp; In fact, it would be\\n\\n<br>impossible for your responses to not improve.\\n\\n<br>&nbsp;\\n\\n<p>Copyright 2000 Jimmy D. Brown. All rights reserved worldwide.\\n\\n<br>-------------------------------------\\n\\n<br>About the Author...\\n\\n<p>Jimmy D. Brown is helping average people get out of\\n\\n<br>the rat-race and earn a full-time living online. For\\n\\n<br>more details on firing your boss and creating your\\n\\n<br>own internet wealth, visit us right now at:\\n\\n<p><a href=\\\"http://www.roibot.com/w.cgi?R18328_privatevault\\\">http://www.roibot.com/w.cgi?R18328_privatevault</a>\\n\\n<p>* Special offer: Join the Profits Vault through the above\\n\\n<br>link and email me your receipt and you can have a FREE BONUS\\n\\n<br>copy of The Terrific Manual - How To Profit From Free\\n\\n<br>Ebooks GUARANTEED which I sell at:\\n\\n<p><a href=\\\"http://www.businessmarketinginformation.com/ebookmarketing/\\\">http://www.businessmarketinginformation.com/ebookmarketing/</a>\\n\\n\\n\\n\\n\\n=-=-=-=-=-=-=-=-=-=-=-=-=-=-=-=-=-=\\n\\nMember Showcase\\n\\n=-=-=-=-=-=-=-=-=-=-=-=-=-=-=-=-=-=\\n\\n\\n\\n<p><i>Examine carefully - Those with email addresses included WILL</i>\\n\\n<br><i>TRADE LINKS with you... You are encouraged to contact them.</i>\\n\\n<br><i>There Are Many Ways To Build A Successful Business - Just look at</i>\\n\\n<br><i>these successful sites &amp; programs other members are involved\\n\\nin...</i>\\n\\n<br>---------------------------------------------------------------------\\n\\n<p>Affiliates of the World!\\n\\n<br>Top rated affiliate programs, excellent business opportunities,\\n\\n<br>great marketing resources and free advertising for you!\\n\\n<br>Visit the site to trade links. <a href=\\\"http://www.affiliates.uk.com\\\">http://www.affiliates.uk.com</a>\\n\\n<br>Trade Links - <a href=\\\"mailto:adrianbold@affiliates.uk.com\\\">adrianbold@affiliates.uk.com</a>\\n\\n<br>---------------------------------------------------------------------\\n\\n<p>Get INSANE amounts of traffic to your website.\\n\\n<br>Purchase 10,000 Guaranteed Visitors to your site\\n\\n<br>and receive 5,000 free. MORE TRAFFIC = MORE MONEY!\\n\\n<br>Less than 2cents a visitor.&nbsp; Space is limited.\\n\\n<br>Order Now! <a href=\\\"http://www.freepicklotto.com\\\">http://www.freepicklotto.com&nbsp;</a>\\n\\n<br>Trade Links - <a href=\\\"mailto:businessopps@aol.com\\\">businessopps@aol.com</a>\\n\\n<br>---------------------------------------------------------------------\\n\\n<p>Celebration Sale!\\n\\n<br>$99.00 on Casinos/Sportsbetting sites, Lingerie stores,\\n\\n<br>Gift Stores, Adult Sites &amp; Toy Stores.\\n\\n<br>Mention Ad#BMLM99 to receive this special sale price.\\n\\n<br>Order Now!\\n\\n<br><a href=\\\"http://www.cyberopps.com/?=BMLM99\\\">http://www.cyberopps.com/?=BMLM99</a>\\n\\n<br>---------------------------------------------------------------------\\n\\n<p>JUST BEEN RELEASED!!\\n\\n<br>Internet Marketing guru Corey Rudl has just released a\\n\\n<br>BRAND NEW VERSION of his #1 best-selling Internet Marketing\\n\\n<br>Course,\\\"The Insider Secret's to Marketing Your Business on\\n\\n<br>the Internet\\\". A MUST HAVE! So don't hesitate,\\n\\n<br>visit.. <a href=\\\"http://www.adminder.com/c.cgi?start&bgmlmezine\\\">http://www.adminder.com/c.cgi?start&amp;bgmlmezine</a>\\n\\n<br>---------------------------------------------------------------------\\n\\n<p>We have a 260 page catalog with over 3000 gift items for men,\\n\\n<br>women, children - A gift for everyone. We show 100 gift items\\n\\n<br>on our web site alone, with the catalog&nbsp; you have access to\\n\\n<br>the rest. We also feel we have the best prices on the web.\\n\\n<br>Visit at <a href=\\\"http://www.treasuresoftomorrow.net\\\">http://www.treasuresoftomorrow.net</a>\\n\\n<br>Trade Links - <a href=\\\"mailto:george1932me@yahoo.com\\\">george1932me@yahoo.com</a>\\n\\n<br>---------------------------------------------------------------------\\n\\n<p>Stop Smoking - Free Lesson !!\\n\\n<br>Discover the Secret to Stopping Smoking.\\n\\n<br>To Master these Powerful Techniques, Come to\\n\\n<br><a href=\\\"http://www.breath-of-life.net\\\">http://www.breath-of-life.net</a>\\n\\nfor your Free Lesson.\\n\\n<br>Act Now!&nbsp; P.S. Tell someone you care about.\\n\\n<br>Trade Links - <a href=\\\"mailto:jturco3@hotmail.com\\\">jturco3@hotmail.com</a>\\n\\n<br>---------------------------------------------------------------------\\n\\n<p><i>If you have a product, service, opportunity or quality merchandise</i>\\n\\n<br><i>that appeals to people worldwide, reach your targeted audience!</i>\\n\\n<br><i>For a fraction of what other large newsletters charge you can exhibit</i>\\n\\n<br><i>your website here, and trade links for only $8 CPM.&nbsp; Compare\\n\\nthat</i>\\n\\n<br><i>to the industry average of $10-$15 CPM. Why?... Because as a</i>\\n\\n<br><i>valuable member we want you to be successful! Order today -</i>\\n\\n<br><i>Showcases are limited and published on a first come, first serve\\n\\nbasis.</i>\\n\\n<br><i>For our secure order form, click here:</i> <a href=\\\"http://bannersgomlm.com/ezine\\\">http://bannersgomlm.com/ezine</a>\\n\\n<br>\\n\\n\\n\\n\\n\\n=-=-=-=-=-=-=-=-=-=-=-=-=-=-=-=-=-=\\n\\nAre You Ready For Your 15 Minutes of Fame?\\n\\n=-=-=-=-=-=-=-=-=-=-=-=-=-=-=-=-=-=\\n\\n\\n\\n<p>One of the items we would like to include in Community &amp;\\n\\n<br>Commentary we'll need from you! Here is your chance to\\n\\n<br>showcase your marketing strategies, and I need to hear\\n\\n<br>from everyone who would like to 'blow your own horn' and\\n\\n<br>be in the spotlight on center stage.\\n\\n<p>It's a great way to enjoy recognition and publicity for\\n\\n<br>yourself and your business, and will allow all members to\\n\\n<br>duplicate your success and avoid the same 'setbacks'.\\n\\n<p>Please include... a little background history, how you got\\n\\n<br>your start, a problem you have had and how you solved it,\\n\\n<br>your greatest success, and any advice you have for someone\\n\\n<br>beginning to market online.\\n\\n<p>Send your information to &lt;<a href=\\\"mailto:Submit@AEOpublishing.com\\\">Submit@AEOpublishing.com></a>\\n\\n<br>with 'Center Stage' in the Subject block.\\n\\n<br>\\n\\n\\n\\n\\n\\n=-=-=-=-=-=-=-=-=-=-=-=-=-=-=-=-=-=\\n\\nWin A FREE Ad In Community & Commentary\\n\\n=-=-=-=-=-=-=-=-=-=-=-=-=-=-=-=-=-=\\n\\n\\n\\n<p>To keep this interesting, how about this, every month we'll\\n\\n<br>draw a name from the replies and that person will win one\\n\\n<br>Sponsorship Showcase ad in the Community &amp; Commentary, for FREE.\\n\\n<br>That's a value of over $700.00! Respond to each weekly survey,\\n\\n<br>and increase your chances to win with four separate entries.\\n\\n<p>&nbsp;&nbsp;&nbsp;&nbsp;&nbsp;&nbsp;&nbsp;&nbsp;&nbsp;&nbsp; QUESTION\\n\\nOF THE WEEK (06/29/01)...\\n\\n<br>&nbsp;&nbsp;&nbsp;&nbsp; No right or wrong answers, and just by answering\\n\\n<br>&nbsp;&nbsp;&nbsp;&nbsp; you are entered to win a Showcase ad - Free!\\n\\n<p>&nbsp;&nbsp;&nbsp;&nbsp; ~~~ What is the goal of your website? ~~~\\n\\n<p>&nbsp;&nbsp;&nbsp;&nbsp; Sell&nbsp;&nbsp;&nbsp;&nbsp;&nbsp;&nbsp;&nbsp;&nbsp;&nbsp;&nbsp;&nbsp;&nbsp;&nbsp;&nbsp;&nbsp;&nbsp;\\n\\n<a href=\\\"mailto:one@AEOpublishing.com\\\">mailto:one@AEOpublishing.com</a>\\n\\n<br>&nbsp;&nbsp;&nbsp;&nbsp; Get Leads&nbsp;&nbsp;&nbsp;&nbsp;&nbsp;&nbsp;&nbsp;&nbsp;&nbsp;&nbsp;&nbsp;\\n\\n<a href=\\\"mailto:two@AEOpublishing.com\\\">mailto:two@AEOpublishing.com</a>\\n\\n<br>&nbsp;&nbsp;&nbsp;&nbsp; Build Branding&nbsp;&nbsp;&nbsp;&nbsp;&nbsp;&nbsp;\\n\\n<a href=\\\"mailto:three@AEOpublishing.com\\\">mailto:three@AEOpublishing.com</a>\\n\\n<br>&nbsp;&nbsp;&nbsp;&nbsp; Provide Information&nbsp; <a href=\\\"mailto:four@AEOpublishing.com\\\">mailto:four@AEOpublishing.com</a>\\n\\n<br>&nbsp;&nbsp;&nbsp;&nbsp; Other&nbsp;&nbsp;&nbsp;&nbsp;&nbsp;&nbsp;&nbsp;&nbsp;&nbsp;&nbsp;&nbsp;&nbsp;&nbsp;&nbsp;&nbsp;\\n\\n<a href=\\\"mailto:five@AEOpublishing.com\\\">mailto:five@AEOpublishing.com</a>\\n\\n<p>To make this as easy as possible for you, just click on the\\n\\n<br>e-mail address that matches your answer - you do not need to\\n\\n<br>enter any information in the subject or body of the message.\\n\\n<p>** ADD YOUR COMMENTS!&nbsp; Follow directions above and\\n\\n<br>add your comments in the body of the message, and we'll\\n\\n<br>post the best commentaries along with the responses.\\n\\n<p>You will automatically be entered in our drawing for a free\\n\\n<br>Sponsorship ad in the Community &amp; Commentary. Please\\n\\n<br>respond only one time per question.&nbsp; Multiple responses\\n\\n<br>from the same individual will be discarded.\\n\\n<p>\\n\\n\\n\\n\\n\\n=-=-=-=-=-=-=-=-=-=-=-=-=-=-=-=-=-=\\n\\n\\n\\n=-=-=-=-=-=-=-=-=-=-=-=-=-=-=-=-=-=\\n\\n\\n\\nTo change your subscribed address,\\n\\n<br>send both new and old address to <a href=\\\"mailto:Submit@AEOpublishing.com\\\">Submit</a>\\n\\n<br>See below for unsubscribe instructions.\\n\\n\\n\\n<p>Please send suggestions and comments to: <a href=\\\"mailto:Editor@AEOpublishing.com\\\">Editor</a>\\n\\n<br>I invite you to send your real successes and showcase \\n\\nyour strategies and techniques, or yes, even your total bombs, \\n\\n\\\"Working Together We Can All Prosper.\\\" <a href=\\\"mailto:Submit@AEOpublishing.com\\\">Submit</a>\\n\\n<p>For information on how to sponsor Your Membership \\n\\nCommunity &amp; Commentary visit: <a href=\\\"http://bannersgomlm.com/ezine\\\">Sponsorship\\n\\nShowcase</a>\\n\\n<p>Copyright 2001 AEOpublishing.com\\n\\n\\n\\n------------------------------------------------\\n\\nemail:  YourMembership2@AEOpublishing.com\\n\\nvoice:  \\n\\nweb: http://www.AEOpublishing.com\\n\\n------------------------------------------------\\n\\n\\n\\nThis email has been sent to jm@netnoteinc.com at your \\n\\nrequest, by Your Membership Newsletter Services.\\n\\n\\n\\nVisit our Subscription Center to edit your interests or unsubscribe.\\n\\nhttp://ccprod.roving.com/roving/d.jsp?p=oo&id=bd7n7877.6w8clu67&m=bd7n7877&ea=jm@netnoteinc.com\\n\\n\\n\\nView our privacy policy: http://ccprod.roving.com/roving/CCPrivacyPolicy.jsp\\n\\n\\n\\nPowered by \\n\\nConstant Contact(R)\\n\\nwww.constantcontact.com\\n\\n\\n\\n\\n\\n\\n\\n\\n\\n\\n\\n\\n\\n\\n\\n\\n\\n\\n\\n\\n\\n---259765881.993893904265.JavaMail.RovAdmin.rovweb002\\n\\nContent-Type: text/html; charset=iso-8859-1\\n\\n\\n\\n<HTML>\\n\\n<!-- \\n\\n\\n\\n\\n\\n&nbsp;&nbsp;&nbsp;&nbsp;&nbsp;&nbsp;&nbsp;&nbsp;&nbsp;&nbsp;&nbsp;&nbsp;&nbsp;&nbsp;&nbsp;HTML-FORMATTED MESSAGE BELOW\\n\\n\\n\\nThe remainder of this message is in HTML format for use by email\\n\\nclients that can properly display it.   If you are seeing this message,\\n\\nit is because your email client cannot properly display HTML.  You can\\n\\nignore the HTML code you will see below.\\n\\n\\n\\n\\n\\n\\n\\n\\n\\n\\n\\n\\n\\n\\n\\n\\n\\n\\n\\n -->\\n\\n<head>\\n\\n\\t<title>Your Membership Community & Commentary, 06-29-01</title>\\n\\n</head>\\n\\n<body bgcolor=\\\"#ffffff\\\" leftmargin=\\\"0\\\" topmargin=\\\"0\\\" marginwidth=\\\"0\\\" marginheight=\\\"0\\\">\\n\\n<IMG SRC=\\\"http://ccprod.roving.com/roving/sa/o.jsp?id=bd7n7877.6w8clu67&o=http://ccprod.roving.com/roving/images/p1x1.gif\\\" WIDTH=1 HEIGHT=1 alt=\\\" \\\">\\n\\n<!--  Do NOT delete previous line if you want to get statistics on the number of opened emails  -->\\n\\n<center>\\n\\n<table border=\\\"1\\\" bordercolor=\\\"#003366\\\" cellpadding=\\\"0\\\" cellspacing=\\\"0\\\" width=\\\"610\\\">\\n\\n<tr>\\n\\n\\t<td>\\n\\n<table border=\\\"0\\\" cellpadding=\\\"0\\\" cellspacing=\\\"0\\\" width=\\\"100%\\\">\\n\\n<!-- Begin Logo Include -->\\n\\n\\n\\n<!-- START CONDITIONAL HTML HIDING \\n\\n \\n\\n<tr>\\n\\n\\t<td colspan=\\\"2\\\" align=\\\"center\\\"><img src=\\\"\\\" border=\\\"0\\\" alt=\\\"Your Membership Newsletter Services\\\"></td>\\n\\n</tr>\\n\\n \\n\\n END OF CONDITIONAL HTML HIDING --> \\n\\n \\n\\n<!-- End Logo Include -->\\n\\n<tr>\\n\\n\\t<td colspan=\\\"2\\\" align=\\\"center\\\" valign=\\\"middle\\\" bgcolor=\\\"#668ABE\\\" height=\\\"60\\\"><font face=\\\"Georgia,'Times New Roman',Times,serif\\\" size=\\\"6\\\" color=\\\"#ffffff\\\">Your Membership Community & Commentary</font></td>\\n\\n</tr>\\n\\n<tr>\\n\\n\\t<td align=\\\"left\\\">&nbsp;&nbsp;<font size=\\\"2\\\" face=\\\"Verdana,Arial,Helvetica\\\" color=\\\"#003366\\\"><b>It's All About Making Money</b></font></td>\\n\\n\\t<td align=\\\"right\\\"><font size=\\\"2\\\" face=\\\"Verdana,Arial,Helvetica\\\" color=\\\"#003366\\\"><b>June 29, 2001</b></font>&nbsp;&nbsp;</td>\\n\\n</tr>\\n\\n</table>\\n\\n<p>\\n\\n<table border=\\\"0\\\" cellpadding=\\\"0\\\" cellspacing=\\\"0\\\" width=\\\"100%\\\">\\n\\n<tr>\\n\\n\\t<td width=\\\"190\\\" bgcolor=\\\"#EEEEDF\\\" align=\\\"center\\\" valign=\\\"top\\\">\\n\\n\\t<!-- Begin Table of Contents Header Table -->\\n\\n\\t\\t<table border=\\\"1\\\" bordercolor=\\\"#003366\\\" cellpadding=\\\"2\\\" cellspacing=\\\"0\\\" width=\\\"190\\\">\\n\\n\\t\\t<tr>\\n\\n\\t\\t\\t<td bgcolor=\\\"#ffffff\\\" align=\\\"center\\\" valign=\\\"top\\\">\\n\\n\\t\\t\\t<font face=\\\"Georgia,'Times New Roman',Times,serif\\\" size=\\\"3\\\" color=\\\"#003366\\\">\\n\\n\\t\\t\\t<b>in this issue</b>\\n\\n\\t\\t\\t</font>\\n\\n\\t\\t\\t</td>\\n\\n\\t\\t</tr>\\n\\n\\t\\t</table>\\n\\n\\t<!-- End Table of Contents Header Table -->\\n\\n\\t\\n\\n\\t<!-- Begin Article Headlines Table -->\\n\\n\\t\\t<table border=\\\"0\\\" cellpadding=\\\"2\\\" cellspacing=\\\"0\\\" width=\\\"190\\\">\\n\\n\\t\\t<tr>\\n\\n\\t\\t\\t<td bgcolor=\\\"#DBE8F4\\\" align=\\\"center\\\" valign=\\\"top\\\">\\n\\n\\t\\t\\t<font size=\\\"2\\\" face=\\\"Verdana,Arial,Helvetica\\\" color=\\\"#003366\\\"><b>\\n\\n\\t\\t\\t<br><a href=\\\"#article1\\\">32 Easy Ways To Breath New Life Into Any Webpage</a>\\n\\n\\t\\t\\t<p><a href=\\\"#article2\\\">Member Showcase</a>\\n\\n\\t\\t\\t<p><a href=\\\"#article3\\\">Are You Ready For Your 15 Minutes of Fame?</a>\\n\\n\\t\\t\\t<p><a href=\\\"#article4\\\">Win A FREE Ad In Community & Commentary</a>\\n\\n\\t\\t\\t<p><a href=\\\"#article5\\\"></a>\\n\\n\\t\\t    <br><br></font>\\n\\n\\t\\t    </td>\\n\\n\\t\\t</tr>\\n\\n\\t\\t<tr>\\n\\n\\t\\t\\t<td bgcolor=\\\"#003366\\\" align=\\\"center\\\" valign=\\\"top\\\"><br></td>\\n\\n\\t\\t</tr>\\n\\n\\t\\t</table>\\n\\n    <!-- End Article Headlines Table -->\\n\\n\\n\\n    <!-- PROMOTION START -->\\n\\n\\t\\t<font size=\\\"2\\\" face=\\\"Verdana,Arial,Helvetica\\\" color=\\\"#003366\\\">\\n\\n\\t\\t<br><b>Today's Special Announcement:</b><br>\\n\\n\\t\\t<!-- Promotion Image -->\\n\\n\\t\\t<br>\\n\\n\\t\\t<br>We can help you become an Internet Service <br>provider within 7 days or we will give you $100.00!!\\n\\n<br><a href=\\\"http://www.SELLinternetACCESS.com\\\">Click Here</a>\\n\\n<br>We have already signed 300 ISPs on a 4 year contract, \\n\\n<br>see if any are in YOUR town at:\\n\\n<br><a href=\\\"http://www.Find-Local-ISP.com\\\">Click Here</a>\\n\\n<br>&nbsp;<p>\\n\\n<br>&nbsp;<p>\\n\\nYou are a member in at least one of these programs \\n\\n- You should be in them all! <br>\\n\\n<a href=\\\"http://www.BannersGoMLM.com\\\"> BannersGoMLM.com </a>\\n\\n<br><a href=\\\"http://www.ProfitBanners.com\\\"> ProfitBanners.com </a>\\n\\n<br><a href=\\\"http://www.CashPromotions.com\\\"> CashPromotions.com </a>\\n\\n<br><a href=\\\"http://www.MySiteInc.com\\\"> MySiteInc.com </a>\\n\\n<br><a href=\\\"http://www.TimsHomeTownStories.com\\\"> TimsHomeTownStories.com </a>\\n\\n<br><a href=\\\"http://www.FreeLinksNetwork.com\\\"> FreeLinksNetwork.com </a>\\n\\n<br><a href=\\\"http://www.MyShoppingPlace.com\\\"> MyShoppingPlace.com </a>\\n\\n<br><a href=\\\"http://www.BannerCo-op.com\\\"> BannerCo-op.com </a>\\n\\n<br><a href=\\\"http://www.PutPEEL.com\\\"> PutPEEL.com </a>\\n\\n<br><a href=\\\"http://www.PutPEEL.net\\\"> PutPEEL.net </a>\\n\\n<br><a href=\\\"http://www.SELLinternetACCESS.com\\\"> SELLinternetACCESS.com </a>\\n\\n<br><a href=\\\"http://www.Be-Your-Own-ISP.com\\\"> Be-Your-Own-ISP.com </a>\\n\\n<br><a href=\\\"http://www.SeventhPower.com\\\"> SeventhPower.com </a><p>\\n\\n        <br><br>\\n\\n\\t\\t</font>\\n\\n    <!-- PROMOTION END -->\\n\\n\\t</td>\\n\\n\\t<td rowspan=\\\"2\\\" width=\\\"420\\\" valign=\\\"top\\\">\\n\\n\\t<!-- Begin Greeting and Intro paragraph -->\\n\\n\\t\\t<table border=\\\"0\\\" cellpadding=\\\"2\\\" cellspacing=\\\"0\\\" width=\\\"100%\\\">\\n\\n\\t\\t<tr>\\n\\n\\t\\t\\t<td bgcolor=\\\"#ffffff\\\" valign=\\\"top\\\">&nbsp;&nbsp;</td>\\n\\n\\t\\t\\t<td bgcolor=\\\"#ffffff\\\" valign=\\\"top\\\">\\n\\n            <font size=\\\"2\\\" face=\\\"Verdana,Arial,Helvetica\\\">\\n\\n            <b></b>\\n\\n\\t\\t\\t<br>Information to provide you with the absolute \\n\\n<br>best low and no cost ways of providing traffic \\n\\n<br>to your site, helping you to capitalize on the power <br>and potential the web brings to every Net-Preneur. <br>\\n\\n--- This Issue Contains Sites Who Will Trade Links With You! --- <br>\\n\\n\\t\\t\\t<br><br></font>\\n\\n\\t\\t\\t</td>\\n\\n\\t\\t</tr>\\n\\n\\t\\t<tr>\\n\\n\\t\\t\\t<td bgcolor=\\\"#003366\\\" colspan=\\\"2\\\" height=\\\"3\\\" valign=\\\"bottom\\\"> </td>\\n\\n\\t\\t</tr>\\n\\n\\t\\t<tr>\\n\\n\\t\\t\\t<td bgcolor=\\\"#ffffff\\\" colspan=\\\"2\\\" height=\\\"2\\\" valign=\\\"bottom\\\"> </td>\\n\\n\\t\\t</tr>\\n\\n\\t\\t<tr>\\n\\n\\t\\t\\t<td bgcolor=\\\"#003366\\\" colspan=\\\"2\\\" height=\\\"2\\\" valign=\\\"bottom\\\"> </td>\\n\\n\\t\\t</tr>\\n\\n\\t\\t</table>\\n\\n\\t<!-- End Greeting and Intro paragraph -->\\n\\n\\t\\n\\n\\t<!-- Begin Article Table -->\\n\\n\\t\\t<table border=\\\"0\\\" cellpadding=\\\"4\\\" cellspacing=\\\"0\\\" width=\\\"100%\\\">\\n\\n         <tr><td bgcolor=\\\"#ffffff\\\" colspan=\\\"2\\\" valign=\\\"top\\\"><a name=\\\"article1\\\"></a><font size=\\\"2\\\" face=\\\"Verdana,Arial,Helvetica\\\" color=\\\"#003366\\\"><li><b>32 Easy Ways To Breath New Life Into Any Webpage</b></font></td></tr><tr><td bgcolor=\\\"#ffffff\\\" valign=\\\"top\\\">&nbsp;&nbsp;</td><td bgcolor=\\\"#ffffff\\\" valign=\\\"top\\\"><font size=\\\"2\\\" face=\\\"Verdana,Arial,Helvetica\\\"><p>&nbsp;&nbsp;&nbsp;&nbsp;&nbsp; It's true.\\n\\n<p>Ask the CEOs of Yahoo.com and America Online.&nbsp; They'll\\n\\n<br>tell you it's true.&nbsp; Send an email to Terry Dean or Allen\\n\\n<br>Says or Jim Daniels and ask them about it.&nbsp; They'll agree\\n\\n<br>100% that it's true.&nbsp; Don't just take my word for it.\\n\\n<p>In fact, you can contact any of the 10,000 folks online\\n\\n<br>selling web marketing resources, and they will all tell you\\n\\n<br>emphatically, without question, no doubts whatsoever, that\\n\\n<br>it is absolutely true.\\n\\n<p>It's true. ANYONE can earn a living online.&nbsp; Really, they\\n\\n<br>can.&nbsp; But, it takes several very important components to\\n\\n<br>join the 5% who are successful on the web.\\n\\n<p>&nbsp;&nbsp;&nbsp;&nbsp; One of those necessities is a website.\\n\\n<p>&nbsp;&nbsp;&nbsp;&nbsp; Now, your website does one of two things...\\n\\n<p>&nbsp;&nbsp;&nbsp;&nbsp; ...it either makes the sale, or it doesn't.\\n\\n<p>For 95% of online businesses, their websites simply do\\n\\n<br>not produce results.\\n\\n<p>And there is a very simple reason for poor performance.\\n\\n<br>Poor sales letters.\\n\\n<p>Does your website convince people to make a purchase?\\n\\n<br>If not, here are 32 easy ways to breathe new life into\\n\\n<br>your sales letter...\\n\\n<p>1) Write your sales letter with an individual in mind.\\n\\n<br>Go ahead and pick out someone, a real person to write your\\n\\n<br>sales letter to.&nbsp; Doesn't matter if it is grandma or your\\n\\n<br>next door neighbor or your cat.&nbsp; Write your sales letter\\n\\n<br>just like you are writing it to them personally.&nbsp; Why?\\n\\n<br>Because when your potential customer reads, it then it will\\n\\n<br>seem personal, almost like you wrote it with them in mind.\\n\\n<br>Too often, sales letters are written as if they were going\\n\\n<br>to be read to an audience rather than one person.&nbsp; Keep your\\n\\n<br>sales letters personal, because one person at a time is\\n\\n<br>going to read them.\\n\\n<p>2) Use an illustration to get your point across.&nbsp; In my\\n\\n<br>sales letters I have told stories about my car stalling on\\n\\n<br>the side of the road to illustrate the idea that we must\\n\\n<br>constantly add the fuel of advertising to keep our\\n\\n<br>businesses running. I have compared the hype of easily\\n\\n<br>making millions online to the chances of me riding bareback\\n\\n<br>across Montana on a grizzly bear.&nbsp; Leads have read of how\\n\\n<br>getting to the top of an oak tree relates to aggressively\\n\\n<br>marketing online. People love a good story that pounds home\\n\\n<br>a solid message.&nbsp; Tell stories that illustrate a point you\\n\\n<br>are trying to make.&nbsp; Emphasize a benefit by sharing an\\n\\n<br>account from the \\\"real world.\\\"&nbsp; It effectively creates\\n\\n<br>interest and further establishes the point.\\n\\n<p>3) Create an interest in the reader from the very first\\n\\n<br>line.&nbsp; Your first line of the sales letter should\\n\\n<br>immediately create a desire in the reader to want to know\\n\\n<br>more.&nbsp; Go back to the beginning of this article.&nbsp; The first\\n\\n<br>words were, \\\"It's true.\\\"&nbsp; I can guarantee you that either\\n\\n<br>consciously or subconsciously you thought \\\"What's true?\\\"\\n\\n<br>Immediately, your mind wanted to know what I was talking\\n\\n<br>about.&nbsp; Before you even knew it you were right here, 8\\n\\n<br>paragraphs into this article.&nbsp; Carefully craft your first\\n\\n<br>line.&nbsp; If you can immediately get them wanting to know more,\\n\\n<br>you've got a winner.\\n\\n<p>4) Use bullets. People spend a lot of time reading bulleted\\n\\n<br>lists. In fact, they often reread them over and over. Use\\n\\n<br>bulleted lists to stress the benefits of your product or\\n\\n<br>service, to spell out exactly what is included in your offer.\\n\\n<br>Use an extra space in between each bullet to really highlight\\n\\n<br>each line and create a sense of more length to the list.\\n\\n<p>5) Launch into a bullet list immediately.&nbsp; Shortly after\\n\\n<br>your opening line, immediately give the reader a bullet\\n\\n<br>list of benefits to absorb.&nbsp; Hit them with your best shot.\\n\\n<br>Pull out the big guns and stress \\\"just a few of\\\" the most\\n\\n<br>important things the reader will discover.&nbsp; By offering a\\n\\n<br>killer list early in your sales letter, you will automatically\\n\\n<br>create a desire in the reader to continue through your ad\\n\\n<br>copy.&nbsp; After all, if they are already interested after the\\n\\n<br>first list of benefits, they will certainly be open to\\n\\n<br>finding out even more reasons why your product or service\\n\\n<br>will aid them.\\n\\n<p>6) Just let it all flow out.&nbsp; Write down everything that\\n\\n<br>enters your mind as you are writing your sales letter. You\\n\\n<br>can edit it later.&nbsp; If you just sit and start writing\\n\\n<br>everything you know about your product or service and how it\\n\\n<br>will benefit your customer, you will be amazed at how much\\n\\n<br>information floods your mind.&nbsp; Write it ALL down.&nbsp; Then read\\n\\n<br>through it - you'll be able to add a lot more detail to\\n\\n<br>many of the points.&nbsp; Edit it after you have exhausted all\\n\\n<br>of your ideas.\\n\\n<p>7) Make your sales letter personal.&nbsp; Make sure that the\\n\\n<br>words \\\"you\\\" and \\\"your\\\" are at least 4:1 over \\\"I\\\" and \\\"my.\\\"\\n\\n<br>Your ad copy must be written about YOUR CUSTOMER not\\n\\n<br>yourself.&nbsp; I'm not sure how the old advertising adage goes,\\n\\n<br>but it's something like this, \\\"I don't care a thing about\\n\\n<br>your lawn mower, I just care about my lawn.\\\"&nbsp; Leads aren't\\n\\n<br>interested in you or your products, they are interested in\\n\\n<br>themselves and their wants and needs.&nbsp; When you are finished\\n\\n<br>with your sales letter and have uploaded it to a test\\n\\n<br>webpage, run a check at http://www.keywordcount.com and see\\n\\n<br>what the ratio between \\\"you\\\" and \\\"your\\\" versus references to\\n\\n<br>\\\"I,\\\" \\\"me,\\\" \\\"my,\\\" etc.&nbsp; It's a free service.&nbsp; Make sure it's\\n\\n<br>at least 4:1 in favor of the customer.\\n\\n<p>8) Write like you speak.&nbsp; Forget all of those rules that\\n\\n<br>your grammar teacher taught you.&nbsp; Write your sales letters\\n\\n<br>in everyday language, just like you would talk in person.\\n\\n<br>Don't be afraid to begin sentences with \\\"And\\\" or \\\"Because.\\\"\\n\\n<br>Don't worry about ending a sentence with a preposition.\\n\\n<br>Write like you speak. Your sales letter isn't the great\\n\\n<br>American novel, so don't write it like you are Ernest\\n\\n<br>Hemingway.\\n\\n<p>9) Use short paragraphs consisting of 2-4 sentences each.\\n\\n<br>Long copy works... but long paragraphs do not.&nbsp; Use short\\n\\n<br>paragraphs that lead into the next paragraph. Don't be\\n\\n<br>afraid to use short sentences.&nbsp; Like this one.\\n\\n<p>Or this.\\n\\n<p>See what I mean?&nbsp; Shorter paragraphs keep the interest of\\n\\n<br>the reader. Longer paragraphs cause eye strain and often\\n\\n<br>force the reader to get distracted.\\n\\n<p>10)&nbsp; Stress the benefits, not the features.&nbsp; Again,\\n\\n<br>readers want the burning question answered, \\\"What's in it\\n\\n<br>for&nbsp; me?\\\"&nbsp; What need is it going to meet? What want is it\\n\\n<br>going to fill?&nbsp; How is your product or service going to be\\n\\n<br>of value or benefit to the reader?&nbsp; Spell it out.&nbsp; Don't\\n\\n<br>focus on the features of your product or service , but\\n\\n<br>rather how those features will add value to the life of your\\n\\n<br>reader.\\n\\n<p>For example:&nbsp; If you are selling automobile tires, you may\\n\\n<br>very well have the largest assortment of tires in the world,\\n\\n<br>but who cares? I don't care about your selection. But, I\\n\\n<br>do care about keeping my 3-month-old baby girl safe while\\n\\n<br>we are traveling.&nbsp; So, instead of focusing on your selection,\\n\\n<br>you focus on the fact that my baby girl can be kept safe\\n\\n<br>because you have a tire that will fit my car. You're not\\n\\n<br>selling tires, you're selling safety for my family. Stress\\n\\n<br>the benefits, not the features.\\n\\n<p>11) Keep the reader interested.&nbsp; Some sales letters read\\n\\n<br>like they are a manual trying to explain to me how I can\\n\\n<br>perform some complicated surgery on my wife. They are\\n\\n<br>filled with words and phrases that I need a dictionary to\\n\\n<br>understand.&nbsp; Unless you are writing to a very targeted\\n\\n<br>audience, avoid using technical language that many readers\\n\\n<br>might not understand. Keep it simple, using words, language\\n\\n<br>and information that are easy to understand and follow.\\n\\n<p>12) Target your sales letter.&nbsp; When you are finished with\\n\\n<br>your final draft of the sales letter, target it to a\\n\\n<br>specific audience.&nbsp; For example: If you are selling a \\\"work\\n\\n<br>at home\\\" product, then rewrite the sales letter by adding\\n\\n<br>words in the headlines and ad copy that are targeted towards\\n\\n<br>women who are homemakers.&nbsp; Then, rewrite the same sales\\n\\n<br>letter and target it to college students.&nbsp; Write another\\n\\n<br>letter targeting senior citizens.&nbsp; Still another could be\\n\\n<br>written to high school teachers wanting to earn extra income\\n\\n<br>during summer vacation.&nbsp; The possibilities are endless.\\n\\n<p>All you need to do is add a few words here and there in\\n\\n<br>your ad copy to make it appear that your product or service\\n\\n<br>is specifically designed for a target audience. \\\"Work only\\n\\n<br>5 hours a week,\\\" would become \\\"College Students, work only\\n\\n<br>5 hours a week.\\\"&nbsp; Your sales letter is now targeted. Upload\\n\\n<br>all of the sales letters to separate pages on your website\\n\\n<br>(you could easily target 100's of groups).\\n\\n<p>Then, simply advertise the targeted pages in targeted\\n\\n<br>mediums.&nbsp; You could advertise the \\\"College Students\\\" page\\n\\n<br>in a campus ezine.&nbsp; The \\\"Senior Citizens\\\" page could be\\n\\n<br>advertised at a retirement community message board.\\n\\n<p>By creating these targeted sales letters, you can literally\\n\\n<br>open up dozens of new groups to sell your existing product\\n\\n<br>to.&nbsp; And, in their eyes, it looks like the product was a\\n\\n<br>match made for them.\\n\\n<p>13) Make your ad copy easy to follow.&nbsp; Use short sentences\\n\\n<br>and paragraphs. Break up the sales letter with attention\\n\\n<br>grabbing headlines that lead into the next paragraph. One\\n\\n<br>thing that I have always found to work very well in sales\\n\\n<br>letters...\\n\\n<p>&nbsp;&nbsp;&nbsp;&nbsp; ...is to use a pause like this.\\n\\n<p>Start the sentence on one line, leaving the reader wanting\\n\\n<br>to know more, and then finishing up on the next line. Also,\\n\\n<br>if you are going to use a sales letter that continues on\\n\\n<br>several different pages of your website, use a catchy hook\\n\\n<br>line at the end of each page to keep them clicking. \\\"Let's\\n\\n<br>get you started down the road to success, shall we? CLICK\\n\\n<br>HERE to continue.\\\"\\n\\n<p>14) Use similes and metaphors for effect.&nbsp; When the\\n\\n<br>customer purchases your product, they will generate \\\"a flood\\n\\n<br>of traffic that would make Noah start building another ark.\\\"\\n\\n<br>If they do not order today, then they will \\\"feel like a cat\\n\\n<br>that let the mouse get away.\\\"&nbsp; Use words to create a picture\\n\\n<br>in the readers' mind.&nbsp; When you think of Superman, what\\n\\n<br>comes to mind?&nbsp; Immediately, we remember that he is \\\"faster\\n\\n<br>than a speeding bullet.\\\"&nbsp; \\\"More powerful than a locomotive.\\\"\\n\\n<br>\\\"Able to leap tall buildings in a single bound.\\\" See how\\n\\n<br>word pictures stick in our minds?\\n\\n<p>15) Focus on one product or service.&nbsp; Don't try to sell\\n\\n<br>your customer multiple products at the same time. It only\\n\\n<br>confuses the reader.&nbsp; Keep your ad copy directed at one\\n\\n<br>specific product or service.&nbsp; Then, use other products and\\n\\n<br>services as back-end products.\\n\\n<p>16) Make it stand out.&nbsp; Don't kid yourself.&nbsp; There are\\n\\n<br>hundreds, maybe thousands out there on the web doing the\\n\\n<br>same thing you are doing.&nbsp; How will you stand out among the\\n\\n<br>crowd?&nbsp; Your sales letter must inject personality. It must\\n\\n<br>breathe of originality.&nbsp; Your product or service is\\n\\n<br>different. It's not like all of the rest.&nbsp; It is unique.\\n\\n<br>Right? Your sales letter must separate you from the\\n\\n<br>competition.&nbsp; It must create a feeling of \\\"You won't find\\n\\n<br>this anywhere else.\\\"\\n\\n<p>17) Be believable. \\\"Earn $54,000 in the next 24 hours!!!\\\"\\n\\n<br>Delete.&nbsp; Good grief, do they think I am an idiot or\\n\\n<br>something?&nbsp; Get real.&nbsp; Don't make outrageous claims that\\n\\n<br>are obviously not the truth.&nbsp; You'll ruin your reputation.\\n\\n<br>Let me tell you a simple universal fact that cannot be\\n\\n<br>reversed.&nbsp; Once you have been branded a liar, you will\\n\\n<br>NEVER be anything but a liar.&nbsp; It doesn't matter if you\\n\\n<br>launch the most respectable, honest business available\\n\\n<br>anywhere, people will always have doubt because they\\n\\n<br>remember the crazy stuff you've said before.&nbsp; Be believable.\\n\\n<br>Don't exaggerate, mislead, stretch or distort the truth.\\n\\n<p>18) Be specific. Don't generalize your information, but\\n\\n<br>rather be EXACT.&nbsp; Instead of \\\"over 100 tips for losing\\n\\n<br>weight\\\" use \\\"124 tips for losing weight.\\\" By generalizing\\n\\n<br>information, it creates doubt and questions in the reader's\\n\\n<br>mind.&nbsp; \\\"What am I really getting here?&nbsp; Does he even know?\\\"\\n\\n<br>When you use specific information, the reader begins to\\n\\n<br>think, \\\"This person must have counted.&nbsp; I know exactly what\\n\\n<br>I can expect.\\\"&nbsp; \\\"Platitudes and generalities roll off the\\n\\n<br>human understanding like water from a duck,\\\" wrote Claude\\n\\n<br>Hopkins in his classic book \\\"Scientific Advertising.\\\" \\\"They\\n\\n<br>leave no impression whatsoever.\\\"\\n\\n<p>19) Be complete. Tell the reader everything they would\\n\\n<br>want to know about your product or service.&nbsp; Answer all of\\n\\n<br>their questions, anything they would want to consider before\\n\\n<br>making a purchase.&nbsp; Think about it from their point of view.\\n\\n<br>Ask yourself, \\\"Why wouldn't I buy this?\\\"&nbsp; Then, address that\\n\\n<br>in your sales letter.&nbsp; Remove anything that would keep the\\n\\n<br>reader from making the purchase.\\n\\n<p>20) Use testimonials to boost your sales.&nbsp; Share actual\\n\\n<br>excerpts from what your current customers are saying about\\n\\n<br>your product or service. Many websites have an entire\\n\\n<br>section or even a separate page that has endorsements and\\n\\n<br>compliments listed.&nbsp; Satisfied customers remove some of the\\n\\n<br>doubt in the mind of the reader.&nbsp; \\\"If these people have\\n\\n<br>found a lot of value and benefit in the product, then I\\n\\n<br>probably will too.\\\"&nbsp; Especially effective are testimonials\\n\\n<br>from respected, well known \\\"authorities\\\" within your target\\n\\n<br>field.\\n\\n<p>21) Use headlines over and over throughout the sales letter.\\n\\n<br>A headline isn't just relegated to the beginning of your\\n\\n<br>ad copy.&nbsp; Use them frequently -but don't overuse.&nbsp; A well-\\n\\n<br>placed headline re-grabs the reader's attention, brings\\n\\n<br>them deeper into the letter, and readies them for the next\\n\\n<br>paragraph. You will want to spend as much time working on\\n\\n<br>your headlines as you do the entire sales letter.&nbsp; They are\\n\\n<br>that important.\\n\\n<p>22) Avoid asking stupid questions.&nbsp; \\\"Wouldn't you like to\\n\\n<br>make $1,000,000 a year?\\\" \\\"Doesn't that sound great?\\\" \\\"Would\\n\\n<br>you like to be as successful as I am?\\\"&nbsp; Avoid any question\\n\\n<br>that insults the intelligence of your reader or makes them\\n\\n<br>feel like they are inferior.\\n\\n<p>23) Offer a freebie even if the customer doesn't buy.\\n\\n<br>If the customer decides he or she isn't going to make a\\n\\n<br>purchase, then you want to follow-up with them later to try\\n\\n<br>to influence them to buy in the future.&nbsp; By offering a free\\n\\n<br>item, you can&nbsp; request their email address in order to\\n\\n<br>obtain the freebie.&nbsp; By doing this, you can now follow-up\\n\\n<br>with the customer for a potential future sale.\\n\\n<br>Additionally, you can continue the sales process by having\\n\\n<br>your ad copy, banners, flyers, etc. within the free item.\\n\\n<br>And, of course, if your free item is a high quality, useful\\n\\n<br>product or service which impresses the customer, they\\n\\n<br>probably will be back as a customer soon.\\n\\n<p>24) Use bonuses to overwhelm the reader.&nbsp; One of the things\\n\\n<br>that I have found very effective in writing sales letters\\n\\n<br>is to include bonus items that OUT-VALUE the actual product\\n\\n<br>I am offering.&nbsp; Ginsu made this one famous. They were\\n\\n<br>selling a set of steak knives, but before the commercial\\n\\n<br>was finished, you had so many bonus items on the table\\n\\n<br>it was hard to refuse. Make sure you provide quality\\n\\n<br>bonuses and not some worthless, outdated junk that damages\\n\\n<br>the credibility of your main offer.\\n\\n<p>25) Use connective phrases like \\\"But wait, there's more\\\"\\n\\n<br>and \\\"But that's not all.\\\"&nbsp; These phrases effectively lead\\n\\n<br>the reader from one paragraph to the next, particularly\\n\\n<br>when the next paragraph is a bullet list of benefits, or\\n\\n<br>leads into bonus items.&nbsp; Again, the idea is MORE and MORE\\n\\n<br>value and benefits to the reader.\\n\\n<p>26) Always include a deadline.&nbsp; By including a deadline,\\n\\n<br>you create a sense of urgency in the mind of the customer.\\n\\n<br>\\\"If I don't order within 24 hours, then I won't get the\\n\\n<br>bonuses.\\\"&nbsp; \\\"Oh no, there are only 10 items remaining,\\n\\n<br>I've got to hurry.\\\"&nbsp; Let the customer know what they will\\n\\n<br>be missing out on if they don't make the deadline. Remember,\\n\\n<br>they won't miss out on your products or bonuses, they will\\n\\n<br>miss out on all of the benefits of your products. Deadlines\\n\\n<br>are very effective.&nbsp; Every sales letter should have one.\\n\\n<p>27) Tell them exactly how to order.&nbsp; Be clear as to the\\n\\n<br>order process. Point them towards the order link.&nbsp; Tell\\n\\n<br>them what methods you offer. (I.E. credit cards, checks,\\n\\n<br>etc.)&nbsp; Make this process as simple and clear as can be.\\n\\n<br>If it takes more than 2 steps, most people won't continue.\\n\\n<p>28)&nbsp; Explain when the product will be delivered.&nbsp; How\\n\\n<br>quickly will the order be processed?&nbsp; When will the order be\\n\\n<br>available?&nbsp; Let the customer know exactly what they can\\n\\n<br>expect when they place their order.&nbsp; The more specific you\\n\\n<br>can be here, the better.&nbsp; Let them know that you have a\\n\\n<br>system in place.&nbsp; \\\"Operators are standing by.\\\"&nbsp; Their order\\n\\n<br>will be handled properly.&nbsp; Tell them.\\n\\n<p>29) Offer a money back guarantee.&nbsp; Take away their last\\n\\n<br>reason to hold back.&nbsp; Offer a \\\"no questions asked\\\" 30 day\\n\\n<br>guarantee.&nbsp; Most people may not realize this, but in most\\n\\n<br>cases, it's the law of the land.&nbsp; You are REQUIRED to give\\n\\n<br>them their money back if they are not satisfied with the\\n\\n<br>product or service.&nbsp; Since it's the law anyway, why not make\\n\\n<br>it a benefit. Let them know that they are purchasing your\\n\\n<br>product or service RISK-FREE.\\n\\n<p>30) Instruct them to respond immediately.&nbsp; Many people\\n\\n<br>just need to read those words, \\\"Act Now!\\\"&nbsp; \\\"Order today!\\\"\\n\\n<br>\\\"Click Here to Instantly Place Your Order.\\\"&nbsp; You've got them\\n\\n<br>this far, now tell them what you want them to do.&nbsp; Get them\\n\\n<br>to \\\"Act Fast!\\\"&nbsp; Have you ever heard a mail order commercial\\n\\n<br>on television that didn't prompt the viewer to order right\\n\\n<br>way?\\n\\n<p>31) Include a post script.&nbsp; People will always read the\\n\\n<br>P.S.&nbsp; Always. In fact, the P.S. is one of the MOST IMPORTANT\\n\\n<br>parts of your sales letter. Why?&nbsp; Because in many cases the\\n\\n<br>visitor at your website will scroll immediately down to the\\n\\n<br>end of your page to see how much it is going to cost.&nbsp; A\\n\\n<br>P.S. is a perfect place to recap your offer, so when they\\n\\n<br>see your price tag, they will also see a very detailed\\n\\n<br>description of what they will receive for their money. Use\\n\\n<br>your P.S. to restate your offer in detail.\\n\\n<p>32) Include a second post script.&nbsp; You better believe\\n\\n<br>if they read the first P.S., they will read a P.P.S.&nbsp; Use\\n\\n<br>this post script to remind them of the deadline or offer\\n\\n<br>another bonus or point out some compelling factor that would\\n\\n<br>make them want to order.&nbsp; I guarantee you they will read it.\\n\\n<p>Use these 32 tips and I guarantee you that you will see\\n\\n<br>a significant increase in the amount of responses you\\n\\n<br>receive from your sales letters.&nbsp; In fact, it would be\\n\\n<br>impossible for your responses to not improve.\\n\\n<br>&nbsp;\\n\\n<p>Copyright 2000 Jimmy D. Brown. All rights reserved worldwide.\\n\\n<br>-------------------------------------\\n\\n<br>About the Author...\\n\\n<p>Jimmy D. Brown is helping average people get out of\\n\\n<br>the rat-race and earn a full-time living online. For\\n\\n<br>more details on firing your boss and creating your\\n\\n<br>own internet wealth, visit us right now at:\\n\\n<p><a href=\\\"http://www.roibot.com/w.cgi?R18328_privatevault\\\">http://www.roibot.com/w.cgi?R18328_privatevault</a>\\n\\n<p>* Special offer: Join the Profits Vault through the above\\n\\n<br>link and email me your receipt and you can have a FREE BONUS\\n\\n<br>copy of The Terrific Manual - How To Profit From Free\\n\\n<br>Ebooks GUARANTEED which I sell at:\\n\\n<p><a href=\\\"http://www.businessmarketinginformation.com/ebookmarketing/\\\">http://www.businessmarketinginformation.com/ebookmarketing/</a><br><p></font></td></tr><tr><td bgcolor=\\\"#003366\\\" colspan=\\\"2\\\" valign=\\\"bottom\\\"> </td></tr> \\n\\n         <tr><td bgcolor=\\\"#DBE8F4\\\" colspan=\\\"2\\\" valign=\\\"top\\\"><a name=\\\"article2\\\"></a><font size=\\\"2\\\" face=\\\"Verdana,Arial,Helvetica\\\" color=\\\"#003366\\\"><li><b>Member Showcase</b></font></td></tr><tr><td bgcolor=\\\"#DBE8F4\\\" valign=\\\"top\\\">&nbsp;&nbsp;</td><td bgcolor=\\\"#DBE8F4\\\" valign=\\\"top\\\"><font size=\\\"2\\\" face=\\\"Verdana,Arial,Helvetica\\\"><p><i>Examine carefully - Those with email addresses included WILL</i>\\n\\n<br><i>TRADE LINKS with you... You are encouraged to contact them.</i>\\n\\n<br><i>There Are Many Ways To Build A Successful Business - Just look at</i>\\n\\n<br><i>these successful sites &amp; programs other members are involved\\n\\nin...</i>\\n\\n<br>---------------------------------------------------------------------\\n\\n<p>Affiliates of the World!\\n\\n<br>Top rated affiliate programs, excellent business opportunities,\\n\\n<br>great marketing resources and free advertising for you!\\n\\n<br>Visit the site to trade links. <a href=\\\"http://www.affiliates.uk.com\\\">http://www.affiliates.uk.com</a>\\n\\n<br>Trade Links - <a href=\\\"mailto:adrianbold@affiliates.uk.com\\\">adrianbold@affiliates.uk.com</a>\\n\\n<br>---------------------------------------------------------------------\\n\\n<p>Get INSANE amounts of traffic to your website.\\n\\n<br>Purchase 10,000 Guaranteed Visitors to your site\\n\\n<br>and receive 5,000 free. MORE TRAFFIC = MORE MONEY!\\n\\n<br>Less than 2cents a visitor.&nbsp; Space is limited.\\n\\n<br>Order Now! <a href=\\\"http://www.freepicklotto.com\\\">http://www.freepicklotto.com&nbsp;</a>\\n\\n<br>Trade Links - <a href=\\\"mailto:businessopps@aol.com\\\">businessopps@aol.com</a>\\n\\n<br>---------------------------------------------------------------------\\n\\n<p>Celebration Sale!\\n\\n<br>$99.00 on Casinos/Sportsbetting sites, Lingerie stores,\\n\\n<br>Gift Stores, Adult Sites &amp; Toy Stores.\\n\\n<br>Mention Ad#BMLM99 to receive this special sale price.\\n\\n<br>Order Now!\\n\\n<br><a href=\\\"http://www.cyberopps.com/?=BMLM99\\\">http://www.cyberopps.com/?=BMLM99</a>\\n\\n<br>---------------------------------------------------------------------\\n\\n<p>JUST BEEN RELEASED!!\\n\\n<br>Internet Marketing guru Corey Rudl has just released a\\n\\n<br>BRAND NEW VERSION of his #1 best-selling Internet Marketing\\n\\n<br>Course,\\\"The Insider Secret's to Marketing Your Business on\\n\\n<br>the Internet\\\". A MUST HAVE! So don't hesitate,\\n\\n<br>visit.. <a href=\\\"http://www.adminder.com/c.cgi?start&bgmlmezine\\\">http://www.adminder.com/c.cgi?start&amp;bgmlmezine</a>\\n\\n<br>---------------------------------------------------------------------\\n\\n<p>We have a 260 page catalog with over 3000 gift items for men,\\n\\n<br>women, children - A gift for everyone. We show 100 gift items\\n\\n<br>on our web site alone, with the catalog&nbsp; you have access to\\n\\n<br>the rest. We also feel we have the best prices on the web.\\n\\n<br>Visit at <a href=\\\"http://www.treasuresoftomorrow.net\\\">http://www.treasuresoftomorrow.net</a>\\n\\n<br>Trade Links - <a href=\\\"mailto:george1932me@yahoo.com\\\">george1932me@yahoo.com</a>\\n\\n<br>---------------------------------------------------------------------\\n\\n<p>Stop Smoking - Free Lesson !!\\n\\n<br>Discover the Secret to Stopping Smoking.\\n\\n<br>To Master these Powerful Techniques, Come to\\n\\n<br><a href=\\\"http://www.breath-of-life.net\\\">http://www.breath-of-life.net</a>\\n\\nfor your Free Lesson.\\n\\n<br>Act Now!&nbsp; P.S. Tell someone you care about.\\n\\n<br>Trade Links - <a href=\\\"mailto:jturco3@hotmail.com\\\">jturco3@hotmail.com</a>\\n\\n<br>---------------------------------------------------------------------\\n\\n<p><i>If you have a product, service, opportunity or quality merchandise</i>\\n\\n<br><i>that appeals to people worldwide, reach your targeted audience!</i>\\n\\n<br><i>For a fraction of what other large newsletters charge you can exhibit</i>\\n\\n<br><i>your website here, and trade links for only $8 CPM.&nbsp; Compare\\n\\nthat</i>\\n\\n<br><i>to the industry average of $10-$15 CPM. Why?... Because as a</i>\\n\\n<br><i>valuable member we want you to be successful! Order today -</i>\\n\\n<br><i>Showcases are limited and published on a first come, first serve\\n\\nbasis.</i>\\n\\n<br><i>For our secure order form, click here:</i> <a href=\\\"http://bannersgomlm.com/ezine\\\">http://bannersgomlm.com/ezine</a>\\n\\n<br><br><p></font></td></tr><tr><td bgcolor=\\\"#003366\\\" colspan=\\\"2\\\" valign=\\\"bottom\\\"> </td></tr> \\n\\n\\t\\t <tr><td bgcolor=\\\"#FFFFFF\\\" colspan=\\\"2\\\" valign=\\\"top\\\"><a name=\\\"article3\\\"></a><font size=\\\"2\\\" face=\\\"Verdana,Arial,Helvetica\\\" color=\\\"#003366\\\"><li><b>Are You Ready For Your 15 Minutes of Fame?</b></font></td></tr><tr><td bgcolor=\\\"#FFFFFF\\\" valign=\\\"top\\\">&nbsp;&nbsp;</td><td bgcolor=\\\"#FFFFFF\\\" valign=\\\"top\\\"><font size=\\\"2\\\" face=\\\"Verdana,Arial,Helvetica\\\"><p>One of the items we would like to include in Community &amp;\\n\\n<br>Commentary we'll need from you! Here is your chance to\\n\\n<br>showcase your marketing strategies, and I need to hear\\n\\n<br>from everyone who would like to 'blow your own horn' and\\n\\n<br>be in the spotlight on center stage.\\n\\n<p>It's a great way to enjoy recognition and publicity for\\n\\n<br>yourself and your business, and will allow all members to\\n\\n<br>duplicate your success and avoid the same 'setbacks'.\\n\\n<p>Please include... a little background history, how you got\\n\\n<br>your start, a problem you have had and how you solved it,\\n\\n<br>your greatest success, and any advice you have for someone\\n\\n<br>beginning to market online.\\n\\n<p>Send your information to &lt;<a href=\\\"mailto:Submit@AEOpublishing.com\\\">Submit@AEOpublishing.com></a>\\n\\n<br>with 'Center Stage' in the Subject block.\\n\\n<br><br><p></font></td></tr><tr><td bgcolor=\\\"#003366\\\" colspan=\\\"2\\\" valign=\\\"bottom\\\"> </td></tr> \\n\\n\\t\\t <tr><td bgcolor=\\\"#DBE8F4\\\" colspan=\\\"2\\\" valign=\\\"top\\\"><a name=\\\"article4\\\"></a><font size=\\\"2\\\" face=\\\"Verdana,Arial,Helvetica\\\" color=\\\"#003366\\\"><li><b>Win A FREE Ad In Community & Commentary</b></font></td></tr><tr><td bgcolor=\\\"#DBE8F4\\\" valign=\\\"top\\\">&nbsp;&nbsp;</td><td bgcolor=\\\"#DBE8F4\\\" valign=\\\"top\\\"><font size=\\\"2\\\" face=\\\"Verdana,Arial,Helvetica\\\"><p>To keep this interesting, how about this, every month we'll\\n\\n<br>draw a name from the replies and that person will win one\\n\\n<br>Sponsorship Showcase ad in the Community &amp; Commentary, for FREE.\\n\\n<br>That's a value of over $700.00! Respond to each weekly survey,\\n\\n<br>and increase your chances to win with four separate entries.\\n\\n<p>&nbsp;&nbsp;&nbsp;&nbsp;&nbsp;&nbsp;&nbsp;&nbsp;&nbsp;&nbsp; QUESTION\\n\\nOF THE WEEK (06/29/01)...\\n\\n<br>&nbsp;&nbsp;&nbsp;&nbsp; No right or wrong answers, and just by answering\\n\\n<br>&nbsp;&nbsp;&nbsp;&nbsp; you are entered to win a Showcase ad - Free!\\n\\n<p>&nbsp;&nbsp;&nbsp;&nbsp; ~~~ What is the goal of your website? ~~~\\n\\n<p>&nbsp;&nbsp;&nbsp;&nbsp; Sell&nbsp;&nbsp;&nbsp;&nbsp;&nbsp;&nbsp;&nbsp;&nbsp;&nbsp;&nbsp;&nbsp;&nbsp;&nbsp;&nbsp;&nbsp;&nbsp;\\n\\n<a href=\\\"mailto:one@AEOpublishing.com\\\">mailto:one@AEOpublishing.com</a>\\n\\n<br>&nbsp;&nbsp;&nbsp;&nbsp; Get Leads&nbsp;&nbsp;&nbsp;&nbsp;&nbsp;&nbsp;&nbsp;&nbsp;&nbsp;&nbsp;&nbsp;\\n\\n<a href=\\\"mailto:two@AEOpublishing.com\\\">mailto:two@AEOpublishing.com</a>\\n\\n<br>&nbsp;&nbsp;&nbsp;&nbsp; Build Branding&nbsp;&nbsp;&nbsp;&nbsp;&nbsp;&nbsp;\\n\\n<a href=\\\"mailto:three@AEOpublishing.com\\\">mailto:three@AEOpublishing.com</a>\\n\\n<br>&nbsp;&nbsp;&nbsp;&nbsp; Provide Information&nbsp; <a href=\\\"mailto:four@AEOpublishing.com\\\">mailto:four@AEOpublishing.com</a>\\n\\n<br>&nbsp;&nbsp;&nbsp;&nbsp; Other&nbsp;&nbsp;&nbsp;&nbsp;&nbsp;&nbsp;&nbsp;&nbsp;&nbsp;&nbsp;&nbsp;&nbsp;&nbsp;&nbsp;&nbsp;\\n\\n<a href=\\\"mailto:five@AEOpublishing.com\\\">mailto:five@AEOpublishing.com</a>\\n\\n<p>To make this as easy as possible for you, just click on the\\n\\n<br>e-mail address that matches your answer - you do not need to\\n\\n<br>enter any information in the subject or body of the message.\\n\\n<p>** ADD YOUR COMMENTS!&nbsp; Follow directions above and\\n\\n<br>add your comments in the body of the message, and we'll\\n\\n<br>post the best commentaries along with the responses.\\n\\n<p>You will automatically be entered in our drawing for a free\\n\\n<br>Sponsorship ad in the Community &amp; Commentary. Please\\n\\n<br>respond only one time per question.&nbsp; Multiple responses\\n\\n<br>from the same individual will be discarded.\\n\\n<p><br><p></font></td></tr><tr><td bgcolor=\\\"#003366\\\" colspan=\\\"2\\\" valign=\\\"bottom\\\"> </td></tr> \\n\\n         <tr><td bgcolor=\\\"#ffffff\\\" colspan=\\\"2\\\" valign=\\\"top\\\"><a name=\\\"article5\\\"></a><font size=\\\"2\\\" face=\\\"Verdana,Arial,Helvetica\\\" color=\\\"#003366\\\"><li><b></b></font></td></tr><tr><td bgcolor=\\\"#ffffff\\\" valign=\\\"top\\\">&nbsp;&nbsp;</td><td bgcolor=\\\"#ffffff\\\" valign=\\\"top\\\"><font size=\\\"2\\\" face=\\\"Verdana,Arial,Helvetica\\\">To change your subscribed address,\\n\\n<br>send both new and old address to <a href=\\\"mailto:Submit@AEOpublishing.com\\\">Submit</a>\\n\\n<br>See below for unsubscribe instructions.\\n\\n\\n\\n<p>Please send suggestions and comments to: <a href=\\\"mailto:Editor@AEOpublishing.com\\\">Editor</a>\\n\\n<br>I invite you to send your real successes and showcase \\n\\nyour strategies and techniques, or yes, even your total bombs, \\n\\n\\\"Working Together We Can All Prosper.\\\" <a href=\\\"mailto:Submit@AEOpublishing.com\\\">Submit</a>\\n\\n<p>For information on how to sponsor Your Membership \\n\\nCommunity &amp; Commentary visit: <a href=\\\"http://bannersgomlm.com/ezine\\\">Sponsorship\\n\\nShowcase</a>\\n\\n<p>Copyright 2001 AEOpublishing.com<br><p></font></td></tr><tr><td bgcolor=\\\"#ffffff\\\" colspan=\\\"2\\\" valign=\\\"bottom\\\"> </td></tr> \\n\\n        </table>\\n\\n\\t<!-- End Article Table -->\\n\\n\\t\\n\\n\\t</td>\\n\\n</tr>\\n\\n<tr>\\n\\n\\t<td bgcolor=\\\"EEEEDF\\\" valign=\\\"bottom\\\" align=\\\"center\\\">\\n\\n\\t\\n\\n\\t<!-- Begin Email and Site URL Links -->\\n\\n\\t<hr color=\\\"#003366\\\" size=\\\"1\\\" width=\\\"100%\\\">\\n\\n\\t<font size=\\\"1\\\" face=\\\"Verdana,Arial,Helvetica\\\" color=\\\"#003366\\\">\\n\\n\\t<b><a href=\\\"mailto:YourMembership2@AEOpublishing.com\\\"><font size=\\\"1\\\" face=\\\"Verdana,Arial,Helvetica\\\" color=\\\"#003366\\\">email us</font></a> &nbsp;::&nbsp; <a href=\\\"http://www.AEOpublishing.com\\\"><font size=\\\"1\\\" color=\\\"#003366\\\">visit our site</font></a></b>\\n\\n\\t<hr color=\\\"#003366\\\" size=\\\"1\\\" width=\\\"100%\\\">\\n\\n    <b>phone: </b>\\n\\n    <hr color=\\\"#003366\\\" size=\\\"1\\\" width=\\\"100%\\\">\\n\\n\\t<!-- End Email and Site URL Links -->\\n\\n\\t\\n\\n\\t<!--  You are required by your Constant Contact user agreement to\\n\\n\\t    provide the opt-out link shown below as by the property 'OptOut'. -->\\n\\n    <font size=\\\"1\\\" face=\\\"Verdana,Arial,Helvetica\\\">\\n\\n    This email was sent to <br>jm@netnoteinc.com, <br>at your request, <br>by <a href=\\\"http://ccprod.roving.com/roving/sa/s.jsp?id=bd7n7877.6w8clu67\\\">Your Membership Newsletter Services</a>.  \\n\\n    <p>Visit our Subscription Center <br>to <a href=\\\"http://ccprod.roving.com/roving/d.jsp?p=oo&id=bd7n7877.6w8clu67&m=bd7n7877&ea=jm@netnoteinc.com\\\">edit</a> your interests or <a href=\\\"http://ccprod.roving.com/roving/d.jsp?p=oo&id=bd7n7877.6w8clu67&m=bd7n7877&ea=jm@netnoteinc.com\\\">unsubscribe</a>.\\n\\n    <p>View our <a href=\\\"http://ccprod.roving.com/roving/CCPrivacyPolicy.jsp\\\">privacy policy</a>.  \\n\\n    <p>Powered by<br><a href=\\\"http://www.constantcontact.com/index.jsp?cc=ccnws\\\" target=\\\"_blank\\\"><img src=\\\"http://ccprod.roving.com/roving/images/cc-logo-color-sm.gif\\\" border=\\\"0\\\" alt=\\\"Constant Contact\\\"></a>\\n\\n    </font>\\n\\n    <br><br>\\n\\n\\t</td>\\n\\n</tr>\\n\\n</table>\\n\\n\\n\\n\\t</td>\\n\\n</tr>\\n\\n</table>\\n\\n</center>\\n\\n</body>\\n\\n</HTML>\\n\\n---259765881.993893904265.JavaMail.RovAdmin.rovweb002--\\n\\n\\n\\n\\n\\n\\n\",\n          \"<!DOCTYPE HTML PUBLIC \\\"-//W3C//DTD HTML 4.0 Transitional//EN\\\">\\n\\n<HTML><HEAD>\\n\\n<META http-equiv=3DContent-Type content=3D\\\"text/html; charset=3Diso-8859-1=\\n\\n\\\">\\n\\n</HEAD><BODY><CENTER>\\n\\n<A href=3D\\\"http://reallymarket.com/user0201/index.asp?Afft=3DQM10\\\">\\n\\n<IMG src=3D\\\"http://61.129.68.17/mortad2.gif\\\" border=3D0></A>\\n\\n<BR><BR><FONT face=3DArial,Helvetica color=3D#000000 size=3D1>\\n\\nCopyright 2002 - All rights reserved<BR><BR>If you would no longer like us\\n\\nto contact you or feel that you have<BR>received this email in error,\\n\\nplease <A href=3D\\\"http://reallymarket.com/light/watch.asp\\\">click here\\n\\nto unsubscribe</A>.</FONT></CENTER></BODY></HTML>\\n\\n\\n\\n\\n\\n\\n\\n\\n\",\n          \"    Do you have bad credit and want to have good credit?\\n\\n\\n\\nYou can now access and clear up your credit online!\\n\\n\\n\\nWatch your credit improve daily with real time credit updates\\n\\n\\n\\nhttp://www.webcredit2002.com/?CID=1080&MID=12600\\n\"\n        ],\n        \"semantic_type\": \"\",\n        \"description\": \"\"\n      }\n    },\n    {\n      \"column\": \"CATEGORY\",\n      \"properties\": {\n        \"dtype\": \"number\",\n        \"std\": 0,\n        \"min\": 1,\n        \"max\": 1,\n        \"num_unique_values\": 1,\n        \"samples\": [\n          1\n        ],\n        \"semantic_type\": \"\",\n        \"description\": \"\"\n      }\n    }\n  ]\n}"
            }
          },
          "metadata": {},
          "execution_count": 26
        }
      ]
    },
    {
      "cell_type": "code",
      "source": [
        "ham_emails = df_from_directory(EASY_NONSPAM_1_PATH, 0)\n",
        "ham_emails = pd.concat([ham_emails, df_from_directory(EASY_NONSPAM_2_PATH, 0)])\n",
        "ham_emails.shape"
      ],
      "metadata": {
        "colab": {
          "base_uri": "https://localhost:8080/"
        },
        "id": "SXP7ccqhITmC",
        "outputId": "dcc4ba55-76ce-44ab-cd81-60980f6760cf"
      },
      "execution_count": 27,
      "outputs": [
        {
          "output_type": "execute_result",
          "data": {
            "text/plain": [
              "(3901, 2)"
            ]
          },
          "metadata": {},
          "execution_count": 27
        }
      ]
    },
    {
      "cell_type": "code",
      "source": [
        "data = pd.concat([spam_emails, ham_emails])\n",
        "print('Shape of entire DataFrame is:', data.shape)\n",
        "data.head()"
      ],
      "metadata": {
        "colab": {
          "base_uri": "https://localhost:8080/",
          "height": 223
        },
        "id": "7aaDO7TLIfEj",
        "outputId": "60be9bc7-e6a5-459d-9a02-20f39b59d81b"
      },
      "execution_count": 28,
      "outputs": [
        {
          "output_type": "stream",
          "name": "stdout",
          "text": [
            "Shape of entire DataFrame is: (5799, 2)\n"
          ]
        },
        {
          "output_type": "execute_result",
          "data": {
            "text/plain": [
              "                                                                                  MESSAGE  \\\n",
              "00201.00020fc9911604f6cae7ae0f598ad29d  <html>\\n\\n\\n\\n\\n\\n\\n\\n<body>\\n\\n\\n\\n<div align...   \n",
              "00210.050ffd105bd4e006771ee63cabc59978  IMPORTANT INFORMATION:\\n\\n\\n\\nThe new domain n...   \n",
              "00069.066b1a012235d062a5da73eead4a6b35   #############################################...   \n",
              "00117.b3ceb6525a1dc935463f3e3080110039  SUBSTANTIAL MONTHLY INCOME MAKERS VOUCHER\\n\\nI...   \n",
              "00163.244a217b150d2129cbdc52b96d992382  We guarantee you signups before you ever pay\\n...   \n",
              "\n",
              "                                        CATEGORY  \n",
              "00201.00020fc9911604f6cae7ae0f598ad29d         1  \n",
              "00210.050ffd105bd4e006771ee63cabc59978         1  \n",
              "00069.066b1a012235d062a5da73eead4a6b35         1  \n",
              "00117.b3ceb6525a1dc935463f3e3080110039         1  \n",
              "00163.244a217b150d2129cbdc52b96d992382         1  "
            ],
            "text/html": [
              "\n",
              "  <div id=\"df-c8e8e8f0-ba31-4bd4-98d2-0eec82e25733\" class=\"colab-df-container\">\n",
              "    <div>\n",
              "<style scoped>\n",
              "    .dataframe tbody tr th:only-of-type {\n",
              "        vertical-align: middle;\n",
              "    }\n",
              "\n",
              "    .dataframe tbody tr th {\n",
              "        vertical-align: top;\n",
              "    }\n",
              "\n",
              "    .dataframe thead th {\n",
              "        text-align: right;\n",
              "    }\n",
              "</style>\n",
              "<table border=\"1\" class=\"dataframe\">\n",
              "  <thead>\n",
              "    <tr style=\"text-align: right;\">\n",
              "      <th></th>\n",
              "      <th>MESSAGE</th>\n",
              "      <th>CATEGORY</th>\n",
              "    </tr>\n",
              "  </thead>\n",
              "  <tbody>\n",
              "    <tr>\n",
              "      <th>00201.00020fc9911604f6cae7ae0f598ad29d</th>\n",
              "      <td>&lt;html&gt;\\n\\n\\n\\n\\n\\n\\n\\n&lt;body&gt;\\n\\n\\n\\n&lt;div align...</td>\n",
              "      <td>1</td>\n",
              "    </tr>\n",
              "    <tr>\n",
              "      <th>00210.050ffd105bd4e006771ee63cabc59978</th>\n",
              "      <td>IMPORTANT INFORMATION:\\n\\n\\n\\nThe new domain n...</td>\n",
              "      <td>1</td>\n",
              "    </tr>\n",
              "    <tr>\n",
              "      <th>00069.066b1a012235d062a5da73eead4a6b35</th>\n",
              "      <td>#############################################...</td>\n",
              "      <td>1</td>\n",
              "    </tr>\n",
              "    <tr>\n",
              "      <th>00117.b3ceb6525a1dc935463f3e3080110039</th>\n",
              "      <td>SUBSTANTIAL MONTHLY INCOME MAKERS VOUCHER\\n\\nI...</td>\n",
              "      <td>1</td>\n",
              "    </tr>\n",
              "    <tr>\n",
              "      <th>00163.244a217b150d2129cbdc52b96d992382</th>\n",
              "      <td>We guarantee you signups before you ever pay\\n...</td>\n",
              "      <td>1</td>\n",
              "    </tr>\n",
              "  </tbody>\n",
              "</table>\n",
              "</div>\n",
              "    <div class=\"colab-df-buttons\">\n",
              "\n",
              "  <div class=\"colab-df-container\">\n",
              "    <button class=\"colab-df-convert\" onclick=\"convertToInteractive('df-c8e8e8f0-ba31-4bd4-98d2-0eec82e25733')\"\n",
              "            title=\"Convert this dataframe to an interactive table.\"\n",
              "            style=\"display:none;\">\n",
              "\n",
              "  <svg xmlns=\"http://www.w3.org/2000/svg\" height=\"24px\" viewBox=\"0 -960 960 960\">\n",
              "    <path d=\"M120-120v-720h720v720H120Zm60-500h600v-160H180v160Zm220 220h160v-160H400v160Zm0 220h160v-160H400v160ZM180-400h160v-160H180v160Zm440 0h160v-160H620v160ZM180-180h160v-160H180v160Zm440 0h160v-160H620v160Z\"/>\n",
              "  </svg>\n",
              "    </button>\n",
              "\n",
              "  <style>\n",
              "    .colab-df-container {\n",
              "      display:flex;\n",
              "      gap: 12px;\n",
              "    }\n",
              "\n",
              "    .colab-df-convert {\n",
              "      background-color: #E8F0FE;\n",
              "      border: none;\n",
              "      border-radius: 50%;\n",
              "      cursor: pointer;\n",
              "      display: none;\n",
              "      fill: #1967D2;\n",
              "      height: 32px;\n",
              "      padding: 0 0 0 0;\n",
              "      width: 32px;\n",
              "    }\n",
              "\n",
              "    .colab-df-convert:hover {\n",
              "      background-color: #E2EBFA;\n",
              "      box-shadow: 0px 1px 2px rgba(60, 64, 67, 0.3), 0px 1px 3px 1px rgba(60, 64, 67, 0.15);\n",
              "      fill: #174EA6;\n",
              "    }\n",
              "\n",
              "    .colab-df-buttons div {\n",
              "      margin-bottom: 4px;\n",
              "    }\n",
              "\n",
              "    [theme=dark] .colab-df-convert {\n",
              "      background-color: #3B4455;\n",
              "      fill: #D2E3FC;\n",
              "    }\n",
              "\n",
              "    [theme=dark] .colab-df-convert:hover {\n",
              "      background-color: #434B5C;\n",
              "      box-shadow: 0px 1px 3px 1px rgba(0, 0, 0, 0.15);\n",
              "      filter: drop-shadow(0px 1px 2px rgba(0, 0, 0, 0.3));\n",
              "      fill: #FFFFFF;\n",
              "    }\n",
              "  </style>\n",
              "\n",
              "    <script>\n",
              "      const buttonEl =\n",
              "        document.querySelector('#df-c8e8e8f0-ba31-4bd4-98d2-0eec82e25733 button.colab-df-convert');\n",
              "      buttonEl.style.display =\n",
              "        google.colab.kernel.accessAllowed ? 'block' : 'none';\n",
              "\n",
              "      async function convertToInteractive(key) {\n",
              "        const element = document.querySelector('#df-c8e8e8f0-ba31-4bd4-98d2-0eec82e25733');\n",
              "        const dataTable =\n",
              "          await google.colab.kernel.invokeFunction('convertToInteractive',\n",
              "                                                    [key], {});\n",
              "        if (!dataTable) return;\n",
              "\n",
              "        const docLinkHtml = 'Like what you see? Visit the ' +\n",
              "          '<a target=\"_blank\" href=https://colab.research.google.com/notebooks/data_table.ipynb>data table notebook</a>'\n",
              "          + ' to learn more about interactive tables.';\n",
              "        element.innerHTML = '';\n",
              "        dataTable['output_type'] = 'display_data';\n",
              "        await google.colab.output.renderOutput(dataTable, element);\n",
              "        const docLink = document.createElement('div');\n",
              "        docLink.innerHTML = docLinkHtml;\n",
              "        element.appendChild(docLink);\n",
              "      }\n",
              "    </script>\n",
              "  </div>\n",
              "\n",
              "\n",
              "<div id=\"df-a8f75af4-c10f-4c60-868e-1cf08bba694d\">\n",
              "  <button class=\"colab-df-quickchart\" onclick=\"quickchart('df-a8f75af4-c10f-4c60-868e-1cf08bba694d')\"\n",
              "            title=\"Suggest charts\"\n",
              "            style=\"display:none;\">\n",
              "\n",
              "<svg xmlns=\"http://www.w3.org/2000/svg\" height=\"24px\"viewBox=\"0 0 24 24\"\n",
              "     width=\"24px\">\n",
              "    <g>\n",
              "        <path d=\"M19 3H5c-1.1 0-2 .9-2 2v14c0 1.1.9 2 2 2h14c1.1 0 2-.9 2-2V5c0-1.1-.9-2-2-2zM9 17H7v-7h2v7zm4 0h-2V7h2v10zm4 0h-2v-4h2v4z\"/>\n",
              "    </g>\n",
              "</svg>\n",
              "  </button>\n",
              "\n",
              "<style>\n",
              "  .colab-df-quickchart {\n",
              "      --bg-color: #E8F0FE;\n",
              "      --fill-color: #1967D2;\n",
              "      --hover-bg-color: #E2EBFA;\n",
              "      --hover-fill-color: #174EA6;\n",
              "      --disabled-fill-color: #AAA;\n",
              "      --disabled-bg-color: #DDD;\n",
              "  }\n",
              "\n",
              "  [theme=dark] .colab-df-quickchart {\n",
              "      --bg-color: #3B4455;\n",
              "      --fill-color: #D2E3FC;\n",
              "      --hover-bg-color: #434B5C;\n",
              "      --hover-fill-color: #FFFFFF;\n",
              "      --disabled-bg-color: #3B4455;\n",
              "      --disabled-fill-color: #666;\n",
              "  }\n",
              "\n",
              "  .colab-df-quickchart {\n",
              "    background-color: var(--bg-color);\n",
              "    border: none;\n",
              "    border-radius: 50%;\n",
              "    cursor: pointer;\n",
              "    display: none;\n",
              "    fill: var(--fill-color);\n",
              "    height: 32px;\n",
              "    padding: 0;\n",
              "    width: 32px;\n",
              "  }\n",
              "\n",
              "  .colab-df-quickchart:hover {\n",
              "    background-color: var(--hover-bg-color);\n",
              "    box-shadow: 0 1px 2px rgba(60, 64, 67, 0.3), 0 1px 3px 1px rgba(60, 64, 67, 0.15);\n",
              "    fill: var(--button-hover-fill-color);\n",
              "  }\n",
              "\n",
              "  .colab-df-quickchart-complete:disabled,\n",
              "  .colab-df-quickchart-complete:disabled:hover {\n",
              "    background-color: var(--disabled-bg-color);\n",
              "    fill: var(--disabled-fill-color);\n",
              "    box-shadow: none;\n",
              "  }\n",
              "\n",
              "  .colab-df-spinner {\n",
              "    border: 2px solid var(--fill-color);\n",
              "    border-color: transparent;\n",
              "    border-bottom-color: var(--fill-color);\n",
              "    animation:\n",
              "      spin 1s steps(1) infinite;\n",
              "  }\n",
              "\n",
              "  @keyframes spin {\n",
              "    0% {\n",
              "      border-color: transparent;\n",
              "      border-bottom-color: var(--fill-color);\n",
              "      border-left-color: var(--fill-color);\n",
              "    }\n",
              "    20% {\n",
              "      border-color: transparent;\n",
              "      border-left-color: var(--fill-color);\n",
              "      border-top-color: var(--fill-color);\n",
              "    }\n",
              "    30% {\n",
              "      border-color: transparent;\n",
              "      border-left-color: var(--fill-color);\n",
              "      border-top-color: var(--fill-color);\n",
              "      border-right-color: var(--fill-color);\n",
              "    }\n",
              "    40% {\n",
              "      border-color: transparent;\n",
              "      border-right-color: var(--fill-color);\n",
              "      border-top-color: var(--fill-color);\n",
              "    }\n",
              "    60% {\n",
              "      border-color: transparent;\n",
              "      border-right-color: var(--fill-color);\n",
              "    }\n",
              "    80% {\n",
              "      border-color: transparent;\n",
              "      border-right-color: var(--fill-color);\n",
              "      border-bottom-color: var(--fill-color);\n",
              "    }\n",
              "    90% {\n",
              "      border-color: transparent;\n",
              "      border-bottom-color: var(--fill-color);\n",
              "    }\n",
              "  }\n",
              "</style>\n",
              "\n",
              "  <script>\n",
              "    async function quickchart(key) {\n",
              "      const quickchartButtonEl =\n",
              "        document.querySelector('#' + key + ' button');\n",
              "      quickchartButtonEl.disabled = true;  // To prevent multiple clicks.\n",
              "      quickchartButtonEl.classList.add('colab-df-spinner');\n",
              "      try {\n",
              "        const charts = await google.colab.kernel.invokeFunction(\n",
              "            'suggestCharts', [key], {});\n",
              "      } catch (error) {\n",
              "        console.error('Error during call to suggestCharts:', error);\n",
              "      }\n",
              "      quickchartButtonEl.classList.remove('colab-df-spinner');\n",
              "      quickchartButtonEl.classList.add('colab-df-quickchart-complete');\n",
              "    }\n",
              "    (() => {\n",
              "      let quickchartButtonEl =\n",
              "        document.querySelector('#df-a8f75af4-c10f-4c60-868e-1cf08bba694d button');\n",
              "      quickchartButtonEl.style.display =\n",
              "        google.colab.kernel.accessAllowed ? 'block' : 'none';\n",
              "    })();\n",
              "  </script>\n",
              "</div>\n",
              "\n",
              "    </div>\n",
              "  </div>\n"
            ],
            "application/vnd.google.colaboratory.intrinsic+json": {
              "type": "dataframe",
              "variable_name": "data",
              "summary": "{\n  \"name\": \"data\",\n  \"rows\": 5799,\n  \"fields\": [\n    {\n      \"column\": \"MESSAGE\",\n      \"properties\": {\n        \"dtype\": \"string\",\n        \"num_unique_values\": 5626,\n        \"samples\": [\n          \"I've been lurking the SA lists since I installed SA on a production\\n\\nmachine a while back. While SA did a surprisingly accurate job on\\n\\ndetecting English language spam, it did not succeed very well on German\\n\\nlanguage spam, which I keep getting increasing amounts of lately. I've\\n\\ngot a lousy results with out of the box scores, very few spam is acually\\n\\ncought.\\n\\n\\n\\nWhat is the strategy with respect to foreign language spam recognition\\n\\nin SA? I've seen extremely few non-english rules. Is there foreign\\n\\nlanguage rule development going on? Has anybody done work on German\\n\\nspam?\\n\\n\\n\\nIn any case, I've started spam/nonspam corpi consisting of only German\\n\\n(and Swiss-German, respectively) messages, to be able to help with\\n\\nGerman rules. Anybody willing to contribute to the corpus feel free to\\n\\nresend/bounce German spam in a sane way to spam@roe.ch . I cannot be\\n\\nbothered to subscribe to SAsightings just for the odd German spam every\\n\\nhundred++ messages.. how about a list for foreign language spam\\n\\nsightings?\\n\\n\\n\\nHas anybody done this before or am I on the edge of duplicating effort\\n\\nhere?\\n\\n\\n\\nI've been thinking on this a bit. I think it would be best if there\\n\\nwould be general provisions for foreign language rules. In the spirit of\\n\\nthe ok_languages option; let users easily enable or disable rules in\\n\\ncertain languages. Like a foreign_rules option which could be used to\\n\\ncontrol which foreign rulesets are active. Usually people would want to\\n\\nuse checks in all languages which are in the ok_languages list.\\n\\n\\n\\nIs there any development or are there plans along those lines? Are there\\n\\nother people willing to contribute to effective spam filtering rules in\\n\\nGerman language?\\n\\n\\n\\nAny kind of feedback is welcome, even flames ;)\\n\\n\\n\\nCheers,\\n\\nDan\\n\\n\\n\\n\\n\\n-- \\n\\n   Daniel Roethlisberger <daniel@roe.ch>\\n\\n   OpenPGP key id 0x804A06B1 (1024/4096 DSA/ElGamal)\\n\\n   144D 6A5E 0C88 E5D7 0775 FCFD 3974 0E98 804A 06B1\\n\\n   >> privacy through technology, not legislation <<\\n\\n\\n\\n\\n\\n-------------------------------------------------------\\n\\nThis sf.net email is sponsored by: OSDN - Tired of that same old\\n\\ncell phone?  Get a new here for FREE!\\n\\nhttps://www.inphonic.com/r.asp?r=sourceforge1&refcode1=vs3390\\n\\n_______________________________________________\\n\\nSpamassassin-talk mailing list\\n\\nSpamassassin-talk@lists.sourceforge.net\\n\\nhttps://lists.sourceforge.net/lists/listinfo/spamassassin-talk\\n\\n\\n\",\n          \"\\n\\n<html>\\n\\n\\n\\n<head>\\n\\n</head>\\n\\n\\n\\n<body>\\n\\n<div>\\n\\n  <font face=\\\"Arial\\\">&nbsp;</font>\\n\\n</div>\\n\\n<div>\\n\\n  \\u00a1\\u00a1\\n\\n</div>\\n\\n<div>\\n\\n  <strong><font color=\\\"#ff0080\\\" size=\\\"4\\\" face=\\\"Arial\\\">Direct Email Blaster</font></strong> \\n\\n</div> \\n\\n<font size=\\\"2\\\"> \\n\\n<p><font face=\\\"Arial\\\"><b><font color=\\\"#006600\\\"><i>The program will send mail at the  \\n\\nrate of over 1, 000 e-mails per minute.&nbsp;</i></font><br> \\n\\nLegal and Fast sending bulk emails&nbsp;<br> \\n\\n<font color=\\\"#006600\\\"><i>Built in SMTP server&nbsp;</i></font><br> \\n\\nHave Return Path&nbsp;<br> \\n\\nCan Check Mail Address&nbsp;<br> \\n\\n<font color=\\\"#006600\\\"><i>Make Error Send Address List( Remove or Send Again)&nbsp;</i></font><br> \\n\\nSupport multi-threads.&nbsp;<br> \\n\\nSupport multi-smtp servers.&nbsp;<br> \\n\\nManages your opt-in E-Mail Lists&nbsp;<br> \\n\\nOffers an easy-to-use interface!&nbsp;<br> \\n\\nEasy to confige and use&nbsp;</b></font></p> \\n\\n<p><font face=\\\"Arial\\\"><a href=\\\"http://www.wldinfo.com/bj_download/edeb_set.zip\\\"><strong>Download  \\n\\nNow</strong></a></font></p> \\n\\n<p><strong><font color=\\\"#ff0080\\\" size=\\\"4\\\" face=\\\"Arial\\\">Maillist Verify</font></strong></p> \\n\\n<p><font face=\\\"Arial\\\">Maillist Verify is intended for e-mail addresses and mail  \\n\\nlists verifying. The main task is to determine which of addresses in the mail  \\n\\nlist are dead. The program is oriented, basically, on programmers which have  \\n\\ntheir own mail lists to inform their users about new versions of their programs.</font></p> \\n\\n<p><font face=\\\"Arial\\\">The program works on the same algorithm as ISP mail  \\n\\nsystems do. Mail servers addresses for specified address are extracted from DNS.  \\n\\nThe program tries to connect with found SMTP-servers and simulates the sending  \\n\\nof message. It does not come to the message <nobr>sending &#8255;/NOBR&gt; EMV  \\n\\ndisconnect as soon as mail server informs does this address exist or not. EMV  \\n\\ncan find about 90% of dead addresses &#8255;/NOBR&gt; some mail systems receive  \\n\\nall messages and only then see their addresses and if the address is dead send  \\n\\nthe message back with remark about it.</nobr></font></p> \\n\\n<nobr> \\n\\n<p><a href=\\\"http://www.wldinfo.com/bj_download/bemv_set.zip\\\"><strong><font size=\\\"3\\\" face=\\\"Arial\\\">Download  \\n\\nNow</font></strong></a></p> \\n\\n<p><strong><font color=\\\"#ff0080\\\" size=\\\"4\\\" face=\\\"Arial\\\">Express Email Blaster&nbsp;</font></strong></p> \\n\\n<p><font face=\\\"Arial\\\">Express Email Blaster&nbsp; is a very fast, powerful yet  \\n\\nsimple to use email sender. Utilizing multiple threads/connections and multiple  \\n\\nSMTP servers your emails will be sent out fast and easily. There are User  \\n\\nInformation, Attach Files, Address and Mail Logs four tabbed area for the  \\n\\nE-mails details for sending. About 25 SMTP servers come with the demo version,  \\n\\nand users may Add and Delete SMTP servers. About <font color=\\\"#008000\\\"><b>60,000</b></font>  \\n\\nE-mails will be sent out per hour.&quot;</font></p> \\n\\n<p><strong><a href=\\\"http://www.wldinfo.com/bj_download/beeb_set.zip\\\"><font size=\\\"3\\\" face=\\\"Arial\\\">Download  \\n\\nNow</font></a></strong></p> \\n\\n<p><strong><font color=\\\"#ff0080\\\" size=\\\"4\\\" face=\\\"Arial\\\">Express Email Address  \\n\\nExtractor</font></strong></p> \\n\\n<font size=\\\"4\\\"> \\n\\n<p><font face=\\\"Arial\\\"><strong><font size=\\\"3\\\" color=\\\"#008000\\\">This program is the  \\n\\nmost efficient, easy to use email address collector available on the internet! </font><font color=\\\"#000000\\\" size=\\\"3\\\">Beijing  \\n\\nExpress Email Address Extractor (ExpressEAE) is designed to extract e-mail  \\n\\naddresses from web-pages on the Internet (using HTTP protocols) .ExpressEAE  \\n\\nsupports operation through many proxy-server and works very fast, as it is able  \\n\\nof loading several pages simultaneously, and requires very few resources.</font></strong></font></p> \\n\\n<p><font face=\\\"Arial\\\"><strong><font color=\\\"#000000\\\" face=\\\"Arial\\\"><font size=\\\"3\\\">With  \\n\\nit, you will be able to</font><font size=\\\"2\\\"> </font><font size=\\\"3\\\">use targeted  \\n\\nsearches to crawl the world wide web, extracting thousands of clean, fresh email  \\n\\naddresses. Ably Email address Extractor is unlike other address collecting  \\n\\nprograms, which limit you to one or two search engines and are unable to do auto  \\n\\nsearches HUGE address. Most of them collect a high percentage of incomplete,  \\n\\nunusable addresses which will cause you serious problems when using them in a  \\n\\nmailing.&nbsp;</font></font></strong></font> \\n\\n<ul> \\n\\n  <li><font face=\\\"Arial\\\"><strong><font color=\\\"#008000\\\" size=\\\"3\\\" face=\\\"Arial\\\">Easier  \\n\\n    to learn and use than any other email address collector program available.</font></strong></font> \\n\\n  <li><font face=\\\"Arial\\\"><strong><font color=\\\"#008000\\\" size=\\\"3\\\" face=\\\"Arial\\\">Accesses  \\n\\n    eight search engines&nbsp;</font></strong></font> \\n\\n  <li><font face=\\\"Arial\\\"><strong><font color=\\\"#008000\\\" size=\\\"3\\\" face=\\\"Arial\\\">Add  \\n\\n    your own URLs to the list to be searched</font></strong></font> \\n\\n  <li><font face=\\\"Arial\\\"><strong><font size=\\\"3\\\" face=\\\"Arial\\\"><font color=\\\"#008000\\\">Supports  \\n\\n    operation through </font><font color=\\\"#ff00ff\\\">a lot of</font><font color=\\\"#008000\\\">  \\n\\n    proxy-server and works very fast (HTTP Proxy)</font></font></strong></font> \\n\\n  <li><font face=\\\"Arial\\\"><strong><font color=\\\"#008000\\\" size=\\\"3\\\" face=\\\"Arial\\\">Able  \\n\\n    of loading several pages simultaneously</font></strong></font> \\n\\n  <li><font face=\\\"Arial\\\"><strong><font color=\\\"#008000\\\" size=\\\"3\\\" face=\\\"Arial\\\">Requires  \\n\\n    very few resources</font></strong></font> \\n\\n  <li><font face=\\\"Arial\\\"><strong><font color=\\\"#008000\\\" size=\\\"3\\\" face=\\\"Arial\\\">Timeout  \\n\\n    feature allows user to limit the amount of time crawling in dead sites and  \\n\\n    traps.</font></strong></font> \\n\\n  <li><font face=\\\"Arial\\\"><strong><font size=\\\"3\\\" face=\\\"Arial\\\"><font color=\\\"#008000\\\">Easy  \\n\\n    to make </font><font color=\\\"#ff00ff\\\">Huge</font><font color=\\\"#008000\\\">  \\n\\n    address list</font></font></strong></font> \\n\\n  <li><font face=\\\"Arial\\\"><strong><font color=\\\"#008000\\\" size=\\\"3\\\" face=\\\"Arial\\\">Pause/continue  \\n\\n    extraction at any time.</font></strong></font> \\n\\n  <li><font face=\\\"Arial\\\"><strong><font color=\\\"#008000\\\" size=\\\"3\\\" face=\\\"Arial\\\">Auto  \\n\\n    connection to the Internet</font></strong></font></li> \\n\\n</ul> \\n\\n<div> \\n\\n  <strong><a href=\\\"http://www.wldinfo.com/bj_download/eeae_set.zip\\\"><font size=\\\"3\\\" color=\\\"#008000\\\" face=\\\"Arial\\\">Download  \\n\\n  Now</font></a></strong> \\n\\n</div> \\n\\n<div> \\n\\n  <strong><font color=\\\"#ff0080\\\" face=\\\"Arial\\\">Express Email Address Downloader</font></strong> \\n\\n</div> \\n\\n<ul> \\n\\n  <li><font face=\\\"Arial\\\"><strong><font color=\\\"#006600\\\" size=\\\"2\\\">ExpressEAD&nbsp;  \\n\\n    </font><font color=\\\"#000000\\\" size=\\\"2\\\">is a 32 bit Windows Program for e-mail  \\n\\n    marketing. It is intended for easy and convenient search large e-mail  \\n\\n    address lists from mail servers. The program can be operated on Windows  \\n\\n    95/98/ME/2000 and NT.</font></strong></font> \\n\\n  <li><font face=\\\"Arial\\\"><strong><font color=\\\"#006600\\\" size=\\\"2\\\">ExpressEAD&nbsp;  \\n\\n    </font><font color=\\\"#000000\\\" size=\\\"2\\\">support multi-threads (up to 1024  \\n\\n    connections).</font></strong></font> \\n\\n  <li><font face=\\\"Arial\\\"><strong><font color=\\\"#006600\\\" size=\\\"2\\\">ExpressEAD&nbsp;  \\n\\n    </font><font color=\\\"#000000\\\" size=\\\"2\\\">has the ability&nbsp; to reconnect to  \\n\\n    the mail server if the server has disconnected and continue the searching at  \\n\\n    the point where it has been interrupted.</font></strong></font> \\n\\n  <li><font face=\\\"Arial\\\"><strong><font color=\\\"#006600\\\" size=\\\"2\\\">ExpressEAD&nbsp;  \\n\\n    </font><font color=\\\"#000000\\\" size=\\\"2\\\">has an ergonomic interface that is  \\n\\n    easy to set up and simple to use.</font></strong></font></li> \\n\\n</ul> \\n\\n<div> \\n\\n  <font face=\\\"Arial\\\">&nbsp;</font> \\n\\n</div> \\n\\n<p><font face=\\\"Arial\\\"><strong><font color=\\\"#008000\\\" size=\\\"4\\\" face=\\\"Arial\\\">Features:</font></strong></font> \\n\\n<ul type=\\\"disc\\\"> \\n\\n  <li><font face=\\\"Arial\\\"><strong><font size=\\\"2\\\" face=\\\"Arial\\\">support  \\n\\n    multi-threads.</font></strong></font> \\n\\n  <li><font face=\\\"Arial\\\"><strong><font size=\\\"2\\\" face=\\\"Arial\\\">auto get smtp  \\n\\n    server address,support multi-smtp servers.</font></strong></font> \\n\\n  <li><font face=\\\"Arial\\\"><strong><font size=\\\"2\\\" face=\\\"Arial\\\">auto save&nbsp;  \\n\\n    E-Mail Lists</font></strong></font> \\n\\n  <li><font face=\\\"Arial\\\"><strong><font size=\\\"2\\\" face=\\\"Arial\\\">offers an  \\n\\n    easy-to-use interface!</font></strong></font></li> \\n\\n</ul> \\n\\n<div> \\n\\n  <strong><a href=\\\"http://www.wldinfo.com/bj_download/eead_set.zip\\\"><font size=\\\"3\\\" color=\\\"#008000\\\" face=\\\"Arial\\\">Download  \\n\\n  Now</font></a></strong> \\n\\n</div> \\n\\n<div> \\n\\n  <font face=\\\"Arial\\\">&nbsp;</font> \\n\\n</div> \\n\\n<div> \\n\\n  <strong><font color=\\\"#ff0080\\\" face=\\\"Arial\\\">Express Maillist Manager</font></strong> \\n\\n</div> \\n\\n<div> \\n\\n  <font face=\\\"Arial\\\">&nbsp;</font> \\n\\n</div> \\n\\n<div> \\n\\n  <font size=\\\"2\\\"> \\n\\n  <p><font face=\\\"Arial\\\"><font color=\\\"black\\\" size=\\\"3\\\">This program was designed  \\n\\n  to be a complement to the </font><font color=\\\"#800080\\\" size=\\\"3\\\">Direct Email  \\n\\n  Blaster&nbsp; </font><font color=\\\"black\\\" size=\\\"3\\\">and </font><font color=\\\"#800080\\\" size=\\\"3\\\">Email  \\n\\n  Blaster </font><font color=\\\"black\\\" size=\\\"3\\\">suite of bulk email software  \\n\\n  programs. Its purpose is to organize your email lists in order to be more  \\n\\n  effective with your email marketing campaign. Some of its features include:</font></font></p> \\n\\n  <p><b><font color=\\\"#008000\\\" face=\\\"Arial\\\"><font size=\\\"3\\\">&#8255;Combine several  \\n\\n  lists into one file.</font><br> \\n\\n  <font size=\\\"3\\\">&#8255;Split up larger lists to make them more manageable.</font><br> \\n\\n  <font size=\\\"3\\\">&#8255;Remove addresses from file.</font><br> \\n\\n  <font size=\\\"3\\\">&#8255;Manual editing, adding, and deleting of addresses.</font><br> \\n\\n  <font size=\\\"3\\\">&#8255;Ability to auto clean lists, that is, remove any  \\n\\n  duplicate or unwanted addresses.</font><br> \\n\\n  <font size=\\\"3\\\">&#8255;Maintain all your address lists within the program so  \\n\\n  you no&nbsp; longer need to keep all your lists saved as separate text files.</font></font></b></p> \\n\\n  <p><strong><a href=\\\"http://www.wldinfo.com/bj_download/bemm_set.zip\\\"><font size=\\\"3\\\" color=\\\"#008000\\\" face=\\\"Arial\\\">Download  \\n\\n  Now</font></a></strong></p> \\n\\n  <p><font face=\\\"Arial\\\">&nbsp;</font></p> \\n\\n  <p>\\u00a1\\u00a1</p>\\n\\n  <div>\\n\\n    <font face=\\\"Arial\\\">if you want to remove your email, please send email to <a href=\\\"mailto:targetemailremoval@btamail.net.cn\\\">targetemailremoval@btamail.net.cn</a></font> \\n\\n  </div> \\n\\n  <div> \\n\\n    <font face=\\\"Arial\\\">&nbsp;</font> \\n\\n  </div> \\n\\n  <div> \\n\\n    <font face=\\\"Arial\\\">&nbsp;</font> \\n\\n  </div> \\n\\n  <div> \\n\\n    \\u00a1\\u00a1\\n\\n  </div>\\n\\n  </font>\\n\\n</div>\\n\\n</font></nobr></font>\\n\\n\\n\\n</body>\\n\\n\\n\\n</html>\\n\\n<html><body><br><br><br>                                          <br><a href=                            >                                                                    </a><br>                                         </body></html>\\n\",\n          \"<HTML>\\n\\n<HEAD>\\n\\n<TITLE></TITLE>\\n\\n</HEAD>\\n\\n<BODY>\\n\\n<table width=3D520 cellspacing=3D0 cellpadding=3D14 border=3D4 bordercolor=\\n\\n=3D0000A0>\\n\\n<tr><td bgcolor=3D0000A0>\\n\\n<font face=3DTahoma,Arial,Helvetica size=3D5 color=3DFFFFFF><b>Now you can=\\n\\n have HUNDREDS of lenders compete for your loan!</b>\\n\\n<br>\\n\\n</font>\\n\\n<font face=3DTahoma,Arial,Helvetica size=3D2 color=3DFFFFFF><BR><b>\\n\\n<li>Refinancing\\n\\n<li>New Home Loans\\n\\n<li>Debt Consolidation\\n\\n<li>Debt Consultation\\n\\n<li>Auto Loans\\n\\n<li>Credit Cards\\n\\n<li>Student Loans\\n\\n<li>Second Mortgage\\n\\n<li>Home Equity\\n\\n</b></font>\\n\\n</td>\\n\\n<td width=3D300>\\n\\n<font face=3DArial,Helvetica size=3D3 color=3D000050><b>Dear Homeowner,</b=\\n\\n>\\n\\n<p align=3D\\\"justify\\\"><font face=3D\\\"times new roman, times\\\" size=3D3 color=3D=\\n\\n000050>Interest Rates are at their lowest point in 40 years!\\n\\nWe help you find the best rate for your situation by matching your needs w=\\n\\nith hundreds of lenders! <u><B>Home Improvement, Refinance, Second Mortgag=\\n\\ne, Home Equity Loans, and More!</b></u> Even with less than perfect credit=\\n\\n!<br><br>This service is <B>100% FREE</b> to home owners and new home buye=\\n\\nrs without any obligation.\\n\\n<BR><br>Just fill out a quick, simple form and jump-start your future plan=\\n\\ns today!</font><br><br>\\n\\n<A href=3Dhttp://61.129.68.19/user0201/index.asp?Afft=3DQM12><font face=3D=\\n\\nverdana,arial,helvetica size=3D5 color=3D00B000><B>Click Here To Begin</b>=\\n\\n</FONT></A>\\n\\n</font></p>\\n\\n</td></tr></table><br>\\n\\n<table width=3D516>\\n\\n\\t<tr><td><font face=3D\\\"arial,helvetica\\\" size=3D1>Please know that we do no=\\n\\nt want to send you information regarding our special offers if you do not =\\n\\nwish to receive it.  If you would no longer like us to contact you or feel=\\n\\n that you have received this email in error, please <a href=3D\\\"http://61.1=\\n\\n29.68.19/light/watch.asp\\\">click here to unsubscribe</a>.</font></td></tr>\\n\\n</table>\\n\\n</BODY>\\n\\n</HTML>\\n\\n\\n\\n\\n\\n\\n\\n\\n\"\n        ],\n        \"semantic_type\": \"\",\n        \"description\": \"\"\n      }\n    },\n    {\n      \"column\": \"CATEGORY\",\n      \"properties\": {\n        \"dtype\": \"number\",\n        \"std\": 0,\n        \"min\": 0,\n        \"max\": 1,\n        \"num_unique_values\": 2,\n        \"samples\": [\n          0,\n          1\n        ],\n        \"semantic_type\": \"\",\n        \"description\": \"\"\n      }\n    }\n  ]\n}"
            }
          },
          "metadata": {},
          "execution_count": 28
        }
      ]
    },
    {
      "cell_type": "code",
      "source": [
        "data.tail()"
      ],
      "metadata": {
        "colab": {
          "base_uri": "https://localhost:8080/",
          "height": 206
        },
        "id": "-_8WCYEmIxOx",
        "outputId": "715ece3d-2645-4ff8-8508-8484246f4bdd"
      },
      "execution_count": 29,
      "outputs": [
        {
          "output_type": "execute_result",
          "data": {
            "text/plain": [
              "                                                                                  MESSAGE  \\\n",
              "00391.5fc0c6810ac42e66c4dcc7d6524dd596  > Of course, it would require a minimum of EUR...   \n",
              "00729.733ee0faa56c33c52cb73337b7986261  > There are so many good musician jokes.\\n\\n\\n...   \n",
              "00463.a0b9bc6f874e76510933906b72baae3f  No problems installing OpenOffice 653??? and 1...   \n",
              "00941.7e73d0b5d1de68eabc52c3e8d05349d8  On Wed, 2002-07-31 at 15:16, Elias Sinderson w...   \n",
              "00072.198398984661d0b6dc676ad30d6f2884    | Date: Fri, 19 Jul 2002 16:15:49 +0100\\n\\n ...   \n",
              "\n",
              "                                        CATEGORY  \n",
              "00391.5fc0c6810ac42e66c4dcc7d6524dd596         0  \n",
              "00729.733ee0faa56c33c52cb73337b7986261         0  \n",
              "00463.a0b9bc6f874e76510933906b72baae3f         0  \n",
              "00941.7e73d0b5d1de68eabc52c3e8d05349d8         0  \n",
              "00072.198398984661d0b6dc676ad30d6f2884         0  "
            ],
            "text/html": [
              "\n",
              "  <div id=\"df-4e44ff92-0aa8-4e2b-9e5e-94a6f1921c0e\" class=\"colab-df-container\">\n",
              "    <div>\n",
              "<style scoped>\n",
              "    .dataframe tbody tr th:only-of-type {\n",
              "        vertical-align: middle;\n",
              "    }\n",
              "\n",
              "    .dataframe tbody tr th {\n",
              "        vertical-align: top;\n",
              "    }\n",
              "\n",
              "    .dataframe thead th {\n",
              "        text-align: right;\n",
              "    }\n",
              "</style>\n",
              "<table border=\"1\" class=\"dataframe\">\n",
              "  <thead>\n",
              "    <tr style=\"text-align: right;\">\n",
              "      <th></th>\n",
              "      <th>MESSAGE</th>\n",
              "      <th>CATEGORY</th>\n",
              "    </tr>\n",
              "  </thead>\n",
              "  <tbody>\n",
              "    <tr>\n",
              "      <th>00391.5fc0c6810ac42e66c4dcc7d6524dd596</th>\n",
              "      <td>&gt; Of course, it would require a minimum of EUR...</td>\n",
              "      <td>0</td>\n",
              "    </tr>\n",
              "    <tr>\n",
              "      <th>00729.733ee0faa56c33c52cb73337b7986261</th>\n",
              "      <td>&gt; There are so many good musician jokes.\\n\\n\\n...</td>\n",
              "      <td>0</td>\n",
              "    </tr>\n",
              "    <tr>\n",
              "      <th>00463.a0b9bc6f874e76510933906b72baae3f</th>\n",
              "      <td>No problems installing OpenOffice 653??? and 1...</td>\n",
              "      <td>0</td>\n",
              "    </tr>\n",
              "    <tr>\n",
              "      <th>00941.7e73d0b5d1de68eabc52c3e8d05349d8</th>\n",
              "      <td>On Wed, 2002-07-31 at 15:16, Elias Sinderson w...</td>\n",
              "      <td>0</td>\n",
              "    </tr>\n",
              "    <tr>\n",
              "      <th>00072.198398984661d0b6dc676ad30d6f2884</th>\n",
              "      <td>| Date: Fri, 19 Jul 2002 16:15:49 +0100\\n\\n ...</td>\n",
              "      <td>0</td>\n",
              "    </tr>\n",
              "  </tbody>\n",
              "</table>\n",
              "</div>\n",
              "    <div class=\"colab-df-buttons\">\n",
              "\n",
              "  <div class=\"colab-df-container\">\n",
              "    <button class=\"colab-df-convert\" onclick=\"convertToInteractive('df-4e44ff92-0aa8-4e2b-9e5e-94a6f1921c0e')\"\n",
              "            title=\"Convert this dataframe to an interactive table.\"\n",
              "            style=\"display:none;\">\n",
              "\n",
              "  <svg xmlns=\"http://www.w3.org/2000/svg\" height=\"24px\" viewBox=\"0 -960 960 960\">\n",
              "    <path d=\"M120-120v-720h720v720H120Zm60-500h600v-160H180v160Zm220 220h160v-160H400v160Zm0 220h160v-160H400v160ZM180-400h160v-160H180v160Zm440 0h160v-160H620v160ZM180-180h160v-160H180v160Zm440 0h160v-160H620v160Z\"/>\n",
              "  </svg>\n",
              "    </button>\n",
              "\n",
              "  <style>\n",
              "    .colab-df-container {\n",
              "      display:flex;\n",
              "      gap: 12px;\n",
              "    }\n",
              "\n",
              "    .colab-df-convert {\n",
              "      background-color: #E8F0FE;\n",
              "      border: none;\n",
              "      border-radius: 50%;\n",
              "      cursor: pointer;\n",
              "      display: none;\n",
              "      fill: #1967D2;\n",
              "      height: 32px;\n",
              "      padding: 0 0 0 0;\n",
              "      width: 32px;\n",
              "    }\n",
              "\n",
              "    .colab-df-convert:hover {\n",
              "      background-color: #E2EBFA;\n",
              "      box-shadow: 0px 1px 2px rgba(60, 64, 67, 0.3), 0px 1px 3px 1px rgba(60, 64, 67, 0.15);\n",
              "      fill: #174EA6;\n",
              "    }\n",
              "\n",
              "    .colab-df-buttons div {\n",
              "      margin-bottom: 4px;\n",
              "    }\n",
              "\n",
              "    [theme=dark] .colab-df-convert {\n",
              "      background-color: #3B4455;\n",
              "      fill: #D2E3FC;\n",
              "    }\n",
              "\n",
              "    [theme=dark] .colab-df-convert:hover {\n",
              "      background-color: #434B5C;\n",
              "      box-shadow: 0px 1px 3px 1px rgba(0, 0, 0, 0.15);\n",
              "      filter: drop-shadow(0px 1px 2px rgba(0, 0, 0, 0.3));\n",
              "      fill: #FFFFFF;\n",
              "    }\n",
              "  </style>\n",
              "\n",
              "    <script>\n",
              "      const buttonEl =\n",
              "        document.querySelector('#df-4e44ff92-0aa8-4e2b-9e5e-94a6f1921c0e button.colab-df-convert');\n",
              "      buttonEl.style.display =\n",
              "        google.colab.kernel.accessAllowed ? 'block' : 'none';\n",
              "\n",
              "      async function convertToInteractive(key) {\n",
              "        const element = document.querySelector('#df-4e44ff92-0aa8-4e2b-9e5e-94a6f1921c0e');\n",
              "        const dataTable =\n",
              "          await google.colab.kernel.invokeFunction('convertToInteractive',\n",
              "                                                    [key], {});\n",
              "        if (!dataTable) return;\n",
              "\n",
              "        const docLinkHtml = 'Like what you see? Visit the ' +\n",
              "          '<a target=\"_blank\" href=https://colab.research.google.com/notebooks/data_table.ipynb>data table notebook</a>'\n",
              "          + ' to learn more about interactive tables.';\n",
              "        element.innerHTML = '';\n",
              "        dataTable['output_type'] = 'display_data';\n",
              "        await google.colab.output.renderOutput(dataTable, element);\n",
              "        const docLink = document.createElement('div');\n",
              "        docLink.innerHTML = docLinkHtml;\n",
              "        element.appendChild(docLink);\n",
              "      }\n",
              "    </script>\n",
              "  </div>\n",
              "\n",
              "\n",
              "<div id=\"df-dc9007f7-50fd-4ee1-88df-0f14b85f56a8\">\n",
              "  <button class=\"colab-df-quickchart\" onclick=\"quickchart('df-dc9007f7-50fd-4ee1-88df-0f14b85f56a8')\"\n",
              "            title=\"Suggest charts\"\n",
              "            style=\"display:none;\">\n",
              "\n",
              "<svg xmlns=\"http://www.w3.org/2000/svg\" height=\"24px\"viewBox=\"0 0 24 24\"\n",
              "     width=\"24px\">\n",
              "    <g>\n",
              "        <path d=\"M19 3H5c-1.1 0-2 .9-2 2v14c0 1.1.9 2 2 2h14c1.1 0 2-.9 2-2V5c0-1.1-.9-2-2-2zM9 17H7v-7h2v7zm4 0h-2V7h2v10zm4 0h-2v-4h2v4z\"/>\n",
              "    </g>\n",
              "</svg>\n",
              "  </button>\n",
              "\n",
              "<style>\n",
              "  .colab-df-quickchart {\n",
              "      --bg-color: #E8F0FE;\n",
              "      --fill-color: #1967D2;\n",
              "      --hover-bg-color: #E2EBFA;\n",
              "      --hover-fill-color: #174EA6;\n",
              "      --disabled-fill-color: #AAA;\n",
              "      --disabled-bg-color: #DDD;\n",
              "  }\n",
              "\n",
              "  [theme=dark] .colab-df-quickchart {\n",
              "      --bg-color: #3B4455;\n",
              "      --fill-color: #D2E3FC;\n",
              "      --hover-bg-color: #434B5C;\n",
              "      --hover-fill-color: #FFFFFF;\n",
              "      --disabled-bg-color: #3B4455;\n",
              "      --disabled-fill-color: #666;\n",
              "  }\n",
              "\n",
              "  .colab-df-quickchart {\n",
              "    background-color: var(--bg-color);\n",
              "    border: none;\n",
              "    border-radius: 50%;\n",
              "    cursor: pointer;\n",
              "    display: none;\n",
              "    fill: var(--fill-color);\n",
              "    height: 32px;\n",
              "    padding: 0;\n",
              "    width: 32px;\n",
              "  }\n",
              "\n",
              "  .colab-df-quickchart:hover {\n",
              "    background-color: var(--hover-bg-color);\n",
              "    box-shadow: 0 1px 2px rgba(60, 64, 67, 0.3), 0 1px 3px 1px rgba(60, 64, 67, 0.15);\n",
              "    fill: var(--button-hover-fill-color);\n",
              "  }\n",
              "\n",
              "  .colab-df-quickchart-complete:disabled,\n",
              "  .colab-df-quickchart-complete:disabled:hover {\n",
              "    background-color: var(--disabled-bg-color);\n",
              "    fill: var(--disabled-fill-color);\n",
              "    box-shadow: none;\n",
              "  }\n",
              "\n",
              "  .colab-df-spinner {\n",
              "    border: 2px solid var(--fill-color);\n",
              "    border-color: transparent;\n",
              "    border-bottom-color: var(--fill-color);\n",
              "    animation:\n",
              "      spin 1s steps(1) infinite;\n",
              "  }\n",
              "\n",
              "  @keyframes spin {\n",
              "    0% {\n",
              "      border-color: transparent;\n",
              "      border-bottom-color: var(--fill-color);\n",
              "      border-left-color: var(--fill-color);\n",
              "    }\n",
              "    20% {\n",
              "      border-color: transparent;\n",
              "      border-left-color: var(--fill-color);\n",
              "      border-top-color: var(--fill-color);\n",
              "    }\n",
              "    30% {\n",
              "      border-color: transparent;\n",
              "      border-left-color: var(--fill-color);\n",
              "      border-top-color: var(--fill-color);\n",
              "      border-right-color: var(--fill-color);\n",
              "    }\n",
              "    40% {\n",
              "      border-color: transparent;\n",
              "      border-right-color: var(--fill-color);\n",
              "      border-top-color: var(--fill-color);\n",
              "    }\n",
              "    60% {\n",
              "      border-color: transparent;\n",
              "      border-right-color: var(--fill-color);\n",
              "    }\n",
              "    80% {\n",
              "      border-color: transparent;\n",
              "      border-right-color: var(--fill-color);\n",
              "      border-bottom-color: var(--fill-color);\n",
              "    }\n",
              "    90% {\n",
              "      border-color: transparent;\n",
              "      border-bottom-color: var(--fill-color);\n",
              "    }\n",
              "  }\n",
              "</style>\n",
              "\n",
              "  <script>\n",
              "    async function quickchart(key) {\n",
              "      const quickchartButtonEl =\n",
              "        document.querySelector('#' + key + ' button');\n",
              "      quickchartButtonEl.disabled = true;  // To prevent multiple clicks.\n",
              "      quickchartButtonEl.classList.add('colab-df-spinner');\n",
              "      try {\n",
              "        const charts = await google.colab.kernel.invokeFunction(\n",
              "            'suggestCharts', [key], {});\n",
              "      } catch (error) {\n",
              "        console.error('Error during call to suggestCharts:', error);\n",
              "      }\n",
              "      quickchartButtonEl.classList.remove('colab-df-spinner');\n",
              "      quickchartButtonEl.classList.add('colab-df-quickchart-complete');\n",
              "    }\n",
              "    (() => {\n",
              "      let quickchartButtonEl =\n",
              "        document.querySelector('#df-dc9007f7-50fd-4ee1-88df-0f14b85f56a8 button');\n",
              "      quickchartButtonEl.style.display =\n",
              "        google.colab.kernel.accessAllowed ? 'block' : 'none';\n",
              "    })();\n",
              "  </script>\n",
              "</div>\n",
              "\n",
              "    </div>\n",
              "  </div>\n"
            ],
            "application/vnd.google.colaboratory.intrinsic+json": {
              "type": "dataframe",
              "summary": "{\n  \"name\": \"data\",\n  \"rows\": 5,\n  \"fields\": [\n    {\n      \"column\": \"MESSAGE\",\n      \"properties\": {\n        \"dtype\": \"string\",\n        \"num_unique_values\": 5,\n        \"samples\": [\n          \"> There are so many good musician jokes.\\n\\n\\n\\nYoung Lutheran's Guide To The Orchestra\\n\\n\\n\\nCheers,\\n\\nWayne\\n\\n\\n\\nhttp://xent.com/mailman/listinfo/fork\\n\\n\\n\\n\\n\",\n          \"  | Date: Fri, 19 Jul 2002 16:15:49 +0100\\n\\n  | From: Brian Foster <blf@utvinternet.ie>\\n\\n  |[ ... ]\\n\\n  |  the issue here is tar(1) (and cpio(1)) archives always\\n\\n  |  contain the data for each name of a hard link.  [ ... ]\\n\\n\\n\\n ARRGGGHHHH!!!!!\\n\\n profuse apologies, the wrong version of my reply was posted\\n\\n (blame it on being late for the pub).  ;-(\\n\\n\\n\\n the above is almost pure B*S* --- I got my `tar's and `cpio's\\n\\n confused.  what I said _is_ correct, but for cpio(1) archives;\\n\\n tar(1) archives do _not_ replicate the data for hard links.\\n\\n\\n\\n I spotted this confusion on my part before I posted my reply,\\n\\n and re-wrote it to be more correct, yet somehow the wrong\\n\\n version got sent anyways.  ARRGGGHHHH!!!!!  ;-(  ;-(  ;-(\\n\\n\\n\\n anyways, GNU `cpio -p' does not do spurious reads or writes.\\n\\n GNU `tar cf - ... | tar xf - ...' also does not, albeit each\\n\\n `tar' both reads and writes the data.  hence, there is twice\\n\\n (not thrice!) the I/O of `cpio -p', maybe an issue for c.60Gb.\\n\\n\\n\\n using strace(1), I've verified my claim GNU `cpio -p' does\\n\\n not do spurious reads or writes, i.e. it link(2)s.  but having\\n\\n just come back from the pub, perhaps this should also be taken\\n\\n with extra skepticism ......   ;-\\\\ \\n\\n\\n\\nsorry.  cheers!\\n\\n\\t-blf-\\n\\n--\\n\\n Innovative, very experienced, Unix and      | Brian Foster    Dublin, Ireland\\n\\n Chorus (embedded RTOS) kernel internals     | e-mail: blf@utvinternet.ie\\n\\n expert looking for a new position ...       | mobile: (+353 or 0)86 854 9268\\n\\n  For a r\\u00c3\\u00a9sum\\u00c3\\u00a9, contact me, or see my website  http://www.blf.utvinternet.ie\\n\\n\\n\\n    Stop E$$o (ExxonMobile):  \\u00c2\\u00abWhatever you do, don't buy Esso --- they\\n\\n     don't give a damn about global warming.\\u00c2\\u00bb    http://www.stopesso.com\\n\\n     Supported by Greenpeace, Friends of the Earth, and numerous others...\\n\\n\\n\\n-- \\n\\nIrish Linux Users' Group: ilug@linux.ie\\n\\nhttp://www.linux.ie/mailman/listinfo/ilug for (un)subscription information.\\n\\nList maintainer: listmaster@linux.ie\\n\\n\\n\\n\\n\",\n          \"No problems installing OpenOffice 653??? and 1.0. Had some issues with bz2's\\n\\nbeing corrupted but fixed when downloaded again. \\n\\n\\n\\nI am downloading the src of 1.01 at the mo to se if it will work any faster\\n\\ncompiled for my architecture. \\n\\n\\n\\nRegards,\\n\\nCW\\n\\n\\n\\n------------\\n\\nHi All,\\n\\n\\n\\nJust wondering if anyone has ever installed StarOffice\\n\\n6.0 (or Open Office), and if any have experienced any\\n\\nproblems with the install freezing ?\\n\\n\\n\\nI'm using RedHat 7.3 kernel 2.4.18-3, and glibc 2.2.5\\n\\n?\\n\\n\\n\\nI might try downloading OpenOffice instead if it is\\n\\nunresolved!!!!\\n\\n\\n\\nCheers all,\\n\\n\\n\\nColin\\n\\n\\n\\n\\n\\n__________________________________________________\\n\\nDo You Yahoo!?\\n\\nEverything you'll ever need on one web page\\n\\nfrom News and Sport to Email and Music Charts\\n\\nhttp://uk.my.yahoo.com\\n\\n\\n\\n-- \\n\\nIrish Linux Users' Group: ilug@linux.ie\\n\\nhttp://www.linux.ie/mailman/listinfo/ilug for (un)subscription information.\\n\\nList maintainer: listmaster@linux.ie\\n\\n\\n\"\n        ],\n        \"semantic_type\": \"\",\n        \"description\": \"\"\n      }\n    },\n    {\n      \"column\": \"CATEGORY\",\n      \"properties\": {\n        \"dtype\": \"number\",\n        \"std\": 0,\n        \"min\": 0,\n        \"max\": 0,\n        \"num_unique_values\": 1,\n        \"samples\": [\n          0\n        ],\n        \"semantic_type\": \"\",\n        \"description\": \"\"\n      }\n    }\n  ]\n}"
            }
          },
          "metadata": {},
          "execution_count": 29
        }
      ]
    },
    {
      "cell_type": "markdown",
      "source": [
        "**Data Cleaning: Checking for missing values**"
      ],
      "metadata": {
        "id": "2uMnDLGDJVxT"
      }
    },
    {
      "cell_type": "code",
      "source": [
        "#Check if any message bodies are null\n",
        "#data.MESSAGE\n",
        "#second option\n",
        "data['MESSAGE'].isnull().values.any()\n"
      ],
      "metadata": {
        "colab": {
          "base_uri": "https://localhost:8080/"
        },
        "id": "1xuzGu8BJjf7",
        "outputId": "1236b4f2-e41c-41ff-8ac4-ab30575f19bb"
      },
      "execution_count": 30,
      "outputs": [
        {
          "output_type": "execute_result",
          "data": {
            "text/plain": [
              "False"
            ]
          },
          "metadata": {},
          "execution_count": 30
        }
      ]
    },
    {
      "cell_type": "code",
      "source": [
        "#check if there are empty emails(string length zero)\n",
        "(data.MESSAGE.str.len() == 0).any()"
      ],
      "metadata": {
        "colab": {
          "base_uri": "https://localhost:8080/"
        },
        "id": "bGqh_5plLmTu",
        "outputId": "4dd89c2a-3174-4109-d17f-cbd7100a5faa"
      },
      "execution_count": 31,
      "outputs": [
        {
          "output_type": "execute_result",
          "data": {
            "text/plain": [
              "True"
            ]
          },
          "metadata": {},
          "execution_count": 31
        }
      ]
    },
    {
      "cell_type": "code",
      "source": [
        "(data.MESSAGE.str.len() == 0).sum()"
      ],
      "metadata": {
        "colab": {
          "base_uri": "https://localhost:8080/"
        },
        "id": "NoAYzUJ-LlWt",
        "outputId": "68639561-73f8-4191-b6e1-978cd5a0a371"
      },
      "execution_count": 32,
      "outputs": [
        {
          "output_type": "execute_result",
          "data": {
            "text/plain": [
              "3"
            ]
          },
          "metadata": {},
          "execution_count": 32
        }
      ]
    },
    {
      "cell_type": "code",
      "source": [
        "data.MESSAGE.isnull().sum()"
      ],
      "metadata": {
        "colab": {
          "base_uri": "https://localhost:8080/"
        },
        "id": "5F9dddeqNSR4",
        "outputId": "e993533d-8bd7-4b1c-a239-a415310b3457"
      },
      "execution_count": 33,
      "outputs": [
        {
          "output_type": "execute_result",
          "data": {
            "text/plain": [
              "0"
            ]
          },
          "metadata": {},
          "execution_count": 33
        }
      ]
    },
    {
      "cell_type": "markdown",
      "source": [
        "**Locate empty emails**"
      ],
      "metadata": {
        "id": "xfRwDa4wNk1p"
      }
    },
    {
      "cell_type": "code",
      "source": [
        "type(data.MESSAGE.str.len() == 0)"
      ],
      "metadata": {
        "colab": {
          "base_uri": "https://localhost:8080/",
          "height": 203
        },
        "id": "wsigJjTBNjbT",
        "outputId": "79df74ce-d251-422d-bfe1-6cc685ebc086"
      },
      "execution_count": 34,
      "outputs": [
        {
          "output_type": "execute_result",
          "data": {
            "text/plain": [
              "pandas.core.series.Series"
            ],
            "text/html": [
              "<div style=\"max-width:800px; border: 1px solid var(--colab-border-color);\"><style>\n",
              "      pre.function-repr-contents {\n",
              "        overflow-x: auto;\n",
              "        padding: 8px 12px;\n",
              "        max-height: 500px;\n",
              "      }\n",
              "\n",
              "      pre.function-repr-contents.function-repr-contents-collapsed {\n",
              "        cursor: pointer;\n",
              "        max-height: 100px;\n",
              "      }\n",
              "    </style>\n",
              "    <pre style=\"white-space: initial; background:\n",
              "         var(--colab-secondary-surface-color); padding: 8px 12px;\n",
              "         border-bottom: 1px solid var(--colab-border-color);\"><b>pandas.core.series.Series</b><br/>def __init__(data=None, index=None, dtype: Dtype | None=None, name=None, copy: bool | None=None, fastpath: bool=False) -&gt; None</pre><pre class=\"function-repr-contents function-repr-contents-collapsed\" style=\"\"><a class=\"filepath\" style=\"display:none\" href=\"#\">/usr/local/lib/python3.10/dist-packages/pandas/core/series.py</a>One-dimensional ndarray with axis labels (including time series).\n",
              "\n",
              "Labels need not be unique but must be a hashable type. The object\n",
              "supports both integer- and label-based indexing and provides a host of\n",
              "methods for performing operations involving the index. Statistical\n",
              "methods from ndarray have been overridden to automatically exclude\n",
              "missing data (currently represented as NaN).\n",
              "\n",
              "Operations between Series (+, -, /, \\*, \\*\\*) align values based on their\n",
              "associated index values-- they need not be the same length. The result\n",
              "index will be the sorted union of the two indexes.\n",
              "\n",
              "Parameters\n",
              "----------\n",
              "data : array-like, Iterable, dict, or scalar value\n",
              "    Contains data stored in Series. If data is a dict, argument order is\n",
              "    maintained.\n",
              "index : array-like or Index (1d)\n",
              "    Values must be hashable and have the same length as `data`.\n",
              "    Non-unique index values are allowed. Will default to\n",
              "    RangeIndex (0, 1, 2, ..., n) if not provided. If data is dict-like\n",
              "    and index is None, then the keys in the data are used as the index. If the\n",
              "    index is not None, the resulting Series is reindexed with the index values.\n",
              "dtype : str, numpy.dtype, or ExtensionDtype, optional\n",
              "    Data type for the output Series. If not specified, this will be\n",
              "    inferred from `data`.\n",
              "    See the :ref:`user guide &lt;basics.dtypes&gt;` for more usages.\n",
              "name : Hashable, default None\n",
              "    The name to give to the Series.\n",
              "copy : bool, default False\n",
              "    Copy input data. Only affects Series or 1d ndarray input. See examples.\n",
              "\n",
              "Notes\n",
              "-----\n",
              "Please reference the :ref:`User Guide &lt;basics.series&gt;` for more information.\n",
              "\n",
              "Examples\n",
              "--------\n",
              "Constructing Series from a dictionary with an Index specified\n",
              "\n",
              "&gt;&gt;&gt; d = {&#x27;a&#x27;: 1, &#x27;b&#x27;: 2, &#x27;c&#x27;: 3}\n",
              "&gt;&gt;&gt; ser = pd.Series(data=d, index=[&#x27;a&#x27;, &#x27;b&#x27;, &#x27;c&#x27;])\n",
              "&gt;&gt;&gt; ser\n",
              "a   1\n",
              "b   2\n",
              "c   3\n",
              "dtype: int64\n",
              "\n",
              "The keys of the dictionary match with the Index values, hence the Index\n",
              "values have no effect.\n",
              "\n",
              "&gt;&gt;&gt; d = {&#x27;a&#x27;: 1, &#x27;b&#x27;: 2, &#x27;c&#x27;: 3}\n",
              "&gt;&gt;&gt; ser = pd.Series(data=d, index=[&#x27;x&#x27;, &#x27;y&#x27;, &#x27;z&#x27;])\n",
              "&gt;&gt;&gt; ser\n",
              "x   NaN\n",
              "y   NaN\n",
              "z   NaN\n",
              "dtype: float64\n",
              "\n",
              "Note that the Index is first build with the keys from the dictionary.\n",
              "After this the Series is reindexed with the given Index values, hence we\n",
              "get all NaN as a result.\n",
              "\n",
              "Constructing Series from a list with `copy=False`.\n",
              "\n",
              "&gt;&gt;&gt; r = [1, 2]\n",
              "&gt;&gt;&gt; ser = pd.Series(r, copy=False)\n",
              "&gt;&gt;&gt; ser.iloc[0] = 999\n",
              "&gt;&gt;&gt; r\n",
              "[1, 2]\n",
              "&gt;&gt;&gt; ser\n",
              "0    999\n",
              "1      2\n",
              "dtype: int64\n",
              "\n",
              "Due to input data type the Series has a `copy` of\n",
              "the original data even though `copy=False`, so\n",
              "the data is unchanged.\n",
              "\n",
              "Constructing Series from a 1d ndarray with `copy=False`.\n",
              "\n",
              "&gt;&gt;&gt; r = np.array([1, 2])\n",
              "&gt;&gt;&gt; ser = pd.Series(r, copy=False)\n",
              "&gt;&gt;&gt; ser.iloc[0] = 999\n",
              "&gt;&gt;&gt; r\n",
              "array([999,   2])\n",
              "&gt;&gt;&gt; ser\n",
              "0    999\n",
              "1      2\n",
              "dtype: int64\n",
              "\n",
              "Due to input data type the Series has a `view` on\n",
              "the original data, so\n",
              "the data is changed as well.</pre>\n",
              "      <script>\n",
              "      if (google.colab.kernel.accessAllowed && google.colab.files && google.colab.files.view) {\n",
              "        for (const element of document.querySelectorAll('.filepath')) {\n",
              "          element.style.display = 'block'\n",
              "          element.onclick = (event) => {\n",
              "            event.preventDefault();\n",
              "            event.stopPropagation();\n",
              "            google.colab.files.view(element.textContent, 245);\n",
              "          };\n",
              "        }\n",
              "      }\n",
              "      for (const element of document.querySelectorAll('.function-repr-contents')) {\n",
              "        element.onclick = (event) => {\n",
              "          event.preventDefault();\n",
              "          event.stopPropagation();\n",
              "          element.classList.toggle('function-repr-contents-collapsed');\n",
              "        };\n",
              "      }\n",
              "      </script>\n",
              "      </div>"
            ]
          },
          "metadata": {},
          "execution_count": 34
        }
      ]
    },
    {
      "cell_type": "code",
      "source": [
        "data[data.MESSAGE.str.len() == 0].index"
      ],
      "metadata": {
        "colab": {
          "base_uri": "https://localhost:8080/"
        },
        "id": "A_7qGsAWNxEb",
        "outputId": "94d48234-5efa-45ab-87d0-6164cd7a2ccd"
      },
      "execution_count": 35,
      "outputs": [
        {
          "output_type": "execute_result",
          "data": {
            "text/plain": [
              "Index(['cmds', 'cmds', 'cmds'], dtype='object')"
            ]
          },
          "metadata": {},
          "execution_count": 35
        }
      ]
    },
    {
      "cell_type": "code",
      "source": [
        "data.index.get_loc('cmds')"
      ],
      "metadata": {
        "colab": {
          "base_uri": "https://localhost:8080/"
        },
        "id": "oLZc7TEhOCLJ",
        "outputId": "2175e81c-c825-4549-821f-1ae31c13d5ea"
      },
      "execution_count": 36,
      "outputs": [
        {
          "output_type": "execute_result",
          "data": {
            "text/plain": [
              "array([False, False, False, ..., False, False, False])"
            ]
          },
          "metadata": {},
          "execution_count": 36
        }
      ]
    },
    {
      "cell_type": "markdown",
      "source": [
        "**Remove System File Entries from Dataframe**"
      ],
      "metadata": {
        "id": "D_SDUwlsO_H4"
      }
    },
    {
      "cell_type": "code",
      "source": [
        "data.drop(['cmds'], inplace=True)\n"
      ],
      "metadata": {
        "colab": {
          "base_uri": "https://localhost:8080/",
          "height": 143
        },
        "id": "1jSzIfXnuDAf",
        "outputId": "0ed777f7-08d6-485a-cf68-61f148e928ad"
      },
      "execution_count": 39,
      "outputs": [
        {
          "output_type": "execute_result",
          "data": {
            "text/plain": [
              "                                                                                  MESSAGE  \\\n",
              "01274.0d083a2d3b30061efdc2cc73ee9e76e3  <a href=http://www.aaronsw.com/weblog/>\\n\\nAar...   \n",
              "00799.43fc9562e5a55f83f0ff75fd648bbe87  \\n\\nSo whats the eariliest  for hitting 7k?\\n\\...   \n",
              "00843.b26541d28a2a01ed3f2e9e5597ea321d  funny load message:\\n\\nmoo!moo!moo!moo!moo!moo...   \n",
              "\n",
              "                                        CATEGORY  \n",
              "01274.0d083a2d3b30061efdc2cc73ee9e76e3         0  \n",
              "00799.43fc9562e5a55f83f0ff75fd648bbe87         0  \n",
              "00843.b26541d28a2a01ed3f2e9e5597ea321d         0  "
            ],
            "text/html": [
              "\n",
              "  <div id=\"df-2ff03432-54cd-43ca-93d0-dfbcd7569c72\" class=\"colab-df-container\">\n",
              "    <div>\n",
              "<style scoped>\n",
              "    .dataframe tbody tr th:only-of-type {\n",
              "        vertical-align: middle;\n",
              "    }\n",
              "\n",
              "    .dataframe tbody tr th {\n",
              "        vertical-align: top;\n",
              "    }\n",
              "\n",
              "    .dataframe thead th {\n",
              "        text-align: right;\n",
              "    }\n",
              "</style>\n",
              "<table border=\"1\" class=\"dataframe\">\n",
              "  <thead>\n",
              "    <tr style=\"text-align: right;\">\n",
              "      <th></th>\n",
              "      <th>MESSAGE</th>\n",
              "      <th>CATEGORY</th>\n",
              "    </tr>\n",
              "  </thead>\n",
              "  <tbody>\n",
              "    <tr>\n",
              "      <th>01274.0d083a2d3b30061efdc2cc73ee9e76e3</th>\n",
              "      <td>&lt;a href=http://www.aaronsw.com/weblog/&gt;\\n\\nAar...</td>\n",
              "      <td>0</td>\n",
              "    </tr>\n",
              "    <tr>\n",
              "      <th>00799.43fc9562e5a55f83f0ff75fd648bbe87</th>\n",
              "      <td>\\n\\nSo whats the eariliest  for hitting 7k?\\n\\...</td>\n",
              "      <td>0</td>\n",
              "    </tr>\n",
              "    <tr>\n",
              "      <th>00843.b26541d28a2a01ed3f2e9e5597ea321d</th>\n",
              "      <td>funny load message:\\n\\nmoo!moo!moo!moo!moo!moo...</td>\n",
              "      <td>0</td>\n",
              "    </tr>\n",
              "  </tbody>\n",
              "</table>\n",
              "</div>\n",
              "    <div class=\"colab-df-buttons\">\n",
              "\n",
              "  <div class=\"colab-df-container\">\n",
              "    <button class=\"colab-df-convert\" onclick=\"convertToInteractive('df-2ff03432-54cd-43ca-93d0-dfbcd7569c72')\"\n",
              "            title=\"Convert this dataframe to an interactive table.\"\n",
              "            style=\"display:none;\">\n",
              "\n",
              "  <svg xmlns=\"http://www.w3.org/2000/svg\" height=\"24px\" viewBox=\"0 -960 960 960\">\n",
              "    <path d=\"M120-120v-720h720v720H120Zm60-500h600v-160H180v160Zm220 220h160v-160H400v160Zm0 220h160v-160H400v160ZM180-400h160v-160H180v160Zm440 0h160v-160H620v160ZM180-180h160v-160H180v160Zm440 0h160v-160H620v160Z\"/>\n",
              "  </svg>\n",
              "    </button>\n",
              "\n",
              "  <style>\n",
              "    .colab-df-container {\n",
              "      display:flex;\n",
              "      gap: 12px;\n",
              "    }\n",
              "\n",
              "    .colab-df-convert {\n",
              "      background-color: #E8F0FE;\n",
              "      border: none;\n",
              "      border-radius: 50%;\n",
              "      cursor: pointer;\n",
              "      display: none;\n",
              "      fill: #1967D2;\n",
              "      height: 32px;\n",
              "      padding: 0 0 0 0;\n",
              "      width: 32px;\n",
              "    }\n",
              "\n",
              "    .colab-df-convert:hover {\n",
              "      background-color: #E2EBFA;\n",
              "      box-shadow: 0px 1px 2px rgba(60, 64, 67, 0.3), 0px 1px 3px 1px rgba(60, 64, 67, 0.15);\n",
              "      fill: #174EA6;\n",
              "    }\n",
              "\n",
              "    .colab-df-buttons div {\n",
              "      margin-bottom: 4px;\n",
              "    }\n",
              "\n",
              "    [theme=dark] .colab-df-convert {\n",
              "      background-color: #3B4455;\n",
              "      fill: #D2E3FC;\n",
              "    }\n",
              "\n",
              "    [theme=dark] .colab-df-convert:hover {\n",
              "      background-color: #434B5C;\n",
              "      box-shadow: 0px 1px 3px 1px rgba(0, 0, 0, 0.15);\n",
              "      filter: drop-shadow(0px 1px 2px rgba(0, 0, 0, 0.3));\n",
              "      fill: #FFFFFF;\n",
              "    }\n",
              "  </style>\n",
              "\n",
              "    <script>\n",
              "      const buttonEl =\n",
              "        document.querySelector('#df-2ff03432-54cd-43ca-93d0-dfbcd7569c72 button.colab-df-convert');\n",
              "      buttonEl.style.display =\n",
              "        google.colab.kernel.accessAllowed ? 'block' : 'none';\n",
              "\n",
              "      async function convertToInteractive(key) {\n",
              "        const element = document.querySelector('#df-2ff03432-54cd-43ca-93d0-dfbcd7569c72');\n",
              "        const dataTable =\n",
              "          await google.colab.kernel.invokeFunction('convertToInteractive',\n",
              "                                                    [key], {});\n",
              "        if (!dataTable) return;\n",
              "\n",
              "        const docLinkHtml = 'Like what you see? Visit the ' +\n",
              "          '<a target=\"_blank\" href=https://colab.research.google.com/notebooks/data_table.ipynb>data table notebook</a>'\n",
              "          + ' to learn more about interactive tables.';\n",
              "        element.innerHTML = '';\n",
              "        dataTable['output_type'] = 'display_data';\n",
              "        await google.colab.output.renderOutput(dataTable, element);\n",
              "        const docLink = document.createElement('div');\n",
              "        docLink.innerHTML = docLinkHtml;\n",
              "        element.appendChild(docLink);\n",
              "      }\n",
              "    </script>\n",
              "  </div>\n",
              "\n",
              "\n",
              "<div id=\"df-14c72e6a-5d1d-4497-8bf6-18681de074ee\">\n",
              "  <button class=\"colab-df-quickchart\" onclick=\"quickchart('df-14c72e6a-5d1d-4497-8bf6-18681de074ee')\"\n",
              "            title=\"Suggest charts\"\n",
              "            style=\"display:none;\">\n",
              "\n",
              "<svg xmlns=\"http://www.w3.org/2000/svg\" height=\"24px\"viewBox=\"0 0 24 24\"\n",
              "     width=\"24px\">\n",
              "    <g>\n",
              "        <path d=\"M19 3H5c-1.1 0-2 .9-2 2v14c0 1.1.9 2 2 2h14c1.1 0 2-.9 2-2V5c0-1.1-.9-2-2-2zM9 17H7v-7h2v7zm4 0h-2V7h2v10zm4 0h-2v-4h2v4z\"/>\n",
              "    </g>\n",
              "</svg>\n",
              "  </button>\n",
              "\n",
              "<style>\n",
              "  .colab-df-quickchart {\n",
              "      --bg-color: #E8F0FE;\n",
              "      --fill-color: #1967D2;\n",
              "      --hover-bg-color: #E2EBFA;\n",
              "      --hover-fill-color: #174EA6;\n",
              "      --disabled-fill-color: #AAA;\n",
              "      --disabled-bg-color: #DDD;\n",
              "  }\n",
              "\n",
              "  [theme=dark] .colab-df-quickchart {\n",
              "      --bg-color: #3B4455;\n",
              "      --fill-color: #D2E3FC;\n",
              "      --hover-bg-color: #434B5C;\n",
              "      --hover-fill-color: #FFFFFF;\n",
              "      --disabled-bg-color: #3B4455;\n",
              "      --disabled-fill-color: #666;\n",
              "  }\n",
              "\n",
              "  .colab-df-quickchart {\n",
              "    background-color: var(--bg-color);\n",
              "    border: none;\n",
              "    border-radius: 50%;\n",
              "    cursor: pointer;\n",
              "    display: none;\n",
              "    fill: var(--fill-color);\n",
              "    height: 32px;\n",
              "    padding: 0;\n",
              "    width: 32px;\n",
              "  }\n",
              "\n",
              "  .colab-df-quickchart:hover {\n",
              "    background-color: var(--hover-bg-color);\n",
              "    box-shadow: 0 1px 2px rgba(60, 64, 67, 0.3), 0 1px 3px 1px rgba(60, 64, 67, 0.15);\n",
              "    fill: var(--button-hover-fill-color);\n",
              "  }\n",
              "\n",
              "  .colab-df-quickchart-complete:disabled,\n",
              "  .colab-df-quickchart-complete:disabled:hover {\n",
              "    background-color: var(--disabled-bg-color);\n",
              "    fill: var(--disabled-fill-color);\n",
              "    box-shadow: none;\n",
              "  }\n",
              "\n",
              "  .colab-df-spinner {\n",
              "    border: 2px solid var(--fill-color);\n",
              "    border-color: transparent;\n",
              "    border-bottom-color: var(--fill-color);\n",
              "    animation:\n",
              "      spin 1s steps(1) infinite;\n",
              "  }\n",
              "\n",
              "  @keyframes spin {\n",
              "    0% {\n",
              "      border-color: transparent;\n",
              "      border-bottom-color: var(--fill-color);\n",
              "      border-left-color: var(--fill-color);\n",
              "    }\n",
              "    20% {\n",
              "      border-color: transparent;\n",
              "      border-left-color: var(--fill-color);\n",
              "      border-top-color: var(--fill-color);\n",
              "    }\n",
              "    30% {\n",
              "      border-color: transparent;\n",
              "      border-left-color: var(--fill-color);\n",
              "      border-top-color: var(--fill-color);\n",
              "      border-right-color: var(--fill-color);\n",
              "    }\n",
              "    40% {\n",
              "      border-color: transparent;\n",
              "      border-right-color: var(--fill-color);\n",
              "      border-top-color: var(--fill-color);\n",
              "    }\n",
              "    60% {\n",
              "      border-color: transparent;\n",
              "      border-right-color: var(--fill-color);\n",
              "    }\n",
              "    80% {\n",
              "      border-color: transparent;\n",
              "      border-right-color: var(--fill-color);\n",
              "      border-bottom-color: var(--fill-color);\n",
              "    }\n",
              "    90% {\n",
              "      border-color: transparent;\n",
              "      border-bottom-color: var(--fill-color);\n",
              "    }\n",
              "  }\n",
              "</style>\n",
              "\n",
              "  <script>\n",
              "    async function quickchart(key) {\n",
              "      const quickchartButtonEl =\n",
              "        document.querySelector('#' + key + ' button');\n",
              "      quickchartButtonEl.disabled = true;  // To prevent multiple clicks.\n",
              "      quickchartButtonEl.classList.add('colab-df-spinner');\n",
              "      try {\n",
              "        const charts = await google.colab.kernel.invokeFunction(\n",
              "            'suggestCharts', [key], {});\n",
              "      } catch (error) {\n",
              "        console.error('Error during call to suggestCharts:', error);\n",
              "      }\n",
              "      quickchartButtonEl.classList.remove('colab-df-spinner');\n",
              "      quickchartButtonEl.classList.add('colab-df-quickchart-complete');\n",
              "    }\n",
              "    (() => {\n",
              "      let quickchartButtonEl =\n",
              "        document.querySelector('#df-14c72e6a-5d1d-4497-8bf6-18681de074ee button');\n",
              "      quickchartButtonEl.style.display =\n",
              "        google.colab.kernel.accessAllowed ? 'block' : 'none';\n",
              "    })();\n",
              "  </script>\n",
              "</div>\n",
              "\n",
              "    </div>\n",
              "  </div>\n"
            ],
            "application/vnd.google.colaboratory.intrinsic+json": {
              "type": "dataframe",
              "summary": "{\n  \"name\": \"data[4608:4611]\",\n  \"rows\": 3,\n  \"fields\": [\n    {\n      \"column\": \"MESSAGE\",\n      \"properties\": {\n        \"dtype\": \"string\",\n        \"num_unique_values\": 3,\n        \"samples\": [\n          \"<a href=http://www.aaronsw.com/weblog/>\\n\\nAaron</a> sez:\\n\\n\\n\\n  It's 1:30AM. Hours ago, my server seemed to stop working. I could ping\\n\\n  it, but I couldn't do anything else. We drove over to see what was up.\\n\\n  ... I'll just say that everything broke. Repeatedly.  ...  I think I\\n\\n  have a small idea what it's like to be Evan now. This is not what I want\\n\\n  to be when I grow up.\\n\\n\\n\\nNever mind that -- I think you now have an idea what it's like to be\\n\\nan on-call sysadmin ;)\\n\\n\\n\\n\\n\\n\\n\",\n          \"\\n\\nSo whats the eariliest  for hitting 7k?\\n\\n\\n\\nhttp://money.cnn.com/2002/07/19/markets/markets_newyork/index.htm\\n\\n\\n\\n\\\"According to preliminary reports, the Dow fell 390.23 to 8,019.26, to its\\n\\nlowest level since January 1998. The Nasdaq composite index lost 37.94 to\\n\\n1,319.01. The Standard & Poor's 500 index lost 34.03 to 847.53.\\n\\n\\n\\nThe index has fallen more than 1,000 points in the past two weeks and\\n\\nclosed down nine of the last 10 sessions. Both the Nasdaq and S&P are near\\n\\ntheir lowest levels since the first half of 1997.\\n\\n\\\"\\n\\n\\n\\n\\n\\n\\n\\n\\n\\n\\n\\nhttp://xent.com/mailman/listinfo/fork\\n\\n\\n\\n\\n\",\n          \"funny load message:\\n\\nmoo!moo!moo!moo!moo!moo!moo!moo!moo!moo!moo!moo!Document http://flog.us/ \\n\\nloaded successfully\\n\\n\\n\\nteehee\\n\\nC\\n\\n\\n\\n-- \\n\\n\\\"My theology, briefly, is that the universe was dictated but not\\n\\n          signed.\\\"  (Christopher Morley) \\n\\n\\n\\n\\n\\nhttp://xent.com/mailman/listinfo/fork\\n\\n\\n\\n\\n\"\n        ],\n        \"semantic_type\": \"\",\n        \"description\": \"\"\n      }\n    },\n    {\n      \"column\": \"CATEGORY\",\n      \"properties\": {\n        \"dtype\": \"number\",\n        \"std\": 0,\n        \"min\": 0,\n        \"max\": 0,\n        \"num_unique_values\": 1,\n        \"samples\": [\n          0\n        ],\n        \"semantic_type\": \"\",\n        \"description\": \"\"\n      }\n    }\n  ]\n}"
            }
          },
          "metadata": {},
          "execution_count": 39
        }
      ]
    },
    {
      "cell_type": "code",
      "source": [
        "data.shape"
      ],
      "metadata": {
        "colab": {
          "base_uri": "https://localhost:8080/"
        },
        "id": "BjDzfYVyukQr",
        "outputId": "1e73c9f0-25a0-4960-ae9a-eded2598739a"
      },
      "execution_count": 40,
      "outputs": [
        {
          "output_type": "execute_result",
          "data": {
            "text/plain": [
              "(5796, 2)"
            ]
          },
          "metadata": {},
          "execution_count": 40
        }
      ]
    },
    {
      "cell_type": "code",
      "source": [
        "type(data)\n"
      ],
      "metadata": {
        "colab": {
          "base_uri": "https://localhost:8080/",
          "height": 203
        },
        "id": "mlHpTbKSRkBJ",
        "outputId": "49f0181b-df57-46bf-d3ec-6a078818b2bb"
      },
      "execution_count": 37,
      "outputs": [
        {
          "output_type": "execute_result",
          "data": {
            "text/plain": [
              "pandas.core.frame.DataFrame"
            ],
            "text/html": [
              "<div style=\"max-width:800px; border: 1px solid var(--colab-border-color);\"><style>\n",
              "      pre.function-repr-contents {\n",
              "        overflow-x: auto;\n",
              "        padding: 8px 12px;\n",
              "        max-height: 500px;\n",
              "      }\n",
              "\n",
              "      pre.function-repr-contents.function-repr-contents-collapsed {\n",
              "        cursor: pointer;\n",
              "        max-height: 100px;\n",
              "      }\n",
              "    </style>\n",
              "    <pre style=\"white-space: initial; background:\n",
              "         var(--colab-secondary-surface-color); padding: 8px 12px;\n",
              "         border-bottom: 1px solid var(--colab-border-color);\"><b>pandas.core.frame.DataFrame</b><br/>def __init__(data=None, index: Axes | None=None, columns: Axes | None=None, dtype: Dtype | None=None, copy: bool | None=None) -&gt; None</pre><pre class=\"function-repr-contents function-repr-contents-collapsed\" style=\"\"><a class=\"filepath\" style=\"display:none\" href=\"#\">/usr/local/lib/python3.10/dist-packages/pandas/core/frame.py</a>Two-dimensional, size-mutable, potentially heterogeneous tabular data.\n",
              "\n",
              "Data structure also contains labeled axes (rows and columns).\n",
              "Arithmetic operations align on both row and column labels. Can be\n",
              "thought of as a dict-like container for Series objects. The primary\n",
              "pandas data structure.\n",
              "\n",
              "Parameters\n",
              "----------\n",
              "data : ndarray (structured or homogeneous), Iterable, dict, or DataFrame\n",
              "    Dict can contain Series, arrays, constants, dataclass or list-like objects. If\n",
              "    data is a dict, column order follows insertion-order. If a dict contains Series\n",
              "    which have an index defined, it is aligned by its index. This alignment also\n",
              "    occurs if data is a Series or a DataFrame itself. Alignment is done on\n",
              "    Series/DataFrame inputs.\n",
              "\n",
              "    If data is a list of dicts, column order follows insertion-order.\n",
              "\n",
              "index : Index or array-like\n",
              "    Index to use for resulting frame. Will default to RangeIndex if\n",
              "    no indexing information part of input data and no index provided.\n",
              "columns : Index or array-like\n",
              "    Column labels to use for resulting frame when data does not have them,\n",
              "    defaulting to RangeIndex(0, 1, 2, ..., n). If data contains column labels,\n",
              "    will perform column selection instead.\n",
              "dtype : dtype, default None\n",
              "    Data type to force. Only a single dtype is allowed. If None, infer.\n",
              "copy : bool or None, default None\n",
              "    Copy data from inputs.\n",
              "    For dict data, the default of None behaves like ``copy=True``.  For DataFrame\n",
              "    or 2d ndarray input, the default of None behaves like ``copy=False``.\n",
              "    If data is a dict containing one or more Series (possibly of different dtypes),\n",
              "    ``copy=False`` will ensure that these inputs are not copied.\n",
              "\n",
              "    .. versionchanged:: 1.3.0\n",
              "\n",
              "See Also\n",
              "--------\n",
              "DataFrame.from_records : Constructor from tuples, also record arrays.\n",
              "DataFrame.from_dict : From dicts of Series, arrays, or dicts.\n",
              "read_csv : Read a comma-separated values (csv) file into DataFrame.\n",
              "read_table : Read general delimited file into DataFrame.\n",
              "read_clipboard : Read text from clipboard into DataFrame.\n",
              "\n",
              "Notes\n",
              "-----\n",
              "Please reference the :ref:`User Guide &lt;basics.dataframe&gt;` for more information.\n",
              "\n",
              "Examples\n",
              "--------\n",
              "Constructing DataFrame from a dictionary.\n",
              "\n",
              "&gt;&gt;&gt; d = {&#x27;col1&#x27;: [1, 2], &#x27;col2&#x27;: [3, 4]}\n",
              "&gt;&gt;&gt; df = pd.DataFrame(data=d)\n",
              "&gt;&gt;&gt; df\n",
              "   col1  col2\n",
              "0     1     3\n",
              "1     2     4\n",
              "\n",
              "Notice that the inferred dtype is int64.\n",
              "\n",
              "&gt;&gt;&gt; df.dtypes\n",
              "col1    int64\n",
              "col2    int64\n",
              "dtype: object\n",
              "\n",
              "To enforce a single dtype:\n",
              "\n",
              "&gt;&gt;&gt; df = pd.DataFrame(data=d, dtype=np.int8)\n",
              "&gt;&gt;&gt; df.dtypes\n",
              "col1    int8\n",
              "col2    int8\n",
              "dtype: object\n",
              "\n",
              "Constructing DataFrame from a dictionary including Series:\n",
              "\n",
              "&gt;&gt;&gt; d = {&#x27;col1&#x27;: [0, 1, 2, 3], &#x27;col2&#x27;: pd.Series([2, 3], index=[2, 3])}\n",
              "&gt;&gt;&gt; pd.DataFrame(data=d, index=[0, 1, 2, 3])\n",
              "   col1  col2\n",
              "0     0   NaN\n",
              "1     1   NaN\n",
              "2     2   2.0\n",
              "3     3   3.0\n",
              "\n",
              "Constructing DataFrame from numpy ndarray:\n",
              "\n",
              "&gt;&gt;&gt; df2 = pd.DataFrame(np.array([[1, 2, 3], [4, 5, 6], [7, 8, 9]]),\n",
              "...                    columns=[&#x27;a&#x27;, &#x27;b&#x27;, &#x27;c&#x27;])\n",
              "&gt;&gt;&gt; df2\n",
              "   a  b  c\n",
              "0  1  2  3\n",
              "1  4  5  6\n",
              "2  7  8  9\n",
              "\n",
              "Constructing DataFrame from a numpy ndarray that has labeled columns:\n",
              "\n",
              "&gt;&gt;&gt; data = np.array([(1, 2, 3), (4, 5, 6), (7, 8, 9)],\n",
              "...                 dtype=[(&quot;a&quot;, &quot;i4&quot;), (&quot;b&quot;, &quot;i4&quot;), (&quot;c&quot;, &quot;i4&quot;)])\n",
              "&gt;&gt;&gt; df3 = pd.DataFrame(data, columns=[&#x27;c&#x27;, &#x27;a&#x27;])\n",
              "...\n",
              "&gt;&gt;&gt; df3\n",
              "   c  a\n",
              "0  3  1\n",
              "1  6  4\n",
              "2  9  7\n",
              "\n",
              "Constructing DataFrame from dataclass:\n",
              "\n",
              "&gt;&gt;&gt; from dataclasses import make_dataclass\n",
              "&gt;&gt;&gt; Point = make_dataclass(&quot;Point&quot;, [(&quot;x&quot;, int), (&quot;y&quot;, int)])\n",
              "&gt;&gt;&gt; pd.DataFrame([Point(0, 0), Point(0, 3), Point(2, 3)])\n",
              "   x  y\n",
              "0  0  0\n",
              "1  0  3\n",
              "2  2  3\n",
              "\n",
              "Constructing DataFrame from Series/DataFrame:\n",
              "\n",
              "&gt;&gt;&gt; ser = pd.Series([1, 2, 3], index=[&quot;a&quot;, &quot;b&quot;, &quot;c&quot;])\n",
              "&gt;&gt;&gt; df = pd.DataFrame(data=ser, index=[&quot;a&quot;, &quot;c&quot;])\n",
              "&gt;&gt;&gt; df\n",
              "   0\n",
              "a  1\n",
              "c  3\n",
              "\n",
              "&gt;&gt;&gt; df1 = pd.DataFrame([1, 2, 3], index=[&quot;a&quot;, &quot;b&quot;, &quot;c&quot;], columns=[&quot;x&quot;])\n",
              "&gt;&gt;&gt; df2 = pd.DataFrame(data=df1, index=[&quot;a&quot;, &quot;c&quot;])\n",
              "&gt;&gt;&gt; df2\n",
              "   x\n",
              "a  1\n",
              "c  3</pre>\n",
              "      <script>\n",
              "      if (google.colab.kernel.accessAllowed && google.colab.files && google.colab.files.view) {\n",
              "        for (const element of document.querySelectorAll('.filepath')) {\n",
              "          element.style.display = 'block'\n",
              "          element.onclick = (event) => {\n",
              "            event.preventDefault();\n",
              "            event.stopPropagation();\n",
              "            google.colab.files.view(element.textContent, 491);\n",
              "          };\n",
              "        }\n",
              "      }\n",
              "      for (const element of document.querySelectorAll('.function-repr-contents')) {\n",
              "        element.onclick = (event) => {\n",
              "          event.preventDefault();\n",
              "          event.stopPropagation();\n",
              "          element.classList.toggle('function-repr-contents-collapsed');\n",
              "        };\n",
              "      }\n",
              "      </script>\n",
              "      </div>"
            ]
          },
          "metadata": {},
          "execution_count": 37
        }
      ]
    },
    {
      "cell_type": "code",
      "source": [],
      "metadata": {
        "id": "B2ytX9DduBoq"
      },
      "execution_count": null,
      "outputs": []
    },
    {
      "cell_type": "markdown",
      "source": [
        "**Add Document Ids to track emails in dataset**"
      ],
      "metadata": {
        "id": "sTVn1exYQaOS"
      }
    },
    {
      "cell_type": "code",
      "source": [
        "document_ids = range(0, len(data.index))\n",
        "data['DOC_ID'] = document_ids\n"
      ],
      "metadata": {
        "id": "Ay2qz3Lhu5y9"
      },
      "execution_count": 43,
      "outputs": []
    },
    {
      "cell_type": "code",
      "source": [
        "data.DOC_ID"
      ],
      "metadata": {
        "colab": {
          "base_uri": "https://localhost:8080/",
          "height": 458
        },
        "id": "7eLEK6VivW_x",
        "outputId": "70375ffa-f695-4843-e65c-a6956b2a1650"
      },
      "execution_count": 44,
      "outputs": [
        {
          "output_type": "execute_result",
          "data": {
            "text/plain": [
              "00201.00020fc9911604f6cae7ae0f598ad29d       0\n",
              "00210.050ffd105bd4e006771ee63cabc59978       1\n",
              "00069.066b1a012235d062a5da73eead4a6b35       2\n",
              "00117.b3ceb6525a1dc935463f3e3080110039       3\n",
              "00163.244a217b150d2129cbdc52b96d992382       4\n",
              "                                          ... \n",
              "00391.5fc0c6810ac42e66c4dcc7d6524dd596    5791\n",
              "00729.733ee0faa56c33c52cb73337b7986261    5792\n",
              "00463.a0b9bc6f874e76510933906b72baae3f    5793\n",
              "00941.7e73d0b5d1de68eabc52c3e8d05349d8    5794\n",
              "00072.198398984661d0b6dc676ad30d6f2884    5795\n",
              "Name: DOC_ID, Length: 5796, dtype: int64"
            ],
            "text/html": [
              "<div>\n",
              "<style scoped>\n",
              "    .dataframe tbody tr th:only-of-type {\n",
              "        vertical-align: middle;\n",
              "    }\n",
              "\n",
              "    .dataframe tbody tr th {\n",
              "        vertical-align: top;\n",
              "    }\n",
              "\n",
              "    .dataframe thead th {\n",
              "        text-align: right;\n",
              "    }\n",
              "</style>\n",
              "<table border=\"1\" class=\"dataframe\">\n",
              "  <thead>\n",
              "    <tr style=\"text-align: right;\">\n",
              "      <th></th>\n",
              "      <th>DOC_ID</th>\n",
              "    </tr>\n",
              "  </thead>\n",
              "  <tbody>\n",
              "    <tr>\n",
              "      <th>00201.00020fc9911604f6cae7ae0f598ad29d</th>\n",
              "      <td>0</td>\n",
              "    </tr>\n",
              "    <tr>\n",
              "      <th>00210.050ffd105bd4e006771ee63cabc59978</th>\n",
              "      <td>1</td>\n",
              "    </tr>\n",
              "    <tr>\n",
              "      <th>00069.066b1a012235d062a5da73eead4a6b35</th>\n",
              "      <td>2</td>\n",
              "    </tr>\n",
              "    <tr>\n",
              "      <th>00117.b3ceb6525a1dc935463f3e3080110039</th>\n",
              "      <td>3</td>\n",
              "    </tr>\n",
              "    <tr>\n",
              "      <th>00163.244a217b150d2129cbdc52b96d992382</th>\n",
              "      <td>4</td>\n",
              "    </tr>\n",
              "    <tr>\n",
              "      <th>...</th>\n",
              "      <td>...</td>\n",
              "    </tr>\n",
              "    <tr>\n",
              "      <th>00391.5fc0c6810ac42e66c4dcc7d6524dd596</th>\n",
              "      <td>5791</td>\n",
              "    </tr>\n",
              "    <tr>\n",
              "      <th>00729.733ee0faa56c33c52cb73337b7986261</th>\n",
              "      <td>5792</td>\n",
              "    </tr>\n",
              "    <tr>\n",
              "      <th>00463.a0b9bc6f874e76510933906b72baae3f</th>\n",
              "      <td>5793</td>\n",
              "    </tr>\n",
              "    <tr>\n",
              "      <th>00941.7e73d0b5d1de68eabc52c3e8d05349d8</th>\n",
              "      <td>5794</td>\n",
              "    </tr>\n",
              "    <tr>\n",
              "      <th>00072.198398984661d0b6dc676ad30d6f2884</th>\n",
              "      <td>5795</td>\n",
              "    </tr>\n",
              "  </tbody>\n",
              "</table>\n",
              "<p>5796 rows × 1 columns</p>\n",
              "</div><br><label><b>dtype:</b> int64</label>"
            ]
          },
          "metadata": {},
          "execution_count": 44
        }
      ]
    },
    {
      "cell_type": "code",
      "source": [
        "data['FILE_NAME'] = data.index\n",
        "data.set_index('DOC_ID', inplace=True)\n",
        "data.head()"
      ],
      "metadata": {
        "colab": {
          "base_uri": "https://localhost:8080/",
          "height": 237
        },
        "id": "AQSODaY6vsYu",
        "outputId": "d0773ab6-2618-4f72-9908-c754cd25fd23"
      },
      "execution_count": 47,
      "outputs": [
        {
          "output_type": "execute_result",
          "data": {
            "text/plain": [
              "                                                  MESSAGE  CATEGORY  \\\n",
              "DOC_ID                                                                \n",
              "0       <html>\\n\\n\\n\\n\\n\\n\\n\\n<body>\\n\\n\\n\\n<div align...         1   \n",
              "1       IMPORTANT INFORMATION:\\n\\n\\n\\nThe new domain n...         1   \n",
              "2        #############################################...         1   \n",
              "3       SUBSTANTIAL MONTHLY INCOME MAKERS VOUCHER\\n\\nI...         1   \n",
              "4       We guarantee you signups before you ever pay\\n...         1   \n",
              "\n",
              "                                     FILE_NAME  \n",
              "DOC_ID                                          \n",
              "0       00201.00020fc9911604f6cae7ae0f598ad29d  \n",
              "1       00210.050ffd105bd4e006771ee63cabc59978  \n",
              "2       00069.066b1a012235d062a5da73eead4a6b35  \n",
              "3       00117.b3ceb6525a1dc935463f3e3080110039  \n",
              "4       00163.244a217b150d2129cbdc52b96d992382  "
            ],
            "text/html": [
              "\n",
              "  <div id=\"df-7bb95b9e-d642-4d90-ae7c-e538b8c661b2\" class=\"colab-df-container\">\n",
              "    <div>\n",
              "<style scoped>\n",
              "    .dataframe tbody tr th:only-of-type {\n",
              "        vertical-align: middle;\n",
              "    }\n",
              "\n",
              "    .dataframe tbody tr th {\n",
              "        vertical-align: top;\n",
              "    }\n",
              "\n",
              "    .dataframe thead th {\n",
              "        text-align: right;\n",
              "    }\n",
              "</style>\n",
              "<table border=\"1\" class=\"dataframe\">\n",
              "  <thead>\n",
              "    <tr style=\"text-align: right;\">\n",
              "      <th></th>\n",
              "      <th>MESSAGE</th>\n",
              "      <th>CATEGORY</th>\n",
              "      <th>FILE_NAME</th>\n",
              "    </tr>\n",
              "    <tr>\n",
              "      <th>DOC_ID</th>\n",
              "      <th></th>\n",
              "      <th></th>\n",
              "      <th></th>\n",
              "    </tr>\n",
              "  </thead>\n",
              "  <tbody>\n",
              "    <tr>\n",
              "      <th>0</th>\n",
              "      <td>&lt;html&gt;\\n\\n\\n\\n\\n\\n\\n\\n&lt;body&gt;\\n\\n\\n\\n&lt;div align...</td>\n",
              "      <td>1</td>\n",
              "      <td>00201.00020fc9911604f6cae7ae0f598ad29d</td>\n",
              "    </tr>\n",
              "    <tr>\n",
              "      <th>1</th>\n",
              "      <td>IMPORTANT INFORMATION:\\n\\n\\n\\nThe new domain n...</td>\n",
              "      <td>1</td>\n",
              "      <td>00210.050ffd105bd4e006771ee63cabc59978</td>\n",
              "    </tr>\n",
              "    <tr>\n",
              "      <th>2</th>\n",
              "      <td>#############################################...</td>\n",
              "      <td>1</td>\n",
              "      <td>00069.066b1a012235d062a5da73eead4a6b35</td>\n",
              "    </tr>\n",
              "    <tr>\n",
              "      <th>3</th>\n",
              "      <td>SUBSTANTIAL MONTHLY INCOME MAKERS VOUCHER\\n\\nI...</td>\n",
              "      <td>1</td>\n",
              "      <td>00117.b3ceb6525a1dc935463f3e3080110039</td>\n",
              "    </tr>\n",
              "    <tr>\n",
              "      <th>4</th>\n",
              "      <td>We guarantee you signups before you ever pay\\n...</td>\n",
              "      <td>1</td>\n",
              "      <td>00163.244a217b150d2129cbdc52b96d992382</td>\n",
              "    </tr>\n",
              "  </tbody>\n",
              "</table>\n",
              "</div>\n",
              "    <div class=\"colab-df-buttons\">\n",
              "\n",
              "  <div class=\"colab-df-container\">\n",
              "    <button class=\"colab-df-convert\" onclick=\"convertToInteractive('df-7bb95b9e-d642-4d90-ae7c-e538b8c661b2')\"\n",
              "            title=\"Convert this dataframe to an interactive table.\"\n",
              "            style=\"display:none;\">\n",
              "\n",
              "  <svg xmlns=\"http://www.w3.org/2000/svg\" height=\"24px\" viewBox=\"0 -960 960 960\">\n",
              "    <path d=\"M120-120v-720h720v720H120Zm60-500h600v-160H180v160Zm220 220h160v-160H400v160Zm0 220h160v-160H400v160ZM180-400h160v-160H180v160Zm440 0h160v-160H620v160ZM180-180h160v-160H180v160Zm440 0h160v-160H620v160Z\"/>\n",
              "  </svg>\n",
              "    </button>\n",
              "\n",
              "  <style>\n",
              "    .colab-df-container {\n",
              "      display:flex;\n",
              "      gap: 12px;\n",
              "    }\n",
              "\n",
              "    .colab-df-convert {\n",
              "      background-color: #E8F0FE;\n",
              "      border: none;\n",
              "      border-radius: 50%;\n",
              "      cursor: pointer;\n",
              "      display: none;\n",
              "      fill: #1967D2;\n",
              "      height: 32px;\n",
              "      padding: 0 0 0 0;\n",
              "      width: 32px;\n",
              "    }\n",
              "\n",
              "    .colab-df-convert:hover {\n",
              "      background-color: #E2EBFA;\n",
              "      box-shadow: 0px 1px 2px rgba(60, 64, 67, 0.3), 0px 1px 3px 1px rgba(60, 64, 67, 0.15);\n",
              "      fill: #174EA6;\n",
              "    }\n",
              "\n",
              "    .colab-df-buttons div {\n",
              "      margin-bottom: 4px;\n",
              "    }\n",
              "\n",
              "    [theme=dark] .colab-df-convert {\n",
              "      background-color: #3B4455;\n",
              "      fill: #D2E3FC;\n",
              "    }\n",
              "\n",
              "    [theme=dark] .colab-df-convert:hover {\n",
              "      background-color: #434B5C;\n",
              "      box-shadow: 0px 1px 3px 1px rgba(0, 0, 0, 0.15);\n",
              "      filter: drop-shadow(0px 1px 2px rgba(0, 0, 0, 0.3));\n",
              "      fill: #FFFFFF;\n",
              "    }\n",
              "  </style>\n",
              "\n",
              "    <script>\n",
              "      const buttonEl =\n",
              "        document.querySelector('#df-7bb95b9e-d642-4d90-ae7c-e538b8c661b2 button.colab-df-convert');\n",
              "      buttonEl.style.display =\n",
              "        google.colab.kernel.accessAllowed ? 'block' : 'none';\n",
              "\n",
              "      async function convertToInteractive(key) {\n",
              "        const element = document.querySelector('#df-7bb95b9e-d642-4d90-ae7c-e538b8c661b2');\n",
              "        const dataTable =\n",
              "          await google.colab.kernel.invokeFunction('convertToInteractive',\n",
              "                                                    [key], {});\n",
              "        if (!dataTable) return;\n",
              "\n",
              "        const docLinkHtml = 'Like what you see? Visit the ' +\n",
              "          '<a target=\"_blank\" href=https://colab.research.google.com/notebooks/data_table.ipynb>data table notebook</a>'\n",
              "          + ' to learn more about interactive tables.';\n",
              "        element.innerHTML = '';\n",
              "        dataTable['output_type'] = 'display_data';\n",
              "        await google.colab.output.renderOutput(dataTable, element);\n",
              "        const docLink = document.createElement('div');\n",
              "        docLink.innerHTML = docLinkHtml;\n",
              "        element.appendChild(docLink);\n",
              "      }\n",
              "    </script>\n",
              "  </div>\n",
              "\n",
              "\n",
              "<div id=\"df-6fbe8efc-f74b-4767-a983-61cef0e4e815\">\n",
              "  <button class=\"colab-df-quickchart\" onclick=\"quickchart('df-6fbe8efc-f74b-4767-a983-61cef0e4e815')\"\n",
              "            title=\"Suggest charts\"\n",
              "            style=\"display:none;\">\n",
              "\n",
              "<svg xmlns=\"http://www.w3.org/2000/svg\" height=\"24px\"viewBox=\"0 0 24 24\"\n",
              "     width=\"24px\">\n",
              "    <g>\n",
              "        <path d=\"M19 3H5c-1.1 0-2 .9-2 2v14c0 1.1.9 2 2 2h14c1.1 0 2-.9 2-2V5c0-1.1-.9-2-2-2zM9 17H7v-7h2v7zm4 0h-2V7h2v10zm4 0h-2v-4h2v4z\"/>\n",
              "    </g>\n",
              "</svg>\n",
              "  </button>\n",
              "\n",
              "<style>\n",
              "  .colab-df-quickchart {\n",
              "      --bg-color: #E8F0FE;\n",
              "      --fill-color: #1967D2;\n",
              "      --hover-bg-color: #E2EBFA;\n",
              "      --hover-fill-color: #174EA6;\n",
              "      --disabled-fill-color: #AAA;\n",
              "      --disabled-bg-color: #DDD;\n",
              "  }\n",
              "\n",
              "  [theme=dark] .colab-df-quickchart {\n",
              "      --bg-color: #3B4455;\n",
              "      --fill-color: #D2E3FC;\n",
              "      --hover-bg-color: #434B5C;\n",
              "      --hover-fill-color: #FFFFFF;\n",
              "      --disabled-bg-color: #3B4455;\n",
              "      --disabled-fill-color: #666;\n",
              "  }\n",
              "\n",
              "  .colab-df-quickchart {\n",
              "    background-color: var(--bg-color);\n",
              "    border: none;\n",
              "    border-radius: 50%;\n",
              "    cursor: pointer;\n",
              "    display: none;\n",
              "    fill: var(--fill-color);\n",
              "    height: 32px;\n",
              "    padding: 0;\n",
              "    width: 32px;\n",
              "  }\n",
              "\n",
              "  .colab-df-quickchart:hover {\n",
              "    background-color: var(--hover-bg-color);\n",
              "    box-shadow: 0 1px 2px rgba(60, 64, 67, 0.3), 0 1px 3px 1px rgba(60, 64, 67, 0.15);\n",
              "    fill: var(--button-hover-fill-color);\n",
              "  }\n",
              "\n",
              "  .colab-df-quickchart-complete:disabled,\n",
              "  .colab-df-quickchart-complete:disabled:hover {\n",
              "    background-color: var(--disabled-bg-color);\n",
              "    fill: var(--disabled-fill-color);\n",
              "    box-shadow: none;\n",
              "  }\n",
              "\n",
              "  .colab-df-spinner {\n",
              "    border: 2px solid var(--fill-color);\n",
              "    border-color: transparent;\n",
              "    border-bottom-color: var(--fill-color);\n",
              "    animation:\n",
              "      spin 1s steps(1) infinite;\n",
              "  }\n",
              "\n",
              "  @keyframes spin {\n",
              "    0% {\n",
              "      border-color: transparent;\n",
              "      border-bottom-color: var(--fill-color);\n",
              "      border-left-color: var(--fill-color);\n",
              "    }\n",
              "    20% {\n",
              "      border-color: transparent;\n",
              "      border-left-color: var(--fill-color);\n",
              "      border-top-color: var(--fill-color);\n",
              "    }\n",
              "    30% {\n",
              "      border-color: transparent;\n",
              "      border-left-color: var(--fill-color);\n",
              "      border-top-color: var(--fill-color);\n",
              "      border-right-color: var(--fill-color);\n",
              "    }\n",
              "    40% {\n",
              "      border-color: transparent;\n",
              "      border-right-color: var(--fill-color);\n",
              "      border-top-color: var(--fill-color);\n",
              "    }\n",
              "    60% {\n",
              "      border-color: transparent;\n",
              "      border-right-color: var(--fill-color);\n",
              "    }\n",
              "    80% {\n",
              "      border-color: transparent;\n",
              "      border-right-color: var(--fill-color);\n",
              "      border-bottom-color: var(--fill-color);\n",
              "    }\n",
              "    90% {\n",
              "      border-color: transparent;\n",
              "      border-bottom-color: var(--fill-color);\n",
              "    }\n",
              "  }\n",
              "</style>\n",
              "\n",
              "  <script>\n",
              "    async function quickchart(key) {\n",
              "      const quickchartButtonEl =\n",
              "        document.querySelector('#' + key + ' button');\n",
              "      quickchartButtonEl.disabled = true;  // To prevent multiple clicks.\n",
              "      quickchartButtonEl.classList.add('colab-df-spinner');\n",
              "      try {\n",
              "        const charts = await google.colab.kernel.invokeFunction(\n",
              "            'suggestCharts', [key], {});\n",
              "      } catch (error) {\n",
              "        console.error('Error during call to suggestCharts:', error);\n",
              "      }\n",
              "      quickchartButtonEl.classList.remove('colab-df-spinner');\n",
              "      quickchartButtonEl.classList.add('colab-df-quickchart-complete');\n",
              "    }\n",
              "    (() => {\n",
              "      let quickchartButtonEl =\n",
              "        document.querySelector('#df-6fbe8efc-f74b-4767-a983-61cef0e4e815 button');\n",
              "      quickchartButtonEl.style.display =\n",
              "        google.colab.kernel.accessAllowed ? 'block' : 'none';\n",
              "    })();\n",
              "  </script>\n",
              "</div>\n",
              "\n",
              "    </div>\n",
              "  </div>\n"
            ],
            "application/vnd.google.colaboratory.intrinsic+json": {
              "type": "dataframe",
              "variable_name": "data",
              "summary": "{\n  \"name\": \"data\",\n  \"rows\": 5796,\n  \"fields\": [\n    {\n      \"column\": \"DOC_ID\",\n      \"properties\": {\n        \"dtype\": \"number\",\n        \"std\": 1673,\n        \"min\": 0,\n        \"max\": 5795,\n        \"num_unique_values\": 5796,\n        \"samples\": [\n          4675,\n          4220,\n          2484\n        ],\n        \"semantic_type\": \"\",\n        \"description\": \"\"\n      }\n    },\n    {\n      \"column\": \"MESSAGE\",\n      \"properties\": {\n        \"dtype\": \"string\",\n        \"num_unique_values\": 5625,\n        \"samples\": [\n          \"> As I've said before, American\\n\\n> Indian Reservations are quite \\n\\n> possibly the only place on the \\n\\n> planet where you can find trailer \\n\\n> park shantytowns where every \\n\\n> household is bringing in a\\n\\n> six-figure income.  I wish I \\n\\n> could be exploited like that.  \\n\\n\\n\\nLike what, like the rare exception case you've raised or like the \\\"on\\n\\naverage\\\" case mentioned in the post you were replying to?\\n\\n\\n\\nMax\\n\\n\\n\\n\\n\\n\\n\",\n          \"\\n\\n<html>\\n\\n\\n\\n<head>\\n\\n\\n\\n<META NAME=3D\\\"GENERATOR\\\" CONTENT=3D\\\"Arachnophilia 3.9\\\">\\n\\n<META NAME=3D\\\"FORMATTER\\\" CONTENT=3D\\\"Arachnophilia 3.9\\\">\\n\\n\\n\\n<title>Lender's Network</title>\\n\\n\\n\\n<style fprolloverstyle>A:hover {color: #FF0000}\\n\\n\\n\\n</style>\\n\\n\\n\\n</head>\\n\\n\\n\\n<body bgcolor=3D\\\"tan\\\" background=3D\\\"\\\">\\n\\n\\n\\n<B><CENTER><FONT SIZE=3D\\\"5\\\" COLOR=3D\\\"#000000\\\" FACE=3D\\\"Times New Roman\\\"><U>=\\n\\n<B><CENTER>The Lenders Network!</CENTER></B></U></FONT></CENTER></B>\\n\\n\\n\\n<th align=3D\\\"center\\\" nowrap width=3D\\\"334\\\" height=3D\\\"190\\\" valign=3D\\\"top\\\">\\n\\n<p>\\n\\n<h3 align=3D\\\"center\\\"><font color=3D\\\"#000000\\\"><font face=3D\\\"Tahoma\\\"> Where =\\n\\nmortgage lenders compete for\\n\\n\\n\\n</font><b><i><u><font face=3D\\\"Tahoma\\\"> your</font></u></i></b><font face=3D=\\n\\n\\\"Tahoma\\\">\\n\\n\\n\\n business!\\n\\n<center><h3><font color=3D#0000ff>Current Information For</h3></center>\\n\\n<SCRIPT language=3DJavaScript>\\n\\n<!--\\n\\n\\n\\n// Begin\\n\\n\\n\\nvar months=3Dnew Array(13);\\n\\n\\n\\nmonths[1]=3D\\\"January\\\";\\n\\n\\n\\nmonths[2]=3D\\\"February\\\";\\n\\n\\n\\nmonths[3]=3D\\\"March\\\";\\n\\n\\n\\nmonths[4]=3D\\\"April\\\";\\n\\n\\n\\nmonths[5]=3D\\\"May\\\";\\n\\n\\n\\nmonths[6]=3D\\\"June\\\";\\n\\n\\n\\nmonths[7]=3D\\\"July\\\";\\n\\n\\n\\nmonths[8]=3D\\\"August\\\";\\n\\n\\n\\nmonths[9]=3D\\\"September\\\";\\n\\n\\n\\nmonths[10]=3D\\\"October\\\";\\n\\n\\n\\nmonths[11]=3D\\\"November\\\";\\n\\n\\n\\nmonths[12]=3D\\\"December\\\";\\n\\n\\n\\nvar time=3Dnew Date();\\n\\n\\n\\nvar lmonth=3Dmonths[time.getMonth() + 1];\\n\\n\\n\\nvar date=3Dtime.getDate();\\n\\n\\n\\nvar year=3Dtime.getYear();\\n\\n\\n\\n\\n\\n\\n\\n// Y2K Fix by Isaac Powell\\n\\n\\n\\n// http://onyx.idbsu.edu/~ipowell\\n\\n\\n\\n\\n\\n\\n\\nif ((navigator.appName =3D=3D \\\"Microsoft Internet Explorer\\\") && (year < 20=\\n\\n00))\\n\\n\\n\\nyear=3D\\\"19\\\" + year;\\n\\n\\n\\nif (navigator.appName =3D=3D \\\"Netscape\\\")\\n\\n\\n\\nyear=3D1900 + year;\\n\\n\\n\\ndocument.write(\\\"<center>\\\" + lmonth + \\\" \\\");\\n\\n\\n\\ndocument.write(date + \\\", \\\" + year + \\\"</center>\\\");\\n\\n\\n\\n// End\\n\\n\\n\\n// --></SCRIPT>\\n\\n</font>\\n\\n<table border=3D\\\"0\\\" width=3D\\\"750\\\">\\n\\n\\n\\n  <tr>\\n\\n\\n\\n    <td width=3D\\\"389\\\" height=3D\\\"190\\\" valign=3D\\\"top\\\"><b><font face=3D\\\"Arial=\\n\\n\\\" color=3D\\\"#000000\\\"><br>\\n\\n\\n\\n      The \\\"Lenders Network\\\" is a 100% FREE TO BUYER Service.  Fill in our =\\n\\n<a href=3D\\\"#form\\\">\\n\\n\\n\\n <i><font color=3D#0000ff>5 Minute quote request form</font></i></a> and w=\\n\\ne will instantly submit your loan request to\\n\\n\\n\\n      our competing lenders!</font></b><p><font face=3D\\\"Arial\\\" color=3D\\\"#0=\\n\\n00000\\\">The<b>\\n\\n\\n\\n      financial experts</b> comprising the \\\"Lender's Network\\\" represent hu=\\n\\nndreds of loan programs, <br>\\n\\nincluding</font></p>\\n\\n\\n\\n      <blockquote>\\n\\n        <blockquote>\\n\\n          <ul>\\n\\n            <li><b> <font face=3D\\\"Arial\\\" color=3D\\\"#000000\\\"> purchase loans=\\n\\n</font></b></li>\\n\\n            <li><b><font face=3D\\\"Arial\\\" color=3D\\\"#000000\\\">refinance</font>=\\n\\n</b></li>\\n\\n            <li><b><font face=3D\\\"Arial\\\" color=3D\\\"#000000\\\">debt\\n\\n              consolidation</font></b></li>\\n\\n            <li><b><font face=3D\\\"Arial\\\" color=3D\\\"#000000\\\">home improvement=\\n\\n&nbsp;</font></b></li>\\n\\n            <li><b><font face=3D\\\"Arial\\\" color=3D\\\"#000000\\\">second mortgages=\\n\\n</font></b></li>\\n\\n            <li><b><font face=3D\\\"Arial\\\" color=3D\\\"#000000\\\">no income\\n\\n              verification</font></b></li>\\n\\n          </ul>\\n\\n        </blockquote>\\n\\n      </blockquote>\\n\\n\\n\\n\\t\\t<td>\\n\\n\\t\\t\\t<p><font face=3D\\\"Arial\\\">Our Network of Lenders are <b><u>Licensed and R=\\n\\negistered</u></b> to do business in all 50 U.S. States.  You will often be=\\n\\n <b><u>contacted with an offer</u></b> the very same day you fill out the =\\n\\nform!<P>\\n\\n\\n\\n<u><b><font color=3D#0000ff>NEVER SETTLE FOR A SINGLE QUOTE!</font></b></u=\\n\\n><p>\\n\\n\\n\\n\\n\\n<p><font face=3D\\\"Arial\\\"> You can save <i><b><u>Thousands Of Dollars</u></b=\\n\\n></i> over the course of your loan with just a 1/4 of 1% Drop in your rate=\\n\\n!  The information you provide to\\n\\nour extensive database of <b>Financial Experts</b> will result in offer's =\\n\\nmeeting the exact criterion you requested.</font><br><p>\\n\\n\\n\\n<font color=3D#0000ff><b>Get MULTIPLE OFFER'S and get the loan you want...=\\n\\n.and DESERVE!</b></font><br>\\n\\n\\t\\t</td>\\n\\n\\n\\n\\n\\n      </p>\\n\\n\\n\\n</table>\\n\\n  </center>\\n\\n<p align=3D\\\"center\\\"><center><font face=3D\\\"Arial\\\" size=3D\\\"3\\\" color=3D\\\"#0000=\\n\\n80\\\"><b>Please\\n\\ncomplete this form.<br>\\n\\nOur loan specialist will be contacting you at your convenience.<br>\\n\\nThank You.</center> </b></font><script language=3D\\\"JavaScript\\\">\\n\\n\\n\\n\\n\\n\\n\\n\\n\\n\\n\\n\\n\\n\\n\\n<!-- \\n\\n\\n\\n\\n\\n\\n\\n\\n\\n\\n\\n\\n\\n\\n\\nfunction validate_form() {\\n\\n\\n\\n\\n\\n\\n\\n\\n\\n\\n\\n\\n\\n\\n\\nvalidity =3D true; // assume valid\\n\\n\\n\\n\\n\\n\\n\\n\\n\\n\\n\\n\\n\\n\\n\\nif (!check_empty(document.form.Name.value))\\n\\n\\n\\n\\n\\n\\n\\n\\n\\n\\n\\n\\n\\n\\n\\n{ validity =3D false; alert('Name field is empty!'); }\\n\\n\\n\\n\\n\\n\\n\\n\\n\\n\\n\\n\\n\\n\\n\\nif (!check_empty(document.form.HPhone.value))\\n\\n\\n\\n\\n\\n\\n\\n\\n\\n\\n\\n\\n\\n\\n\\n{ validity =3D false; alert('Home Phone field is empty!'); }\\n\\n\\n\\n\\n\\n\\n\\n\\n\\n\\n\\n\\n\\n\\n\\nif (!check_empty(document.form.PropertyValue.value))\\n\\n\\n\\n\\n\\n\\n\\n\\n\\n\\n\\n\\n\\n\\n\\n{ validity =3D false; alert('Property Value field is empty!'); }\\n\\n\\n\\n\\n\\n\\n\\n\\n\\n\\n\\n\\n\\n\\n\\nif (!check_empty(document.form.PurchasePrice.value))\\n\\n\\n\\n\\n\\n\\n\\n\\n\\n\\n\\n\\n\\n\\n\\n{ validity =3D false; alert('Purchase Price field is empty!'); }\\n\\n\\n\\n\\n\\n\\n\\n\\n\\n\\n\\n\\n\\n\\n\\nif (!check_empty(document.form.YearAcquired.value))\\n\\n\\n\\n\\n\\n\\n\\n\\n\\n\\n\\n\\n\\n\\n\\n{ validity =3D false; alert('Year Acquired field is empty!'); }\\n\\n\\n\\n\\n\\n\\n\\n\\n\\n\\n\\n\\n\\n\\n\\nif (!check_empty(document.form.Mortgage1.value))\\n\\n\\n\\n\\n\\n\\n\\n\\n\\n\\n\\n\\n\\n\\n\\n{ validity =3D false; alert('First Mortgage Balance Field is empty!'); }\\n\\n\\n\\n\\n\\n\\n\\n\\n\\n\\n\\n\\n\\n\\n\\nif (!check_empty(document.form.CurrentIntRate.value))\\n\\n\\n\\n\\n\\n\\n\\n\\n\\n\\n\\n\\n\\n\\n\\n{ validity =3D false; alert('First Mortgage Interest Rate field is empty!'=\\n\\n); }\\n\\n\\n\\n\\n\\n\\n\\n\\n\\n\\n\\n\\n\\n\\n\\nif (!check_empty(document.form.BorrowRequest.value))\\n\\n\\n\\n\\n\\n\\n\\n\\n\\n\\n\\n\\n\\n\\n\\n{ validity =3D false; alert('Amount You Wish To Borrow field is empty!'); =\\n\\n}\\n\\n\\n\\n\\n\\n\\n\\n\\n\\n\\n\\n\\n\\n\\n\\nif (!check_empty(document.form.MonthlyGrIncome.value))\\n\\n\\n\\n\\n\\n\\n\\n\\n\\n\\n\\n\\n\\n\\n\\n{ validity =3D false; alert('Gross Monthly Income field is empty!'); }\\n\\n\\n\\n\\n\\n\\n\\n\\n\\n\\n\\n\\n\\n\\n\\n(validity)\\n\\n\\n\\n\\n\\n\\n\\n\\n\\n\\n\\n\\n\\n\\n\\nalert (\\\"Thank you for your registration! \\\"\\n\\n\\n\\n\\n\\n\\n\\n\\n\\n\\n\\n\\n\\n\\n\\n+ \\\"Your form is now being passed to your browser's \\\"\\n\\n\\n\\n\\n\\n\\n\\n\\n\\n\\n\\n\\n\\n\\n\\n+ \\\"Mail Delivery Sub-System for NORMAL\\\"\\n\\n\\n\\n\\n\\n\\n\\n\\n\\n\\n\\n\\n\\n\\n\\n+ \\\" NON-ENCRYPTED email delivery.\\\"\\n\\n\\n\\n\\n\\n\\n\\n\\n\\n\\n\\n\\n\\n\\n\\n+ \\\" All email addresses are removed from our system\\\"\\n\\n\\n\\n\\n\\n\\n\\n\\n\\n\\n\\n\\n\\n\\n\\n+ \\\" upon registration. Please click OK to proceed\\\");\\n\\n\\n\\n\\n\\n\\n\\n\\n\\n\\n\\n\\n\\n\\n\\nreturn validity;\\n\\n\\n\\n\\n\\n\\n\\n\\n\\n\\n\\n\\n\\n\\n\\n}\\n\\n\\n\\n\\n\\n\\n\\n\\n\\n\\n\\n\\n\\n\\n\\nfunction check_empty(text) {\\n\\n\\n\\n\\n\\n\\n\\n\\n\\n\\n\\n\\n\\n\\n\\nreturn (text.length > 0); // returns false if empty\\n\\n\\n\\n\\n\\n\\n\\n\\n\\n\\n\\n\\n\\n\\n\\n}\\n\\n\\n\\n\\n\\n\\n\\n\\n\\n\\n\\n\\n\\n\\n\\n// -->\\n\\n\\n\\n\\n\\n\\n\\n\\n\\n\\n\\n\\n\\n\\n\\n</script>\\n\\n</p>\\n\\n<form name=3D\\\"form\\\" onsubmit=3D\\\"return validate_form()\\\" \\n\\naction=3D\\\"mailto:reffon887@uole.com?SUBJECT=3DMortgage Contact 2\\\" method=3D=\\n\\n\\\"POST\\\" encType=3D\\\"text/plain\\\">\\n\\n  <center>\\n\\n  <table cellSpacing=3D\\\"0\\\" cellPadding=3D\\\"0\\\" width=3D\\\"552\\\" bgColor=3D\\\"#993=\\n\\n366\\\" border=3D\\\"0\\\">\\n\\n    <caption>&nbsp;</caption>\\n\\n    <tbody>\\n\\n    </tbody>\\n\\n  </center>\\n\\n  <tbody>\\n\\n    <tr>\\n\\n      <td noWrap align=3D\\\"left\\\" width=3D\\\"536\\\" bgColor=3D\\\"#000080\\\" colSpan=3D=\\n\\n\\\"2\\\"><center><b><font size=3D\\\"+0\\\" color=3D\\\"#ffffff\\\" face=3D\\\"Arial\\\">Contact\\n\\n        Information: * Required Info</font></b></center></td>\\n\\n    </tr>\\n\\n    <tr align=3D\\\"middle\\\">\\n\\n      <td align=3D\\\"right\\\" width=3D\\\"208\\\" bgColor=3D\\\"#000080\\\"><font size=3D\\\"=\\n\\n+0\\\" color=3D\\\"#ffffff\\\" face=3D\\\"Arial\\\">Name:</font></td>\\n\\n      <td align=3D\\\"left\\\" width=3D\\\"328\\\" bgColor=3D\\\"#000080\\\"><input maxLengt=\\n\\nh=3D\\\"60\\\" size=3D\\\"29\\\" name=3D\\\"Name\\\"><font color=3D\\\"#ffffff\\\">*</font></td>\\n\\n    </tr>\\n\\n    <tr align=3D\\\"middle\\\">\\n\\n      <td align=3D\\\"right\\\" width=3D\\\"208\\\" bgColor=3D\\\"#000080\\\"><font size=3D\\\"=\\n\\n+0\\\" color=3D\\\"#ffffff\\\" face=3D\\\"Arial\\\">Address:</font></td>\\n\\n      <td align=3D\\\"left\\\" width=3D\\\"328\\\" bgColor=3D\\\"#000080\\\"><input maxLengt=\\n\\nh=3D\\\"50\\\" size=3D\\\"29\\\" name=3D\\\"Address\\\"><font color=3D\\\"#ffffff\\\">*</font></td=\\n\\n>\\n\\n    </tr>\\n\\n    <tr align=3D\\\"middle\\\">\\n\\n      <td align=3D\\\"right\\\" width=3D\\\"208\\\" bgColor=3D\\\"#000080\\\"><font size=3D\\\"=\\n\\n+0\\\" color=3D\\\"#ffffff\\\" face=3D\\\"Arial\\\">City:</font></td>\\n\\n      <td align=3D\\\"left\\\" width=3D\\\"328\\\" bgColor=3D\\\"#000080\\\"><input id=3D\\\"Ci=\\n\\nty\\\" maxLength=3D\\\"30\\\" size=3D\\\"29\\\" name=3D\\\"City\\\"><font color=3D\\\"#ffffff\\\">*</=\\n\\nfont></td>\\n\\n    </tr>\\n\\n    <tr align=3D\\\"middle\\\">\\n\\n      <td align=3D\\\"right\\\" width=3D\\\"208\\\" bgColor=3D\\\"#000080\\\"><font size=3D\\\"=\\n\\n+0\\\" color=3D\\\"#ffffff\\\" face=3D\\\"Arial\\\">State\\n\\n        (USA Only):</font></td>\\n\\n      <td align=3D\\\"left\\\" width=3D\\\"328\\\" bgColor=3D\\\"#000080\\\"><select id=3D\\\"S=\\n\\ntate\\\" size=3D\\\"1\\\" name=3D\\\"State\\\">\\n\\n          <option value=3D\\\"AK\\\" selected>AK</option>\\n\\n          &nbsp;\\n\\n          <option value=3D\\\"AR\\\">AR</option>\\n\\n          &nbsp;\\n\\n          <option value=3D\\\"AZ\\\">AZ</option>\\n\\n          &nbsp;\\n\\n          <option value=3D\\\"CA\\\">CA</option>\\n\\n          &nbsp;\\n\\n          <option value=3D\\\"CO\\\">CO</option>\\n\\n          &nbsp;\\n\\n          <option value=3D\\\"CT\\\">CT</option>\\n\\n          &nbsp;\\n\\n          <option value=3D\\\"DC\\\">DC</option>\\n\\n          &nbsp;\\n\\n          <option value=3D\\\"DE\\\">DE</option>\\n\\n          &nbsp;\\n\\n          <option value=3D\\\"FL\\\">FL</option>\\n\\n          &nbsp;\\n\\n          <option value=3D\\\"GA\\\">GA</option>\\n\\n          &nbsp;\\n\\n          <option value=3D\\\"HI\\\">HI</option>\\n\\n          &nbsp;\\n\\n          <option value=3D\\\"IA\\\">IA</option>\\n\\n          &nbsp;\\n\\n          <option value=3D\\\"ID\\\">ID</option>\\n\\n          &nbsp;\\n\\n          <option value=3D\\\"IL\\\">IL</option>\\n\\n          &nbsp;\\n\\n          <option value=3D\\\"IN\\\">IN</option>\\n\\n          &nbsp;\\n\\n          <option value=3D\\\"KS\\\">KS</option>\\n\\n          &nbsp;\\n\\n          <option value=3D\\\"KY\\\">KY</option>\\n\\n          &nbsp;\\n\\n          <option value=3D\\\"LA\\\">LA</option>\\n\\n          &nbsp;\\n\\n          <option value=3D\\\"MA\\\">MA</option>\\n\\n          &nbsp;\\n\\n          <option value=3D\\\"MD\\\">MD</option>\\n\\n          &nbsp;\\n\\n          <option value=3D\\\"ME\\\">ME</option>\\n\\n          &nbsp;\\n\\n          <option value=3D\\\"MI\\\">MI</option>\\n\\n          &nbsp;\\n\\n          <option value=3D\\\"MN\\\">MN</option>\\n\\n          &nbsp;\\n\\n          <option value=3D\\\"MO\\\">MO</option>\\n\\n          &nbsp;\\n\\n          <option value=3D\\\"MS\\\">MS</option>\\n\\n          &nbsp;\\n\\n          <option value=3D\\\"MT\\\">MT</option>\\n\\n          &nbsp;\\n\\n          <option value=3D\\\"NC\\\">NC</option>\\n\\n          &nbsp;\\n\\n          <option value=3D\\\"ND\\\">ND</option>\\n\\n          &nbsp;\\n\\n          <option value=3D\\\"NE\\\">NE</option>\\n\\n          &nbsp;\\n\\n          <option value=3D\\\"NH\\\">NH</option>\\n\\n          &nbsp;\\n\\n          <option value=3D\\\"NJ\\\">NJ</option>\\n\\n          &nbsp;\\n\\n          <option value=3D\\\"NM\\\">NM</option>\\n\\n          &nbsp;\\n\\n          <option value=3D\\\"NV\\\">NV</option>\\n\\n          &nbsp;\\n\\n          <option value=3D\\\"NY\\\">NY</option>\\n\\n          &nbsp;\\n\\n          <option value=3D\\\"OH\\\">OH</option>\\n\\n          &nbsp;\\n\\n          <option value=3D\\\"OK\\\">OK</option>\\n\\n          &nbsp;\\n\\n          <option value=3D\\\"OR\\\">OR</option>\\n\\n          &nbsp;\\n\\n          <option value=3D\\\"PA\\\">PA</option>\\n\\n          &nbsp;\\n\\n          <option value=3D\\\"RI\\\">RI</option>\\n\\n          &nbsp;\\n\\n          <option value=3D\\\"SC\\\">SC</option>\\n\\n          &nbsp;\\n\\n          <option value=3D\\\"SD\\\">SD</option>\\n\\n          &nbsp;\\n\\n          <option value=3D\\\"TN\\\">TN</option>\\n\\n          &nbsp;\\n\\n          <option value=3D\\\"TX\\\">TX</option>\\n\\n          &nbsp;\\n\\n          <option value=3D\\\"UT\\\">UT</option>\\n\\n          &nbsp;\\n\\n          <option value=3D\\\"VA\\\">VA</option>\\n\\n          &nbsp;\\n\\n          <option value=3D\\\"VT\\\">VT</option>\\n\\n          &nbsp;\\n\\n          <option value=3D\\\"WA\\\">WA</option>\\n\\n          &nbsp;\\n\\n          <option value=3D\\\"WI\\\">WI</option>\\n\\n          &nbsp;\\n\\n          <option value=3D\\\"WV\\\">WV</option>\\n\\n          &nbsp;\\n\\n          <option value=3D\\\"WY\\\">WY&nbsp;</option>\\n\\n          &nbsp;\\n\\n        </select><font color=3D\\\"#ffffff\\\">*</font></td>\\n\\n    </tr>\\n\\n    <tr align=3D\\\"middle\\\">\\n\\n      <td align=3D\\\"right\\\" width=3D\\\"208\\\" bgColor=3D\\\"#000080\\\"><font size=3D\\\"=\\n\\n+0\\\" color=3D\\\"#ffffff\\\" face=3D\\\"Arial\\\">Zip/Postal\\n\\n        Code:</font></td>\\n\\n      <td align=3D\\\"left\\\" width=3D\\\"328\\\" bgColor=3D\\\"#000080\\\"><input maxLengt=\\n\\nh=3D\\\"10\\\" size=3D\\\"14\\\" name=3D\\\"PostalCode\\\"><font color=3D\\\"#ffffff\\\">*</font><=\\n\\n/td>\\n\\n    </tr>\\n\\n    <tr align=3D\\\"middle\\\">\\n\\n      <td align=3D\\\"right\\\" width=3D\\\"208\\\" bgColor=3D\\\"#000080\\\"><font size=3D\\\"=\\n\\n+0\\\" color=3D\\\"#ffffff\\\" face=3D\\\"Arial\\\">Home\\n\\n        Phone:&nbsp;</font></td>\\n\\n      <td align=3D\\\"left\\\" width=3D\\\"328\\\" bgColor=3D\\\"#000080\\\"><input maxLengt=\\n\\nh=3D\\\"12\\\" size=3D\\\"14\\\" name=3D\\\"HPhone\\\"><font color=3D\\\"#ffffff\\\">*</font></td>\\n\\n    </tr>\\n\\n    <tr align=3D\\\"middle\\\">\\n\\n      <td align=3D\\\"right\\\" width=3D\\\"208\\\" bgColor=3D\\\"#000080\\\"><font size=3D\\\"=\\n\\n+0\\\" color=3D\\\"#ffffff\\\" face=3D\\\"Arial\\\">Work\\n\\n        Phone:</font></td>\\n\\n      <td align=3D\\\"left\\\" width=3D\\\"328\\\" bgColor=3D\\\"#000080\\\"><input maxLengt=\\n\\nh=3D\\\"12\\\" size=3D\\\"14\\\" name=3D\\\"WPhone\\\"><font color=3D\\\"#ffffff\\\">*</font></td>\\n\\n    </tr>\\n\\n    <tr align=3D\\\"middle\\\">\\n\\n      <td align=3D\\\"right\\\" width=3D\\\"208\\\" bgColor=3D\\\"#000080\\\"><font size=3D\\\"=\\n\\n+0\\\" color=3D\\\"#ffffff\\\" face=3D\\\"Arial\\\">Email\\n\\n        Address:</font></td>\\n\\n      <td align=3D\\\"left\\\" width=3D\\\"328\\\" bgColor=3D\\\"#000080\\\"><input maxLengt=\\n\\nh=3D\\\"100\\\" size=3D\\\"14\\\" name=3D\\\"Email\\\"><font color=3D\\\"#ffffff\\\">*</font></td>\\n\\n    </tr>\\n\\n    <tr align=3D\\\"middle\\\">\\n\\n      <td align=3D\\\"right\\\" width=3D\\\"208\\\" bgColor=3D\\\"#000080\\\"><font size=3D\\\"=\\n\\n+0\\\" color=3D\\\"#ffffff\\\" face=3D\\\"Arial\\\">Best\\n\\n        Time to Call:</font></td>\\n\\n      <td align=3D\\\"left\\\" width=3D\\\"328\\\" bgColor=3D\\\"#000080\\\"><select size=3D=\\n\\n\\\"1\\\" name=3D\\\"CallTime\\\">\\n\\n          <option value=3D\\\"Morning at Home\\\" selected>Morning at Home</opti=\\n\\non>\\n\\n          &nbsp;\\n\\n          <option value=3D\\\"Morning at Work\\\">Morning at Work</option>\\n\\n          &nbsp;\\n\\n          <option value=3D\\\"Afternoon at Home\\\">Afternoon at Home</option>\\n\\n          &nbsp;\\n\\n          <option value=3D\\\"Afternoon at Work\\\">Afternoon at Work</option>\\n\\n          &nbsp;\\n\\n          <option value=3D\\\"Evening at Home\\\">Evening at Home</option>\\n\\n          &nbsp;\\n\\n          <option value=3D\\\"Late Evening at Work\\\">Late Evening at Home</opt=\\n\\nion>\\n\\n          &nbsp;\\n\\n        </select></td>\\n\\n    </tr>\\n\\n  </tbody>\\n\\n  </table>\\n\\n  <div align=3D\\\"center\\\">\\n\\n    <center>\\n\\n    <table cellSpacing=3D\\\"0\\\" cellPadding=3D\\\"0\\\" width=3D\\\"550\\\" bgColor=3D\\\"#0=\\n\\n00099\\\" border=3D\\\"0\\\">\\n\\n      <tbody>\\n\\n        <tr>\\n\\n          <td align=3D\\\"right\\\" width=3D\\\"212\\\" bgColor=3D\\\"#000080\\\"><font size=\\n\\n=3D\\\"+0\\\" color=3D\\\"#ffffff\\\" face=3D\\\"Arial\\\">Do\\n\\n            You Own Your Home?:</font></td>\\n\\n          <td width=3D\\\"334\\\" bgColor=3D\\\"#000080\\\"><select size=3D\\\"1\\\" name=3D=\\n\\n\\\"Homeowner\\\">\\n\\n              <option value=3D\\\"Yes\\\" selected>Yes</option>\\n\\n              &nbsp;\\n\\n              <option value=3D\\\"No\\\">No</option>\\n\\n              &nbsp;\\n\\n            </select><b><font size=3D\\\"-1\\\" color=3D\\\"#ffffff\\\" face=3D\\\"Arial\\\"=\\n\\n>Mobile\\n\\n            Homes DO NOT Qualify</font></b></td>\\n\\n        </tr>\\n\\n        <tr>\\n\\n          <td align=3D\\\"right\\\" width=3D\\\"212\\\" bgColor=3D\\\"#000080\\\"><font size=\\n\\n=3D\\\"+0\\\" color=3D\\\"#ffffff\\\" face=3D\\\"Arial\\\">Property\\n\\n            Value:</font></td>\\n\\n          <td width=3D\\\"334\\\" bgColor=3D\\\"#000080\\\"><input maxLength=3D\\\"100\\\" s=\\n\\nize=3D\\\"14\\\" name=3D\\\"PropertyValue\\\"><font color=3D\\\"#ffffff\\\">*</font></td>\\n\\n        </tr>\\n\\n        <tr>\\n\\n          <td align=3D\\\"right\\\" width=3D\\\"212\\\" bgColor=3D\\\"#000080\\\"><font size=\\n\\n=3D\\\"+0\\\" color=3D\\\"#ffffff\\\" face=3D\\\"Arial\\\">Property\\n\\n            Type:</font></td>\\n\\n          <td width=3D\\\"334\\\" bgColor=3D\\\"#000080\\\"><select size=3D\\\"1\\\" name=3D=\\n\\n\\\"PropertyType\\\">\\n\\n              <option value=3D\\\"Single Family Residence\\\" selected>Single Fa=\\n\\nmily\\n\\n              Residence</option>\\n\\n              &nbsp;\\n\\n              <option value=3D\\\"Condo\\\">Condo</option>\\n\\n              &nbsp;\\n\\n              <option value=3D\\\"Townhouse\\\">Townhouse</option>\\n\\n              &nbsp;\\n\\n              <option value=3D\\\"2-4 Plex\\\">2-4 Plex</option>\\n\\n              &nbsp;\\n\\n              <option value=3D\\\"Other\\\">Other</option>\\n\\n              &nbsp;\\n\\n            </select></td>\\n\\n        </tr>\\n\\n        <tr>\\n\\n          <td align=3D\\\"right\\\" width=3D\\\"212\\\" bgColor=3D\\\"#000080\\\"><font size=\\n\\n=3D\\\"+0\\\" color=3D\\\"#ffffff\\\" face=3D\\\"Arial\\\">Purchase\\n\\n            Price:</font></td>\\n\\n          <td width=3D\\\"334\\\" bgColor=3D\\\"#000080\\\"><input maxLength=3D\\\"100\\\" s=\\n\\nize=3D\\\"14\\\" name=3D\\\"PurchasePrice\\\"><font color=3D\\\"#ffffff\\\">*</font></td>\\n\\n        </tr>\\n\\n        <tr>\\n\\n          <td align=3D\\\"right\\\" width=3D\\\"212\\\" bgColor=3D\\\"#000080\\\"><font size=\\n\\n=3D\\\"+0\\\" color=3D\\\"#ffffff\\\" face=3D\\\"Arial\\\">Year\\n\\n            Acquired:</font></td>\\n\\n          <td width=3D\\\"334\\\" bgColor=3D\\\"#000080\\\"><input maxLength=3D\\\"100\\\" s=\\n\\nize=3D\\\"14\\\" name=3D\\\"YearAcquired\\\"><font color=3D\\\"#ffffff\\\">*</font></td>\\n\\n        </tr>\\n\\n        <tr>\\n\\n          <td align=3D\\\"right\\\" width=3D\\\"212\\\" bgColor=3D\\\"#000080\\\"><font size=\\n\\n=3D\\\"+0\\\" color=3D\\\"#ffffff\\\" face=3D\\\"Arial\\\">1st\\n\\n            Mortgage Balance Owed:</font></td>\\n\\n          <td width=3D\\\"334\\\" bgColor=3D\\\"#000080\\\"><input maxLength=3D\\\"100\\\" s=\\n\\nize=3D\\\"14\\\" name=3D\\\"Mortgage1\\\"><font color=3D\\\"#ffffff\\\">*</font></td>\\n\\n        </tr>\\n\\n        <tr>\\n\\n          <td align=3D\\\"right\\\" width=3D\\\"212\\\" bgColor=3D\\\"#000080\\\"><font size=\\n\\n=3D\\\"+0\\\" color=3D\\\"#ffffff\\\" face=3D\\\"Arial\\\">1st\\n\\n            Mortgage Interest Rate:</font></td>\\n\\n          <td width=3D\\\"334\\\" bgColor=3D\\\"#000080\\\"><input maxLength=3D\\\"100\\\" s=\\n\\nize=3D\\\"14\\\" name=3D\\\"CurrentIntRate\\\"><font color=3D\\\"#ffffff\\\">*</font></td>\\n\\n        </tr>\\n\\n        <tr>\\n\\n          <td align=3D\\\"right\\\" width=3D\\\"212\\\" bgColor=3D\\\"#000080\\\"><font size=\\n\\n=3D\\\"+0\\\" color=3D\\\"#ffffff\\\" face=3D\\\"Arial\\\">Is\\n\\n            1st Adjustable or Fixed?:</font></td>\\n\\n          <td width=3D\\\"334\\\" bgColor=3D\\\"#000080\\\"><select size=3D\\\"1\\\" name=3D=\\n\\n\\\"FirstType\\\">\\n\\n              <option value=3D\\\"Fixed\\\" selected>Fixed</option>\\n\\n              &nbsp;\\n\\n              <option value=3D\\\"Adjustable\\\">Adjustable</option>\\n\\n              &nbsp;\\n\\n            </select><font color=3D\\\"#ffffff\\\">*</font></td>\\n\\n        </tr>\\n\\n        <tr>\\n\\n          <td align=3D\\\"right\\\" width=3D\\\"212\\\" bgColor=3D\\\"#000080\\\"><font size=\\n\\n=3D\\\"+0\\\" color=3D\\\"#ffffff\\\" face=3D\\\"Arial\\\">2nd\\n\\n            Mortgage Balance Owed:</font></td>\\n\\n          <td width=3D\\\"334\\\" bgColor=3D\\\"#000080\\\"><input maxLength=3D\\\"100\\\" s=\\n\\nize=3D\\\"14\\\" name=3D\\\"Mortgage2\\\"></td>\\n\\n        </tr>\\n\\n        <tr>\\n\\n          <td align=3D\\\"right\\\" width=3D\\\"212\\\" bgColor=3D\\\"#000080\\\"><font size=\\n\\n=3D\\\"+0\\\" color=3D\\\"#ffffff\\\" face=3D\\\"Arial\\\">Amount\\n\\n            You Wish To Borrow:</font></td>\\n\\n          <td width=3D\\\"334\\\" bgColor=3D\\\"#000080\\\"><input maxLength=3D\\\"100\\\" s=\\n\\nize=3D\\\"14\\\" name=3D\\\"BorrowRequest\\\"><font color=3D\\\"#ffffff\\\">*</font></td>\\n\\n        </tr>\\n\\n        <tr>\\n\\n          <td align=3D\\\"right\\\" width=3D\\\"212\\\" bgColor=3D\\\"#000080\\\"><font size=\\n\\n=3D\\\"+0\\\" color=3D\\\"#ffffff\\\" face=3D\\\"Arial\\\">Employer:</font></td>\\n\\n          <td width=3D\\\"334\\\" bgColor=3D\\\"#000080\\\"><input maxLength=3D\\\"100\\\" s=\\n\\nize=3D\\\"14\\\" name=3D\\\"Employer\\\"></td>\\n\\n        </tr>\\n\\n        <tr>\\n\\n          <td align=3D\\\"right\\\" width=3D\\\"212\\\" bgColor=3D\\\"#000080\\\"><font size=\\n\\n=3D\\\"+0\\\" color=3D\\\"#ffffff\\\" face=3D\\\"Arial\\\">Monthly\\n\\n            Gross Household Income:</font></td>\\n\\n          <td width=3D\\\"334\\\" bgColor=3D\\\"#000080\\\"><input maxLength=3D\\\"100\\\" s=\\n\\nize=3D\\\"14\\\" name=3D\\\"MonthlyGrIncome\\\"><font color=3D\\\"#ffffff\\\">*</font></td>\\n\\n        </tr>\\n\\n        <tr>\\n\\n          <td bgColor=3D\\\"#000080\\\">\\n\\n            <div align=3D\\\"right\\\">\\n\\n              <font size=3D\\\"+0\\\" face=3D\\\"Arial\\\"><font color=3D\\\"#ffffff\\\">Mon=\\n\\nthly Debt:</font><font color=3D\\\"#0000ff\\\">:</font></font>&nbsp;\\n\\n            </div>\\n\\n          </td>\\n\\n          <td bgColor=3D\\\"#000080\\\"><input maxLength=3D\\\"100\\\" size=3D\\\"14\\\" nam=\\n\\ne=3D\\\"MonthlyDebt\\\"></td>\\n\\n        </tr>\\n\\n        <tr>\\n\\n          <td noWrap align=3D\\\"right\\\" width=3D\\\"212\\\" bgColor=3D\\\"#000080\\\"><fo=\\n\\nnt size=3D\\\"+0\\\" color=3D\\\"#ffffff\\\" face=3D\\\"Arial\\\">Credit\\n\\n            Rating:</font></td>\\n\\n          <td width=3D\\\"334\\\" bgColor=3D\\\"#000080\\\"><select size=3D\\\"1\\\" name=3D=\\n\\n\\\"CreditRating\\\">\\n\\n              <option value=3D\\\"Please Select\\\" selected>Please Select</opti=\\n\\non>\\n\\n              <option value=3D\\\"Good\\\">Good</option>\\n\\n              &nbsp;&nbsp;\\n\\n              <option value=3D\\\"Fair\\\">Fair</option>\\n\\n              &nbsp;\\n\\n              <option value=3D\\\"Poor\\\">Poor</option>\\n\\n              <option value=3D\\\"Excellent\\\">Excellent</option>\\n\\n              &nbsp;\\n\\n            </select><font color=3D\\\"#ffffff\\\">*</font></td>\\n\\n        </tr>\\n\\n        <tr>\\n\\n          <td align=3D\\\"right\\\" width=3D\\\"212\\\" bgColor=3D\\\"#000080\\\"><font size=\\n\\n=3D\\\"+0\\\" color=3D\\\"#ffffff\\\" face=3D\\\"Arial\\\">Loan\\n\\n            Interested In:</font></td>\\n\\n          <td width=3D\\\"334\\\" bgColor=3D\\\"#000080\\\"><select size=3D\\\"1\\\" name=3D=\\n\\n\\\"LoanInterested\\\">\\n\\n              <option value=3D\\\"Consolidation\\\" selected>Debt Consolidation<=\\n\\n/option>\\n\\n              &nbsp;\\n\\n              <option value=3D\\\"Second\\\">Second Mortgage</option>\\n\\n              &nbsp;\\n\\n              <option value=3D\\\"Improvement\\\">Home Improvement</option>\\n\\n              &nbsp;\\n\\n              <option value=3D\\\"Refinance\\\">Refinance</option>\\n\\n              &nbsp;\\n\\n              <option value=3D\\\"Refinance\\\">Purchase</option>\\n\\n              &nbsp;\\n\\n            </select><font color=3D\\\"#ffffff\\\">*</font></td>\\n\\n        </tr>\\n\\n      </tbody>\\n\\n    </table>\\n\\n    </center>\\n\\n  </div>\\n\\n  <center><input type=3D\\\"submit\\\" value=3D\\\"Submit Form\\\" name=3D\\\"Submit\\\"><in=\\n\\nput type=3D\\\"reset\\\" value=3D\\\"Clear Form\\\">\\n\\n  </form>\\n\\n</center>\\n\\n<p align=3D\\\"center\\\">&nbsp;\\n\\n<hr width=3D\\\"80%\\\" size=3D\\\"1\\\" color=3D\\\"#FF0000\\\">\\n\\n<p align=3D\\\"center\\\"><font face=3D\\\"Arial\\\" size=3D\\\"2\\\"><font color=3D\\\"#000080=\\n\\n\\\"><b>Removal\\n\\nInstructions<br>\\n\\n</b>Click on the below link to be excluded from further communication.</fo=\\n\\nnt>\\n\\n<br><b><a href=3D\\\"mailto:reffon887@uole.com?subject=3Dremove\\\">Click Here</=\\n\\na></b></font>\\n\\n</td>\\n\\n</tr>\\n\\n</table>\\n\\n\\n\\n</div>\\n\\n\\n\\n</body>\\n\\n</html>\\n\\n\\n\\n\\n\\n\\n\\n\\n\\n\\n\\n\\n\",\n          \"Tired of Mounting Credit Card Debt?\\n\\nFrustrated by Creditor Harrassment?\\n\\nBogged down by Medical Expenses?\\n\\nJust Plain Tired of the Financial Insanity?\\n\\n\\n\\nBy filling out the simple form below you can,\\n\\n\\n\\nReduce your debts by up to 60%!\\n\\nReduce or Eliminate Interest!\\n\\nPreserve or Rebuild your Credit\\n\\nStop the Harrassing Phone Calls!\\n\\n\\n\\nFollow the link below to fill out the short and easy form today!!\\n\\n\\n\\n\\n\\nhttp://61.129.68.19/user0205/index.asp?Afft=DP09\\n\\n\\n\\n\\n\\nIt's a free quote and only take a couple of seconds!!\\n\\n\\n\\nPlease know that we do not want to send you information regarding our special offers if you do not wish to receive it.  \\n\\nIf you would no longer like us to contact you or feel that you have received this email in error, please follow the link below\\n\\nto unsubscribe.\\n\\n\\n\\n\\n\\nhttp://61.129.68.19/light/watch.asp\\n\\n\\n\"\n        ],\n        \"semantic_type\": \"\",\n        \"description\": \"\"\n      }\n    },\n    {\n      \"column\": \"CATEGORY\",\n      \"properties\": {\n        \"dtype\": \"number\",\n        \"std\": 0,\n        \"min\": 0,\n        \"max\": 1,\n        \"num_unique_values\": 2,\n        \"samples\": [\n          0,\n          1\n        ],\n        \"semantic_type\": \"\",\n        \"description\": \"\"\n      }\n    },\n    {\n      \"column\": \"FILE_NAME\",\n      \"properties\": {\n        \"dtype\": \"string\",\n        \"num_unique_values\": 5796,\n        \"samples\": [\n          \"00702.512ab0c1a1654aa43dc93c7e23a9d859\",\n          \"02032.c9f7d8c8ebdcf626a6bbf4e2ae23a827\"\n        ],\n        \"semantic_type\": \"\",\n        \"description\": \"\"\n      }\n    }\n  ]\n}"
            }
          },
          "metadata": {},
          "execution_count": 47
        }
      ]
    },
    {
      "cell_type": "code",
      "source": [
        "data.tail()"
      ],
      "metadata": {
        "colab": {
          "base_uri": "https://localhost:8080/",
          "height": 237
        },
        "id": "tcdhH-HCwjFN",
        "outputId": "174213cd-988b-472c-eba0-7a6ab3fa9b9e"
      },
      "execution_count": 49,
      "outputs": [
        {
          "output_type": "execute_result",
          "data": {
            "text/plain": [
              "                                                  MESSAGE  CATEGORY  \\\n",
              "DOC_ID                                                                \n",
              "5791    > Of course, it would require a minimum of EUR...         0   \n",
              "5792    > There are so many good musician jokes.\\n\\n\\n...         0   \n",
              "5793    No problems installing OpenOffice 653??? and 1...         0   \n",
              "5794    On Wed, 2002-07-31 at 15:16, Elias Sinderson w...         0   \n",
              "5795      | Date: Fri, 19 Jul 2002 16:15:49 +0100\\n\\n ...         0   \n",
              "\n",
              "                                     FILE_NAME  \n",
              "DOC_ID                                          \n",
              "5791    00391.5fc0c6810ac42e66c4dcc7d6524dd596  \n",
              "5792    00729.733ee0faa56c33c52cb73337b7986261  \n",
              "5793    00463.a0b9bc6f874e76510933906b72baae3f  \n",
              "5794    00941.7e73d0b5d1de68eabc52c3e8d05349d8  \n",
              "5795    00072.198398984661d0b6dc676ad30d6f2884  "
            ],
            "text/html": [
              "\n",
              "  <div id=\"df-a8fa7965-d14c-4eb6-8c4e-d8b2915c589c\" class=\"colab-df-container\">\n",
              "    <div>\n",
              "<style scoped>\n",
              "    .dataframe tbody tr th:only-of-type {\n",
              "        vertical-align: middle;\n",
              "    }\n",
              "\n",
              "    .dataframe tbody tr th {\n",
              "        vertical-align: top;\n",
              "    }\n",
              "\n",
              "    .dataframe thead th {\n",
              "        text-align: right;\n",
              "    }\n",
              "</style>\n",
              "<table border=\"1\" class=\"dataframe\">\n",
              "  <thead>\n",
              "    <tr style=\"text-align: right;\">\n",
              "      <th></th>\n",
              "      <th>MESSAGE</th>\n",
              "      <th>CATEGORY</th>\n",
              "      <th>FILE_NAME</th>\n",
              "    </tr>\n",
              "    <tr>\n",
              "      <th>DOC_ID</th>\n",
              "      <th></th>\n",
              "      <th></th>\n",
              "      <th></th>\n",
              "    </tr>\n",
              "  </thead>\n",
              "  <tbody>\n",
              "    <tr>\n",
              "      <th>5791</th>\n",
              "      <td>&gt; Of course, it would require a minimum of EUR...</td>\n",
              "      <td>0</td>\n",
              "      <td>00391.5fc0c6810ac42e66c4dcc7d6524dd596</td>\n",
              "    </tr>\n",
              "    <tr>\n",
              "      <th>5792</th>\n",
              "      <td>&gt; There are so many good musician jokes.\\n\\n\\n...</td>\n",
              "      <td>0</td>\n",
              "      <td>00729.733ee0faa56c33c52cb73337b7986261</td>\n",
              "    </tr>\n",
              "    <tr>\n",
              "      <th>5793</th>\n",
              "      <td>No problems installing OpenOffice 653??? and 1...</td>\n",
              "      <td>0</td>\n",
              "      <td>00463.a0b9bc6f874e76510933906b72baae3f</td>\n",
              "    </tr>\n",
              "    <tr>\n",
              "      <th>5794</th>\n",
              "      <td>On Wed, 2002-07-31 at 15:16, Elias Sinderson w...</td>\n",
              "      <td>0</td>\n",
              "      <td>00941.7e73d0b5d1de68eabc52c3e8d05349d8</td>\n",
              "    </tr>\n",
              "    <tr>\n",
              "      <th>5795</th>\n",
              "      <td>| Date: Fri, 19 Jul 2002 16:15:49 +0100\\n\\n ...</td>\n",
              "      <td>0</td>\n",
              "      <td>00072.198398984661d0b6dc676ad30d6f2884</td>\n",
              "    </tr>\n",
              "  </tbody>\n",
              "</table>\n",
              "</div>\n",
              "    <div class=\"colab-df-buttons\">\n",
              "\n",
              "  <div class=\"colab-df-container\">\n",
              "    <button class=\"colab-df-convert\" onclick=\"convertToInteractive('df-a8fa7965-d14c-4eb6-8c4e-d8b2915c589c')\"\n",
              "            title=\"Convert this dataframe to an interactive table.\"\n",
              "            style=\"display:none;\">\n",
              "\n",
              "  <svg xmlns=\"http://www.w3.org/2000/svg\" height=\"24px\" viewBox=\"0 -960 960 960\">\n",
              "    <path d=\"M120-120v-720h720v720H120Zm60-500h600v-160H180v160Zm220 220h160v-160H400v160Zm0 220h160v-160H400v160ZM180-400h160v-160H180v160Zm440 0h160v-160H620v160ZM180-180h160v-160H180v160Zm440 0h160v-160H620v160Z\"/>\n",
              "  </svg>\n",
              "    </button>\n",
              "\n",
              "  <style>\n",
              "    .colab-df-container {\n",
              "      display:flex;\n",
              "      gap: 12px;\n",
              "    }\n",
              "\n",
              "    .colab-df-convert {\n",
              "      background-color: #E8F0FE;\n",
              "      border: none;\n",
              "      border-radius: 50%;\n",
              "      cursor: pointer;\n",
              "      display: none;\n",
              "      fill: #1967D2;\n",
              "      height: 32px;\n",
              "      padding: 0 0 0 0;\n",
              "      width: 32px;\n",
              "    }\n",
              "\n",
              "    .colab-df-convert:hover {\n",
              "      background-color: #E2EBFA;\n",
              "      box-shadow: 0px 1px 2px rgba(60, 64, 67, 0.3), 0px 1px 3px 1px rgba(60, 64, 67, 0.15);\n",
              "      fill: #174EA6;\n",
              "    }\n",
              "\n",
              "    .colab-df-buttons div {\n",
              "      margin-bottom: 4px;\n",
              "    }\n",
              "\n",
              "    [theme=dark] .colab-df-convert {\n",
              "      background-color: #3B4455;\n",
              "      fill: #D2E3FC;\n",
              "    }\n",
              "\n",
              "    [theme=dark] .colab-df-convert:hover {\n",
              "      background-color: #434B5C;\n",
              "      box-shadow: 0px 1px 3px 1px rgba(0, 0, 0, 0.15);\n",
              "      filter: drop-shadow(0px 1px 2px rgba(0, 0, 0, 0.3));\n",
              "      fill: #FFFFFF;\n",
              "    }\n",
              "  </style>\n",
              "\n",
              "    <script>\n",
              "      const buttonEl =\n",
              "        document.querySelector('#df-a8fa7965-d14c-4eb6-8c4e-d8b2915c589c button.colab-df-convert');\n",
              "      buttonEl.style.display =\n",
              "        google.colab.kernel.accessAllowed ? 'block' : 'none';\n",
              "\n",
              "      async function convertToInteractive(key) {\n",
              "        const element = document.querySelector('#df-a8fa7965-d14c-4eb6-8c4e-d8b2915c589c');\n",
              "        const dataTable =\n",
              "          await google.colab.kernel.invokeFunction('convertToInteractive',\n",
              "                                                    [key], {});\n",
              "        if (!dataTable) return;\n",
              "\n",
              "        const docLinkHtml = 'Like what you see? Visit the ' +\n",
              "          '<a target=\"_blank\" href=https://colab.research.google.com/notebooks/data_table.ipynb>data table notebook</a>'\n",
              "          + ' to learn more about interactive tables.';\n",
              "        element.innerHTML = '';\n",
              "        dataTable['output_type'] = 'display_data';\n",
              "        await google.colab.output.renderOutput(dataTable, element);\n",
              "        const docLink = document.createElement('div');\n",
              "        docLink.innerHTML = docLinkHtml;\n",
              "        element.appendChild(docLink);\n",
              "      }\n",
              "    </script>\n",
              "  </div>\n",
              "\n",
              "\n",
              "<div id=\"df-6bd2b450-a723-4a20-96a5-9ee1606c2550\">\n",
              "  <button class=\"colab-df-quickchart\" onclick=\"quickchart('df-6bd2b450-a723-4a20-96a5-9ee1606c2550')\"\n",
              "            title=\"Suggest charts\"\n",
              "            style=\"display:none;\">\n",
              "\n",
              "<svg xmlns=\"http://www.w3.org/2000/svg\" height=\"24px\"viewBox=\"0 0 24 24\"\n",
              "     width=\"24px\">\n",
              "    <g>\n",
              "        <path d=\"M19 3H5c-1.1 0-2 .9-2 2v14c0 1.1.9 2 2 2h14c1.1 0 2-.9 2-2V5c0-1.1-.9-2-2-2zM9 17H7v-7h2v7zm4 0h-2V7h2v10zm4 0h-2v-4h2v4z\"/>\n",
              "    </g>\n",
              "</svg>\n",
              "  </button>\n",
              "\n",
              "<style>\n",
              "  .colab-df-quickchart {\n",
              "      --bg-color: #E8F0FE;\n",
              "      --fill-color: #1967D2;\n",
              "      --hover-bg-color: #E2EBFA;\n",
              "      --hover-fill-color: #174EA6;\n",
              "      --disabled-fill-color: #AAA;\n",
              "      --disabled-bg-color: #DDD;\n",
              "  }\n",
              "\n",
              "  [theme=dark] .colab-df-quickchart {\n",
              "      --bg-color: #3B4455;\n",
              "      --fill-color: #D2E3FC;\n",
              "      --hover-bg-color: #434B5C;\n",
              "      --hover-fill-color: #FFFFFF;\n",
              "      --disabled-bg-color: #3B4455;\n",
              "      --disabled-fill-color: #666;\n",
              "  }\n",
              "\n",
              "  .colab-df-quickchart {\n",
              "    background-color: var(--bg-color);\n",
              "    border: none;\n",
              "    border-radius: 50%;\n",
              "    cursor: pointer;\n",
              "    display: none;\n",
              "    fill: var(--fill-color);\n",
              "    height: 32px;\n",
              "    padding: 0;\n",
              "    width: 32px;\n",
              "  }\n",
              "\n",
              "  .colab-df-quickchart:hover {\n",
              "    background-color: var(--hover-bg-color);\n",
              "    box-shadow: 0 1px 2px rgba(60, 64, 67, 0.3), 0 1px 3px 1px rgba(60, 64, 67, 0.15);\n",
              "    fill: var(--button-hover-fill-color);\n",
              "  }\n",
              "\n",
              "  .colab-df-quickchart-complete:disabled,\n",
              "  .colab-df-quickchart-complete:disabled:hover {\n",
              "    background-color: var(--disabled-bg-color);\n",
              "    fill: var(--disabled-fill-color);\n",
              "    box-shadow: none;\n",
              "  }\n",
              "\n",
              "  .colab-df-spinner {\n",
              "    border: 2px solid var(--fill-color);\n",
              "    border-color: transparent;\n",
              "    border-bottom-color: var(--fill-color);\n",
              "    animation:\n",
              "      spin 1s steps(1) infinite;\n",
              "  }\n",
              "\n",
              "  @keyframes spin {\n",
              "    0% {\n",
              "      border-color: transparent;\n",
              "      border-bottom-color: var(--fill-color);\n",
              "      border-left-color: var(--fill-color);\n",
              "    }\n",
              "    20% {\n",
              "      border-color: transparent;\n",
              "      border-left-color: var(--fill-color);\n",
              "      border-top-color: var(--fill-color);\n",
              "    }\n",
              "    30% {\n",
              "      border-color: transparent;\n",
              "      border-left-color: var(--fill-color);\n",
              "      border-top-color: var(--fill-color);\n",
              "      border-right-color: var(--fill-color);\n",
              "    }\n",
              "    40% {\n",
              "      border-color: transparent;\n",
              "      border-right-color: var(--fill-color);\n",
              "      border-top-color: var(--fill-color);\n",
              "    }\n",
              "    60% {\n",
              "      border-color: transparent;\n",
              "      border-right-color: var(--fill-color);\n",
              "    }\n",
              "    80% {\n",
              "      border-color: transparent;\n",
              "      border-right-color: var(--fill-color);\n",
              "      border-bottom-color: var(--fill-color);\n",
              "    }\n",
              "    90% {\n",
              "      border-color: transparent;\n",
              "      border-bottom-color: var(--fill-color);\n",
              "    }\n",
              "  }\n",
              "</style>\n",
              "\n",
              "  <script>\n",
              "    async function quickchart(key) {\n",
              "      const quickchartButtonEl =\n",
              "        document.querySelector('#' + key + ' button');\n",
              "      quickchartButtonEl.disabled = true;  // To prevent multiple clicks.\n",
              "      quickchartButtonEl.classList.add('colab-df-spinner');\n",
              "      try {\n",
              "        const charts = await google.colab.kernel.invokeFunction(\n",
              "            'suggestCharts', [key], {});\n",
              "      } catch (error) {\n",
              "        console.error('Error during call to suggestCharts:', error);\n",
              "      }\n",
              "      quickchartButtonEl.classList.remove('colab-df-spinner');\n",
              "      quickchartButtonEl.classList.add('colab-df-quickchart-complete');\n",
              "    }\n",
              "    (() => {\n",
              "      let quickchartButtonEl =\n",
              "        document.querySelector('#df-6bd2b450-a723-4a20-96a5-9ee1606c2550 button');\n",
              "      quickchartButtonEl.style.display =\n",
              "        google.colab.kernel.accessAllowed ? 'block' : 'none';\n",
              "    })();\n",
              "  </script>\n",
              "</div>\n",
              "\n",
              "    </div>\n",
              "  </div>\n"
            ],
            "application/vnd.google.colaboratory.intrinsic+json": {
              "type": "dataframe",
              "summary": "{\n  \"name\": \"data\",\n  \"rows\": 5,\n  \"fields\": [\n    {\n      \"column\": \"DOC_ID\",\n      \"properties\": {\n        \"dtype\": \"number\",\n        \"std\": 1,\n        \"min\": 5791,\n        \"max\": 5795,\n        \"num_unique_values\": 5,\n        \"samples\": [\n          5792,\n          5795,\n          5793\n        ],\n        \"semantic_type\": \"\",\n        \"description\": \"\"\n      }\n    },\n    {\n      \"column\": \"MESSAGE\",\n      \"properties\": {\n        \"dtype\": \"string\",\n        \"num_unique_values\": 5,\n        \"samples\": [\n          \"> There are so many good musician jokes.\\n\\n\\n\\nYoung Lutheran's Guide To The Orchestra\\n\\n\\n\\nCheers,\\n\\nWayne\\n\\n\\n\\nhttp://xent.com/mailman/listinfo/fork\\n\\n\\n\\n\\n\",\n          \"  | Date: Fri, 19 Jul 2002 16:15:49 +0100\\n\\n  | From: Brian Foster <blf@utvinternet.ie>\\n\\n  |[ ... ]\\n\\n  |  the issue here is tar(1) (and cpio(1)) archives always\\n\\n  |  contain the data for each name of a hard link.  [ ... ]\\n\\n\\n\\n ARRGGGHHHH!!!!!\\n\\n profuse apologies, the wrong version of my reply was posted\\n\\n (blame it on being late for the pub).  ;-(\\n\\n\\n\\n the above is almost pure B*S* --- I got my `tar's and `cpio's\\n\\n confused.  what I said _is_ correct, but for cpio(1) archives;\\n\\n tar(1) archives do _not_ replicate the data for hard links.\\n\\n\\n\\n I spotted this confusion on my part before I posted my reply,\\n\\n and re-wrote it to be more correct, yet somehow the wrong\\n\\n version got sent anyways.  ARRGGGHHHH!!!!!  ;-(  ;-(  ;-(\\n\\n\\n\\n anyways, GNU `cpio -p' does not do spurious reads or writes.\\n\\n GNU `tar cf - ... | tar xf - ...' also does not, albeit each\\n\\n `tar' both reads and writes the data.  hence, there is twice\\n\\n (not thrice!) the I/O of `cpio -p', maybe an issue for c.60Gb.\\n\\n\\n\\n using strace(1), I've verified my claim GNU `cpio -p' does\\n\\n not do spurious reads or writes, i.e. it link(2)s.  but having\\n\\n just come back from the pub, perhaps this should also be taken\\n\\n with extra skepticism ......   ;-\\\\ \\n\\n\\n\\nsorry.  cheers!\\n\\n\\t-blf-\\n\\n--\\n\\n Innovative, very experienced, Unix and      | Brian Foster    Dublin, Ireland\\n\\n Chorus (embedded RTOS) kernel internals     | e-mail: blf@utvinternet.ie\\n\\n expert looking for a new position ...       | mobile: (+353 or 0)86 854 9268\\n\\n  For a r\\u00c3\\u00a9sum\\u00c3\\u00a9, contact me, or see my website  http://www.blf.utvinternet.ie\\n\\n\\n\\n    Stop E$$o (ExxonMobile):  \\u00c2\\u00abWhatever you do, don't buy Esso --- they\\n\\n     don't give a damn about global warming.\\u00c2\\u00bb    http://www.stopesso.com\\n\\n     Supported by Greenpeace, Friends of the Earth, and numerous others...\\n\\n\\n\\n-- \\n\\nIrish Linux Users' Group: ilug@linux.ie\\n\\nhttp://www.linux.ie/mailman/listinfo/ilug for (un)subscription information.\\n\\nList maintainer: listmaster@linux.ie\\n\\n\\n\\n\\n\",\n          \"No problems installing OpenOffice 653??? and 1.0. Had some issues with bz2's\\n\\nbeing corrupted but fixed when downloaded again. \\n\\n\\n\\nI am downloading the src of 1.01 at the mo to se if it will work any faster\\n\\ncompiled for my architecture. \\n\\n\\n\\nRegards,\\n\\nCW\\n\\n\\n\\n------------\\n\\nHi All,\\n\\n\\n\\nJust wondering if anyone has ever installed StarOffice\\n\\n6.0 (or Open Office), and if any have experienced any\\n\\nproblems with the install freezing ?\\n\\n\\n\\nI'm using RedHat 7.3 kernel 2.4.18-3, and glibc 2.2.5\\n\\n?\\n\\n\\n\\nI might try downloading OpenOffice instead if it is\\n\\nunresolved!!!!\\n\\n\\n\\nCheers all,\\n\\n\\n\\nColin\\n\\n\\n\\n\\n\\n__________________________________________________\\n\\nDo You Yahoo!?\\n\\nEverything you'll ever need on one web page\\n\\nfrom News and Sport to Email and Music Charts\\n\\nhttp://uk.my.yahoo.com\\n\\n\\n\\n-- \\n\\nIrish Linux Users' Group: ilug@linux.ie\\n\\nhttp://www.linux.ie/mailman/listinfo/ilug for (un)subscription information.\\n\\nList maintainer: listmaster@linux.ie\\n\\n\\n\"\n        ],\n        \"semantic_type\": \"\",\n        \"description\": \"\"\n      }\n    },\n    {\n      \"column\": \"CATEGORY\",\n      \"properties\": {\n        \"dtype\": \"number\",\n        \"std\": 0,\n        \"min\": 0,\n        \"max\": 0,\n        \"num_unique_values\": 1,\n        \"samples\": [\n          0\n        ],\n        \"semantic_type\": \"\",\n        \"description\": \"\"\n      }\n    },\n    {\n      \"column\": \"FILE_NAME\",\n      \"properties\": {\n        \"dtype\": \"string\",\n        \"num_unique_values\": 5,\n        \"samples\": [\n          \"00729.733ee0faa56c33c52cb73337b7986261\"\n        ],\n        \"semantic_type\": \"\",\n        \"description\": \"\"\n      }\n    }\n  ]\n}"
            }
          },
          "metadata": {},
          "execution_count": 49
        }
      ]
    },
    {
      "cell_type": "markdown",
      "source": [
        "**Save to file using Pandas**"
      ],
      "metadata": {
        "id": "-jG0Ohypw5V2"
      }
    },
    {
      "cell_type": "code",
      "source": [
        "data.to_json(DATA_JSON_FILE)"
      ],
      "metadata": {
        "id": "wsQKidkRw-C3"
      },
      "execution_count": 52,
      "outputs": []
    },
    {
      "cell_type": "markdown",
      "source": [
        "**Number of spam messages visualised**"
      ],
      "metadata": {
        "id": "3PZOdBcAzFjz"
      }
    },
    {
      "cell_type": "code",
      "source": [
        "data.CATEGORY.value_counts()"
      ],
      "metadata": {
        "colab": {
          "base_uri": "https://localhost:8080/",
          "height": 178
        },
        "id": "5O4fHwu_zFO7",
        "outputId": "375e7841-04f6-4b58-d471-42f7095125d7"
      },
      "execution_count": 53,
      "outputs": [
        {
          "output_type": "execute_result",
          "data": {
            "text/plain": [
              "CATEGORY\n",
              "0    3900\n",
              "1    1896\n",
              "Name: count, dtype: int64"
            ],
            "text/html": [
              "<div>\n",
              "<style scoped>\n",
              "    .dataframe tbody tr th:only-of-type {\n",
              "        vertical-align: middle;\n",
              "    }\n",
              "\n",
              "    .dataframe tbody tr th {\n",
              "        vertical-align: top;\n",
              "    }\n",
              "\n",
              "    .dataframe thead th {\n",
              "        text-align: right;\n",
              "    }\n",
              "</style>\n",
              "<table border=\"1\" class=\"dataframe\">\n",
              "  <thead>\n",
              "    <tr style=\"text-align: right;\">\n",
              "      <th></th>\n",
              "      <th>count</th>\n",
              "    </tr>\n",
              "    <tr>\n",
              "      <th>CATEGORY</th>\n",
              "      <th></th>\n",
              "    </tr>\n",
              "  </thead>\n",
              "  <tbody>\n",
              "    <tr>\n",
              "      <th>0</th>\n",
              "      <td>3900</td>\n",
              "    </tr>\n",
              "    <tr>\n",
              "      <th>1</th>\n",
              "      <td>1896</td>\n",
              "    </tr>\n",
              "  </tbody>\n",
              "</table>\n",
              "</div><br><label><b>dtype:</b> int64</label>"
            ]
          },
          "metadata": {},
          "execution_count": 53
        }
      ]
    },
    {
      "cell_type": "code",
      "source": [
        "amount_of_spam = data.CATEGORY.value_counts()[1]\n",
        "amount_of_ham = data.CATEGORY.value_counts()[0]\n",
        "print('Amount of spam messages:', amount_of_spam)\n",
        "print('Amount of ham messages:', amount_of_ham)"
      ],
      "metadata": {
        "colab": {
          "base_uri": "https://localhost:8080/"
        },
        "id": "mV_YDZLRzr0R",
        "outputId": "185686a7-83eb-4d38-a4ec-e540a67b3be7"
      },
      "execution_count": 58,
      "outputs": [
        {
          "output_type": "stream",
          "name": "stdout",
          "text": [
            "Amount of spam messages: 1896\n",
            "Amount of ham messages: 3900\n"
          ]
        }
      ]
    },
    {
      "cell_type": "code",
      "source": [
        "category_names = ['Spam', 'Legit_Mail']\n",
        "sizes = [amount_of_spam, amount_of_ham]\n",
        "\n",
        "custom_colors = ['#ff7675','#74b9ff']\n",
        "plt.figure(figsize=(5, 5), dpi=100)\n",
        "plt.pie(sizes, labels=category_names, textprops={'fontsize':10},\n",
        "        startangle=90, autopct='%1.1f%%', colors = custom_colors, explode=[0, 0.1])\n",
        "plt.title('Spam vs Legit Mail')\n",
        "plt.show()"
      ],
      "metadata": {
        "colab": {
          "base_uri": "https://localhost:8080/",
          "height": 444
        },
        "outputId": "5bb4ed92-60d3-49f6-e0db-177492af4d82",
        "id": "w9yfIhpJ8ish"
      },
      "execution_count": null,
      "outputs": [
        {
          "output_type": "display_data",
          "data": {
            "text/plain": [
              "<Figure size 500x500 with 1 Axes>"
            ],
            "image/png": "[encoded data removed]"
          },
          "metadata": {}
        }
      ]
    },
    {
      "cell_type": "code",
      "source": [
        "category_names = ['Spam', 'Legit_Mail']\n",
        "sizes = [amount_of_spam, amount_of_ham]\n",
        "\n",
        "custom_colors = ['#ff7675','#74b9ff']\n",
        "plt.figure(figsize=(5, 5), dpi=100)\n",
        "plt.pie(sizes, labels=category_names, textprops={'fontsize':10},\n",
        "        startangle=90, autopct='%1.1f%%', colors = custom_colors, pctdistance=0.8)\n",
        "\n",
        "#draw circle\n",
        "centre_circle = plt.Circle((0,0), radius=0.6, fc='white')\n",
        "\n",
        "fig = plt.gcf()\n",
        "fig.gca().add_artist(centre_circle)\n",
        "\n",
        "plt.title('Spam vs Legit Mail')\n",
        "plt.show()"
      ],
      "metadata": {
        "colab": {
          "base_uri": "https://localhost:8080/",
          "height": 444
        },
        "id": "q-a7eNpE0Nc6",
        "outputId": "8201f03d-df30-4278-a548-08d56c1f4039"
      },
      "execution_count": 82,
      "outputs": [
        {
          "output_type": "display_data",
          "data": {
            "text/plain": [
              "<Figure size 500x500 with 1 Axes>"
            ],
            "image/png": "[encoded data removed]"
          },
          "metadata": {}
        }
      ]
    },
    {
      "cell_type": "code",
      "source": [
        "category_names = ['Spam', 'Legit_Mail', 'Updates', 'Promotions']\n",
        "sizes = [25, 43, 19, 22]\n",
        "offset = [0.05, 0.05, 0.05, 0.05]\n",
        "\n",
        "custom_colors = ['#ff7675','#74b9ff', '#55efc4', '#ffeaa7']\n",
        "plt.figure(figsize=(5, 5), dpi=100)\n",
        "plt.pie(sizes, labels=category_names, textprops={'fontsize':10},\n",
        "        startangle=90, autopct='%1.1f%%', colors = custom_colors, pctdistance=0.8, explode=offset)\n",
        "\n",
        "#draw circle\n",
        "centre_circle = plt.Circle((0,0), radius=0.6, fc='white')\n",
        "\n",
        "fig = plt.gcf()\n",
        "fig.gca().add_artist(centre_circle)\n",
        "\n",
        "plt.title('Spam vs Legit Mail')\n",
        "plt.show()"
      ],
      "metadata": {
        "colab": {
          "base_uri": "https://localhost:8080/",
          "height": 444
        },
        "outputId": "3373f9d6-668b-4ee7-b9e1-976bc317fbca",
        "id": "A1ZGKPJZ-8oe"
      },
      "execution_count": 86,
      "outputs": [
        {
          "output_type": "display_data",
          "data": {
            "text/plain": [
              "<Figure size 500x500 with 1 Axes>"
            ],
            "image/png": "[encoded data removed]"
          },
          "metadata": {}
        }
      ]
    },
    {
      "cell_type": "markdown",
      "source": [
        "# **Natural Language Processing**\n",
        "**Text Pre-Processing**"
      ],
      "metadata": {
        "id": "6Dh7QxtXCNKB"
      }
    },
    {
      "cell_type": "code",
      "source": [
        "msg = 'All work and no play makes Jack a dull boy'\n",
        "msg.lower()"
      ],
      "metadata": {
        "colab": {
          "base_uri": "https://localhost:8080/",
          "height": 35
        },
        "id": "GO5-gshaCbwm",
        "outputId": "c0134805-dfae-481e-d3ab-5e83640eb1d6"
      },
      "execution_count": 87,
      "outputs": [
        {
          "output_type": "execute_result",
          "data": {
            "text/plain": [
              "'all work and no play makes jack a dull boy'"
            ],
            "application/vnd.google.colaboratory.intrinsic+json": {
              "type": "string"
            }
          },
          "metadata": {},
          "execution_count": 87
        }
      ]
    },
    {
      "cell_type": "markdown",
      "source": [
        "**Download the NLTK Resources(Tokenizer & Stopwords)**"
      ],
      "metadata": {
        "id": "Lqhg5Y7OEEuA"
      }
    },
    {
      "cell_type": "code",
      "source": [
        "nltk.download('punkt')\n"
      ],
      "metadata": {
        "colab": {
          "base_uri": "https://localhost:8080/"
        },
        "id": "UzpYvnUQFRjs",
        "outputId": "bdf962be-2d5a-4e5e-b3ec-1f08e95e9d7a"
      },
      "execution_count": 90,
      "outputs": [
        {
          "output_type": "stream",
          "name": "stderr",
          "text": [
            "[nltk_data] Downloading package punkt to /root/nltk_data...\n",
            "[nltk_data]   Unzipping tokenizers/punkt.zip.\n"
          ]
        },
        {
          "output_type": "execute_result",
          "data": {
            "text/plain": [
              "True"
            ]
          },
          "metadata": {},
          "execution_count": 90
        }
      ]
    },
    {
      "cell_type": "code",
      "source": [
        "nltk.download('stopwords')"
      ],
      "metadata": {
        "colab": {
          "base_uri": "https://localhost:8080/"
        },
        "id": "nhkbaFS2T3t1",
        "outputId": "10659f99-591d-4f07-8c0d-ffe477dc2755"
      },
      "execution_count": 93,
      "outputs": [
        {
          "output_type": "stream",
          "name": "stderr",
          "text": [
            "[nltk_data] Downloading package stopwords to /root/nltk_data...\n",
            "[nltk_data]   Unzipping corpora/stopwords.zip.\n"
          ]
        },
        {
          "output_type": "execute_result",
          "data": {
            "text/plain": [
              "True"
            ]
          },
          "metadata": {},
          "execution_count": 93
        }
      ]
    },
    {
      "cell_type": "markdown",
      "source": [
        "**Tokenising**"
      ],
      "metadata": {
        "id": "ISa2G47SFcwN"
      }
    },
    {
      "cell_type": "code",
      "source": [
        "msg = 'All work and no play makes Jack a dull boy'\n",
        "word_tokenize(msg.lower())"
      ],
      "metadata": {
        "colab": {
          "base_uri": "https://localhost:8080/"
        },
        "id": "fIJQn4g-S9Kb",
        "outputId": "84e5441f-20f3-4522-a035-a751ba017653"
      },
      "execution_count": 92,
      "outputs": [
        {
          "output_type": "execute_result",
          "data": {
            "text/plain": [
              "['all', 'work', 'and', 'no', 'play', 'makes', 'jack', 'a', 'dull', 'boy']"
            ]
          },
          "metadata": {},
          "execution_count": 92
        }
      ]
    },
    {
      "cell_type": "markdown",
      "source": [
        "**Removing stop words**"
      ],
      "metadata": {
        "id": "4fdogUTHUsds"
      }
    },
    {
      "cell_type": "code",
      "source": [
        "stop_words = set(stopwords.words('english'))"
      ],
      "metadata": {
        "id": "oqaSOCv0U2Mb"
      },
      "execution_count": 98,
      "outputs": []
    },
    {
      "cell_type": "code",
      "source": [
        "if 'this' in stop_words:\n",
        "  print('True')\n",
        "else:\n",
        "  print('Nope.Not in here')"
      ],
      "metadata": {
        "colab": {
          "base_uri": "https://localhost:8080/"
        },
        "id": "7pQu3MZlVukp",
        "outputId": "d0a39c8c-d5f6-481f-a149-014758f40afc"
      },
      "execution_count": 100,
      "outputs": [
        {
          "output_type": "stream",
          "name": "stdout",
          "text": [
            "Nope.Not in here\n"
          ]
        }
      ]
    },
    {
      "cell_type": "code",
      "source": [
        "msg = 'All work and no play makes Jack a dull boy.To be or not to be that is the question.'\n",
        "words = word_tokenize(msg.lower())\n",
        "\n",
        "filtered_words = []\n",
        "for word in words:\n",
        "  if word not in stop_words:\n",
        "    filtered_words.append(word)\n",
        "\n",
        "print(filtered_words)\n"
      ],
      "metadata": {
        "colab": {
          "base_uri": "https://localhost:8080/"
        },
        "id": "3sgVU53dWd1_",
        "outputId": "c183c840-6f79-4848-be79-8bb572960610"
      },
      "execution_count": 102,
      "outputs": [
        {
          "output_type": "stream",
          "name": "stdout",
          "text": [
            "['work', 'play', 'makes', 'jack', 'dull', 'boy.to', 'question']\n"
          ]
        }
      ]
    },
    {
      "cell_type": "markdown",
      "source": [
        "**Word Stems and Stemming**"
      ],
      "metadata": {
        "id": "2kh8iVuTYfSW"
      }
    },
    {
      "cell_type": "code",
      "source": [
        "msg = 'All work and no play makes Jack a dull boy.To be or not to be that is the question. \\\n",
        "Nobody expects Spanish Inquisition'\n",
        "words = word_tokenize(msg.lower())\n",
        "\n",
        "#stemmer = PorterStemmer()\n",
        "stemmer = SnowballStemmer('english')\n",
        "\n",
        "filtered_words = []\n",
        "\n",
        "for word in words:\n",
        "  if word not in stop_words:\n",
        "    stemmed_word = stemmer.stem(word)\n",
        "    filtered_words.append(word)\n",
        "\n",
        "print(filtered_words)\n"
      ],
      "metadata": {
        "colab": {
          "base_uri": "https://localhost:8080/"
        },
        "outputId": "3995c001-26f5-4097-a4f6-f7b9cd3fc174",
        "id": "kSviPNhbZ99h"
      },
      "execution_count": 105,
      "outputs": [
        {
          "output_type": "stream",
          "name": "stdout",
          "text": [
            "['work', 'play', 'makes', 'jack', 'dull', 'boy.to', 'question', '.', 'nobody', 'expects', 'spanish', 'inquisition']\n"
          ]
        }
      ]
    },
    {
      "cell_type": "code",
      "source": [
        "msg = 'All work and no play makes Jack a dull boy.To be or not to be that is the question.??? \\\n",
        "Nobody expects Spanish Inquisition'\n",
        "words = word_tokenize(msg.lower())\n",
        "\n",
        "#stemmer = PorterStemmer()\n",
        "stemmer = SnowballStemmer('english')\n",
        "filtered_words = []\n",
        "\n",
        "for word in words:\n",
        "  if word not in stop_words and word.isalpha():\n",
        "    stemmed_word = stemmer.stem(word)\n",
        "    filtered_words.append(word)\n",
        "\n",
        "print(filtered_words)\n"
      ],
      "metadata": {
        "colab": {
          "base_uri": "https://localhost:8080/"
        },
        "outputId": "4ce00bc1-007b-4cca-8c48-ded3c50b8fce",
        "id": "IECH8GOycBVV"
      },
      "execution_count": 107,
      "outputs": [
        {
          "output_type": "stream",
          "name": "stdout",
          "text": [
            "['work', 'play', 'makes', 'jack', 'dull', 'nobody', 'expects', 'spanish', 'inquisition']\n"
          ]
        }
      ]
    }
  ]
}