{
  "nbformat": 4,
  "nbformat_minor": 0,
  "metadata": {
    "colab": {
      "provenance": []
    },
    "kernelspec": {
      "name": "python3",
      "display_name": "Python 3"
    },
    "language_info": {
      "name": "python"
    }
  },
  "cells": [
    {
      "cell_type": "code",
      "execution_count": 3,
      "metadata": {
        "id": "DWavRtIolvSF"
      },
      "outputs": [],
      "source": [
        "import zipfile\n",
        "import os\n",
        "from os import walk\n",
        "from os.path import join\n",
        "import pandas as pd\n",
        "import matplotlib.pyplot as plt\n",
        "\n",
        "import nltk\n",
        "from nltk.stem import PorterStemmer\n",
        "from nltk.stem import SnowballStemmer\n",
        "from nltk.corpus import stopwords\n",
        "from nltk.tokenize import word_tokenize\n",
        "\n",
        "from bs4 import BeautifulSoup\n",
        "%matplotlib inline"
      ]
    },
    {
      "cell_type": "code",
      "source": [
        "from google.colab import files\n",
        "uploaded = files.upload()\n"
      ],
      "metadata": {
        "colab": {
          "base_uri": "https://localhost:8080/",
          "height": 73
        },
        "id": "z9MZO_hl_HsP",
        "outputId": "3da3351c-8168-48a2-a527-874ed3616d56"
      },
      "execution_count": 4,
      "outputs": [
        {
          "output_type": "display_data",
          "data": {
            "text/plain": [
              "<IPython.core.display.HTML object>"
            ],
            "text/html": [
              "\n",
              "     <input type=\"file\" id=\"files-db1bfc49-9fb5-4b18-a5a5-6651e110303e\" name=\"files[]\" multiple disabled\n",
              "        style=\"border:none\" />\n",
              "     <output id=\"result-db1bfc49-9fb5-4b18-a5a5-6651e110303e\">\n",
              "      Upload widget is only available when the cell has been executed in the\n",
              "      current browser session. Please rerun this cell to enable.\n",
              "      </output>\n",
              "      <script>// Copyright 2017 Google LLC\n",
              "//\n",
              "// Licensed under the Apache License, Version 2.0 (the \"License\");\n",
              "// you may not use this file except in compliance with the License.\n",
              "// You may obtain a copy of the License at\n",
              "//\n",
              "//      http://www.apache.org/licenses/LICENSE-2.0\n",
              "//\n",
              "// Unless required by applicable law or agreed to in writing, software\n",
              "// distributed under the License is distributed on an \"AS IS\" BASIS,\n",
              "// WITHOUT WARRANTIES OR CONDITIONS OF ANY KIND, either express or implied.\n",
              "// See the License for the specific language governing permissions and\n",
              "// limitations under the License.\n",
              "\n",
              "/**\n",
              " * @fileoverview Helpers for google.colab Python module.\n",
              " */\n",
              "(function(scope) {\n",
              "function span(text, styleAttributes = {}) {\n",
              "  const element = document.createElement('span');\n",
              "  element.textContent = text;\n",
              "  for (const key of Object.keys(styleAttributes)) {\n",
              "    element.style[key] = styleAttributes[key];\n",
              "  }\n",
              "  return element;\n",
              "}\n",
              "\n",
              "// Max number of bytes which will be uploaded at a time.\n",
              "const MAX_PAYLOAD_SIZE = 100 * 1024;\n",
              "\n",
              "function _uploadFiles(inputId, outputId) {\n",
              "  const steps = uploadFilesStep(inputId, outputId);\n",
              "  const outputElement = document.getElementById(outputId);\n",
              "  // Cache steps on the outputElement to make it available for the next call\n",
              "  // to uploadFilesContinue from Python.\n",
              "  outputElement.steps = steps;\n",
              "\n",
              "  return _uploadFilesContinue(outputId);\n",
              "}\n",
              "\n",
              "// This is roughly an async generator (not supported in the browser yet),\n",
              "// where there are multiple asynchronous steps and the Python side is going\n",
              "// to poll for completion of each step.\n",
              "// This uses a Promise to block the python side on completion of each step,\n",
              "// then passes the result of the previous step as the input to the next step.\n",
              "function _uploadFilesContinue(outputId) {\n",
              "  const outputElement = document.getElementById(outputId);\n",
              "  const steps = outputElement.steps;\n",
              "\n",
              "  const next = steps.next(outputElement.lastPromiseValue);\n",
              "  return Promise.resolve(next.value.promise).then((value) => {\n",
              "    // Cache the last promise value to make it available to the next\n",
              "    // step of the generator.\n",
              "    outputElement.lastPromiseValue = value;\n",
              "    return next.value.response;\n",
              "  });\n",
              "}\n",
              "\n",
              "/**\n",
              " * Generator function which is called between each async step of the upload\n",
              " * process.\n",
              " * @param {string} inputId Element ID of the input file picker element.\n",
              " * @param {string} outputId Element ID of the output display.\n",
              " * @return {!Iterable<!Object>} Iterable of next steps.\n",
              " */\n",
              "function* uploadFilesStep(inputId, outputId) {\n",
              "  const inputElement = document.getElementById(inputId);\n",
              "  inputElement.disabled = false;\n",
              "\n",
              "  const outputElement = document.getElementById(outputId);\n",
              "  outputElement.innerHTML = '';\n",
              "\n",
              "  const pickedPromise = new Promise((resolve) => {\n",
              "    inputElement.addEventListener('change', (e) => {\n",
              "      resolve(e.target.files);\n",
              "    });\n",
              "  });\n",
              "\n",
              "  const cancel = document.createElement('button');\n",
              "  inputElement.parentElement.appendChild(cancel);\n",
              "  cancel.textContent = 'Cancel upload';\n",
              "  const cancelPromise = new Promise((resolve) => {\n",
              "    cancel.onclick = () => {\n",
              "      resolve(null);\n",
              "    };\n",
              "  });\n",
              "\n",
              "  // Wait for the user to pick the files.\n",
              "  const files = yield {\n",
              "    promise: Promise.race([pickedPromise, cancelPromise]),\n",
              "    response: {\n",
              "      action: 'starting',\n",
              "    }\n",
              "  };\n",
              "\n",
              "  cancel.remove();\n",
              "\n",
              "  // Disable the input element since further picks are not allowed.\n",
              "  inputElement.disabled = true;\n",
              "\n",
              "  if (!files) {\n",
              "    return {\n",
              "      response: {\n",
              "        action: 'complete',\n",
              "      }\n",
              "    };\n",
              "  }\n",
              "\n",
              "  for (const file of files) {\n",
              "    const li = document.createElement('li');\n",
              "    li.append(span(file.name, {fontWeight: 'bold'}));\n",
              "    li.append(span(\n",
              "        `(${file.type || 'n/a'}) - ${file.size} bytes, ` +\n",
              "        `last modified: ${\n",
              "            file.lastModifiedDate ? file.lastModifiedDate.toLocaleDateString() :\n",
              "                                    'n/a'} - `));\n",
              "    const percent = span('0% done');\n",
              "    li.appendChild(percent);\n",
              "\n",
              "    outputElement.appendChild(li);\n",
              "\n",
              "    const fileDataPromise = new Promise((resolve) => {\n",
              "      const reader = new FileReader();\n",
              "      reader.onload = (e) => {\n",
              "        resolve(e.target.result);\n",
              "      };\n",
              "      reader.readAsArrayBuffer(file);\n",
              "    });\n",
              "    // Wait for the data to be ready.\n",
              "    let fileData = yield {\n",
              "      promise: fileDataPromise,\n",
              "      response: {\n",
              "        action: 'continue',\n",
              "      }\n",
              "    };\n",
              "\n",
              "    // Use a chunked sending to avoid message size limits. See b/62115660.\n",
              "    let position = 0;\n",
              "    do {\n",
              "      const length = Math.min(fileData.byteLength - position, MAX_PAYLOAD_SIZE);\n",
              "      const chunk = new Uint8Array(fileData, position, length);\n",
              "      position += length;\n",
              "\n",
              "      const base64 = btoa(String.fromCharCode.apply(null, chunk));\n",
              "      yield {\n",
              "        response: {\n",
              "          action: 'append',\n",
              "          file: file.name,\n",
              "          data: base64,\n",
              "        },\n",
              "      };\n",
              "\n",
              "      let percentDone = fileData.byteLength === 0 ?\n",
              "          100 :\n",
              "          Math.round((position / fileData.byteLength) * 100);\n",
              "      percent.textContent = `${percentDone}% done`;\n",
              "\n",
              "    } while (position < fileData.byteLength);\n",
              "  }\n",
              "\n",
              "  // All done.\n",
              "  yield {\n",
              "    response: {\n",
              "      action: 'complete',\n",
              "    }\n",
              "  };\n",
              "}\n",
              "\n",
              "scope.google = scope.google || {};\n",
              "scope.google.colab = scope.google.colab || {};\n",
              "scope.google.colab._files = {\n",
              "  _uploadFiles,\n",
              "  _uploadFilesContinue,\n",
              "};\n",
              "})(self);\n",
              "</script> "
            ]
          },
          "metadata": {}
        },
        {
          "output_type": "stream",
          "name": "stdout",
          "text": [
            "Saving SpamData.zip to SpamData.zip\n"
          ]
        }
      ]
    },
    {
      "cell_type": "code",
      "source": [
        "zip_file = 'SpamData.zip'\n",
        "unzip_dir = '/content/DataExtracted'\n",
        "\n",
        "with zipfile.ZipFile(zip_file, 'r') as zip_ref:\n",
        "    zip_ref.extractall(unzip_dir)\n"
      ],
      "metadata": {
        "id": "hHSVBhNN_WsC"
      },
      "execution_count": 5,
      "outputs": []
    },
    {
      "cell_type": "code",
      "source": [
        "import os\n",
        "current_directory = os.getcwd()\n",
        "print(\"Current working directory:\", current_directory)"
      ],
      "metadata": {
        "id": "gX0X2_qFtM4m"
      },
      "execution_count": null,
      "outputs": []
    },
    {
      "cell_type": "markdown",
      "source": [
        "**Constants**"
      ],
      "metadata": {
        "id": "1wdUCEQptR4d"
      }
    },
    {
      "cell_type": "code",
      "source": [
        "EXAMPLE_FILE = 'DataExtracted/SpamData/01_Processing/practice_email.txt'\n",
        "\n",
        "SPAM_1_PATH = 'DataExtracted/SpamData/01_Processing/spam_assassin_corpus/spam_1'\n",
        "SPAM_2_PATH = 'DataExtracted/SpamData/01_Processing/spam_assassin_corpus/spam_2'\n",
        "EASY_NONSPAM_1_PATH = 'DataExtracted/SpamData/01_Processing/spam_assassin_corpus/easy_ham_1'\n",
        "EASY_NONSPAM_2_PATH = 'DataExtracted/SpamData/01_Processing/spam_assassin_corpus/easy_ham_2'\n",
        "\n",
        "SPAM_CAT = 1\n",
        "HAM_CAT = 0\n",
        "VOCAB_SIZE = 2500\n",
        "\n",
        "DATA_JSON_FILE = 'DataExtracted/SpamData/01_Processing/email-text-data.json'\n",
        "WORD_ID_FILE = 'DataExtracted/SpamData/01_Processing/word-by-id.csv'\n"
      ],
      "metadata": {
        "id": "1j-cVjMCtSNI"
      },
      "execution_count": 98,
      "outputs": []
    },
    {
      "cell_type": "code",
      "source": [
        "stream = open(EXAMPLE_FILE, encoding='utf-8')\n",
        "message = stream.read()\n",
        "stream.close()\n",
        "\n",
        "print(message)"
      ],
      "metadata": {
        "colab": {
          "base_uri": "https://localhost:8080/"
        },
        "id": "cRmM2ehw9su2",
        "outputId": "7599b000-bd32-40f3-9608-e7c48885a8c5"
      },
      "execution_count": 7,
      "outputs": [
        {
          "output_type": "stream",
          "name": "stdout",
          "text": [
            "From exmh-workers-admin@redhat.com  Thu Aug 22 12:36:23 2002\n",
            "Return-Path: <exmh-workers-admin@spamassassin.taint.org>\n",
            "Delivered-To: zzzz@localhost.netnoteinc.com\n",
            "Received: from localhost (localhost [127.0.0.1])\n",
            "\tby phobos.labs.netnoteinc.com (Postfix) with ESMTP id D03E543C36\n",
            "\tfor <zzzz@localhost>; Thu, 22 Aug 2002 07:36:16 -0400 (EDT)\n",
            "Received: from phobos [127.0.0.1]\n",
            "\tby localhost with IMAP (fetchmail-5.9.0)\n",
            "\tfor zzzz@localhost (single-drop); Thu, 22 Aug 2002 12:36:16 +0100 (IST)\n",
            "Received: from listman.spamassassin.taint.org (listman.spamassassin.taint.org [66.187.233.211]) by\n",
            "    dogma.slashnull.org (8.11.6/8.11.6) with ESMTP id g7MBYrZ04811 for\n",
            "    <zzzz-exmh@spamassassin.taint.org>; Thu, 22 Aug 2002 12:34:53 +0100\n",
            "Received: from listman.spamassassin.taint.org (localhost.localdomain [127.0.0.1]) by\n",
            "    listman.redhat.com (Postfix) with ESMTP id 8386540858; Thu, 22 Aug 2002\n",
            "    07:35:02 -0400 (EDT)\n",
            "Delivered-To: exmh-workers@listman.spamassassin.taint.org\n",
            "Received: from int-mx1.corp.spamassassin.taint.org (int-mx1.corp.spamassassin.taint.org\n",
            "    [172.16.52.254]) by listman.redhat.com (Postfix) with ESMTP id 10CF8406D7\n",
            "    for <exmh-workers@listman.redhat.com>; Thu, 22 Aug 2002 07:34:10 -0400\n",
            "    (EDT)\n",
            "Received: (from mail@localhost) by int-mx1.corp.spamassassin.taint.org (8.11.6/8.11.6)\n",
            "    id g7MBY7g11259 for exmh-workers@listman.redhat.com; Thu, 22 Aug 2002\n",
            "    07:34:07 -0400\n",
            "Received: from mx1.spamassassin.taint.org (mx1.spamassassin.taint.org [172.16.48.31]) by\n",
            "    int-mx1.corp.redhat.com (8.11.6/8.11.6) with SMTP id g7MBY7Y11255 for\n",
            "    <exmh-workers@redhat.com>; Thu, 22 Aug 2002 07:34:07 -0400\n",
            "Received: from ratree.psu.ac.th ([202.28.97.6]) by mx1.spamassassin.taint.org\n",
            "    (8.11.6/8.11.6) with SMTP id g7MBIhl25223 for <exmh-workers@redhat.com>;\n",
            "    Thu, 22 Aug 2002 07:18:55 -0400\n",
            "Received: from delta.cs.mu.OZ.AU (delta.coe.psu.ac.th [172.30.0.98]) by\n",
            "    ratree.psu.ac.th (8.11.6/8.11.6) with ESMTP id g7MBWel29762;\n",
            "    Thu, 22 Aug 2002 18:32:40 +0700 (ICT)\n",
            "Received: from munnari.OZ.AU (localhost [127.0.0.1]) by delta.cs.mu.OZ.AU\n",
            "    (8.11.6/8.11.6) with ESMTP id g7MBQPW13260; Thu, 22 Aug 2002 18:26:25\n",
            "    +0700 (ICT)\n",
            "From: Robert Elz <kre@munnari.OZ.AU>\n",
            "To: Chris Garrigues <cwg-dated-1030377287.06fa6d@DeepEddy.Com>\n",
            "Cc: exmh-workers@spamassassin.taint.org\n",
            "Subject: Re: New Sequences Window\n",
            "In-Reply-To: <1029945287.4797.TMDA@deepeddy.vircio.com>\n",
            "References: <1029945287.4797.TMDA@deepeddy.vircio.com>\n",
            "    <1029882468.3116.TMDA@deepeddy.vircio.com> <9627.1029933001@munnari.OZ.AU>\n",
            "    <1029943066.26919.TMDA@deepeddy.vircio.com>\n",
            "    <1029944441.398.TMDA@deepeddy.vircio.com>\n",
            "MIME-Version: 1.0\n",
            "Content-Type: text/plain; charset=us-ascii\n",
            "Message-Id: <13258.1030015585@munnari.OZ.AU>\n",
            "X-Loop: exmh-workers@spamassassin.taint.org\n",
            "Sender: exmh-workers-admin@spamassassin.taint.org\n",
            "Errors-To: exmh-workers-admin@spamassassin.taint.org\n",
            "X-Beenthere: exmh-workers@spamassassin.taint.org\n",
            "X-Mailman-Version: 2.0.1\n",
            "Precedence: bulk\n",
            "List-Help: <mailto:exmh-workers-request@spamassassin.taint.org?subject=help>\n",
            "List-Post: <mailto:exmh-workers@spamassassin.taint.org>\n",
            "List-Subscribe: <https://listman.spamassassin.taint.org/mailman/listinfo/exmh-workers>,\n",
            "    <mailto:exmh-workers-request@redhat.com?subject=subscribe>\n",
            "List-Id: Discussion list for EXMH developers <exmh-workers.spamassassin.taint.org>\n",
            "List-Unsubscribe: <https://listman.spamassassin.taint.org/mailman/listinfo/exmh-workers>,\n",
            "    <mailto:exmh-workers-request@redhat.com?subject=unsubscribe>\n",
            "List-Archive: <https://listman.spamassassin.taint.org/mailman/private/exmh-workers/>\n",
            "Date: Thu, 22 Aug 2002 18:26:25 +0700\n",
            "\n",
            "\n",
            "Dear Mr Still\n",
            "\n",
            "Good tidings to you and all your staff for the festive season ahead (Christmas).\n",
            "Now to the crux of the matter-in-hand: I am a fully qualified Santa Claus and am wondering whether you might consider me to run my own \"Santa's Grotto\" in your store.\n",
            "But WAIT! You're probably thinking: \"What makes him so special?\"\n",
            "Well, first of all, I have made several changes to the characterisation of Father Christmas. Rather than greeting the children with shouts of \"Ho, ho, ho!\" I prefer to whisper the phrase \"Dependence is not unfathomable in this cruel world we live in\". In addition, my gifts are ALL hand-made, ranging from felt hoops to vanilla-pod holders.\n",
            "You will note also, from the enclosed sketch, that I have radically redesigned Santa's outfit and have renamed my character \"Lord Buckles\". Would you be interested in employing me? I promise NEVER to let you down.\n",
            "I look forward to hearing from you.\n",
            "\n",
            "Best wishes\n",
            "Robin Cooper\n",
            "[Excerpt from the book: The Timewaster Letters by Robin Cooper]\n",
            "\n"
          ]
        }
      ]
    },
    {
      "cell_type": "code",
      "source": [
        "stream = open(EXAMPLE_FILE, encoding='utf-8')\n",
        "is_body = False\n",
        "lines = []\n",
        "\n",
        "for line in stream:\n",
        "  if is_body:\n",
        "    lines.append(line)\n",
        "  elif line == '\\n':\n",
        "    is_body = True\n",
        "\n",
        "stream.close()\n",
        "email_body = '\\n'.join(lines)\n",
        "\n",
        "print(email_body)"
      ],
      "metadata": {
        "colab": {
          "base_uri": "https://localhost:8080/"
        },
        "id": "IcySOelM9YWh",
        "outputId": "f0ea9d3b-8ae3-4cbe-d7e0-e0b4e0b32e5d"
      },
      "execution_count": 8,
      "outputs": [
        {
          "output_type": "stream",
          "name": "stdout",
          "text": [
            "\n",
            "\n",
            "Dear Mr Still\n",
            "\n",
            "\n",
            "\n",
            "Good tidings to you and all your staff for the festive season ahead (Christmas).\n",
            "\n",
            "Now to the crux of the matter-in-hand: I am a fully qualified Santa Claus and am wondering whether you might consider me to run my own \"Santa's Grotto\" in your store.\n",
            "\n",
            "But WAIT! You're probably thinking: \"What makes him so special?\"\n",
            "\n",
            "Well, first of all, I have made several changes to the characterisation of Father Christmas. Rather than greeting the children with shouts of \"Ho, ho, ho!\" I prefer to whisper the phrase \"Dependence is not unfathomable in this cruel world we live in\". In addition, my gifts are ALL hand-made, ranging from felt hoops to vanilla-pod holders.\n",
            "\n",
            "You will note also, from the enclosed sketch, that I have radically redesigned Santa's outfit and have renamed my character \"Lord Buckles\". Would you be interested in employing me? I promise NEVER to let you down.\n",
            "\n",
            "I look forward to hearing from you.\n",
            "\n",
            "\n",
            "\n",
            "Best wishes\n",
            "\n",
            "Robin Cooper\n",
            "\n",
            "[Excerpt from the book: The Timewaster Letters by Robin Cooper]\n",
            "\n"
          ]
        }
      ]
    },
    {
      "cell_type": "markdown",
      "source": [
        "**Generator Functions**"
      ],
      "metadata": {
        "id": "3jyPKGG-tqFU"
      }
    },
    {
      "cell_type": "code",
      "source": [
        "def generate_squares(N):\n",
        "  for my_number in range(N):\n",
        "    yield my_number ** 2"
      ],
      "metadata": {
        "id": "vNmL2jo9trtD"
      },
      "execution_count": 9,
      "outputs": []
    },
    {
      "cell_type": "code",
      "source": [
        "for i in generate_squares(5):\n",
        "  print(i, end=' ->')"
      ],
      "metadata": {
        "id": "yepdcfVYtwgw",
        "colab": {
          "base_uri": "https://localhost:8080/"
        },
        "outputId": "049cbd91-1f93-4166-bfd1-2580ec78f65e"
      },
      "execution_count": 10,
      "outputs": [
        {
          "output_type": "stream",
          "name": "stdout",
          "text": [
            "0 ->1 ->4 ->9 ->16 ->"
          ]
        }
      ]
    },
    {
      "cell_type": "markdown",
      "source": [
        "**Email body extraction**"
      ],
      "metadata": {
        "id": "Hbx-9eFat0W_"
      }
    },
    {
      "cell_type": "code",
      "source": [
        "def email_body_generator(path):\n",
        "\n",
        "  for root, dirnames, filenames in walk(path):\n",
        "    for file_name in filenames:\n",
        "\n",
        "      filepath = join(root, file_name)\n",
        "      stream = open(filepath, encoding='latin-1')\n",
        "      is_body = False\n",
        "      lines = []\n",
        "\n",
        "      for line in stream:\n",
        "        if is_body:\n",
        "          lines.append(line)\n",
        "        elif line == '\\n':\n",
        "          is_body = True\n",
        "\n",
        "      stream.close()\n",
        "      email_body = '\\n'.join(lines)\n",
        "\n",
        "      yield file_name, email_body"
      ],
      "metadata": {
        "id": "FzjJaMKJtx2j"
      },
      "execution_count": 11,
      "outputs": []
    },
    {
      "cell_type": "code",
      "source": [
        "def df_from_directory(path,classification):\n",
        "  rows = []\n",
        "  row_names = []\n",
        "\n",
        "  for file_name, email_body in email_body_generator(path):\n",
        "    rows.append({'MESSAGE': email_body, 'CATEGORY': classification})\n",
        "    row_names.append(file_name)\n",
        "\n",
        "\n",
        "  return pd.DataFrame(rows, index=row_names)"
      ],
      "metadata": {
        "id": "c2nHgd-Mt4lB"
      },
      "execution_count": 14,
      "outputs": []
    },
    {
      "cell_type": "code",
      "source": [
        "spam_emails = df_from_directory(SPAM_1_PATH, 1)\n",
        "spam_emails = pd.concat([spam_emails, df_from_directory(SPAM_2_PATH, 1)])\n",
        "spam_emails.head()"
      ],
      "metadata": {
        "id": "2Cp7svCLu-3f",
        "colab": {
          "base_uri": "https://localhost:8080/",
          "height": 206
        },
        "outputId": "cc2bfce9-3710-4a41-c995-9c4e9b4605a7"
      },
      "execution_count": 15,
      "outputs": [
        {
          "output_type": "execute_result",
          "data": {
            "text/plain": [
              "                                                                                  MESSAGE  \\\n",
              "00465.ca5d79d0e5dadee322c117789196ebb4  Mr.Vincent Nnaji,\\n\\n Standard Trust Bank Ltd,...   \n",
              "00441.77768298934252b2fa200e7d9482993b  <html>\\n\\n<body>\\n\\n<p align=\"center\"><a href=...   \n",
              "00173.e10eb62e2c7808674c43d6a5e9e08a1c  <html>\\n\\n<body bgColor=\"#CCCCCC\" topmargin=1 ...   \n",
              "00445.94d3ccfafc541255ff46625091d333e4  Hi -\\n\\n\\n\\n( http://club.4tfox.com )\\n\\n\\n\\nY...   \n",
              "00330.c5f7346dec1e6fe6ed324d8e78a2b46e  This is a Multipart MIME message. Since your m...   \n",
              "\n",
              "                                        CATEGORY  \n",
              "00465.ca5d79d0e5dadee322c117789196ebb4         1  \n",
              "00441.77768298934252b2fa200e7d9482993b         1  \n",
              "00173.e10eb62e2c7808674c43d6a5e9e08a1c         1  \n",
              "00445.94d3ccfafc541255ff46625091d333e4         1  \n",
              "00330.c5f7346dec1e6fe6ed324d8e78a2b46e         1  "
            ],
            "text/html": [
              "\n",
              "  <div id=\"df-1ba93162-1924-4598-974b-8aaef7e0e136\" class=\"colab-df-container\">\n",
              "    <div>\n",
              "<style scoped>\n",
              "    .dataframe tbody tr th:only-of-type {\n",
              "        vertical-align: middle;\n",
              "    }\n",
              "\n",
              "    .dataframe tbody tr th {\n",
              "        vertical-align: top;\n",
              "    }\n",
              "\n",
              "    .dataframe thead th {\n",
              "        text-align: right;\n",
              "    }\n",
              "</style>\n",
              "<table border=\"1\" class=\"dataframe\">\n",
              "  <thead>\n",
              "    <tr style=\"text-align: right;\">\n",
              "      <th></th>\n",
              "      <th>MESSAGE</th>\n",
              "      <th>CATEGORY</th>\n",
              "    </tr>\n",
              "  </thead>\n",
              "  <tbody>\n",
              "    <tr>\n",
              "      <th>00465.ca5d79d0e5dadee322c117789196ebb4</th>\n",
              "      <td>Mr.Vincent Nnaji,\\n\\n Standard Trust Bank Ltd,...</td>\n",
              "      <td>1</td>\n",
              "    </tr>\n",
              "    <tr>\n",
              "      <th>00441.77768298934252b2fa200e7d9482993b</th>\n",
              "      <td>&lt;html&gt;\\n\\n&lt;body&gt;\\n\\n&lt;p align=\"center\"&gt;&lt;a href=...</td>\n",
              "      <td>1</td>\n",
              "    </tr>\n",
              "    <tr>\n",
              "      <th>00173.e10eb62e2c7808674c43d6a5e9e08a1c</th>\n",
              "      <td>&lt;html&gt;\\n\\n&lt;body bgColor=\"#CCCCCC\" topmargin=1 ...</td>\n",
              "      <td>1</td>\n",
              "    </tr>\n",
              "    <tr>\n",
              "      <th>00445.94d3ccfafc541255ff46625091d333e4</th>\n",
              "      <td>Hi -\\n\\n\\n\\n( http://club.4tfox.com )\\n\\n\\n\\nY...</td>\n",
              "      <td>1</td>\n",
              "    </tr>\n",
              "    <tr>\n",
              "      <th>00330.c5f7346dec1e6fe6ed324d8e78a2b46e</th>\n",
              "      <td>This is a Multipart MIME message. Since your m...</td>\n",
              "      <td>1</td>\n",
              "    </tr>\n",
              "  </tbody>\n",
              "</table>\n",
              "</div>\n",
              "    <div class=\"colab-df-buttons\">\n",
              "\n",
              "  <div class=\"colab-df-container\">\n",
              "    <button class=\"colab-df-convert\" onclick=\"convertToInteractive('df-1ba93162-1924-4598-974b-8aaef7e0e136')\"\n",
              "            title=\"Convert this dataframe to an interactive table.\"\n",
              "            style=\"display:none;\">\n",
              "\n",
              "  <svg xmlns=\"http://www.w3.org/2000/svg\" height=\"24px\" viewBox=\"0 -960 960 960\">\n",
              "    <path d=\"M120-120v-720h720v720H120Zm60-500h600v-160H180v160Zm220 220h160v-160H400v160Zm0 220h160v-160H400v160ZM180-400h160v-160H180v160Zm440 0h160v-160H620v160ZM180-180h160v-160H180v160Zm440 0h160v-160H620v160Z\"/>\n",
              "  </svg>\n",
              "    </button>\n",
              "\n",
              "  <style>\n",
              "    .colab-df-container {\n",
              "      display:flex;\n",
              "      gap: 12px;\n",
              "    }\n",
              "\n",
              "    .colab-df-convert {\n",
              "      background-color: #E8F0FE;\n",
              "      border: none;\n",
              "      border-radius: 50%;\n",
              "      cursor: pointer;\n",
              "      display: none;\n",
              "      fill: #1967D2;\n",
              "      height: 32px;\n",
              "      padding: 0 0 0 0;\n",
              "      width: 32px;\n",
              "    }\n",
              "\n",
              "    .colab-df-convert:hover {\n",
              "      background-color: #E2EBFA;\n",
              "      box-shadow: 0px 1px 2px rgba(60, 64, 67, 0.3), 0px 1px 3px 1px rgba(60, 64, 67, 0.15);\n",
              "      fill: #174EA6;\n",
              "    }\n",
              "\n",
              "    .colab-df-buttons div {\n",
              "      margin-bottom: 4px;\n",
              "    }\n",
              "\n",
              "    [theme=dark] .colab-df-convert {\n",
              "      background-color: #3B4455;\n",
              "      fill: #D2E3FC;\n",
              "    }\n",
              "\n",
              "    [theme=dark] .colab-df-convert:hover {\n",
              "      background-color: #434B5C;\n",
              "      box-shadow: 0px 1px 3px 1px rgba(0, 0, 0, 0.15);\n",
              "      filter: drop-shadow(0px 1px 2px rgba(0, 0, 0, 0.3));\n",
              "      fill: #FFFFFF;\n",
              "    }\n",
              "  </style>\n",
              "\n",
              "    <script>\n",
              "      const buttonEl =\n",
              "        document.querySelector('#df-1ba93162-1924-4598-974b-8aaef7e0e136 button.colab-df-convert');\n",
              "      buttonEl.style.display =\n",
              "        google.colab.kernel.accessAllowed ? 'block' : 'none';\n",
              "\n",
              "      async function convertToInteractive(key) {\n",
              "        const element = document.querySelector('#df-1ba93162-1924-4598-974b-8aaef7e0e136');\n",
              "        const dataTable =\n",
              "          await google.colab.kernel.invokeFunction('convertToInteractive',\n",
              "                                                    [key], {});\n",
              "        if (!dataTable) return;\n",
              "\n",
              "        const docLinkHtml = 'Like what you see? Visit the ' +\n",
              "          '<a target=\"_blank\" href=https://colab.research.google.com/notebooks/data_table.ipynb>data table notebook</a>'\n",
              "          + ' to learn more about interactive tables.';\n",
              "        element.innerHTML = '';\n",
              "        dataTable['output_type'] = 'display_data';\n",
              "        await google.colab.output.renderOutput(dataTable, element);\n",
              "        const docLink = document.createElement('div');\n",
              "        docLink.innerHTML = docLinkHtml;\n",
              "        element.appendChild(docLink);\n",
              "      }\n",
              "    </script>\n",
              "  </div>\n",
              "\n",
              "\n",
              "<div id=\"df-ed92f05c-e9e2-4cfa-be8b-0ce273141d36\">\n",
              "  <button class=\"colab-df-quickchart\" onclick=\"quickchart('df-ed92f05c-e9e2-4cfa-be8b-0ce273141d36')\"\n",
              "            title=\"Suggest charts\"\n",
              "            style=\"display:none;\">\n",
              "\n",
              "<svg xmlns=\"http://www.w3.org/2000/svg\" height=\"24px\"viewBox=\"0 0 24 24\"\n",
              "     width=\"24px\">\n",
              "    <g>\n",
              "        <path d=\"M19 3H5c-1.1 0-2 .9-2 2v14c0 1.1.9 2 2 2h14c1.1 0 2-.9 2-2V5c0-1.1-.9-2-2-2zM9 17H7v-7h2v7zm4 0h-2V7h2v10zm4 0h-2v-4h2v4z\"/>\n",
              "    </g>\n",
              "</svg>\n",
              "  </button>\n",
              "\n",
              "<style>\n",
              "  .colab-df-quickchart {\n",
              "      --bg-color: #E8F0FE;\n",
              "      --fill-color: #1967D2;\n",
              "      --hover-bg-color: #E2EBFA;\n",
              "      --hover-fill-color: #174EA6;\n",
              "      --disabled-fill-color: #AAA;\n",
              "      --disabled-bg-color: #DDD;\n",
              "  }\n",
              "\n",
              "  [theme=dark] .colab-df-quickchart {\n",
              "      --bg-color: #3B4455;\n",
              "      --fill-color: #D2E3FC;\n",
              "      --hover-bg-color: #434B5C;\n",
              "      --hover-fill-color: #FFFFFF;\n",
              "      --disabled-bg-color: #3B4455;\n",
              "      --disabled-fill-color: #666;\n",
              "  }\n",
              "\n",
              "  .colab-df-quickchart {\n",
              "    background-color: var(--bg-color);\n",
              "    border: none;\n",
              "    border-radius: 50%;\n",
              "    cursor: pointer;\n",
              "    display: none;\n",
              "    fill: var(--fill-color);\n",
              "    height: 32px;\n",
              "    padding: 0;\n",
              "    width: 32px;\n",
              "  }\n",
              "\n",
              "  .colab-df-quickchart:hover {\n",
              "    background-color: var(--hover-bg-color);\n",
              "    box-shadow: 0 1px 2px rgba(60, 64, 67, 0.3), 0 1px 3px 1px rgba(60, 64, 67, 0.15);\n",
              "    fill: var(--button-hover-fill-color);\n",
              "  }\n",
              "\n",
              "  .colab-df-quickchart-complete:disabled,\n",
              "  .colab-df-quickchart-complete:disabled:hover {\n",
              "    background-color: var(--disabled-bg-color);\n",
              "    fill: var(--disabled-fill-color);\n",
              "    box-shadow: none;\n",
              "  }\n",
              "\n",
              "  .colab-df-spinner {\n",
              "    border: 2px solid var(--fill-color);\n",
              "    border-color: transparent;\n",
              "    border-bottom-color: var(--fill-color);\n",
              "    animation:\n",
              "      spin 1s steps(1) infinite;\n",
              "  }\n",
              "\n",
              "  @keyframes spin {\n",
              "    0% {\n",
              "      border-color: transparent;\n",
              "      border-bottom-color: var(--fill-color);\n",
              "      border-left-color: var(--fill-color);\n",
              "    }\n",
              "    20% {\n",
              "      border-color: transparent;\n",
              "      border-left-color: var(--fill-color);\n",
              "      border-top-color: var(--fill-color);\n",
              "    }\n",
              "    30% {\n",
              "      border-color: transparent;\n",
              "      border-left-color: var(--fill-color);\n",
              "      border-top-color: var(--fill-color);\n",
              "      border-right-color: var(--fill-color);\n",
              "    }\n",
              "    40% {\n",
              "      border-color: transparent;\n",
              "      border-right-color: var(--fill-color);\n",
              "      border-top-color: var(--fill-color);\n",
              "    }\n",
              "    60% {\n",
              "      border-color: transparent;\n",
              "      border-right-color: var(--fill-color);\n",
              "    }\n",
              "    80% {\n",
              "      border-color: transparent;\n",
              "      border-right-color: var(--fill-color);\n",
              "      border-bottom-color: var(--fill-color);\n",
              "    }\n",
              "    90% {\n",
              "      border-color: transparent;\n",
              "      border-bottom-color: var(--fill-color);\n",
              "    }\n",
              "  }\n",
              "</style>\n",
              "\n",
              "  <script>\n",
              "    async function quickchart(key) {\n",
              "      const quickchartButtonEl =\n",
              "        document.querySelector('#' + key + ' button');\n",
              "      quickchartButtonEl.disabled = true;  // To prevent multiple clicks.\n",
              "      quickchartButtonEl.classList.add('colab-df-spinner');\n",
              "      try {\n",
              "        const charts = await google.colab.kernel.invokeFunction(\n",
              "            'suggestCharts', [key], {});\n",
              "      } catch (error) {\n",
              "        console.error('Error during call to suggestCharts:', error);\n",
              "      }\n",
              "      quickchartButtonEl.classList.remove('colab-df-spinner');\n",
              "      quickchartButtonEl.classList.add('colab-df-quickchart-complete');\n",
              "    }\n",
              "    (() => {\n",
              "      let quickchartButtonEl =\n",
              "        document.querySelector('#df-ed92f05c-e9e2-4cfa-be8b-0ce273141d36 button');\n",
              "      quickchartButtonEl.style.display =\n",
              "        google.colab.kernel.accessAllowed ? 'block' : 'none';\n",
              "    })();\n",
              "  </script>\n",
              "</div>\n",
              "\n",
              "    </div>\n",
              "  </div>\n"
            ],
            "application/vnd.google.colaboratory.intrinsic+json": {
              "type": "dataframe",
              "variable_name": "spam_emails",
              "summary": "{\n  \"name\": \"spam_emails\",\n  \"rows\": 1898,\n  \"fields\": [\n    {\n      \"column\": \"MESSAGE\",\n      \"properties\": {\n        \"dtype\": \"string\",\n        \"num_unique_values\": 1764,\n        \"samples\": [\n          \"\\n\\n\\n\\n\\n\\n\\n\\n\\n\\nDoes Your Business Need to Accept Credit Cards Today?\\n\\n\\n\\nAre Your Merchant Fees Too Expensive?\\n\\n\\n\\n99% APPROVAL\\n\\n\\n\\nSign Up NOW and Get a FREE Shopping Cart!\\n\\n\\n\\nStart Your e-Commerce Store Today!\\n\\n\\n\\n   \\u00b7Merchant Account\\n\\n   \\u00b7Free Shopping Cart\\n\\n   \\u00b7Website Design\\n\\n   \\u00b7Website Hosting\\n\\n   \\u00b7Domain Name Registration\\n\\n\\n\\nAccept Visa, MasterCard, Discover/Novus and American Express\\n\\n\\n\\nNO APPLICATION FEES\\n\\n\\n\\nReply NOW for a FREE, No-Obligation Quote!\\n\\n\\n\\nName:\\n\\nPhone:\\n\\nWebsite Address:\\n\\nType Of Business:\\n\\nTime to Call:\\n\\nComments:\\n\\n\\n\\n\\n\\n\\n\\n\\n\\n\\n\\n\\n\\n\\n\\nTo be removed from future offers please reply\\n\\nwith the word \\\"remove\\\" in the subject line.\\n\\n\\n\\n\\n\\n\\n\\n\\n\\n\\n\\n\\n\\n\\n\\n\\n\\n\\n\\n\\n\\n\\n\\n\\n\\n\\n\\n\\n\\n\\n\\n\\n\\n\\n\\n\\n\\n\\n\\n\\n\\n\\n\\n\\n\\n\\n\\n\\n\\n\\n\\n\\n\\n\\n\\n\\n\",\n          \"------=_NextPart_000_00A6_30E15B3E.B5031C68\\n\\nContent-Type: text/html; charset=\\\"iso-8859-1\\\"\\n\\nContent-Transfer-Encoding: base64\\n\\n\\n\\n\\n\\nPCFET0NUWVBFIEhUTUwgUFVCTElDICItLy9XM0MvL0RURCBIVE1MIDMuMi8v\\n\\nRU4iPg0KPEhUTUw+DQoNCjxIRUFEPg0KCTxNRVRBIE5BTUU9IkdFTkVSQVRP\\n\\nUiIgQ29udGVudD0iVmlzdWFsIFBhZ2UgMS4wIGZvciBXaW5kb3dzIj4NCgk8\\n\\nTUVUQSBIVFRQLUVRVUlWPSJDb250ZW50LVR5cGUiIENPTlRFTlQ9InRleHQv\\n\\naHRtbDtDSEFSU0VUPWlzby04ODU5LTEiPg0KCTxUSVRMRT51bnRpdGxlZDwv\\n\\nVElUTEU+DQo8L0hFQUQ+DQoNCjxCT0RZIG9uTG9hZD0iKHdpbmRvdy5vcGVu\\n\\nKCdodHRwOi8vZXVyby5zcGVjaWFsZGlzY291bnRzNHUuY29tLycpKSI+DQoN\\n\\nCjxQIEFMSUdOPSJDRU5URVIiPjxGT05UIENPTE9SPSIjMDAwMEZGIiBmYWNl\\n\\nPSJBcmlhbCI+PEI+QVRURU5USU9OOiBUaGlzIGlzIGEgTVVTVCBmb3IgQUxM\\n\\nIENvbXB1dGVyIFVzZXJzISEhPEJSPg0KPC9CPjwvRk9OVD48Rk9OVCBDT0xP\\n\\nUj0iIzAwMDAwMCIgZmFjZT0iQXJpYWwiPjxCUj4NCjwvRk9OVD48Rk9OVCBm\\n\\nYWNlPSJBcmlhbCI+PEI+Kk5FVy1TcGVjaWFsIFBhY2thZ2UgRGVhbCEqPEJS\\n\\nPg0KPC9CPjwvRk9OVD48Rk9OVCBDT0xPUj0iIzAwMDAwMCIgZmFjZT0iQXJp\\n\\nYWwiPjxCUj4NCjwvRk9OVD48Rk9OVCBDT0xPUj0iI0ZGMDAwMCIgZmFjZT0i\\n\\nQXJpYWwiPjxCPk5vcnRvbiBTeXN0ZW1Xb3JrcyAyMDAyIFNvZnR3YXJlIFN1\\n\\naXRlIC1Qcm9mZXNzaW9uYWwgRWRpdGlvbi0NCg0KSW5jbHVkZXMgU2l4IC0g\\n\\nWWVzIDYhIC0gRmVhdHVyZS1QYWNrZWQgVXRpbGl0aWVzDQpBTEwgRm9yIDEg\\n\\nU3BlY2lhbCBMT1cgUHJpY2UhNiBGZWF0dXJlLVBhY2tlZCBVdGlsaXRpZXMu\\n\\nLi4xIEdyZWF0IFByaWNlIQ0KQSAkMzAwKyBDb21iaW5lZCBSZXRhaWwgVmFs\\n\\ndWUhDQoNCkZSRUUgU2hpcHBpbmchPC9CPjwvRk9OVD48L1A+DQoNCjxQIEFM\\n\\nSUdOPSJDRU5URVIiPjxGT05UIENPTE9SPSIjRkYwMDAwIiBmYWNlPSJBcmlh\\n\\nbCI+PEI+PEJSPg0KPC9CPjwvRk9OVD48QSBIUkVGPSJodHRwOi8vZXVyby5z\\n\\ncGVjaWFsZGlzY291bnRzNHUuY29tLyI+PEZPTlQgZmFjZT0iQXJpYWwiPjxC\\n\\nPkNsaWNrIEhlcmUgTm93ITwvQj48L0ZPTlQ+PC9BPg0KDQoNCjwvQk9EWT4N\\n\\nCg0KPC9IVE1MPg0KOTc4MEdVZmQwLTUwM1RDdlI5Mzc0SnJCUTMtOTg5WVVo\\n\\nVDU5OGwzNQ==\\n\\n\\n\\n\\n\",\n          \"This is a multi-part message in MIME format.\\n\\n\\n\\n------=_NextPart_000_1B9FC_01C237B4.3A3BBE30\\n\\nContent-Type: text/plain;\\n\\n\\tcharset=\\\"iso-8859-1\\\"\\n\\nContent-Transfer-Encoding: 7bit\\n\\n\\n\\n \\t\\n\\n \\n\\n\\n\\nHome for Sale? \\n\\nList with us! <http://www.clrea.com/whyusseller.cfm> \\n\\n\\n\\nBuying a home is an important step in your life and quite possibly the\\n\\nlargest purchase you will ever make. A trustworthy and reliable agent is\\n\\nwhat you're looking for but often times it can be difficult to find a\\n\\nreal estate agent deserving of your trust.\\n\\n\\n\\nThrough recommendations and client evaluations we've assembled a\\n\\nnational association of Christian Real Estate Agents\\n\\n<http://www.clrea.com/philosophy.cfm>  dedicated to fair business\\n\\npractices and the teachings of our savior.\\n\\n\\n\\nChristian Agents, Lenders, Appraisers and Inspectors: Click Here\\n\\n<http://www.clrea.com/assbenefits.cfm>  to learn more about joining our\\n\\nfamily of Christian Real Estate Professionals\\n\\n\\n\\nFollow these easy steps <http://www.clrea.com/howworkbuyers.cfm>  and\\n\\nwe'll take care of the rest...\\n\\n\\n\\n1. Describe the property you are looking using our Buyer's Information\\n\\nForm <http://www.clrea.com/buyersform.cfm> .\\n\\n\\n\\n2. Our Christian Living Real Estate Associate Agent contacts you at your\\n\\nconvenience to get a better understanding of your specific real estate\\n\\nneeds.\\n\\n\\n\\n3. Our Christian Living Real Estate Associate Agent suggests properties\\n\\nthat fit your criteria and arranges for you to view the properties that\\n\\ninterest you.\\n\\n\\n\\n4. During the decision making process, our Associate Christian Agent\\n\\nprovides reliable and honest guidance to get you the best possible deal.\\n\\n\\n\\n5. When you've decided on a property to purchase, our agent makes all\\n\\nthe necessary preparations to ensure a trouble free transaction.\\n\\n\\n\\n <http://clrea.com> \\n\\n\\n\\nTo be removed from this list click here\\n\\n<http://www.clrea.com/market/autooptout.cfm?address=fork@xent.com&campai\\n\\ngn=52>  \\n\\n\\n\\n\\n\\n------=_NextPart_000_1B9FC_01C237B4.3A3BBE30\\n\\nContent-Type: text/html;\\n\\n\\tcharset=\\\"iso-8859-1\\\"\\n\\nContent-Transfer-Encoding: quoted-printable\\n\\n\\n\\n<!DOCTYPE HTML PUBLIC \\\"-//W3C//DTD HTML 4.0 Transitional//EN\\\">\\n\\n<HTML><HEAD><TITLE>for home buyers</TITLE>\\n\\n<META http-equiv=3DContent-Type content=3D\\\"text/html; =\\n\\ncharset=3Diso-8859-1\\\"><!-- Fireworks 4.0  Dreamweaver 4.0 target.  =\\n\\nCreated Thu May 16 19:54:49 GMT-0700 (Pacific Daylight Time) 2002-->\\n\\n<STYLE type=3Dtext/css></STYLE>\\n\\n\\n\\n<META content=3D\\\"MSHTML 6.00.2716.2200\\\" name=3DGENERATOR></HEAD>\\n\\n<BODY bgColor=3D#ffffff>\\n\\n<DIV><FONT face=3DArial color=3D#0000ff size=3D2></FONT> </DIV>\\n\\n<BLOCKQUOTE>\\n\\n  <TABLE cellSpacing=3D0 cellPadding=3D5 width=3D500 align=3Dcenter =\\n\\nborder=3D1>\\n\\n    <TBODY>\\n\\n    <TR>\\n\\n      <TD vAlign=3Dcenter>\\n\\n        <DIV align=3Dcenter>\\n\\n        <TABLE cellSpacing=3D0 cellPadding=3D0 width=3D500 =\\n\\nalign=3Dcenter border=3D0><!-- fwtable fwsrc=3D\\\"rebuyers.png\\\" =\\n\\nfwbase=3D\\\"mailer2.gif\\\" fwstyle=3D\\\"Dreamweaver\\\" fwdocid =3D \\\"742308039\\\" =\\n\\nfwnested=3D\\\"1\\\" -->\\n\\n          <TBODY>\\n\\n          <TR>\\n\\n            <TD colSpan=3D2><IMG height=3D124=20\\n\\n              =\\n\\nsrc=3D\\\"http://www.clrea.com/emarketing/rebuyers/mailer2_r1_c1.gif\\\"=20\\n\\n              width=3D500 border=3D0 name=3Dmailer2_r1_c1 =\\n\\nNOSEND=3D\\\"1\\\"></TD></TR>\\n\\n          <TR>\\n\\n            <TD vAlign=3Dtop>\\n\\n              <P align=3Dleft><IMG height=3D626=20\\n\\n              =\\n\\nsrc=3D\\\"http://www.clrea.com/emarketing/rebuyers/mailer2_r2_c1.gif\\\"=20\\n\\n              width=3D174 useMap=3D#mailer2_r2_c1Map border=3D0 =\\n\\nname=3Dmailer2_r2_c1=20\\n\\n              NOSEND=3D\\\"1\\\"></P>\\n\\n              <P align=3Dcenter><FONT face=3D\\\"Arial, Helvetica, =\\n\\nsans-serif\\\"=20\\n\\n              size=3D2><B><A =\\n\\nhref=3D\\\"http://www.clrea.com/whyusseller.cfm\\\"><FONT=20\\n\\n              size=3D3>Home for Sale? <BR>List with=20\\n\\n            us!</FONT></A></B></FONT></P></TD>\\n\\n            <TD vAlign=3Dtop width=3D313 height=3D671>\\n\\n              <P><B><FONT face=3D\\\"Arial, Helvetica, sans-serif\\\" =\\n\\nsize=3D2>Buying a=20\\n\\n              home is an important step in your life and quite possibly =\\n\\nthe=20\\n\\n              largest purchase you will ever make. A trustworthy and =\\n\\nreliable=20\\n\\n              agent is what you're looking for but often times it can be =\\n\\n\\n\\n              difficult to find a real estate agent deserving of your=20\\n\\n              trust.</FONT></B></P>\\n\\n              <P><FONT face=3D\\\"Arial, Helvetica, sans-serif\\\" =\\n\\nsize=3D2>Through=20\\n\\n              recommendations and client evaluations we've assembled a =\\n\\nnational=20\\n\\n              association of <A onfocus=3Dif(this.blur)this.blur()=20\\n\\n              href=3D\\\"http://www.clrea.com/philosophy.cfm\\\">Christian =\\n\\nReal Estate=20\\n\\n              Agents</A> dedicated to fair business practices and the =\\n\\nteachings=20\\n\\n              of our savior.</FONT></P>\\n\\n              <p><font face=3D\\\"Arial, Helvetica, sans-serif\\\" =\\n\\nsize=3D\\\"2\\\">Christian=20\\n\\n                Agents, Lenders, Appraisers and Inspectors: <a =\\n\\nhref=3D\\\"http://www.clrea.com/assbenefits.cfm\\\">Click=20\\n\\n                Here</a> to learn more about joining our family of =\\n\\nChristian Real=20\\n\\n                Estate Professionals</font></p>\\n\\n              <P><FONT face=3D\\\"Arial, Helvetica, sans-serif\\\" =\\n\\nsize=3D2><B>Follow=20\\n\\n              these <A onfocus=3Dif(this.blur)this.blur()=20\\n\\n              href=3D\\\"http://www.clrea.com/howworkbuyers.cfm\\\">easy =\\n\\nsteps</A> and=20\\n\\n              we'll take care of the rest...</B></FONT></P>\\n\\n              <P><FONT face=3D\\\"Times New Roman, Times, serif\\\" =\\n\\nsize=3D3><B><FONT=20\\n\\n              face=3D\\\"Arial, Helvetica, sans-serif\\\" =\\n\\ncolor=3D#0000ff>1</FONT><FONT=20\\n\\n              face=3D\\\"Arial, Helvetica, sans-serif\\\" =\\n\\nsize=3D2>.</FONT></B><FONT=20\\n\\n              face=3D\\\"Arial, Helvetica, sans-serif\\\" size=3D2> Describe =\\n\\nthe property=20\\n\\n              you are looking using our <A =\\n\\nonfocus=3Dif(this.blur)this.blur()=20\\n\\n              href=3D\\\"http://www.clrea.com/buyersform.cfm\\\"><B>Buyer's =\\n\\nInformation=20\\n\\n              Form</B></A>.</FONT></FONT></P>\\n\\n              <P><FONT face=3D\\\"Arial, Helvetica, sans-serif\\\" =\\n\\nsize=3D2><B><FONT=20\\n\\n              color=3D#0000ff size=3D3>2</FONT>.</B> Our Christian =\\n\\nLiving Real=20\\n\\n              Estate Associate Agent contacts you at your convenience to =\\n\\nget a=20\\n\\n              better understanding of your specific real estate=20\\n\\nneeds.</FONT></P>\\n\\n              <P><FONT face=3D\\\"Arial, Helvetica, sans-serif\\\" =\\n\\nsize=3D2><B><FONT=20\\n\\n              color=3D#0000ff size=3D3>3</FONT>.</B> Our Christian =\\n\\nLiving Real=20\\n\\n              Estate Associate Agent suggests properties that fit your =\\n\\ncriteria=20\\n\\n              and arranges for you to view the properties that interest=20\\n\\n              you.</FONT></P>\\n\\n              <P><FONT face=3D\\\"Arial, Helvetica, sans-serif\\\" =\\n\\nsize=3D2><B><FONT=20\\n\\n              color=3D#0000ff size=3D3>4</FONT>.</B> During the decision =\\n\\nmaking=20\\n\\n              process, our Associate Christian Agent provides reliable =\\n\\nand=20\\n\\n              honest guidance to get you the best possible =\\n\\ndeal.</FONT></P>\\n\\n              <P><FONT face=3D\\\"Arial, Helvetica, sans-serif\\\" =\\n\\nsize=3D2><B><FONT=20\\n\\n              color=3D#0000ff size=3D3>5</FONT>.</B> When you've decided =\\n\\non a=20\\n\\n              property to purchase, our agent makes all the necessary=20\\n\\n              preparations to ensure a trouble free =\\n\\ntransaction.<BR></FONT><FONT=20\\n\\n              face=3D\\\"Times New Roman, Times, serif\\\" size=3D3><BR><A=20\\n\\n              onfocus=3Dif(this.blur)this.blur() =\\n\\nhref=3D\\\"http://clrea.com\\\"><IMG=20\\n\\n              height=3D59=20\\n\\n              =\\n\\nsrc=3D\\\"http://www.clrea.com/emarketing/rebuyers/button.gif\\\"=20\\n\\n              width=3D310 border=3D0=20\\n\\n        NOSEND=3D\\\"1\\\"></A></FONT></P></TD></TR></TBODY></TABLE><FONT =\\n\\nface=3DVerdana=20\\n\\n        color=3Dblack size=3D-2>To be removed from this list <A=20\\n\\n        =\\n\\nhref=3D\\\"http://www.clrea.com/market/autooptout.cfm?address=3Dfork@xent.co=\\n\\nm&campaign=3D52\\\">click=20\\n\\n        here</A></FONT> =\\n\\n</DIV></TD></TR></TBODY></TABLE></BLOCKQUOTE><MAP=20\\n\\nname=3Dmailer2_r2_c1Map><AREA onfocus=3Dif(this.blur)this.blur() =\\n\\nshape=3DRECT=20\\n\\n  coords=3D13,456,159,505=20\\n\\nhref=3D\\\"http://www.clrea.com/whyusfinance.cfm?class=3D1\\\"></MAP></BODY></H=\\n\\nTML>\\n\\n------=_NextPart_000_1B9FC_01C237B4.3A3BBE30--\\n\\nhttp://xent.com/mailman/listinfo/fork\\n\\n\\n\\n\\n\"\n        ],\n        \"semantic_type\": \"\",\n        \"description\": \"\"\n      }\n    },\n    {\n      \"column\": \"CATEGORY\",\n      \"properties\": {\n        \"dtype\": \"number\",\n        \"std\": 0,\n        \"min\": 1,\n        \"max\": 1,\n        \"num_unique_values\": 1,\n        \"samples\": [\n          1\n        ],\n        \"semantic_type\": \"\",\n        \"description\": \"\"\n      }\n    }\n  ]\n}"
            }
          },
          "metadata": {},
          "execution_count": 15
        }
      ]
    },
    {
      "cell_type": "code",
      "source": [
        "ham_emails = df_from_directory(EASY_NONSPAM_1_PATH, 0)\n",
        "ham_emails = pd.concat([ham_emails, df_from_directory(EASY_NONSPAM_2_PATH, 0)])\n",
        "ham_emails.shape"
      ],
      "metadata": {
        "colab": {
          "base_uri": "https://localhost:8080/"
        },
        "id": "SXP7ccqhITmC",
        "outputId": "6b1373fe-3944-44f6-d2f0-690f39215b3d"
      },
      "execution_count": 16,
      "outputs": [
        {
          "output_type": "execute_result",
          "data": {
            "text/plain": [
              "(3901, 2)"
            ]
          },
          "metadata": {},
          "execution_count": 16
        }
      ]
    },
    {
      "cell_type": "code",
      "source": [
        "data = pd.concat([spam_emails, ham_emails])\n",
        "print('Shape of entire DataFrame is:', data.shape)\n",
        "data.head()"
      ],
      "metadata": {
        "colab": {
          "base_uri": "https://localhost:8080/",
          "height": 223
        },
        "id": "7aaDO7TLIfEj",
        "outputId": "45b1ef1f-2ce7-45cb-b2ad-048ddac34a5c"
      },
      "execution_count": 17,
      "outputs": [
        {
          "output_type": "stream",
          "name": "stdout",
          "text": [
            "Shape of entire DataFrame is: (5799, 2)\n"
          ]
        },
        {
          "output_type": "execute_result",
          "data": {
            "text/plain": [
              "                                                                                  MESSAGE  \\\n",
              "00465.ca5d79d0e5dadee322c117789196ebb4  Mr.Vincent Nnaji,\\n\\n Standard Trust Bank Ltd,...   \n",
              "00441.77768298934252b2fa200e7d9482993b  <html>\\n\\n<body>\\n\\n<p align=\"center\"><a href=...   \n",
              "00173.e10eb62e2c7808674c43d6a5e9e08a1c  <html>\\n\\n<body bgColor=\"#CCCCCC\" topmargin=1 ...   \n",
              "00445.94d3ccfafc541255ff46625091d333e4  Hi -\\n\\n\\n\\n( http://club.4tfox.com )\\n\\n\\n\\nY...   \n",
              "00330.c5f7346dec1e6fe6ed324d8e78a2b46e  This is a Multipart MIME message. Since your m...   \n",
              "\n",
              "                                        CATEGORY  \n",
              "00465.ca5d79d0e5dadee322c117789196ebb4         1  \n",
              "00441.77768298934252b2fa200e7d9482993b         1  \n",
              "00173.e10eb62e2c7808674c43d6a5e9e08a1c         1  \n",
              "00445.94d3ccfafc541255ff46625091d333e4         1  \n",
              "00330.c5f7346dec1e6fe6ed324d8e78a2b46e         1  "
            ],
            "text/html": [
              "\n",
              "  <div id=\"df-1ab1e739-2952-4682-bc28-e89a775c316d\" class=\"colab-df-container\">\n",
              "    <div>\n",
              "<style scoped>\n",
              "    .dataframe tbody tr th:only-of-type {\n",
              "        vertical-align: middle;\n",
              "    }\n",
              "\n",
              "    .dataframe tbody tr th {\n",
              "        vertical-align: top;\n",
              "    }\n",
              "\n",
              "    .dataframe thead th {\n",
              "        text-align: right;\n",
              "    }\n",
              "</style>\n",
              "<table border=\"1\" class=\"dataframe\">\n",
              "  <thead>\n",
              "    <tr style=\"text-align: right;\">\n",
              "      <th></th>\n",
              "      <th>MESSAGE</th>\n",
              "      <th>CATEGORY</th>\n",
              "    </tr>\n",
              "  </thead>\n",
              "  <tbody>\n",
              "    <tr>\n",
              "      <th>00465.ca5d79d0e5dadee322c117789196ebb4</th>\n",
              "      <td>Mr.Vincent Nnaji,\\n\\n Standard Trust Bank Ltd,...</td>\n",
              "      <td>1</td>\n",
              "    </tr>\n",
              "    <tr>\n",
              "      <th>00441.77768298934252b2fa200e7d9482993b</th>\n",
              "      <td>&lt;html&gt;\\n\\n&lt;body&gt;\\n\\n&lt;p align=\"center\"&gt;&lt;a href=...</td>\n",
              "      <td>1</td>\n",
              "    </tr>\n",
              "    <tr>\n",
              "      <th>00173.e10eb62e2c7808674c43d6a5e9e08a1c</th>\n",
              "      <td>&lt;html&gt;\\n\\n&lt;body bgColor=\"#CCCCCC\" topmargin=1 ...</td>\n",
              "      <td>1</td>\n",
              "    </tr>\n",
              "    <tr>\n",
              "      <th>00445.94d3ccfafc541255ff46625091d333e4</th>\n",
              "      <td>Hi -\\n\\n\\n\\n( http://club.4tfox.com )\\n\\n\\n\\nY...</td>\n",
              "      <td>1</td>\n",
              "    </tr>\n",
              "    <tr>\n",
              "      <th>00330.c5f7346dec1e6fe6ed324d8e78a2b46e</th>\n",
              "      <td>This is a Multipart MIME message. Since your m...</td>\n",
              "      <td>1</td>\n",
              "    </tr>\n",
              "  </tbody>\n",
              "</table>\n",
              "</div>\n",
              "    <div class=\"colab-df-buttons\">\n",
              "\n",
              "  <div class=\"colab-df-container\">\n",
              "    <button class=\"colab-df-convert\" onclick=\"convertToInteractive('df-1ab1e739-2952-4682-bc28-e89a775c316d')\"\n",
              "            title=\"Convert this dataframe to an interactive table.\"\n",
              "            style=\"display:none;\">\n",
              "\n",
              "  <svg xmlns=\"http://www.w3.org/2000/svg\" height=\"24px\" viewBox=\"0 -960 960 960\">\n",
              "    <path d=\"M120-120v-720h720v720H120Zm60-500h600v-160H180v160Zm220 220h160v-160H400v160Zm0 220h160v-160H400v160ZM180-400h160v-160H180v160Zm440 0h160v-160H620v160ZM180-180h160v-160H180v160Zm440 0h160v-160H620v160Z\"/>\n",
              "  </svg>\n",
              "    </button>\n",
              "\n",
              "  <style>\n",
              "    .colab-df-container {\n",
              "      display:flex;\n",
              "      gap: 12px;\n",
              "    }\n",
              "\n",
              "    .colab-df-convert {\n",
              "      background-color: #E8F0FE;\n",
              "      border: none;\n",
              "      border-radius: 50%;\n",
              "      cursor: pointer;\n",
              "      display: none;\n",
              "      fill: #1967D2;\n",
              "      height: 32px;\n",
              "      padding: 0 0 0 0;\n",
              "      width: 32px;\n",
              "    }\n",
              "\n",
              "    .colab-df-convert:hover {\n",
              "      background-color: #E2EBFA;\n",
              "      box-shadow: 0px 1px 2px rgba(60, 64, 67, 0.3), 0px 1px 3px 1px rgba(60, 64, 67, 0.15);\n",
              "      fill: #174EA6;\n",
              "    }\n",
              "\n",
              "    .colab-df-buttons div {\n",
              "      margin-bottom: 4px;\n",
              "    }\n",
              "\n",
              "    [theme=dark] .colab-df-convert {\n",
              "      background-color: #3B4455;\n",
              "      fill: #D2E3FC;\n",
              "    }\n",
              "\n",
              "    [theme=dark] .colab-df-convert:hover {\n",
              "      background-color: #434B5C;\n",
              "      box-shadow: 0px 1px 3px 1px rgba(0, 0, 0, 0.15);\n",
              "      filter: drop-shadow(0px 1px 2px rgba(0, 0, 0, 0.3));\n",
              "      fill: #FFFFFF;\n",
              "    }\n",
              "  </style>\n",
              "\n",
              "    <script>\n",
              "      const buttonEl =\n",
              "        document.querySelector('#df-1ab1e739-2952-4682-bc28-e89a775c316d button.colab-df-convert');\n",
              "      buttonEl.style.display =\n",
              "        google.colab.kernel.accessAllowed ? 'block' : 'none';\n",
              "\n",
              "      async function convertToInteractive(key) {\n",
              "        const element = document.querySelector('#df-1ab1e739-2952-4682-bc28-e89a775c316d');\n",
              "        const dataTable =\n",
              "          await google.colab.kernel.invokeFunction('convertToInteractive',\n",
              "                                                    [key], {});\n",
              "        if (!dataTable) return;\n",
              "\n",
              "        const docLinkHtml = 'Like what you see? Visit the ' +\n",
              "          '<a target=\"_blank\" href=https://colab.research.google.com/notebooks/data_table.ipynb>data table notebook</a>'\n",
              "          + ' to learn more about interactive tables.';\n",
              "        element.innerHTML = '';\n",
              "        dataTable['output_type'] = 'display_data';\n",
              "        await google.colab.output.renderOutput(dataTable, element);\n",
              "        const docLink = document.createElement('div');\n",
              "        docLink.innerHTML = docLinkHtml;\n",
              "        element.appendChild(docLink);\n",
              "      }\n",
              "    </script>\n",
              "  </div>\n",
              "\n",
              "\n",
              "<div id=\"df-6a4478e4-bc23-4c7e-9777-8d3981dbb9ed\">\n",
              "  <button class=\"colab-df-quickchart\" onclick=\"quickchart('df-6a4478e4-bc23-4c7e-9777-8d3981dbb9ed')\"\n",
              "            title=\"Suggest charts\"\n",
              "            style=\"display:none;\">\n",
              "\n",
              "<svg xmlns=\"http://www.w3.org/2000/svg\" height=\"24px\"viewBox=\"0 0 24 24\"\n",
              "     width=\"24px\">\n",
              "    <g>\n",
              "        <path d=\"M19 3H5c-1.1 0-2 .9-2 2v14c0 1.1.9 2 2 2h14c1.1 0 2-.9 2-2V5c0-1.1-.9-2-2-2zM9 17H7v-7h2v7zm4 0h-2V7h2v10zm4 0h-2v-4h2v4z\"/>\n",
              "    </g>\n",
              "</svg>\n",
              "  </button>\n",
              "\n",
              "<style>\n",
              "  .colab-df-quickchart {\n",
              "      --bg-color: #E8F0FE;\n",
              "      --fill-color: #1967D2;\n",
              "      --hover-bg-color: #E2EBFA;\n",
              "      --hover-fill-color: #174EA6;\n",
              "      --disabled-fill-color: #AAA;\n",
              "      --disabled-bg-color: #DDD;\n",
              "  }\n",
              "\n",
              "  [theme=dark] .colab-df-quickchart {\n",
              "      --bg-color: #3B4455;\n",
              "      --fill-color: #D2E3FC;\n",
              "      --hover-bg-color: #434B5C;\n",
              "      --hover-fill-color: #FFFFFF;\n",
              "      --disabled-bg-color: #3B4455;\n",
              "      --disabled-fill-color: #666;\n",
              "  }\n",
              "\n",
              "  .colab-df-quickchart {\n",
              "    background-color: var(--bg-color);\n",
              "    border: none;\n",
              "    border-radius: 50%;\n",
              "    cursor: pointer;\n",
              "    display: none;\n",
              "    fill: var(--fill-color);\n",
              "    height: 32px;\n",
              "    padding: 0;\n",
              "    width: 32px;\n",
              "  }\n",
              "\n",
              "  .colab-df-quickchart:hover {\n",
              "    background-color: var(--hover-bg-color);\n",
              "    box-shadow: 0 1px 2px rgba(60, 64, 67, 0.3), 0 1px 3px 1px rgba(60, 64, 67, 0.15);\n",
              "    fill: var(--button-hover-fill-color);\n",
              "  }\n",
              "\n",
              "  .colab-df-quickchart-complete:disabled,\n",
              "  .colab-df-quickchart-complete:disabled:hover {\n",
              "    background-color: var(--disabled-bg-color);\n",
              "    fill: var(--disabled-fill-color);\n",
              "    box-shadow: none;\n",
              "  }\n",
              "\n",
              "  .colab-df-spinner {\n",
              "    border: 2px solid var(--fill-color);\n",
              "    border-color: transparent;\n",
              "    border-bottom-color: var(--fill-color);\n",
              "    animation:\n",
              "      spin 1s steps(1) infinite;\n",
              "  }\n",
              "\n",
              "  @keyframes spin {\n",
              "    0% {\n",
              "      border-color: transparent;\n",
              "      border-bottom-color: var(--fill-color);\n",
              "      border-left-color: var(--fill-color);\n",
              "    }\n",
              "    20% {\n",
              "      border-color: transparent;\n",
              "      border-left-color: var(--fill-color);\n",
              "      border-top-color: var(--fill-color);\n",
              "    }\n",
              "    30% {\n",
              "      border-color: transparent;\n",
              "      border-left-color: var(--fill-color);\n",
              "      border-top-color: var(--fill-color);\n",
              "      border-right-color: var(--fill-color);\n",
              "    }\n",
              "    40% {\n",
              "      border-color: transparent;\n",
              "      border-right-color: var(--fill-color);\n",
              "      border-top-color: var(--fill-color);\n",
              "    }\n",
              "    60% {\n",
              "      border-color: transparent;\n",
              "      border-right-color: var(--fill-color);\n",
              "    }\n",
              "    80% {\n",
              "      border-color: transparent;\n",
              "      border-right-color: var(--fill-color);\n",
              "      border-bottom-color: var(--fill-color);\n",
              "    }\n",
              "    90% {\n",
              "      border-color: transparent;\n",
              "      border-bottom-color: var(--fill-color);\n",
              "    }\n",
              "  }\n",
              "</style>\n",
              "\n",
              "  <script>\n",
              "    async function quickchart(key) {\n",
              "      const quickchartButtonEl =\n",
              "        document.querySelector('#' + key + ' button');\n",
              "      quickchartButtonEl.disabled = true;  // To prevent multiple clicks.\n",
              "      quickchartButtonEl.classList.add('colab-df-spinner');\n",
              "      try {\n",
              "        const charts = await google.colab.kernel.invokeFunction(\n",
              "            'suggestCharts', [key], {});\n",
              "      } catch (error) {\n",
              "        console.error('Error during call to suggestCharts:', error);\n",
              "      }\n",
              "      quickchartButtonEl.classList.remove('colab-df-spinner');\n",
              "      quickchartButtonEl.classList.add('colab-df-quickchart-complete');\n",
              "    }\n",
              "    (() => {\n",
              "      let quickchartButtonEl =\n",
              "        document.querySelector('#df-6a4478e4-bc23-4c7e-9777-8d3981dbb9ed button');\n",
              "      quickchartButtonEl.style.display =\n",
              "        google.colab.kernel.accessAllowed ? 'block' : 'none';\n",
              "    })();\n",
              "  </script>\n",
              "</div>\n",
              "\n",
              "    </div>\n",
              "  </div>\n"
            ],
            "application/vnd.google.colaboratory.intrinsic+json": {
              "type": "dataframe",
              "variable_name": "data",
              "summary": "{\n  \"name\": \"data\",\n  \"rows\": 5799,\n  \"fields\": [\n    {\n      \"column\": \"MESSAGE\",\n      \"properties\": {\n        \"dtype\": \"string\",\n        \"num_unique_values\": 5626,\n        \"samples\": [\n          \"On Tue, 13 Aug 2002, David Raistrick wrote:\\n\\n\\n\\n> To actually answer Justin's question, (one can assume that he has\\n\\n> rewrite_subject and report_header turned on because he wants them..and\\n\\n> that he would like to be able to strip the added bits off before he sends\\n\\n> them to razor) something as simple as the following would probably work\\n\\n> just fine.  Just pipe your message through this, then on into\\n\\n> razor-report:\\n\\n\\n\\nI wouldn't make that assumption.  I'd assume that rewrite_subject was on, \\n\\nand report_header was off, because that's the default configuration, and \\n\\nnot everyone knows to go look in the user_prefs file to make those \\n\\nchanges.\\n\\n\\n\\n\\n\\n\\n\\n-------------------------------------------------------\\n\\nThis sf.net email is sponsored by: Dice - The leading online job board\\n\\nfor high-tech professionals. Search and apply for tech jobs today!\\n\\nhttp://seeker.dice.com/seeker.epl?rel_code=31\\n\\n_______________________________________________\\n\\nRazor-users mailing list\\n\\nRazor-users@lists.sourceforge.net\\n\\nhttps://lists.sourceforge.net/lists/listinfo/razor-users\\n\\n\\n\\n\\n\",\n          \"\\n\\n<!DOCTYPE HTML PUBLIC \\\"-//W3C//DTD HTML 4.0 Transitional//EN\\\">\\n\\n<html>\\n\\n<body bgcolor=\\\"#FFFFFF\\\" marginwidth=\\\"0\\\" marginheight=\\\"0\\\" topmargin=\\\"0\\\" leftmargin=\\\"0\\\">\\n\\n<CENTER>\\n\\n<TABLE width=\\\"600\\\" cellspacing=\\\"0\\\" cellpadding=\\\"0\\\" border=\\\"0\\\">\\n\\n<TR>\\n\\n<TD>\\n\\n<TABLE cellspacing=\\\"0\\\" cellpadding=\\\"0\\\" border=\\\"0\\\">\\n\\n<TR>\\n\\n<TD><A HREF=\\\"http://www.divl.com/index.asp?L=0&CID=86\\\"><img src=\\\"http://www.divl.com/images/top_flag.gif\\\" width=\\\"175\\\" height=\\\"80\\\" border=\\\"0\\\"></A></TD>\\n\\n<TD><img src=\\\"http://www.divl.com/images/mail/top_blue.gif\\\" width=\\\"425\\\" height=\\\"80\\\" border=\\\"0\\\"></TD>\\n\\n</TR>\\n\\n</TABLE>\\n\\n</TD>\\n\\n</TR>\\n\\n<TR>\\n\\n<TD>\\n\\n<TABLE cellspacing=\\\"0\\\" cellpadding=\\\"0\\\" border=\\\"0\\\">\\n\\n<TR>\\n\\n<TD><A HREF=\\\"http://www.divl.com/application.asp?L=0&CID=86\\\"><img src=\\\"http://www.divl.com/images/btn_apply0.gif\\\" width=\\\"124\\\" height=\\\"30\\\" border=\\\"0\\\"></A></TD>\\n\\n<TD><A HREF=\\\"http://www.divl.com/general.asp?L=0&CID=86\\\"><img src=\\\"http://www.divl.com/images/btn_requirements0.gif\\\" width=\\\"132\\\" height=\\\"30\\\" border=\\\"0\\\"></A></TD>\\n\\n<TD><A HREF=\\\"http://www.divl.com/faq.asp?L=0&CID=86\\\"><img src=\\\"http://www.divl.com/images/btn_faq0.gif\\\" width=\\\"53\\\" height=\\\"30\\\" border=\\\"0\\\"></A></TD>\\n\\n<TD><img src=\\\"http://www.divl.com/images/mail/top_red.gif\\\" width=\\\"291\\\" height=\\\"30\\\" border=\\\"0\\\"></TD>\\n\\n</TR>\\n\\n<TR>\\n\\n<TD colspan=\\\"4\\\"><img src=\\\"http://www.divl.com/images/trans.gif\\\" width=\\\"1\\\" height=\\\"2\\\" border=\\\"0\\\"></TD>\\n\\n</TR>\\n\\n</TABLE>\\n\\n</TD>\\n\\n</TR>\\n\\n<TR>\\n\\n<TD>\\n\\n<TABLE width=\\\"600\\\" cellspacing=\\\"0\\\" cellpadding=\\\"1\\\" border=\\\"0\\\">\\n\\n<TR>\\n\\n<TD bgcolor=\\\"#999999\\\">\\n\\n<TABLE bgcolor=\\\"#FFFFFF\\\" width=\\\"100%\\\" height=\\\"100%\\\" cellspacing=\\\"0\\\" border=\\\"0\\\">\\n\\n<TR>\\n\\n<TD valign=\\\"top\\\">\\n\\n<TABLE cellspacing=\\\"0\\\" cellpadding=\\\"0\\\" border=\\\"0\\\">\\n\\n<TR>\\n\\n<TD><img src=\\\"http://www.divl.com/images/mail/lang_spacer.gif\\\" width=\\\"11\\\" height=\\\"21\\\"></TD>\\n\\n<TD><A HREF=\\\"http://www.divl.com/index.asp?L=0&CID=86\\\"><img src=\\\"http://www.divl.com/images/mail/lang_en.gif\\\" width=\\\"80\\\" height=\\\"21\\\" border=\\\"0\\\"></A></TD>\\n\\n<TD><A HREF=\\\"http://www.divl.com/index.asp?L=4&CID=86\\\"><img src=\\\"http://www.divl.com/images/mail/lang_es.gif\\\" width=\\\"85\\\" height=\\\"21\\\" border=\\\"0\\\"></A></TD>\\n\\n<TD><A HREF=\\\"http://www.divl.com/index.asp?L=1&CID=86\\\"><img src=\\\"http://www.divl.com/images/mail/lang_de.gif\\\" width=\\\"80\\\" height=\\\"21\\\" border=\\\"0\\\"></A></TD>\\n\\n<TD><A HREF=\\\"http://www.divl.com/index.asp?L=2&CID=86\\\"><img src=\\\"http://www.divl.com/images/mail/lang_it.gif\\\" width=\\\"80\\\" height=\\\"21\\\" border=\\\"0\\\"></A></TD>\\n\\n<TD><A HREF=\\\"http://www.divl.com/index.asp?L=3&CID=86\\\"><img src=\\\"http://www.divl.com/images/mail/lang_fr.gif\\\" width=\\\"85\\\" height=\\\"21\\\" border=\\\"0\\\"></A></TD>\\n\\n<TD><A HREF=\\\"http://www.divl.com/index.asp?L=5&CID=86\\\"><img src=\\\"http://www.divl.com/images/mail/lang_se.gif\\\" width=\\\"85\\\" height=\\\"21\\\" border=\\\"0\\\"></A></TD>\\n\\n<TD><A HREF=\\\"http://www.divl.com/index.asp?L=6&CID=86\\\"><img src=\\\"http://www.divl.com/images/mail/lang_dk.gif\\\" width=\\\"80\\\" height=\\\"21\\\" border=\\\"0\\\"></A></TD>\\n\\n<TD><img src=\\\"http://www.divl.com/images/mail/lang_spacer.gif\\\" width=\\\"10\\\" height=\\\"21\\\"></TD>\\n\\n</TR>\\n\\n</TABLE>\\n\\n<TABLE cellspacing=\\\"0\\\" cellpadding=\\\"0\\\" border=\\\"0\\\">\\n\\n<TR>\\n\\n<td rowspan=\\\"4\\\"><img src=\\\"http://www.divl.com/images/trans.gif\\\" width=\\\"35\\\" height=\\\"1\\\"></TD>\\n\\n<TD colspan=\\\"3\\\"><img src=\\\"http://www.divl.com/images/trans.gif\\\" width=\\\"1\\\" height=\\\"20\\\"></TD>\\n\\n</TR>\\n\\n<TR>\\n\\n<TD width=\\\"370\\\" valign=\\\"top\\\">\\n\\n<FONT FACE=\\\"verdana, arial, helvetica\\\" size=\\\"1\\\" color=\\\"#000000\\\">\\n\\n<img src=\\\"http://www.divl.com/images/mail/txt_win0.gif\\\" width=\\\"371\\\" height=\\\"43\\\" border=\\\"0\\\">\\n\\n<BR>\\n\\n<A HREF=\\\"http://www.divl.com/application.asp?L=0&CID=86\\\"><img src=\\\"http://www.divl.com/images/btn_apply_today0.gif\\\" width=\\\"103\\\" height=\\\"17\\\" border=\\\"0\\\"></A>\\n\\n<BR><BR>\\n\\n<img src=\\\"http://www.divl.com/images/txt_theofficial0.gif\\\" width=\\\"196\\\" height=\\\"18\\\" border=\\\"0\\\"><BR>\\n\\nThe United States has a program, called Diversity Immigrant Visa\\n\\nLottery (better known as the Green Card Lottery), making available\\n\\neach year by random selection 50,000 permanent residence visas\\n\\n(Green Cards) to people from around the world. The objective of the\\n\\nprogram is to issue Green Cards to individuals born in countries with\\n\\nhistorically low levels of immigration to the United States.\\n\\n<BR><BR>\\n\\n<img src=\\\"http://www.divl.com/images/txt_whatis0.gif\\\" width=\\\"144\\\" height=\\\"18\\\" border=\\\"0\\\"><BR>\\n\\nA Green Card is a Permanent Residence Visa of the U.S.A. A Green Card\\n\\nwill give you legal right to work and live permanently in the United\\n\\nStates. Green Card holders receive health, education, and several other\\n\\nbenefits. If you win a Green Card, you can apply for U.S. Citizenship at\\n\\na later time. The Green Card does not affect your present citizenship.\\n\\nYou and your family could be lucky winners!\\n\\n<BR><BR>\\n\\n<A HREF=\\\"http://www.divl.com/application.asp?L=0&CID=86\\\"><img src=\\\"http://www.divl.com/images/btn_apply_today0.gif\\\" width=\\\"103\\\" height=\\\"17\\\" border=\\\"0\\\"></A>\\n\\n</FONT>\\n\\n</TD>\\n\\n<TD width=\\\"35\\\">\\n\\n<img src=\\\"http://www.divl.com/images/trans.gif\\\" width=\\\"35\\\" height=\\\"1\\\" border=\\\"0\\\">\\n\\n</TD>\\n\\n<TD width=\\\"122\\\" valign=\\\"top\\\">\\n\\n<img src=\\\"http://www.divl.com/images/mail/happypeople.gif\\\" width=\\\"120\\\" height=\\\"120\\\" border=\\\"0\\\">\\n\\n</TD>\\n\\n</TR>\\n\\n<TR>\\n\\n<TD colspan=\\\"3\\\">\\n\\n<img src=\\\"http://www.divl.com/transView.asp?CID=86\\\" width=\\\"1\\\" height=\\\"20\\\" border=\\\"0\\\">\\n\\n</TD>\\n\\n</TR>\\n\\n</TABLE>\\n\\n</TD>\\n\\n</TR>\\n\\n</TABLE>\\n\\n</TD>\\n\\n</TR>\\n\\n</TABLE>\\n\\n</TD>\\n\\n</TR>\\n\\n<TR>\\n\\n<TD align=\\\"center\\\">\\n\\n<TABLE width=\\\"522\\\" cellspacing=\\\"0\\\" cellpadding=\\\"0\\\" border=\\\"0\\\">\\n\\n<TR>\\n\\n<TD>\\n\\n<FONT FACE=\\\"verdana, arial, helvetica\\\" size=\\\"1\\\" color=\\\"#000000\\\">\\n\\n<BR><BR>\\n\\nYour email address was obtained from a purchased list, Reference # 00193.  If you wish to unsubscribe\\n\\nfrom this list, please <a href=\\\"http://www.divl.com/unsubscribe.asp?CID=86\\\">Click Here</a>.\\n\\nIf you have previously unsubscribed and are still receiving this message, you may email our\\n\\n<a href=\\\"mailto:nospamws@yahoo.com?Subject=Abuse Report\\\">Abuse Control Center</a>, or call 1-888-763-2497,\\n\\nor write us at: NoSpam, 6484 Coral Way, Miami, FL, 33155.<BR><BR>\\n\\n<BR><BR>\\n\\n</FONT>\\n\\n</TD>\\n\\n</TR>\\n\\n</TABLE>\\n\\n</TD>\\n\\n</TR>\\n\\n</TABLE>\\n\\n</CENTER>\\n\\n</body>\\n\\n</html>\\n\\n\\n\\n--DeathToSpamDeathToSpamDeathToSpam--\\n\\n\\n\\n\\n\\n-------------------------------------------------------\\n\\nThis sf.net email is sponsored by: Jabber - The world's fastest growing \\n\\nreal-time communications platform! Don't just IM. Build it in! \\n\\nhttp://www.jabber.com/osdn/xim\\n\\n_______________________________________________\\n\\nSpamassassin-Sightings mailing list\\n\\nSpamassassin-Sightings@lists.sourceforge.net\\n\\nhttps://lists.sourceforge.net/lists/listinfo/spamassassin-sightings\\n\\n\\n\\n\\n\",\n          \"We are offering you quality marketing lists which have been verified giving you a 90% delivery rate for your marketing campaign.\\n\\n\\n\\nThe lists are downloadable along with free sending software. We are currently adding 500,000 new addresses for download each week.\\n\\n\\n\\nPlease Call [USA] 303 889 5732 (24hr Recorded Information)\\n\\n\\n\\n\\n\"\n        ],\n        \"semantic_type\": \"\",\n        \"description\": \"\"\n      }\n    },\n    {\n      \"column\": \"CATEGORY\",\n      \"properties\": {\n        \"dtype\": \"number\",\n        \"std\": 0,\n        \"min\": 0,\n        \"max\": 1,\n        \"num_unique_values\": 2,\n        \"samples\": [\n          0,\n          1\n        ],\n        \"semantic_type\": \"\",\n        \"description\": \"\"\n      }\n    }\n  ]\n}"
            }
          },
          "metadata": {},
          "execution_count": 17
        }
      ]
    },
    {
      "cell_type": "code",
      "source": [
        "data.tail()"
      ],
      "metadata": {
        "colab": {
          "base_uri": "https://localhost:8080/",
          "height": 206
        },
        "id": "-_8WCYEmIxOx",
        "outputId": "280ef780-a2c7-44c7-c2c3-775d978c4c19"
      },
      "execution_count": 18,
      "outputs": [
        {
          "output_type": "execute_result",
          "data": {
            "text/plain": [
              "                                                                                  MESSAGE  \\\n",
              "00911.91dd363a1ba091de446dd40a24816ab3  On Fri, 26 Jul 2002, Ian Andrew Bell wrote:\\n\\...   \n",
              "01090.9c92673e26cabc5a37ac3e2b1b2bf8df  \\n\\n\\n\\nJohn Hall\\n\\n13464 95th Ave NE\\n\\nKirk...   \n",
              "00664.28f4cb9fad800d0c7175d3a67e6c6458  Key concepts:  Tokyo, urban overheating,\\n\\ncl...   \n",
              "00715.c11e77af45a2debe41aed46b2be09d59  \\n\\nMusic school jokes --\\n\\n\\n\\nAmerican cond...   \n",
              "00492.bc9e8dcbe986afe7ed1f38e988f43c8b  As list administrator, your authorization is r...   \n",
              "\n",
              "                                        CATEGORY  \n",
              "00911.91dd363a1ba091de446dd40a24816ab3         0  \n",
              "01090.9c92673e26cabc5a37ac3e2b1b2bf8df         0  \n",
              "00664.28f4cb9fad800d0c7175d3a67e6c6458         0  \n",
              "00715.c11e77af45a2debe41aed46b2be09d59         0  \n",
              "00492.bc9e8dcbe986afe7ed1f38e988f43c8b         0  "
            ],
            "text/html": [
              "\n",
              "  <div id=\"df-3a74939a-305a-4f14-a48f-45572a27fefb\" class=\"colab-df-container\">\n",
              "    <div>\n",
              "<style scoped>\n",
              "    .dataframe tbody tr th:only-of-type {\n",
              "        vertical-align: middle;\n",
              "    }\n",
              "\n",
              "    .dataframe tbody tr th {\n",
              "        vertical-align: top;\n",
              "    }\n",
              "\n",
              "    .dataframe thead th {\n",
              "        text-align: right;\n",
              "    }\n",
              "</style>\n",
              "<table border=\"1\" class=\"dataframe\">\n",
              "  <thead>\n",
              "    <tr style=\"text-align: right;\">\n",
              "      <th></th>\n",
              "      <th>MESSAGE</th>\n",
              "      <th>CATEGORY</th>\n",
              "    </tr>\n",
              "  </thead>\n",
              "  <tbody>\n",
              "    <tr>\n",
              "      <th>00911.91dd363a1ba091de446dd40a24816ab3</th>\n",
              "      <td>On Fri, 26 Jul 2002, Ian Andrew Bell wrote:\\n\\...</td>\n",
              "      <td>0</td>\n",
              "    </tr>\n",
              "    <tr>\n",
              "      <th>01090.9c92673e26cabc5a37ac3e2b1b2bf8df</th>\n",
              "      <td>\\n\\n\\n\\nJohn Hall\\n\\n13464 95th Ave NE\\n\\nKirk...</td>\n",
              "      <td>0</td>\n",
              "    </tr>\n",
              "    <tr>\n",
              "      <th>00664.28f4cb9fad800d0c7175d3a67e6c6458</th>\n",
              "      <td>Key concepts:  Tokyo, urban overheating,\\n\\ncl...</td>\n",
              "      <td>0</td>\n",
              "    </tr>\n",
              "    <tr>\n",
              "      <th>00715.c11e77af45a2debe41aed46b2be09d59</th>\n",
              "      <td>\\n\\nMusic school jokes --\\n\\n\\n\\nAmerican cond...</td>\n",
              "      <td>0</td>\n",
              "    </tr>\n",
              "    <tr>\n",
              "      <th>00492.bc9e8dcbe986afe7ed1f38e988f43c8b</th>\n",
              "      <td>As list administrator, your authorization is r...</td>\n",
              "      <td>0</td>\n",
              "    </tr>\n",
              "  </tbody>\n",
              "</table>\n",
              "</div>\n",
              "    <div class=\"colab-df-buttons\">\n",
              "\n",
              "  <div class=\"colab-df-container\">\n",
              "    <button class=\"colab-df-convert\" onclick=\"convertToInteractive('df-3a74939a-305a-4f14-a48f-45572a27fefb')\"\n",
              "            title=\"Convert this dataframe to an interactive table.\"\n",
              "            style=\"display:none;\">\n",
              "\n",
              "  <svg xmlns=\"http://www.w3.org/2000/svg\" height=\"24px\" viewBox=\"0 -960 960 960\">\n",
              "    <path d=\"M120-120v-720h720v720H120Zm60-500h600v-160H180v160Zm220 220h160v-160H400v160Zm0 220h160v-160H400v160ZM180-400h160v-160H180v160Zm440 0h160v-160H620v160ZM180-180h160v-160H180v160Zm440 0h160v-160H620v160Z\"/>\n",
              "  </svg>\n",
              "    </button>\n",
              "\n",
              "  <style>\n",
              "    .colab-df-container {\n",
              "      display:flex;\n",
              "      gap: 12px;\n",
              "    }\n",
              "\n",
              "    .colab-df-convert {\n",
              "      background-color: #E8F0FE;\n",
              "      border: none;\n",
              "      border-radius: 50%;\n",
              "      cursor: pointer;\n",
              "      display: none;\n",
              "      fill: #1967D2;\n",
              "      height: 32px;\n",
              "      padding: 0 0 0 0;\n",
              "      width: 32px;\n",
              "    }\n",
              "\n",
              "    .colab-df-convert:hover {\n",
              "      background-color: #E2EBFA;\n",
              "      box-shadow: 0px 1px 2px rgba(60, 64, 67, 0.3), 0px 1px 3px 1px rgba(60, 64, 67, 0.15);\n",
              "      fill: #174EA6;\n",
              "    }\n",
              "\n",
              "    .colab-df-buttons div {\n",
              "      margin-bottom: 4px;\n",
              "    }\n",
              "\n",
              "    [theme=dark] .colab-df-convert {\n",
              "      background-color: #3B4455;\n",
              "      fill: #D2E3FC;\n",
              "    }\n",
              "\n",
              "    [theme=dark] .colab-df-convert:hover {\n",
              "      background-color: #434B5C;\n",
              "      box-shadow: 0px 1px 3px 1px rgba(0, 0, 0, 0.15);\n",
              "      filter: drop-shadow(0px 1px 2px rgba(0, 0, 0, 0.3));\n",
              "      fill: #FFFFFF;\n",
              "    }\n",
              "  </style>\n",
              "\n",
              "    <script>\n",
              "      const buttonEl =\n",
              "        document.querySelector('#df-3a74939a-305a-4f14-a48f-45572a27fefb button.colab-df-convert');\n",
              "      buttonEl.style.display =\n",
              "        google.colab.kernel.accessAllowed ? 'block' : 'none';\n",
              "\n",
              "      async function convertToInteractive(key) {\n",
              "        const element = document.querySelector('#df-3a74939a-305a-4f14-a48f-45572a27fefb');\n",
              "        const dataTable =\n",
              "          await google.colab.kernel.invokeFunction('convertToInteractive',\n",
              "                                                    [key], {});\n",
              "        if (!dataTable) return;\n",
              "\n",
              "        const docLinkHtml = 'Like what you see? Visit the ' +\n",
              "          '<a target=\"_blank\" href=https://colab.research.google.com/notebooks/data_table.ipynb>data table notebook</a>'\n",
              "          + ' to learn more about interactive tables.';\n",
              "        element.innerHTML = '';\n",
              "        dataTable['output_type'] = 'display_data';\n",
              "        await google.colab.output.renderOutput(dataTable, element);\n",
              "        const docLink = document.createElement('div');\n",
              "        docLink.innerHTML = docLinkHtml;\n",
              "        element.appendChild(docLink);\n",
              "      }\n",
              "    </script>\n",
              "  </div>\n",
              "\n",
              "\n",
              "<div id=\"df-6e244b10-8f09-48ce-aba9-8a01b4a0c6ed\">\n",
              "  <button class=\"colab-df-quickchart\" onclick=\"quickchart('df-6e244b10-8f09-48ce-aba9-8a01b4a0c6ed')\"\n",
              "            title=\"Suggest charts\"\n",
              "            style=\"display:none;\">\n",
              "\n",
              "<svg xmlns=\"http://www.w3.org/2000/svg\" height=\"24px\"viewBox=\"0 0 24 24\"\n",
              "     width=\"24px\">\n",
              "    <g>\n",
              "        <path d=\"M19 3H5c-1.1 0-2 .9-2 2v14c0 1.1.9 2 2 2h14c1.1 0 2-.9 2-2V5c0-1.1-.9-2-2-2zM9 17H7v-7h2v7zm4 0h-2V7h2v10zm4 0h-2v-4h2v4z\"/>\n",
              "    </g>\n",
              "</svg>\n",
              "  </button>\n",
              "\n",
              "<style>\n",
              "  .colab-df-quickchart {\n",
              "      --bg-color: #E8F0FE;\n",
              "      --fill-color: #1967D2;\n",
              "      --hover-bg-color: #E2EBFA;\n",
              "      --hover-fill-color: #174EA6;\n",
              "      --disabled-fill-color: #AAA;\n",
              "      --disabled-bg-color: #DDD;\n",
              "  }\n",
              "\n",
              "  [theme=dark] .colab-df-quickchart {\n",
              "      --bg-color: #3B4455;\n",
              "      --fill-color: #D2E3FC;\n",
              "      --hover-bg-color: #434B5C;\n",
              "      --hover-fill-color: #FFFFFF;\n",
              "      --disabled-bg-color: #3B4455;\n",
              "      --disabled-fill-color: #666;\n",
              "  }\n",
              "\n",
              "  .colab-df-quickchart {\n",
              "    background-color: var(--bg-color);\n",
              "    border: none;\n",
              "    border-radius: 50%;\n",
              "    cursor: pointer;\n",
              "    display: none;\n",
              "    fill: var(--fill-color);\n",
              "    height: 32px;\n",
              "    padding: 0;\n",
              "    width: 32px;\n",
              "  }\n",
              "\n",
              "  .colab-df-quickchart:hover {\n",
              "    background-color: var(--hover-bg-color);\n",
              "    box-shadow: 0 1px 2px rgba(60, 64, 67, 0.3), 0 1px 3px 1px rgba(60, 64, 67, 0.15);\n",
              "    fill: var(--button-hover-fill-color);\n",
              "  }\n",
              "\n",
              "  .colab-df-quickchart-complete:disabled,\n",
              "  .colab-df-quickchart-complete:disabled:hover {\n",
              "    background-color: var(--disabled-bg-color);\n",
              "    fill: var(--disabled-fill-color);\n",
              "    box-shadow: none;\n",
              "  }\n",
              "\n",
              "  .colab-df-spinner {\n",
              "    border: 2px solid var(--fill-color);\n",
              "    border-color: transparent;\n",
              "    border-bottom-color: var(--fill-color);\n",
              "    animation:\n",
              "      spin 1s steps(1) infinite;\n",
              "  }\n",
              "\n",
              "  @keyframes spin {\n",
              "    0% {\n",
              "      border-color: transparent;\n",
              "      border-bottom-color: var(--fill-color);\n",
              "      border-left-color: var(--fill-color);\n",
              "    }\n",
              "    20% {\n",
              "      border-color: transparent;\n",
              "      border-left-color: var(--fill-color);\n",
              "      border-top-color: var(--fill-color);\n",
              "    }\n",
              "    30% {\n",
              "      border-color: transparent;\n",
              "      border-left-color: var(--fill-color);\n",
              "      border-top-color: var(--fill-color);\n",
              "      border-right-color: var(--fill-color);\n",
              "    }\n",
              "    40% {\n",
              "      border-color: transparent;\n",
              "      border-right-color: var(--fill-color);\n",
              "      border-top-color: var(--fill-color);\n",
              "    }\n",
              "    60% {\n",
              "      border-color: transparent;\n",
              "      border-right-color: var(--fill-color);\n",
              "    }\n",
              "    80% {\n",
              "      border-color: transparent;\n",
              "      border-right-color: var(--fill-color);\n",
              "      border-bottom-color: var(--fill-color);\n",
              "    }\n",
              "    90% {\n",
              "      border-color: transparent;\n",
              "      border-bottom-color: var(--fill-color);\n",
              "    }\n",
              "  }\n",
              "</style>\n",
              "\n",
              "  <script>\n",
              "    async function quickchart(key) {\n",
              "      const quickchartButtonEl =\n",
              "        document.querySelector('#' + key + ' button');\n",
              "      quickchartButtonEl.disabled = true;  // To prevent multiple clicks.\n",
              "      quickchartButtonEl.classList.add('colab-df-spinner');\n",
              "      try {\n",
              "        const charts = await google.colab.kernel.invokeFunction(\n",
              "            'suggestCharts', [key], {});\n",
              "      } catch (error) {\n",
              "        console.error('Error during call to suggestCharts:', error);\n",
              "      }\n",
              "      quickchartButtonEl.classList.remove('colab-df-spinner');\n",
              "      quickchartButtonEl.classList.add('colab-df-quickchart-complete');\n",
              "    }\n",
              "    (() => {\n",
              "      let quickchartButtonEl =\n",
              "        document.querySelector('#df-6e244b10-8f09-48ce-aba9-8a01b4a0c6ed button');\n",
              "      quickchartButtonEl.style.display =\n",
              "        google.colab.kernel.accessAllowed ? 'block' : 'none';\n",
              "    })();\n",
              "  </script>\n",
              "</div>\n",
              "\n",
              "    </div>\n",
              "  </div>\n"
            ],
            "application/vnd.google.colaboratory.intrinsic+json": {
              "type": "dataframe",
              "summary": "{\n  \"name\": \"data\",\n  \"rows\": 5,\n  \"fields\": [\n    {\n      \"column\": \"MESSAGE\",\n      \"properties\": {\n        \"dtype\": \"string\",\n        \"num_unique_values\": 5,\n        \"samples\": [\n          \"\\n\\n\\n\\nJohn Hall\\n\\n13464 95th Ave NE\\n\\nKirkland WA 98034\\n\\n\\n\\n\\n\\n> -----Original Message-----\\n\\n> From: fork-admin@xent.com [mailto:fork-admin@xent.com] On Behalf Of\\n\\nRohit\\n\\n> Khare\\n\\n> Sent: Monday, August 19, 2002 3:04 PM\\n\\n> To: fork@spamassassin.taint.org\\n\\n> Subject: POLICY CHANGE: subscriber-only posting\\n\\n> \\n\\n> Sorry, gang, but I've flipped the switch. If your posting address\\n\\n> doesn't match your subscription address, or if you've instructed a\\n\\nrobot\\n\\n> to forkpost on your behalf, it'll get held, silently, for me or Kragen\\n\\n> to review. Which will be rarely, so be warned.\\n\\n> \\n\\n> Let's see how this works out for a week or so...\\n\\n> \\n\\n> Rohit\\n\\n> \\n\\n> ---\\n\\n> My permanent email address is khare@alumni.caltech.edu\\n\\n> \\n\\n> http://xent.com/mailman/listinfo/fork\\n\\n\\n\\n\\n\\nhttp://xent.com/mailman/listinfo/fork\\n\\n\\n\",\n          \"As list administrator, your authorization is requested for the\\n\\nfollowing mailing list posting:\\n\\n\\n\\n    List:    IIU@iiu.taint.org\\n\\n    From:    friendsworld@lovefinder.com\\n\\n    Subject: humour Friendship to share !\\n\\n    Reason:  Post by non-member to a members-only list\\n\\n\\n\\nAt your convenience, visit:\\n\\n\\n\\n    http://iiu.taint.org/mailman/admindb/iiu\\n\\n        \\n\\nto approve or deny the request.\\n\\n\\n\\n\\n\",\n          \"Key concepts:  Tokyo, urban overheating,\\n\\nclimate change remediation\\n\\n\\n\\nAttention Conservation Notice: a weird,\\n\\nhand-waving Nipponese mega-scheme.\\n\\n\\n\\nLinks:\\n\\nhttp://http://www.viridiandesign.org/products/furniture.htm\\n\\nFrom:\\u00a0Laurence Aurbach <translucent*spamcop.net?>\\n\\nSubject:\\u00a0Viridian Furniture List\\n\\n\\n\\nThe Viridian Furniture List is now online in the \\n\\n\\\"Recommended Products\\\" section of the Viridian website. \\n\\nDavid Bergman did a yeoman-like job assembling this list \\n\\nand adding comments. He's also mirroring the list on his \\n\\nown furniture site, Fire and Water.\\n\\nhttp://cyberg.com/fw/ecofurn.htm \\n\\n\\n\\nMaybe you'll find a woven bamboo buffet or a biopolymer \\n\\nmesh coffee table. == L.J. Aurbach\\n\\n\\n\\n\\n\\n---------------------------------------------------\\n\\nEntries in the Global Civil Society Design Contest.\\n\\n\\n\\nFrom: Steven W. Schuldt <swschuldt*mac.com>\\n\\nhttp://www.americanrobotz.com/images2/Soon_GlobalCivilSocietyLaptop.jpg\\n\\n\\n\\nFrom: Ben Davis <bend*earthlink.net>\\n\\nhttp://www.digitaleverything.com/GlobalComputer.htm\\n\\n\\n\\nFrom: Joerg F. Wittenberger <Joerg.Wittenberger*pobox.com>\\n\\nhttp://www.askemos.org/ \\n\\nhttp://www.askemos.org:9080/RomePaper.pdf\\n\\n\\n\\nFrom: Scott Vandehey <scot*spaceninja.com >\\n\\nhttp://spaceninja.com/viridian/notebook.html\\n\\n\\n\\nFrom: Bob Morris <bob*bomoco.com>\\n\\nhttp://viridianrepository.com/GlobalCivil/\\n\\n\\n\\nFrom: Anonymous\\n\\nhttp://home.freiepresse.de/befis/zx2000.html\\n\\nhttp://apollo.spaceports.com/~bodo4all/zx/zx97.htm\\n\\nhttp://www.vkb.co.il/\\n\\n\\n\\nFrom: Jim Thompson <jim*musenki.com>\\n\\nhttp://www.simputer.org\\n\\nhttp://www.cnn.com/2002/TECH/ptech/07/05/india.simputer.reut/index.html\\n\\n\\n\\nFrom: Mike Rosing <eresrch*eskimo.com>\\n\\nhttp://www.eskimo.com/~eresrch/viridian\\n\\n\\n\\nFrom: Till Westermayer <till*tillwe.de>\\n\\nhttp://www.westermayer.de/till/projekte/02gcsdl.htm\\n\\n\\n\\nFrom:\\u00a0Duncan Stewart <stewarts*stewarts.org?>\\n\\nhttp://www.stewarts.org/viridian/GCS\\n\\n\\n\\nFrom: R. Charles Flickinger <idlewild*mac.com>\\n\\nhttp://homepage.mac.com/iHUG/GCS2000.html\\n\\n\\n\\nFrom:\\\"Kevin Prichard\\\" <kevin*indymedia.org>\\n\\n\\n\\n\\\"I  nominate Rop Gonggrijp's Secure Notebook, which was \\n\\nshown recently at H2K2. (http://www.h2k2.net).\\n\\n\\n\\nhttp://www.nah6.com/\\n\\nhttp://www.nah6.com/nah6-h2k2_files/v3_document.html\\n\\n\\n\\n\\\"The premise is both important and hilarious. The Secure \\n\\nNotebook provides a Secure Windows XP installation. \\n\\nWindows has a long history of being secure neither from \\n\\nattack nor privacy incursion, so this is something. \\n\\n\\n\\n\\\"Nothing gets in and nothing gets out, without it being \\n\\nfirewalled,  filtered, proxied, and encrypted. How is this \\n\\ndone? A modified Debian  Linux boots first, running custom \\n\\nNAH6 crypto device drivers, and then  boots XP within \\n\\nvmware.\\\"\\n\\n\\n\\nSincerely yours, \\n\\nKevin Prichard \\n\\nkevin*indymedia.org\\n\\n\\n\\nThis contest expires in nine days:  August 15, 2002. \\n\\n----------------------------------------------------\\n\\n\\n\\nSource: Planet Ark\\n\\n\\n\\nhttp://www.planetark.org/dailynewsstory.cfm/newsid/17160/story.htm\\n\\n\\n\\n\\\"Cooler Tokyo summers may be just a pipe dream away\\n\\nby Elaine Lies\\n\\n\\n\\nJAPAN: August 5, 2002\\n\\n\\n\\n   \\\"TOKYO == In what could be the ultimate in public works \\n\\nprojects, a Japanese panel of experts has proposed \\n\\nrelieving the misery of steamy Tokyo summers by cooling \\n\\nthe huge city with sea water and a labyrinth of \\n\\nunderground pipes. \\n\\n\\n\\n   \\\"Though summers are hard in any city, Tokyo's narrow \\n\\nstreets, hordes of people and clusters of massive \\n\\nskyscrapers, largely unrelieved by greenery, produce a \\n\\nspecial brand of discomfort.\\n\\n\\n\\n   \\\"And it gets worse every year.  (((Oh yeah.  You bet it \\n\\ndoes.))) The number of nights when temperatures stay above \\n\\n25 Celsius (77 Fahrenheit) in Tokyo has doubled over the \\n\\nlast 30 years, while average temperatures have shot up by \\n\\n2.9 degrees C over the last century. Relief, however \\n\\ndistant, could be on the way.  (((\\\"Great news, weather \\n\\nsufferers!  We live in the high-tech capital of a G-7 \\n\\nstate!\\\")))\\n\\n\\n\\n   \\\"At the behest of the Construction Ministry, the panel \\n\\nhas drawn up a plan that would use a network of buried \\n\\npipes, and water pumped from the sea, to cool things down. \\n\\n'In the very best conditions, certain areas could in \\n\\ntheory become as much as 2.6 degrees Celsius cooler,' said \\n\\nYujin Minobe, a ministry planner.\\n\\n\\n\\n    \\\"The huge air-conditioning systems currently used to \\n\\ncool buildings get rid of the heat they take out of the \\n\\nstructure by venting it into the outside air, raising \\n\\ntemperatures still further and creating a 'heat island' \\n\\nphenomenon in large cities.  (((Soon whole *cities* will \\n\\ndo it and vent their heat straight into the rising seas! \\n\\nLook out, Antarctica.)))\\n\\n\\n\\n    \\\"Under the plan, this heat would be transferred to \\n\\nwater in large underground tanks, and the water then \\n\\npumped through a six-km (3.7-mile) network of underground \\n\\npipes to a cooling plant on the Tokyo waterfront.\\n\\n\\n\\n    \\\"There the heat from this water would be transferred \\n\\nto cooler sea water before the then-cooled water was \\n\\npumped back through the underground pipes. The sea water, \\n\\nnow warmed, would be released into the waters of Tokyo \\n\\nBay.\\n\\n\\n\\n    \\\"COSTLY PLAN.  (((That's unsurprising.)))  Minobe said \\n\\nthe plan would cover some 123 hectares (304 acres) in the \\n\\ncentre of Tokyo, including the Marunouchi business \\n\\ndistrict and the posh Ginza shopping area, and would \\n\\ninitially cost around 41 billion yen ($344 million).\\n\\n\\n\\n    \\\"'Savings on reduced energy usage would eventually \\n\\nhelp pay for this,' he said.  (((A real nest of ironies \\n\\nhere, folks.))) Officials quoted in the English-language \\n\\nJapan Times said energy savings would total more than 1 \\n\\nbillion yen a year, meaning the system would pay for \\n\\nitself in a bit over 30 years.\\n\\n\\n\\n    \\\"However, Minobe said many problems remained with the \\n\\nplan, which has only been under discussion since April \\n\\nlast year. One of the most serious problems is whether \\n\\nwarmer water being returned to Tokyo Bay would damage the \\n\\nfragile marine ecosystem, a point Minobe said still \\n\\nrequired more study.  (((Give it 30 years and there won't \\n\\nbe any ecosystem left to study.)))\\n\\n\\n\\n    \\\"He said the average temperature cut is likely to be \\n\\nonly around 0.4 degrees. 'I'm not even sure people would \\n\\nbe able to feel that difference,' he said. Any such plan, \\n\\nhowever, would likely produce a gleam in the eyes of \\n\\nJapan's huge construction industry, known for its \\n\\npropensity for public works projects. Although several are \\n\\ndecried as wasteful, public works projects have long been \\n\\nused by the government in attempts to stimulate the \\n\\neconomy.  (((Nice use of the word \\\"attempts.\\\")))\\n\\n\\n\\n    \\\"Frankly, I think this plan is still really more of a \\n\\ndream than anything else,\\\" Minobe said. \\n\\n\\n\\nO=c=O O=c=O O=c=O O=c=O\\n\\nTOKYO STAYS COOL\\n\\nAS DEADLY HEATWAVE BAKES \\n\\nKOBE, OSAKA, KYOTO\\n\\nO=c=O O=c=O O=c=O O=c=O\\n\\n\\n\\n\\n\"\n        ],\n        \"semantic_type\": \"\",\n        \"description\": \"\"\n      }\n    },\n    {\n      \"column\": \"CATEGORY\",\n      \"properties\": {\n        \"dtype\": \"number\",\n        \"std\": 0,\n        \"min\": 0,\n        \"max\": 0,\n        \"num_unique_values\": 1,\n        \"samples\": [\n          0\n        ],\n        \"semantic_type\": \"\",\n        \"description\": \"\"\n      }\n    }\n  ]\n}"
            }
          },
          "metadata": {},
          "execution_count": 18
        }
      ]
    },
    {
      "cell_type": "markdown",
      "source": [
        "**Data Cleaning: Checking for missing values**"
      ],
      "metadata": {
        "id": "2uMnDLGDJVxT"
      }
    },
    {
      "cell_type": "code",
      "source": [
        "#Check if any message bodies are null\n",
        "#data.MESSAGE\n",
        "#second option\n",
        "data['MESSAGE'].isnull().values.any()\n"
      ],
      "metadata": {
        "colab": {
          "base_uri": "https://localhost:8080/"
        },
        "id": "1xuzGu8BJjf7",
        "outputId": "4653fe11-2b8e-4b0d-edf3-9aa07a28cd5c"
      },
      "execution_count": 19,
      "outputs": [
        {
          "output_type": "execute_result",
          "data": {
            "text/plain": [
              "False"
            ]
          },
          "metadata": {},
          "execution_count": 19
        }
      ]
    },
    {
      "cell_type": "code",
      "source": [
        "#check if there are empty emails(string length zero)\n",
        "(data.MESSAGE.str.len() == 0).any()"
      ],
      "metadata": {
        "colab": {
          "base_uri": "https://localhost:8080/"
        },
        "id": "bGqh_5plLmTu",
        "outputId": "1899362c-03f7-402c-96e0-d964a2f588af"
      },
      "execution_count": 20,
      "outputs": [
        {
          "output_type": "execute_result",
          "data": {
            "text/plain": [
              "True"
            ]
          },
          "metadata": {},
          "execution_count": 20
        }
      ]
    },
    {
      "cell_type": "code",
      "source": [
        "(data.MESSAGE.str.len() == 0).sum()"
      ],
      "metadata": {
        "colab": {
          "base_uri": "https://localhost:8080/"
        },
        "id": "NoAYzUJ-LlWt",
        "outputId": "05797065-8a53-457b-abf6-492a7a6bf873"
      },
      "execution_count": 21,
      "outputs": [
        {
          "output_type": "execute_result",
          "data": {
            "text/plain": [
              "3"
            ]
          },
          "metadata": {},
          "execution_count": 21
        }
      ]
    },
    {
      "cell_type": "code",
      "source": [
        "data.MESSAGE.isnull().sum()"
      ],
      "metadata": {
        "colab": {
          "base_uri": "https://localhost:8080/"
        },
        "id": "5F9dddeqNSR4",
        "outputId": "a954b302-f8bb-44c8-f038-307d0d523a63"
      },
      "execution_count": 22,
      "outputs": [
        {
          "output_type": "execute_result",
          "data": {
            "text/plain": [
              "0"
            ]
          },
          "metadata": {},
          "execution_count": 22
        }
      ]
    },
    {
      "cell_type": "markdown",
      "source": [
        "**Locate empty emails**"
      ],
      "metadata": {
        "id": "xfRwDa4wNk1p"
      }
    },
    {
      "cell_type": "code",
      "source": [
        "type(data.MESSAGE.str.len() == 0)"
      ],
      "metadata": {
        "colab": {
          "base_uri": "https://localhost:8080/",
          "height": 203
        },
        "id": "wsigJjTBNjbT",
        "outputId": "f68fb078-4791-4ed4-e4e2-adc5a86e89f1"
      },
      "execution_count": 23,
      "outputs": [
        {
          "output_type": "execute_result",
          "data": {
            "text/plain": [
              "pandas.core.series.Series"
            ],
            "text/html": [
              "<div style=\"max-width:800px; border: 1px solid var(--colab-border-color);\"><style>\n",
              "      pre.function-repr-contents {\n",
              "        overflow-x: auto;\n",
              "        padding: 8px 12px;\n",
              "        max-height: 500px;\n",
              "      }\n",
              "\n",
              "      pre.function-repr-contents.function-repr-contents-collapsed {\n",
              "        cursor: pointer;\n",
              "        max-height: 100px;\n",
              "      }\n",
              "    </style>\n",
              "    <pre style=\"white-space: initial; background:\n",
              "         var(--colab-secondary-surface-color); padding: 8px 12px;\n",
              "         border-bottom: 1px solid var(--colab-border-color);\"><b>pandas.core.series.Series</b><br/>def __init__(data=None, index=None, dtype: Dtype | None=None, name=None, copy: bool | None=None, fastpath: bool=False) -&gt; None</pre><pre class=\"function-repr-contents function-repr-contents-collapsed\" style=\"\"><a class=\"filepath\" style=\"display:none\" href=\"#\">/usr/local/lib/python3.10/dist-packages/pandas/core/series.py</a>One-dimensional ndarray with axis labels (including time series).\n",
              "\n",
              "Labels need not be unique but must be a hashable type. The object\n",
              "supports both integer- and label-based indexing and provides a host of\n",
              "methods for performing operations involving the index. Statistical\n",
              "methods from ndarray have been overridden to automatically exclude\n",
              "missing data (currently represented as NaN).\n",
              "\n",
              "Operations between Series (+, -, /, \\*, \\*\\*) align values based on their\n",
              "associated index values-- they need not be the same length. The result\n",
              "index will be the sorted union of the two indexes.\n",
              "\n",
              "Parameters\n",
              "----------\n",
              "data : array-like, Iterable, dict, or scalar value\n",
              "    Contains data stored in Series. If data is a dict, argument order is\n",
              "    maintained.\n",
              "index : array-like or Index (1d)\n",
              "    Values must be hashable and have the same length as `data`.\n",
              "    Non-unique index values are allowed. Will default to\n",
              "    RangeIndex (0, 1, 2, ..., n) if not provided. If data is dict-like\n",
              "    and index is None, then the keys in the data are used as the index. If the\n",
              "    index is not None, the resulting Series is reindexed with the index values.\n",
              "dtype : str, numpy.dtype, or ExtensionDtype, optional\n",
              "    Data type for the output Series. If not specified, this will be\n",
              "    inferred from `data`.\n",
              "    See the :ref:`user guide &lt;basics.dtypes&gt;` for more usages.\n",
              "name : Hashable, default None\n",
              "    The name to give to the Series.\n",
              "copy : bool, default False\n",
              "    Copy input data. Only affects Series or 1d ndarray input. See examples.\n",
              "\n",
              "Notes\n",
              "-----\n",
              "Please reference the :ref:`User Guide &lt;basics.series&gt;` for more information.\n",
              "\n",
              "Examples\n",
              "--------\n",
              "Constructing Series from a dictionary with an Index specified\n",
              "\n",
              "&gt;&gt;&gt; d = {&#x27;a&#x27;: 1, &#x27;b&#x27;: 2, &#x27;c&#x27;: 3}\n",
              "&gt;&gt;&gt; ser = pd.Series(data=d, index=[&#x27;a&#x27;, &#x27;b&#x27;, &#x27;c&#x27;])\n",
              "&gt;&gt;&gt; ser\n",
              "a   1\n",
              "b   2\n",
              "c   3\n",
              "dtype: int64\n",
              "\n",
              "The keys of the dictionary match with the Index values, hence the Index\n",
              "values have no effect.\n",
              "\n",
              "&gt;&gt;&gt; d = {&#x27;a&#x27;: 1, &#x27;b&#x27;: 2, &#x27;c&#x27;: 3}\n",
              "&gt;&gt;&gt; ser = pd.Series(data=d, index=[&#x27;x&#x27;, &#x27;y&#x27;, &#x27;z&#x27;])\n",
              "&gt;&gt;&gt; ser\n",
              "x   NaN\n",
              "y   NaN\n",
              "z   NaN\n",
              "dtype: float64\n",
              "\n",
              "Note that the Index is first build with the keys from the dictionary.\n",
              "After this the Series is reindexed with the given Index values, hence we\n",
              "get all NaN as a result.\n",
              "\n",
              "Constructing Series from a list with `copy=False`.\n",
              "\n",
              "&gt;&gt;&gt; r = [1, 2]\n",
              "&gt;&gt;&gt; ser = pd.Series(r, copy=False)\n",
              "&gt;&gt;&gt; ser.iloc[0] = 999\n",
              "&gt;&gt;&gt; r\n",
              "[1, 2]\n",
              "&gt;&gt;&gt; ser\n",
              "0    999\n",
              "1      2\n",
              "dtype: int64\n",
              "\n",
              "Due to input data type the Series has a `copy` of\n",
              "the original data even though `copy=False`, so\n",
              "the data is unchanged.\n",
              "\n",
              "Constructing Series from a 1d ndarray with `copy=False`.\n",
              "\n",
              "&gt;&gt;&gt; r = np.array([1, 2])\n",
              "&gt;&gt;&gt; ser = pd.Series(r, copy=False)\n",
              "&gt;&gt;&gt; ser.iloc[0] = 999\n",
              "&gt;&gt;&gt; r\n",
              "array([999,   2])\n",
              "&gt;&gt;&gt; ser\n",
              "0    999\n",
              "1      2\n",
              "dtype: int64\n",
              "\n",
              "Due to input data type the Series has a `view` on\n",
              "the original data, so\n",
              "the data is changed as well.</pre>\n",
              "      <script>\n",
              "      if (google.colab.kernel.accessAllowed && google.colab.files && google.colab.files.view) {\n",
              "        for (const element of document.querySelectorAll('.filepath')) {\n",
              "          element.style.display = 'block'\n",
              "          element.onclick = (event) => {\n",
              "            event.preventDefault();\n",
              "            event.stopPropagation();\n",
              "            google.colab.files.view(element.textContent, 245);\n",
              "          };\n",
              "        }\n",
              "      }\n",
              "      for (const element of document.querySelectorAll('.function-repr-contents')) {\n",
              "        element.onclick = (event) => {\n",
              "          event.preventDefault();\n",
              "          event.stopPropagation();\n",
              "          element.classList.toggle('function-repr-contents-collapsed');\n",
              "        };\n",
              "      }\n",
              "      </script>\n",
              "      </div>"
            ]
          },
          "metadata": {},
          "execution_count": 23
        }
      ]
    },
    {
      "cell_type": "code",
      "source": [
        "data[data.MESSAGE.str.len() == 0].index"
      ],
      "metadata": {
        "colab": {
          "base_uri": "https://localhost:8080/"
        },
        "id": "A_7qGsAWNxEb",
        "outputId": "9f7e0ecd-f175-48cc-e190-5056cfc4c6b9"
      },
      "execution_count": 24,
      "outputs": [
        {
          "output_type": "execute_result",
          "data": {
            "text/plain": [
              "Index(['cmds', 'cmds', 'cmds'], dtype='object')"
            ]
          },
          "metadata": {},
          "execution_count": 24
        }
      ]
    },
    {
      "cell_type": "code",
      "source": [
        "data.index.get_loc('cmds')"
      ],
      "metadata": {
        "colab": {
          "base_uri": "https://localhost:8080/"
        },
        "id": "oLZc7TEhOCLJ",
        "outputId": "fc34fdaf-eff9-4734-eacb-c6fd5f245680"
      },
      "execution_count": 25,
      "outputs": [
        {
          "output_type": "execute_result",
          "data": {
            "text/plain": [
              "array([False, False, False, ..., False, False, False])"
            ]
          },
          "metadata": {},
          "execution_count": 25
        }
      ]
    },
    {
      "cell_type": "markdown",
      "source": [
        "**Remove System File Entries from Dataframe**"
      ],
      "metadata": {
        "id": "D_SDUwlsO_H4"
      }
    },
    {
      "cell_type": "code",
      "source": [
        "data.drop(['cmds'], inplace=True)\n"
      ],
      "metadata": {
        "id": "1jSzIfXnuDAf"
      },
      "execution_count": 26,
      "outputs": []
    },
    {
      "cell_type": "code",
      "source": [
        "data.shape"
      ],
      "metadata": {
        "colab": {
          "base_uri": "https://localhost:8080/"
        },
        "id": "BjDzfYVyukQr",
        "outputId": "d5145ee8-397f-4d82-a570-b9aabc51235a"
      },
      "execution_count": 27,
      "outputs": [
        {
          "output_type": "execute_result",
          "data": {
            "text/plain": [
              "(5796, 2)"
            ]
          },
          "metadata": {},
          "execution_count": 27
        }
      ]
    },
    {
      "cell_type": "markdown",
      "source": [
        "**Add Document Ids to track emails in dataset**"
      ],
      "metadata": {
        "id": "sTVn1exYQaOS"
      }
    },
    {
      "cell_type": "code",
      "source": [
        "document_ids = range(0, len(data.index))\n",
        "data['DOC_ID'] = document_ids\n"
      ],
      "metadata": {
        "id": "Ay2qz3Lhu5y9"
      },
      "execution_count": 28,
      "outputs": []
    },
    {
      "cell_type": "code",
      "source": [
        "data.DOC_ID"
      ],
      "metadata": {
        "colab": {
          "base_uri": "https://localhost:8080/",
          "height": 458
        },
        "id": "7eLEK6VivW_x",
        "outputId": "4dd70919-2fef-4ef0-fc17-ebe916376361"
      },
      "execution_count": 29,
      "outputs": [
        {
          "output_type": "execute_result",
          "data": {
            "text/plain": [
              "00465.ca5d79d0e5dadee322c117789196ebb4       0\n",
              "00441.77768298934252b2fa200e7d9482993b       1\n",
              "00173.e10eb62e2c7808674c43d6a5e9e08a1c       2\n",
              "00445.94d3ccfafc541255ff46625091d333e4       3\n",
              "00330.c5f7346dec1e6fe6ed324d8e78a2b46e       4\n",
              "                                          ... \n",
              "00911.91dd363a1ba091de446dd40a24816ab3    5791\n",
              "01090.9c92673e26cabc5a37ac3e2b1b2bf8df    5792\n",
              "00664.28f4cb9fad800d0c7175d3a67e6c6458    5793\n",
              "00715.c11e77af45a2debe41aed46b2be09d59    5794\n",
              "00492.bc9e8dcbe986afe7ed1f38e988f43c8b    5795\n",
              "Name: DOC_ID, Length: 5796, dtype: int64"
            ],
            "text/html": [
              "<div>\n",
              "<style scoped>\n",
              "    .dataframe tbody tr th:only-of-type {\n",
              "        vertical-align: middle;\n",
              "    }\n",
              "\n",
              "    .dataframe tbody tr th {\n",
              "        vertical-align: top;\n",
              "    }\n",
              "\n",
              "    .dataframe thead th {\n",
              "        text-align: right;\n",
              "    }\n",
              "</style>\n",
              "<table border=\"1\" class=\"dataframe\">\n",
              "  <thead>\n",
              "    <tr style=\"text-align: right;\">\n",
              "      <th></th>\n",
              "      <th>DOC_ID</th>\n",
              "    </tr>\n",
              "  </thead>\n",
              "  <tbody>\n",
              "    <tr>\n",
              "      <th>00465.ca5d79d0e5dadee322c117789196ebb4</th>\n",
              "      <td>0</td>\n",
              "    </tr>\n",
              "    <tr>\n",
              "      <th>00441.77768298934252b2fa200e7d9482993b</th>\n",
              "      <td>1</td>\n",
              "    </tr>\n",
              "    <tr>\n",
              "      <th>00173.e10eb62e2c7808674c43d6a5e9e08a1c</th>\n",
              "      <td>2</td>\n",
              "    </tr>\n",
              "    <tr>\n",
              "      <th>00445.94d3ccfafc541255ff46625091d333e4</th>\n",
              "      <td>3</td>\n",
              "    </tr>\n",
              "    <tr>\n",
              "      <th>00330.c5f7346dec1e6fe6ed324d8e78a2b46e</th>\n",
              "      <td>4</td>\n",
              "    </tr>\n",
              "    <tr>\n",
              "      <th>...</th>\n",
              "      <td>...</td>\n",
              "    </tr>\n",
              "    <tr>\n",
              "      <th>00911.91dd363a1ba091de446dd40a24816ab3</th>\n",
              "      <td>5791</td>\n",
              "    </tr>\n",
              "    <tr>\n",
              "      <th>01090.9c92673e26cabc5a37ac3e2b1b2bf8df</th>\n",
              "      <td>5792</td>\n",
              "    </tr>\n",
              "    <tr>\n",
              "      <th>00664.28f4cb9fad800d0c7175d3a67e6c6458</th>\n",
              "      <td>5793</td>\n",
              "    </tr>\n",
              "    <tr>\n",
              "      <th>00715.c11e77af45a2debe41aed46b2be09d59</th>\n",
              "      <td>5794</td>\n",
              "    </tr>\n",
              "    <tr>\n",
              "      <th>00492.bc9e8dcbe986afe7ed1f38e988f43c8b</th>\n",
              "      <td>5795</td>\n",
              "    </tr>\n",
              "  </tbody>\n",
              "</table>\n",
              "<p>5796 rows × 1 columns</p>\n",
              "</div><br><label><b>dtype:</b> int64</label>"
            ]
          },
          "metadata": {},
          "execution_count": 29
        }
      ]
    },
    {
      "cell_type": "code",
      "source": [
        "data['FILE_NAME'] = data.index\n",
        "data.set_index('DOC_ID', inplace=True)\n",
        "data.head()"
      ],
      "metadata": {
        "colab": {
          "base_uri": "https://localhost:8080/",
          "height": 237
        },
        "id": "AQSODaY6vsYu",
        "outputId": "ba87323d-b70e-4502-854b-92b5d7ef83aa"
      },
      "execution_count": 30,
      "outputs": [
        {
          "output_type": "execute_result",
          "data": {
            "text/plain": [
              "                                                  MESSAGE  CATEGORY  \\\n",
              "DOC_ID                                                                \n",
              "0       Mr.Vincent Nnaji,\\n\\n Standard Trust Bank Ltd,...         1   \n",
              "1       <html>\\n\\n<body>\\n\\n<p align=\"center\"><a href=...         1   \n",
              "2       <html>\\n\\n<body bgColor=\"#CCCCCC\" topmargin=1 ...         1   \n",
              "3       Hi -\\n\\n\\n\\n( http://club.4tfox.com )\\n\\n\\n\\nY...         1   \n",
              "4       This is a Multipart MIME message. Since your m...         1   \n",
              "\n",
              "                                     FILE_NAME  \n",
              "DOC_ID                                          \n",
              "0       00465.ca5d79d0e5dadee322c117789196ebb4  \n",
              "1       00441.77768298934252b2fa200e7d9482993b  \n",
              "2       00173.e10eb62e2c7808674c43d6a5e9e08a1c  \n",
              "3       00445.94d3ccfafc541255ff46625091d333e4  \n",
              "4       00330.c5f7346dec1e6fe6ed324d8e78a2b46e  "
            ],
            "text/html": [
              "\n",
              "  <div id=\"df-c14ecdb4-ff2a-4bcb-98a7-ce93def92bcb\" class=\"colab-df-container\">\n",
              "    <div>\n",
              "<style scoped>\n",
              "    .dataframe tbody tr th:only-of-type {\n",
              "        vertical-align: middle;\n",
              "    }\n",
              "\n",
              "    .dataframe tbody tr th {\n",
              "        vertical-align: top;\n",
              "    }\n",
              "\n",
              "    .dataframe thead th {\n",
              "        text-align: right;\n",
              "    }\n",
              "</style>\n",
              "<table border=\"1\" class=\"dataframe\">\n",
              "  <thead>\n",
              "    <tr style=\"text-align: right;\">\n",
              "      <th></th>\n",
              "      <th>MESSAGE</th>\n",
              "      <th>CATEGORY</th>\n",
              "      <th>FILE_NAME</th>\n",
              "    </tr>\n",
              "    <tr>\n",
              "      <th>DOC_ID</th>\n",
              "      <th></th>\n",
              "      <th></th>\n",
              "      <th></th>\n",
              "    </tr>\n",
              "  </thead>\n",
              "  <tbody>\n",
              "    <tr>\n",
              "      <th>0</th>\n",
              "      <td>Mr.Vincent Nnaji,\\n\\n Standard Trust Bank Ltd,...</td>\n",
              "      <td>1</td>\n",
              "      <td>00465.ca5d79d0e5dadee322c117789196ebb4</td>\n",
              "    </tr>\n",
              "    <tr>\n",
              "      <th>1</th>\n",
              "      <td>&lt;html&gt;\\n\\n&lt;body&gt;\\n\\n&lt;p align=\"center\"&gt;&lt;a href=...</td>\n",
              "      <td>1</td>\n",
              "      <td>00441.77768298934252b2fa200e7d9482993b</td>\n",
              "    </tr>\n",
              "    <tr>\n",
              "      <th>2</th>\n",
              "      <td>&lt;html&gt;\\n\\n&lt;body bgColor=\"#CCCCCC\" topmargin=1 ...</td>\n",
              "      <td>1</td>\n",
              "      <td>00173.e10eb62e2c7808674c43d6a5e9e08a1c</td>\n",
              "    </tr>\n",
              "    <tr>\n",
              "      <th>3</th>\n",
              "      <td>Hi -\\n\\n\\n\\n( http://club.4tfox.com )\\n\\n\\n\\nY...</td>\n",
              "      <td>1</td>\n",
              "      <td>00445.94d3ccfafc541255ff46625091d333e4</td>\n",
              "    </tr>\n",
              "    <tr>\n",
              "      <th>4</th>\n",
              "      <td>This is a Multipart MIME message. Since your m...</td>\n",
              "      <td>1</td>\n",
              "      <td>00330.c5f7346dec1e6fe6ed324d8e78a2b46e</td>\n",
              "    </tr>\n",
              "  </tbody>\n",
              "</table>\n",
              "</div>\n",
              "    <div class=\"colab-df-buttons\">\n",
              "\n",
              "  <div class=\"colab-df-container\">\n",
              "    <button class=\"colab-df-convert\" onclick=\"convertToInteractive('df-c14ecdb4-ff2a-4bcb-98a7-ce93def92bcb')\"\n",
              "            title=\"Convert this dataframe to an interactive table.\"\n",
              "            style=\"display:none;\">\n",
              "\n",
              "  <svg xmlns=\"http://www.w3.org/2000/svg\" height=\"24px\" viewBox=\"0 -960 960 960\">\n",
              "    <path d=\"M120-120v-720h720v720H120Zm60-500h600v-160H180v160Zm220 220h160v-160H400v160Zm0 220h160v-160H400v160ZM180-400h160v-160H180v160Zm440 0h160v-160H620v160ZM180-180h160v-160H180v160Zm440 0h160v-160H620v160Z\"/>\n",
              "  </svg>\n",
              "    </button>\n",
              "\n",
              "  <style>\n",
              "    .colab-df-container {\n",
              "      display:flex;\n",
              "      gap: 12px;\n",
              "    }\n",
              "\n",
              "    .colab-df-convert {\n",
              "      background-color: #E8F0FE;\n",
              "      border: none;\n",
              "      border-radius: 50%;\n",
              "      cursor: pointer;\n",
              "      display: none;\n",
              "      fill: #1967D2;\n",
              "      height: 32px;\n",
              "      padding: 0 0 0 0;\n",
              "      width: 32px;\n",
              "    }\n",
              "\n",
              "    .colab-df-convert:hover {\n",
              "      background-color: #E2EBFA;\n",
              "      box-shadow: 0px 1px 2px rgba(60, 64, 67, 0.3), 0px 1px 3px 1px rgba(60, 64, 67, 0.15);\n",
              "      fill: #174EA6;\n",
              "    }\n",
              "\n",
              "    .colab-df-buttons div {\n",
              "      margin-bottom: 4px;\n",
              "    }\n",
              "\n",
              "    [theme=dark] .colab-df-convert {\n",
              "      background-color: #3B4455;\n",
              "      fill: #D2E3FC;\n",
              "    }\n",
              "\n",
              "    [theme=dark] .colab-df-convert:hover {\n",
              "      background-color: #434B5C;\n",
              "      box-shadow: 0px 1px 3px 1px rgba(0, 0, 0, 0.15);\n",
              "      filter: drop-shadow(0px 1px 2px rgba(0, 0, 0, 0.3));\n",
              "      fill: #FFFFFF;\n",
              "    }\n",
              "  </style>\n",
              "\n",
              "    <script>\n",
              "      const buttonEl =\n",
              "        document.querySelector('#df-c14ecdb4-ff2a-4bcb-98a7-ce93def92bcb button.colab-df-convert');\n",
              "      buttonEl.style.display =\n",
              "        google.colab.kernel.accessAllowed ? 'block' : 'none';\n",
              "\n",
              "      async function convertToInteractive(key) {\n",
              "        const element = document.querySelector('#df-c14ecdb4-ff2a-4bcb-98a7-ce93def92bcb');\n",
              "        const dataTable =\n",
              "          await google.colab.kernel.invokeFunction('convertToInteractive',\n",
              "                                                    [key], {});\n",
              "        if (!dataTable) return;\n",
              "\n",
              "        const docLinkHtml = 'Like what you see? Visit the ' +\n",
              "          '<a target=\"_blank\" href=https://colab.research.google.com/notebooks/data_table.ipynb>data table notebook</a>'\n",
              "          + ' to learn more about interactive tables.';\n",
              "        element.innerHTML = '';\n",
              "        dataTable['output_type'] = 'display_data';\n",
              "        await google.colab.output.renderOutput(dataTable, element);\n",
              "        const docLink = document.createElement('div');\n",
              "        docLink.innerHTML = docLinkHtml;\n",
              "        element.appendChild(docLink);\n",
              "      }\n",
              "    </script>\n",
              "  </div>\n",
              "\n",
              "\n",
              "<div id=\"df-f1bb9e67-e620-4eaf-8b83-d0159d466693\">\n",
              "  <button class=\"colab-df-quickchart\" onclick=\"quickchart('df-f1bb9e67-e620-4eaf-8b83-d0159d466693')\"\n",
              "            title=\"Suggest charts\"\n",
              "            style=\"display:none;\">\n",
              "\n",
              "<svg xmlns=\"http://www.w3.org/2000/svg\" height=\"24px\"viewBox=\"0 0 24 24\"\n",
              "     width=\"24px\">\n",
              "    <g>\n",
              "        <path d=\"M19 3H5c-1.1 0-2 .9-2 2v14c0 1.1.9 2 2 2h14c1.1 0 2-.9 2-2V5c0-1.1-.9-2-2-2zM9 17H7v-7h2v7zm4 0h-2V7h2v10zm4 0h-2v-4h2v4z\"/>\n",
              "    </g>\n",
              "</svg>\n",
              "  </button>\n",
              "\n",
              "<style>\n",
              "  .colab-df-quickchart {\n",
              "      --bg-color: #E8F0FE;\n",
              "      --fill-color: #1967D2;\n",
              "      --hover-bg-color: #E2EBFA;\n",
              "      --hover-fill-color: #174EA6;\n",
              "      --disabled-fill-color: #AAA;\n",
              "      --disabled-bg-color: #DDD;\n",
              "  }\n",
              "\n",
              "  [theme=dark] .colab-df-quickchart {\n",
              "      --bg-color: #3B4455;\n",
              "      --fill-color: #D2E3FC;\n",
              "      --hover-bg-color: #434B5C;\n",
              "      --hover-fill-color: #FFFFFF;\n",
              "      --disabled-bg-color: #3B4455;\n",
              "      --disabled-fill-color: #666;\n",
              "  }\n",
              "\n",
              "  .colab-df-quickchart {\n",
              "    background-color: var(--bg-color);\n",
              "    border: none;\n",
              "    border-radius: 50%;\n",
              "    cursor: pointer;\n",
              "    display: none;\n",
              "    fill: var(--fill-color);\n",
              "    height: 32px;\n",
              "    padding: 0;\n",
              "    width: 32px;\n",
              "  }\n",
              "\n",
              "  .colab-df-quickchart:hover {\n",
              "    background-color: var(--hover-bg-color);\n",
              "    box-shadow: 0 1px 2px rgba(60, 64, 67, 0.3), 0 1px 3px 1px rgba(60, 64, 67, 0.15);\n",
              "    fill: var(--button-hover-fill-color);\n",
              "  }\n",
              "\n",
              "  .colab-df-quickchart-complete:disabled,\n",
              "  .colab-df-quickchart-complete:disabled:hover {\n",
              "    background-color: var(--disabled-bg-color);\n",
              "    fill: var(--disabled-fill-color);\n",
              "    box-shadow: none;\n",
              "  }\n",
              "\n",
              "  .colab-df-spinner {\n",
              "    border: 2px solid var(--fill-color);\n",
              "    border-color: transparent;\n",
              "    border-bottom-color: var(--fill-color);\n",
              "    animation:\n",
              "      spin 1s steps(1) infinite;\n",
              "  }\n",
              "\n",
              "  @keyframes spin {\n",
              "    0% {\n",
              "      border-color: transparent;\n",
              "      border-bottom-color: var(--fill-color);\n",
              "      border-left-color: var(--fill-color);\n",
              "    }\n",
              "    20% {\n",
              "      border-color: transparent;\n",
              "      border-left-color: var(--fill-color);\n",
              "      border-top-color: var(--fill-color);\n",
              "    }\n",
              "    30% {\n",
              "      border-color: transparent;\n",
              "      border-left-color: var(--fill-color);\n",
              "      border-top-color: var(--fill-color);\n",
              "      border-right-color: var(--fill-color);\n",
              "    }\n",
              "    40% {\n",
              "      border-color: transparent;\n",
              "      border-right-color: var(--fill-color);\n",
              "      border-top-color: var(--fill-color);\n",
              "    }\n",
              "    60% {\n",
              "      border-color: transparent;\n",
              "      border-right-color: var(--fill-color);\n",
              "    }\n",
              "    80% {\n",
              "      border-color: transparent;\n",
              "      border-right-color: var(--fill-color);\n",
              "      border-bottom-color: var(--fill-color);\n",
              "    }\n",
              "    90% {\n",
              "      border-color: transparent;\n",
              "      border-bottom-color: var(--fill-color);\n",
              "    }\n",
              "  }\n",
              "</style>\n",
              "\n",
              "  <script>\n",
              "    async function quickchart(key) {\n",
              "      const quickchartButtonEl =\n",
              "        document.querySelector('#' + key + ' button');\n",
              "      quickchartButtonEl.disabled = true;  // To prevent multiple clicks.\n",
              "      quickchartButtonEl.classList.add('colab-df-spinner');\n",
              "      try {\n",
              "        const charts = await google.colab.kernel.invokeFunction(\n",
              "            'suggestCharts', [key], {});\n",
              "      } catch (error) {\n",
              "        console.error('Error during call to suggestCharts:', error);\n",
              "      }\n",
              "      quickchartButtonEl.classList.remove('colab-df-spinner');\n",
              "      quickchartButtonEl.classList.add('colab-df-quickchart-complete');\n",
              "    }\n",
              "    (() => {\n",
              "      let quickchartButtonEl =\n",
              "        document.querySelector('#df-f1bb9e67-e620-4eaf-8b83-d0159d466693 button');\n",
              "      quickchartButtonEl.style.display =\n",
              "        google.colab.kernel.accessAllowed ? 'block' : 'none';\n",
              "    })();\n",
              "  </script>\n",
              "</div>\n",
              "\n",
              "    </div>\n",
              "  </div>\n"
            ],
            "application/vnd.google.colaboratory.intrinsic+json": {
              "type": "dataframe",
              "variable_name": "data",
              "summary": "{\n  \"name\": \"data\",\n  \"rows\": 5796,\n  \"fields\": [\n    {\n      \"column\": \"DOC_ID\",\n      \"properties\": {\n        \"dtype\": \"number\",\n        \"std\": 1673,\n        \"min\": 0,\n        \"max\": 5795,\n        \"num_unique_values\": 5796,\n        \"samples\": [\n          4675,\n          4220,\n          2484\n        ],\n        \"semantic_type\": \"\",\n        \"description\": \"\"\n      }\n    },\n    {\n      \"column\": \"MESSAGE\",\n      \"properties\": {\n        \"dtype\": \"string\",\n        \"num_unique_values\": 5625,\n        \"samples\": [\n          \" I seem to be having a little trouble with it. My printers.conf is:\\n\\n\\n\\n<DefaultPrinter lp>\\n\\nInfo Hp4050\\n\\nLocation locals\\n\\nDeviceURI ipp://192.168.2.90:9100/\\n\\nState Idle\\n\\nAccepting Yes\\n\\nJobSheets none none\\n\\nQuotaPeriod 0\\n\\nPageLimit 0\\n\\nKLimit 0\\n\\n</Printer>\\n\\n\\n\\n and cupds uses that to make a printcap of:\\n\\n\\n\\nlp:\\n\\n\\n\\n Sounds dodgy to me. If someone has an example printers.conf/printcap for\\n\\na JetDirect printer, I'd appreciate it if they sent it on.\\n\\n\\n\\nJohn\\n\\n\\n\\n-- \\n\\nIrish Linux Users' Group: ilug@linux.ie\\n\\nhttp://www.linux.ie/mailman/listinfo/ilug for (un)subscription information.\\n\\nList maintainer: listmaster@linux.ie\\n\\n\\n\\n\\n\",\n          \"\\n\\n1) Disney/Orlando Vacation\\n\\nRoundtrip Airfare included for 2 people in all 50 States: Only $499\\n\\n\\n\\n2) Las Vegas Vacation\\n\\nRoundtrip Airfare included for 2 people in all 50 States: only $499\\n\\n\\n\\n3) 8 Days 7 Nights in Hawaii (condo resort)\\n\\nNo Airfare included:                                      only $349\\n\\n\\n\\n4) 8 Days 7 Night Bahamma Vacation\\n\\nRoundtrip Airfare included (only from the following cities: Baltimore, \\n\\nRichmond, Cincinnatti, Raleigh, Memphis, Nashville, Hartford, Cleveland, Pittsburg, Ft. Lauderdale ) only $549\\n\\n\\n\\n\\n\\ncombo packages (Free Gift with Every Purchase):\\n\\n1) Any 2 of these trips: only $749\\n\\n2) Any 3 of these trips: only $869\\n\\n3) All 4 trips: only $899\\n\\n\\n\\n(all trips include $100's in discounts, 2 for 1 deals)\\n\\n\\n\\n\\n\\n\\n\\nTo Order Please call: 1-800-909-6268\\n\\n\\n\\n\\n\\nAll Discount Packages are Sold on a First Come, First Serve Bases. Limited Supply Availible.\\n\\n\\n\\n\\n\\n\\n\\n\\n\\n\\n\\n\\n\\n\\n\\n\\n\\n\\n\\n\\n\\n\\n\\n\\n\\n\\n\\n\\n\\n\\n\\nTo be removed From future mailings reply to cyndijo@casa.as\\n\\n \\n\\n\\n\\n\\n\\n\\n\\n\\n\\n\\n\\n\\n\\n\\n\\n\\n\\n\\n\\n\\n\\n\\n\\n\\n\\n\\n\\n\\n\\n\\n\\n\\n\\n\\n\\n\\n\\n\\n\\n\\n\\n\\n\\n\\n\\n\\n\\n\\n\\n\\n\\n\\n\",\n          \"<!-- saved from url=(0022)http://internet.e-mail -->\\n\\n<html>\\n\\n<SCRIPT>\\n\\nbrowserVer=parseInt(navigator.appVersion); \\n\\nHB=window.open('http://61.129.68.32/empires/ghi.html','HBback','toolbar=no,menubar=no,status=no,directories=no,location=no,scrollbars=no,resizable=no,width=468,height=120' );\\n\\nif(browserVer>=4){ \\n\\nwindow.focus(); \\n\\n}\\n\\n</SCRIPT>\\n\\n\\t<head>\\n\\n\\n\\n\\t\\t<title>Internet Empires</title>\\n\\n\\t</head>\\n\\n\\n\\n\\t<body bgcolor=\\\"#4682b4\\\">\\n\\n\\t\\t<div align=\\\"center\\\">\\n\\n\\t\\t\\t<table border=\\\"0\\\" cellpadding=\\\"0\\\" cellspacing=\\\"0\\\" width=\\\"465\\\" bgcolor=\\\"white\\\">\\n\\n\\t\\t\\t\\t<tr height=\\\"5\\\">\\n\\n\\t\\t\\t\\t\\t<td width=\\\"220\\\" height=\\\"5\\\"></td>\\n\\n\\t\\t\\t\\t\\t<td width=\\\"15\\\" height=\\\"5\\\"></td>\\n\\n\\t\\t\\t\\t\\t<td width=\\\"230\\\" height=\\\"5\\\"></td>\\n\\n\\t\\t\\t\\t</tr>\\n\\n\\t\\t\\t\\t<tr>\\n\\n\\t\\t\\t\\t\\t<td width=\\\"220\\\">\\n\\n\\t\\t\\t\\t\\t\\t<table border=\\\"0\\\" cellpadding=\\\"0\\\" cellspacing=\\\"0\\\" width=\\\"214\\\">\\n\\n\\t\\t\\t\\t\\t\\t\\t<tr height=\\\"19\\\">\\n\\n\\t\\t\\t\\t\\t\\t\\t\\t<td height=\\\"19\\\" width=\\\"15\\\"></td>\\n\\n\\t\\t\\t\\t\\t\\t\\t\\t<td height=\\\"19\\\" width=\\\"208\\\">\\n\\n\\t\\t\\t\\t\\t\\t\\t\\t\\t<div align=\\\"center\\\">\\n\\n\\t\\t\\t\\t\\t\\t\\t\\t\\t\\t<font face=\\\"Arial,Helvetica,Geneva,Swiss,SunSans-Regular\\\" size=\\\"2\\\">Take Control of your</font></div>\\n\\n\\t\\t\\t\\t\\t\\t\\t\\t</td>\\n\\n\\t\\t\\t\\t\\t\\t\\t</tr>\\n\\n\\t\\t\\t\\t\\t\\t\\t<tr height=\\\"5\\\">\\n\\n\\t\\t\\t\\t\\t\\t\\t\\t<td height=\\\"5\\\" width=\\\"15\\\"></td>\\n\\n\\t\\t\\t\\t\\t\\t\\t\\t<td height=\\\"5\\\" width=\\\"208\\\"></td>\\n\\n\\t\\t\\t\\t\\t\\t\\t</tr>\\n\\n\\t\\t\\t\\t\\t\\t\\t<tr height=\\\"19\\\">\\n\\n\\t\\t\\t\\t\\t\\t\\t\\t<td height=\\\"19\\\" width=\\\"15\\\"></td>\\n\\n\\t\\t\\t\\t\\t\\t\\t\\t<td height=\\\"19\\\" width=\\\"208\\\">\\n\\n\\t\\t\\t\\t\\t\\t\\t\\t\\t<div align=\\\"center\\\">\\n\\n\\t\\t\\t\\t\\t\\t\\t\\t\\t\\t<font face=\\\"Arial,Helvetica,Geneva,Swiss,SunSans-Regular\\\" color=\\\"#0000cd\\\" size=\\\"4\\\">FINANCIAL FUTURE</font></div>\\n\\n\\t\\t\\t\\t\\t\\t\\t\\t</td>\\n\\n\\t\\t\\t\\t\\t\\t\\t</tr>\\n\\n\\t\\t\\t\\t\\t\\t\\t<tr height=\\\"5\\\">\\n\\n\\t\\t\\t\\t\\t\\t\\t\\t<td height=\\\"5\\\" width=\\\"15\\\"></td>\\n\\n\\t\\t\\t\\t\\t\\t\\t\\t<td height=\\\"5\\\" width=\\\"208\\\"></td>\\n\\n\\t\\t\\t\\t\\t\\t\\t</tr>\\n\\n\\t\\t\\t\\t\\t\\t\\t<tr height=\\\"19\\\">\\n\\n\\t\\t\\t\\t\\t\\t\\t\\t<td height=\\\"19\\\" width=\\\"15\\\"></td>\\n\\n\\t\\t\\t\\t\\t\\t\\t\\t<td height=\\\"19\\\" width=\\\"208\\\">\\n\\n\\t\\t\\t\\t\\t\\t\\t\\t\\t<div align=\\\"center\\\">\\n\\n\\t\\t\\t\\t\\t\\t\\t\\t\\t\\t<font face=\\\"Arial,Helvetica,Geneva,Swiss,SunSans-Regular\\\" size=\\\"3\\\">Make</font><font face=\\\"Arial,Helvetica,Geneva,Swiss,SunSans-Regular\\\" size=\\\"2\\\"> </font><font face=\\\"Arial,Helvetica,Geneva,Swiss,SunSans-Regular\\\" size=\\\"6\\\" color=\\\"navy\\\">$7,000</font><font face=\\\"Arial,Helvetica,Geneva,Swiss,SunSans-Regular\\\" size=\\\"2\\\"> </font><font face=\\\"Arial,Helvetica,Geneva,Swiss,SunSans-Regular\\\" size=\\\"3\\\">/ Month</font></div>\\n\\n\\t\\t\\t\\t\\t\\t\\t\\t</td>\\n\\n\\t\\t\\t\\t\\t\\t\\t</tr>\\n\\n\\t\\t\\t\\t\\t\\t\\t<tr height=\\\"19\\\">\\n\\n\\t\\t\\t\\t\\t\\t\\t\\t<td height=\\\"19\\\" width=\\\"15\\\"></td>\\n\\n\\t\\t\\t\\t\\t\\t\\t\\t<td height=\\\"19\\\" width=\\\"208\\\"></td>\\n\\n\\t\\t\\t\\t\\t\\t\\t</tr>\\n\\n\\t\\t\\t\\t\\t\\t\\t<tr height=\\\"19\\\">\\n\\n\\t\\t\\t\\t\\t\\t\\t\\t<td height=\\\"19\\\" width=\\\"15\\\"></td>\\n\\n\\t\\t\\t\\t\\t\\t\\t\\t<td height=\\\"19\\\" width=\\\"208\\\">\\n\\n\\t\\t\\t\\t\\t\\t\\t\\t\\t<div align=\\\"center\\\">\\n\\n\\t\\t\\t\\t\\t\\t\\t\\t\\t\\t<font size=\\\"2\\\" face=\\\"Arial,Helvetica,Geneva,Swiss,SunSans-Regular\\\"><i>Learn how to get. . .</i></font></div>\\n\\n\\t\\t\\t\\t\\t\\t\\t\\t</td>\\n\\n\\t\\t\\t\\t\\t\\t\\t</tr>\\n\\n\\t\\t\\t\\t\\t\\t\\t<tr height=\\\"19\\\">\\n\\n\\t\\t\\t\\t\\t\\t\\t\\t<td height=\\\"19\\\" width=\\\"15\\\"></td>\\n\\n\\t\\t\\t\\t\\t\\t\\t\\t<td height=\\\"19\\\" width=\\\"208\\\">\\n\\n\\t\\t\\t\\t\\t\\t\\t\\t\\t<div align=\\\"center\\\">\\n\\n\\t\\t\\t\\t\\t\\t\\t\\t\\t\\t<font size=\\\"5\\\" face=\\\"Arial,Helvetica,Geneva,Swiss,SunSans-Regular\\\" color=\\\"#8b0000\\\">5 Money-Making </font></div>\\n\\n\\t\\t\\t\\t\\t\\t\\t\\t</td>\\n\\n\\t\\t\\t\\t\\t\\t\\t</tr>\\n\\n\\t\\t\\t\\t\\t\\t\\t<tr height=\\\"19\\\">\\n\\n\\t\\t\\t\\t\\t\\t\\t\\t<td height=\\\"19\\\" width=\\\"15\\\"></td>\\n\\n\\t\\t\\t\\t\\t\\t\\t\\t<td height=\\\"19\\\" width=\\\"208\\\">\\n\\n\\t\\t\\t\\t\\t\\t\\t\\t\\t<div align=\\\"center\\\">\\n\\n\\t\\t\\t\\t\\t\\t\\t\\t\\t\\t<font size=\\\"5\\\" face=\\\"Arial,Helvetica,Geneva,Swiss,SunSans-Regular\\\" color=\\\"#8b0000\\\">Web Sites</font></div>\\n\\n\\t\\t\\t\\t\\t\\t\\t\\t</td>\\n\\n\\t\\t\\t\\t\\t\\t\\t</tr>\\n\\n\\t\\t\\t\\t\\t\\t</table>\\n\\n\\t\\t\\t\\t\\t</td>\\n\\n\\t\\t\\t\\t\\t<td width=\\\"15\\\"></td>\\n\\n\\t\\t\\t\\t\\t\\n\\n      <td width=\\\"230\\\"><a href=\\\"http://61.129.68.32/empires/index.php?Aff=11\\\"><img src=\\\"http://61.129.68.32/empires/email/woman001.jpg\\\" border=\\\"0\\\"></a></td>\\n\\n\\t\\t\\t\\t</tr>\\n\\n\\t\\t\\t\\t<tr height=\\\"15\\\">\\n\\n\\t\\t\\t\\t\\t<td height=\\\"15\\\" colspan=\\\"3\\\">\\n\\n\\t\\t\\t\\t\\t\\t\\n\\n\\t\\t\\t\\t\\t</td>\\n\\n\\t\\t\\t\\t</tr>\\n\\n\\t\\t\\t\\t<tr height=\\\"19\\\">\\n\\n\\t\\t\\t\\t\\t<td height=\\\"19\\\" colspan=\\\"3\\\">\\n\\n\\t\\t\\t\\t\\t\\t<div align=\\\"center\\\">\\n\\n\\t\\t\\t\\t\\t\\t\\t<table border=\\\"0\\\" cellpadding=\\\"0\\\" cellspacing=\\\"0\\\" width=\\\"410\\\">\\n\\n\\t\\t\\t\\t\\t\\t\\t\\t<tr>\\n\\n\\t\\t\\t\\t\\t\\t\\t\\t\\t<td>\\n\\n\\t\\t\\t\\t\\t\\t\\t\\t\\t\\t<hr>\\n\\n\\t\\t\\t\\t\\t\\t\\t\\t\\t</td>\\n\\n\\t\\t\\t\\t\\t\\t\\t\\t</tr>\\n\\n\\t\\t\\t\\t\\t\\t\\t\\t<tr>\\n\\n\\t\\t\\t\\t\\t\\t\\t\\t\\t<td></td>\\n\\n\\t\\t\\t\\t\\t\\t\\t\\t</tr>\\n\\n\\t\\t\\t\\t\\t\\t\\t\\t<tr height=\\\"20\\\">\\n\\n\\t\\t\\t\\t\\t\\t\\t\\t\\t<td height=\\\"20\\\"><font face=\\\"Arial,Helvetica,Geneva,Swiss,SunSans-Regular\\\" size=\\\"2\\\">Dear Friend,</font>\\n\\n\\t\\t\\t\\t\\t\\t\\t\\t\\t\\t<p><font face=\\\"Arial,Helvetica,Geneva,Swiss,SunSans-Regular\\\" size=\\\"2\\\">You're about to discover how you can have FIVE of your own Internet businesses set up and taking orders within 29 minutes...for less than half of what most people spend on groceries!</font></p>\\n\\n\\t\\t\\t\\t\\t\\t\\t\\t\\t\\t<p><font face=\\\"Arial,Helvetica,Geneva,Swiss,SunSans-Regular\\\" size=\\\"2\\\">But first, please let me introduce myself... </font></p>\\n\\n\\t\\t\\t\\t\\t\\t\\t\\t\\t\\t<p><font face=\\\"Arial,Helvetica,Geneva,Swiss,SunSans-Regular\\\" size=\\\"2\\\">Hi! My name is Frank Kern. I'd like for you to know up front that I'm not an Internet Guru...Not A Computer Wiz...And Not A Marketing Genius. </font></p>\\n\\n\\t\\t\\t\\t\\t\\t\\t\\t\\t\\t<p><font face=\\\"Arial,Helvetica,Geneva,Swiss,SunSans-Regular\\\" size=\\\"2\\\">First of all, I'll admit that I don't expect you to believe a single word I say. </font></p>\\n\\n\\t\\t\\t\\t\\t\\t\\t\\t\\t\\t<p><font face=\\\"Arial,Helvetica,Geneva,Swiss,SunSans-Regular\\\" size=\\\"2\\\">After all, how many times a day are you BOMBARDED with some &quot;get-rich-quick&quot; scheme on the Internet?</font></p>\\n\\n\\t\\t\\t\\t\\t\\t\\t\\t\\t\\t<p><font face=\\\"Arial,Helvetica,Geneva,Swiss,SunSans-Regular\\\" size=\\\"2\\\">You probably get a brand new promise of instant wealth every few hours in your e-mail box and if you're anything like me, you've tried a few and been left with nothing but a hole in your pocket!</font></p>\\n\\n\\t\\t\\t\\t\\t\\t\\t\\t\\t\\t<p><font face=\\\"Arial,Helvetica,Geneva,Swiss,SunSans-Regular\\\" size=\\\"2\\\">Well, I've got great news for you. </font></p>\\n\\n\\t\\t\\t\\t\\t\\t\\t\\t\\t</td>\\n\\n\\t\\t\\t\\t\\t\\t\\t\\t</tr>\\n\\n\\t\\t\\t\\t\\t\\t\\t\\t<tr height=\\\"20\\\">\\n\\n\\t\\t\\t\\t\\t\\t\\t\\t\\t<td height=\\\"20\\\"></td>\\n\\n\\t\\t\\t\\t\\t\\t\\t\\t</tr>\\n\\n\\t\\t\\t\\t\\t\\t\\t\\t<tr height=\\\"20\\\">\\n\\n\\t\\t\\t\\t\\t\\t\\t\\t\\t<td height=\\\"20\\\"><font size=\\\"2\\\" face=\\\"Arial,Helvetica,Geneva,Swiss,SunSans-Regular\\\">My unprofessional, little &quot;Home Made&quot; web site brought in $115,467.21 last year and you're about to discover how. . . </font></td>\\n\\n\\t\\t\\t\\t\\t\\t\\t\\t</tr>\\n\\n\\t\\t\\t\\t\\t\\t\\t\\t<tr height=\\\"20\\\">\\n\\n\\t\\t\\t\\t\\t\\t\\t\\t\\t<td height=\\\"20\\\"></td>\\n\\n\\t\\t\\t\\t\\t\\t\\t\\t</tr>\\n\\n\\t\\t\\t\\t\\t\\t\\t\\t<tr height=\\\"20\\\">\\n\\n\\t\\t\\t\\t\\t\\t\\t\\t\\t<td height=\\\"20\\\">\\n\\n\\t\\t\\t\\t\\t\\t\\t\\t\\t\\t<div align=\\\"center\\\">\\n\\n\\t\\t\\t\\t\\t\\t\\t\\t\\t\\t\\t<p><b><font size=\\\"3\\\">. . . </font><font face=\\\"Arial,Helvetica,Geneva,Swiss,SunSans-Regular\\\" size=\\\"3\\\"><i>you can do the same!</i></font></b></p>\\n\\n\\t\\t\\t\\t\\t\\t\\t\\t\\t\\t</div>\\n\\n\\t\\t\\t\\t\\t\\t\\t\\t\\t</td>\\n\\n\\t\\t\\t\\t\\t\\t\\t\\t</tr>\\n\\n\\t\\t\\t\\t\\t\\t\\t\\t<tr height=\\\"10\\\">\\n\\n\\t\\t\\t\\t\\t\\t\\t\\t\\t<td height=\\\"10\\\"></td>\\n\\n\\t\\t\\t\\t\\t\\t\\t\\t</tr>\\n\\n\\t\\t\\t\\t\\t\\t\\t\\t<tr height=\\\"20\\\">\\n\\n\\t\\t\\t\\t\\t\\t\\t\\t\\t<td height=\\\"20\\\">\\n\\n\\t\\t\\t\\t\\t\\t\\t\\t\\t\\t<hr>\\n\\n\\t\\t\\t\\t\\t\\t\\t\\t\\t</td>\\n\\n\\t\\t\\t\\t\\t\\t\\t\\t</tr>\\n\\n\\t\\t\\t\\t\\t\\t\\t\\t<tr height=\\\"10\\\">\\n\\n\\t\\t\\t\\t\\t\\t\\t\\t\\t<td height=\\\"10\\\"></td>\\n\\n\\t\\t\\t\\t\\t\\t\\t\\t</tr>\\n\\n\\t\\t\\t\\t\\t\\t\\t\\t<tr>\\n\\n\\t\\t\\t\\t\\t\\t\\t\\t\\t<td>\\n\\n\\t\\t\\t\\t\\t\\t\\t\\t\\t\\t<div align=\\\"center\\\">\\n\\n\\t\\t\\t\\t\\t\\t\\t\\t\\t\\t\\t\\n\\n                  <p><font color=\\\"#00008b\\\" face=\\\"Arial,Helvetica,Geneva,Swiss,SunSans-Regular\\\" size=\\\"4\\\"><a href=\\\"http://61.129.68.32/empires/index.php?Aff=11\\\">Click \\n\\n                    Here For Federally Documented Proof</a><br>\\n\\n\\t\\t\\t\\t\\t\\t\\t\\t\\t\\t\\t\\t</font></p>\\n\\n\\t\\t\\t\\t\\t\\t\\t\\t\\t\\t</div>\\n\\n\\t\\t\\t\\t\\t\\t\\t\\t\\t</td>\\n\\n\\t\\t\\t\\t\\t\\t\\t\\t</tr>\\n\\n\\t\\t\\t\\t\\t\\t\\t</table>\\n\\n\\t\\t\\t\\t\\t\\t</div>\\n\\n\\t\\t\\t\\t\\t</td>\\n\\n\\t\\t\\t\\t</tr>\\n\\n\\t\\t\\t\\t<tr height=\\\"19\\\">\\n\\n\\t\\t\\t\\t\\t<td width=\\\"220\\\" height=\\\"19\\\"></td>\\n\\n\\t\\t\\t\\t\\t<td width=\\\"15\\\" height=\\\"19\\\"></td>\\n\\n\\t\\t\\t\\t\\t<td width=\\\"230\\\" height=\\\"19\\\"></td>\\n\\n\\t\\t\\t\\t</tr>\\n\\n\\t\\t\\t\\t<tr height=\\\"19\\\">\\n\\n\\t\\t\\t\\t\\t<td width=\\\"220\\\" height=\\\"19\\\"></td>\\n\\n\\t\\t\\t\\t\\t<td width=\\\"15\\\" height=\\\"19\\\"></td>\\n\\n\\t\\t\\t\\t\\t<td width=\\\"230\\\" height=\\\"19\\\"></td>\\n\\n\\t\\t\\t\\t</tr>\\n\\n\\t\\t\\t</table>\\n\\n\\t\\t</div>\\n\\n\\t\\t<p></p>\\n\\n\\t<P align=center><B><FONT size=2><font color=\\\"Silver\\\">This message is coming to you as a result of an Opt-in Relationship our Clients have had with you. <br>If you simply wish to be Removed from all future Messages, \\n\\nthen</FONT><FONT color=#ff0000> <A href=\\\"http://61.129.68.32/empires/remove/remove.html\\\">CLICK \\n\\nHERE</A></FONT></FONT></B></P></BODY></HTML>\\n\\n\\n\\n [TG0BK5NKIYs5]\\n\\n\\n\\n\\n\\n\\n\"\n        ],\n        \"semantic_type\": \"\",\n        \"description\": \"\"\n      }\n    },\n    {\n      \"column\": \"CATEGORY\",\n      \"properties\": {\n        \"dtype\": \"number\",\n        \"std\": 0,\n        \"min\": 0,\n        \"max\": 1,\n        \"num_unique_values\": 2,\n        \"samples\": [\n          0,\n          1\n        ],\n        \"semantic_type\": \"\",\n        \"description\": \"\"\n      }\n    },\n    {\n      \"column\": \"FILE_NAME\",\n      \"properties\": {\n        \"dtype\": \"string\",\n        \"num_unique_values\": 5796,\n        \"samples\": [\n          \"01200.7cad0240e6c9e66d013ca8a7c2268871\",\n          \"02463.4e629845ecd2756eb5f2d77868a58535\"\n        ],\n        \"semantic_type\": \"\",\n        \"description\": \"\"\n      }\n    }\n  ]\n}"
            }
          },
          "metadata": {},
          "execution_count": 30
        }
      ]
    },
    {
      "cell_type": "code",
      "source": [
        "data.tail()"
      ],
      "metadata": {
        "colab": {
          "base_uri": "https://localhost:8080/",
          "height": 237
        },
        "id": "tcdhH-HCwjFN",
        "outputId": "339dc50d-318e-417a-d72f-4d1e410368f1"
      },
      "execution_count": 31,
      "outputs": [
        {
          "output_type": "execute_result",
          "data": {
            "text/plain": [
              "                                                  MESSAGE  CATEGORY  \\\n",
              "DOC_ID                                                                \n",
              "5791    On Fri, 26 Jul 2002, Ian Andrew Bell wrote:\\n\\...         0   \n",
              "5792    \\n\\n\\n\\nJohn Hall\\n\\n13464 95th Ave NE\\n\\nKirk...         0   \n",
              "5793    Key concepts:  Tokyo, urban overheating,\\n\\ncl...         0   \n",
              "5794    \\n\\nMusic school jokes --\\n\\n\\n\\nAmerican cond...         0   \n",
              "5795    As list administrator, your authorization is r...         0   \n",
              "\n",
              "                                     FILE_NAME  \n",
              "DOC_ID                                          \n",
              "5791    00911.91dd363a1ba091de446dd40a24816ab3  \n",
              "5792    01090.9c92673e26cabc5a37ac3e2b1b2bf8df  \n",
              "5793    00664.28f4cb9fad800d0c7175d3a67e6c6458  \n",
              "5794    00715.c11e77af45a2debe41aed46b2be09d59  \n",
              "5795    00492.bc9e8dcbe986afe7ed1f38e988f43c8b  "
            ],
            "text/html": [
              "\n",
              "  <div id=\"df-46c79bdb-d9f4-41f8-b126-371bdcfbd038\" class=\"colab-df-container\">\n",
              "    <div>\n",
              "<style scoped>\n",
              "    .dataframe tbody tr th:only-of-type {\n",
              "        vertical-align: middle;\n",
              "    }\n",
              "\n",
              "    .dataframe tbody tr th {\n",
              "        vertical-align: top;\n",
              "    }\n",
              "\n",
              "    .dataframe thead th {\n",
              "        text-align: right;\n",
              "    }\n",
              "</style>\n",
              "<table border=\"1\" class=\"dataframe\">\n",
              "  <thead>\n",
              "    <tr style=\"text-align: right;\">\n",
              "      <th></th>\n",
              "      <th>MESSAGE</th>\n",
              "      <th>CATEGORY</th>\n",
              "      <th>FILE_NAME</th>\n",
              "    </tr>\n",
              "    <tr>\n",
              "      <th>DOC_ID</th>\n",
              "      <th></th>\n",
              "      <th></th>\n",
              "      <th></th>\n",
              "    </tr>\n",
              "  </thead>\n",
              "  <tbody>\n",
              "    <tr>\n",
              "      <th>5791</th>\n",
              "      <td>On Fri, 26 Jul 2002, Ian Andrew Bell wrote:\\n\\...</td>\n",
              "      <td>0</td>\n",
              "      <td>00911.91dd363a1ba091de446dd40a24816ab3</td>\n",
              "    </tr>\n",
              "    <tr>\n",
              "      <th>5792</th>\n",
              "      <td>\\n\\n\\n\\nJohn Hall\\n\\n13464 95th Ave NE\\n\\nKirk...</td>\n",
              "      <td>0</td>\n",
              "      <td>01090.9c92673e26cabc5a37ac3e2b1b2bf8df</td>\n",
              "    </tr>\n",
              "    <tr>\n",
              "      <th>5793</th>\n",
              "      <td>Key concepts:  Tokyo, urban overheating,\\n\\ncl...</td>\n",
              "      <td>0</td>\n",
              "      <td>00664.28f4cb9fad800d0c7175d3a67e6c6458</td>\n",
              "    </tr>\n",
              "    <tr>\n",
              "      <th>5794</th>\n",
              "      <td>\\n\\nMusic school jokes --\\n\\n\\n\\nAmerican cond...</td>\n",
              "      <td>0</td>\n",
              "      <td>00715.c11e77af45a2debe41aed46b2be09d59</td>\n",
              "    </tr>\n",
              "    <tr>\n",
              "      <th>5795</th>\n",
              "      <td>As list administrator, your authorization is r...</td>\n",
              "      <td>0</td>\n",
              "      <td>00492.bc9e8dcbe986afe7ed1f38e988f43c8b</td>\n",
              "    </tr>\n",
              "  </tbody>\n",
              "</table>\n",
              "</div>\n",
              "    <div class=\"colab-df-buttons\">\n",
              "\n",
              "  <div class=\"colab-df-container\">\n",
              "    <button class=\"colab-df-convert\" onclick=\"convertToInteractive('df-46c79bdb-d9f4-41f8-b126-371bdcfbd038')\"\n",
              "            title=\"Convert this dataframe to an interactive table.\"\n",
              "            style=\"display:none;\">\n",
              "\n",
              "  <svg xmlns=\"http://www.w3.org/2000/svg\" height=\"24px\" viewBox=\"0 -960 960 960\">\n",
              "    <path d=\"M120-120v-720h720v720H120Zm60-500h600v-160H180v160Zm220 220h160v-160H400v160Zm0 220h160v-160H400v160ZM180-400h160v-160H180v160Zm440 0h160v-160H620v160ZM180-180h160v-160H180v160Zm440 0h160v-160H620v160Z\"/>\n",
              "  </svg>\n",
              "    </button>\n",
              "\n",
              "  <style>\n",
              "    .colab-df-container {\n",
              "      display:flex;\n",
              "      gap: 12px;\n",
              "    }\n",
              "\n",
              "    .colab-df-convert {\n",
              "      background-color: #E8F0FE;\n",
              "      border: none;\n",
              "      border-radius: 50%;\n",
              "      cursor: pointer;\n",
              "      display: none;\n",
              "      fill: #1967D2;\n",
              "      height: 32px;\n",
              "      padding: 0 0 0 0;\n",
              "      width: 32px;\n",
              "    }\n",
              "\n",
              "    .colab-df-convert:hover {\n",
              "      background-color: #E2EBFA;\n",
              "      box-shadow: 0px 1px 2px rgba(60, 64, 67, 0.3), 0px 1px 3px 1px rgba(60, 64, 67, 0.15);\n",
              "      fill: #174EA6;\n",
              "    }\n",
              "\n",
              "    .colab-df-buttons div {\n",
              "      margin-bottom: 4px;\n",
              "    }\n",
              "\n",
              "    [theme=dark] .colab-df-convert {\n",
              "      background-color: #3B4455;\n",
              "      fill: #D2E3FC;\n",
              "    }\n",
              "\n",
              "    [theme=dark] .colab-df-convert:hover {\n",
              "      background-color: #434B5C;\n",
              "      box-shadow: 0px 1px 3px 1px rgba(0, 0, 0, 0.15);\n",
              "      filter: drop-shadow(0px 1px 2px rgba(0, 0, 0, 0.3));\n",
              "      fill: #FFFFFF;\n",
              "    }\n",
              "  </style>\n",
              "\n",
              "    <script>\n",
              "      const buttonEl =\n",
              "        document.querySelector('#df-46c79bdb-d9f4-41f8-b126-371bdcfbd038 button.colab-df-convert');\n",
              "      buttonEl.style.display =\n",
              "        google.colab.kernel.accessAllowed ? 'block' : 'none';\n",
              "\n",
              "      async function convertToInteractive(key) {\n",
              "        const element = document.querySelector('#df-46c79bdb-d9f4-41f8-b126-371bdcfbd038');\n",
              "        const dataTable =\n",
              "          await google.colab.kernel.invokeFunction('convertToInteractive',\n",
              "                                                    [key], {});\n",
              "        if (!dataTable) return;\n",
              "\n",
              "        const docLinkHtml = 'Like what you see? Visit the ' +\n",
              "          '<a target=\"_blank\" href=https://colab.research.google.com/notebooks/data_table.ipynb>data table notebook</a>'\n",
              "          + ' to learn more about interactive tables.';\n",
              "        element.innerHTML = '';\n",
              "        dataTable['output_type'] = 'display_data';\n",
              "        await google.colab.output.renderOutput(dataTable, element);\n",
              "        const docLink = document.createElement('div');\n",
              "        docLink.innerHTML = docLinkHtml;\n",
              "        element.appendChild(docLink);\n",
              "      }\n",
              "    </script>\n",
              "  </div>\n",
              "\n",
              "\n",
              "<div id=\"df-2d9b9116-05ea-44ac-8f3a-6aeef8051796\">\n",
              "  <button class=\"colab-df-quickchart\" onclick=\"quickchart('df-2d9b9116-05ea-44ac-8f3a-6aeef8051796')\"\n",
              "            title=\"Suggest charts\"\n",
              "            style=\"display:none;\">\n",
              "\n",
              "<svg xmlns=\"http://www.w3.org/2000/svg\" height=\"24px\"viewBox=\"0 0 24 24\"\n",
              "     width=\"24px\">\n",
              "    <g>\n",
              "        <path d=\"M19 3H5c-1.1 0-2 .9-2 2v14c0 1.1.9 2 2 2h14c1.1 0 2-.9 2-2V5c0-1.1-.9-2-2-2zM9 17H7v-7h2v7zm4 0h-2V7h2v10zm4 0h-2v-4h2v4z\"/>\n",
              "    </g>\n",
              "</svg>\n",
              "  </button>\n",
              "\n",
              "<style>\n",
              "  .colab-df-quickchart {\n",
              "      --bg-color: #E8F0FE;\n",
              "      --fill-color: #1967D2;\n",
              "      --hover-bg-color: #E2EBFA;\n",
              "      --hover-fill-color: #174EA6;\n",
              "      --disabled-fill-color: #AAA;\n",
              "      --disabled-bg-color: #DDD;\n",
              "  }\n",
              "\n",
              "  [theme=dark] .colab-df-quickchart {\n",
              "      --bg-color: #3B4455;\n",
              "      --fill-color: #D2E3FC;\n",
              "      --hover-bg-color: #434B5C;\n",
              "      --hover-fill-color: #FFFFFF;\n",
              "      --disabled-bg-color: #3B4455;\n",
              "      --disabled-fill-color: #666;\n",
              "  }\n",
              "\n",
              "  .colab-df-quickchart {\n",
              "    background-color: var(--bg-color);\n",
              "    border: none;\n",
              "    border-radius: 50%;\n",
              "    cursor: pointer;\n",
              "    display: none;\n",
              "    fill: var(--fill-color);\n",
              "    height: 32px;\n",
              "    padding: 0;\n",
              "    width: 32px;\n",
              "  }\n",
              "\n",
              "  .colab-df-quickchart:hover {\n",
              "    background-color: var(--hover-bg-color);\n",
              "    box-shadow: 0 1px 2px rgba(60, 64, 67, 0.3), 0 1px 3px 1px rgba(60, 64, 67, 0.15);\n",
              "    fill: var(--button-hover-fill-color);\n",
              "  }\n",
              "\n",
              "  .colab-df-quickchart-complete:disabled,\n",
              "  .colab-df-quickchart-complete:disabled:hover {\n",
              "    background-color: var(--disabled-bg-color);\n",
              "    fill: var(--disabled-fill-color);\n",
              "    box-shadow: none;\n",
              "  }\n",
              "\n",
              "  .colab-df-spinner {\n",
              "    border: 2px solid var(--fill-color);\n",
              "    border-color: transparent;\n",
              "    border-bottom-color: var(--fill-color);\n",
              "    animation:\n",
              "      spin 1s steps(1) infinite;\n",
              "  }\n",
              "\n",
              "  @keyframes spin {\n",
              "    0% {\n",
              "      border-color: transparent;\n",
              "      border-bottom-color: var(--fill-color);\n",
              "      border-left-color: var(--fill-color);\n",
              "    }\n",
              "    20% {\n",
              "      border-color: transparent;\n",
              "      border-left-color: var(--fill-color);\n",
              "      border-top-color: var(--fill-color);\n",
              "    }\n",
              "    30% {\n",
              "      border-color: transparent;\n",
              "      border-left-color: var(--fill-color);\n",
              "      border-top-color: var(--fill-color);\n",
              "      border-right-color: var(--fill-color);\n",
              "    }\n",
              "    40% {\n",
              "      border-color: transparent;\n",
              "      border-right-color: var(--fill-color);\n",
              "      border-top-color: var(--fill-color);\n",
              "    }\n",
              "    60% {\n",
              "      border-color: transparent;\n",
              "      border-right-color: var(--fill-color);\n",
              "    }\n",
              "    80% {\n",
              "      border-color: transparent;\n",
              "      border-right-color: var(--fill-color);\n",
              "      border-bottom-color: var(--fill-color);\n",
              "    }\n",
              "    90% {\n",
              "      border-color: transparent;\n",
              "      border-bottom-color: var(--fill-color);\n",
              "    }\n",
              "  }\n",
              "</style>\n",
              "\n",
              "  <script>\n",
              "    async function quickchart(key) {\n",
              "      const quickchartButtonEl =\n",
              "        document.querySelector('#' + key + ' button');\n",
              "      quickchartButtonEl.disabled = true;  // To prevent multiple clicks.\n",
              "      quickchartButtonEl.classList.add('colab-df-spinner');\n",
              "      try {\n",
              "        const charts = await google.colab.kernel.invokeFunction(\n",
              "            'suggestCharts', [key], {});\n",
              "      } catch (error) {\n",
              "        console.error('Error during call to suggestCharts:', error);\n",
              "      }\n",
              "      quickchartButtonEl.classList.remove('colab-df-spinner');\n",
              "      quickchartButtonEl.classList.add('colab-df-quickchart-complete');\n",
              "    }\n",
              "    (() => {\n",
              "      let quickchartButtonEl =\n",
              "        document.querySelector('#df-2d9b9116-05ea-44ac-8f3a-6aeef8051796 button');\n",
              "      quickchartButtonEl.style.display =\n",
              "        google.colab.kernel.accessAllowed ? 'block' : 'none';\n",
              "    })();\n",
              "  </script>\n",
              "</div>\n",
              "\n",
              "    </div>\n",
              "  </div>\n"
            ],
            "application/vnd.google.colaboratory.intrinsic+json": {
              "type": "dataframe",
              "summary": "{\n  \"name\": \"data\",\n  \"rows\": 5,\n  \"fields\": [\n    {\n      \"column\": \"DOC_ID\",\n      \"properties\": {\n        \"dtype\": \"number\",\n        \"std\": 1,\n        \"min\": 5791,\n        \"max\": 5795,\n        \"num_unique_values\": 5,\n        \"samples\": [\n          5792,\n          5795,\n          5793\n        ],\n        \"semantic_type\": \"\",\n        \"description\": \"\"\n      }\n    },\n    {\n      \"column\": \"MESSAGE\",\n      \"properties\": {\n        \"dtype\": \"string\",\n        \"num_unique_values\": 5,\n        \"samples\": [\n          \"\\n\\n\\n\\nJohn Hall\\n\\n13464 95th Ave NE\\n\\nKirkland WA 98034\\n\\n\\n\\n\\n\\n> -----Original Message-----\\n\\n> From: fork-admin@xent.com [mailto:fork-admin@xent.com] On Behalf Of\\n\\nRohit\\n\\n> Khare\\n\\n> Sent: Monday, August 19, 2002 3:04 PM\\n\\n> To: fork@spamassassin.taint.org\\n\\n> Subject: POLICY CHANGE: subscriber-only posting\\n\\n> \\n\\n> Sorry, gang, but I've flipped the switch. If your posting address\\n\\n> doesn't match your subscription address, or if you've instructed a\\n\\nrobot\\n\\n> to forkpost on your behalf, it'll get held, silently, for me or Kragen\\n\\n> to review. Which will be rarely, so be warned.\\n\\n> \\n\\n> Let's see how this works out for a week or so...\\n\\n> \\n\\n> Rohit\\n\\n> \\n\\n> ---\\n\\n> My permanent email address is khare@alumni.caltech.edu\\n\\n> \\n\\n> http://xent.com/mailman/listinfo/fork\\n\\n\\n\\n\\n\\nhttp://xent.com/mailman/listinfo/fork\\n\\n\\n\",\n          \"As list administrator, your authorization is requested for the\\n\\nfollowing mailing list posting:\\n\\n\\n\\n    List:    IIU@iiu.taint.org\\n\\n    From:    friendsworld@lovefinder.com\\n\\n    Subject: humour Friendship to share !\\n\\n    Reason:  Post by non-member to a members-only list\\n\\n\\n\\nAt your convenience, visit:\\n\\n\\n\\n    http://iiu.taint.org/mailman/admindb/iiu\\n\\n        \\n\\nto approve or deny the request.\\n\\n\\n\\n\\n\",\n          \"Key concepts:  Tokyo, urban overheating,\\n\\nclimate change remediation\\n\\n\\n\\nAttention Conservation Notice: a weird,\\n\\nhand-waving Nipponese mega-scheme.\\n\\n\\n\\nLinks:\\n\\nhttp://http://www.viridiandesign.org/products/furniture.htm\\n\\nFrom:\\u00a0Laurence Aurbach <translucent*spamcop.net?>\\n\\nSubject:\\u00a0Viridian Furniture List\\n\\n\\n\\nThe Viridian Furniture List is now online in the \\n\\n\\\"Recommended Products\\\" section of the Viridian website. \\n\\nDavid Bergman did a yeoman-like job assembling this list \\n\\nand adding comments. He's also mirroring the list on his \\n\\nown furniture site, Fire and Water.\\n\\nhttp://cyberg.com/fw/ecofurn.htm \\n\\n\\n\\nMaybe you'll find a woven bamboo buffet or a biopolymer \\n\\nmesh coffee table. == L.J. Aurbach\\n\\n\\n\\n\\n\\n---------------------------------------------------\\n\\nEntries in the Global Civil Society Design Contest.\\n\\n\\n\\nFrom: Steven W. Schuldt <swschuldt*mac.com>\\n\\nhttp://www.americanrobotz.com/images2/Soon_GlobalCivilSocietyLaptop.jpg\\n\\n\\n\\nFrom: Ben Davis <bend*earthlink.net>\\n\\nhttp://www.digitaleverything.com/GlobalComputer.htm\\n\\n\\n\\nFrom: Joerg F. Wittenberger <Joerg.Wittenberger*pobox.com>\\n\\nhttp://www.askemos.org/ \\n\\nhttp://www.askemos.org:9080/RomePaper.pdf\\n\\n\\n\\nFrom: Scott Vandehey <scot*spaceninja.com >\\n\\nhttp://spaceninja.com/viridian/notebook.html\\n\\n\\n\\nFrom: Bob Morris <bob*bomoco.com>\\n\\nhttp://viridianrepository.com/GlobalCivil/\\n\\n\\n\\nFrom: Anonymous\\n\\nhttp://home.freiepresse.de/befis/zx2000.html\\n\\nhttp://apollo.spaceports.com/~bodo4all/zx/zx97.htm\\n\\nhttp://www.vkb.co.il/\\n\\n\\n\\nFrom: Jim Thompson <jim*musenki.com>\\n\\nhttp://www.simputer.org\\n\\nhttp://www.cnn.com/2002/TECH/ptech/07/05/india.simputer.reut/index.html\\n\\n\\n\\nFrom: Mike Rosing <eresrch*eskimo.com>\\n\\nhttp://www.eskimo.com/~eresrch/viridian\\n\\n\\n\\nFrom: Till Westermayer <till*tillwe.de>\\n\\nhttp://www.westermayer.de/till/projekte/02gcsdl.htm\\n\\n\\n\\nFrom:\\u00a0Duncan Stewart <stewarts*stewarts.org?>\\n\\nhttp://www.stewarts.org/viridian/GCS\\n\\n\\n\\nFrom: R. Charles Flickinger <idlewild*mac.com>\\n\\nhttp://homepage.mac.com/iHUG/GCS2000.html\\n\\n\\n\\nFrom:\\\"Kevin Prichard\\\" <kevin*indymedia.org>\\n\\n\\n\\n\\\"I  nominate Rop Gonggrijp's Secure Notebook, which was \\n\\nshown recently at H2K2. (http://www.h2k2.net).\\n\\n\\n\\nhttp://www.nah6.com/\\n\\nhttp://www.nah6.com/nah6-h2k2_files/v3_document.html\\n\\n\\n\\n\\\"The premise is both important and hilarious. The Secure \\n\\nNotebook provides a Secure Windows XP installation. \\n\\nWindows has a long history of being secure neither from \\n\\nattack nor privacy incursion, so this is something. \\n\\n\\n\\n\\\"Nothing gets in and nothing gets out, without it being \\n\\nfirewalled,  filtered, proxied, and encrypted. How is this \\n\\ndone? A modified Debian  Linux boots first, running custom \\n\\nNAH6 crypto device drivers, and then  boots XP within \\n\\nvmware.\\\"\\n\\n\\n\\nSincerely yours, \\n\\nKevin Prichard \\n\\nkevin*indymedia.org\\n\\n\\n\\nThis contest expires in nine days:  August 15, 2002. \\n\\n----------------------------------------------------\\n\\n\\n\\nSource: Planet Ark\\n\\n\\n\\nhttp://www.planetark.org/dailynewsstory.cfm/newsid/17160/story.htm\\n\\n\\n\\n\\\"Cooler Tokyo summers may be just a pipe dream away\\n\\nby Elaine Lies\\n\\n\\n\\nJAPAN: August 5, 2002\\n\\n\\n\\n   \\\"TOKYO == In what could be the ultimate in public works \\n\\nprojects, a Japanese panel of experts has proposed \\n\\nrelieving the misery of steamy Tokyo summers by cooling \\n\\nthe huge city with sea water and a labyrinth of \\n\\nunderground pipes. \\n\\n\\n\\n   \\\"Though summers are hard in any city, Tokyo's narrow \\n\\nstreets, hordes of people and clusters of massive \\n\\nskyscrapers, largely unrelieved by greenery, produce a \\n\\nspecial brand of discomfort.\\n\\n\\n\\n   \\\"And it gets worse every year.  (((Oh yeah.  You bet it \\n\\ndoes.))) The number of nights when temperatures stay above \\n\\n25 Celsius (77 Fahrenheit) in Tokyo has doubled over the \\n\\nlast 30 years, while average temperatures have shot up by \\n\\n2.9 degrees C over the last century. Relief, however \\n\\ndistant, could be on the way.  (((\\\"Great news, weather \\n\\nsufferers!  We live in the high-tech capital of a G-7 \\n\\nstate!\\\")))\\n\\n\\n\\n   \\\"At the behest of the Construction Ministry, the panel \\n\\nhas drawn up a plan that would use a network of buried \\n\\npipes, and water pumped from the sea, to cool things down. \\n\\n'In the very best conditions, certain areas could in \\n\\ntheory become as much as 2.6 degrees Celsius cooler,' said \\n\\nYujin Minobe, a ministry planner.\\n\\n\\n\\n    \\\"The huge air-conditioning systems currently used to \\n\\ncool buildings get rid of the heat they take out of the \\n\\nstructure by venting it into the outside air, raising \\n\\ntemperatures still further and creating a 'heat island' \\n\\nphenomenon in large cities.  (((Soon whole *cities* will \\n\\ndo it and vent their heat straight into the rising seas! \\n\\nLook out, Antarctica.)))\\n\\n\\n\\n    \\\"Under the plan, this heat would be transferred to \\n\\nwater in large underground tanks, and the water then \\n\\npumped through a six-km (3.7-mile) network of underground \\n\\npipes to a cooling plant on the Tokyo waterfront.\\n\\n\\n\\n    \\\"There the heat from this water would be transferred \\n\\nto cooler sea water before the then-cooled water was \\n\\npumped back through the underground pipes. The sea water, \\n\\nnow warmed, would be released into the waters of Tokyo \\n\\nBay.\\n\\n\\n\\n    \\\"COSTLY PLAN.  (((That's unsurprising.)))  Minobe said \\n\\nthe plan would cover some 123 hectares (304 acres) in the \\n\\ncentre of Tokyo, including the Marunouchi business \\n\\ndistrict and the posh Ginza shopping area, and would \\n\\ninitially cost around 41 billion yen ($344 million).\\n\\n\\n\\n    \\\"'Savings on reduced energy usage would eventually \\n\\nhelp pay for this,' he said.  (((A real nest of ironies \\n\\nhere, folks.))) Officials quoted in the English-language \\n\\nJapan Times said energy savings would total more than 1 \\n\\nbillion yen a year, meaning the system would pay for \\n\\nitself in a bit over 30 years.\\n\\n\\n\\n    \\\"However, Minobe said many problems remained with the \\n\\nplan, which has only been under discussion since April \\n\\nlast year. One of the most serious problems is whether \\n\\nwarmer water being returned to Tokyo Bay would damage the \\n\\nfragile marine ecosystem, a point Minobe said still \\n\\nrequired more study.  (((Give it 30 years and there won't \\n\\nbe any ecosystem left to study.)))\\n\\n\\n\\n    \\\"He said the average temperature cut is likely to be \\n\\nonly around 0.4 degrees. 'I'm not even sure people would \\n\\nbe able to feel that difference,' he said. Any such plan, \\n\\nhowever, would likely produce a gleam in the eyes of \\n\\nJapan's huge construction industry, known for its \\n\\npropensity for public works projects. Although several are \\n\\ndecried as wasteful, public works projects have long been \\n\\nused by the government in attempts to stimulate the \\n\\neconomy.  (((Nice use of the word \\\"attempts.\\\")))\\n\\n\\n\\n    \\\"Frankly, I think this plan is still really more of a \\n\\ndream than anything else,\\\" Minobe said. \\n\\n\\n\\nO=c=O O=c=O O=c=O O=c=O\\n\\nTOKYO STAYS COOL\\n\\nAS DEADLY HEATWAVE BAKES \\n\\nKOBE, OSAKA, KYOTO\\n\\nO=c=O O=c=O O=c=O O=c=O\\n\\n\\n\\n\\n\"\n        ],\n        \"semantic_type\": \"\",\n        \"description\": \"\"\n      }\n    },\n    {\n      \"column\": \"CATEGORY\",\n      \"properties\": {\n        \"dtype\": \"number\",\n        \"std\": 0,\n        \"min\": 0,\n        \"max\": 0,\n        \"num_unique_values\": 1,\n        \"samples\": [\n          0\n        ],\n        \"semantic_type\": \"\",\n        \"description\": \"\"\n      }\n    },\n    {\n      \"column\": \"FILE_NAME\",\n      \"properties\": {\n        \"dtype\": \"string\",\n        \"num_unique_values\": 5,\n        \"samples\": [\n          \"01090.9c92673e26cabc5a37ac3e2b1b2bf8df\"\n        ],\n        \"semantic_type\": \"\",\n        \"description\": \"\"\n      }\n    }\n  ]\n}"
            }
          },
          "metadata": {},
          "execution_count": 31
        }
      ]
    },
    {
      "cell_type": "markdown",
      "source": [
        "**Save to file using Pandas**"
      ],
      "metadata": {
        "id": "-jG0Ohypw5V2"
      }
    },
    {
      "cell_type": "code",
      "source": [
        "data.to_json(DATA_JSON_FILE)"
      ],
      "metadata": {
        "id": "wsQKidkRw-C3"
      },
      "execution_count": 32,
      "outputs": []
    },
    {
      "cell_type": "markdown",
      "source": [
        "**Number of spam messages visualised**"
      ],
      "metadata": {
        "id": "3PZOdBcAzFjz"
      }
    },
    {
      "cell_type": "code",
      "source": [
        "data.CATEGORY.value_counts()"
      ],
      "metadata": {
        "colab": {
          "base_uri": "https://localhost:8080/",
          "height": 178
        },
        "id": "5O4fHwu_zFO7",
        "outputId": "28c93b1b-4a3c-443a-f116-8a83bfcf9392"
      },
      "execution_count": 33,
      "outputs": [
        {
          "output_type": "execute_result",
          "data": {
            "text/plain": [
              "CATEGORY\n",
              "0    3900\n",
              "1    1896\n",
              "Name: count, dtype: int64"
            ],
            "text/html": [
              "<div>\n",
              "<style scoped>\n",
              "    .dataframe tbody tr th:only-of-type {\n",
              "        vertical-align: middle;\n",
              "    }\n",
              "\n",
              "    .dataframe tbody tr th {\n",
              "        vertical-align: top;\n",
              "    }\n",
              "\n",
              "    .dataframe thead th {\n",
              "        text-align: right;\n",
              "    }\n",
              "</style>\n",
              "<table border=\"1\" class=\"dataframe\">\n",
              "  <thead>\n",
              "    <tr style=\"text-align: right;\">\n",
              "      <th></th>\n",
              "      <th>count</th>\n",
              "    </tr>\n",
              "    <tr>\n",
              "      <th>CATEGORY</th>\n",
              "      <th></th>\n",
              "    </tr>\n",
              "  </thead>\n",
              "  <tbody>\n",
              "    <tr>\n",
              "      <th>0</th>\n",
              "      <td>3900</td>\n",
              "    </tr>\n",
              "    <tr>\n",
              "      <th>1</th>\n",
              "      <td>1896</td>\n",
              "    </tr>\n",
              "  </tbody>\n",
              "</table>\n",
              "</div><br><label><b>dtype:</b> int64</label>"
            ]
          },
          "metadata": {},
          "execution_count": 33
        }
      ]
    },
    {
      "cell_type": "code",
      "source": [
        "amount_of_spam = data.CATEGORY.value_counts()[1]\n",
        "amount_of_ham = data.CATEGORY.value_counts()[0]\n",
        "print('Amount of spam messages:', amount_of_spam)\n",
        "print('Amount of ham messages:', amount_of_ham)"
      ],
      "metadata": {
        "colab": {
          "base_uri": "https://localhost:8080/"
        },
        "id": "mV_YDZLRzr0R",
        "outputId": "49c3ff6e-4147-4916-8439-370ea3760e26"
      },
      "execution_count": 34,
      "outputs": [
        {
          "output_type": "stream",
          "name": "stdout",
          "text": [
            "Amount of spam messages: 1896\n",
            "Amount of ham messages: 3900\n"
          ]
        }
      ]
    },
    {
      "cell_type": "code",
      "source": [
        "category_names = ['Spam', 'Legit_Mail']\n",
        "sizes = [amount_of_spam, amount_of_ham]\n",
        "\n",
        "custom_colors = ['#ff7675','#74b9ff']\n",
        "plt.figure(figsize=(5, 5), dpi=100)\n",
        "plt.pie(sizes, labels=category_names, textprops={'fontsize':10},\n",
        "        startangle=90, autopct='%1.1f%%', colors = custom_colors, explode=[0, 0.1])\n",
        "plt.title('Spam vs Legit Mail')\n",
        "plt.show()"
      ],
      "metadata": {
        "colab": {
          "base_uri": "https://localhost:8080/",
          "height": 444
        },
        "outputId": "7513c0bd-6baa-409d-ce4c-135aad7b3e01",
        "id": "w9yfIhpJ8ish"
      },
      "execution_count": 35,
      "outputs": [
        {
          "output_type": "display_data",
          "data": {
            "text/plain": [
              "<Figure size 500x500 with 1 Axes>"
            ],
            "image/png": "[encoded data removed]"
          },
          "metadata": {}
        }
      ]
    },
    {
      "cell_type": "code",
      "source": [
        "category_names = ['Spam', 'Legit_Mail']\n",
        "sizes = [amount_of_spam, amount_of_ham]\n",
        "\n",
        "custom_colors = ['#ff7675','#74b9ff']\n",
        "plt.figure(figsize=(5, 5), dpi=100)\n",
        "plt.pie(sizes, labels=category_names, textprops={'fontsize':10},\n",
        "        startangle=90, autopct='%1.1f%%', colors = custom_colors, pctdistance=0.8)\n",
        "\n",
        "#draw circle\n",
        "centre_circle = plt.Circle((0,0), radius=0.6, fc='white')\n",
        "\n",
        "fig = plt.gcf()\n",
        "fig.gca().add_artist(centre_circle)\n",
        "\n",
        "plt.title('Spam vs Legit Mail')\n",
        "plt.show()"
      ],
      "metadata": {
        "colab": {
          "base_uri": "https://localhost:8080/",
          "height": 444
        },
        "id": "q-a7eNpE0Nc6",
        "outputId": "3ca2c0e2-101a-4bd4-82ba-133451c2965b"
      },
      "execution_count": 36,
      "outputs": [
        {
          "output_type": "display_data",
          "data": {
            "text/plain": [
              "<Figure size 500x500 with 1 Axes>"
            ],
            "image/png": "[encoded data removed]"
          },
          "metadata": {}
        }
      ]
    },
    {
      "cell_type": "code",
      "source": [
        "category_names = ['Spam', 'Legit_Mail', 'Updates', 'Promotions']\n",
        "sizes = [25, 43, 19, 22]\n",
        "offset = [0.05, 0.05, 0.05, 0.05]\n",
        "\n",
        "custom_colors = ['#ff7675','#74b9ff', '#55efc4', '#ffeaa7']\n",
        "plt.figure(figsize=(5, 5), dpi=100)\n",
        "plt.pie(sizes, labels=category_names, textprops={'fontsize':10},\n",
        "        startangle=90, autopct='%1.1f%%', colors = custom_colors, pctdistance=0.8, explode=offset)\n",
        "\n",
        "#draw circle\n",
        "centre_circle = plt.Circle((0,0), radius=0.6, fc='white')\n",
        "\n",
        "fig = plt.gcf()\n",
        "fig.gca().add_artist(centre_circle)\n",
        "\n",
        "plt.title('Spam vs Legit Mail')\n",
        "plt.show()"
      ],
      "metadata": {
        "colab": {
          "base_uri": "https://localhost:8080/",
          "height": 444
        },
        "outputId": "a75aff95-67f1-449c-895f-cb3b789aba74",
        "id": "A1ZGKPJZ-8oe"
      },
      "execution_count": 37,
      "outputs": [
        {
          "output_type": "display_data",
          "data": {
            "text/plain": [
              "<Figure size 500x500 with 1 Axes>"
            ],
            "image/png": "[encoded data removed]"
          },
          "metadata": {}
        }
      ]
    },
    {
      "cell_type": "markdown",
      "source": [
        "# **Natural Language Processing**\n",
        "**Text Pre-Processing**"
      ],
      "metadata": {
        "id": "6Dh7QxtXCNKB"
      }
    },
    {
      "cell_type": "code",
      "source": [
        "msg = 'All work and no play makes Jack a dull boy'\n",
        "msg.lower()"
      ],
      "metadata": {
        "colab": {
          "base_uri": "https://localhost:8080/",
          "height": 35
        },
        "id": "GO5-gshaCbwm",
        "outputId": "8a481bb6-d092-49f6-a878-00c1e4aa2469"
      },
      "execution_count": 38,
      "outputs": [
        {
          "output_type": "execute_result",
          "data": {
            "text/plain": [
              "'all work and no play makes jack a dull boy'"
            ],
            "application/vnd.google.colaboratory.intrinsic+json": {
              "type": "string"
            }
          },
          "metadata": {},
          "execution_count": 38
        }
      ]
    },
    {
      "cell_type": "markdown",
      "source": [
        "**Download the NLTK Resources(Tokenizer & Stopwords)**"
      ],
      "metadata": {
        "id": "Lqhg5Y7OEEuA"
      }
    },
    {
      "cell_type": "code",
      "source": [
        "nltk.download('punkt')\n"
      ],
      "metadata": {
        "colab": {
          "base_uri": "https://localhost:8080/"
        },
        "id": "UzpYvnUQFRjs",
        "outputId": "60bba302-9c72-4b87-f36f-252b22929aec"
      },
      "execution_count": 39,
      "outputs": [
        {
          "output_type": "stream",
          "name": "stderr",
          "text": [
            "[nltk_data] Downloading package punkt to /root/nltk_data...\n",
            "[nltk_data]   Unzipping tokenizers/punkt.zip.\n"
          ]
        },
        {
          "output_type": "execute_result",
          "data": {
            "text/plain": [
              "True"
            ]
          },
          "metadata": {},
          "execution_count": 39
        }
      ]
    },
    {
      "cell_type": "code",
      "source": [
        "nltk.download('stopwords')"
      ],
      "metadata": {
        "colab": {
          "base_uri": "https://localhost:8080/"
        },
        "id": "nhkbaFS2T3t1",
        "outputId": "43afcf63-af52-4155-a7c6-1cc5c2fdaeeb"
      },
      "execution_count": 41,
      "outputs": [
        {
          "output_type": "stream",
          "name": "stderr",
          "text": [
            "[nltk_data] Downloading package stopwords to /root/nltk_data...\n",
            "[nltk_data]   Unzipping corpora/stopwords.zip.\n"
          ]
        },
        {
          "output_type": "execute_result",
          "data": {
            "text/plain": [
              "True"
            ]
          },
          "metadata": {},
          "execution_count": 41
        }
      ]
    },
    {
      "cell_type": "markdown",
      "source": [
        "**Tokenising**"
      ],
      "metadata": {
        "id": "ISa2G47SFcwN"
      }
    },
    {
      "cell_type": "code",
      "source": [
        "msg = 'All work and no play makes Jack a dull boy'\n",
        "word_tokenize(msg.lower())"
      ],
      "metadata": {
        "colab": {
          "base_uri": "https://localhost:8080/"
        },
        "id": "fIJQn4g-S9Kb",
        "outputId": "5547eee7-d756-4a20-88ec-3bab128b33f5"
      },
      "execution_count": 42,
      "outputs": [
        {
          "output_type": "execute_result",
          "data": {
            "text/plain": [
              "['all', 'work', 'and', 'no', 'play', 'makes', 'jack', 'a', 'dull', 'boy']"
            ]
          },
          "metadata": {},
          "execution_count": 42
        }
      ]
    },
    {
      "cell_type": "markdown",
      "source": [
        "**Removing stop words**"
      ],
      "metadata": {
        "id": "4fdogUTHUsds"
      }
    },
    {
      "cell_type": "code",
      "source": [
        "stop_words = set(stopwords.words('english'))"
      ],
      "metadata": {
        "id": "oqaSOCv0U2Mb"
      },
      "execution_count": 43,
      "outputs": []
    },
    {
      "cell_type": "code",
      "source": [
        "if 'this' in stop_words:\n",
        "  print('True')\n",
        "else:\n",
        "  print('Nope.Not in here')"
      ],
      "metadata": {
        "colab": {
          "base_uri": "https://localhost:8080/"
        },
        "id": "7pQu3MZlVukp",
        "outputId": "9ff407b1-2f2c-4907-9d66-17a946a6dc81"
      },
      "execution_count": 44,
      "outputs": [
        {
          "output_type": "stream",
          "name": "stdout",
          "text": [
            "True\n"
          ]
        }
      ]
    },
    {
      "cell_type": "code",
      "source": [
        "msg = 'All work and no play makes Jack a dull boy.To be or not to be that is the question.'\n",
        "words = word_tokenize(msg.lower())\n",
        "\n",
        "filtered_words = []\n",
        "for word in words:\n",
        "  if word not in stop_words:\n",
        "    filtered_words.append(word)\n",
        "\n",
        "print(filtered_words)\n"
      ],
      "metadata": {
        "colab": {
          "base_uri": "https://localhost:8080/"
        },
        "id": "3sgVU53dWd1_",
        "outputId": "c38eb516-1ed7-48ff-c886-afaaafb51b83"
      },
      "execution_count": 45,
      "outputs": [
        {
          "output_type": "stream",
          "name": "stdout",
          "text": [
            "['work', 'play', 'makes', 'jack', 'dull', 'boy.to', 'question', '.']\n"
          ]
        }
      ]
    },
    {
      "cell_type": "markdown",
      "source": [
        "**Word Stems and Stemming**"
      ],
      "metadata": {
        "id": "2kh8iVuTYfSW"
      }
    },
    {
      "cell_type": "code",
      "source": [
        "msg = 'All work and no play makes Jack a dull boy.To be or not to be that is the question. \\\n",
        "Nobody expects Spanish Inquisition'\n",
        "words = word_tokenize(msg.lower())\n",
        "\n",
        "#stemmer = PorterStemmer()\n",
        "stemmer = SnowballStemmer('english')\n",
        "\n",
        "filtered_words = []\n",
        "\n",
        "for word in words:\n",
        "  if word not in stop_words:\n",
        "    stemmed_word = stemmer.stem(word)\n",
        "    filtered_words.append(word)\n",
        "\n",
        "print(filtered_words)\n"
      ],
      "metadata": {
        "colab": {
          "base_uri": "https://localhost:8080/"
        },
        "outputId": "ad3971ee-eee2-44b9-f959-be8d4ca600ef",
        "id": "kSviPNhbZ99h"
      },
      "execution_count": 46,
      "outputs": [
        {
          "output_type": "stream",
          "name": "stdout",
          "text": [
            "['work', 'play', 'makes', 'jack', 'dull', 'boy.to', 'question', '.', 'nobody', 'expects', 'spanish', 'inquisition']\n"
          ]
        }
      ]
    },
    {
      "cell_type": "code",
      "source": [
        "msg = 'All work and no play makes Jack a dull boy.To be or not to be that is the question.??? \\\n",
        "Nobody expects Spanish Inquisition'\n",
        "words = word_tokenize(msg.lower())\n",
        "\n",
        "#stemmer = PorterStemmer()\n",
        "stemmer = SnowballStemmer('english')\n",
        "filtered_words = []\n",
        "\n",
        "for word in words:\n",
        "  if word not in stop_words and word.isalpha():\n",
        "    stemmed_word = stemmer.stem(word)\n",
        "    filtered_words.append(word)\n",
        "\n",
        "print(filtered_words)\n"
      ],
      "metadata": {
        "colab": {
          "base_uri": "https://localhost:8080/"
        },
        "outputId": "7e239447-428c-483b-e8b5-0ed9ad49136b",
        "id": "IECH8GOycBVV"
      },
      "execution_count": 47,
      "outputs": [
        {
          "output_type": "stream",
          "name": "stdout",
          "text": [
            "['work', 'play', 'makes', 'jack', 'dull', 'nobody', 'expects', 'spanish', 'inquisition']\n"
          ]
        }
      ]
    },
    {
      "cell_type": "markdown",
      "source": [
        "**Removing HTML tags from emails**"
      ],
      "metadata": {
        "id": "mg8m_6_z2DA-"
      }
    },
    {
      "cell_type": "code",
      "source": [
        "soup = BeautifulSoup(data.at[2, 'MESSAGE'], 'html.parser')\n",
        "print(soup.prettify())"
      ],
      "metadata": {
        "colab": {
          "base_uri": "https://localhost:8080/"
        },
        "id": "lD6CYm411lQg",
        "outputId": "5d5a1e7b-d759-4113-a348-488527e062ae"
      },
      "execution_count": 48,
      "outputs": [
        {
          "output_type": "stream",
          "name": "stdout",
          "text": [
            "<html>\n",
            " <body bgcolor=\"#CCCCCC\" oncontextmenu=\"return false\" ondragstart=\"return false\" onmouseover=\"window.status=''; return true\" onselectstart=\"return false\" topmargin=\"1\">\n",
            "  Hello, zzzz@neilgarner.com\n",
            "  <br/>\n",
            "  <br/>\n",
            "  As se\n",
            "  <!--5-->\n",
            "  en on NB\n",
            "  <!--D-->\n",
            "  C, CBS, and CN\n",
            "  <!--H-->\n",
            "  N, and even Opr\n",
            "  <!--D-->\n",
            "  ah!  The health\n",
            "  <br/>\n",
            "  discove\n",
            "  <!--F-->\n",
            "  ry that actually revers\n",
            "  <!--D-->\n",
            "  es aging while burning fat,\n",
            "  <br/>\n",
            "  with\n",
            "  <!--boy-->\n",
            "  out dieti\n",
            "  <!--D-->\n",
            "  ng or exerc\n",
            "  <!--F-->\n",
            "  ise!  This pro\n",
            "  <!--A-->\n",
            "  ven discovery has even\n",
            "  <br/>\n",
            "  been report\n",
            "  <!--zzzz-->\n",
            "  ed on by the Ne\n",
            "  <!--test-->\n",
            "  w Engl\n",
            "  <!-- -->\n",
            "  and Jour\n",
            "  <!--F-->\n",
            "  nal of Medi\n",
            "  <!--F-->\n",
            "  cine.\n",
            "  <br/>\n",
            "  For\n",
            "  <!--zzzz-->\n",
            "  get aging and d\n",
            "  <!-- -->\n",
            "  ieting forever!  And it's Gua\n",
            "  <!--S-->\n",
            "  ranteed!\n",
            "  <br/>\n",
            "  <br/>\n",
            "  <br/>\n",
            "  * Red\n",
            "  <!--lo-->\n",
            "  uce body fat and build lean muscle WIT\n",
            "  <!--zzzz-->\n",
            "  HOUT EXERCISE!\n",
            "  <br/>\n",
            "  * Enha\n",
            "  <!--zzzz-->\n",
            "  ce se\n",
            "  <!--la-->\n",
            "  xual perf\n",
            "  <!--hehe-->\n",
            "  ormance\n",
            "  <br/>\n",
            "  * Rem\n",
            "  <!--zzzz-->\n",
            "  ove wrinkles and cellulite\n",
            "  <br/>\n",
            "  * Lower blood pres\n",
            "  <!--zzzz-->\n",
            "  sure and improve choles\n",
            "  <!-- -->\n",
            "  terol profile\n",
            "  <br/>\n",
            "  * Imp\n",
            "  <!--zzzz-->\n",
            "  rove sleep, vision and me\n",
            "  <!-- -->\n",
            "  mory\n",
            "  <br/>\n",
            "  * Resto\n",
            "  <!--zzzz-->\n",
            "  re hair color and gro\n",
            "  <!-- -->\n",
            "  wth\n",
            "  <br/>\n",
            "  * Stren\n",
            "  <!--zzzz-->\n",
            "  gthen the immune sys\n",
            "  <!-- -->\n",
            "  tem\n",
            "  <br/>\n",
            "  * Incre\n",
            "  <!--zzzz-->\n",
            "  ase ener\n",
            "  <!-- -->\n",
            "  gy and card\n",
            "  <!-- -->\n",
            "  iac output\n",
            "  <br/>\n",
            "  * Turn bac\n",
            "  <!--zzzz-->\n",
            "  k your body's biol\n",
            "  <!-- -->\n",
            "  ogical time cl\n",
            "  <!-- -->\n",
            "  ock 10-20 years\n",
            "  <br/>\n",
            "  in 6 months of usage !!!\n",
            "  <br/>\n",
            "  <br/>\n",
            "  <a href=\"http://202.101.163.34:81/ultimatehgh_zeng/index.html\">\n",
            "   FOR FRE\n",
            "   <!--o-->\n",
            "   E INFO\n",
            "   <!--you-->\n",
            "   RMATION AND G\n",
            "   <!--love-->\n",
            "   ET FREE \n",
            "\n",
            "1 MON\n",
            "   <!--zzzz-->\n",
            "   TH SUPPLY OF HG\n",
            "   <!-- -->\n",
            "   H CLICK HERE\n",
            "  </a>\n",
            "  <br/>\n",
            "  <br/>\n",
            "  <br/>\n",
            "  <br/>\n",
            "  <br/>\n",
            "  <br/>\n",
            "  <br/>\n",
            "  <br/>\n",
            "  <br/>\n",
            "  <br/>\n",
            "  <br/>\n",
            "  <br/>\n",
            "  <br/>\n",
            "  <br/>\n",
            "  <br/>\n",
            "  <br/>\n",
            "  You are recei\n",
            "  <!--zzzz-->\n",
            "  ving this email as a subscr\n",
            "  <!-- -->\n",
            "  iber\n",
            "  <br/>\n",
            "  to the Opt\n",
            "  <!--zzzz-->\n",
            "  -In Ameri\n",
            "  <!-- -->\n",
            "  ca Mailin\n",
            "  <!-- -->\n",
            "  g Lis\n",
            "  <!-- -->\n",
            "  t.\n",
            "  <br/>\n",
            "  To remo\n",
            "  <!--zzzz-->\n",
            "  ve your\n",
            "  <!-- -->\n",
            "  self from all related mailli\n",
            "  <!--me-->\n",
            "  sts,\n",
            "  <br/>\n",
            "  just\n",
            "  <a href=\"http://202.101.163.34:81/ultimatehgh_zeng/remove.php?userid=zzzz@neilgarner.com\">\n",
            "   Click Here\n",
            "  </a>\n",
            " </body>\n",
            "</html>\n",
            "\n"
          ]
        }
      ]
    },
    {
      "cell_type": "code",
      "source": [
        "soup.get_text()"
      ],
      "metadata": {
        "colab": {
          "base_uri": "https://localhost:8080/",
          "height": 174
        },
        "id": "GxKEmSsD2KTy",
        "outputId": "208e299a-b29b-4e4a-80a7-475d48c64408"
      },
      "execution_count": 49,
      "outputs": [
        {
          "output_type": "execute_result",
          "data": {
            "text/plain": [
              "\"\\n\\n\\nHello, zzzz@neilgarner.com\\n\\n\\nAs seen on NBC, CBS, and CNN, and even Oprah!  The health\\n\\ndiscovery that actually reverses aging while burning fat,\\n\\nwithout dieting or exercise!  This proven discovery has even\\n\\nbeen reported on by the New England Journal of Medicine.\\n\\nForget aging and dieting forever!  And it's Guaranteed!\\n\\n\\n* Reduce body fat and build lean muscle WITHOUT EXERCISE!\\n\\n* Enhace sexual performance\\n\\n* Remove wrinkles and cellulite\\n\\n* Lower blood pressure and improve cholesterol profile\\n\\n* Improve sleep, vision and memory\\n\\n* Restore hair color and growth\\n\\n* Strengthen the immune system\\n\\n* Increase energy and cardiac output\\n\\n* Turn back your body's biological time clock 10-20 years\\n\\nin 6 months of usage !!!\\nFOR FREE INFORMATION AND GET FREE \\n\\n1 MONTH SUPPLY OF HGH CLICK HERE\\n\\nYou are receiving this email as a subscriber\\n\\nto the Opt-In America Mailing List. \\n\\nTo remove yourself from all related maillists,\\n\\njust  \\n\\nClick Here\\n\\n\\n\""
            ],
            "application/vnd.google.colaboratory.intrinsic+json": {
              "type": "string"
            }
          },
          "metadata": {},
          "execution_count": 49
        }
      ]
    },
    {
      "cell_type": "markdown",
      "source": [
        "**Fuctions for email processing**"
      ],
      "metadata": {
        "id": "4R2aOxFs5VKU"
      }
    },
    {
      "cell_type": "code",
      "source": [
        "def clean_message(message, stemmer=PorterStemmer(),\n",
        "                  stop_words = set(stopwords.words('english'))):\n",
        "\n",
        "   words = word_tokenize(message.lower())\n",
        "   filtered_words = []\n",
        "\n",
        "   for word in words:\n",
        "    if word not in stop_words and word.isalpha():\n",
        "      stemmed_word = stemmer.stem(word)\n",
        "      filtered_words.append(stemmer.stem(word))\n",
        "\n",
        "\n",
        "   return filtered_words\n"
      ],
      "metadata": {
        "id": "1335dSiT5d0H"
      },
      "execution_count": 50,
      "outputs": []
    },
    {
      "cell_type": "code",
      "source": [
        "clean_message(email_body)"
      ],
      "metadata": {
        "colab": {
          "base_uri": "https://localhost:8080/"
        },
        "id": "7i6R2g8y8TqP",
        "outputId": "8d3b59e4-5b3e-45d3-e755-b905f8f0d9f3"
      },
      "execution_count": 51,
      "outputs": [
        {
          "output_type": "execute_result",
          "data": {
            "text/plain": [
              "['dear',\n",
              " 'mr',\n",
              " 'still',\n",
              " 'good',\n",
              " 'tide',\n",
              " 'staff',\n",
              " 'festiv',\n",
              " 'season',\n",
              " 'ahead',\n",
              " 'christma',\n",
              " 'crux',\n",
              " 'fulli',\n",
              " 'qualifi',\n",
              " 'santa',\n",
              " 'clau',\n",
              " 'wonder',\n",
              " 'whether',\n",
              " 'might',\n",
              " 'consid',\n",
              " 'run',\n",
              " 'santa',\n",
              " 'grotto',\n",
              " 'store',\n",
              " 'wait',\n",
              " 'probabl',\n",
              " 'think',\n",
              " 'make',\n",
              " 'special',\n",
              " 'well',\n",
              " 'first',\n",
              " 'made',\n",
              " 'sever',\n",
              " 'chang',\n",
              " 'characteris',\n",
              " 'father',\n",
              " 'christma',\n",
              " 'rather',\n",
              " 'greet',\n",
              " 'children',\n",
              " 'shout',\n",
              " 'ho',\n",
              " 'ho',\n",
              " 'ho',\n",
              " 'prefer',\n",
              " 'whisper',\n",
              " 'phrase',\n",
              " 'depend',\n",
              " 'unfathom',\n",
              " 'cruel',\n",
              " 'world',\n",
              " 'live',\n",
              " 'addit',\n",
              " 'gift',\n",
              " 'rang',\n",
              " 'felt',\n",
              " 'hoop',\n",
              " 'holder',\n",
              " 'note',\n",
              " 'also',\n",
              " 'enclos',\n",
              " 'sketch',\n",
              " 'radic',\n",
              " 'redesign',\n",
              " 'santa',\n",
              " 'outfit',\n",
              " 'renam',\n",
              " 'charact',\n",
              " 'lord',\n",
              " 'buckl',\n",
              " 'would',\n",
              " 'interest',\n",
              " 'employ',\n",
              " 'promis',\n",
              " 'never',\n",
              " 'let',\n",
              " 'look',\n",
              " 'forward',\n",
              " 'hear',\n",
              " 'best',\n",
              " 'wish',\n",
              " 'robin',\n",
              " 'cooper',\n",
              " 'excerpt',\n",
              " 'book',\n",
              " 'timewast',\n",
              " 'letter',\n",
              " 'robin',\n",
              " 'cooper']"
            ]
          },
          "metadata": {},
          "execution_count": 51
        }
      ]
    },
    {
      "cell_type": "code",
      "source": [],
      "metadata": {
        "id": "-ZvwVmUZ8SXl"
      },
      "execution_count": 51,
      "outputs": []
    },
    {
      "cell_type": "code",
      "source": [
        "def clean_msg_no_html(message, stemmer=PorterStemmer(),\n",
        "                  stop_words = set(stopwords.words('english'))):\n",
        "\n",
        "   soup = BeautifulSoup(message, 'html.parser')\n",
        "   cleaned_text = soup.get_text()\n",
        "\n",
        "   words = word_tokenize(cleaned_text.lower())\n",
        "   filtered_words = []\n",
        "\n",
        "   for word in words:\n",
        "    if word not in stop_words and word.isalpha():\n",
        "      stemmed_word = stemmer.stem(word)\n",
        "      filtered_words.append(stemmer.stem(word))\n",
        "\n",
        "\n",
        "   return filtered_words\n"
      ],
      "metadata": {
        "id": "lNfOwJz2-MkA"
      },
      "execution_count": 52,
      "outputs": []
    },
    {
      "cell_type": "code",
      "source": [
        "clean_msg_no_html(data.at[2, 'MESSAGE'])"
      ],
      "metadata": {
        "colab": {
          "base_uri": "https://localhost:8080/"
        },
        "id": "6GTi99Y1_UM4",
        "outputId": "9832886d-3492-47c0-ae33-6b11f093ec57"
      },
      "execution_count": 53,
      "outputs": [
        {
          "output_type": "execute_result",
          "data": {
            "text/plain": [
              "['hello',\n",
              " 'zzzz',\n",
              " 'seen',\n",
              " 'nbc',\n",
              " 'cb',\n",
              " 'cnn',\n",
              " 'even',\n",
              " 'oprah',\n",
              " 'health',\n",
              " 'discoveri',\n",
              " 'actual',\n",
              " 'revers',\n",
              " 'age',\n",
              " 'burn',\n",
              " 'fat',\n",
              " 'without',\n",
              " 'diet',\n",
              " 'exercis',\n",
              " 'proven',\n",
              " 'discoveri',\n",
              " 'even',\n",
              " 'report',\n",
              " 'new',\n",
              " 'england',\n",
              " 'journal',\n",
              " 'medicin',\n",
              " 'forget',\n",
              " 'age',\n",
              " 'diet',\n",
              " 'forev',\n",
              " 'guarante',\n",
              " 'reduc',\n",
              " 'bodi',\n",
              " 'fat',\n",
              " 'build',\n",
              " 'lean',\n",
              " 'muscl',\n",
              " 'without',\n",
              " 'exercis',\n",
              " 'enhac',\n",
              " 'sexual',\n",
              " 'perform',\n",
              " 'remov',\n",
              " 'wrinkl',\n",
              " 'cellulit',\n",
              " 'lower',\n",
              " 'blood',\n",
              " 'pressur',\n",
              " 'improv',\n",
              " 'cholesterol',\n",
              " 'profil',\n",
              " 'improv',\n",
              " 'sleep',\n",
              " 'vision',\n",
              " 'memori',\n",
              " 'restor',\n",
              " 'hair',\n",
              " 'color',\n",
              " 'growth',\n",
              " 'strengthen',\n",
              " 'immun',\n",
              " 'system',\n",
              " 'increas',\n",
              " 'energi',\n",
              " 'cardiac',\n",
              " 'output',\n",
              " 'turn',\n",
              " 'back',\n",
              " 'bodi',\n",
              " 'biolog',\n",
              " 'time',\n",
              " 'clock',\n",
              " 'year',\n",
              " 'month',\n",
              " 'usag',\n",
              " 'free',\n",
              " 'inform',\n",
              " 'get',\n",
              " 'free',\n",
              " 'month',\n",
              " 'suppli',\n",
              " 'hgh',\n",
              " 'click',\n",
              " 'receiv',\n",
              " 'email',\n",
              " 'subscrib',\n",
              " 'america',\n",
              " 'mail',\n",
              " 'list',\n",
              " 'remov',\n",
              " 'relat',\n",
              " 'maillist',\n",
              " 'click']"
            ]
          },
          "metadata": {},
          "execution_count": 53
        }
      ]
    },
    {
      "cell_type": "markdown",
      "source": [
        "# **Apply Cleaning and Tokenisation to all messages**\n",
        "\n",
        "**Slicing dataframes and series & Creating Subsets**"
      ],
      "metadata": {
        "id": "xJoDQ2yiTSWW"
      }
    },
    {
      "cell_type": "code",
      "source": [
        "data.iat[2, 2]"
      ],
      "metadata": {
        "colab": {
          "base_uri": "https://localhost:8080/",
          "height": 35
        },
        "id": "u-6HO-dWTc5R",
        "outputId": "8c75d1bb-5867-4134-b531-b7b7b2c22a4a"
      },
      "execution_count": 54,
      "outputs": [
        {
          "output_type": "execute_result",
          "data": {
            "text/plain": [
              "'00173.e10eb62e2c7808674c43d6a5e9e08a1c'"
            ],
            "application/vnd.google.colaboratory.intrinsic+json": {
              "type": "string"
            }
          },
          "metadata": {},
          "execution_count": 54
        }
      ]
    },
    {
      "cell_type": "code",
      "source": [
        "data.iloc[5:11]"
      ],
      "metadata": {
        "colab": {
          "base_uri": "https://localhost:8080/",
          "height": 269
        },
        "id": "ib6YpvUOUw-a",
        "outputId": "b1c82c23-fbc5-44b0-f447-0bbfc768b09d"
      },
      "execution_count": 55,
      "outputs": [
        {
          "output_type": "execute_result",
          "data": {
            "text/plain": [
              "                                                  MESSAGE  CATEGORY  \\\n",
              "DOC_ID                                                                \n",
              "5       This is a multi-part message in MIME format.\\n...         1   \n",
              "6       ------=_NextPart_000_00C5_44B43D7A.C5027E65\\n\\...         1   \n",
              "7       <html>\\n\\n\\n\\n<head>\\n\\n<title>Classic Wines</...         1   \n",
              "8       <html>\\n\\n<head>\\n\\n<title>Untitled Document</...         1   \n",
              "9       ------=_NextPart_000_002B_83A1E322.4D8B344B\\n\\...         1   \n",
              "10      <HTML>\\n\\n<BODY>\\n\\n  <tr valign=3D\"top\"> \\n\\n...         1   \n",
              "\n",
              "                                     FILE_NAME  \n",
              "DOC_ID                                          \n",
              "5       00307.7ed50c6d80c6e37c8cc1b132f4a19e4d  \n",
              "6       00275.4675c4cce2bf27adaafeef693d562f8b  \n",
              "7       00448.a6ac96e93ef03ec1a638c577c6940f5e  \n",
              "8       00107.e6cd2d9f49514710dc85db0fef5b8726  \n",
              "9       00403.46d0face754b6bb7dce8b3ea560f75fb  \n",
              "10      00488.29e96da757cc5566c848833e26abdd65  "
            ],
            "text/html": [
              "\n",
              "  <div id=\"df-99fc4979-fef4-407b-8ab8-3ffba1079d44\" class=\"colab-df-container\">\n",
              "    <div>\n",
              "<style scoped>\n",
              "    .dataframe tbody tr th:only-of-type {\n",
              "        vertical-align: middle;\n",
              "    }\n",
              "\n",
              "    .dataframe tbody tr th {\n",
              "        vertical-align: top;\n",
              "    }\n",
              "\n",
              "    .dataframe thead th {\n",
              "        text-align: right;\n",
              "    }\n",
              "</style>\n",
              "<table border=\"1\" class=\"dataframe\">\n",
              "  <thead>\n",
              "    <tr style=\"text-align: right;\">\n",
              "      <th></th>\n",
              "      <th>MESSAGE</th>\n",
              "      <th>CATEGORY</th>\n",
              "      <th>FILE_NAME</th>\n",
              "    </tr>\n",
              "    <tr>\n",
              "      <th>DOC_ID</th>\n",
              "      <th></th>\n",
              "      <th></th>\n",
              "      <th></th>\n",
              "    </tr>\n",
              "  </thead>\n",
              "  <tbody>\n",
              "    <tr>\n",
              "      <th>5</th>\n",
              "      <td>This is a multi-part message in MIME format.\\n...</td>\n",
              "      <td>1</td>\n",
              "      <td>00307.7ed50c6d80c6e37c8cc1b132f4a19e4d</td>\n",
              "    </tr>\n",
              "    <tr>\n",
              "      <th>6</th>\n",
              "      <td>------=_NextPart_000_00C5_44B43D7A.C5027E65\\n\\...</td>\n",
              "      <td>1</td>\n",
              "      <td>00275.4675c4cce2bf27adaafeef693d562f8b</td>\n",
              "    </tr>\n",
              "    <tr>\n",
              "      <th>7</th>\n",
              "      <td>&lt;html&gt;\\n\\n\\n\\n&lt;head&gt;\\n\\n&lt;title&gt;Classic Wines&lt;/...</td>\n",
              "      <td>1</td>\n",
              "      <td>00448.a6ac96e93ef03ec1a638c577c6940f5e</td>\n",
              "    </tr>\n",
              "    <tr>\n",
              "      <th>8</th>\n",
              "      <td>&lt;html&gt;\\n\\n&lt;head&gt;\\n\\n&lt;title&gt;Untitled Document&lt;/...</td>\n",
              "      <td>1</td>\n",
              "      <td>00107.e6cd2d9f49514710dc85db0fef5b8726</td>\n",
              "    </tr>\n",
              "    <tr>\n",
              "      <th>9</th>\n",
              "      <td>------=_NextPart_000_002B_83A1E322.4D8B344B\\n\\...</td>\n",
              "      <td>1</td>\n",
              "      <td>00403.46d0face754b6bb7dce8b3ea560f75fb</td>\n",
              "    </tr>\n",
              "    <tr>\n",
              "      <th>10</th>\n",
              "      <td>&lt;HTML&gt;\\n\\n&lt;BODY&gt;\\n\\n  &lt;tr valign=3D\"top\"&gt; \\n\\n...</td>\n",
              "      <td>1</td>\n",
              "      <td>00488.29e96da757cc5566c848833e26abdd65</td>\n",
              "    </tr>\n",
              "  </tbody>\n",
              "</table>\n",
              "</div>\n",
              "    <div class=\"colab-df-buttons\">\n",
              "\n",
              "  <div class=\"colab-df-container\">\n",
              "    <button class=\"colab-df-convert\" onclick=\"convertToInteractive('df-99fc4979-fef4-407b-8ab8-3ffba1079d44')\"\n",
              "            title=\"Convert this dataframe to an interactive table.\"\n",
              "            style=\"display:none;\">\n",
              "\n",
              "  <svg xmlns=\"http://www.w3.org/2000/svg\" height=\"24px\" viewBox=\"0 -960 960 960\">\n",
              "    <path d=\"M120-120v-720h720v720H120Zm60-500h600v-160H180v160Zm220 220h160v-160H400v160Zm0 220h160v-160H400v160ZM180-400h160v-160H180v160Zm440 0h160v-160H620v160ZM180-180h160v-160H180v160Zm440 0h160v-160H620v160Z\"/>\n",
              "  </svg>\n",
              "    </button>\n",
              "\n",
              "  <style>\n",
              "    .colab-df-container {\n",
              "      display:flex;\n",
              "      gap: 12px;\n",
              "    }\n",
              "\n",
              "    .colab-df-convert {\n",
              "      background-color: #E8F0FE;\n",
              "      border: none;\n",
              "      border-radius: 50%;\n",
              "      cursor: pointer;\n",
              "      display: none;\n",
              "      fill: #1967D2;\n",
              "      height: 32px;\n",
              "      padding: 0 0 0 0;\n",
              "      width: 32px;\n",
              "    }\n",
              "\n",
              "    .colab-df-convert:hover {\n",
              "      background-color: #E2EBFA;\n",
              "      box-shadow: 0px 1px 2px rgba(60, 64, 67, 0.3), 0px 1px 3px 1px rgba(60, 64, 67, 0.15);\n",
              "      fill: #174EA6;\n",
              "    }\n",
              "\n",
              "    .colab-df-buttons div {\n",
              "      margin-bottom: 4px;\n",
              "    }\n",
              "\n",
              "    [theme=dark] .colab-df-convert {\n",
              "      background-color: #3B4455;\n",
              "      fill: #D2E3FC;\n",
              "    }\n",
              "\n",
              "    [theme=dark] .colab-df-convert:hover {\n",
              "      background-color: #434B5C;\n",
              "      box-shadow: 0px 1px 3px 1px rgba(0, 0, 0, 0.15);\n",
              "      filter: drop-shadow(0px 1px 2px rgba(0, 0, 0, 0.3));\n",
              "      fill: #FFFFFF;\n",
              "    }\n",
              "  </style>\n",
              "\n",
              "    <script>\n",
              "      const buttonEl =\n",
              "        document.querySelector('#df-99fc4979-fef4-407b-8ab8-3ffba1079d44 button.colab-df-convert');\n",
              "      buttonEl.style.display =\n",
              "        google.colab.kernel.accessAllowed ? 'block' : 'none';\n",
              "\n",
              "      async function convertToInteractive(key) {\n",
              "        const element = document.querySelector('#df-99fc4979-fef4-407b-8ab8-3ffba1079d44');\n",
              "        const dataTable =\n",
              "          await google.colab.kernel.invokeFunction('convertToInteractive',\n",
              "                                                    [key], {});\n",
              "        if (!dataTable) return;\n",
              "\n",
              "        const docLinkHtml = 'Like what you see? Visit the ' +\n",
              "          '<a target=\"_blank\" href=https://colab.research.google.com/notebooks/data_table.ipynb>data table notebook</a>'\n",
              "          + ' to learn more about interactive tables.';\n",
              "        element.innerHTML = '';\n",
              "        dataTable['output_type'] = 'display_data';\n",
              "        await google.colab.output.renderOutput(dataTable, element);\n",
              "        const docLink = document.createElement('div');\n",
              "        docLink.innerHTML = docLinkHtml;\n",
              "        element.appendChild(docLink);\n",
              "      }\n",
              "    </script>\n",
              "  </div>\n",
              "\n",
              "\n",
              "<div id=\"df-123e9ee5-831d-4063-a5aa-5db930dba15c\">\n",
              "  <button class=\"colab-df-quickchart\" onclick=\"quickchart('df-123e9ee5-831d-4063-a5aa-5db930dba15c')\"\n",
              "            title=\"Suggest charts\"\n",
              "            style=\"display:none;\">\n",
              "\n",
              "<svg xmlns=\"http://www.w3.org/2000/svg\" height=\"24px\"viewBox=\"0 0 24 24\"\n",
              "     width=\"24px\">\n",
              "    <g>\n",
              "        <path d=\"M19 3H5c-1.1 0-2 .9-2 2v14c0 1.1.9 2 2 2h14c1.1 0 2-.9 2-2V5c0-1.1-.9-2-2-2zM9 17H7v-7h2v7zm4 0h-2V7h2v10zm4 0h-2v-4h2v4z\"/>\n",
              "    </g>\n",
              "</svg>\n",
              "  </button>\n",
              "\n",
              "<style>\n",
              "  .colab-df-quickchart {\n",
              "      --bg-color: #E8F0FE;\n",
              "      --fill-color: #1967D2;\n",
              "      --hover-bg-color: #E2EBFA;\n",
              "      --hover-fill-color: #174EA6;\n",
              "      --disabled-fill-color: #AAA;\n",
              "      --disabled-bg-color: #DDD;\n",
              "  }\n",
              "\n",
              "  [theme=dark] .colab-df-quickchart {\n",
              "      --bg-color: #3B4455;\n",
              "      --fill-color: #D2E3FC;\n",
              "      --hover-bg-color: #434B5C;\n",
              "      --hover-fill-color: #FFFFFF;\n",
              "      --disabled-bg-color: #3B4455;\n",
              "      --disabled-fill-color: #666;\n",
              "  }\n",
              "\n",
              "  .colab-df-quickchart {\n",
              "    background-color: var(--bg-color);\n",
              "    border: none;\n",
              "    border-radius: 50%;\n",
              "    cursor: pointer;\n",
              "    display: none;\n",
              "    fill: var(--fill-color);\n",
              "    height: 32px;\n",
              "    padding: 0;\n",
              "    width: 32px;\n",
              "  }\n",
              "\n",
              "  .colab-df-quickchart:hover {\n",
              "    background-color: var(--hover-bg-color);\n",
              "    box-shadow: 0 1px 2px rgba(60, 64, 67, 0.3), 0 1px 3px 1px rgba(60, 64, 67, 0.15);\n",
              "    fill: var(--button-hover-fill-color);\n",
              "  }\n",
              "\n",
              "  .colab-df-quickchart-complete:disabled,\n",
              "  .colab-df-quickchart-complete:disabled:hover {\n",
              "    background-color: var(--disabled-bg-color);\n",
              "    fill: var(--disabled-fill-color);\n",
              "    box-shadow: none;\n",
              "  }\n",
              "\n",
              "  .colab-df-spinner {\n",
              "    border: 2px solid var(--fill-color);\n",
              "    border-color: transparent;\n",
              "    border-bottom-color: var(--fill-color);\n",
              "    animation:\n",
              "      spin 1s steps(1) infinite;\n",
              "  }\n",
              "\n",
              "  @keyframes spin {\n",
              "    0% {\n",
              "      border-color: transparent;\n",
              "      border-bottom-color: var(--fill-color);\n",
              "      border-left-color: var(--fill-color);\n",
              "    }\n",
              "    20% {\n",
              "      border-color: transparent;\n",
              "      border-left-color: var(--fill-color);\n",
              "      border-top-color: var(--fill-color);\n",
              "    }\n",
              "    30% {\n",
              "      border-color: transparent;\n",
              "      border-left-color: var(--fill-color);\n",
              "      border-top-color: var(--fill-color);\n",
              "      border-right-color: var(--fill-color);\n",
              "    }\n",
              "    40% {\n",
              "      border-color: transparent;\n",
              "      border-right-color: var(--fill-color);\n",
              "      border-top-color: var(--fill-color);\n",
              "    }\n",
              "    60% {\n",
              "      border-color: transparent;\n",
              "      border-right-color: var(--fill-color);\n",
              "    }\n",
              "    80% {\n",
              "      border-color: transparent;\n",
              "      border-right-color: var(--fill-color);\n",
              "      border-bottom-color: var(--fill-color);\n",
              "    }\n",
              "    90% {\n",
              "      border-color: transparent;\n",
              "      border-bottom-color: var(--fill-color);\n",
              "    }\n",
              "  }\n",
              "</style>\n",
              "\n",
              "  <script>\n",
              "    async function quickchart(key) {\n",
              "      const quickchartButtonEl =\n",
              "        document.querySelector('#' + key + ' button');\n",
              "      quickchartButtonEl.disabled = true;  // To prevent multiple clicks.\n",
              "      quickchartButtonEl.classList.add('colab-df-spinner');\n",
              "      try {\n",
              "        const charts = await google.colab.kernel.invokeFunction(\n",
              "            'suggestCharts', [key], {});\n",
              "      } catch (error) {\n",
              "        console.error('Error during call to suggestCharts:', error);\n",
              "      }\n",
              "      quickchartButtonEl.classList.remove('colab-df-spinner');\n",
              "      quickchartButtonEl.classList.add('colab-df-quickchart-complete');\n",
              "    }\n",
              "    (() => {\n",
              "      let quickchartButtonEl =\n",
              "        document.querySelector('#df-123e9ee5-831d-4063-a5aa-5db930dba15c button');\n",
              "      quickchartButtonEl.style.display =\n",
              "        google.colab.kernel.accessAllowed ? 'block' : 'none';\n",
              "    })();\n",
              "  </script>\n",
              "</div>\n",
              "\n",
              "    </div>\n",
              "  </div>\n"
            ],
            "application/vnd.google.colaboratory.intrinsic+json": {
              "type": "dataframe",
              "summary": "{\n  \"name\": \"data\",\n  \"rows\": 6,\n  \"fields\": [\n    {\n      \"column\": \"DOC_ID\",\n      \"properties\": {\n        \"dtype\": \"number\",\n        \"std\": 1,\n        \"min\": 5,\n        \"max\": 10,\n        \"num_unique_values\": 6,\n        \"samples\": [\n          5,\n          6,\n          10\n        ],\n        \"semantic_type\": \"\",\n        \"description\": \"\"\n      }\n    },\n    {\n      \"column\": \"MESSAGE\",\n      \"properties\": {\n        \"dtype\": \"string\",\n        \"num_unique_values\": 6,\n        \"samples\": [\n          \"This is a multi-part message in MIME format.\\n\\n\\n\\n------=_NextPart_7HZmySBWvSemNjin8Kg9Y\\n\\nContent-Type: multipart/alternative;\\n\\n\\tboundary=\\\"----=_NextPart_7HZmySBWvSemNjin8Kg9YAA\\\"\\n\\n\\n\\n\\n\\n------=_NextPart_7HZmySBWvSemNjin8Kg9YAA\\n\\nContent-Type: text/html;\\n\\n\\tcharset=\\\"big5\\\"\\n\\nContent-Transfer-Encoding: base64\\n\\n\\n\\nPGh0bWwgeG1sbnM6dj0idXJuOnNjaGVtYXMtbWljcm9zb2Z0LWNvbTp2bWwiDQp4bWxuczpvPSJ1\\n\\ncm46c2NoZW1hcy1taWNyb3NvZnQtY29tOm9mZmljZTpvZmZpY2UiDQp4bWxuczp3PSJ1cm46c2No\\n\\nZW1hcy1taWNyb3NvZnQtY29tOm9mZmljZTp3b3JkIg0KeG1sbnM9Imh0dHA6Ly93d3cudzMub3Jn\\n\\nL1RSL1JFQy1odG1sNDAiPg0KDQo8aGVhZD4NCjxtZXRhIGh0dHAtZXF1aXY9Q29udGVudC1UeXBl\\n\\nIGNvbnRlbnQ9InRleHQvaHRtbDsgY2hhcnNldD1CaWc1Ij4NCjxtZXRhIG5hbWU9UHJvZ0lkIGNv\\n\\nbnRlbnQ9V29yZC5Eb2N1bWVudD4NCjxtZXRhIG5hbWU9R2VuZXJhdG9yIGNvbnRlbnQ9Ik1pY3Jv\\n\\nc29mdCBXb3JkIDkiPg0KPG1ldGEgbmFtZT1PcmlnaW5hdG9yIGNvbnRlbnQ9Ik1pY3Jvc29mdCBX\\n\\nb3JkIDkiPg0KPGxpbmsgcmVsPUZpbGUtTGlzdCBocmVmPSIuL01hc3NNYWlsLTE1MDlfZmlsZXMv\\n\\nZmlsZWxpc3QueG1sIj4NCjxsaW5rIHJlbD1FZGl0LVRpbWUtRGF0YSBocmVmPSIuL01hc3NNYWls\\n\\nLTE1MDlfZmlsZXMvZWRpdGRhdGEubXNvIj4NCjwhLS1baWYgIW1zb10+DQo8c3R5bGU+DQp2XDoq\\n\\nIHtiZWhhdmlvcjp1cmwoI2RlZmF1bHQjVk1MKTt9DQpvXDoqIHtiZWhhdmlvcjp1cmwoI2RlZmF1\\n\\nbHQjVk1MKTt9DQp3XDoqIHtiZWhhdmlvcjp1cmwoI2RlZmF1bHQjVk1MKTt9DQouc2hhcGUge2Jl\\n\\naGF2aW9yOnVybCgjZGVmYXVsdCNWTUwpO30NCjwvc3R5bGU+DQo8IVtlbmRpZl0tLT4NCjx0aXRs\\n\\nZT6nS7ZPtUytraa4pfSltKSktOSq+LN+uXG43DwvdGl0bGU+DQo8IS0tW2lmIGd0ZSBtc28gOV0+\\n\\nPHhtbD4NCiA8bzpEb2N1bWVudFByb3BlcnRpZXM+DQogIDxvOkF1dGhvcj5BbmR5IENoYW48L286\\n\\nQXV0aG9yPg0KICA8bzpMYXN0QXV0aG9yPkFuZHkgQ2hhbjwvbzpMYXN0QXV0aG9yPg0KICA8bzpS\\n\\nZXZpc2lvbj4xPC9vOlJldmlzaW9uPg0KICA8bzpUb3RhbFRpbWU+MTwvbzpUb3RhbFRpbWU+DQog\\n\\nIDxvOkNyZWF0ZWQ+MjAwMi0wOS0xNFQxMDoyNTowMFo8L286Q3JlYXRlZD4NCiAgPG86TGFzdFNh\\n\\ndmVkPjIwMDItMDktMTRUMTA6MjY6MDBaPC9vOkxhc3RTYXZlZD4NCiAgPG86UGFnZXM+MTwvbzpQ\\n\\nYWdlcz4NCiAgPG86Q29tcGFueT5aaXBUZXggKEguSy4pIExpbWl0ZWQ8L286Q29tcGFueT4NCiAg\\n\\nPG86TGluZXM+MTwvbzpMaW5lcz4NCiAgPG86UGFyYWdyYXBocz4xPC9vOlBhcmFncmFwaHM+DQog\\n\\nIDxvOlZlcnNpb24+OS40NDAyPC9vOlZlcnNpb24+DQogPC9vOkRvY3VtZW50UHJvcGVydGllcz4N\\n\\nCjwveG1sPjwhW2VuZGlmXS0tPjwhLS1baWYgZ3RlIG1zbyA5XT48eG1sPg0KIDx3OldvcmREb2N1\\n\\nbWVudD4NCiAgPHc6Q29tcGF0aWJpbGl0eT4NCiAgIDx3OlVzZUZFTGF5b3V0Lz4NCiAgPC93OkNv\\n\\nbXBhdGliaWxpdHk+DQogPC93OldvcmREb2N1bWVudD4NCjwveG1sPjwhW2VuZGlmXS0tPg0KPHN0\\n\\neWxlPg0KPCEtLQ0KIC8qIFN0eWxlIERlZmluaXRpb25zICovDQpwLk1zb05vcm1hbCwgbGkuTXNv\\n\\nTm9ybWFsLCBkaXYuTXNvTm9ybWFsDQoJe21zby1zdHlsZS1wYXJlbnQ6IiI7DQoJbWFyZ2luOjBp\\n\\nbjsNCgltYXJnaW4tYm90dG9tOi4wMDAxcHQ7DQoJbXNvLXBhZ2luYXRpb246d2lkb3ctb3JwaGFu\\n\\nOw0KCWZvbnQtc2l6ZToxMi4wcHQ7DQoJZm9udC1mYW1pbHk6IlRpbWVzIE5ldyBSb21hbiI7DQoJ\\n\\nbXNvLWZhcmVhc3QtZm9udC1mYW1pbHk6IlRpbWVzIE5ldyBSb21hbiI7fQ0KQHBhZ2UgU2VjdGlv\\n\\nbjENCgl7c2l6ZTo4LjVpbiAxMS4waW47DQoJbWFyZ2luOjEuMGluIDEuMjVpbiAxLjBpbiAxLjI1\\n\\naW47DQoJbXNvLWhlYWRlci1tYXJnaW46LjVpbjsNCgltc28tZm9vdGVyLW1hcmdpbjouNWluOw0K\\n\\nCW1zby1wYXBlci1zb3VyY2U6MDt9DQpkaXYuU2VjdGlvbjENCgl7cGFnZTpTZWN0aW9uMTt9DQot\\n\\nLT4NCjwvc3R5bGU+DQo8L2hlYWQ+DQoNCjxib2R5IGxhbmc9RU4tVVMgc3R5bGU9J3RhYi1pbnRl\\n\\ncnZhbDouNWluJz4NCg0KPGRpdiBjbGFzcz1TZWN0aW9uMT4NCg0KPHAgY2xhc3M9TXNvTm9ybWFs\\n\\nPjwhLS1baWYgZ3RlIHZtbCAxXT48djpzaGFwZXR5cGUgaWQ9Il94MDAwMF90NzUiIGNvb3Jkc2l6\\n\\nZT0iMjE2MDAsMjE2MDAiDQogbzpzcHQ9Ijc1IiBvOnByZWZlcnJlbGF0aXZlPSJ0IiBwYXRoPSJt\\n\\nQDRANWxANEAxMUA5QDExQDlANXhlIiBmaWxsZWQ9ImYiDQogc3Ryb2tlZD0iZiI+DQogPHY6c3Ry\\n\\nb2tlIGpvaW5zdHlsZT0ibWl0ZXIiLz4NCiA8djpmb3JtdWxhcz4NCiAgPHY6ZiBlcW49ImlmIGxp\\n\\nbmVEcmF3biBwaXhlbExpbmVXaWR0aCAwIi8+DQogIDx2OmYgZXFuPSJzdW0gQDAgMSAwIi8+DQog\\n\\nIDx2OmYgZXFuPSJzdW0gMCAwIEAxIi8+DQogIDx2OmYgZXFuPSJwcm9kIEAyIDEgMiIvPg0KICA8\\n\\ndjpmIGVxbj0icHJvZCBAMyAyMTYwMCBwaXhlbFdpZHRoIi8+DQogIDx2OmYgZXFuPSJwcm9kIEAz\\n\\nIDIxNjAwIHBpeGVsSGVpZ2h0Ii8+DQogIDx2OmYgZXFuPSJzdW0gQDAgMCAxIi8+DQogIDx2OmYg\\n\\nZXFuPSJwcm9kIEA2IDEgMiIvPg0KICA8djpmIGVxbj0icHJvZCBANyAyMTYwMCBwaXhlbFdpZHRo\\n\\nIi8+DQogIDx2OmYgZXFuPSJzdW0gQDggMjE2MDAgMCIvPg0KICA8djpmIGVxbj0icHJvZCBANyAy\\n\\nMTYwMCBwaXhlbEhlaWdodCIvPg0KICA8djpmIGVxbj0ic3VtIEAxMCAyMTYwMCAwIi8+DQogPC92\\n\\nOmZvcm11bGFzPg0KIDx2OnBhdGggbzpleHRydXNpb25vaz0iZiIgZ3JhZGllbnRzaGFwZW9rPSJ0\\n\\nIiBvOmNvbm5lY3R0eXBlPSJyZWN0Ii8+DQogPG86bG9jayB2OmV4dD0iZWRpdCIgYXNwZWN0cmF0\\n\\naW89InQiLz4NCjwvdjpzaGFwZXR5cGU+PHY6c2hhcGUgaWQ9Il94MDAwMF9pMTAyNSIgdHlwZT0i\\n\\nI194MDAwMF90NzUiIHN0eWxlPSd3aWR0aDo0MzEuMjVwdDsNCiBoZWlnaHQ6NTk3Ljc1cHQnPg0K\\n\\nIDx2OmltYWdlZGF0YSBzcmM9ImNpZDouL01hc3NNYWlsLTE1MDlfZmlsZXMvaW1hZ2UwMDEucG5n\\n\\nIiBvOnRpdGxlPSIxIi8+DQo8L3Y6c2hhcGU+PCFbZW5kaWZdLS0+PCFbaWYgIXZtbF0+PGltZyB3\\n\\naWR0aD01NzUgaGVpZ2h0PTc5Nw0Kc3JjPSJjaWQ6Li9NYXNzTWFpbC0xNTA5X2ZpbGVzL2ltYWdl\\n\\nMDAyLmpwZyIgdjpzaGFwZXM9Il94MDAwMF9pMTAyNSI+PCFbZW5kaWZdPjwvcD4NCg0KPC9kaXY+\\n\\nDQoNCjwvYm9keT4NCg0KPC9odG1sPg==\\n\\n\\n\\n\\n\\n------=_NextPart_7HZmySBWvSemNjin8Kg9YAA--\\n\\n\\n\\n------=_NextPart_7HZmySBWvSemNjin8Kg9Y\\n\\nContent-Type: application/octet-stream;\\n\\n\\tname=\\\"./MassMail-1509_files/image001.png\\\"\\n\\nContent-Transfer-Encoding: base64\\n\\nContent-Disposition: attachment;\\n\\n\\tfilename=\\\"image001.png\\\"\\n\\n\\n\\niVBORw0KGgoAAAANSUhEUgAABsAAAAlaAQAAAAC7d+sfAAAABGdBTUEAALGOfPtRkwAAAAlwSFlz\\n\\nAAAOxAAADsQBlSsOGwAA/7JJREFUeNrs/Qt8G8d1L44PVstwCTvBEgYrJ02MJQzGEH1b5nnjJI52\\n\\nCYMRxDQlSFN1btoEebT/9HEbx03T2InMBSkqohg3gBSqStPUgGipou0kTJr0pklsrWTJpW21gZ+X\\n\\n7U1qUKIUSmIcgC8TAHdnfjO7IAViFy9FEEj/eT42BSwWB/Odc+bMmdmZ7wD0GhVQ7QJsANsAtgFs\\n\\nfcoGsPUmG8DWm2wAW2+yAWy9yQaw9SYbwNabbABbb7IBbL3JBrD1JhvA1ptsAFtvsgFsvckGsPUm\\n\\nG8DWm2wAW2+yAWy9yQaw9SYbwNabbABbb7IBbL3JBrD1JhvA1ptsAFtvsgFsvckGsPUmG8DWm2wA\\n\\nW28CpGqXoFLAql2AigGTql2CDWAbwDaArUvZALbe5LULrNoFqBgwqdolqBSwahegYsCkapdgA9gG\\n\\nsA1g61I2gK032QC23mQD2HqTDWDrTV67wKpdgIoBk6pdgg1gG8A2gK1L2YiK6002gK03ee0Cq3YB\\n\\nKgZMqnYJNoBtAHuNA6t2ASoGTKp2CSoFrNoFqBgwqdol2ABWJrBqF6BiwKRql2AD2AawDWDrUjaA\\n\\nrTfZ6MfWm2xYbL3JBrD1JhttbL3JBrD1JhvA1pu8doFVuwAVAyZVuwSVAlbtAlQMmFTtElQKWLUL\\n\\nUDFgUrVLUClg1S5AxYBJ1S7BBrANYBvA1qVsAFtvsgFsvclrF1i1C1AxYFK1S7ABrExg1S5AxYBJ\\n\\n1S7BBrAygVW7ABUDJlW7BBvANoBtAFuXsgFsvclrF1i1C1AxYFK1S1ApYNUuQMWASdUuwQawDWAb\\n\\nwNalbABbb7IBbL3JBrD1JhvA1pu8doFVuwAVAyZVuwQbwDaAbQBbl7IRFdebbABbb/LaBVbtAlQM\\n\\nmFTtEmwA2wD2GgdW7QJUDJhU7RJUCli1C1AxYFK1S7ABrExg1S5AxYBJ1S7BBrANYBvA1qVsAFtv\\n\\nAgSbYPK4XaYm+nUMNQBcA23AGQmcAJ2gpp6J0EPsjZyZA8ONNrC/bxNt8gCbxxGw+oRPBFwBaqDf\\n\\nR7Uz17M1LOhkB8H2VlMfGAZmR71Q5+LehlWL1QNmDfy9px70Xh8QQpTvBlcfxzaGGCtop/6E9VD0\\n\\nO0yUUCf83jATEL4icF6Tq26olWXYp+g60GR6x4DDRL0R9HJ05K2dtMDdwbFOMEQ/ww3QzB9TdACr\\n\\nriIwwQpYb7PtE83mrhFKoOpq3A/UtLbvAF7Qyo10Bka2tEfqAONsML+toWZLt4kz0X2HPkhFjjQH\\n\\nnIALdbuOd9uO+OgAbTXvvtHcN/QICIG+Vt9DJl/XAayarx4wurXNTQUECkQAGHCNCD4GeycA9TUN\\n\\njNkEGCoAKG74kEngTMAHgMfWzblowJkBYPoG+2tAgDYJwMR2+gIRFgRcADjMzayNAmwNIKqraLF9\\n\\nTusWl22/a7jGs9/Z19ZE7W+zCSP7PSHv4UiXd3igwerdX2cbMm+3dVLD262tjv292x2DXPd2h9fZ\\n\\n5dvi7PSY9zq304PtNc5BV2+ncy+3b7tweF8b2+zEqqtosYr+tGyvHjCxktrhaPWA8RUFZnmNAkMH\\n\\nqwdMqqj62uoB4yuq/oXqAZMqqv6r1QPGV1T9ieoBEyuq/nz1gPEVVX+hesDEiqo/Wz1gfEXVJ6oH\\n\\nTKyo+tnKqi8EjK+o+mT1gFX2l1N81YBV9peV9QNMWv1WvPwypf5dXPWxXD1gUvF7cOEliOIaiLFV\\n\\nYFBWwWX1L46D8cvXFHvVgPFFb4EYuySLU4gn1niWXLpslqz0PWnP/I0juHKxo2rAJIOLbaveyS0I\\n\\nBZPSeWQnvdIpEYXR9AroO1dui6VVEOltaA4p4vLn9qoB41e99bAAJ3im5eIkhOEWpFgQOm6yX+jZ\\n\\nNotvPsujo5cTCtmElhvSnoSF/JPcg+YzV9SrawMYBAADOw42Zd4vmFlAh/C7fS7/GXHThTBCTyM0\\n\\n2O0SMzcoHfhP2k9eHkipF5M8mrHuXtF6y9oAhlRgAJgyb5ON1O8dqnkPQk+12k/t/NA8vvkkkiKB\\n\\n/mVgsp3tfasviN5nQg4ty1gS4/P9bMeywq9XDZiU/U61mAyErG77jPp3T1p8QeGfw68mkX8MnRHR\\n\\njHpLUvQ4A3QLEgZ7a/5UqwtxPIFS9uWvryVXTJo+B1YKhiMBkdGkuEtWgY0hexD1LidLZ8QAa8FB\\n\\nsp4d8mkNLy0+NIvmVyrmuaoBE7PfQQ5QaMKCBIv2PorQRfUFttjBlHgUTaEX5NoxMvmUlsj15fFW\\n\\nVObROaIApcSBRFZSX7UhdG4/hgty3I4uZIDFVFeURTSeRJYkDocJpu+RLQeJg8lqjZxcqRJJdVp5\\n\\nH0O3fgElV/RVbUCWCww7WUBEyUxYfOKRupBAWe1ojyz6Z1AQzQpOsGsPGlWjH8qahZJ5NaWCoJGz\\n\\nfg43xGWp2hA6N7vfhYHhYmYSimdBxGyLbLfjDrrHvoD8SHH0xrC9LBlXvDzTiw14giSSz9A/xfY6\\n\\ns6JvRkTVEQOLEWtl4v2T3bTQSgeC6GAaHntIi3VjaBwj1J43KPxU5ns4jcdZJL6OYc1czkxwZ71m\\n\\ngEEC7Lj2LqqGNex1Y8m/EQ+mRYRw+xP3kERJVkHwy7aReeyWsAM7Ybpj/nLTy3hsNYCJq9+fQLIF\\n\\nrQQzifRbaBZHReWPSTsjUCfEoxBfh2H8eUp8PvM9fOkggtehJZS0JLBNl0WWqgWMX/1+Fy4Y/mdC\\n\\nw+tHi08j+AXSj6XQaeJpB9FL4kGIvwRbEAmZhzPfx6BPBZrqEemc0zjKrADjUXUkN7vvXQWsDo2d\\n\\nlJR3YovJ96LzZCB2Ehtzj0I+JbftQYHM93EbCzSAbRhgUkwQF14Wf7WA8bnAEuSK+gfBx+q8z33P\\n\\ntg1HjORO3FXjWDmNDRckPglJie2oK/M9mUct6CXinLI4r4LWpGrjFn0HnQVMfrO7/sm+AH4datjJ\\n\\nz4pfJ03uKDqqTgJoPYLa4cXVthTUOvMZHBX9l4G1rBFgvVoSKKuXU1tZ8cQQeXj3pCD6kyIOdjPY\\n\\nzfaowO5S71ef7EVVV7STgK+ISTQPLyuFwTUDTDVWZpiPMb6klT8t2pPSRfKUwYLG1MR4m1puC/m7\\n\\nFy3imrCQPETh5zD4LKXVGpDls5gdhdX38RPq5M2eJLpF4SdI92tHB9UpDxUSfGzIGaBaUWKniBsd\\n\\nTiEhfx4ltTxSk2qNW/TAJsg/SQvUqnrsvNpjHVTEWmifJZNQHeiomgo+RP7It4OA1UuLs2/ZCveQ\\n\\nUSUMn0QzMAvY6WoBy3nfq0V6aIek9aS+Pv7cf/XYSVQUf7Q1jI2ZhvbYHjWPUh9WJuBTZi/3fZT6\\n\\no9t3biaJJuTHl+ZTWQofqhYwfvX7E5rFZItM4p1MHzrZzxwlbQzt+ruWBAke/Oh4bKXEl0gtYOCJ\\n\\nnT/5x20kiEBpamYmG9iT1QImrn7fq2XmGBgOcSi5nT79fKOFdNDiV7kgThaXoFi7Z2ylxDOIGAnH\\n\\nDPm2N92lhkg+eulz6SyFT1cLGJ8L7HgG2A2kzCJ6QQ2B4zjW19qTaFAQ2vdp4V4d9JOckrTBGaVZ\\n\\nmMSBMsG0cdy7s8K95gBrCRgk4UxRp7QRSYLFn/klBQWs9WCT1kGrefIOpCUXKRmYp9HdaDYE6pjv\\n\\nZedRl6oFTNIBE5HaP7VowF5Qc/yDyS+/isuPFmjsbhY16r1KbiPjNpJczSnizCTuAZI1HyXTJMHL\\n\\nCqv1TDNPuFfHLqorTqk91sH5L+MYoWj37IGkNsh9Sid5jxHPyPzS1DKeMxkzq1KtR396iyXIlbRd\\n\\nAxZGWnaxZ2YnBqk9T0EtamZLZjOSTUhzxQUoTk4vr3W7kDUey8xmVQEYnwtsgpREHbvgMrNc53Ya\\n\\nB/ajiZ5j4vLzyVr1GQrurdE8CaFQUi0Wn0FabaCzWXMeVRtC58nutVwRwb6v0DSL8/jw/E7WdzwQ\\n\\nVq8GVZ9LiDjXV8O9nQQPaWxhORjOoIXLCuVwlYBJq9/3rgbmJ1MDLRjLws5BiqZ5tZWNqm2ITNPs\\n\\nWsgAW5DFOEkj1QeeF5Z9VlVRLWD86ve7VgHDRT2tFnw00cOjxRlRJpGyVk0AicVGVZ/zYyNha6Vk\\n\\n/E0MQzqLslKPag3Ici2GXZFg0gaaBNNJBGPYkAIu9VySZPpJcbM6T7qEb5FIOkw8cA4PNOX7RXVo\\n\\n1pHImglGyw3vmgPjV79ftpioveXRtGqxgZoeCS38FYn/Kf6oOtOr3qK6Ylh1RaR8SVS7veAFlD1u\\n\\nsawNYMuTOdplzWJh4oo734sS70IQtHn4WvVJRZrccka7CadUPJJvw2+Ou8DNZ1F2TrWtSsAkY2Ci\\n\\n+g6HtBfUUobTO38onv0cQu0MFe5QgakzhuSF4kdq+1LuxW9O9R2pPYOULK1VWhast5g6b59JXWEz\\n\\nFWmqxwUPJuD94vg8sU5S2qy2IXWlA5nyJZPds8T53oFUV9x2YZXFqjSE1g9bIAEW0N7Jbq854LST\\n\\nCdOdWzt2JUijk3FUJFFPJoUnrkgsRlwRNmlI+bOrZhMfrRIwXgds02Vg2ECTapIbntkp3vCZWXIh\\n\\njW5Rsw6CRx2UEYslCcxGpM6I28+smk2s0qM/gwd/VCZrR+qThzG1lB3z9/NP4GE0BpnEzkVcUZ2g\\n\\nIoMy4nezUFpSnQ73cP55bTY1I1Wa9NAHD/LgT848+FNIB016InsiySf8CRIh02izajG18GobC+M0\\n\\nROZPIjI0xTlJ+MyqdKNK45Zci+GS4gHZvEV7t+KK9vn7RNmeIBdS4h6tsOQeYjHyQCkhSzdAMguC\\n\\ng4clscoVq/Sw1sBixy3k+boqOKRrruif2ckrt2Afk3DH3KIluWQq+EmUyRWV229B1yHVYqPnVrli\\n\\nlQZkBo9qE+D+5eUQmsUkCdmT94oXajMWq9UsRpqU+kA9TCzmDMscUi1umViLrkhWcACOwJXIW293\\n\\ne3vALkFp/j7+9N4UMYUsBrU1EhakuSJZbJmAPjH5OCJPY5D90qrVfGkRVUMMgMnakiM/ImvATIBr\\n\\n8IehfXYnf/PEPAkkCZwkkSUd6oNmMrlGwv0CDjezn+OJxeDoxGpX5IuXohLAJB0wBABuLWo/DQ97\\n\\n3u4R7GEoJu7tCb6aVPsx0aJOJxKvVTspklslzrSgc2SxGG6SlvOrRpdVelhrYDF0HLRkNuvJ5NEQ\\n\\nlOwKv3DfB+yJBDFFQjx6mzoMI3Pc5FkMCR7pF3l0Qg5q/djE5EeytFbp0V9u8CAlTeKeTOvKMA5c\\n\\nUl5SxKR8r5haIK6YFn9rbw25lUR3Mn4h4X4C9+qn4WbVFS0LT+3N0lqlIXTepbPKHUjtoMmYkpf5\\n\\nxL03I6hGxYRYe+pmcseJzP/Y72TbDWSOZw/px2BwIp1dXbCjOsCkPB/Im5HaPohNJBkp9/Pk4RiM\\n\\ndNaLo9pjypcy/5P8t9dPfPcwHrYwvpZk5mlhRlqqA4zP8wHMDDdOE2eCc+xOnkw/yVbgEfdoQY+k\\n\\nU2o/ZkfQK5Lod4JHkUCdZXZ14lud7Yz5l6dnED9J5mOSSc+XQq6nBkiDmRGD2nCLLNXG4fGhZl4d\\n\\nEcziTOwz2BuhP5k9E4zQ0eoAE4vc8PwQf+IuRWaSNQ6qi2Ty8+Jm7ROy6Q076kCdX+3NcQ2kTGrm\\n\\nkZMdVmc7Y9F198epflvtDPqUzJPsCFsskT2LgTvoMwKvDgB+gJ1yCx5WwpacpXwnUTWkqMUu+rjh\\n\\n4CJ6mqzRTmv9WNZCAGI1m0ReqY8x9pBw35HzSKw6O2uLWixhPgDERXSSZEYzWm+7+fKnxBrqcyft\\n\\n4UOc5Fn83GoN1RlCF98CcpxXl95ASQ0VBETW9AxJgrUNppkkHt+Z+xCzOhtQS94/RmJg5vlY1kMi\\n\\nkggv5t6as/iyOqtnrwEZUHUGZNeA/KU6A7JrYLFk5X/CCBhfeWCV/4nqAKvOgOwaAKvOw9rXrsXE\\n\\nyv9GS1WA8ZX/jao8SNqw2G8gu6oCrLIUaarqqiwyBTQIgN0CJXi9VhBgATsCvHV1lMBSgGoAdaZG\\n\\nzksBAbgjJs7prAMCA5hu4KT7eznGBEzmAB0IhZwmwIFGHwhZrXSAowHdDKyUWwgtq/5QVYB5TzkP\\n\\nc9TAXqq3dcuN/UP9oLOe87mabmb3hwJmh9NcQx/+lLWLNXk8vUJk6AF3uxu4BkIum3XfwHavUFNv\\n\\nraH6ut5et4UBww4h4mv/YGNTI7B5vDZz3bLqTb95Ma8AGKgHJrfPTbucNwKKA652RthN7wLAA2rq\\n\\nWhk2EvoEYALgkKuRslmvByYW2Jpozt3XGgAOQPVH+hmf922AFoBviO01170OgAFgtvaxja3c8WXV\\n\\nW6oCrJluDzFOp6/X6z4i7O0y0f2D7Bame6S+WeBC+9w1jeYDVJOXtlpdwuHGrojnYdDnbmNs/c3d\\n\\nzAGO9XoPUaHd7b3Ww1RdnY3rYh/2OboDrY2OfrO7YUV1VYBJ1fjVDWAbwP7/CFi1C1AxYFK1S1Ap\\n\\nYNUuQMWASdUuQaWAVbsAFQMmVbsElQJW7QJUDJhU7RJsANsAtgFsXcoGsPUmG8DWm7x2gVW7ABUD\\n\\nJlW7BBvAygRW7QJUDJhU7RJsACsTWLULUDFgUrVLsAFsA9gGsHUpG8DWm7x2gVW7ABUDJlW7BJUC\\n\\nVu0CVAyYVO0SbADbALYBbF3KBrD1JhvA1ptsAFtvsgFsvclrF1i1C1AxYFK1S7ABbAPYBrB1KRtR\\n\\ncb3JBrD1Jq9dYNUuQMWASdUuwQawDWCvcWDVLkDFgEnVLkGlgFW7ABUDJlW7BBvAygRW7QJUDJhU\\n\\n7RJsANsAtgFsXcoGsPUmG/3YepMNi6032QC23mSjja032QC23mQD2HqT1y6wahegYsCkapegUsCq\\n\\nXYCKAZOqXYJKAat2ASoGTKp2CSoFrNoFqBgwqdol2AC2AWwD2LqUDWDrTTaArTd57QKrdgEqBkyq\\n\\ndgk2gJUJrNoFqBgwqdol2ABWJrBqF6BiwKRql2AD2AawDWDrUjaArTd57QKrdgEqBkyqdgkqBaza\\n\\nBagYMKnaJdgAtgFsA9i6lA1g6002gK032QC23uS1CyzUHQm4hvZxVvqQ1TzE1lj3OylhyNHa1QeG\\n\\nuzwBr7Xf2+wTbO3eUB3l21vTzlB7t1tNXHs993Ar6NziEJx1bmeDizM3Ob10r8vTd4Q2eQ7vBaEm\\n\\npgqq77wMzBEYaGRM9GBgpM7jq6cbAbfP12ByDVJcP0dbm6lIU73gYftBX5vQTQ+7mD42wHpHzIGh\\n\\nNhPrZqm6BpPPOhBxMG7Q6og0U502upURGGd3jdBeBdWXDwsHXmuNze1zsfupSB0lDA+011BWodvE\\n\\neW2ddULE7TUHnHXUYKPLxmw3+ehertPTRPXWcc0g5DS7+iO+RmeNYKV729ghM+0MjFBCyDVs7RX6\\n\\nQw3VUH35eHcAIhGBo4R+zksHbDaGBl62vw6EqL5eEKij2F7OCnw+jjVxbhZb22ymKeBk3HTAa2oV\\n\\nAgLdywihOuBysQwINTLYkWpqKBOw0o2U4KyC6l2XgdlqzObBETO7u9HmCBxq7dxhcrOHHf0+m6u5\\n\\nOeJy2/p9g9TumrbuGsYdGqwXfJGRRwKHmK56t8tsa2jw2RrNblebyd03/AjV3+htYyIuX/cOwde/\\n\\nhTlUBdWbLwMbdtX7OOzTXF+rrY1qpoGD8bBex0CkTQhgn+6rozttzAgLBhrZVm7Q0dtAgXrawTjr\\n\\nPT5HRMDNpZXucw3S3QzwsANcqK1eGOwFTF89bWWqoPqhy8DoXoGyed19jIvDPgzcexlfaw3NWGsA\\n\\n09loZrhILyVETGZnYyttY3HzAI2efhfX10fXUQHaFdpNsz6hl/OB3VY20mdmWKcZsMNuG9vaSlVB\\n\\ndW1WuG9ucAb6BlxdrXXWGvfhENtZY/Y2OoSR7v2UmTu0nXZ6G8z7hVaPbQvXv5c61OVlXH27new+\\n\\nrrt5u6mG9R3uszrNu7dz3LDZFnJ7en0PO2lbq3s/462C6kcvA9suCAEry2IbC3UuhqXcFMuZGFOT\\n\\niQJewU2DRuCMcEIdw2D34eghmjE1mhgW9IP9gV7g5BopwAasPpaj+2lOoFiqnaJBKNDPAHc1VGeF\\n\\ne0C7twjevq4G6/4IGGhz1bHt7uGublDPHDE56rzd7e0BqtEWcbZuMe/d7gMexxA90NTYuaUZMP1d\\n\\ngX304eamJsHEDvqs3NBuz+ER4KhvpzzW0MjQgSqovuEysObv2wJ1Ti8QBKbmDxwhk3MvYBgTeORU\\n\\nF3Du40wmwDV8ZFCg9zsBx9HUo/VesN8ToGkQ2PGpLcDqDYFAgDV/u42jtlsBy1KmHQOHwXaHQFFA\\n\\nqILqscvAAiZAHwKhh+uv72QBB4Y4a4OjcdABaGDtp9yHPW/3CCBA+QLe7oGvuAYAC9rZOvM+9sl6\\n\\nQIE6t6mxy3HjMAcEk0twNnvusHkAA5oYerd34FMDVVCdFTzqPbf66GaKwvc5XLv/HOwWBGGIo9vY\\n\\n7wjsCMNY+8HAcMMI1WAy4SLU29z/AtwRzzzztnKcfAH0SYbpqucwNPp/lFkzkQ6HUJzGDjRwONPpZt\\n\\nYkxVUJ3liu56YD5U7wp5qGbGzZm6HU1WJtDWynhAc79nuJVlRhqZQI1vYMjrMDXQjSx4pN66lxYc\\n\\nkX4HaHA7OrkBupvtF6gRT7uzHgz2sQNgB7PX08fV+6qgettlYC7BJ9ACxudpbWPMDBgAjNs14Dpk\\n\\nagX1wMS01dfYOBdHcaCRGeaG+2to4AF0o81j8wUiASYA+h0DfYOsjTWxgO3vZDvdVB9wAIoddJir\\n\\noDorKvaaa+pZ8yOukCvENgrDDtOONmuNlaJdNo/QPDIsDAvCbmpgoGaHzWvzMmyksx48MryX2mui\\n\\nbGYH19DdyXVynLvX46EeGXSanTTjcw0EdnR6ej2BKqi+9TIwnIPSH+RADU3h+nCCgVM4LQ6Q+gjU\\n\\n3xgANpbUR4i6mQVUnwlXtRV4PgWATyBVLTAPCMDM0Liqvab6AYA/xlVdBxxvB8DFkaq+5qqzgkf/\\n\\niLmTHdjNde5j2QOmdkc9e9j8DgdljWzxuB223g96BHd3jWvA4w65nhpg2gNH6pmBrpo31pvqfLbh\\n\\nxnqz8JCDa2ymhjyORq/tjz10k9A10O/ZQj0wEKiC6qxcsZM6xAj1nNlDHzFz3Y0M5TR5A0OHPOb+\\n\\nRuAJbGGtQ65eXz/HhGocVNdutpntN1nBYaHdN1zjZgMOwTZQ124TRtws7aX2mba4BxrwwHAv6OKa\\n\\nXFVQfd1lYIyLNplPMQKIgEM1IND4kV4G2ICNi7D0rWwjoAJUv40Cuz9Fc8AHfH0Bgf220A/MwMz6\\n\\nGKphgA2YBJPbbALu71MscAFXq8Axf8C5QQ2oqYLqLIvhqPKnwOrev9/czbgOvR5Q3q6u1vbeGltj\\n\\nBGw3t3u3+HDAeheoa9y+vaaZtvm+EjA5t2zhjgg4YD0LnLubnLYRHLDeBOjQ4cN9Byiz6w4B7LcN\\n\\nhboiVVCdNR5rBg9Rf44DqidAHRFsn/iw4ABMCHSPUA/UjdAC9g3zAdDZ+24cUB2CqStifttbI/WA\\n\\n9oLmbtMH6RdxrN4LatoDruPfDHhAPQce9tXceIOPCVBO0FAF1dlJsI1hwEhbEzscAFSvCTQwh4dt\\n\\nPhydOI46ZBtyDwJgxvlbt2P/QKcATEIgYO7v6jS7cHRiWZNvsL2xDYAanL8112/3uCI4OglCjXuL\\n\\na7etGqqzZqnwAMC9u4b1cozraRfD+CLDdbSp5o1NJpPZZmvlAtxDeGzR6O4bcLK07Y+HaNrl66T7\\n\\nQN8D+wOB3WYzFxLYzv04zznU6rEylPkd7RRlc7n6WkHrB6ugOstifQ31rI9rBLsdfax72IGrkGMP\\n\\n+9xMt6dVCPRTtkGm1TwwgKsw4N7XyjR21uMqZJkuVyPd7OAigttkbqO53R4PrkKh0RvpZ0cG+npN\\n\\nDL3FxlZB9V1ZKRXweOgDtJkDTjxkHwjsj/TixCYQMdWz1m7WFQAhG3A4qPa+GhZY8ZDdI2z3CcOA\\n\\nEnxgYKCumbEJwGsG9fWmplZqANSZBMrBOUe4TmDiqqA6y2K721nTISBEBv+MDT3sBu/iGFv9hx3W\\n\\nBpfwun4T1bflsNt9hAHPBjhf27sGvN2HwJtY2sz807468xC3yQ16W23PNzZ29YM/FViX45seZ7Mv\\n\\n8HqGqqHv9PZXQXVWSsUBdzfd0MDgfoUGuPvvGz6E+xUhgLt/trub6wd4sI67f/NgP+5XKIC7/9ZO\\n\\nXx8eBAk4aWGam1k3oBmAu/+aNjfuV3oBziy4kZFWfK0KqrMsZj68F9ThpmijXzzUjce1uCm6A98c\\n\\nasbjWtzKGd8NXbu78LgWt3Iz9ee+R/C4FrfyRuHD7Q14XGsNBPpddQ+7H8bjWtzKd5ve7dqBx7W4\\n\\nlbORtx6pguqvZ1mM4agI7lMChwFtwrEX9ymsLQACXMAcwKkMFQIsjWMv7lOELjyy7cMdXz3HmAUg\\n\\nsEKNgFMZkxcwFI69uE/htgATaAUNuE+ha7hqqL75MrC61ppu61BrN1vPHXJxj/R1DTT3UU5bE93g\\n\\na++s8Qmevv5I3yN17dwjDBPyDbE7Wrd4GlpNVrO1zzzS5Oob4Rytbl/rDvoIu4Omva52pjkyNGyO\\n\\nBPbWVEF1VnYv2ASTx+0yNdGvY3DscQ20AWckcAJ0gpp6JkIPsTdyOPYMN9rA/r5NtMkDbB5HwOoT\\n\\nPhFwBaiBfh/VzlzP4rDWyQ6C7a2mPjAMzI56oc7Fva0KqrM6aGvg7z31oPf6gBCifDe4+ji2McRY\\n\\nsS//Ceuh6HeYKKFO+L1hJiB8ReC8JlfdEB7Ss0/RdbiZvGPAYaLeCHo5OvLWTlrg7uBYJ24mz+Ah\\n\\nPfPHFB2oguqs4CFYAetttn2i2dw1QglUXY37gZrW9h3AC1q5kc7AyJb2SB1gnA3mtzXUbOk2cSa6\\n\\n79AHqciR5oATcKFu1/Fu2xEfHaCt5t03mvuGHgEh0Nfqe8jk6zpQBdVZj5Ho1jY3FRAoPAAAA64R\\n\\nwcdg7wSgvqaBwSMGhsK5GDd8yCRwJjy2AB5bN+eiAWcGgOkb7McjBtqE0zy20xeIsCCA0zyHuZnF\\n\\ngxG2BlRDdVYb2+e0bnHZ9ruGazz7nX1tTdT+Njy42+8JeQ9HurzDAw1W7/4625B5u62TGt5ubXXs\\n\\n793uGOS6tzu8zi7fFmenx7zXuZ0ebK9xDrp6O517uX3bhcP72thmZxVUZ4V7GgTAboESvF4cPFnA\\n\\njgBvXR0lsBSgGnAa08h5KSAAd8TEOZ11QGAA0w2cdH8vx5iACYftQCjkNOFuvtEHQlYrHeBoQDfj\\n\\nDMkthKqgOvtR7SnnYY4a2Ev1tm65sX+oH3TWcz5X083s/lDA7HCaa+jDn7J2sSaPp1eIDD3gbnfj\\n\\nGBRy2az7BrZ7hZp6aw3V1/X2ui0MGHYIEV/7BxubGnF489rMdVVQnTVhSqb43D437XLeiF0e4M5C\\n\\n2E3vwi4PcGfBsJHQJwATAIdcjZTNej12eYD7Ic7d1xogU3z9kX7G530boAWA+6Fec93rsMsD3A+x\\n\\nja3c8SqozpowbabbQ4zT6ev1uo8Ie7tMdP8gu4XpHqlvFrjQPndNo/kA1eSlrVaXcLixK+J5GPS5\\n\\n2xhbf3M3c4Bjvd5DVGh3e6/1MFVXZ+O62Id9ju5Aa6Oj3+xuqILqLIv1foKj8RA00G0C7P+gQYjj\\n\\nWHOAo2oCAStNUyYfDYTvsRQe3QrNIMD8FgW8LMvUCKyJOi7UUZQJjFCA+whj4gSBawACfZ0JOBmG\\n\\npiJMNVRnPVx3Mv0+l6uzweTc7ullB2tqzI6Ic68rhLv4yCFPN72vyUq7XTabazCw3zksDLRRfbvr\\n\\nfVbPkBdnDz7fcDPl3b+XarSZzbY2Ybu1k/M4elvdAyN1jvYqqM7KFQO7m+roPrPgtNIse/gQF2r1\\n\\n0n1CH2UbclqZLSDkZQX3/v6+1hrOWkcxTJcv5OUOU61cq8ncbq2jbQGvk+Eat7tbub5QHd1L01tc\\n\\nXifbZeJCXBVUZ81S3cgB4HZG6kzg0CYa942eIRPH2bhPBICJ2R9w0lT/9SwAjVacAgR8vX24b3S0\\n\\ngxBrZt8mANC/XbBSJvfrGADYvS5KEFzCCQCo+ibgZWqYKqjOckU3vf/IjaCm1ellvML+7ocAGHHu\\n\\nNdUx1vahT4AGeh/X2Eht73oAUJH9TtrJbW/uDIBuqyfQ31/X1P42YO7zhthQr/PhDwKTb7uVsrLO\\n\\nA67joLnOIbiroDoreFAP00xr+4gLOKzcDq6X2bKjBtBuj/kw21jTHImAAW9vdx/NHem2gfo6tjkk\\n\\n9Nse6QtQjY6aLobtO+DzAY9TeKSVYrseMQOmf6DBy7nNO1oFE7uvCqqPZnXQoNVNAxPV3t+/FzAu\\n\\nIQC47b4QHpTW4IE7XddsteKM9BAFQG+T243HuzY8cGedI1483u3rZ/DI/EBdHc5Ifb0ACPsPNeLx\\n\\nrhkP3Blrt9NZBdVZmYd1h4vd393Ohd4WotqPUNb2vR7r66xge3fEvb3T1Sc8IdQ1DzHbm5tY741e\\n\\nU1NXb12TZ7huUx1wPuJrdI4MtXKf5OgD7bTzgHXAeb0T7H9Y6N8/3En39geqoDpr+g2tFZGBqxGw\\n\\ndRwrOHtBDc1RJifF0CEORPqB4Ay0gv00sLEBfInhrEKA6mNNYL+Jprws8LkBvsQFtlNZFpOqDWhZ\\n\\nFHN/f3N/K+WxDtoafaHdvgHO29fp7m+2so/U03Vsu8u32+1ucHO9jro2MzvidY94WGer65C7oY7Z\\n\\nwfTRA0021x2XgVUbz4rITpMV1DPegQCI7L5SJUuXgUnVBrQCLPARto8+BKguB11/pUrm1iAwWE/1\\n\\n+UborodN3s47rlTJ4hoEpng87KCJGwAuE9hypUrWosXkRnYIDOA8q+9wc82VKlmTbWyAbt1hDY04\\n\\nXHVg35UqWYsWU6hhBnAmaqBPcDa+loDJ3jpHk7nbJQCrUPdaAgapQB3DBfrr3tFvO/FaAiaHHJFW\\n\\nd3OjEzQKN1ypkrUY7mXa02RjAiDQzph7r1RJlsWqjWdF4CEWmFqtQ1u44dCOK1WyJsM90/eIixVM\\n\\ngHa6TVeqZC22MSg4Qd9XzCNvbQXM9qsArNp4VkRxBOpZIFABV1dv05UqWZOuyG7BA+sGX72Jtm66\\n\\nUiVrMSoqdIAhK9f3e1zC1cg8qo1nRWSBjngPDwXAXvfevVcBmFRtQCvA9jsaqHquzsMB7jXVQUMQ\\n\\nEt4VqBHqzQ1065UqWZMWG9nLBMyhJk443tlwpUrWZFSknA4qYmLarGZwNVKqNQNMYYF3hCZLwLq6\\n\\nb75SJWuxjclNbRQlULb6HcD9mpoaULws621wHnICK/PwlSpZi64og153f0SgwX7BcTWS4GrjWRGl\\n\\nuZux0q8TulprBl5buaJgckQ6fdZ+hnVcjcyj2nhWRLnBBuj+Xmd9o7f/NRUVoSC0hwADIh6q/mqM\\n\\nx9YMMNlaD6jhzvYa9jB4jQ1bhroiDAUEt+kPDl2pkjVpMR+gzL3e4XrGBa67UiVr0mI1zSHQTDEe\\n\\nrtf72pri5gA9DHxCb5vT+tp6ojnY5mD3UuYbWVZ4TT3RVBo5lhmpF4RAL33kSpWsSYuB+t1uymM2\\n\\nNzvZdTFhmqwxA9b2jqL3Kdf3c6564IuYTHesi+CheBvb29x00fvgJ9l6EOnusx3u5j58pT92LV0R\\n\\nUv0cA4p3uTJo8zho4HKDgHlduCKKEB6z4l2ukk2Rti6APUN4zPxFb5OzKdKuArCK40IJwmNmL3qb\\n\\nkkWRtj4GmvOEx4wvehvMpki70t+6pq4oEx6zEm7LokhbH0kwJDxmJdyWRZHWeaW/dW1TKsbFlbDq\\n\\nS86iSFsnA83nW+s2F78LZlGkXY2H65XHhY4zgqX4XXIWRdo6mbtfsO4v4VfkLIq0dbLkKCkwfAm3\\n\\nZVGkffpKf+ratjHl+lKinJxFkbZOggc8VEqKJGdRpK2XmeC+W0u4ScmiSFsvM8GntpVwk5xFkbZO\\n\\noiK6EC4FWBZF2np5Bj3LlwIsiyJtnQQPpIgl3ASzKNKuRq54DXAhWMpNcjZF2pX+0lqcfoNZFGnr\\n\\nxWIliZxFkfbVK1WyFh9KyNkUaVeqZE1OcWdRpF2NvS3VxrMichZF2nrpoEsSJYsirZQUzFDWZBvL\\n\\nokh7TbUxOYsi7cCVKqlwPzZRhCKNNwSWRZH2mrIYzKZIey0Bk7Mo0l5Tj2rlLIq0XVeqJCsqVhvP\\n\\niihZFGn5OmiIhsWCStakxbIp0vLgeoYb4EsFVm08K6JkUaTleYyUBH2tYkEla3HYImdRpBm3MUgo\\n\\n0goDW4uZB8yiSDMO908TirTCStZkG8umSDO64YJKkcaXCqzaeC4Dy6JIM5wwfUalSBNLBSZVG9Cy\\n\\nKFkUaUYTplCjSCusZC22MTmLIs3oaUtCo0gTCypZixaDWRRpRhu8MxRp6w+YnE2Rpv84laFIW4fA\\n\\nsijSDFYN9C9TpBVEthbbGMyiSDNY56FRpGFUxz9UQMmaDPfZFGm6TxWVIk1SX7aUBEyqNqBlgVkU\\n\\naXfqPk0QirQO7fWMmFfJWhy2yFkUafrM43lCkbb8Jv/K2rVoMSWLIu1R3aeEIi28/AbmLfSatFgW\\n\\nRZrOYjKhSBNX3o7nU7ImLZZNkZb74Xwd2541i6qUAKzaeFakIEXaGYcD2LPe+/MoWZMDzUIUaf2g\\n\\nzpv9fjKPkrXoioUo0mB9++Ha7AtyHiVrMfMoRJE238flFJQ3VrIWLVaIIi3Bmq3iqitRYyVrso0V\\n\\noEi75I7kDKqXjJWsRYsVokgL0OZbcqpBLAMY7h2W340WKcUkKluWinxeiCJti++QPedSuBxgIgpm\\n\\nlmQMkD9pNJOvFBd5w8s8FHOufD29/CopooJSgCJN7qOWh2H9y/lHvAxgci0ag1pNPKEWxZ9erpcs\\n\\nC6k1P3+5ApVM8I3h//fBPYsraQG5gHbLLZmblG3L1y7H5FWlz0+RpjAzzzzS77ee7Qu/kcCNliHO7l\\n\\nR9EA1BKXZ0VcBqU22SIRTOlG1+W7FsifhH/lPbaEQmqR5G8miFtHOlOnQfLnOVn9J4m1d6BMMDtj\\n\\nDCw/RVrCkVmaedY6SAu3LNdnYYtlV4wdReAm1cpPkjLId8mjo+gCSQqybpsg5U6JK5WzwCNI7LcH\\n\\n/38YfnUGJXkU2dtuC6mDqj3yZuxlIr5fJpltnFy7YFimAhRpT9LtWkWOAIBVa69FIyXG4V7m0R6I\\n\\nizOG0GmEbsHlTfITJtyQYYO6BkjzgUvknxninaEdbTgdSNgRFBzmEbKRahc8mKRb/YjhQIBS/WlU\\n\\nsUME3R4eKX+N3z4BGG8/ZVimAhRpE61aoii37rBh1Vrkl4yU5GljEupAFoReQOgkQnW46aTR0yF1\\n\\neDdF/ryDAW4BD4seNI9gd7gg9gdY34kddBTfC0IUmYAJQ/sMZ+XRyZruG7hdSH5CYHaKUEKbJ8JI\\n\\nfi+ukWd/rw+wIWOL5adIG7yxWS3mhBW03oFVqxUTKwIsu854ZIH4158EviOUN4L7iiSaMKuLIqfJ\\n\\nn173UJ0jUG8PaDxm/LOUg8yuxBF0DgIPiQ1B5J/fJ5Dfxe2oBUGXqR7QgEdPYq3yVp44A669pw2B\\n\\n5adIg9iMavn2CcwA7uqEzSt1XZorKjzy499FEw6KcdJm3DSUxTFivExNxMkf3Fqe03jMiEtqgQL6\\n\\nkdb1ReFNSVHO1EQQ97lDzgP1O3iteMfCxH9xzY0ZFakQRVqTR210ScZ2yDkyOML0o3ySJyryyE56\\n\\n9PO4WOTHscXOT5Hmlh3uk2J2uE5qZbYjLQhG4eP3ate+ql3EwYMEDq3aLKSa8Q+cNLZYXoo0GbBq\\n\\nav9sn0CTw723O0ihDRP8PK4o4XCBiBvNkjvk57coE3fgFhfPBiavqpeMdl6z2Dco8U1bRbVLHkNw\\n\\nlNh4DxQzPbMihknbhRJpw0YWy0uRlnLsJy6B/omjfM6udgF4iHcYhkXj4AF5GZeKx58meBzUFaHf\\n\\nS92Jy7Ko+u4e7SbifHMrKjKumLHYETYABsQUuWRRL8bRuMInVdXYYmESl7BbGLaOAhRp84wnTG4I\\n\\nbK839zIhepi9Lh+wPK54v8IncJHOoHn+AhLh6zmTbxuu+xkVRmbmiNQ/6RwXVLSaNdR0BXfQAY+r\\n\\n+42iCmSU9IrYpffIPPFu2Y8U8ksnCTBjV8xPkTbxPCAuMV8PvNybBCrC7DaTy5KBkjy54nvvs9aD\\n\\nzbg4M+gsrmMZx4HT+N4Fj9cDujPZAGkxScJjhl9q73CZHMNOR61qNbusBg/ZvkgwPxUaAA9Tonx9\\n\\nDUbJT5L+EeObNrZYXoq0s6CZ/MwZT7enX6jxWkPcJ8j7mIESw6iYitz2Zq+n5g40M+jcPAmDuAEl\\n\\nse+cRIn6RrZhmWOD1H+K8JipDQy/wwaCLBMasCDSj/FptY3J0tm9uJbPurlmwCKFi2DXFJ/MuKKx\\n\\nxfJTpA2YA+SfEcpkrTf5QL9jL6knwzTY0GJKk5vDQ7wlNBkCh0c8m3BR0rgQ46To59V8RMIfEkMk\\n\\nWxlymh4uY1KdcIb9gslBDuAYRf6EGhXnxVOkizuBgtiColzDz2LVPhIQcX9iHO7zU6QNR9Q2t90X\\n\\nzFxIbGlBxmLYxmSaa5fm8YuLw4+A/ro7VYuRfmxGTaHCBFgCKaIWMibJ3gbBC9x9vNaPEYtFcVhV\\n\\nLXYGyY+ov9Mi86q7JtsHaZo0Ouzip40tlpcijakjKRY0Mcv7BtOBW5HxAC9PriglcPAgZU6oIzGc\\n\\nu+JCjOHEinjPKAmMC2rwljWjQ6qOOjzkxG+IZ9yiuqJ/VrUYjui4EaJdyE4qgugKcdg1teBhHO7z\\n\\nU6S1cuRwj6TX8U/LFqsjDdoov88X7p/jyaDkIponvoeNk8QleQHDRC+q4Xy/iVXrP5mxGIkvaCKT\\n\\neZDqxMEjSaIixK5yGtdeEPLYQpp/qKHzNHHFPG0sL0Wa2Uq6motg4HXHD7l9HAVSHJl4NNqmkK+D\\n\\nflFKIK2DJhaTcdx7MXQHiX7H1egaxA2KBA8yTp5Snw0ktTSSWKwDqa6YONCc6dhmEToqh/H959VC\\n\\nqNeOH+67jjV+cpeXIk3mvOSrp36LO/gIXUdt4rYk+k4RPxBLdUXIH1Ytdh7b6EmkLgJCZ6haUsID\\n\\nIrHY8V4bWrbYnGox3NpmMhYjtRri/GkO19UI0YrvAtbmmgaTS60K9abzDMu1GTOUXqZIC63eGCcP\\n\\n9pKvTgiDbw3s87lG6tzzTH0eYHksJn5XbWMX0ew+Mp2iNHK4hb1AzNKvAsMW08K9qI7YNIsRn+z/\\n\\nPR8grnhqN1aQxuMvYT8TOiyitwvA67W29vw1/pZqsdPkS3mi4gpF2lOrN8YlgZV8dbeDDQ4CiqhO\\n\\nHHbbDXXkyTwU/gFpQXXFCzRRLQMKO9pJYrFudVR/dDnci2o4kXncC8fwN+AWk6mZDFt6WTsOL7go\\n\\nNPA5TCK0zBOzXoJCo11rYwWCxwpFWtvZ1RRpF5sFHv/DMm3apEDCN2tiRpFh6pFnoMnfjitcxNnS\\n\\nDAYXw21OFk9iaNiK1/PEYnvwB8RaM+017FHiupOyOHqGZEM4NbEgEhXDCQwsdZ+Imx2uD6wOB49J\\n\\nZBa03BF3ioqYb9iyTJF2g7x68+k8MONCQndI/QnszlSyK/OyVIv1fIBfwAXBuSLu1o9ioFrmgf0t\\n\\nzJN+7CDGTFwxDQQ3/m34yI6UcMdF/CKGtDYWhPY06R1kEavBjc//JK6dKS19hhIqmCsq9EFN9R3K\\n\\naoq0mfaASGaqaj6qKZponAGPkgmVWMkWu13m53Hueu5TLP6eCRclLY7hZjGL4E1+4ookH1Zdcbie\\n\\nuZWEq9bkn23GbQxuxt0zcY4olIjFSFXY1emsXRjIM1qLeZlYbIxUjPHzSNm3bCe4miJtgiGposxF\\n\\ngAuYaoTR5yznbIB04fFSLSYfgzs4cBdKDLRSodb2jMUmcTGhZCcWI65I8gqSeeBqV/4KKKrF0A6c\\n\\n+8dUV8QDOjKHSCyWUJN8iCa0ih7nEem4U3ktVrPyyHI1RdolgUS4RF8N13fACxreQreEhMP1xsDy\\n\\nZPf8L0CdpxaH+EFvE2NS29gkthgOhbydtLFR7KPLwWNKDR4JMUh6vISkRdcgDKdVi4k4uOM2lrTg\\n\\ni/3kz4VtfXbVFXGl5EmpOHDKkCJtwkrmpRVbqJ0FVCfo4T42vL/OjQwnXvOkVB94s5orYh9KqO95\\n\\nkiuOYTQpcY9mMS1XXL5fOjkjRsng+iw/pF6JQ7+aK8rEFTHAc12NuFcaxRc+aRuMErORWUfjif+8\\n\\nFGkvDpDngAmhFbQ59jGeVE0Pw3CMoY58bexLHxfVzGMR1/aSNqImrpjCeMa0qLiAEhlgZGabP7kg\\n\\njhJXfDEzvsbBY5ZUipxxxf0mMNj7WzwU5S+5W1sQaWOpfElwXoq04wJppGcp2hoKMfSO/4wkBaGv\\n\\nCxlmwXlmqcBOPq1ZLKkWL7APh/vT+OUr6DkSHMZxYkgSjT82W7AZMfBHsSueUT0sqmoYGVHDPekT\\n\\nSLiXNxH3iyI43Go/o6b/4/knc/JSpP1bA8kWLoyEBMA8caj2bM1LDVaGDIoMgOWx2DsVLbtPktkc\\n\\nnCvwSTGOi3EBW21CyzxSeKSFv0R4zETsintmRQsJflPYUc9oFpPRLBl84jY2gRI/8yM1e948z6fU\\n\\nZHIKpfMGj3wUab7AQ8RudM31X3GztjcEWhIgcCiEygD2hCXNzxJ/SXlHhG9goK4GHO7H8d270Hlx\\n\\nlGQeZ4krQpXHDA/D+EPz4sFJtexR9QHN8/v8aoeA/+PJ2EvULIae7MB1Q1zx1Bas+h8MgeWlSDvu\\n\\n2aSq9vW+bYAJfKy5Y7CrmX2rWLorJoGUlNTBlGwCNkAskhSfDdyMq/5ulCCzgiR4LIiZn8NjFml3\\n\\nAtaSNiaYGtgBUbVYEjhIf6D287gK3FyGfeWMOvH4bD9WbbwvPS9F2gGWbLIdoHA35hiu7wH2RiDU\\n\\nkOkdgwGZocVSVl5Ws/uTxBVnSUouo6fwWOgSjKK0/yBpIedXnt/dQLqH51I928ig5ICLMzfxBJh/\\n\\n9giNq2QvCDWRpxkB19C+FvX+BUQGh08IQ45W/do21RXzUaRF1Me0J1yeviO0yfOrvTtDTUyoW9KA\\n\\nyasfdRoCW/KIKX4G54ovkBGmOiwhmccUmsDZiLxnG7HYBdKC1PoNk9hXPytuJoaJODSzjEL/PJkE\\n\\nSTq7awQ87IKNjIkOqh/NIDIpMp6/g85LkTZA0jf0CNVpo1uZ1v90yjVCuyMQ04Al61YxTxgOW+S3\\n\\n8NgVsQ+9kBBnyOgS4xOjuBgXSc/UgIv+LN2bWSwYT+OKgluHEjs/fV4dQ0ZVFdgV1cmclCh/X40m\\n\\npDrDWa6Io2LecJ+PIu1JFjsLCoxQQsg1vPlM63yoAXitGVd8IrLqebVhG4MydsV52Y+DB+7OZlWL\\n\\nfZGMxxKk4TXimukTrlOjIs6wyYyGfMw3r/zZGXXEqZU+jD6wQGyaFpVPo3OZEWiQPJvGrki6ujGU\\n\\nzDc1kJciLcQQJ8Y+WlNDmd6wv/YMJThBJFPup+hAUVeEPVKqtXOHBc3Ni/NqPyUlP30QAztLJkB2\\n\\nY4sN1rdqOQmaJcNK+QMf+NzOyWntqbx6OYpuvEjiZlKU/0yd7slYLAylM+owLIbSUt4kOA9FWt/w\\n\\nKP7rbWMiLl/3xwR//xbmkI3MLBKL5bCv5UmCxXQzDW5BUwmvYyCC++falHcPSamI70Rv0cK9FhVx\\n\\nYoSL/di9f/W5c2fUZD5Grg5w8GP16rAFpf5EdS8fZ2I7cMu34aRzTCHI86ZUeSnSXlQtFgm11QuD\\n\\nvT3MsXraygy7NGCwr3XV/qR8TzSTgCSXYws0Y61BcmezzzzbkFO84EqTG0jYzHLmZSqtkwboTy7fd+\\n\\n7/z8PepTviAZz/aZGbZJuyOhPkGXKZvXjY0ZEaSL6CQ2bJS4bZ6BZj6KNLCbuAdW7TQD9pJ7J9va\\n\\nStFkGoQAc3FCFoI8FoN8Wp2liibFWRz/IGXmDnXgqKiuEyDTa3twZWtRUSYP2eF9SsPnE0fUTD9K\\n\\nHiUNhdyeXm0+f1atO8UZ6BtowbDT2GLPycRjU3yeufu8FGlPcyTcE9W+h2950ZZy72e8oWa79qXW\\n\\nOvUB5LIYU6QpfFLNPKZS4szymgULsRjKWOwoxoj7sV6Nx0xS3i5zn0nj0Dwu4kCfecw0rYWXi2fI\\n\\neIl0CqT5RVPoovwQxLcRV8wT7vNRpEVooppiqXaKrk3sOscAN9guZCzGCHXZwPLNeaiznWgsjYMH\\n\\nGWZJZCnnadywiLRoqzQw8gyPmV3+PNzXIePh4ZiJHfSRSbUpMmmldggvXMw8l1VXg4aT2IldKeKK\\n\\neDyW58FfPoo0TfWpwyPAUf/7fdueD40MHQC0BgxZ90eKA1PEtDSjuWJCnQoOj+KQNpl5HptZCIkt\\n\\ndipAq+y4ys3o3rB8Bse+UTRCkWnQmUkc8lSLPTRJjKdazIKNpqDJZ+9RR2mpfG0sL0VaRFX9LGXa\\n\\nMXD4A9tbjlMUEJq/b9csJjA1Yta9+Z5BJ3ky0Dw6M+hQJxU2ncQd0VjGFTOHY2vBQ8UqW9AMiXFQ\\n\\nnBA02C/M49vVOzpUi8n458l4J5ZEE6b5JHmmm87/cD0PRVqvesrzSZsH4MEKs3W3d+BTAwGTBgxd\\n\\n37lqs0u+4KGoA82xeY5uY/GLRy/gjuhkxhUzFtPCvfqcGUrEOhfVyzH174V7+aj2mf286hc+upki\\n\\nFkuj83cnFeKWyXzzinkp0l5U9/CMCMxg40cvNO5k2SbGVO8RtUhxCKzqx/LNBGsWCybaWpk2XPC7\\n\\n5u4nMUxbItSRsdjlvzJPYqQGLKj+fQIGD6oWg2T8OYVk86F6F3bHliSK8PI7SFUoYv7nY8YUaX0j\\n\\nJB0MDPaxA5teYlKePq7e567nNWBPNK9qj/lmgtPqQLOD1O0ZsrYq9T5xxRUzKyG1lGpeBSYREFp3\\n\\nG1b/jkN/h9ohpPlpdWWLqNVIh+I1I/lfyfv8UTEfRVrIRILHc2ynm9ozcfMExQ46zC6yXogAm2/N\\n\\nlwRnAcNtTJrFTmVf+LL6LZw7/oQM5M+rn2aeumlJ8Kzqijypf61fiGbs9jp1Egc7rGoxhZfU2BpO\\n\\nfvIOBOtIG4P5+rG8FGmn1IHmJSfN+H53YM9LnZ5eT6DXnHFFOWTPvjff0xYyLxXErT0hkiQXD/Bt\\n\\nSJ3zIJJpY1rwWHbFZJYrxkgAHFatiL33DEnlIVQXZyFL+hMtCP575ql1vinuPBRpvfWkyU0EIoG6\\n\\nDzh4AFwca2NNouH0W56oKCk45diMY/JZ+/N49DQrwl4yUaP6HTqoYpfOq8BSGVecyXLFo6TQ/bwa\\n\\nPKbRK+pT69QNcDePQ0kSxxxYT4Clt77vIUNgeSnSXvSQJjfvoZuEnoFjni3UAwOB/jxs3YbBQ0nz\\n\\nciND3YKHmkOSbEakbb0XWQ+qfXUypFoMNpNoiUYnMq44K9r2Lrvih8hirCfQAtkfWkss9hxC/96K\\n\\nIjimHTHfh+/ZROpDVjzG9MZ5KdKeYEmvObPFPdBwwb1zL+jimlydFCp9wjR5iE8GGj/SC/l5nCZF\\n\\nwmTJykkU2KRaLE3folWrusoPqCtIkmTVQMCEUm6zyULKjZ3wAjrO4QjhR+dBDYNH0NehJP4GOHQ/\\n\\nvv8/CbAkz+WzWB6KtAn398mPAVfrHQnmVc4NarBqsuUgXqLFZIZPvX4TUqD4dAc2fQvJDqModZcW\\n\\nKc50aOjVlPBhTv0CiY7KLSiJA9abAB0iQ8s5BO8gTowSXZFWtPSn+Lb9ZORBHPgk+d00UoxJg/NS\\n\\npKUBsVj6AGVu+fQdx/fbhkJYdZuxKxq3sSPqA2YkyyEeK1IHIhYELVq4T9q1m96pFmL7sisi+FWk\\n\\ntAdcx78Z8JCeF4eSv0doL5l0argVPUT8d0JEFoUoPk6A4TGoxRhYPoq0xDfJYyQZPOyzfEOrk0RD\\n\\nMwkvsYIWywI2oa3Ak2dJtIW3yLz6FNKCLqkoMjdqSbxapbK6gCVrpf829SHMCfUFmt+Ec2+iD7e8\\n\\noDq3taAtD1PnC/SSlyJtFhDmBBgBYFTQ3GYegDxU0caZR0qbW0vN8+RdkPwRCSA1ticzN2nVpPax\\n\\nsqTdkiNRtLz6HmqdJ49aUpqKKDL8hmaxfBRpiUNkVzc0v6PdQtnVKzMf3E4QSnolxhYzXsqef49D\\n\\nSXyQWbVRWPJSpMk2huCJ9LOjA329JobeMs+qz6QMgK3FbVZ5KdIUU5Mf//O0SbA4OOcI1wlmOJdo\\n\\nrGQtbtrJS5Em/6lgx/+ccjb7A69nqBr6zmT/bgLMANya3GaVlyLNVEPaaqIXWKwRjrCvJVjyOKbI\\n\\nkqM1Ayw/RRqlzg0suHa0ZC68eoQkL6UvEquu5KdIGwGkO4Ym0JG5kFApWoxi2poElpcirf+ICtTV\\n\\nbslcSNWQV0abmtbizvX8FGnPsYPknz4wDMyOeqHOxb3Nj8pYOltlyU+RdkrAeTXOyIboZ7gBmvlj\\n\\nSnsQESsMrNp4ViQ/RdqsmYzp0CUQAn2tvodMvq68jJlrMtzburk/pYFDT5GWiLB2coODUKRRgK3R\\n\\npueMSr4WMw9CkTaz3fHViI4iLV3jDJIbVIq0w/va2OYWclk0ULIm2xgDmJ3AWTuvo0hTfECdl5gg\\n\\nFGnASrnVByyGmepabGOEIq3HNbBP1lGkQTCsTjRCQpFm83ht6vjdcJPmWrQYoUhDNHdHWk+RNsSq\\n\\n4xiZUKT1sY2t7yHvDPfmrsU2RijSoLvtuhf1FGl767THlme7A62Njn6z+iZmpGQtWgxSYHuCZWqP\\n\\n6ynSjgucnfybAk6GoSltCZlhwdciMHmgbdPZ3W+/c/8HdRRpl2xtHeqLd/S2uge+o4I0HoevSWBd\\n\\nvq8/xT226cQtOoq0RF9IuwI/4mTv1KaJjTd4r8U2BgGoHW6/6eusJZRLkZZyUZkrk/V/qS35zDNf\\n\\nsSbD/fbmuwLAj1+dyqVIgybfdjHndmPCgrXoijDUGrU9Esavzuoo0h4xr+I4IhI2VLIWhy0ybft1\\n\\n68RNzpGOp3QUaQFh/9GcahANlaxFiyldvfc3ycfqNln0FGmzA87X59xtrGRNWgy4PrBJtnNsh54i\\n\\nLeHMJS813nK8Ni1m7n/wVtlPeex6irQFuo71r7oSLgqs2nhWRHaa7LUzN3kHgnqKNNjocKwi3MrT\\n\\nxCo90DxD+QKmLfUUU9PLcO0saHJwreB7jXSdG9CHPYy6W1MPLPAR+55TEqD8JVCk5ZuNX4uuCOup\\n\\nPbGRm7oetugp0tBz7YdrsqujJY+StZh5KB7PDfFeUno9RRqa5UAkyxeT+ZSsRYvJjexBpPL06ynS\\n\\nkGy2mrOIW/ISR67JyZwBuhVZSXH0FGkIRQYizhWTqYvqDGUtWoxQpMkcTw2E9RRpCD3jqAOh5bKe\\n\\nyKtkLQIjFGmKuccl2PUUaTjQArAdZKYbE/y6AkYo0pLcsf46XkeRRmA7n2HvNHWoN1ryK7nGwEo7\\n\\n4y/kOPRJ99ZGp11HkUYkBHYDb71PRC8VOq3mGod7uaSbaE/TS08dAwG/jiKNyAkX10w5rIO0WEjJ\\n\\nNU6pSjpHEx5iN504s3VoC6+jSFNx9w22+gZAEUNc43A/0VHCTTLT9+jI53pMwK6jSFOF3cfQrTuK\\n\\nHG9yjdvYuRJOJicUabV96p4RHUWaKi+CRs4KSifyvwa4UN+eEm5SHIHN7E4/fpVLkZaRdppQpBUG\\n\\ndo1dkS3l2C2ZvTWKlvjOlF1HkabJs15CkVZYyTU+wdvpLuUuehfZknYD/HguRVpGUoBQpPEFlVxb\\n\\nV0wyQ3zxu2QBp77xb/XKOoq0ZfkloUgTSwUmVR7YvFs3eWYEbP/NCNq5OpkLcDcY30Eo0goDu7au\\n\\neII95C9+FwT75Nu/VtOqmF/KoUhbkaSXe1NhYNfWYs/T19cWv0se2XvhsTeEmuTWiRyKtMtyql8l\\n\\nY8kv1zYq9nfmWQa8GhjlPLv1sGkLuiENevPdpBRxxWtqMcgGapqK30Yo0h6jR+6Bm2AORVoZck3b\\n\\nmNLa4CucuqpCKNK2boMKugu6a4prNZZr6oppq2Diiv8MoUjbOY6Uxdo083BxrcZyTV1xQqhzUnzR\\n\\n22TQ+1ePTWFg4eMOU3GtRYFVHBc6V+NkPxIsepvS3L1z61/XphZRDkVaOXJNXbHXJfRSxU94lgUT\\n\\n/9g9XXOLMuvYW4JaQ7mWFoPWVqtt4I6i9yk32Pid8q7zc2e8/esiKsoBMy002opXgCD0yLdfd2Lm\\n\\nFFW/vQS9hnItg4dii3SaheKeIVvr7+05dtfphcRhsKkEvYayJufu6aEvyTdt6k3MmlZTpJUja3Fe\\n\\nUfaBL/WEOx6aSbrAdVeqZE1arKY5sfN37XXz9/Z6G69UyZq0GAfm4U09rTP351CklSNr8mnLYNvZ\\n\\nneGt1yW3sq+to8mVxsbEzu/e15oI51CklSNr0mKg/nzP63Zel245zF6NXPHqAxNFteZ6ci4vV2a+\\n\\nJxTK9V+Z2Fmf6ExYDt2xNoNH8A0qtWTs/RpJfjSzZDIpqnsb4nlONULwkzc8t/PQ/K75o/OrKdLK\\n\\nkYq6Yst37bj0/J7/pajrW49TQfWyShoxh+Zk3vhrMth2qqf2+JbZTbJ5bboi/xbx3F4QHr0tpC6g\\n\\neY4se4XqZvdZ5ya0kG/tidJ+Xd/jHftNiQ8hbi0ONBUk3o4uOFEs9tkldeHuFPmD/Q/bL7HvTpRK\\n\\nLuU5G4nZxT5m9z6cDqC2tTjQTCL+GJqc/IrcAFKqxeJIgpE6O3H/RbSY7DZxxotDFe4uz/1b96BE\\n\\nMwqtxYHmgvI/TZvmal7ZesfOlNrGphAPydbzFPnZKQWEoTEwaH4dtXOnBc0H7jW1lvWTWVJBV5xM\\n\\n+rrRxKv9fDiFnS8YW4mKKfKziyTYGz+5JRRpMHEIzeZSpJUjFUyCF5M/UdClPjsK37uE9vla0Hzzzz\\n\\nsKglAmwKos+fNgZGKNJ2dtL8hVyKtHKkghabQrftRJPjYXTiSzXR45QdPdGnAUshCbsiom+bU0Sj\\n\\nLxKKtJ39rpYncinSyqrWygGLoh/vRIsnOtDAvSkcN8L4goZDQfwcisPG900aB3xCkbbT1Rc8nEuR\\n\\nVo4YU6RdJWD/c+f42d0/s8duS51E4fCyKw6wVAd2RbT1vinj0z0zFGk2HUVaOVJBVwyit7dvOmcN\\n\\nSeHHU2NIiqEMjqfaUDzRvg323D+l8mTqgeWjSFsjwGLoMEC/xB1yeCf2C2yxeMYVk+S8Cws03RfP\\n\\nczZwPoq0cqSCbcwOqftxd3UvOvtjctgL4b+0LwMjrjj45XwWy0eRtkaAhWc+LqNFlkXh95JxcBg9\\n\\nkSHhSBMyuDG49QtTxjuk8lKklSMVTKnsyZvuj8axG4bvvQMnxBJa9rwU6QqiULwnbmyxvBRp5UgF\\n\\nLeZfehDc8sut96JbbsVQxCAau+yKxGIDOCr6jb6YlyINkWeH/WKGFTbfaRKaVDQqbh3YhTo9KU8v\\n\\nbmNimI9nFv+nSX2OI+vn87WxfBRpBNigUzynvkrs8KMCUsEkOIhu6kHR2++Vb1BmkCJG+aiKI6ZZ\\n\\nbAr23DNlvM0hL0UaAQZMokatlyhssQq64ijCweOXH/gyempuIQ5xWAwiv1KPsaSJo0Th1s8vGq9V\\n\\nzkuRRsRrywCb97QU+vUKBg/NYqALHXn/zMkUiooS8p87Ym5ZDh7HZqagYWWuUKT9fg5FGgFNhUSN\\n\\nPC+x11Lo1yvoimNo687FX3/mxyhYm5peQF/DeYdd/QC74hmmFm69fyqfxYR7VYo0ew5FmgYoY7Ei\\n\\nJ1FX0GI4uu+cDL80hPxHPzkWR4NbxefD6gd4dJbsugt9lhytafRF2feVYyYV8vHVFGmqTGTYiglb\\n\\nWYElxhVsY3MLN93Q+eCu2a1i+FHc4C7ZxcwRy2rwiEJu56hxwWTz21o0atxL3fo5jxlyksOTdvWw\\n\\nqXk7upTHchUM93Nwp4ieEOHjKDyJ3XBBFhW1tJmpAbgTBY3PBVeEwJ5LammO6/e2oCcxsInIHSqH\\n\\n2e7NKJGHW76CrpiGPSJpw3zuByntHz5fM5FpekuSUKShfzcYtpzERroEKEJJqQATSonGRKgVtFgJ\\n\\na+yNp98IRRqkWObOZA5FmioPEVccCKjHRtXRKM1vLqJ6DT2UoD2C6Puj4drZHIo0VYLoIpqgOBFb\\n\\nLIl7a3mrxVDJWnyMRCjSeNo+MPpcDkWaKrXYYpf8E4SLV/Y/hZSP2w2VrMnHSHST4O+8c9auo0hD\\n\\nSKOvnODT5DzYBJ/g4Zv9hkrWosUIRVqYrlF26ijSNGAzGJFMGLTJKXTw2/y6AZahSBPTOoo0pJJv\\n\\nYouJGNhpNE/+YdYRMI0iTTyho0jTgF1AF0Qoqcc0KXZ0QjRUshZ3rmco0uwJHUUaUp8ansGIoB2n\\n\\nVBddHI8CxsDWpMXqDp5gb2Sj83WBJl3wSJCjYxPaSfQTFG1XT8ItDKzaeFZE4TbJfY9/cNPEkUsB\\n\\n3WMkbLEEsVgYW+yEryuchzN/bYZ7W/e8ywK4S6YJRtfGJpAaPNRzBRI1wJ5v/+lazDxgq0Pq7SCv\\n\\nUg5duH+C5PcXReTHg9UzIr4QEQ2VrMk2xgB7t4W8SjK6NnYiy2I46kv5mtBabGOyu33bRAt5NbtP\\n\\nN2H6EKHYnyAjoHHc3tJ29ABfDJhUbUDLorBg83lLZFvfHRNAN2GKG91ZNCEl1TYmJmPwzcbA1mIb\\n\\nkz0Pb5rteNIytOdSt+5pSy2xWIKfl9QzU86ur1yRUKTZB2qP33AilyINQdAgTqDp2glyKlu66SlR\\n\\n7mlZN8DkgTbqbHDfXfu3vZhLkYZgjSDOognaoQ00HUzzzzg+sHWJcv5G05XHvi5hO5FGnqTDBOqba4\\n\\nyCyVwu3Dsd9449ZabGMQANrRETgYuu7ZXIo0JFOCeAGdASaV3oipxZFxl6GSNRnutzd3Biwvbj61\\n\\nS0eRhhTfdvEsSpw7qM5Sne3AIdI4p1qLrghDQr9tlLzSU6RpMlNcyVoctsi0LXNKqp4iTZOJ4krW\\n\\nosWUrt66po5hy67rjuso0jSZLa5kTVoMuBo5+95bQnec631tWczc3/+l4InaUzc8o6NI0yRRFrBq\\n\\n41kR2VnbM28f6BjYdTxivKHgbHEla3KgGfAjaDlU23fnWT1FmirlWWzNAIP1m5A82n/Xw5ue0lOk\\n\\nlSprMfNQPB42bYkEA7ceMniMVKKsRYvJjexQIthf27/LgCKtVCnUxqbKUXQ1gQ3QrQt28uphA4q0\\n\\nEqWQxS73FvFrCoxQpCVa1BI4G69USSFg6ihVleg1BUYo0hYs5NU/CxVZr3jGsvzxyVLVXRVRKdJa\\n\\nAnv2vvOw7cSVKikE7NRdy7yMoVLVXRWRQ47ITMcjtxzedMiIIq00KRTun9uEEtrFtlLVXR1gtKdp\\n\\n3hKoDXxoxIgirTQplFKdvQXNtrZxIx4AxGsJDB5iwUzH/oMP32xIkVaaFAr3EZy7MN5+intkkL+W\\n\\nwGSm75Gk/XhtoPaw23SlSgq1sQfUh4tsqA6UQMJxFQUKTjAbHBz9pzsizNXYkq/7LIAt5jtCeSM0\\n\\nOZr42oniCNQnLNhit872VmQ30kMrtIH7ryUuJLNb3Cn/Af/BTYeNKdJKkUJRsU7to4lcsforEoUO\\n\\nMAlLwP53aES4GpmH7rMPIXLgONmsd8W9yRWJLNCR5OjQnj3o7N6rsTxdyvkI3oK04zSD6IpHRVcG\\n\\nbL+jYdYesTyJjnOV6KAVC2ljPDkF2XJNgUEQukMO7u7Yxx/IR5FWXApYjBxsn5CCCA2jK17Wf0Ui\\n\\nj+y1zFtCt0T8x/NSpBWVAlFREZG2aG4vv6t0hVcDGOXk7YdNTJvdDK5GSpULLMnLKMEfxZ/YizMT\\n\\nXU1RWNAzemqklWG6KkKRNo9kflbC44bn/NfYYk1tsDZB2ep3gEpQpM0lUGpbkj+HIG2/tuFe8dqT\\n\\nH0LOQ05grwRF2vmLKHndDD8hQk4sgTvwKooMgrP9auw6UwmKtMSfILl3XpqW0EFUAtvjVRSl+a4L\\n\\nVl59WQmKNGUbSjQl+YQo16JHy1P6G4osbDob8auvKrExTrags9tnxRk7jF7rXPGGhuN0P3mVrMjG\\n\\nuPegZ+0JSeaTdnS0HJW/sUBBeCYEyMrRylCk1aKzUhrDmg9fY4vJ1npADXe217CVoUgTUL+YkKCE\\n\\nM/xr28YUeqgrwlBAcFeGIu2AuA8nwbJFFtE17qB9gDL3eofrmcpQpB1HNXjYAsNnrvlAs6Y5BJop\\n\\nxsNVhiLt3NZDaFaS+acVdG1zRZkD9DDwCb1tlaFIm7mplpwfIk2mUCks9VcR2GCbg91LmW9kK0OR\\n\\nlvqjW9SpgdNJ8Rq7YiPHMiP1ghCoDEWafH0QzX8BoT3nxDvL0vmbigzqd7spj9nc7KwIRZrssKPE\\n\\nO6iv3NFoueLYdEWiXN/PueqBL2IyVYQiTREklLp3RPiGp/baTubAT7L1INLdZzvcXRGKNMiIaP69\\n\\nwAbq77q2FpNBm8dBA5cbBCpCkQb3QzHxmKP1LnVO+BqK0s5Qe7dbTVx7fWUo0hoVcYFHaR5d61kq\\n\\npo8NsN4Rc2CoMhRptdCeEMkuGfQbuKJY/lcUrtPTRPXWcc2gIhRpMAqDKR4nH+g3yxXLhgbNNAWc\\n\\njJsOeCtDkWZBm+d59fCy3ySlipf9DUKR9kjgENOVjyKtlDOxCiTBMo+i2A+T0m9ksWPlL0EhFGmg\\n\\nnnYwORRpe/zLCzPs+P+YRJwhhl/5V4CEL99cKKWyoxM4eJBHZL9B5vHDx8Vyv0Io0jz9Lq5vhSJN\\n\\nYf0zCI3jlPXrKnIeG23yJAG2B4OxIPSEdBFNxrIP1SxgMWytryZ5deHAleeKsPXVcNnfOdTlZVx9\\n\\nu50rFGny4b4bEApG1WVQkronnj8/jtB+pgONIh7BAdedqG7zwrbLSgpQpM2KaAInwdho5EnZFcr3\\n\\nx7RdXuVIhiKNzaZIs89AH8tZUPQTol09n9a+OIbLjF9MwiiCbJCMH0eyfqmAK17EFsbgEjy8cot9\\n\\n9sNhlI6VC0xPkQb5KWhiB/0oPrTbrwKLTkVFldZqIR1HKdzWcDTI7vQKADuP0IV7cQeN9dxypcAu\\n\\njsbRJXu539JTpEHSZqJSGL2MxjXWv7/d/ms/DiIimpEnkewFAg4kX8zSUaCN4Txq+B4JWyzJX/FA\\n\\n8xlcqUvlLg80oEhLi1MoGgvz6FfiGFqE4jRSGDqMwjCMB8TzKBF6uP6mF8LZ+wwKANstCMIPSRtT\\n\\n/Ff6UAJ3g360+JNygekp0lKzteg584uWdEAaQxPMYCNKTcUQamIsCppOikso+CsEbkllKcmfUr3o\\n\\naLIy3/tCKyMmWq7QYksvSRjYmVSZXzOgSEvJfhSM2aX5DmkcXepjv4qUeFTlOoH8WHp07l9DZLnX\\n\\nXBY/SH6LHR8AjPu2f3UdMrVuukKLwc0ISvCr+YiO84kBRdpDuLsKh+1zuH1hV0Ti1NzC1BjpkEXU\\n\\n4WutPQvcpIip6ctK8gePs6YdbW969/so2mXbdoUDTQWrFOE/5jsWPS8wHUWa0oKS4hO9njacoE2h\\n\\nKSguJpemxmNqG/taU/3Xo7g3Q+h7jcJlJfmT4AunwKbk9+71CXTght++Ilzx3bgvleSefxgv73t6\\n\\nirQ0Q9eIwGuqVy02BVFcfufiWBBxrB09Kdqj6O+DX0RUH8g60DC/K56tZ6X0O/i0Hb++Motd8pO/\\n\\nEF1Ml/c9PUXazEMODm3lw1PYYuNoDIqTcKTf04IekEh360fy7pFOVL9MWKVK/uBxYZNsT35PSpHS\\n\\nXVEHrbyF/BURekX0l/XFFYq09gxF2iQKR9MoiV6+AUXFcRTHvRr8FIguZgiU7DH01q99DK3eVpbf\\n\\nFWfElD35Ll4mX76iYYtyN6l9cQGPD/iyvggDAqtSpIEMRVoIhcdS6JIJ3IF+hl1xTBYnUcf4FMny\\n\\nFYT67UGIYtj1pNIslkBJP7wHo0NXZrH0dY+rFbeA4KNtxpyeeUT2fSVgcm7Zwh0RVIo0uFvkx5Po\\n\\nOfebtmGMU2icdNBjwTn0w5CYFM8zf1qL4+4cusuS3a/kb2MKws0rwcvk8hU8RoKvaIUkK9zHYTm4\\n\\nCEXaWyP1gPaCZpUiDXJ8OKrAXjLAfJK0MQXnITF/EvU5QcNW6iFc9SxoQ9R3sl0xf7hPkSHmvJi4\\n\\nQovJ37lbe4GdfV4pC5giBALm/q5Oswuoe1vkQT8fTcpfwHEI94w4KhJX/FmNm0cSH5M3x0i6P4qB\\n\\nKNkddKHJHGyxGT7F41elnAmcI4++Xysk8QkodpRVJzTt8hGKtL4H1GEL5MICbmwJlkVnOnDAf+Yd\\n\\n7bXoQVfzHsTHomjqJB4G89E5JCrZEwmF5jxkHlts1o6uKNxn9q4p6g6Z4L+U81VCkUZRLNPl0ijS\\n\\nZLfd3EbjxiqjZBDrm+hnH0XfjE5ZEB/+Olp8jkWwEexB0rfcWfOfhVaYJsOE0opcLj+lUo9zxr2O\\n\\nosbd6RkSvkq3mEfY7hOGAaVRpEHG7t+bQoQIdTGKLRZXsCu+LR4nhroZTY19TES0+WZ0+PVi/LKS\\n\\nQhZL4mjKqxYrPwn+uaj9m0Yk7fjvHr6M7xKKNJY2M/+0T6NIk3tF9HM8ou/HA+YwttiiLC5CSxTn\\n\\niuK/h1E8rLaxaRT6Vvb+qQLzilJaErHFwldiMTi28pLUYurjf1gOMLpJaO309bEZijTYzKM3IinB\\n\\nHhARsRhSRDQrRUYlxE+IaMr/cR7xwUkU/FaJFmtJvllMSPOkrssdQcMjl5WpiSIsp8MgFGlDNN0o\\n\\nZCjSYECC70WxFDlBJIyjIvkX8s/UhpH0I4R++bjdDsXoIh97XDSOirnATOmP2+cl1WLlziv+8HeW\\n\\nJ4A1j4DBfy7j2xmKNMa8TJHmFJX7UHiWAWRecUpbIsoHo2HEvw2hn33CLiEr2CVhi2W5YgFgXcmt\\n\\n4VletVi5s1RkZkuTRTU8STOKvwxgGkVaq2mZIm0SyZ9HsUTrjssWIycehNH3fsyjJzFMKMbmxNHH\\n\\ns4EV2Lk+cL+9JSHN2FH5bYwTNUMRi42qr3rspX87Q5Fm9V2mSFtKofBi+BdkRXmU9IvYFUexT2yR\\n\\nedSA/4d8cFEMvlmMXlZSwGLcbfzBJJ8kVb0NlSPKyKczNJ+jKyOJ8ELp35frhlpZhn2KrgPLFGmT\\n\\nM8gCb3mOaJzS5u75B7baYS3alf4GASEFoRi+yZeVSBTIPGr+KrxnRlRIVZf5fGx0SVT/DZBuQqvF\\n\\nE2XMLiqcie479EEqcqR5mSItNn/EP7/nnD0dTFo0i0knfKMnRPTSzq2AxS1lotne9RhlPBMsrVYP\\n\\n70zaT86TtW/lPh/7Z7+m9dKmt6NppAF6pYyeTLZ1cy4acGYAMhRpkE8Cy7OiHIT29B4tKtrnKXsC\\n\\nj0F6xCfdtQj1AQm8GWXNeRTIPGpn/S8lpFk/KvNRLXwyU10jBy7iXkwDli5jTAZbHft7tzsGue7t\\n\\nGYq0FII/lzqI9Xny4IGMOESkTuTjhAZuwaqTS2L0QfFy71mgjcHRhP9iisfZfaqsJFj58f2a1l/T\\n\\niwu4Z9GAwc1Ti6VqkBnAdAMn3d/L6SjSJDKyyzPtBVFJ2T2snbFPJHjlnWi2vH4sKGq7jE+1IGUF\\n\\nGEL/KpWqQHa3u4FrIOSyWfdVYNOO3JH0v/LXUhL8SYAvp41dELXtxRArhDhbzdTumdIf2SossDXR\\n\\nnLuvNQDKDFuXpcAI2jIfTryXl0fqm/3lqCcNgPh6kiVxOb48KZB+LF6yBs/DoM/dxtj6m7srsMFb\\n\\nbknY09/jYU0gYC9jeTokYzcCrL9FWpL56WVgPeMlN1RIAS/LMjUCa9JRpF0FYMiS5pPvkmDIUe8v\\n\\nIyqqxwdgYF8izyIVMbYyjTO9VKoKQpHWt7veZ/UM6SjSrgKwZHjGL+8XUZ9tiC89pVKnIXFYhr0x\\n\\nokMcXyFPV7SxZynACEUad5hq5VpNFVg6m/TP25Nv41EyYCqjg/6FSP7uQr/aIiJtw6CY+eTXklSi\\n\\nDpUirR2EWDP7tquxziPnkyWy6H4vj0jRSj56Kak57bal/V9W364cf4eL+9MnS1SiUqSBbqsn0N9f\\n\\ngeCR5BfsMi2qr0sNHkqGlMAy8YaYCgZlLcyJPi6WpkWlSHukL0A1OvJQpJUg+YctSQn3zj4Nbalt\\n\\nbNqv/iO7v67pTalPsDIyu9hSmhaVIg2wzhGvN3Q1FolJqz9Jiyk/fB2vvi51oPlnGgrIZJ7nrFob\\n\\nJBsfZqIXlSLNM1y3qQ44r3grQ36LzYoJu5whGSh1XrFF/StBelR7P4NfX/40XOJzMkKRBtg6jhWc\\n\\nvRWwWFJMhuVv8OrrEqPitKj9W/+6Fe3xLGBjJT6MJhRpzf2tlMc6mIcirTxgOZ/Mo1m7Uq8BKzEJ\\n\\nXqZwPP6ezEDvIhKzgM2UcHwGEdlpsoJ6xjsQAJEKbCg4gztb+C7tYom5YqYpQiqWuXAfCmfnGz3+\\n\\n0oAFPsL20YcA1eWgK5B5nEN4KJZhhzhYmrIfaXXlfiRLe5aVknf9tCQ1sJ7q843QXQ+bvJWgSDuD\\n\\n8OCZrJtFJVvMr/79bPOPli9cRDBrzj4mjZWkhlCkDZq4AeAyVYIi7SKZuycPkZJlPh979nIaP726\\n\\nVV3aWZICQpEGBmiqv68iFGknkUIeI+G4b7LeVZIubcQ+U+NfuXIGSdlPWZaMTzrVARugW3dYQyMO\\n\\nV10lKNLGSRszzzz3YSI32lWUwhwJaO/87lK1OSmB08lK3BUh5GE4o0wJmogT6hEhRpY4R+ZQIDm6W8\\n\\nXy1JF7HY0rmsRSTouZwAv+fVUvQQirQmc7dLANbKUKTN2MkqU4QiVGmxKSWSJyUdWVdyD/G7kJlJ\\n\\nLVJBVKCO4QL9de/orwxF2rwfXSAFS46UNqonzWlJyL7yAkSrp7Z/0VKCHkKR1upubnSCxspQpGGL\\n\\nTagX6zpK0vUswbWqDsahuGo2ETaMlgKM9jTZmAAItDOVoUjDvbPqiui4pSRd2DivmlddGVuSVueH\\n\\nc5dK0EMo0kyt1qEtXIUo0hJhNXjg/idcaiU9tdppY4q4egrn+VLWixGKNBcrmADtrAxF2q/s6Ffq\\n\\nxQmxJF1TCLXyq65MouxncViUnVJxPYQire8r5pG3toLKUKQlpExKVeJq5SWU/ujqK9H/ziE6f/Xx\\n\\nluJ6CEUaCwQq4OqqDEXaLL+cBJcmJ9FEzoOHo7nba+DP54rrIRRp2zsbfPUmujIUaeXKz1FuktuR\\n\\n7RKqzP2quB5CkQZoYN3vcVWGIq1ceUFHzPVz3XqcHx6TiuohFGnew0MBsNddEYq0siWOgjlXLPoT\\n\\nJf3Fx3aEIo2q5+o8HKgIRVrZEss9kBsuLun2xc2eL6oHgpDwrkCNUG9uqAhFWtkypVLgZctBPTBF\\n\\nEYvpkUf2MgFzqIkTKkORVrZEcydryM6TWO5dfLgoMMrpoCImps16mSItu3BLasuNaRfVioP+yxWX\\n\\nmaG9mhaTkvHVF9TlzrnywmQxPQoLvCP0SCsDLlOknURakk3ApO4XkcyPIzQK7RgY6VIuA5Pt2uur\\n\\n2ca+qksEw3pXREeKPieTm9ooSlhNkTaN858DIkrxFvz5B1qwM+ABjQVKaIbqFpWsQ+lh2KL+ezVd\\n\\nkc+dEDV8up9OFtOjeFnW20Ao0qwZijRIesgFTkSRbhxUk/CvEORxjfnxcG++u1eUe7s6Vn6T96v/\\n\\nXk1XDOZmFXB0Sj8VsOQv9kMy6HX3RwQa7BcyFGlQ3dGHhxrP78UOmZJTovz9jhnEQ1Gcwa4ot9O1\\n\\nx1/vtMsmOxJ7pFxgvykuxJ/JBeY3cDsYmy6yN1pp7mas9OuErtaaDEUaNHs5dYSeTL7RJC7CnQj2\\n\\n11Honi2ctICRKqIYX/hd1o+6H0W/m1kCdBVdEcZywwKUFg0mb/7uiSKKZMHkiHT6rP0Mm9kYB329\\n\\nlB1N2lFKEdr5SRmKyVgMwfvctH3GA7DL88GkuOckGnsC/SwTmq+ixeBPc0cBZKlMTHff1FKssCLl\\n\\nBhug+3ud9Y3ezMY4qJorGkPpNO4sp3DbXZqKTiVmcUCcrX87kr1eu4LCSRRPikFRW9x3NaMin0tw\\n\\no/DTUK9V/rsij5OgILSHAAMinmWKNFmdtg2exK44lUbjiijNnPfWKg8lp1AKf6gAEIQoqohRWTq2\\n\\nk1VHBFczeIg6i0lxo/u+W2TqCeoo0nC4/W8cBM+j9N6pJE4EREtqwnSXfHRxGo/3yFph/mUZBXGk\\n\\nhHx457D6latoMchHc66Qtem8/sbpYosy+3Mp0hJJ/iSS+RkxyS2lcKr90T2X4rEoqp2bwx1cCv0E\\n\\nhOWdaBSJUSi9fC9ZWFvUYmVtafPnWkzhp4xmfuc/W0RRIpciTXmisZZstrGnlbkUOpoA4pkzNR3I\\n\\nPy2TY11RZMQ2eD/Ga48jS/hLigqsiMWSZSyaVcQx3ZWokcUWiq1dXNBRpD0VJEVNfyaZXJpBX6vh\\n\\n0UtPgc3oll+yInZP4qa4pQVROIpaHvzr0iw2KJYMTNYVF4oxw8cQ4SJDF9mQIi2xK3FDMoW976YH\\n\\nRXRibHwMvlMYRqlxhQTNsIzjL24Llpc/p01HFOnHlp+ulyKKbmYgjX8sbHDn2HSssKocirSIenFw\\n\\ni+1iWk6lYAeurR+MR8fQ/Q9cz0Mz/hEmdIuCLRaMoaj0NxqwIhZTTDwqVdJ8bnFl3thiC6JYOPmY\\n\\nWE2RRonY+lDCJU5HlDnYgVPEfU/Rd/0q8v2fiT/pstbCwV47ccVoFI2G/6ZHVVHMYt1iycAUXWdM\\n\\nQo8RMPh//IVVzayiSJO9P231yxLpypJ1qSWZrES4b2yqY7amIYwGtprsGGgsSbjQ9yDLg79bksVk\\n\\nqnRgaTGsAxYzXijgL/IwWl5FkQa599kAR3gqUFJOzS2RiDSHxi2J/3FPEI/J8I/0sva0eJCMYbe9\\n\\nzN9WCjCljJnYlA4YToOMgZ0u8jAarqJIk83/CIkZiCum0tNqw0196yt3Lf3HEtm8zoehucafwjHZ\\n\\nMoZuCYs/VlUUc0VL6cD0W9+WVMINA3nlL4voWkWRJgfs8F5STwpOqeQpdZH63HD9pqXwTJDkGzHs\\n\\nimFZDCJpDwq+zH9f1VDMFcOoZJnXTSu+lI9paenY3YV1PZFNkaY4/PA+HHJcSV6R4TYcd8Jooddz\\n\\nNLVpZhRbTML/IT4tHkX2g8iyX/pRKcAUCypZFnTWWcrnimi0yEx3IpsiDdbZFRw4Eg5GTJ6Bo7hX\\n\\nCaOZKHqL/LEpHAZnJR6aaJzaB8mcZQvgf5ALzOgHZH/pwGZ0a2NfyV7Vt/qTaGFdcjZFmuzjZTL5\\n\\nlCI7h1ELtlh0MXXW/uPUA3NhKfr/eDv0uezEYvwY/MbPeK39Fmlj5VjsF7ple5Mon8WW7iusC2ZT\\n\\npMFeXk7idkXC/Tdwsx1DY1OzJmD9wsOfjkpf+yeJTH2E8UBT5g/Kt79B1AZFxdpYS+nAzuzzzzbl5a\\n\\ntUZslXyWL6wsmyIN2qR0GlsMh/tH3gdbyBbv+Ez3XeLnH/iLoHTAji02YrYr4sE0Opq6X+S1w9KK\\n\\nJMFyR+nAziu5hZ1GfJ5dwnC0SHY9kU2RxqGUjAh7GDohwygeC83Fl1KQn/vHz4S/Ndzzbr9sYv0y\\n\\nGptHY5d2Qv6NqoKrGDymdBZ7NdvVV8vzRU4+ns+mSDuPZpJIzTxwvJ/E4X4hOiMfExe/NRU9Vos+\\n\\nYYfiHHZFrhONsAht/YhajGIWaykdmH454rSa3xnKS/9PLKhMXkWRhqbS2GLE+uklbBeUiqXgVn4x\\n\\nGg72hOEHeLTrAv/8h+tuQO6jCN5/v518owBFGpFyLHZaF0KnUN4N6/KxtxTWtpoibU9StidYtAfJ\\n\\nk0l+HEHLAgpJ8WDwZ3aRzMX5knuOXy/wkLEj+D6oTgAVccWs2f6icl7niuNQzAcMvhwvrO2pbIo0\\n\\n2KI0+XvZwbtQMkY4L2DLDDororA0FCbTzemOrPPJ364dtVgsKlpKB/ZCMlfDoizmvXu6yPrsc9kU\\n\\naTKSWfuv2nDDmeXV6e7gAlJENCge95M1ek+LaGWuVg6i0+pvFwamBEsHtqSz2FdRXouhh14prC2V\\n\\nTZF2ucEQfbijipKZbfS0eolf5fLLPnYVg8eYkgtsSRbzBr/5x75cUBtcRZFWvhRLqTpKVzWdygV2\\n\\nGkn5nxkdjBZWt4oirXwpZrFg6aqO6kAclVF+YN8p0shOZVOkwX8tF1ixDtpeuqoXFDHnShzqFg1c\\n\\nloUic5azWRRpSL6fLxNYsYFmR+mqRnUbIY6iAhaDd/sLqpOzKNKQvFNE5UkRV8QpZ8kyrgNxl1LA\\n\\nYujodCFtCGZRpCUecnBlIisWPMKlqzqos1i0IP2xUmTt2WWKNDQ/UNdeJrCrOOcR01lsVEEFrHKp\\n\\nCEHzxApFGoLKzjLIhFQpYjGlo3RVozq3G1NQgSmA9HfsBfWllinSsDhtI2UCKxbuLaWr+sPTuVek\\n\\ngmd/F3vKLi9TpGGL7QXlbpkoliv6ESqVUsqvs45/qeAazvEi68WWKdIwsPuVooso8gMz+lgdtugy\\n\\nCkOBkm7JzXhh7vQfF3nocjxDkYbr995kuXyhpVhsvjRg/lxXhDihyj/lq+ChU2HFsxmKNJIRt9Et\\n\\n5QErpY2pfEBFRdE90IQthVZ0YD8YLTzTncxQpOGqFYDXUh6wYikVqaeJ0rZB+3VRUSrkioqEPlb4\\n\\nKAyYoUjDVbuQLm0j02UppR97uqRd1tCeW/9kYU5+YIkWtPCHdxdUmaFIw5VwUp4vE1ixNvbNoeb9\\n\\nzpJW9UONgWoVsHiB+5M/ReoJIwXkPzSKNCyuuof9VxdYAAS4gLkUTTKve7YuLRSIZa8e4OF3TxfS\\n\\niBIZijSkmLxU4TooFxh02proBl9JqnSrVXJ27OT+8v+U0FhhgiCYoUhDF0ZL3dSwIgUo0ojIgROl\\n\\n7i5JZROUacIvGSylWpaJ81GU+i+xILBlirTJaNmHiRRzRXvJmiCfm0jIaKrAzsV7P/pNbNPCuz8D\\n\\nyxRpgd5ymRCvXhIMddaBUiH/SfV8AaHawvovrVCkle2KV2/YIuuJqcXFAq44f+x3pUXpHwrqTGQo\\n\\n0lAQFV0inSPFMo/RkjXNi7kgZClewBXhd5CILhXejapkKNLQKXNp+18vy9V72iJL4dwraE8BYMpf\\n\\nPPt1cemjEiokyxRpodBVbmNlTJguZa0Rz4iECrgibP4AL0JYuO08l5kwLd8Vi0XFYMmaFnRtLItH\\n\\nzEj1V+96VwwdtBcM5BOZCVOf951lAis2d28pWZM+TX1VHC+Uurr+IP5+dGEuP3SCPrPBuy9ULlXx\\n\\n1XsGfRHmKlBEVGgHfuJNj/+Dgt7sL6QUZlbZPgbLDfdXbwGLvo0pUrRQmcNvOtATQ4R5uoBkiEpm\\n\\nd5ZekJKAwdJ4IYgs6J4ipVCs0Mkm/7sv+K0YGi/MJpDJkp/imTKBFevHSufCPK9b5nFJjBUgVYSb\\n\\nIzOLH0D/WjgP1h5DwU3kAWZZUiylKh3YtM46C2T3RP4vvPc+89ZLCBWewtdml9N51y6VAkwy+Fgu\\n\\n3RXnZF5XqI4Crgh/v+emY7dLaKuECkgJu4uNpdiwpUQaICyTciznCkmX+Hy3K3Dr447rPiahf7AU\\n\\n0lpkOUgpNWIcPEp3xQVdG0ut4hHTqf67g9t7zsbQXMGHLiWzTebK1bPYtG6JwCSyFwJ2bGkWoOYl\\n\\nKIoFtFbKYvJ7StY0qgNWeKIXHn156+se5nn02x0VBmb0cRlRcVLJBfYCknTXsuR3DvrrzB+Moai9\\n\\ngNYyuMlXS7GB5o9K1hSTcxVMFqQGho/NN5/5A9s0Up4ucNsaCB4nde08Wvjw1dp/PPbdD8WHxFc+\\n\\nXlL5ypRimUfp/diPdE+bJiW+0BOok6ef/sP6/3O31BO357+p3GP0DGrEeNhSusWi8wa6C1ls931/\\n\\nE/tgfJBHf1vA3yvWxkq32F0660ShWKgbSth/8Jkz71gYRz/9bv6bKtXGyrDYj3Rec7LAGjEsr+75\\n\\n/acee93fvR/NF1jKUrF+rAxX1HnNZ2DBHYOwZu7YZnP4sxK8KZz3pkq1MfjFkjWFdQHsdMHJewn1\\n\\n/uV5adOHPiaif+rIe9dasJjBlYKuuOD+yb90jHx08efYtiWUr0wpFu5LzxXtuclsvEjwWNi5efSG\\n\\nlrb33YyS/zfvTZVKqcqYGojrKvcFpWByfib2iYuLv+4d/wVa+jifF/2VAisW7u2lKoK8bkozqBR8\\n\\nQHb6wydE5+gjwYM8us6S76aKtbGSXVGJvZR7abrwcOrXc59796PPfeLRHzyKFvL64tWIikYfl95B\\n\\nQ7suAoRldYdyPln8znc/9D3LZ223X0BwXspzU6VcsYwkOPtUM01GUaHliujkX/zJ8d/+yM8/OPUx\\n\\nO/qwJc9NFYuK4VIVyWHdapToUsF5+UszF878zi1HTzz6FQnF7HluWgMDTf20L79U0GJzB++6ffMr\\n\\nX/qzd9/3T2g2H6FkpTKP0ttYWncwuxIrvPhtNjUbD5wf+7u6N3Qi9KWi5StTiq0JLtliin61ir3w\\n\\nOu359H+d/sR9f7m4y/99hPIdbrgGwr2OG4Isrir0uG7m+/88OjF934d++LfbRfg/ReObKhYVS56l\\n\\nUvjR3EviUsH1zPJNo+/4xzc8/8hI+wGEnpSMb6p+EizrnsrK4cJLU+HuRz771q//9G5o+ytsmY5i\\n\\n5StTirUxqTQ1ZDWErmj+pUJLghGK/PDhhePzP3noSVsMwaDxPRXLFTWLicUVQd2iASgVmZ8+Z//o\\n\\nW/76pg93/OmfoeVzNnRSscmc92hFLK5IFi25wMQilGHytj9f+JtdP/3Pi2QDS57FppXqoLWoWMpx\\n\\nTWldGyOnW/+80Fd+O/Ty+F94Fr54jKyuy2PdyrpiKetzlnrCOVegWLjlw+bETcwfJW/62LsJR9Os\\n\\n8U2Vyu61gWayBLZe/Tk6hG4rVugrBz6y+eX3P37rt//rC/kRVDYJnj1cXNErj+d+n7BSRQt95S09\\n\\nX2fftHDHh/7f3aiiFsspmNqatQ46UQLLmP65Hyy2eHK66Vy4/UcX4N8Q+HnmjFfKt1ICUb2oYOVw\\n\\nkfzCZdOs6jbzW+y8wNIg0E99p7XJNuIvCuwVA1c8jQp+77eVP/od9J2P1/wdWU6UZ4vHTAZe/CRS\\n\\n5shqd8miPniDYgIhn/wnuNYzOJTVwAocSNNA7fM4WB+wAdAnoWIyp1+/Ik4VPhrjF2+WqTMvH+s4\\n\\ndhTl7VK04KagqTGU+hyKxhEfVOk0kuICgp07j6hx88wF21eXbkTHs6s2v8UmQDfNDrRSodb2w8CO\\n\\nismC7oGmLC0WbmNjsbvaF/9/W/ueIKE3z/oCzWIpZs84GnrPT7ZNjNhx6aNzSLl/Eil0ulO9I/Gp\\n\\nSKPsFndkI8hvsZQHRHqpQX9RSJo8qXPFJT5eOGX5jy+czzzzx776ND96kbWIxv1fqx5Gw8jp77Abhh\\n\\n+qsi/pnQh9AMXIzLn7/3lyqhAdwq/gcOP6uYNK4a1afeYklxsbArTn37f6bax/78z+vIEDUPq0HG\\n\\nYp+2RNFYyh6d/DbPI9hqQj94nNmm1LyZsatrx+1hDPdEMPuLV404chFuzbkCMaxYoa+kg898/HXT\\n\\nn5VZNQsQDe/JWOzP7TEUw73H2RFssTT/I3TwAfou+aFEB5Ji2N/Dz4k4rIazv3jVLHZeF9bSWaeD\\n\\nGsr0zA//45O/+K+Du1SWm7DhPRmLfbIjKkWnUOzCXv529azH6M9QdHbq/H+jAWCykziZGF7doK+a\\n\\nxX6uDx4oDgvqnHjw7i8kLT/63/MqO2S8ALC0LTjR8uu5WHTig7xb+nfejs4+JkYTF+55Ch0KPbVt\\n\\nz2ICpcFqku+rBmxct1ZlTgwW/kryhqU/GG3985ck9T674T1a35R0h58J/seeZzrO9oqMePDjEkre\\n\\nHvDD1uYuQssWnllSdzpGsxFcNVcc03HCJ0lgLPSV+d/6cPhjvReP+tU2Fja8R7OYMhCNoeONDfZL\\n\\nVl5C4Qd4NAvrLRcWZ6Lka7HZhEAh5YJlNLtarxawn+othmKFwz1s7XlkYfZvPqxtj4sZ3qPlismp\\n\\n4BiKxUejU98V7Yj/9yCScfefOjtD2NJQOLkwk1q6/ZDVUglgJ3UTHAuFF5iS8m7+H/+4s0ZqEfMD\\n\\n0yy2YPKPo/hUODrRii2GngujlCxG5e53C+IxFJfkexaWkiPbO1ZX6wqw3wgXiv9n7pVLRYfeivfV\\n\\nuzqOf/+XKrCw4S1quF9MOS1jKHomFp43434MneyILR0Tx5L932vgXxbHwmgmlYKW1SdaXLU2tkc3\\n\\n1lUQr4gFvxPrC3vOn+l5m/rLMcNbVIv1ypOxKPr1xXB4LoxdEY3WWOb+FmyWJ+ei6MHI0RiaFQiJ\\n\\n6ypgV80V53Tjjvmirrjka370p4kPuNW7gsa3kD82dfbkyU9/U0JfI/xUb460+Lp3bEtOvTcqPchH\\n\\nwzBprsf1OJr9xavG7BzUddBzuHsuCAzunW+4eGBrzc/C5N2o4T3EYpB77I7aMemZ2j+yz/8e/yBK\\n\\n3I86Bnd/Lpqup632Y3wslrhnZinZt5qQ86pZTL+U6vzqkwsN5CY79dmZ88/8Pp8fGCmfvPt29n+N\\n\\nhafG+fAse/RB8ekZyAfump2Tb5jpiN0kRcND983NJVtWZx5XzWItuomy6YIrZ4ns+Omzr/6B/xOH\\n\\nLORN3PAW0nIV1j+VtvLRMVFCo5dsaNsYEh//zA8XUgT2g/y4dPwHKdwtxMP2rC8WoUgrXaZ0wC6h\\n\\nYjOm725K7HjlqfTr/OTNqOEtRKvcaJ/8T8SPL+KkKXizDPldUPwFCBGOrSjyi2NBmGB7U8pEHZ/1\\n\\nxavlirGw7vkDSbLEgl8afPyzR/7lb17/tAosbngL6aAVWrr0l0gcG5deQBHs8vCxJHqpndoGQyMH\\n\\n0U382Kic7LtTSc9G7BUAZkB68VKxNgYfOf9z4V0H5yMF4KttLMQGvoG2fruN2/S09dMygh/4Ajpn\\n\\nua8FUlQt2iqNB5WF1Iws/MWqarxabQyO6g6c/0HRE7ufG6/5nvPjd2rsE/G8wJTGL92cRFuBYHJN\\n\\ntEzLaAHWo8Dd78VxH96NHjRZgso9Mynl+rlVi/yvWvDQcUOQHrcIK078cSVtvfTtYwVuIa4I6dtT\\n\\nH8XmwAWc/uUkmSP6Knr5yXv8KluVXYzH5C/PzcmpyVXArlZKBfkXci+9AMUi4f6ZP3ly9NS2R7UV\\n\\ndnHDW0j5YOe/Pv0A4dsOo6nP3qKI5BjnB3bcF0TwNhF9nB/DFkvtk9PTFXFFMnDPkWlYrB+bufmu\\n\\nL6de/+GOAsDUWAvgpaeghOzPoaUf3EAGtB3owU/NHcTRByFeRFH5npmTKTmvxX4jYFDU5YpfhWKR\\n\\nfizxOzsX/vq6R24pAEzVuqCc64Q8PPqqOPfTr8rkxCd0+ysz4widQNqw5ctL08nk3Ko2XSgJXq5v\\n\\n45/MAeY/mnvp50gs0o9deF2ooadXKPQ4WKt4+CtPDS+LKX5pn6lVJEPYxz4/g/uxyGYCLDjVgqbk\\n\\n9OQqYIVccbnpF6Yyy1RCWMdgMQXFIo8U0oGW3/9MZOEh7XbDW7RuPzl1iePTCHZMvvOCTZ3i7vn1\\n\\nk/MIfmtACqOf+W/4xvl779uXYLMRFAoeyzVQykn1UMfmgf67IPOb+qW+D9z8rfkHRtU3McNbNAef\\n\\nj6egnfjdWIzsNNmG0L2/b0qhF1AT70dnLNEZzryTPm/ms75YcDxm1/5hSwCmSLrjc+JFXRFN2D8+\\n\\n/YvGXZnbjSQz/YYSyG9BhP9jThaTGEDSTrhn0QQensl8FDJCMnmy5HC/PDnbKKGiktKdRoOCctGn\\n\\nW/LNE10fy8yiRw3vWK4amYQ/9amRjDSCoJNI3cHgV2f9p8bh0mLJHTTUHmTCB/zFgekZc9CiUnxb\\n\\nW2D08cO+QiRKlVnAcnjY5gPAx7UU16OIuuBxS1FgiyjyO+6f/k1YfWN8ElRlnkHX0aaaNzaZTJbi\\n\\neqB+xVEUFQseaCl13eIf+LV6ixveURmLcexhn5vp9viL65nVR7X3yEWBLfa0/uV0BpExsKuxR1MP\\n\\nbFfpehTypHG1dBTvAWfqE/aPdRUCVhmLlb68FAePcO6Vn84UzVmSH//47pfMhYBVZgHLQ6XrSYm6\\n\\nr3fAoqs05N8RA3/dXQhYZSx2Xel60nqLxRaKUhOlj24+zH9Be218b2UWid1Rup5X9cvXwkVTKgTT\\n\\nly5c/5T2OmZ4R2UsdmvpepT7c7+uiEtFLQbffWf6jjbtdbxI+cqUgjvXyzjwfEm3VgXa54oPeMDr\\n\\n3wMKtuTKuGIZ1OWXdK5IBj1F+WDE51/q+i3tpXElVGa9YlD9q3tUaSQLOh4IGFzKkyZlyZPT/+OY\\n\\nvRCwyoR7zRUX+BL0LMDcryv8dNHggR4ffCTTs0PjeyuzrE9b6pLoKAWYIXNHvNjXLsAJ/93ay6jh\\n\\nDZVpYx9S/z5RCjdr9FdizhWFf6U4t2/yupUpBWNglWlj9ZzP1XQz+/US9MzoLabfd6UXuP/Vwmyf\\n\\nlbGYsJveBYCnFE7MKf1yRR4VXvym3lTzsW0Z/Mb3VqaNDbJbmO6R+lL66bm0mHNFwcE+VvR7xx3L\\n\\nm0yuZUrFmgONJeo5rbOYzBeNiVjS9HKFGFdCZVKqMjroF3TPHxTpfHFXRPDQ8ivjeysD7EOl65mW\\n\\n+VxgYryUrSN3Fr6nMiPoMnLF/zBa/FZCG0MrR4UWmgm+AikY7h8tXc9iQnep2ALTHIkaXq1M8CiN\\n\\nNV2VPYqYc0WWomTao2SJFylfmVJw2KIFj5JOXojp7kqLRVPgEoBVJnhouaJcip6jOp8hbE5SKV9d\\n\\nrhrDq5WhSLtB/ZvgS9Bzt+7Kq+QQ9DJKEje8WhmLafOKZ6US9AR1FkvqCJELi7HjViYqaha7aClB\\n\\nTzzXZ5ZIsC+lSlY0GF6tzEBTm6WaKGXeVNKFezzwLrKqrxRglXFF5kgXFRruL2UWLqpLDJdK6Z6z\\n\\nNRQpX5lSMPNoZYGPAp31JejhdVWLneiYWEZJ4oZXK9NBMzV1Nd5upq0EPVFd1SYKkxCWCKwybazR\\n\\npx2CW4Lwugcr8aIrZ0uRZUeIlfvFghYrIwnu0FXthWIrZ3PEePS2DOwF/Ucr04JxPPrpWakAsQRg\\n\\npSfBUL+q7yIqtjBntUQNry63sTPYKZLnyKslKD7dQ0qvndIMtSr5eBiRJyPoyfhNJQAr3WJkB22O\\n\\nvIqkAie6lirLFsPqw2m1S5mBL7N3EkyadtjjYkNh+AY/xvLvPJqb6bAXB1Y62xZs0TF3nMdOUQ6w\\n\\nuOHV5fJNkd0zS+g8M9KPdu0GfqQm588DNsJT76PtkATg+TMimjr7Lb/6has10JR0C3PmsCv+5sBm\\n\\nLn86l5qLJRyAEqcnVYYdPJI93kQOZFpEonoc5QT+vfj0W8RVNWKYUpV+joNiGBXLPXDQQJZjErbY\\n\\n9KnP71GHGpOXTmrAokhtmguIV+7HSMiCxamTX2lRv1Aw3K88XJdQMdETy8wVXa64WgpNDShoCqI5\\n\\nh3lUfb+knptgYzjT8tckWWYBLgKPXv0Ip5ESlfZwvaVYqWS9K06V1cLyVV4mKtJPcTwKfH2RvE9B\\n\\nMtUHW+8YIxWHf/dzDJ9M7yIvY+j86zMslAVdcdlisMiR9rhUP9IBO53/wHVDiRle1VwR+mrMIlya\\n\\nUy2YRKKFFH5sijzzzzGPpufT2vpOJk5b5fdnzyRg1YQVdcngKWi87ey6KujY2XecabMVNJZiGmOAWh\\n\\nct+C6gfQzqrn4sWjuBMLRhXqAJJmFsfIerFR2P/1Y9rPlhQVYdGF0Ev6NjYJUVlHRMYNr2ZOKBDj\\n\\nqOf2pZlFlMCR3n4IBElN4J902Kfgh84jfmIyTlbRRtH4mW91ZNWICixHpbBv+xZ1Ky7ZJSoWKZWs\\n\\nHwAHy8wURw2vpjLAFqH4gdTcFHq+y4JG7WR3HBrHFhNHx9BkHEr/FR8jT0FOorGFj92dC0xarfIR\\n\\n2iFYBwQgOAd2CxIqLK/qmd/G5aLrMEsQrXwKdkXxGe/ADkQiX9QexnU2Fx3HWMLjiqPRx/98bBxD\\n\\nR+fQo//boQ0f87ti4M+AOeCwNTMBJ/t6vsjv6w9GwiYUixxlvVrihldVV1yUMTA0QN2jqMCQnzAp\\n\\npMf+DUEpPAavozeJD8fGZnCMfE4M/NmNt2bViBGw50AD1y70BoabHe6ihzEr+g17Y0gs5XHLisQM\\n\\nr6pR8XmcZODwNIeLPgpxMU0eXJ7E2M9E7H1x+OgByP84/HyNUlPfaX+OatD2JxSKirC2GBn/isj6\\n\\nKalRQpFWBjDjutM2FNwvTinizDSO7nsIFhc5yXBufEyCUnAMfvozGBiux7kI8zq/J/xRXv1isST4\\n\\nRGmlWtI/bo7KpZ7em7nf8Kq6G+nA7eIYjh9TeKASRvxSrZ+cS7w4Ns5DfjSufPrdUPoy9nyMXeIP\\n\\noqCWuhdcE1yr7vktRQwmEafKnMaNG14lriiDHuKKcwdsFnJginKXnbSx8fieILbYFPzi5zg+RbpB\\n\\nQj9H04GaTFUXANaBM+bSSpXWZ12xMoHlf1QLD3/LGaDExYjwNPLjgeWYn+zynooeHIc8dsXJt9Nh\\n\\nda1MEoXhH4eatUPmCrki3IPUJeAllM/YFUvZYpFdEQaibmVk3hywesVf3qCcRmE8vIyCATvWHzs6\\n\\nBre3jMM/f9dtfhIucSGCcGx6TMoFplMKLQjNiiU9btGf+ITeU+bMmTEw1RUDvxBxNZ36aWoR2RUM\\n\\nzE4YLvzhPZOIw+F+6nPf52dI5kgOmbprKmrJVPUKMEkH7Cg2L48Dq4iKyXl9Yhgrc7YzanhVdcXm\\n\\nm3DwQM/NYZRtAm6NfsIk4+dHL2JXHJc/tfXLGP+FVuI2cOzkL0fVLxbM7nHwSGO45+1FS6VfSoVG\\n\\nr8Iwc3mPJo9boLznV50I8SSh5+1hsnFsbE6WcEr1+Z574ikSvpfwgHPs6YuaGQpGxc0aGfezxYEZ\\n\\n0G39g1JqJ6hJgeBh4ok9W86Y4jKPE+v/a/fzIurh98zhlCoq/3JramqG3DCHG/r4xMQXV2okL7Cj\\n\\n2tGnJUzen9G3sdhSeefLhg2vquVrFwns4PQCTqywH4yFgd0OkThKPhtTJm+/J64uPyb8XmP/8dca\\n\\npGL9GAkgRxqKF0tvMftSYXbFXDGuBY0dQm2BsbmluMrr8jV7z4MdONlR5wDiyen7l7DFxkh2GkZT\\n\\n/37v4uUayQeMsEbehUdjxRdTTegzIkkp73zZUcOrSxnMWFV0ksBLK/BWaetWCzaduseQWGxGs1iQ\\n\\nWCz8qdIshq5DSnvxUsV0Z3ETU5eVBMcNry5Pv2GDBBfI31RK/mdE9tXOIdViR5NzqZkosRi0Y7f5\\n\\npf3/anNrxdoYOo2SJax+mzRgfiuzjRlPDSxPv2FVsQlww1Ome9Lv3vl37ZvH0OJEC77+vGVp8mT6\\n\\nlgUyuhC/jfu4nXZts2ix7B4dQrOlrFfU71L3F1+dvkpihlezLLYnZQs+4WRc98FWsC2OguqprHIL\\n\\nmhqfuW4Gkf75DI9OfVksPv0GiVGfQE91FC/VSUXUIV26Gq64bLFxQsoQVH8EolPWcBjZtTUJYTRr\\n\\nT2L8QXSRnHF4ZiZDk13QYqRKLogcX7xUi/rnD+W6YtDwapbFVmtHK+cHEr8gBJmqf8SnMhlqQYsR\\n\\nV5yFJ3Vl1ktUBwz6ESwLmPHN+R6uFy1TQWCj+E/yY39fQqlekHndT5ewUaI4MH1etvzQbXGRvM47\\n\\n8igaPJJvLmWpWFw36VuU86I0yVgsmBTVwEheW7RamCMDD3ve3Q5Fgwds9Zfw+z9P5X5bFseLb5TI\\n\\nlpjh1czY56giklAUVEEiOYjb0zmZrLDOO4teNPOAg6WUKqqb9CUxMVbKV5el4ELMIAYw4WDUZwg8\\n\\nmrHh4f9EUt6B/PmObCg6bIFiScud/0J3XJzsn74aUTET7nkF8osKYZ7qd0rJv3JLuFmn/hMPp9+b\\n\\nr5EVbGObSc5JlVKqUZ3FCFFKrBxgBReJCaE6+5JMgB1irKYevoayj1lr0a9jznxpUbH1imelZ/lS\\n\\nSqWbBygbWNzwaqbim90u/xzUnqGJCB5z+fwx4S508fShfCOPgkmwhZwwfUFCxeWozmJyefPAhXip\\n\\nCBhZPTM2jF9KPPbM+6D0RlyXiy/Y800/FAwedyFEo1lLKaXSWSwtXRWLZZ6PfVmGJNEmwMK8BLe+\\n\\nH/I/wXEjNW3PV30Fn4/VouTNKFnCMhYY0820QX+8rOWKBXNF+DiE4rSibkl+MdQBe+9DW/96J1qE\\n\\nFm++DL0QRRoOHr14QFfKnp0WXcUtiGUCGzW8mnnwdzsb4BMsZ8f4j1N22L4V8jPJ6K2yH+Tb9FDQ\\n\\nFTvgMG6p9WLxUvl1m6XIo8BYOcDihlc1F5d7mprEMyxh/lgYR9gVtyJx1mPdB6VwvmSy8Lr7C+Rs\\n\\n+lPFy6fwujZclP44V0YLlC+ZlGUUV/uxBHm2LT4mi9MOjwWK/nz9WOHpt2GSVPUXTxZhTAdMRj8q\\n\\nD1i0ALD0l5JQxMEDK1zCwODW22URp6dReSqvxQoC8wi4itCz3ykOTNIFj5kyF3EXXOcxf19aFudU\\n\\nooa5Ey4RHvsARFNJMaxMm/Itfy2YUlmJJ6JzQCwKzK9bI5YucxF3npRKK9+sLON+UbXY4nNAguxj\\n\\nMlkQH5xo8OWb8yxoMUb9VqrVUrRUkg7YXLlRMW54VfO0X2JXJKP0MDmODdmReytEt6RQ+Jmbb3p/\\n\\nHnWFgsdCm3Zqi21HsULhBpB7SUHhstZhFp7zuLeTI09ro7iN/Yi0sZ574R4lFj3zBfnxPOoKJMEQ\\n\\nZC4FNotFCqW06AYd/08q0xVjhlczmce9dI044SWrTubGcY0d498OF0Ht6NT75dvylK2AK9azh7Uv\\n\\nXSxKmgP1J6idR+XtJ0BHDa9mOmj0PhldooY6sCWG/tgPeXEOjXlagmgg8MM86vIHjwt9zsySo3ON\\n\\nxZIPqF/8liq+u3u1xAyvZlIq6Y14JKq2scl9Jh5b7LfRWArFZppc+ZaZ53fFmY/08tqrJH0rXzaw\\n\\nJ8ud9ogbXs1YjP89RDroqBY84H3iQ2g8iYILNz9pyaMuv8US1Pbll5FiAf9+dDIX6kK5a52jhlcz\\n\\nFb+1m0yYkpMBpn6E21gzP4bG0ovhxOe/3ZFHXf42pggrK2f3jvCFCwX1i99eRSWdx1ZMMhb78ScR\\n\\nGpNROIYmx3G47+Jj2GKng6++PbMkTC/5w32ywb78cqLYqmeDIxnPoxalLGCFKNLge3FbG8MWG0XT\\n\\np1zSxBukk9hiLaNT7749Xwed3xXlla3XKG1HhUXWL36bLjcqxg2vZiy2M4GjiyyOnkRzA5R9tof/\\n\\nOopfCEd/eU/PXxYHJq3+hEwMLIu/WKlEXbCexP1oObgKtzF+gSfT6OEgmiSbkOGxf0VPNqJg/Pad\\n\\neY73KtDGYLj0QiX1md6SuoimDIkbXl1eYfpv21FMEYNH0GQcvR/BrV/izz2KYj97r3yvaKyuQErF\\n\\nl1Eq/dbgl6BUxvdRvuNNlucVY0db/PIn7j5PTDiP4H3Q8jPLlCV23w+VPMAKpFTh0gs1r+9ex8vc\\n\\ns1PYYj38OQufXLAsorOMAJD8TjT6S3Sh4+V3hnryALs6PMHp1afcEFmE5a3qK7gbCd4mpkQJQn5R\\n\\nK7DSQk5phnbYknfj3NUBpoj+3Euni55PkCMxw6uZAfKmzOOjqJaUknhLnqYb7KC8usD0lHYkASoP\\n\\nWLBI+VQZLVldwZ3rJUtSv9b5dLn7GHnDq5U60rVEgfp1mEfk0kgKViRqeLVSR7qWKLN6V4zBMgkQ\\n\\nRg2vVupI1xIlre+F8EC+PB0/MrxaqZNPS5Tz+kT+hasZ7q9Ark4bO4/s8ZxL4wp/NYBVuY1N60Pg\\n\\neHGK8dUiGV6tssXO6GcB9hRlu8+RYJHylSlXp42NyzpgqDg162r5jOHVKltsVt+9jiliebUdM7xa\\n\\nGT6PkuUVfRvjlTKj4poENq1vYydLYLtfJWHDq5WhSCtZfg5jOVeUUaW8HSDXlHW2ZJnSu6JYbjoU\\n\\nM7xa5eDx82Tul2Hw6rhiZSjSSpZR/aSvWObKWQPKLiKVCx4l+YIBbWRLuVtbYoZXK0ORpgKzl1Io\\n\\nA4stlreIu8ia4LKlqMXmt5SgZVw/puxIlbeqr4L9WO5HQU1zKXRbUzrOWXKYTXk0hKOGVysx0NQ2\\n\\ncZ5jSimUfgrRn8rrisatzxhYJVzxkEj+JoZL0DKlKyvEUTGa936jkGB8dyWy+3kL+VsSE/eobvP9\\n\\nkpSX7T7PBPHdhlcr0UGnVBbCp0qhOtIvVyTHT+ZdSigb8W8HDe+tRBuDTeTv/tYStIwZEn3G8tz9\\n\\nn7u+a3DV+O6KhHtBxH8CF0rQol8SjO6ezhcVlQ5otBfQmMWxIsCGyBVnogQt79efcs3nzRkSkrZv\\n\\nPEeihjdXJAk+Ycd/6kpQDWN6V8QtzLio6BVSXl53WTK8uSIWO+fHZb4jyRfXMqpv4/xUvszjEVIV\\n\\nejcNFilfmVJooDljwTW/WbEXVQLDelcU5/KEA8lCfvZFfeUY3l2RgeZsC/aZDjhaVAnU/74i5aMY\\n\\nX/CTv1Ni7vWw8d1XCqzQ3H0yiP/vgCVQ2+lXv8tSvj072tYDfdZsvPm0Im2MbMe/ZEf7iioxWGBK\\n\\nThuOG96sAVD8udfDhndX5Iw/skcTx+animvRr8MkbPeS4b1/iL1ENFg6EjO8u2KPkZ4Q0SmxqBK9\\n\\nxSA/nicc8FoSqZvCMgY2d/mfTKIdh2gxnikryW+yP7v8haLTbwOI7C4uIlDKXfyGUnojZkREf/aB\\n\\nYwYZsnE1ZNoYWX8jq1QKuHfcOTMVjhKeC4s6AZ3EwUteKeNyPlFs+g0nwglLcWC64AHFUeOnymkJ\\n\\nffXSCwaNxxhY5jZSSwqw9qb3d22CTV+aumUSnV9C29SzWRPYcIq47HvL0abI1ADE42d1h3hhEXUW\\n\\nS+fbAbKE5Lt75KP6wUvYUHOmfHFcU/DCwI6kJ4xg4HMnO2bSwSVkh2T5yhx6loeJcGZR1bInFHHF\\n\\n9OblLL+QGCx+k/Mtu59VW9f3M2S4WWJcfct7NBGUkoRUC4NBty9I4ST3JgE9xuzGWqbPbULJF03s\\n\\nchWsqpF8wObJzzmKAUOirsXMiHHjNXNBRBhSFiTdpzFDzZmoeJi50T63GMfF9cuIn4yJ8qltCN0U\\n\\nItxtvw4FUeqJOzNJ2tGMqfJHRbW/uUTqdS+PCosBc4eSb236ovocfr5F18sZVsOyxSw/mcQvY9F0\\n\\ngG7kd/7qmyJ+jb1Xuog/+2UHT27LAAtmxVFjYGq/rG7QPG4vAgzyuiFx+v6oIbRFXnswE0PjOa0s\\n\\naKg6s+6+5bZpNJU03TxFVhp/oONeXDuxqfm3RROqBSRinwywZarb/G2snxRAnckpOgNnYLGFfDYI\\n\\nKyL5ZxzlrqA0qoaV5enR902iMcVmib//zc+hncGt4kNnTDfPmOPTah3xJGpmgNkzz0fyu+IE2d5N\\n\\nso65eboYMNyt5EgqX/DIkC7qqSOMc8XMxrj4v06i8HtR9Fz3/j0QRL8rPX3BeV3aP0cqNIiBzUUX\\n\\nNWBQygDL74pKHSFOwi9OJH3GtXn5Vj0166wYyzMbpf2irHv0bje8O3M0efR901C8DkX/Lsi+B26f\\n\\nCtpnpqLjyD4ZFbVu+vxEa0z7wn1/FM4FlqMSvlVEMlnq+4xCWYoB25N7ibAsG1XHDPo37YXuw5ih\\n\\n6kxUjN47KcEfo3h0zh5Hty9OhZfGomOIX/q1RPaOSOjkuRq1Ucmsk9EKWyBXFCS0QKaBQ1u9I4WB\\n\\nLYkGbSxmuOx+IYNIacl9Vhg1VK3ZddbXiyv3NjqYavN9CN4+e3oUPedrQW900xayKJtHB6fixBUh\\n\\nbBOOauuuC6RUe+3owvvc+xhPDJj4gsDS6gblVfIKkqBkcGts+YR63fEFYWQkavkW5/ucW+zyTp8F\\n\\n3mD7Onz87A1BdJzahr6pTr+LGNjPF6dUYD0mlNm0USDzmLCgE/cO0I6Qff9he0FgSbFDXyBJEQ1u\\n\\nXYqTqxLxvBwkUUPVqsV6Uey2SaTMoLiCeOyK//rFOJrCrvhmMh8jdyCp9oax+PhEoy0QlpYhFcg8\\n\\nFrahA7DRC+jgRJHHuFBjK8uW+TwnSsTUaKD+PF+yxdrF6E8W0UwKRSHCcepLD4oxZWpsHB0hlHvK\\n\\nRRa0vGd8cvySAJyXdRawWPIGuEnup3CZ5SJtTH98N2n00Kg2VLDKn5MoEi8FGKkHBYhRbLHFORSV\\n\\nOWYTuvfJjwbb4+NjaBM55FJ5uo1/dW5q6qB6/9TyjpoCFlM2pTowPLtGjVlI0pI999KUsSvC2CTZ\\n\\ng/ESLk/ubHDQUDUJbvIWPvreKTSWABZY4/gquncCtIATNdvO3VUH7cSHebQYnTyYMVSmPgtYTL7r\\n\\nHP5aOpz3R7N+XQcMtzHDfoysY8eR8SXcy+WM4SSj2zWLCf7oY3Mo+K5HOmRkn4J9Y8mw8hTYfMbm\\n\\nYDu0zANbTOugE6DbXsxisDaCNErMYiLro2IcSUui/k51AMWrY3p/zqOnMDISlerTbI/dNnVM7CUM\\n\\npv4pdPtzaXtqbHwqyU+RAWgUO9/iOYtmsZQng6PQnIedpFJJ4x9cJUv6k+Tnlk/pyBGR13i87Loj\\n\\nbGKGqlWLcX6cK/JwCwpCJ9MC7z3xthh5rIg76zgiQ2+c3U8cXXFFcbkAeYGpR+EV3WKlVmsw99Jp\\n\\n44mBV2Bm99Wj8WDOU9BoHtUYGHUbw7It8F9wVIy01cIv/dsN4RRTO4+kUZIYhAmw8alwBk/RJBhp\\n\\nTasUV/x/UPfdJSQZhfslDEw9VuZRlHt+QdhQtUqn6/1+6zYUlz/3Qbss2uMwOT4WTD1xyITsHTG1\\n\\nlCJaGJvUFktPL885FF0OkTb+wdW/fkz33T3QMAmem8vMuryCTuYAj+cFBjn+H1NzSJ5l92Bg/wZ3\\n\\njv2tdjo4fxfu2NSoODOFNFecLMkViST9xYG9YhQVRaM7SbuKkhdkpdXqH7QYqlb91YxeltMotSBG\\n\\nYW/XG3pS/3efpHJU+80kCyCuuLDcRieXLVZ03X3SjoqK/sxk3BqMj8o4ndlEDHF0W605bKg6w2H6\\n\\nZlkWZ1JvscssOLozfere4CSxmP29PG4pxBVnltftTy/HrOKu6C9O7XxRN+VkRENLZM/KooGO+RyL\\n\\nxQxVp7SK24p6pHH5f3Qoov/XSvJJONpPtrva4S1JiURFaQah5cyjZFcMFz9Jc3o5Zb8scePqkFqW\\n\\nn9Iu5bYqY2CZyRy+h5dGZ/ltssjLX/rnceVrHeTsIL9yAhKL8fzCcgc/t1zYogsxyUPVGR4VlF/q\\n\\nXfE0FI3OANkqLU/aL8o5wMKGqrWBprJVFG/iT6CvI3T9/I9H+oQwP/x870R43wLyo7+1uf0pNKs9\\n\\nnJ9GirhcccvAJEPNpI1NGP/o5V/XA3sBGW4f6xGXMykde3chirRkD+Jvwj53EaFG5v1nIjWW8Alg\\n\\nnee3JXGH/22Bs8yhRId65zzwasAKuiJJemQ/QpdaCgOb1icZUUU0cGAFO9xy7iv9dPWw27jytIqf\\n\\ngSIfU0RS2sONS4tRjFHe0Sr/kJdx4AgiNdryGTyKVpaCU9xJD+t1DETahCLZ/c/1XdZRaLQDBKbR\\n\\ncnOEYs4hc0FD1cuHPiFpVVId01SooSis4sm0sZJSqniytYZmrDWAubMwMP3x3WRIaOCK8hKCmZ9R\\n\\n+Jw1FKOGqoutGsi7c7eQxV5QzN5GhzDSvb/IY+hxA4pxw31xS5eBITG+OgsOG6pe/URTvIxmpdry\\n\\nQCtEkdYncybGVMLpal+X+dxLDxkeRyNPo5WFp7HTqy0WNFS98nCdOBvZTI8BHXxZXBmfixdhBwGh\\n\\ne0BXyBVDpILIE/ZiYrAkOGbY9y0uXa7peEkbZjP7oJubmtA2O04W4kO4/V56s0j2CpMPpAnUQRYi\\n\\n6Fw2PzCTU33KoltRbyBzemB3GXbQi2OXfWt6cjX2sLFqDVggwKJv+5O1aC6A0NiJj6mRI0FRwL+E\\n\\ncGN1enXkN/nb2BBnJZVSynjstN48McWo3S9l+X7uHGuwADAtDMom7eSf2L/dJso8Hqt4Bz4VHEM8\\n\\nHtmFdU9+Cxz6tFvwI60fKyYGfjeqGIX7qanLqwXk1OoBQNhQdeahhPrIIo378JP4p6Jf+ykPtQN+\\n\\np9FLnlvvlJG9kCvmfPKio4lHpa271xN9Igs0WlTzSvjyQFki0wRFgWXY+gbobjsizHlkAPazb9YH\\n\\ncc8cUz/+t3pwnYL0bIGFwn2ADApLaWMG6zBjyGgzUizr0FEZwVWqWwxVa7UjOwb6vsYSswQxsP/X\\n\\n+WkLhOqDkEkcY0VUxGI6BC8RXstS2thBfV8yarhnJyZlGaZHXKU6aKhaizUpOD670x1cJCGfTztt\\n\\nuI1BXEVifAoFRV5KEqr2HCmUBPcilPAn/cV3cpzUWyyclgyAHRPhyq/gnCq+6huGqrWKX2I8ZBfA\\n\\nHHmALSYDD30PA7unFvFTc+ggz2O3169SK+SK+xCavSVtL74ALWaw4slo7ymhir/8TpJW/aIxMO3H\\n\\nzzzkaMQmPngeDyPsKLrnA34I90QRFZxGe0bM/uTA7puNa0QFplN6hDyvTfmLn9S1TZ9kWFLov/Q3\\n\\n7kSKeBmJFF9VO4aqtSpbVKJL6IMj7np1imP05L+G5SfEKOq6eQr5qUOWZD13Xe4Xi7jii5tkPsEX\\n\\nA/ZzvSvyisG0Ex7hZ/Xa0dUfhg1VZ6hlnm57OzLXb1KPo0G1F1s7ZLMYR/boJHoDb7enywr3CD2N\\n\\n0ImOlF0uCmz0Hh2EmGFUlLJHn/HoqtYbNFSdqXhn98N47LpExv1H0AHqfS0ne/gwCsfmYIffjsfq\\n\\n/rLC/UM4XfTLEjT+ySxp0ccJftGgjcn3Z4fKpdVx02+oermBqyNCPE72gHoefOdz0RuRGET2+KTy\\n\\nWbtkh2WG+704r0JJOyya38d18QVKhltblrLzrLmpVaUJG6rOOLkYxS9wLwzrt//R1pHbG9FOyEcR\\n\\nP7YoR+12u4z0obuQK2KLmchkTm8xYAacth1GZ4CkZ9RF9xlZUFYFU95Q9TItPNuJfNgsUwrauvU6\\n\\n8eM4KvIS8o9Noqjf71eQXef3hSy2G8EjJAk+VQyYQVpouPdUeSV7cLIwtSqYBg1VZzSb22i0O7aI\\n\\n8Kibh4/23zSahFIYu+Ii+llDvT2JeN2yz0Jt7BBSNpGUakYsjAuO6inGMTD9UpvpVQeDKHOrBjaj\\n\\nyEgyFvOTbUHkrNoUkuS6Pcc3pZctFgcev3yA1oX7wm1M6SAWm+CLAIvplwSHFwyi4tKqtfjp1eeH\\n\\n2g11Z7zVjtNR8THwF7i8PPx35+/isSVvx1enUTRqRykgPKT7rQLAHkKwhcwEp/xFgLXoYhKZBInr\\n\\nbpxetYYRpkq3mBvUIP7NBzaRxQZyMPo1XrVYq2USjY75SRJcVhvbi9JBJPNIthQGhsQXdJcM9xMs\\n\\nrboEV6fOxrWXiYquuofRw79LnmJCKSXF/5tPws/aEXsUJ8GjYdxt65eRFwL2EErYicWKAZPtZ3SX\\n\\n+GlRT1s0vpqvdesqZGFD3RmL2aMziHozOQAJ8kvBPcexK3K/jey4jY1+i8fo7WUB24vOYnPxSCky\\n\\nrQh11KzYYnGjJ3mrl/ptXfWZMbBM+fijM8h/H7YYWfcSffQZlJYf+wmSotMo+L94wuVYKLvXKX2S\\n\\nPBnBI2hYUwSYPtgq/iUDV5zKIclcNR3JG+rOuGI78/qw/UZs8ij+TvAfzkwlIU8+mkQ/u13ErsiX\\n\\nZbF96PvaE81QYWBKTOd1UDIaxYV/ugrYg6vARA11Z1wR9DaGpa24ByFLBEZvxF2gNtM8hcKPhfFN\\n\\n4XgBYDqlJ1EbEsn2sSL7T5f09QWNN/zxq97FRDEbtaHuTLj3H1TQTd8g5y7iVvrgsRNkKjGlFj8K\\n\\na8kCGl0JCoX7vegOaMHxAw2IqJDAn+owQNHIYtHVlIs/k7KBSshIMhVvH0P8TR9DY+opT1/zzzzzvS\\n\\n2keTKDjzpDhnEBULZR5fR3Y4st+P0OGCuLB5dCjS0gsGbeyYlJ0dKmjVIQZhQ93LI72vPc5vv32w\\n\\nQ+n5poj+u+fx0VQHWVaRuBWFz88+HEffvDVPjRgC65XtiBLs5Jy/giLrGxTBOqq78eOrByq/JGfp\\n\\nroi+Hogsp9fPOi3gNtCSJPPuDyR7LDLdjNtO+g4U3JM0TaGbdAvNC7Wx53BmP0ImF58tDAzpd4BA\\n\\nw23rP159dfVmx7Ch6mWLne0T+fei6Bl0FpdrCR1FjYA8mw2if4+ho3EUDhYAJuV+VpfAbRDwRU+U\\n\\nTxvs2RHH9MEDbl3dt82FiwPLStbC96LxcWLz4B6seylTR8eRauxY7hcLtDG4G7dQ2C0VPcFU1pPC\\n\\nK6KRb+1cnRi/ugomb6i7Ehu8FfVINUosqgPqRyiG59TCxdWhbzUxRthQdyU2nypm8nekuI4k6si9\\n\\nRBhZRnVov7D6/dJiPOtd7JoBS3Ti0qFdJSghJwfklBmHe3vuRTiTU/p4to+HDVVXgiLt1GMWlO8M\\n\\ni1Ui6wtluAgTxlffuDp0GgOrxM51sLOEk8eIKLyuQS2pK3Vz78st5XT2ADVmqLsCwUPegmpKVKI/\\n\\nBmleNNg+psRXg4VL2RUSLlK+MiX/sCXZiyL+knQkySEWq8WwaSjx+OrSz2UXu8VQdwWCx/MfQuc2\\n\\nl6QDXn6atyzzRhvX0/HVa65Wrw4JIyOpAEWa24JmhcxPF54cSOlXp5OOWAdMyd0r91fZ9jAGVgGL\\n\\nDfgRpAd48vKMebSQjoXVjyY1rB36tbOLOQ/h4Qd0y6MqAiznk3MY0756YGqtA56ApZAORV/bS0Y7\\n\\nGedy1z9/OXt4prtdq7QrBZZ/oHlGxBkmfdjDcL9Fc1IhHQv6/QSG++KWxP9efeG2VBYc47qrgCuS\\n\\n5fFKFxUa7hciQ0Uqh8+99GtkcM7OdO6uD1TcFSvAmaPO2Ad8FOisp28uqOOcPi2cMdrwF8tl5/6P\\n\\n7BlUXeWoUoEOWj0bO1Xj7WY8TYWP6VrSY4gig/0Ev8xdTfuyIl5+EzTUXYE2phXsWavJYWIL87+l\\n\\n9PnuDFl4k3sxrjt+7dpERcnwhoQfJYtk+Of1662mCVFKrryc8xxt8dfZ9+gqp8LASpAz+vZx3thi\\n\\nOUNxeCzrTcxQd1V5gl/Vr5xdMtp7+guyvHw10iwJG+quqsUMlt2PGVlMN3UV57PuCRYpX5lyNbi4\\n\\nT+uBLSFRb7F/zH0As8hnfdH456vKxW24UcJg76lusc6slAU+bKz7Sgt1NY43mdJHtLiRK75F90V/\\n\\nVo3EDHVXtY39WO91PzA4Vg2+kjuHOpe9/i1sqLsiFGmlisF+AkOLvUfKvcufdSVmqLuqrviCjtcZ\\n\\nPQcNTvj7aW7hlVh45XWek/eqGhUNFnGfRgaHm3w698KqaGL881WNigYnSvwDNNhzIuqeU2Q/lQgb\\n\\n6q5q5mFwzs4U1J8Xp7wzt/ByvCiwqrpiXOYNsOp3gIzmutuqW4KGuqsa7n9usGfHYBs01A2q06Or\\n\\nvmIkVY2K43pgjxqc8AcfgrqfyEJjN9RdTYuJBv3YuIErQh3NHbw7a447XKR8ZcrVaGMn9eF+UTEE\\n\\npruSle7zhrqr6ood+jixx2j7WEzfLWRhjRnqTunuIy9h5gswqxONpcTsL16N4LGofDn30k8NTh+D\\n\\ni7ldG/yLLIvZDXVn2tgZXE9JreBkvzR5Cf0oiP9/QVZrS0FB/GLKkDjySnGhoN44UwZP5O+P5V6R\\n\\ns/mAdJ+qknHFacJUinUm2TduUmie7Di/WItaCOsblFRV4lEcwuZH2OUl51fDFb+42gmI/KGsd0Ul\\n\\npuTe987o5ddhQ90Zuy+iPj41YZ9OtfmRzPUM8ij1uRbCYYrmcOS6VNNg4qMKEhNU27bMF6+KxfRb\\n\\nWw7er38AZJBlfTHrtTGwTPnGzt2KFn7PB1QOU7JOGdKbEPwRlNEUhn7c64+hm2zQvwhXHoeXEhWL\\n\\n9CXwR/qE7qjBji79HCr8Qfb6FEPlGdW/YCS01Fsrzanngj8dRZEmEcF7fA57XFYxRNGQ0GifgaWS\\n\\ns6pyTiyMLKy3GP45A4vpvPPdWQ3RGFimfP9+TCSzreH03jbX1o9jGHIyheQFSkJTM+o9MfS/zGJ8\\n\\noTyLnecLAzMwaYvB9jElrAN2Z/zya+OfX6bThSqtRGwK2VP3MHwMmzIpzszi6BhPbG8jNYnIgr8U\\n\\nXBlAlGKxIuSs0KK32KMGD1lTMd03/yXLFYOGyjNa/DjNHMMWi/Nbn5ZvIYvSJhdE+fPJKbJR96RC\\n\\nlqm9F0LCIrH8IwUstmKHZ0YLAkNxfZc1asRSIuku3pWF3rhel1dxY4uNheOxUyMMefKDhzsdc0jZ\\n\\nMzeHzr1AZtNH4/Djsozb9YorFrDYPIj0UoPeJgYU5lCADxokGQZ7Tyf1Rf+vom0swzpLYuELx2vD\\n\\nX7N0vgcp3+s4iCwvkI0Mc7BuGxqDnCUKb+9q5ROgriPzxQL9WMpK297GcQHHvg8VBIb8OgyyJOtX\\n\\np6djuoz2/2RdiRnqXt7bgi227eLmcHQRh0GhFWxDB0exHeNJjGlxHInhuPL4/T3i/KCnJfPFQkcI\\n\\n+RyBXhNV5/UWOR7Jr89UMVbdxSX9oPrnWVViN9StaZF5DOxgNBpLH9qxCVKkIZ3G9z/kFMSplz8/\\n\\nBVE4Jt++s0ecu9zGClhMpgdstm4RFRVef26OZEREod8C849Z6MOGujMMLCIOHrdEo2G5jiWrf6MI\\n\\nnX0cwS/WNPBxzoSgyEdTx6AozpTUxlQpshxYFf+c7qsdUE/uk9JbNp6VesTzA4ss8bBn62ekGO4w\\n\\n7HHcHeLSJ6Aop569XppKxrDF7NGl23fuFJfkFYsVA1bCgRLobt3SWijOGbgir9sy9F+vXn5tN9St\\n\\nUaSlPjU0+LW7g2M4dxFPo78nZkkh/6XWf3hZxI4xJosYWA9uY3PyyuqnYknwieK4oKQ/ZUEysMCk\\n\\n/lTe/8hqdWFD5SpbX+A9twniK1PBcUKR9pBMiXGy4r428eZ7gmQcgYfr/uDibTt34oy4lA5aff8i\\n\\nKiqKwUaJsMFBeDF9+gizbBgzVE66SMXxGZ6wXo5O2RUnzzzzQtU1HpV6/3jC49MDOKVIuh8Ci6/ZBV\\n\\nnGdr7MWBBcmfUixmcAaIZLBFM67fyhnLspgxMJWGsM5OouLUaNQvi2Rt5FzMfoYR/mLx5YUorr/U\\n\\nFHbFIHqsziPO0I0WPbBcnVHyR7OYBRUQg40SZIumbsn6op5045WsfD9sqFzlMPXxxGJTJzoIceSU\\n\\nAmeFcHKYn0ztmQmj+D/XxKCPD6Otj4nZrligjQXJn+NqOQsTbukXmKLwkh7tr0nTyLmUZTG/oW61\\n\\njfXaSQcdH7Hb5VCjBSqfR/Y5kZ+TG+ewxSKRDpny4yz5AUIotxI8CrjiSyY3e9jR77O5mm9FhUQy\\n\\n3FQbzb34iqjzzmzOrbChbpUn2MaruWI0KkGq/xbY9mXEo49/cSn5tekgmucJK4s9jPg3i2RyLJb5\\n\\nYoEkOOBglinSAoVwKfqNEhCPCHUWWz4eJ0vOlxQVISeRx4hREhVxYIfyInbMPe9FS/84FZaGVfYo\\n\\nfPXYJ9Xzzzz0uw2F7Gt0yRpi5UzycGm+AUo+ABRV2fHcvSO2qonJQP7lYtNhVDYShK/wZ3kgmCm46J\\n\\nC9/4dPTBbRixLOIB222fIOPbFWAFLMZ21ixTpFF8IYv9VFdgyC/pM48H9V1bPMtidkPlajfPioTC\\n\\nNopbszxs/i255zPIr/Rstc/9bDH4i4NajzkK78duPXV5pXwBirQO8meA/JG9IsovsqSPLeKk3mKv\\n\\n6oPHKz2XX0vISNSU6pA6hUNIS2Wa+2DPzk/jFz1ScOqBz0SP+bUoF4RbEzyxXTTzxQKuaCF/nldt\\n\\nUoTULpp7QZEMMo+YweafLGCjhqo1DlPEayNoHBzD8Z3yNOJnID+2+GA8TBZUjKrKSWcSRaW0MZ78\\n\\nUZkhCpMgy/qDq9LIYH+3wRDtl1lddthQeaZ8YbiT2NuuiNhWPZ9HYRwmJqeCwaA/800c7k/vxr/x\\n\\nxZbMF/O3MW2ifZDcMyuhAqIYbDMVDcxjwOX56v2XXweRkWSAve/GYX4MncBFap5HtnPAPqbwU/Fo\\n\\n+BIGZbYj9Owo2nrXs7WSPF8cmBwm+4wIgXp8QiwEDBoc+SRd1FsMGuxPygoexpWX6eje6Ab+cTSP\\n\\nIQR6bxfuHeRjELveg/yABaFpkUyhwh/bZ1vCsCe8ukaQPnjIPAH2JH51ojDPkWxwMpL4Gb2B/luP\\n\\n9Zc7L78OIyOZ+//a+xv4NqorbxwfKXIjC55aduRf6JYysnEWJ91n3Zftr9AGj2ycYtLuWk7Dsvts\\n\\ni+i2+9DtPrtpS7uEkvjKxqmd0K1MCJu+UMYxycbAbr19+uvSF8gkBGooLYIG6ra8yIkISnBBtmWj\\n\\nt5l7/vfOjF6seZFfopXN3+eT2PJo7p3zvefcc8+9c+85uS9HSRMCHK4WcZj8LSGqTnR/r/yGgsdW\\n\\nEH0cdHFqQWOJ0QDB0xy1iieKnIPWjk8i6GTRjGqPwEzknYRu0q07Eyc4n1UyjnHycvmctkBzCxob\\n\\nj9R7rr92umr/tI07oJ/dJ0NJdLDwEiY9PVh48afaotE8q8iDHpXgxV8CM8xg3/FJj83PmlahkyuY\\n\\nnmQUtHdqeH8r593/9+3MOcM5Dzs+PJSqGdzoM61C0qpYinhZmovPaM39LGeCWqYS7Mx5kmuwtPcd\\n\\nSLY5ejnTKqa1Mw5MZu4aYN/T8p4qOtEs0REQYl2LV5HSkRjSue9lrcRi9+Vu5HQrL4HEFEi/KF7F\\n\\njHZslYht1qANaRvgrbwG4HUrL8Hh01/lwTOltPaUla7EfqdzPilvf7pPt/ISbGBRbHyxMAMU2O0j\\n\\nhZeSOgf+8KPaotN5wFjQo5LtMCWOZbEEBS/pGAU5g0UBvawVSjpvf7rmfplKtOVoUpaY7qHm/Co0\\n\\nPCVJdwoVXtR5ZRbPG6ADupWX4oA30LfPvVA0QYGkdW5Tesb7e9pc4LG8jd06j4fSSCyxc/1zaCg1\\n\\n2zReZVrFG1qnIaV3kvGr2kvpvO1lrG7lpdhLlRo6ZOP8Cb+l0vyU1Wm9gxJj2o73slZl01fnPo/o\\n\\nVl4KiYl2e2vgO+Km/Q1rF1QlbRODUUnz9GaU/ezTvaMUe4LFeo+T9Yt+t/mZWniCRniaS7MQ1Yrn\\n\\nk1hzX6roEncpJIb7N5F5nbjBxplXoXOSUdLbO/tf2qLxPHOvD6wEsQYUmofncVbbx87rGY/btZeS\\n\\nfA6YphLljsUCK/ZGc3/xKnTO7NAMfxpGb9AxfDlcJdzFrfv9x4tXkdZKLKk3jn1Uq53Jq3OXeN3K\\n\\nS2Hu5TGmaMRZgJNaYGGIajZA41Pa+2Zzx5Fw4eMVKslmZ578fwDkTIOmpN3EPaF7GEnbjd4quuZR\\n\\nkj5Wpf4ukoJMJx1NXDeGgjbn1TTKXQrpVl6SPpZZVSuSDW9MK4kzMKIV4we1WGfvy340WMwpicT2\\n\\nqr8nzT2PtHZaOaGXAOcWbQPgrtxD9YGVpI/17nNutG8frt5knnNdRxXHwKc9ZHBE2+1ieSU1lchU\\n\\nEokNOh1+t7XC719nWsV5rXBmae6Hwosf1vHuH8ndxepWXpKJ5r76wYa9jQP11eYSC6k7/fNoVO8Y\\n\\n9O1aoeRn4gj99wE7of6fMY8Lf1I7w07rmfs7tZdm84J98rqVl2QGfY/6n4YxNSGd42P0TWDhRaKb\\n\\nmifEr87ehTVfylQSc9+t/k8JplXwIld4aUwvoesPtRJL5Q3QPt3KS2I8XgAlM3uRbBlhScPw03p5\\n\\nTzsETT1Sc+6hfBH+Fkhm0xYqrbtg7qsDHfJpjUcYtNtk8QdOCYXX8lNGN+lWXhLjQQfou8n/SWRa\\n\\nRVA7ZN2JdaYtz7+uuZQfqYTXrbwEIdLo9gq1j3GmVdysPYwU18miidcLocJr+QM0q1t5SSRWCXK2\\n\\nnWLriiOSBliEjGOa+x7FmifgvLgXGtT6wPDcmw1Xqc2sIj2TQCVWRBWf1jkXh3UOIzVptS2aFxle\\n\\ng1qm7ERTBkQZkTcRZjMHiDRrIKcjV7M9wRmJvcWZAmua1QAP6h2qfUjrecS6cg9t0q1czT8mbhVh\\n\\nVMAd9CQNDbyjZA4gP6XbCbAqxXzN2bxgpope+xElRJp+Y2ZRaMeaF3RO5MO7dcaAvHEspFu5mrzw\\n\\n0+6NqLHj9SryuYPuGY/KlwlEcechJ+JSGF6/W966kSUzz8Pa4mTkEGkcmNHRSc2liF4KXp0QcTE2\\n\\n91n/IWqjBchgugec8n2RKcl/VPaxiYgSCVcbcMlUs9/qr9a2iD4wp72iUg6RZg5MpzvxWMd4vFsn\\n\\nylOexJp0K1f72NgpMuudoc64uLXGIQ475Uj1dN/zo9xVgK6a9DW2z63erI9tIP+fg6JWMaBVxZNY\\n\\nxxe6VSuUSN4zQ7qVq2YhMjsKcOwW8gmP3wnYqhwxJeoW/1ZoL9T+9QOo0Ns0kxjdkENf/BXJX/ii\\n\\ndomM187GqK+ouRgr+kYzY+8SPqmvSt4gHI3IJ/9kuAAP14TeC35HFWR2tc0HWC0o5n4amQLzaYWj\\n\\nm+b6b7TGYzpviTukW7lSd1zE7C5LEzUIidPMGghGZGTk76D75z8BLiGbk3kDoxKjJqiIExx6S3Np\\n\\nVCeVPNaRWPyR3GfN42VSJDYJqEuQkxdCbLLhaThlkee+BN2Zj7x2Gz39yscLVgHNs1kpEjNXRTyi\\n\\nHR5HMGjPbf4Ia+qJ53gxSN+m8Cc2++mrkTSZ5yUi8Qgcb5dXKwjOyR+/8TfAvgTCtCe78Q3U7wyB\\n\\nUfNJJ5pFjIeOVRzRSZkMn9SZaObtftNvPTXH32WVLRx8yUm4mQxHaK4bWRUjGM3s9mwB3+dBSNzzzz\\n\\ntpuZS0XDKlJ1nDEFpiexoJ5b/iGtKuavA+k/RDVMfNcx5Oj1WAAmJg/3wagyQkdFIfnbh5LAXApc\\n\\nDM81Hmbmnnr31K2a1G/MLEfaU1Y36KXV/plOH9uc+xzSrVxtNNx1DK6RmT0RCY/BkzbZ3o/72dj5\\n\\nZPL1+39nY6fE+fexfwFFakn9xsyQjlVs0omhAP+g1bapPLnqP0SuOwz4STdSmJ0Ip0eJIspdiNqS\\n\\nx6X0ZNW5m0ZioqG511RKDUcnUKtollQCa1M96qviwzrLb3mt7NOtXVbFfsAVDhXYt19njsKo2scA\\n\\nNh6PnU/DHX8nJPHc6s0TqwHQHfcpNG0CTGJ11iX0Erreo73trdwzTTZi4np4Zdcx8Mgpq6TxtrVy\\n\\nViuQx66eSssaEIi/NSV2ofyCZlaxn9nQ0O/1t7i5STAh7bZ7Nel7AcW17kh+lj/NlzIpRxk/cOMu\\n\\nAdneTVHeNjHBw/EeuY9NABy46a4EhAIxSIpdcwCYZj7dyFhq9qxzWjgziaU7tMYjlNI5JPtdrX2Q\\n\\n8vbda9pVJtrHxP0DF+8+hiAZi1IVCx8lOiirInnwo18ZTcDj+64jEpu/S1Xvqen3MJ6GfsF05UFP\\n\\nYnrZoCXt+7H8g3G8buWyKjawj/QyHBL7byBIjzjvIH1M1jSC7qWdwRQ8W7cOZvH8B2jG4a93bbL7\\n\\nGziz/W9YJ2G0kNYB9mk9iaHs5ybd2mVVZIT76loFONayRu5j74UxRSHCNE15JAn0pOaUc64rOj8n\\n\\n2FRioec0lzpEnftu0Grbm3nwfbqVU6sobWMf2XWMq/8+hZMIEYP2+PZrVebHPx9MEGBRmLbNf4Cm\\n\\nXgedkyW502BMWHtEE+sFhwCs5f31PFVAoEeKxLh7MSDnpXQYEaPwiTxVfKJ99KcwQj6dlfAcAMWW\\n\\n32h48Uk0ASakPSiBhTi8rLlPG5EA3iy65UjuY/dwAnGp+J1UYkmb20KeGOFAVsU3vvCcHfb5P06M\\n\\nB+LyC5olfaJqqKRuMZOYpD0YjPUiy4CoVcVoUXNPVREz6L6uf+d8j0IwCAnvlu1X2dnXApxs7r/x\\n\\npTOfgsGGNcR8zl8V6VlaS7bdjIzzzzLy68FNK78Xta4/FK0ePCskt1GDZjK2KvhNH7ISWSeWX9YfvF\\n\\nnMzWrz4n/Q4CCoNzgBWbaG6QP4XBmFI6h5G4pE6m2me02vZ63qoCq1u7bLbOw71dO5HvjyB4EBIi\\n\\n5wPi8NI8s2EI/fuXICH3MZOlAU2ld0Im59MTYEwSH4wWXvPp5SzbrS37TFGJqYFK/qIrAZf9BCJP\\n\\n06gQLJlRcyJLgY3c9yoN+ya3/PxXqSgpa3XnwZiwdoCGv9F7SfKy9oDSW3kTA31gyg1nvshDlW+z\\n\\nLXCWyKeWg9dRH/jE4crWtffehhk13vwPuPyCxTaJKe/VzUIpSNq0atTh147ar2j7WL7p1G1Xlb+z\\n\\nqYaNbO8ub1WcmKBXebibaDqPPfvtdz/yNXg/+Ns7yENdc2ooFnBL2cRyGJkA4zTA6OYrrSrqAHs4\\n\\n54TqLP9QSqrw7H7fxqsgGiYSkzjcQZd3lKfvJO36gByHae6By2L7FQ8F6UPNIvmJOrnXkE44DzJA\\n\\na4BJ8wyRloaUCy77KxilcWVElEAEnwID7yRPksOVFLgExSTWa/2Plg2uYdYYGGhTFwKrl0r+FW3R\\n\\nX+Xllud0K8935jAdx7Lso9wXUZ1mLCaxAS/jYpge3e8UEvUOI+mmktcaj5fzBsgR3doLrJCQV5s5\\n\\nFZPYCetAy9bDNJmmEaV0EmZy85TYCzm+sX7blSyc7us0RJqlUTCpQpukSyLVao9zv6ljFYvGMC1Z\\n\\n1NkEDZHWvsekhlnteTcs6J1Tf0XbE/JCpGlnoTKVLgDymcr2dluVSQ0J4VrNNXRqfuNYfog0pN9s\\n\\niwW29OCsKa0q0oXIqObG/9LmiP7QPEOkLYKWHic4TeNTziUciugA00kv/9m8EGk7lhswUbtaIcln\\n\\nQArpFUED7GdFQ1YXs+qGtHRV1BnH0lxMZxyLIs2ly/Pu0n98OVVx7pRcxhrSSQ8KIW2Yp1vyrvh0\\n\\nay9j6gXds2IRneAlOiHS1kWzHw2c4DImy8A6h2p1YovphUiTUNE+VkZzP6WNDIfhaR3jEdVGOXoo\\n\\n74rPoPZF0tJVcVbbnWiYOy0wyVfIJb41D5j+40t0XHg+9Ia2rSWkk6kWItpoffkay+nWXkaJndFi\\n\\nEMnMPaS5Ma2JiIl90dwf+o8vY06J2bim4LTwsA6wWKhwL4EYzXOVOf3aFwvMJETaPOms9l0kDc6u\\n\\nuQjT2t06/5gHX9M8MpVRFd/QzqRE0HtpneYLr+J875HTrb2MA/SUzm49NKajirOa5Ukcyd2F9R9f\\n\\nxj6mc5SbhiHW1hbXxLtPhkJQhMppPLTvzFP6YZpDhYOSlP9ITq9IOVPhRUQdYCHt7BOmolKByBLB\\n\\nkPxbbl0B9KiMEntB28dmdLNZSaHCK7OZsZ1yoS0gt8ZigS3deOj0sbSgJ4A0FL6ZltTNb3IEE00t\\n\\nKvZF0tKd4PibqPDSDJm08JobJc3CVVo9353oWI7JC09po15MkB6mQauTkCaWOXhFueB0ay/tfAyZ\\n\\n1fCKXgCWkA6fUrTwymvHBPn3JAXm0629pKqotyU7R2Gt8ZiGgJ4qRnHBI2ICm2XC4CEllVhyxKyG\\n\\nh5VQBPlq9rLe+W7AOwqBxW9U2iQZBaONmCWajz0t/xQvMqvhV1qJnSV6pa0tOSYV3InVgxIxyr6m\\n\\nFplKZO7vl3+Ou81qSGuBzerFUNDJyvia+gImHYX/5hBpvTInFgdnUsPT6ugUzV06CyN6Ri5eiDaq\\n\\n3pSgXCDQoxJILGWrACe9Jra1IJMaMhJ77OMvZmKG6zcz1qwXYLWobPpG9GtfLDDjPja5f7C7jSUf\\n\\nnqh2ciY1HFTPd/ttnhr10lm9VPLyyc25F6Lq7yRd+9BvvIzEKHPU0wzJf2nuFTSqbywx0W13VfvI\\n\\nh0bPZYWl8mlMlGFjP8PsvyKDQNDj85OFY8DLqmiTxgN0ZhyjZxfpg07JbwpG8u6gULEPno7ONcQm\\n\\nUWd7aIg00maWSr1d9FmKKxLDDzo9zNoMNyGdGyXNtDoTcVF2+nVaAnISoxvRqNc1iqtAzmapklOe\\n\\nRsyuh/C4lUvYt2Z3MBhLTGpSfj+4v8kMFz2PKQPjZh954PJMpXoSw2kNXrVZk8befaa7BkFZBecx\\n\\nH4SREJep84jjKGHVcy2Mvfq8IN7lzsZ5L+rdi35TY088j5dUYJDZxwNP6KviBwv+Fn6L85jw6dae\\n\\nkRgFRlXj8R53E9zBBxO1oh0er8KMuwpSg1XkhghG8bwxoyiwAxuKhLR7UYksI59UV3dVPawXQwHw\\n\\nDQUSw4+qE09ZYvqPz/A3AnLqJ3Beb1sLTaGn8SAeYse7Za2faSZlQzFMo21ke02xEGnjJxjzIISw\\n\\nQxnHZCQqsAlAkhYYXF3I/NWqoslTUE639owqBkCR2DFxguhjYIh6ox3Jc0SinPLsKJHYmX6msbBF\\n\\nDCSGa5i/KCKxEQUDkVg8sxP1PBzT82l/VPCCDN+uPv08vb5Dt/aMKvYpbSf+0+1TROv599CVy4CU\\n\\nQlNyY5GH/XJ8AE2ua+zJPLeYE7z1Bnqq2oweVtZ3M+d3KZ3VO5FPt5hG5164JWPuAYqZe7rWIKI4\\n\\nPvvRFBnX33kvF4RQJCmiWVliHCQ2bdoGkTT7VKZgkWkLtgAUkdioEkNBBqaq4ou6fQw+VQAM/0jt\\n\\nCNPxouuKQVK/hMLi5N8lIDG+qYsLAR9OApekVgoLkRRzv4h+uXE4G96n+AwaHwRTukG1ABSYMhuQ\\n\\ng/XpAHuxYD8tjqtPT9JFA6RXudrHptoce5uesu3bKkVeAX4Kf5tmRRCmJMxJpNz5RtfdpI+JcLhn\\n\\nSza8T/HFHFxEYkcVicnDtKqK39WX2JsFnh+OZYDRHz7d2pU+lhggret3c4CZf61hI/gzNOUdT2Y7\\n\\nviTeDeN7PGsg+GQNCsbZbEHzPiYbg/XmwMaU7pRv7mnGXx1gwYKlmewe9pSxKmasYp/yCDz0x56R\\n\\nMdrtifGYTQKbbH8cyd0geKIFpY/kcg6YS4xucsbXgilFlGfjD0FWsU/pD0qvFKiiFInmcR/SrV3m\\n\\nL66cRhAJMC7A8XJ8EyKxKdLHJplqJJv7N49iX6rO2ZQpaNzHWPJ/gKORU8yB8Urgm1T7j26Pj2ZE\\n\\no6uKgOYuzYgqLpg19u5lzE8qIW4w4ZC7j5iNB4hqkGekJQjFaZ1UYr9CZODJ02djiQ243U4HbUbz\\n\\n5GMgqBJjGPeHK5RLp/T300Tic6+neVVKcjBrfWByH7MgoOeekzxgz59yvNh7kYWqopQm/Uw+AkaA\\n\\nPW9h1kuQO3RpDKyiwlE/2EQ4No8jlk0lP84wnqxvjSQ9PguOa6VVXDBrvPwmH9oZ4uCvQc7ii10d\\n\\nKPTrTve1xPPoSCSgSU71SDd+djdcd63k3Je1dMbABgda2m2B4qr4sOocHPC3M1XKxzuw7gD9dMHV\\n\\nMM8rH+RVKkG3diWxmiDHlE8GAQv3cfxJegw6COz0FJEYH5FTCpLmD4B4+NDlmYLGfay/7QBHfxfJ\\n\\ngwcdGRvu+1uLGso1qr+5KzYy9+9s/iQxZLozR/Kw+Cr6OUhmve9EPvlQbQCaJhNQNUGA+VsbBm9b\\n\\nGx4hQw4b1ZGYAeNFJIZ1MiuO6XM5W5ib/Lus8jtprIryGU0Hj6mnHY8ST+hGxMKvnVcQd78qlYSO\\n\\nSLQPjlzCVNx2xfkAEiF3+nAeA/RRU2Dw4dwJkAzfZJYu6t47NwrXz33qIydpO+s/nvIneX3iLtJU\\n\\n4Qhg4ZscC0/WdhBV9E1NAjs2OgLU8Ih94fs4yd1dlSlYbNqieB4hY1w4lzQ5e9dRvVhAhMlAwQVO\\n\\nxSnXgHSrl42HlaWeE8RjxExgQZAP1fJQlZwGLhJlFXMfjPQGRHtjdtCdx/uxG3Qyp+WRT3uih9eJ\\n\\n3kQoFZ07mXnFp4JJ6mTwghxm8QBKUIseJEMWRyVGjUcARmIzIARpFBWq+QfjAywmEswUnJ/ETJIj\\n\\nYZ1s0BGsazyksbn6lu1yYtz0pQS2cDHqLwQSdBwTfDBGGCISi0ySmRmN8EDL9o0Sq9jl+3mm4Dz6\\n\\nGJGu2eK9T3sEbr2+xMSC1ZxXMsCmzMcx3C/IMbA5Moqsf5NI7Jy3jyhRR4TmjqcLE5iwfpR0Nlxb\\n\\n+U6kBaZTrYy1SzzzztaUD4Fe3xsSggvRXcRHzOgqDEZ+ZncmRKTrd6WR3q0CmafYzHROmE/5cjn8eI\\n\\nKgb6RGLfJ32KxAJ3Eom1W/84A8x8osmOyp6HaLJQpZOCFw6KusYDbpmjivjGzN6qBJ3yIb0Siks1\\n\\nKx9WJLLxYe4+N0ukNUqAWX2TFuAeq1JV8cgISF3C/Mw9Hvm1dWCoj/Re/eZUwD+tlZik63mIBRkN\\n\\nsxlqUjsMa1f585EBTaQpCgfZLmoVg1KLuJ09fz2GJhpOhbA38i2W9DE2O8yYzqCl9eNyiDRbPW/4\\n\\nZLxDK7E+rPteIjT3KA++PSNWTB+NdKtX6+FgkiNa+Rhe+2YzB48zR7FdYuDxKlHkZzrgWwJIX2/+\\n\\n+q0Yf2sqU42xxEiVibXn5RBpG0xOI+GQziFprPuWBN8+d9HjtzzzzjuP4jFJObICMwf5ImWueo2j07\\n\\nnAnJnEyhFAseDhJ/ijYRK1fXmKnGuI9NP7ihrnPGW2Optziv9xkC0wuZEzTyPOZMocXYPN4RTWXh\\n\\nkQkmzBK7KNAViMz4E4/QFX0aB/Gb4Cc39GdPuhlLLMF4rHR+VWQGjXUOST8s6VpF2D1HkLPxOQMF\\n\\np1dCBZbdk4TlUNij2T238RH6k+rrVfM+4C1udQ17ofi0BZ3SXHoopf/urwtm8lsuMmcJBOnWXoL9\\n\\nitjZwsofzKctaZ099gcN5iBXS/kSk+CN/C8F3SKGr2qN3oYVB5atwXwGLQpaVeQk3a1C+Ngch2Rq\\n\\nNP8mg3dw2VtIyZPB/Ps50oDUrefohix1RIzmNsnMY8uR+bqilL8TW6URSf8U0VwXMj53gy2nW70a\\n\\nIu1qmuN0Kl/p6VvAO6CJPJ+mb1BjMEcT0YzuzmOiOWIOTCsxiTVofjnDeJbOhuY0iT4wxdyn9iAX\\n\\ngsjJvAI0H1GQyEzkqlmQppRTGGfcN1nV74tvOSqyEizp9LGgpL8HKsjlAwuFglCU1KizTTv74Hi9\\n\\n46G85yJSX5Qu6PMc/vbfKT7NVMVXvOr38+hj5mv3WI1TIr2YDRyAhZT+NoY35+zPjD48px5Ot/qM\\n\\nZj3JwV5mIC/h9mZEX/ZxdJ0DiY03PSgvkIWT4Yyyz0MVO0yBSUgZLBP2iuyhHFbfpaK+fV7rhYSR\\n\\n/C+RXomM5KU4D5GJ0ZxyeC4mPTR4mgAD7mpiuavkuiLJcObB5qpILxVTRfVEfoJhrO9Xr+2QdDfe\\n\\nQ3xOdk02szKgtJ9+9UrDv/kRJMCk50hV9vqBBxoewOeDAiSvaX6EzNl9LL0aTkcygMytIn1yMc9D\\n\\nTd9+zs8wDhUrn9BXxXA0H9ixuUMX0q1e6WNntiEeXq1h8kYekbHip4IcGqzu2gx4Fys30kQyNj+r\\n\\nKLeQueeRViU2BQOMRREBtcT6cZHmnAzpmjtpFnRLJHNfx0bH8pYopoQYfjLYJTwOzV2ApQ754nhl\\n\\nWAeYtmbZmyo6QCtPC0vCP2Wy9XboD9B0/TDXSyTTbTEZytbDc6PBYN4wOHFHFP9yyFklouar4fS0\\n\\nYsFebZvI3GKylyq5Rl4SKLYSrBoPqntvqCIwCqk2G84LBIULYsFxukVUlypd1zrypLUlT6siLwbx\\n\\nH+x7qnAX+hP01OkZJLduYh4Sm2Jq3VspA02muCSkNBblWDXZIgf6xgNuyfucLBjqkH5bKDUetl9S\\n\\nNTTUUJ+7aTTIi6/wxCpiPCBWjaQ+KaNJxYpbRbHCY5WjehexiqrxkCNjKSLAIwZWEcfzGjJVoIv6\\n\\nwBSJJS8jVuc+diyTPJWUDAVgKsgJIH6OzKubWUWvIomIzjhWACzZCZM9qKhVTIGywUUOoNSkPFZI\\n\\n6x9ukfI9kviZ+ZxKz/UxeAONyjteRQsSeRDG0ExU4AB/mlz6N6Rs2w8nY5npgHEfE9Vc6/J2M2PK\\n\\nSCxPFekmhbP6N+fNrGMTc4cEpFtCbQiaumfyHheNRgdnt1vsLAT7IPkMGd2kd5NLM0ydXPz1OyOZ\\n\\nlivmK4YAzLccYTWmXTgHDKO4wb3NSMryH42+OQ9gSpcRG4jEJLeHxjaDSaaD/AwcpS+1SR/7Svca\\n\\nmNq2VS4+WRfOSGxe2yHMDLOohiQ5Bbl3XELS+OgGl/kw8vDce/SBqdsh/KEQtOVbTkxHmQD40NQX\\n\\n7euzx2bCqch8py2j1Fc0O1GQUmMoUImJyn10RhHVvZn0iVD2c2gBqgjEebp0DjDuTtI255uFx7sI\\n\\nj5Oez8lXiXGarypOUc8jMWIMTEI546E+WEIxA3O/A+W8ja65B9kNQsskVS5PWzmJseVYHKcqEnjM\\n\\nxt6DOB5ma5WogmE+oqOKuhWfoVYxYWLxY6rxmIxDWuTU1gSdyDKUQlxWlPiYby543XbN8vfqRk7M\\n\\nl9iLdB8B/yQPzyDORxw4pbdEotkButjSwDlb/YCzxuSlZiacx7jlf8IjyoPpyr2+xEhPieb+mBM0\\n\\n0zREWsK1A6NkHjDi591O+xgHv4T7eBhn/HLxcCRe3HgoSnq6nbHJUcuNaBYp5SaZja1qghca6VMf\\n\\nWCSUfeAMLoipoNuu6u1JTwRDoj0va0cVfd0+QmyliEjHfX2DS6k/Fs70MWOJ0eEzCq/KIdIeAkN6\\n\\nQz2NeZ5hmO8rrS5xaQNVjIZyDVIYqxXpllCtYjKIkVjTmbsnBDsViQH6FSIdXNlKPnE+Ulxi9FZi\\n\\nb+QQaXeAIaXVd17pqK1VXeLHyAjYRC6l/Gzhm23BoHqZl3SEjvp5SedC0m5EKqASO4doH5NX9sKW\\n\\n12rVG0w8D45mHztNW0I0MR5iZoolffXzjNKiWIgajGPxcHZMHEvO9ecNxkrVV0yOYk50PYhy8BNY\\n\\nIBJjCbBpYuIG3fT1GUx8OpyJFGsyQPto+OPXKa9mAe8ncnFKpJvUZ5I+FtVv/3jWAAQLM7wi3RLq\\n\\n25ZkFAsJP8Pm/LsYqWiE4JTQOJGUIAKduHh2TmRUxXgcw3U1NheSozGaZcsQc5PiuPpmGxPPQ994\\n\\nJMMqgBD2xebKyDRmTjJGJIajcSE3h4pBhyqxV8lAyl8ut/5BHIlnvzcEVu2t9wuKKnLGwKbzZvsv\\n\\nZoDF4Wndm6U3spIZOVsgI31gGYlNOjnoO44gO/AE5IDcvhBGl72LTIafRwmOrqBmV29NJNZr63dx\\n\\n8sw0qf9QlUYKL4iCUUYDOgVTtoWImiyA+o2nSqzliTYyXXlrfW7HSQhOwL9UsAf7d3GXoMmmhIAF\\n\\nOrfJrrWYSMxbzxxCZyimhP5DZTqrPaqH0dOgv8qKU4JybpGediywL/qNpwBL1RJVfJXILAuMaO45\\n\\n+Hcv0zc1CWfQCbqWKVeQlZgJMGIKbaQ0qBuZjYSg3Y+EdQNiZvhRBHWe7jGcBzDl7sT0GBbuhLwY\\n\\nQ7JHQlEmjipTRvXwx3xU8Vp64kvuY2ZWMYKFwktiKGK0+4r4dcpRmIAmWZ6gWyAz3kZU48LrI6dP\\n\\nnXvdxNyvp6ky5D5mZhWTWlWMo5CBuZc1lP7HOzQ7z5BB9QUtY8hIQZc1AbY2KzHRuDqYwBrUCRQx\\n\\nAkav/0Dmt5DjeYRIi2aRsWD4AB1ghU/qADI1UKyiCbDX6LSyoO1Q3EgVo6fpaEoD7cQKb9F/Rm7x\\n\\nB8nZEpQ1s1EZmMEzFDJZfltLXz+P048J3riCWZ3UujSsuf7ddKGWnnT/ODGLBUiQboGcxKqUpPby\\n\\nunSfBKeZmiozYCZHGW+gEjsjc8oZVzAm+QovYTRqBCxNDWwnmqXe7LxOAis3TTlaGzuUyBjk/xN2\\n\\nIYFmrvf4zAqaOMFEYtfCOdqQZhI7r10QSaC4gY1T2vH1vxjU5l4zDaIw07KW5mwJKbc9u6XaA2HR\\n\\nIOpp/pN0gdFMZ9fAqzIwk7YJaznCyNDcy6fBp//5TjrvgPlQlr9MWiuBV7Q2hs2BmUhsPd2AKVvF\\n\\n/NTomgq0wETiZRkBQz4Bov/3YWLYCoEh3QJZ46EixA6W3hqCiDhv41HwDR2gL1dV0WdcweuiFpgQ\\n\\n1cY1VSsl3rEcfVbUbE0RdAtM5X/g6LFzwlbP1qolqKJYRVVRzsioDR6To7jWTk+TAdqgNbGSYUZv\\n\\nfxzSLZDZ1hcn5Zw8lSBpsmGmiYyfiwUmXZFVRbO0jC9oVTGJDM09sKpuTRW+88SC7v0qfzxdut7C\\n\\nReX5JRmfeQhL5qpo0seuoKooz6CnTdrmlCqxvGC5dJed4UOV1CfxeFHXYQ6wITlFF/cQ6dKIzu15\\n\\nOGu38WYFTYD1UVWUZ9CTrHEFadEn/3721myGxZQ20nGWgmo7RDRrHJzu/ZkkvPLqU6ibGGGBzzzzUc\\n\\njNd5Tbgyc6lEWRXPUm5TJm3zNFYaxN/50WxJZOysTih7KCVW00ME3ftjGWBUhdkR+XQt9JDeFhcX\\n\\nq4rKOCZbRTOJjWXCeTDvyFSQ1okJn6GgMuEmGl4IHener1rFkWgMJuOXkuags5POVpaIbtED9Frq\\n\\nUslWccZnXEFa5ah2e7VFfZOWIq0fNXyevDTwVW0kE31gqq0ZiU/BY3d8AilnJFkirInEYp1gPEqD\\n\\nAcl9bIo1ruCkahVDRxzzzzHZIKLGrkUpHvRHr/RZphzHy/IlXF8Y9b1HVRgWAKJw3CB6lkooqy5yGv\\n\\neZhJDCSlqXl4llmTaSzjthTlwE7EcdZsBuR078+oIjX3ow8T+HRDt21DB0RFk0knmM7H1tLZhbyJ\\n\\n10xiT6txSlh4q39NBmrQ8KESB7cCfo3T+vZI935VFQP0hfXIzSDvJU229q+HM8xeE65MX/z56NLA\\n\\nuMs96LSZtE1INR4BwtpxlXndsFQqCfBNgN9rc06Yz6ADVGIBGulEcRbItOMv3T4zYCbm3tq+7ZPw\\n\\neneFq27QpG1iksIRl2veWbkTGNDHIcb2vNsgRZmW1IY/vJ4MaK/QAUXOZv41DiKJxfYxyVPPXATH\\n\\ntw9bv1EpGFcQFOUmJH0snRlNU2CsivSBZ3eDTpdCurerEtu7ljRaM31TM+oDuhZDX9vwZsBMnOBa\\n\\n++H74Vn6PHPPQ+ZInkerXFAv0LApyD2zOzSLZVDECR6hnkfzR8g9ctjTPolm0TNsvAJgBd+IRwEq\\n\\n4An6PLP52CnVTjflgM2ajTDEp6RL/BMaHPrA1Co7YlOAu2iSZT4Av/9ARwqFFi0xZYCWJZY94qND\\n\\nY8rOcHk9Qn2Fk9KNzaqSGqJVm6JS/3a1j9FxTOrqIg3si8N4r3NYCC56HKOn1a6Fx+lHs2nLwypH\\n\\nXK6VzhrEcVOIpXqKtamG9ZsiO44nSafiSFtzE3De4oOFjGMFwOgGzHXKAP0Wb1zBUTWQWJWQrYzu\\n\\nBjAuEaU/0qzmuj6b2aWBKYhhAkqUR3bScHwRq2iyrthHVyePU7bNjIegzzzzOOVPaNwNnceVkdUhb0\\n\\nBM11pHt3VmKz9C3BCTJGUtUP0OcaGyhKJkvcTVQV5UMjZqoYkRSO/MwLj07kmDF+qNwbte8FTfd5\\n\\nAH2tFsVomtRN1ylC5AGpN9lFApNJdoJTJhVUKdsA8BBjWaNK7AngjY2HHNuOvpMoJP0SGYklLMD3\\n\\nc/LeriZ4oopobuJJfinAilJmo/s5htmgRAaFs+Y1nRb0oh0XO410DcAJJJuetfKqmSCabV2bz8n1\\n\\nIjSmDrVxL8Nck6mTMziuLdMvb0//GGkv67OZVcWgfOSIqkeILgfTiCEITGjJEhvJvKDecRWjngN/\\n\\ngXQHk8rSb359k84bT3025yYvLPwwP2CLwgUPZ1d00zPqPpcJU6sowEMv6oHgdO8uX5DxO3Nv8JJq\\n\\nAJYfGgQ5ypDBoTldKl+Q8ZG886RR5dcTeWEO50/6TVG+ZBkPa9t/tojEdGnZZbN6SAtsYjESMyhR\\n\\nNolhXtumY4uRWFH+FkhL7mM3aCWWNpu2GJJ+ifL1sR3aR4/qB51dFLCyJcvAvFZiLwJahCouN2DR\\n\\nSZ06BfNJoG5F+o8vX2I19vbc56jy6863g7nH0YTOVfQ2MB6s1iCfWlQf03/8hTD3iyqff5Q7pP7+\\n\\nHjadmhqQflOUL4VQk7Z7x7EgLqImXboQxmNR5XFI++iji+ljJTQewqKA+bSRZdL68Y+LUOmALao8\\n\\nHpnWXHvafDVCnwyaomwTTUndjC29lbv2s8WkcV52qigoNaQqbohmro3qx2ZdIn8LpKV6HiJSDtmL\\n\\nzB9zObSLSbyNdK+Wb4AOhVVgzP+TudQncovwPDjdq2XrY1iNkIYHmYoxFU0Io8Ri6tKj8vUx9U1E\\n\\ncvcgk8k0FFlUD0PLCxggVRWFV/yZwM5jgFZ+H8N8LMPApL9JuXYUo4X7ilj/8WWXmIQA/4FXgUnC\\n\\nIsaxYvwtkJZq7rGgHIqU3xbcqVwbW2be/aLKZ2LayQsEI8q1oIQWXtHcaNZZKt/avRrnVda9gHLp\\n\\n6GKAGVDZ+lgmyJE8cPHKte8CWvh8rEiItKUAW2QNyotneStIQLkSnedG5rmEdK+WTRVFTpGY3LJq\\n\\nDUfxIhp6uVnFTADyRBSyix78Imzislt+E3klwELyw5BNhXl0UUsVgu5VjehDIK9fzhGwbnD9HDD9\\n\\nmouQhBSrmLBuEDLGIyQuYoA2DyzcRPpgTEZDh00qRrrsl0nOLHI09kZ+nKULMECrhgL7mZHMOBZK\\n\\nL0ZinO5VVRX7gJ7zlxCxJpxiUZpSdKeZGr7Nx/nUfEcDBS2yaGCS6nkQYLZZpf0MDncXI6R7VbWK\\n\\nNERaaqiBgHqNV9Dyk1Qqygl9zD3AgrJ1/KpMNUuej6kx7UBiLI4R5SMnLsYq6gNTJfatIQQJOxUH\\n\\nTY5Bmabnw2dVVcSIZWe+dJT28V2cWnDJEsuGxZbsDKt8ihvFtFsEqfzRlRVRNhKRgAKs+VZqWRQY\\n\\nGHxCwr9nQwe5MdM+S17z8GWDOUbVaQs9P7xwiUlI97Kqirwcu0UkkIK/pWhDQ90fBEhhhWe8g8Yx\\n\\nvfGyphCwN6sFl6qK6VwiDekrGYSLmGYWmWgKY0gOHDe5fX+vyLTXH+23X5EGEXfJpWZOdnUBvKcZ\\n\\nnnW771ILLnmiiV7Mfg6pv1lpMVZRH5gaJ3jgNz4yolTAdDfj7LqO6V8bi0YmJ63MdRz9evjjzZtB\\n\\n2tWMTlj3VGqBLQYXJNFo4SXsu4ASUwOVOJ7kQHzAqwrwN0QLI09Zb3FvdPP07xOISmyS5j1hMwWX\\n\\nqopvQYfmmrAYiZluxEzdGOAEmlUiKe+SPk5QTD27A5KKJpKypI+dDPeRbuHLFFyyS+XT7sfm8SJ8\\n\\nV3MnmB/ZyIoEWAxokPy/RZBOjI7CdJeglO3qqrll3cGnCGqWVwsu1SpKOumFfIuZa5hKDL8H/D7i\\n\\neZAuF5kG+CMEYSk4SnwNDuRjRV/p8n+N7ZhiR4HPBNVZqvFIIV5zzZcJjLMg0n+8yl9bmBMS7W1E\\n\\nxW8mU9r/K0B0vG9MTv1Ez/3if4IDids4sSqS9mVi5C5VYintsUXMJy+wVQxjeyXixJpOmHS/+zTg\\n\\nD/sgeP6GKPEUST+YJMD+nPSJl0FCTzUKHXNbZAnAgppr3KKMh/7j5YoegG23VHHUeKQqPvg04FgA\\n\\n+k5fEQQ50MssAfYz8uHZHj+MM5fxasElSwxpislJjBcOTP+yLDHP7kve+n+RSO6ZSqQjgP8uCj+K\\n\\nXsET2z4pn+EVPzB4OTxmd0Ew/n1WLbhUiekcAaWquIgZPdK9Su2Q6Nh8ydf+S3apktLUKIhTURBH\\n\\nbwmIHD16Tlok9cWKtaRLJGE0HMhUs/TlN+0kZVGv/cySF7o/7fvbj6DURhfExOQIJE+H6Uv9kLTn\\n\\nYjtLZ6iHEOlsJywVEJr4JacWXKrEJrVWkQZmOrXwmvSByTEXrFde+uUrQez1E2CzLITPksl0lYSS\\n\\ng+5WREVzHAQenrRXQzDyYKaaJUtM28egYzGLgVj/8XKOv/Zvf/rmXUQVMSSTCQ6iUwkEoSQX4a+O\\n\\ny6J5CXEhIrMkAfZMpuBSJZbUnjvCEDeIG2lG4g5DYNj97kutVxLjIUampCSCwNk/CMCLHBzbqTzn\\n\\nGeBZOO6shVDwxMKAIcNv0mhEc42DuTl05kf6z6D+tOj44Y3/+tNjT/WJo+kk6Yt85wkOqog1DH1E\\n\\nMeoi4hH8Yss1RGLzCJGWT6xxQ2slJobSi7CKBjMCWWL+Ky695QOsx1JbnZ5KAPoAs2ktvp+I7r6r\\n\\nFIlh9Dg1H1MQDJ4vHj09n9URw69iqnefzCvNmeen1CczX7EebYabudpGMuz+XQI9unNL+ij+kijA\\n\\nfT+OqK2bRsSzjxGNfCJjkecHzDj7gqRKbPLduWu+9CLWPMwWcyoR+xIrwEgAYteEhY/Si9JtUyy8\\n\\ncrX6nhgRT/hc5RZ4ueonmfXJeU1bkpXGX6mLieO5c+R0ZWLhxsPACZ5V0HFnfYD7noB4cJSTTxYm\\n\\n0sSvuu/HcbVRzlGJJSEkPJLpW/PqY5N+w68ykT6PM2v5TNuzaYNIn2YkId3L6vKbL4EEqWmSC8PI\\n\\nNxFdGg0nR8dA+EhGYo/3QfSyADGVm69SCxqr4qkXLK3Owxz9+PomQ35eVoG94HW+N9v2sUVIzPy4\\n\\nMHmIbwrR0Eg8maYk6c6E0EliPF5Xy77zXSCx99N49NerBY2d4MeZenubs72+f3CLx88Z8TMhn+wG\\n\\nOBlibFsybS8txgkWdC+rEuu09TRNAFRFZK07S5Gy56arbTUs/XZ8N9eKHoMZRDN5qwWNJfbYXru3\\n\\npcJmr6lg7J2GwDJLexNYYqpVYKT6MCyUzJcGnF5PgFiwQHwKpzzzzKliNTmBlni5LUbiYBZ9B7QRS4\\n\\nUXhKLWiSt0XJsHPGM7x9v9UQ2Fm1058Eyav2RONw96aEdK+qqwyCmh4gGqFRDCMw91VngkybUx0E\\n\\nLfHvMi/UjEOknWm1Ot0WuyEkhZJYAUaelWZ8StsLsBiXStC9rPvibz7NtlRfMScxgD8gBSs6e+HW\\n\\n7su25WhWfdVGl03VGK40ePoiBmhz/k7KOYshJy0haF7fUpcGXlBn0KPkqarzgH0Rk8BUiwSWpGkk\\n\\n1pIRTInGC3C0yFC5VGATqsQCkI2TLAmL2Q9RZJ9HmHa3MUjJszJqTE4WMbxLXQmOhBSGZFVUgaG0\\n\\neSwsXSqS3DYC8iqiiCSpa1+PMwDFMh8uVWKzatR6+hhVm2jWv4WrYpFNYlHKKg+YcfYiZ2drVTA4\\n\\nYl7dUo3Hr1QVuv/WrCqKBVkwlkS53Bc0MGoIP3gnHCNPROeDAfOCS13ziKnAHvcJ2T4G8w2emE+m\\n\\nxgPb1wL7aqKKp50OE0a501HBfFF2qaqYiQo/Xn17ZhJMJbbwjQNY//GKKk7eX+9u+n7rgWujsaRs\\n\\nfFE8yJu/+liq8YirNv6XTCtSjUcCooswHkbZ85S26r8I4LXhVnY0mZ6CjxKJRYPMXtP6lqqKGXMv\\n\\n9TMv71Qu0bdj0XkUnXtPkb1ULQBNXFVoKuVk8NUQQpHgX46Y1r5UiWWAwSP+DbsU3kTjqPB5FP/M\\n\\nP8y5yXw+BrU02jzLi4nDR/Cj1iou8gxNVW5Wfw6YsBhgv8kAiw8zaqKhFESKq2Lcfu9v52ZsQ7r3\\n\\nZSTWQHwNLsiLu5IxvPkBH0eEZg5sqeY+E9hZgvQvVGAiFy8O7DD5/+yH8y4UCQb0dwBXcFU8vi05\\n\\nix9BvBD5JWf+jCWrYi4Q04xH4S1tEsc/Q9N7yb3JHfmX9IGpEhP/GeFbgSdDSiyJm1GIi7wkCKZP\\n\\nWKrEXsxraXXHx8w8Bujn5VI/zbti3sdSEU48CsGDkJiaEh8hCKO/4DnTJyy1j+nEGN+Nivax9Lh8\\n\\nw+m820xzI8HMKMLEV7wDbgsnxatRiA0/UGKJTagM5bGYKu4p4ovkX3P22iPdOzOxKMcEiPUyn/+t\\n\\ns/FyvAtxvnCgiMSWOo6NiZr6k6io8ch0zI6i9asSC48GIew8CE98+mRS3AwsGxt505zfpUrsAW3S\\n\\nwRQYJijIUGa3RN67C3OrGA1GYQJ2AN78LEhXIx83EQgisydcUOORBRYsUijuyKDJA6Z/qyqx0WCY\\n\\nzDWvIPD9nLTZwvrC/KulBRaVNPWL8HARiaV8mU9cXikz/mioT3lRD13fJ+5s7GBfz4+upNt4OWCL\\n\\nwQWntBKLEXMfNC10Loubz11EureqqoiCl6IIvpzI9f0T0tVQJYxXTYMpLVFi6dAjXOE1usBtvm+g\\n\\nJ/tpR/aTgcRUVbypu6EqjG8hfeyWs2Iz4i97eqTIMdCleh5jWoamacIz00K5d2m5hN7mia5n1sd9\\n\\nEfGrgB9Nyovq/NpAkTMUS562ZJbDcpQSQqZBTIVc7o14bhZmOoOmW6rZWDIF+IPJhMgBsAI/g8CM\\n\\nlrz8ps1NRr1707ry9qTi7I2mAbfitNNOiKQ/X5EWJfJEjg8+bs7vUq3iUa0q0h0SpnW9M+8zWwRY\\n\\nRuGIMxOewtwkOwXY5ndzEPh+1XyBLQYXfFddD8gzzzzl8jalJEJxwmFJGYvK4Ym4CqyaNpEL1bP8ZB\\n\\nlF0/X2DCYoBNaM09XbE1q2tOXq8syCJL3EGCbRQ6x579QfPVnByDnesBM1pqH3taff0zZy3MJCo8\\n\\neeCcHI/Z7C1FJppUFVk4GU263F0cHdj70Wkwo6VK7GZVFXtyfE2ZAgM4EdV9vj6wTB8blXNDRuLY\\n\\nXavceaTIG6YL5St6cgsYKTDbowTwmB7jxYxHFBb4+nepwEYlGQNmmOwCxqycMMaQ8Jys2dmBrMgq\\n\\n1YJpqX0spgZP/0Z7i0+99DvzEnOn3FLmqUUktnDGcsAWVf6gqHI7nskBAm+Zh1cs8PEyCyTFQlYv\\n\\nAZiwmPLRtMxQipO8FjWH0KxJ2hZQUkLlKM6qH4q8H1swLXXacjQjMWmI4ZVLEwTWz4xLnNC/vNyi\\n\\nHAUUiRFrIT2rLpiaGw9c8O44aF5/2UKkTajB068GOQ44pbOmqogLPKFMyy43iR2UZIZkN+lkhhfW\\n\\nJAphYVq9jEiWm1VU40bKSFQm6H5g40YqzACbeX1n+n5sEbTUieYVSgXy4KS6BqOm05ZJnz4Dy00V\\n\\n1WOLdHUxqvbXpGnot0LXNQOohOZ+UcDUNZV8idH5s3FdRmcoltsAnRnHqnJ1TRnNJWU6WXiBM62/\\n\\nbH1MUM8a1kezaxkRszj+Wsgh5Zf58tvCaakSG1N1hanAGSbOm0WsFrnCKyrSZWY88IgKzGMJZfqY\\n\\naVT4GQ2wqFqT/v1l62O8+uTTtnVptfv8CHicTRZaSFqNCxp9IVPZVDG75Pn5ihvV/bIvmNmDM0Yc\\n\\nLLNgQLgj06QSw9yRqXLEICwY0ASWhZQyBVY2l+rhbCcYZyqUDxHgjH3FO41YX2YuVdZ4ALzOXK58\\n\\nmDDLGKPd8Kp2rhJKbHHAsrqcfkHNR3OKWEXDuljNlbQpsLKFSBNyT77Vp/x+yyTcvc7OX2z6Lq1s\\n\\nnocvT1cCyq+nTUJxJ1gtMOWXQfSxsllFXvvktInEZnW+4OSfJRzHFlU+ql2UGDNJKXFI5xqnNocu\\n\\nlcvzkFhtJ3jBJEHBSZ1rIaWmYvwtkJY6H0N6mRc4yQiY3vo7L/80EE3ZzL2gDUnyQ2MnmKY7N6DZ\\n\\nBV0uTku1iju0T/4VGGZe0O5Pgox7b4CgbBILTWiuxbDhfEzkDGsyUMWymXv2Oc21YDZpqIakD+tc\\n\\nVHhfZqooRbUnxV7EgA3q0r6J12FkDpXL3GNOqytB4z6m+9pY4d3g8GPZBuiQupyWZwdjxpMWXcVS\\n\\nRrD0AkrMh5Y6bWG1I1MQkHYfkkK6r5EVYAaHH8vm3SNFYmr6apl+hg1jsz6hd1HR22gx/hZIS/Y8\\n\\nlG4j5SfrMgw6a7COiugPgw3SJTEepjqi3qLGtBPX5K7daSwxQfeqDCxajL8FkpnEFONsHizRp+bK\\n\\nYEaylyYASUj3ZpE1rsgAWEk8jxRPf5ql74ZMwMFEy7osZzw9CK1/d5PuZfnBAf0iJdnnoSTVnbzG\\n\\npHiUU6PWvM9WjdRro9hg1ognBd3rARNgJZHYpLwIOFtpUlxSU0ok8XEHp167HS9wLS0EhicZSzOO\\n\\nTcsLhZOXmxTPeB4S+gGjhvOAEcwZABvXvxwEw/PdJZKYDCnZYVJcUjMIkRHZY2eVa6OGy04vIN3L\\n\\nchg0gyIlkdir8vHOcWRSXOKUyT7h68lu9UZBNGLzpP7lIBiu5ZRGYmc4+vM1M2BYlRhBgj2scu2o\\n\\noa/4P/UvUwM2aVCkJMCOyz/HzYpj4az8mx5beLZKuTaGjYx0hzGwZw0esKiQw5TMVPFJ+afpGRKJ\\n\\nyyUBkQLKtReNrKLRm2nCA75f/6vSSGy//PO0mVeF1Xw0FFjGZnQYZTdJc/qVEH8w/udg+N2FB0aN\\n\\nIktfnhhHwJEE5fWJvECtRrIdM8qEJ/L6lRCJSUZn+Esy0aSOxxidQz1nXF5NtJOkwyynXLpVul1f\\n\\nYmpMHT1g44JB/aUw97iD/OimNto4QpqYyW5CeQ4o14JGxsPoYBTV4w6D7wwkFg/JHYRuZaX9mWpI\\n\\nlF7PRaQ3U8Uq8n+o1+tq3ISMgEmsAmymFrIbG36IDfKqTRhWA9uNvjBa4wlhpV8LYxLC+0TuFWV2\\n\\nflLKPMPECRY58uNJOUSaAAYkCcq6okjTLnQo1wJGNxupFYakoXnKSCw093LsF900j+DjNVw4gbDb\\n\\nwrU2y2/AJx7N3mEIDEv0VXKvHCLNsKklNdy9xPzf7NvKEYz0IRg4HqTZEyNGD1D4W5tZQp5uHoHX\\n\\nL1kHEydfosIMEl2ZouGVQvS4AaHgi1G1oLHEElciwuqhehoizRAYFtRd9P6K92RU0TDK5C+MvkBv\\n\\nXG3kXypNNJapWyT6IHa1wVvnX6WdKyRCIs2L/p4AbKM84kcHMhtYjUOk4W2ArwDZXewGI8IZMYju\\n\\nD8t9EuREO7o9wzCDLUYPGbacoopySh0qAxEJgHEX+ubFj1NLfLwVwcmgWOO8rLtZrv3KQFAtaKKK\\n\\nlYCvUXbhHTEEllFF+P2AbWQkW6W+8egzqsX3D4YPUAZoeZNxRG4cHkQscq997xX6kHMCVAVPJn//\\n\\nT/fdIMjAnhgpDoyolGhXhGUssUxeNfIMZj2vfApI+ksDeIdRLV+9zfABCn+yxKL0EycQYAj94Q9O\\n\\nuY9hGPmBa7KygfQzuY5T3U1qQROreAikeiRvOLnb8Lk4lAEWdddw6kcjx5U3qmXW2GdTgIXg28D1\\n\\nTRIXgOMigLu4xPENIEmIADtjOXdrvAui1RfTG0f5jJdkAuwJSHiUl8YnDJ+b4oJZjJn8oH0Go49x\\n\\nluj7DCGrqhiEX4vXPveMWAW80C3iZiHuewQSTnTWjqZEwO/4ArK2UfaFiUCmoU1cqjMoZVfWbh8y\\n\\nfK6UZ8MTyilgw1VFY7dvv+E3Kn9R6N0VizxzexRC6GoRH0NvVu2GpE/WTimJH/0kbbbURcB97/mM\\n\\nTTaRWIJNdBSzilJe2pY3VYkISYOXD8ioFhOHMGMVv5lOx++7JQLfRMd2491g7XkfFWYQotjjha4u\\n\\n9Ayg01vs77T7A3NaRBdY0jfLKt3rCcPnYrhDc+0GA1/ROEHeM4bfqJhD4LstGRn9yrXwfdzVjCvg\\n\\n2cZ+mlKou+2OvY4KcDqERlnR8dCfziM3krie+Nxy97rL8Lk6iXYkn6RvPszPVBqQ0vABuAxJo08T\\n\\nJ+OXgDZjAb79DZogUXRzqPplgI+5Ud8z9CwU/t/iPIyHtP5VpOwvNJNYUHMtaJAw7k3DWqLGwDKq\\n\\n2PylZJS6uWcltKsLwW9fkVeMgscg/gcemjE0T8mt/4X6zjktIgPTMH3FCQT30E+HDJ87LWgkZpgE\\n\\nxHhWZxKKRlFFHtjbxdHEZ8mcDsPVCMELn3iT9rGoxMV+TrpZNdr3OXkRdINd3YJnOh/r7ic+oMs9\\n\\n6KwwfK6exEIGwIzZN3mho0gsELvxqlRQ+oc4nMHNm7s4OPEnf5CNx5Mo/UgEmkV0/GZZRL2nfWpB\\n\\nsxn0db8mzzzzt3havOWGJJpF02qDIw9wcRLJyUJhqJX/aT5Ngrt8dgCh87RsbpBzo89KtQDGKfTsPm\\n\\nLt99Y/Kd/7OR1zSWdqJZbyFXtw9bv2G8ep/SRtzEYGAVDR3CeHGJTVx2dfrneCpNVNO3q0uA7923\\n\\nXlbFWyDljuEvWHz3XUuVFn/u0xl+zGbQ/WRKIvdFY4mlUEADjNf3PPAILIJUzyPy6StvibzygbUE\\n\\n6Kdo3IufdNDg8+hXfwbTX0liZrjj0Rvk1rn5kozCm6niUBWA3L0uMnzujKA9hEM8D933kD7DWt4y\\n\\nBiZLDA987JJPH5x8dqdAm3v6jzj4bkBMbMS+vUnfU7eRWRgKvXQzbQK8Y2dmUDGT2ONNqsRaDJ9L\\n\\n566Fl3h9VZwTYmAumaiiXBO2vPPPWS6uBFsOJ34cgJ8Ee05b7JfuED/8zdpqJF5xBfMEXSzE/3vr\\n\\nrKZOLbBxXpVYteFzU2pQz3wkvlldYEarimC6zzzz3gYMaiUzPD9FjkUcHfhvA9ax03yUdfz49nHm0m\\n\\nMbqMIL9JWgtGlBI0s0cR6Zt7kzUqk+VeAzcyGaQ/5fUETCD0oWNRuZJI9n6ztXt6XENuh04wommd\\n\\nSZZBUkaTdwALl1hxMpPYb4GmGc+g0yWsxvo+78tdQ/oulUkSueR8vsKK61Us61Jm1mcGjPpm8ozF\\n\\n2ComESv/Hv9YruYRSdcamKiiyc57dRyzyMucUdE0+IU0RSNizQPYnViADfSDsSpm5vvjFVm2JYM3\\n\\n0IvbiqKUet19ObR2oVmbau18+S2SfZx0zj2CsQrD7OT6tdCkSMzYV0whZUA80599XULXNvV061fG\\n\\n3IvGXyk1hYNVorOCi0jyWpWlj4VJeZOCdNMXd176F0jsSFg+RCzcO/rX4swAZCYxltjydfRDtclz\\n\\nA8qTxy07MteIxPTeOz0MiyFFFZOneegL08Nq9O1OQxUPqT+h7GJJ7DomIOCS77zXA/CpUBS7nVcU\\n\\nAtNU2gF98HH6wWyA5hVgM0xT5pJBkGyTwPsmElPMNxZ3w7NrIYLJXDqNYUSAmBxeMZmWupoRjzkp\\n\\ncqwL4ct+GZQy7w7MZtAsmWEyTHVFrYkTrPaxExJTmwUW07OKBtuNlO+Mv1Iant19GyRZiCfgWaZb\\n\\naUw5zn48ibt2Q5C0ZeQVYPE3GkcSmfihJp4HFuAFGN7fNtBuvBKcUje0xeCcDanXUF5QpjwaWRQw\\n\\npY+NtV2UfvVpIZqCaJT4vpT1oMw9Ed/VEMVcOkr6VuoPgeCsVX3RYNLHEnTs6fE4rdmgMVrKJLM6\\n\\nDX84vke5JHK65n5xzr3ax04O3CWtDXPjdRCMx2iL/4iIicCLEIl9VM5nEaFyDLLR9LDaviZ9jNQ5\\n\\niIY3XO7cb7yYkxIUfkmX/p1VrXJEf7lUMKykuMRiV8fwtvez5+0QjcSo512HoonLPoHiaeiKE1Bk\\n\\niKNz+Vd6D8KkpAFW+OTX7Z493B2QuNbM3KsSO5kL7AworqeK+ZtrNWQMWuXP+/HEmyxERAhF0sSU\\n\\nXNqPgunR78EokdiHYRTLEgvBz91r4Rfqnn/jPnba1rvPye2FxDoTqzirvu07S5p9kFNFk9Zb3khx\\n\\nJsCMv1PDEFrvlp7m6foiVcUEhJpRIBaZgGCqtqtKzpIwBmgUHg+G4NKZYhKbdLudDr4OpDtMXkpI\\n\\nqrkPQnYlmJorHZ+8ywSXScAWpY+teSQmhn0YdkSCkTiNc8hxI4mqURhJMHAzPcYLoyIB9ic/DyZ2\\n\\nfqYYsNkKR/0wF4CE2ba+KXW3DfXg1NepdH+pzgBt6qbzRYC9tzkNwWbk+sJFz2+5hvAsIC5wGk1A\\n\\nIIa73qtIjL56OeoMwmxVUYkNtHycTg5TZnEMM8tvVPdU5U6FdL1CEx/YNJ2l/DPeviE5WIe6ItHH\\n\\nBi6iSQo5Lhghv0emMP4RTGBBlhj+5z9EYUppXrN30G0HqkSO/DZ+JQFwTm3sM6HshIFmwtNxwU33\\n\\nDoUMv1EkFrdaUgEO74pHqVWMkj7GBWJkjAnOil1XQZg8OSiho/DqJ4IwqjBkYu7TFnGESowYD+MW\\n\\nzaRGOvNhgLzjEbdq7zRN3CUYfqMaj11TydCjohSJBImFH42xzcJIOD4BkSnctZma+yCRWCD56n5i\\n\\nPKo0wApqT3BSlUiEkDoCmdfmWoqrEnt2TfZwGN1NG9TeaZasHIcMv1L4i22elbw/lbriRGSk9jR7\\n\\nIwpOwFMwOiV1CSgKKBoVycxw1h1M3PZChrMssIIqRUFskogQEtWaIFk5ymTCm2GiICrsYSGpp4pG\\n\\nmzxk4gy/UVTxtUf3Jrcxu3ZFRoNEFYWw7zIUioW/Rdx9TJxgIrFAhEzE+DefjEL4O/ktIgMTCpoR\\n\\nSR3UJUhuB7jO6LmRzGFfZiQjMQnpJtoxnbWEDL9RjEd4czgJAt4VGQtF48CN8j+BwPTRT6Mw6WOo\\n\\naQx3+SLiTmCfPlsFwW+jIhLDSDnYkHKC6DF6bsZXhJ1WTrWKWIjr+Yqm6cL4IhL7d2GC4MGDr649\\n\\n3nAHMP+61oLXJS67VEiPf/mvvrFmJGFh90/ZwPctxgdVx9giEiPKGKDIE9sg6TB67vnscVLP/8gM\\n\\ns4LeOKZ77DRLIXNgeHN7T+wxobnGO3KX7SK89U9v6MPXSF1XCumnvvpHlz4USg37nMTheLTjq6x4\\n\\nKxsoBKZlhmI/kXwXmjHMo/lG1qBtszyiABPJwKkDzKgGpS0Mv1F8GK7a+ZrLee+u4GhQ4ZhVa1W+\\n\\nzdxcRQxeQv3LbF2R9DHbkcd3XoledRs9OZ6NUTfDNChVJn1pPasYMAPGG36jqKKQjEY9ApBxTBGF\\n\\nvJUStO/r8fyW38QqYZt14Kf3ovF7jdr7bK6xn1Uj6ur3MWzUNDJFDb/RX9uSquaiUSiUf4vJDBrh\\n\\nDpbxWv/q05zNCBckcyomODm1FfX6mNEBYoV4w2+UAVpKK0kZ5QxdSk3KuCiOynjiQqYRsiBMJMaK\\n\\nVVWVFe2fuvTGDYZcRfJ4Oq7chZFeK2ejy+qS8ZdqvPudQKeSkPgy6fgsUHmkJLxGgmSMrg0ngvKb\\n\\n8DDxRKKZgiZ97CGpKRSEmqua32O8/CbmGYWQ2sbcyzoDtPEmD0pBw2+UPiaJHbHBGgTSDOBjPG6w\\n\\nbjlTl0q2Xw+um0PBMEhjck6EOMQSWT/ARGKMWNUH2J+4cdhwP55eZHs6bdFONGlI9cWQAiyRHHvS\\n\\n1ouIgMJi15eB4b/3nI1Bp6fEFjcbiqangkEkr6VK8PI8gG3dPHIK8BWJy6w+w+fOaP1jkbacAYNG\\n\\nFDL8Ru1jyTCe+B4BeGCjeJpWJe/XmpDwzqjwuH//tPcIEoGPpBP7f5nhxwSY89NVT4F0UZIfNG7t\\n\\nWe2xDn2raPI+E8ysotIg6WREDN9LZBILxf6TWiZetPXBz6+Bb7eyED092VNFV2kjksTUzANYz72+\\n\\nkyBeO8mZHPmb0PqvmLA5ormx2NsfI1L4i0spceI+4knHA8lvPAehaEjyXgH8Osw4haqTUdrHYvCY\\n\\nywIomClobO7x8FVVp0FcP8uuM2lqrUch6qb4+4Mp+8Z7WxSJhZNJ6bQXwQHvFZF3XgfjTTyZumPf\\n\\nz/Hu0Yd9wchz1wbJI6OR9Dd/kgVm7FLhNammc5DsmNTZVZRrUC0wTKxiUHOjebrhqOE3irmPzV4h\\n\\nxojE7qa5do7B69eGRAgk9m7tGuj8uMDD+PoQsRzBaPznt2UzJhmbe/zJRGAaJTpmWONtHnqR+VK6\\n\\nk2XzXMBBw28UiR13w+N3voTgZ7FRvIvh4kE+eT17zs2I1prLgU+nn7uYiwOZqsUqtvsyTW4IDNaK\\n\\n7CSaZif5pwwfC78QNcBEn95K8GdhcaSu3b8Hxtd8D8G0g8Xj32YjUSHFdMBuESKvrW2wepLnbiJq\\n\\nxUfi0+3ZJjJRxSsSgVluUpj2mZzS1FHFGRTRkYAQMmM/aPiNoop3JwHHHiEKHQPxHzghGORFCOFd\\n\\nEnJtvHZ/oyV2nGpzIBqTYlltMVHFg6mmSe4MN8OaDK5SYaBmOvfUU0XD4xMyRY1bTv75MwziGQ+C\\n\\ndByk/71bGAuyM4eaRCx2+XuqoEuIvIzI7IEfjYmxs5mCJlZxbaJK4s6hSd84Z/jcsFZiCRTXcWo7\\n\\nYHGk9LEYBmniXgSTjDPVdR2KBPhx2xp8m5QcIfP8LvSsRUQjEByNScedGSEYq6LIJ5sS7K8hxk4Z\\n\\nA9ORGNaVmM+U/ajhN+rbFhHEMQHg9OXw1k4rio5w8NYVeKsHPX4IiRg9vu86FIADjd9NVn5C0AIT\\n\\n5laJq1IdKeEETHKJgOFzz6ouVd5AlCAz6IUmFzYGpvAXJsC4+6h+RfHu2+B4wAdpQUxupgEbksT9\\n\\nDccIB4HR2OwNbyK1oLEqijsSZKp9DyR40XiROzNA87lLuks55kseRc39BN49PdhPVPHXa6XP3gpj\\n\\nPAuTgG8XYI8DElcD3PgZGIXoWPyuW7JjrrHEJFZqSvnugGkOX2v43FPqOHY29+5O5Ea1jGIBzMh4\\n\\n+FasYgRv/laKS0OKaRLjozAa9D3e60Fpjh+8CaX3QvKyB6jOjEJsOisDY6sosokqUbgCpliTnTk/\\n\\nUpemendk3XwxGo2GCu8TzYGFDL9RXSo4dpKGJE5CUGyies7+eh2gM4KwtwKRL88JrJJtPj7x8wwb\\n\\nxhJL+pI+3LwWEj5s7CxOSEpF716fLZ1GesaDMwUWNfxG4W8CLo0CP07+CkmI7pjnqZB/w/H+jQjG\\n\\nUfA+efEqArFwtn1N+hiXqMJdIzDDguF6KTytWsWRm3zZckQRg4X3mU+gTSSmqGKYvvwNzcoS6/o7\\n\\nRJffCBCe439KnIdXfHD4OJXYKKRzed6MVTEhpDpozNEpH/Qio+dKqij4X2VH4KReqlqTzbHmwDIZ\\n\\n405DC3slzSeF30rwcEbAFwE+9mXef54Vhb5X74iRwZNKbNydKWjyRpOaeTKEEYk9Kxg992m1jwXg\\n\\nnh0ZrCimXUScNg+GMGL4TaaPTYPN825I1QTELxELK3JwPyTAyn4cs8fRWMIncikqsanUnowMjAfo\\n\\nSZSoglflJBCPVRk9d0wFxuNE5vTONFFEjQSKJL3kDb9RVHFCPvScpBKTlxSxLB74DwlBcD3E03J7\\n\\nzn2qsSqehdQIDRAxy8I5wxaNq8DIDUOscomueWiAvbFYYPkvQlUhIP070VwTZCyxcUhW0TM7CR9M\\n\\nGm4xvVv0ZTibbFIu0TUPDbAiIQNCht/orFEqT8QfpD9lWdGVMRkt1QtOvcvYKs5Sy3ENuZuH1GGD\\n\\nViKeh1KqCuDR7kwb66T4+w9zYB81/CYjsWSCuLmgNiJ+AnHwV7QDppNC9FXCRTOP10ZhRsgBMzYe\\n\\nJ0AcoTkwJlkQ8+KEzaXf5VQRfqJ8FFFUK4EXzYEhw28U/jZ6hkQIqLWyGDOV3PF3xUnbi588XhV2\\n\\nVgHHTnYSN6JpPhI7C8RXDNCDboCHqwyemzUeeY1LJKYBVmSRyhiYujRQhcWJkMorJyKM0UbvWoJa\\n\\nSkdDQSSM++tE2xXyK51MVcYSG4UUP8NNySHSeo4aPDetOsEUuGrRE3q55M23l5rszFGNWwSkmBod\\n\\nG7e56VHo0NXULhI58q+ikYRLAD6qVKXWZSyxoyBWTcKU9T99AIYv/jLjGCvvoVZZiWjHpRdMgRV9\\n\\nuR6KEtnwu5VLXeTqfniSIXYexJbD7CsQeCsWg2CQvtwQGRWYscQCkBg5Aan2DazJXoYX1V2v1HCo\\n\\nOe4S6EWtKt4KZmSyrU8xp086N0o/fOnH6s0IJgagp5OqIr57r+9eFJysWAt8CM51COmMT2U8jgUh\\n\\nVXUPTLqptAx3nzykqiINtqWij+ulXP+fYEZF992fuGbNqXf3XC1/ThIl6ZsV+NveoBJLRvnvE3sZ\\n\\nk6htOc0KUsbFMT3b0tQHYK30mcyXXlAb6HhtnsR0xjFkCswkZ7UisWg09uzl/6poR7rrdlwzwPfb\\n\\ntkMsKU4FQvdZqvZ1u4iLT1S2YypjwszeQYsBnjzUzZmwFFL7mNi/I2MV39KZD2feGRuQyVkDRWK/\\n\\nuvlWafqyXfRZUrpxOHGcYR87ZIHZCmldP/ueS3zhP+2AM0MIvslF5yOxVBXl6etmrR1T+5jErMkA\\n\\no79CmgYwBWaygUwB9os/Wyc9hLvI3KsjGfUj4AX4gfQUJLoSUyN86JaQ5OQgJO5u/jZEM++rTFVx\\n\\nhAIznoxBbhxDkxVIrfJ1dFCDwzwFu9nCviKAV25+GI99jzyrp3sbtYpkJvakv5Mwn0rDMT4Wx6Md\\n\\n8KKEbWGIZgCZqaKSAKIWTCiY2Y7zyvHvJjOs6OTg5RcLTFXFf7pFjL2kjgrNCDiOG6peQ8qR3nnv\\n\\ngRvCk56L4IdJSB4FIVOXqSrKFZlF+oSHs2Prj61qwL20jvEoktE+avyV0lq//N8fxfHvqRZYoKrY\\n\\n/FnSejE5bs5/+jfO3OVG34tB+uEcINN9HvLPgBlLL4pcphX21mZYCWnvE8wqMd41mJHY9458Er/4\\n\\n4y7lWURiLpvvnIdVJMbzp+FXtu/ATyYg9sFc+IAlRnYeza4x4Ex+0DdQSKN5hTkmCyhk/JVi7h9o\\n\\nOCj+sFcZNP7QA+yNPBeWF3SIxPjAb+ClRhaaIxD561ykiSXG4s6LbD/LZFjR8jllXjdv/JUisX+5\\n\\n6W5p3Y8VtT9XY2niO+A0Qxd0iMSEkW0IQx90jUDoUoD71IJLDAsfyR0kyoRI/KkOp0WsImf8ldLw\\n\\n9190MnHre9Qd7gQfjsZnrvepqhj4qCA61gFiIfAoguJO8LxoLG8jsFqVSCQWKrhtGplVYgZbkVhf\\n\\neOyxNN+8K3N7MhhVJJYiEvveLU1S7KREZta+yzjMqa20RIlF845+RZVfszrm3nz1zWzLnxqoJB47\\n\\nGYNdX1RuRzAbiEwO+ciXxGjyv4wdFKcDongFFrgrcGbH3xIl9pCoYepFpM3Bq5c5KEdmO9fV0DKR\\n\\nWDyOH1U2i9CTLKHoq5vZqWvwZiKxe+In8C+b0snzGPkiU5k5rXGItHlRVJsl4qyOxMwXqcyipKqn\\n\\nan++DqZ/+y6cARb8et/4t/oetzNfg6TvZCw2ue5EbGLyXcSjCGeS7S1RFY9qt+ulQWvuXzetxCyQ\\n\\nuCLNkWgEEpYPKp2R/OTOrPsFjE7fRTp0ig2lIUHcKh4LCZ5McScvCLBTWmAzOinXo+atY/Kd2sei\\n\\nUZoLV+nQ9Mz/hLJ6T6wiFnjqgEj0jR/prFym4BL7WFC7dE0kFi2syjQkr+khivwZTXQhIWiXCOyH\\n\\n2j6mtzZquvpmkjAp37BkXIqQ3O+KjIxLdqlGtKr4ex3jYXpMwnR6rfA3yAchxOMeEb0CB8nghX9m\\n\\nGiGc0hIldlSrirTGwqoeNatD8pl8qVjF3vrAdGAzdlqamV195Bpu7uGKcLbUAVpChZfeoKl2Cq6Z\\n\\nrpeavhRUFZsLjbtbJXoO83VET7Ts/D/FOFuiE/xe7UzrtI4q3m5Wh+lkTW14jo8Hd4uW6gDegwbv\\n\\nSODbMhH0DGmpvqJWFekVNPeS+Rlo0zcxiiriH3KJuk34QNuf1u1Gr7bZdrfE+SKcLdF4PKw1HjEd\\n\\nJ9hnVscRsy/V7ekJNuXyJH//z5d2IKpl59ZrNyYU0BJV8aB2r++szlo8Z1aH2fisSmwSbo09w/3A\\n\\n2iqAdAtpuvjNr/FFOFuixHTGzLQ2l7zpsqJkyqLS8Gcb1p9zdn4Sd+F7Dx8h3Qd//hoE5rTEPhZ+\\n\\nSfOAsN4qlQmZ70ZSJObeu+aJrf7mx36P2/y78Zoo/ke2WLXzMvdRw29CWuPxOnFEC9CKZi80zVew\\n\\nFI2YiERe4z7U/M419CV6YnAtjiIoQvNSxaDhN9dqB6HZXOT7DJkKxdyPVPcrRuLJ/V7UBehl2mhx\\n\\nbLWy8wcmGMIxXlp8WNveZ3UWc3gTDkzCFkH2jGY0MuPugzZXs11CGPjEcKAILrM+th/UKP0mMXN2\\n\\naBdxT+kYD2TCwQ2m/KkHvIORXxJWqy3oWtJGiB3v6oIiZCKxQQ6e+/P6moIlnGkAADyKSURBVNpG\\n\\nzzsMi49orSKRGC6sijfhwOy7zDh22jUm1d0AzV1du89dDl3c612G71gzZDKOnRmBx92Mx2+p9CKj\\n\\n4mPaPka34hfcb5JlErR7b+eQ2sfCEZH0rHssaMtjF8F9MNNVI4A5mYWWeTec8X/nwKb9DYxh8xzU\\n\\nSowGOCwEYsKFxIEZqZvEHgCp9SHc1YWcIXqYStq1qwguM2C4HiZdfsbv9jt4o+JXaIFFacD7uZfO\\n\\nmTBfZGKlvpu6SxTta6AZ37g7EIFxEG/78RKAQb/Kz6zXZ1heO47NauVjdo7xzLz4ez+WWj8J19ui\\n\\nm4nEkoBvewiKkFmItCdUPOMVnFHxgFZip4giFtxvlFaT0gfN+VPqx7dLonMtZjpv/GkgSvcMxczn\\n\\n5GAusUl1c+VZ1rD43yQ0pWbp9ta5l6YFwwreMg40JJN6RnMqKa49ilFXx5XBCPxJlXir+SEgMPc8\\n\\npgPKKJ3ZE6JDN+inXC8oYDLjSjeZ86cUnZo9II1VAP7wO/d8qwoLD970VlGX3XTXwBo5kq50jzGw\\n\\nEa3nMQUCLqjKpB9pJT6XlIYfTXpmuEnA/n9z+u9IwPiX/6KZLQLMzLvHW2jsGEhfZ1xc0I5jUeCL\\n\\nro3laLLI90ofC0k7JuSg4mhzINpH2voHRXaOmPcxTBBNd8BbxrFZ9TyPKe3xARM/944iOyVKkzaZ\\n\\n+IjiBkjwxsV5vXGMK/QNo4bl8X1gTqVJdE1tKoMeR8bFR7SqGNZKzHgLt2la1bn8LZBMZ9DUpj4v\\n\\nVJsUv1WvRTW+4qxgVL7IPolSpiY/s7bPpLhP++CT2nHM+IXmoCFklUoSJ1imxABnUjyk2+SFfSxo\\n\\nVBwbR5UrOTCcCZuoR5KgPSkQI8aj4JLhmz2x6Am6kmQXVoDdJJgU1zH3xPMolJjhm9oZrhh/JTD3\\n\\nmbWIjI+vSz6txCa0LpWRx5r+2o5i/JXAeNBI3FQRfiGYFB/TPnhC28cMm/0sFKMLYe4LvqEZICnb\\n\\n46zJ60NOGxzhxfx9SAoZNU3qzqL8lcB4pDqUpk/6TFaZdPpYUOsEG63OS4b1ZulCGI+Cb7ASsZyu\\n\\ntiQ6jIqHtA+OaV2qnxmU/jVflL8SSAxfj+QgaYTLZJVBaWmH1ngcJJrHzb1ksHSINxXnrxROMF26\\n\\nq2YsLZVM2x1GxVk9q4UKJfaP+q0SKzoNLk1K11eJ1bAdbrO7/x9bnVHxuLZFw6SPFVzi9AvPvLc4\\n\\nf6XwPKaIBm2zDgz1egYNHQRe28dGtBIb0S98jwBFqRTevbgGMOO1Mp3VNqOIupKg9RVf1EjMYNte\\n\\n6uPz4K8U3r3klLchP08+Gc6hq7SqEgVBQnMvhXTLRv4eQVEqSdrkDUCjDHTLxzQNiNdK7IfZcyFZ\\n\\n0o9SMzzzzfGBK5hlOOAoXmUUYmM+/eA7BezrxuHEdbZzEnKBYm8JaiumWPzicZgwrsNoxm6LwX0TcD\\n\\ncghzVKSgGbADgPvkLNeGa2Q4pH2REtc8VX+bh/h7o1rzSeljey7t4hIoDN/nz8PpxAmYbLDxSwB2\\n\\nQo6j+4DZEjWvBHDNp6e10xZd+tcd87hJldhdoWaUhmDw8Oa+UWdDEGKWogXNgL0q72PwA2Tigmqp\\n\\nSbuBhVjFwpcQPr2i5/n5AMvwdy8kH/ME4Kz9oV4apEEsWtBsohmX0z3dYxaRjtea8rtB08dCOiWl\\n\\nrQLMg9Q+xr8rmHy2ej19nZAidvd1a/36IgXNdw1gMkYPmkmM1Sb3COKQVNAQPp2Sf6+HVkuKud+2\\n\\np2H971EQPstGYFYIRU94+9cUKWi+5QgTifXSzBFGxX3adK9Pa8YxvVDbos90R1yWFIlZxpm+p/5P\\n\\nEzs83FIVHx24O/AHsxSVMpkv5tA+NmAmMR7+rfAS9TvmAtNrlx/9DYL5UMbziMLv9jI8pNhoLL3n\\n\\n3Yfc+7kiBYtsYCES6zELGRvKhGTN0ajGJko7CoshiBgHGJpDqueBIvA7OTl3BNInBZ/rruPFgBVR\\n\\nReIzHDZ718PDs1UFlwStrxjSlIt/ZGR+wJSGf5D0re+GgpGRq6+Ne7awbOi3RQsWWX5r6Pf6W9xW\\n\\no+YhQ+/ktWjutVMYFbozzzzprx+S0I5kVqQppQlP92b82aQca55hdJVpjs+TlXpGARq2ip2bPOaWk0\\n\\nrIXHqe4dcy9pg17ovFv3Ga0WFJLaxxLVTX/9g6o0TN8NX0/vYN9q6PHNH5j28YD7PYynoT8biEZD\\n\\nTdl0LVl6WkQF2yG0WznEfyvGVwF/O3urrqahe9NE+S8LCrFkUV/RXBVpH+s3t4rw+vodcy6NadJo\\n\\naoGd/9E8camqOEz62FSaDC6YYfGn3oS0ZB6NHYpKjNiuITPvngBLH/fNuTSisYoaoxra5IN5kmIV\\n\\ne4UopKeHmoYu3dSBIcKJ29v4IgXNrOKkvErVbWYVWfL/3Nxp6JiECjy5dGG7/PyeYsNrljLzMSKx\\n\\nSTv/FA4LgN7kUpYarkhBM4klEfXuh03nY+T/l+fub4lo1o3PFxSP/2D+KxnKnRyMRtNx4AQxJvS6\\n\\nz6KkWHQCYZrSlROvkF0qY4kFyH/JM8chfZk8c+5THywohG+omjcw9cTfT5siycl7OOHRsPDslhlI\\n\\n1AwJRQoaq+IIvO6jLtVd2YwsOiSX+avKUN6lUc075z1z/xQ3muVwKSDF3B9o8K+ZmnWjE1fGyeg/\\n\\nDdOH7VyRgsaquKfSExBJ93mcdDbD5umgP+JMvkPrw2guMPznc8uMfd+wOi2pRxn/cz3MhoH7xR91\\n\\nc5hLQjKBi9VhPEAPNNirxKOyEzxt2DwhmfObOvIuxQuBvTF31++bz5sHHJ9LiioGuSBMRQBFdzpZ\\n\\nILZpSsI7ihQ0VsUnPEMjNNDaE2Z97Dfyz0R+o/ThAlUsOIaS/K+/mD8uVRUDaBRmpxg28BOiEB+Z\\n\\nQik3Ey9S0Fhixysrq0RlgDbejaHshk5Z85ATic21ixNzmgU/9qZhMxny932BmPtXP+ELfIRMbdvO\\n\\nosm9+24uUtDcKkrKAG28LS8q/0v7q3KXqgpV8ZU5IY4mvvrthQBTJPZNooqxCWC/vxO47/T9hptN\\n\\n4CuKFDRfzBGr5MUcY4mp4+eZvFWj0QJgUvOcEl9qKtbWOvxtJPOxqRj4nmkG33BzBz+VzOycNyQz\\n\\niRHPo0+ORzcjFCn+1h2+7KWxgj72xpxXaAl2YdkllJbzEIml49O+X/x4nD0psX2Q6ii2d9ZMYmdA\\n\\nrHd6GRdD5uQGJKrd6XhV9tIIzJXYrfnW/pFnxheWjFcxbpdRiYUnuW9+ZJYLiigMIlNsMcdMYjMg\\n\\n9rdYB1q2HmYNy3PKry4LygIrUMWDI8pvelG6JmlclS4pEgsSq5iMYyF4pcgpOYSKrvubSWwcJOu+\\n\\n9g12xsIZllfxJP2+zJVr8Zx3P1jw5f54k/vnHQsDlnnbEs0GiZwnmXn30yC+z+3219/VzhuW/we1\\n\\n1Hg2GNJBnO/dx6W8SPdvJSduEGBBVJK9VIrx2As08KwRzfyz+juriyNzjcfrE1mX+NFPd5jHgNOh\\n\\nUrwfo+Z+vbwSnMlNqUfqaXuRybyfJPOxfFVs4jOf/mtDfOFslkRiZ4AO0F/PRN7Sp9NKMdGaObJ0\\n\\nA87fyYNDOzJN+Mbf7HbMbcsFAMsrVMyZKg5sHMQmYsmJnvmMKxBHlF+brSHlQpAmXc99fQwpH372\\n\\n23fDdfPjKZ+UqgZaye9kr3JA7627Jve+v38HJN4L+7ZtMtr/aqaK5+Q+dgBoAHVjko8xY7ErszYb\\n\\nEvObN71LfczsNbf/H7NqDEiR2B77F0mXtygT2qB18k8tZ2KA18Ah5qYKpF/QTGLT8mLOCbP5GKGP\\n\\n++jPBDeuetEjkG8Vzyp9ED/4L9JLP0SwYFK6a3CG/J5NK/MfPirCSISG2gL+6s1qoOIFARuXjce+\\n\\nIvslldfrIitVKBV8F1CexJ6W39xGf/TkzaHP7Fg4LlViHP01FVPyZ6NRCfhggh4NYm/sQoGiwDTf\\n\\nnUVUYoNFVJG+taDYXxlUvN0d+aoY+tk1kL71qX/8m92Pnrp1McDUrIx0Y2NcScqChSgGfgTTveIC\\n\\nuxkZLHiZ9jFEvXvC9yRv9uxkE1CJwUtW+c+D+VYx1XXplxxb4e7U4esFtAhcGYnJe1TTshQwjIrA\\n\\ns0Dj43C+zcjgVK6ZKp5GdGng2SJpxZUVHZEjszIf/Sswp8FfT0ejeOI3e1ITsChSGz5IGysWU8Kk\\n\\nE2CklXxEYoh9VDcfApg7wWcQ7WP9xSQG9FUXHeo88lmwkJTnBE8kR17+rzE89Pe+xeHKjGOjGJ8n\\n\\nvL6ZaGNFNCbBK9T9FmiCRaNQv2YSO4foi7/9ZjtzZHpgRFkW+a08phyU8lyq6GP/9aPPdH7St/AB\\n\\nbC5/bCJxgnze0+UUUnTPwDdB2RXpw/KWFh0yk9gUottnyQCdYk0fnhpTJIaPX0b+8km5fJN4c/ML\\n\\n8VA6PX+nvJBUJ0x4bLoBInCMOwYi7WO/pavrCDArGjkyZiHSzqAEkdgRiZv0mT+dCJX6KCDHjsw/\\n\\nTpBOCrA0UiOwsAnxa6S9buT/hQwvz1rhTjqKCYB9IjLwJk29e5QixqNbsh9hzZ9O9FB2J2eJi4+F\\n\\nZK6PpfNio0UXBUwZoEVOkkQuBjew54kMXx1G9dRIcYB5CRkcTjMDdl429w+K24wPeCuUigKNjA+Y\\n\\nqZq7nfS5xaHR8CdCQsRCBKy+U2QyNSqhfmoofVQVjSRm1sd+jegiV7fIFD3/3qMAgzMWQfTlzcd2\\n\\nzGPX73yApVACYy4M7yX9bAbGRHSxnHCMJuOGRQAbR4mDdCX4DQ9X5PFYUHbf/JhB+bFL8P9XrGBR\\n\\nUlRxBlIioAnymDABMpqAJkR8UpZYEAkZzPHMXKq/Qwni3VeCWHQbeeoGLDcL9lcRpzEbQiuBhGIl\\n\\ni5HC3xSIRBXD5CFPQxIFUyjAEoktVhUxw9GdUofmEyfoHiV6BT637kd5w/ObM0ULFiOF7Qimqhgn\\n\\nwE4AGaCTqCpAJZbGHF6ESyVd76N7qfbIb5KKUOqYMlcSW9eTJ2fHkJElA1MU7RS+TewiEHzBB0n1\\n\\nERH5RkhL+iTwiWDgq5k4wTPvXKs6fiapTzMUlbcQSfDkdeSHqvbSh5qWDExp+CDeJXWhCWBHLiGq\\n\\nSPpY1SgZxdgkVcVRfa/GRBWfYzOHbTqKM5DMvGFfk7OJZrET5kvqgil8TUREYiHhakSgiKjjFJEY\\n\\nGdh4MufUF5mJ8ejhumHe9Ad1yRmPEGCqGkipRbuIWVKEzyZuw5uJuzvQvIu49CMpYM8Rm8iewlxi\\n\\nN6vvLJqo4l/Bk9z8OcgcfyG+R8YqRh6cf3EjUiTmt3zx6mvgBHpMamYx50/4rhlvRmLrGmmtZOf0\\n\\n5y3GEktYYdo8AlGOEMAzzzzc9CRhXxI/PezWFMSsNvaPjKIzdAKxoXfyzAsXvOXPbek10o5TqYuGG8\\n\\nxWDeYtzHftUCCfv8OYg35XhRoIkSWjqw7CiVq4zLNqYZGZt793rAmdRb5gESFcoeS8zMx9545AIA\\n\\nyy4q5/YtKbwU28dtrIpeUkGvRUb2uostzkJ9rhEVYOm3ihcqSlmJJUOZT/NTcGOJ7SNgJg97W+3b\\n\\n21o8geI1ZQO8Zdry1ugFAJY1brk+Ey34W5+M+9hxyiNj8w9aqp01PihK0l9mPqgSI97B0ikrsUSV\\n\\nlmUzMpbYDCI/1BBpxmkZ8+isWkFKeTT+6HwKFaMSvEaSg76MKyHSnPOpCquDgyqx2OfNk1vPj0rw\\n\\nGmkKkR+iEiJtw7zq+o85bfXGBRjFSnLiT7Gv43KItDvmVdcEUgoqEmMPogsArBTnoFV8TSB9cn51\\n\\niUoOQtW7/8cLgasUsQYWTjioAqPKmCySAnqeVLrQMgshqUkBRs8uHlm0PZtDpQnftFDCUep8KKtU\\n\\noUW+hSigkuwaWDgNUbdKUcXmjgsCrDThmxZMIfoD06hG0jyPURWj5dHHQPwfMi9EYukiycjnS8uj\\n\\nj2W2s6QhGpHH96XTMpEYTR5N+hhRxYliGyUXzN8C6cL2MXW7HTH4N4aMbzoFIq+9Oote5bRXl4vE\\n\\n4HeKEyyZHdHo1j3eNMkd17m3dJHEFki/idJxDJ3bzRnf4wfteXcKTO84+rIBlvQBDQP+otkG2W66\\n\\ne/osiD1V8HwDCxI7RfmfbF4DZ91s0lqFt3lBVBumdCHSFkq3hJIC/tkzZvmr/Gicpdt+mDVwnKki\\n\\nGMZpOOjJzWvBw1QlmDWYYZCcnBSWj7kH+MMImRZ8CnEmtxznjivAGAUYO0lf/Sd2ssAwVSJjocAy\\n\\nKwHLxngAfJRM5F40Pd7lZ4nE/AjbCLA6WWJ0mXrSzYHNtTZRacFOD0wGCvlbIF3IaYtCp4CDCdOu\\n\\n0V/lZ+FJJLLj6ATQ3UrjLOF/so5uK1mbQKflTO/qS45lYzwA3uAE88xb8PX172ThHRxmE/LuEwJs\\n\\nLZWYBVRg9B3saXWAL0GItMUSDnBF0qX+/B0Xc3AxJ7IJefMXZsfXUGBrAPoIME6W2Gl1NWIZSQx+\\n\\nKBRJWRKwXsrid7IildjlVGJT3WECjKESW59wdYIjAOETFw7YBcIFb3RAHJnd0Oe/lIiLAuOOr5Ul\\n\\nNv4ZBVgA1spWsQruV4Etk4mmQgL8yvT7Pv9mFvvWUmCPrZX72HgdAebh5D7GrMOMD+4YV+5dTqoI\\n\\nn8WmOaSh7zjBtGEtMR6cahUT68g49j6WAOtL2G+laSaYQVTA3wLpgnsehFL/FTX9/o7xXSxxMOjA\\n\\nLAPjxmksx8kr10IVkRgZp6vIWKfGol9GAzTpNFeZV3VHgkisggJTJXaaAktstlBVFDdXEauIGTUm\\n\\n7LLqYwaRw3LApjE3BSfEGguccPqA+oprqHfPQO+etYmui7Ddhlh1ZrOs+lgxGk2KbBimiP2DcdlX\\n\\nHJc393PHEcOsF7lu4jLuYtWZTQYYBsMUk/TMQpSHgrhw5QB2B7HwJ2BctPVlnGDZu0fPcsfrOsgQ\\n\\nQJzgLk7ZTqf2MekikQOe/NcjEXMQISN9fI67Ux5gou8ETO9mAcatHSByZ6hgZriE71UOksI4tvpv\\n\\n49S0oWrGuO4/Rj3861UKv2nF5IXU/42XJuD806QN5sRZLgewhZDC3/MNIJyPegiMp4hCnqYCluAo\\n\\nwXcNwLetm2woHAWYDuXvYi2Fub+QpG45ShDZTNItXUMIox+jB4nYcAX04Q0Av2z7C0DRYAimgvkb\\n\\nxkrgUl1QUsz9r/c0rIcQ7UOXIhGOwW4ESXFc6hBFAC5JJoBjUYIqmj+cl8LcX0hSJHbczfT1d9Cd\\n\\niYgTURc0czArJWA0QaOW0R+PM+sgEswfzpd7H1PTm7wkCpYqmq2ii0tAVxfHwelkGsbSIk117UEw\\n\\nPgIwFozn7WpZGarIeGn4mgm6tMelEHQhHs4TUKMJERIg0qNkQYA9jesklC243FVROYD0069djuAP\\n\\n19BOhl5FeBdi4TyRVZQAS8atvCiwYwADLe68pZaVYRW532Pot9Ws5cjHN5EoEYl9j0gvKH0Npibb\\n\\nGT+HRom+BvM3/S8LVVTVBul8pfSxSaaae44L0xUH9EskYSTA7+SDZBLMikwHYBQEzEfzQy2X0XhQ\\n\\nR0px/15G8DSG+IjOTQp/p3f2CTSMro9uh0RTohCEj9LTO3gdzTEVIWo3Ksngcm1TRlWcgXMyJ6fB\\n\\nhqInMBvWSxCjqGKUylQIA0tkci8a7uKq8G3EbESgD8Kw17YmzdyQ3EX9K66gRcoCbIowhVvd1iPw\\n\\niVumXoDIkyGdmxSrOHPYzu3j6DiG0SNwkkM+TN/pjBG3agL6B+5MPGDdtoumh8kBK6NVjIfuCIDd\\n\\nP7wGV7eFR+FUmNdFL/+0D6Hj76YOE4arEW6+jMX0hfAo7CWNMzIaAXEn6Y2RaF4Y2DJKbM2/D3dg\\n\\nDq+dwK1MfAxOj4ZC2psU/pJJorNSOESB7ULg8/JJiXwVwV8iEguMEqtBhuaKDdfIsejUZisbsNSD\\n\\n7+itAiT+MCztgvAYpEd4negjiirG0hgE8Z71dMMPAcbuZdNEQBAUU0Riz3svB5FYT6+tLm+htnyq\\n\\nKK6J8yEisa9OiJIYGYW0v0cnYKt6GqnBj0LvcXeQ2Qru5YnCCQk7F4UxLKKz0G1ZCym6Iz5CA1lm\\n\\nqIyqGIfgtzGSdt4iMQ0/DE7BVlbnJnWi6a9Bj3+CHgyKic4qYDE3eQiFYDQJaAoCYxMg0vPzowbA\\n\\n/ptxibE7nVvBauu+XHQNfDaSRGRw0pKiisk0mZrcS+15PCQh4EQ60eRRJInJDdR4JKn7G8o/JVQ+\\n\\nVcRO9xZnV/uw6waQUCSI38nxOncpqhhLSjsCSdqDgkEa5TBFv+CEYAoTiflrmkCi1mUU8oxH+SSG\\n\\nW79H8wFKKAybb49F4D7dVzQKfzM9DTt4IjGWuPFEdvQwHEGCxshULAY/8KyFdIo4ZMF8l6p8VhEL\\n\\n95Lez9EoU43VZBwLQEhnf7bqK7rskeBVEGgCXiAGn3It4S40KnYR/+NfxCiEE0RiEVJnQYuUBRj3\\n\\nErMW3/JWOg7dbROjIPVX6QBT+DtPOlPwEghWwV6fuOsaekIoKXWio3gvATa1uQoi9LzJKF4mErvv\\n\\nP66FP3vwa5+FS79ExjFx6B6djR6KVUwmYXTkpRqfD7tZCV1EHYxkwoYYfDlx98+j90Ig8SlE5L8b\\n\\nFbRIWYA5P4XG8Pt6Jm+Be6+Ba2kIYJ27VOOWqlvrf5eH5eU/5qR2wOgOGAc2VXdlj595JHe9fBIT\\n\\nWy4jyvOj124Pw3uuSxgd6FKXuBO960cu1T3yiZt9MIkB96bs6/PTZpVRYsKnUBDXvflAHK68BUg3\\n\\n4fWSsmTetjRB4Lf6b7b/FwKcWZ3K66RldKm4zf4r4O9/fnkY7vscx4ufjOoxXvxtS0D/cvkkJnGX\\n\\nVXbgDSffSyYdIhdPXnTcr+MrLqv3Y/MjvP1Tuzj8pU/2xdI934SzEPzlJlZ7V0ZiEn3tFl1A9eWT\\n\\nmGh9N74ZGqvWhsVGxuOF6FG9PqYAe93FcPC5LxekNDFluIze/e2PeL6NP/RG00Fxz0ZEvMA+Paun\\n\\nHEWbbD0gzFT+f9fI4doxYRTzedm/BCUewFwq49JATHRZAP1LgLD7dTJ7DI7oiUCRGE2Je0coxste\\n\\nLo2JQvPcZ4BhpJeSrpzzsTd3A9585oabAV/2iA9Co3on5NW1e5F4uHxakCdcEwRGJKJIjZIo6G0x\\n\\nLqNVtPwJHVc3X/FBSAkfYmF0jG6DKCRFYvdYvOtBuIWV51xR8quJAubUe7i82YoesP9eXJDYXrHz\\n\\ndvyl2754PzxJD/+P7qvjtHcp5l4Q4dr9trt98h90BZ9X36vwCrCQtmAZ+1hYtE7Dh08nL8ej3CmA\\n\\nsXEy6deQIrFvPCly/saPKsCpe8Gr7qKMCOkZjzL2sfCM19XFTSTem2o+9kWAvj695FByw+P3O1pR\\n\\n/NsxhcMotRs3KsBY5YcO62Vc4p5I9ZPWDuDPAq78CsIXRfUaXpGYQLpU+jtvIYGKKEJ+dN1JuBVC\\n\\nNOAWwKdoQbocJ+Vt2yzrKlUKUZP9DyAektZO/hjpZVFW+PvDb/8ZxX48jXjgzwmOXQfFrs9yQz7u\\n\\nXbtbYpv3oD9Cv70WzqFD+D/P5ddeNmBhEAHvtzouh6eqcLvUtd/j096kGI/Jwz1c/DsPoyZ8zMEO\\n\\nfHmLdFuUs23eve2+yif576MG4b4A/AZVfm1Da66gWYi0ElMSJISZds81cJyDwyJ4Kiu1NymqeGbn\\n\\n3VDjXcdViWx9R2Qqhm8fZY/9+NjFbCjoewZ6uXsB7rusa/ef2FG2YBlVMQYJwAJ97TUrJ0WZGdSJ\\n\\nYa8M0PE0cMffFeNDIIwFIvFE6pYxXxfi+BGeDzwOnO93xOZfhoXL8uJRlBVYZtdXxOwmSpN+P5d+\\n\\nJBKlb9FD8XBSSkdYCRAf4I83TYHAfZhYoZcQ25UXWn+5v4NWgE3XXyLEvhUOEksYDUbiYmoiKCSI\\n\\nVQxCf+A0cMJaAkxELNeMVgwwRRVnkxjFfzcRohILRsMi/uwrdCmYj7IsQYC4JuIJp4nk8uKkLouX\\n\\n6yakhkgjwGL3fpaobCgaGp3Auya+SYAgPsL6iHnhhHUEWArxaAVJTLGKM/X9sM+5njDL8oGxmNT1\\n\\n5W9CGHN8kGPhNPjYFqDB0nzNecCW+5YjZRybSkpo3BcmEhMCI8GI2PXFzxOLg0KjPj76C2DZdwMm\\n\\nfvJlXFcOw4rYmQNpusONpwda2UBwNCzCVWGIH+M40sfGngLWdyUx98+g+5qbuWzBlaGKU2l8Mwjh\\n\\ng4T/IB+Zlai7HHyFY8kwNvbvyMd+BwQf6WEChwpaRAZWbgy6pG6H6K/cAaHha1kIBfjRZBp4CXie\\n\\n8xE7GLqMSOw9HNvRLHQ1d3HZgstdFRWJnU6KO2Df5WwHVPFVI4k0nJwCXzOyc917uOZmln3lsg4/\\n\\nXCZdvTmHYblLTGl4onzRgc4YVIl3/9vRHmktnLsGmO+wB+DUOPr0xf/n4ppr+V/D84nGB6qyBVdG\\n\\nH4NkYO0v+AngxWut69xkXimx4L0kUAOjs/jSkXf8k2U9H4Gw1H7pzzzzzB5W7u1dcNyS1rToAmqCdn\\n\\nUnC5q6IqMcnpC2lPJvnmB0woNwg9yj+jWfgmF681KbhC+pguiWbRl5a7xJRxLC3/Dy6k4MoYxxJR\\n\\niIrcgo5cLXeJqZvEEpUPYaHAKkbV32ndw9LLHZjqK061rxULA8sHsxD0DnIud2AKf69P4iAuXBrJ\\n\\nCLAP7tYpeOFPrl9YUlTxta/t7BDjBeY+Ew3wpG4iw+UuMUUV2XU/2fG5cCQ056uoyn26mCqWG4Mu\\n\\nKeb+VzfURr1rxzUDssx9WNd4LHdzrzT847dsC4IwpRmQZeWM6EpsuXseSh+bmnlnQAhq11VPKdhX\\n\\nrrkfnxxo4vsiwIn2e2tq/uy4ewu82hRPBx5DfO8dYTZOg/kmuPh9nC6wcmPQJXXr7IdHgyEhClX4\\n\\n+3/6V/+58wsf+wycXjP2WsfzH6l6cvS1kdgaSFad9kUv5XWBCeUGoUcKf9FPBiFI5pI+aBaab8NT\\n\\nUxMQ/U3fwOWx5MkkP742FoLZaIRlappyBVdGHwuv+U0wyMeBBa55V5eUnIpDdDQSjqRjs2l+YizN\\n\\nQTwcHI2cDBS2yPIFpvQxZthaFXkxSj75mqVdSTEdgWggGo/FElMSCkdiHETigZPxaN5IvTKAberp\\n\\n4IMfpefEeIR3p6UkMZC+SDqZnv64KETicqKikYlI/gi+3IEplvzHT3PByFXXXQtw372wOSbORAG4\\n\\neCwZnuSwEIm+Rj3iUCQej+YKLvc+pkjsp2E2GLmSIZ7H91m883Zxim6xj8QSExHARBXP0D33HbFI\\n\\nJJgruDLMfc8/8KH4T6h3+Ku/hnd/Fn8lSg8yppPhMAEYiyToKYmON6IrSRUV/p693BeNpOgM7M2P\\n\\nw7uO4q/6iKTGYolwDIgqToQRwTwSj4xFcwWX+7RF3XJ08H8E3/oi3b3y2NPwwyvwdhYSRGLpeERM\\n\\n8OHwayz5IxAJjgYLW0QGJpQbhB4pxuOp+z+zA99DJTY9AYGjcJ8AYiwSi4cjqVhoIhbzQWRKiI3m\\n\\ne5MrQ2KPnOzvmGyEER7ORmAsAH/KxadiwUhsYio9FQyHY4FwLExMx9iKG8eufBpCrXJa0KkIHAzC\\n\\njUI4HI+cjseuikyMTUzEomcnrzgZjYzmhdhf7lZRmWhedQqCBxMQ6IA4caaCwHMnzq/51atXzOxc\\n\\ne+rkmefGTzw3EzhX9fS/PJUruNwnmqrEYumOUMqyowNicQiGiP/xxpPXrJkMJHezJ/fu6e4fnEiw\\n\\ns1xdS96pn+WuimqOv/hkEyTaqvjMZYEKJFx4Wz4td89DGaCT9DS+VLif0TQu3HKXmHr4NAaIjFzB\\n\\nud+FzQqujD6mT08iky+Xu8TMgPnNCi53YMsqDOGFpBUVrW9x/C2Qlru5X05RZy8orcATf/Ojt20f\\n\\nuxBWsdwYdOltq4qrVrGQlrsqvm09j1VVLKTlLrG3rVV820rsbdvH3raq+LY19xeij0VvhdCLuxFI\\n\\ngvTym5BO7xgBeBh+9mgI0D8SjXgL4rf+DKJvHBMAh/CbcSRJD4/RHHEvvxIF4b9SRPoo/bOXIf5W\\n\\nyAewA269XcD4xQmAN+DNslSdBVbdxtRsqqi1NHq6rY1+6xbP0OAGO41jxrQPu7bbDllt9iGmsta6\\n\\nz3/A7el2eSz1g53eml67s76fadju2GT1dlttnYxtX/cWz1an27PPzdzlbRyubLXZy1D1uhyw1ur3\\n\\ne5j29pqWGld/6x83MpWV1vb61rvsbU8wljr3dbb2bXX2bw0yDQ2V7r2Otrp1LsbW291QXdfeW/+3\\n\\nfmZgoKGnYaOz9xNepqbGNtC2p965dx9jbfXstw8cLkPVuTA1jP2wzfYAw/gdNk+dy++/x804LZ5+\\n\\nW/2As+YwY2Uaq5nebVbrdj/jqbC6nfs8nq0DjJ0ZbLNWt9srtzEWxmX3t260WDZ5GLe122nf4nZv\\n\\naGdsjLfeUoaqc5szGdJ4TmbTBtdgp8PDNNQzFW1DBxx1pHyvhxk+sK27bSPDDPQztTX7vI173ExN\\n\\nNWMd6txa4SSstbqZ7Vs3eoZcfqa9jXHs3dLoah1gKu1+S2fjEWv/tjJUndsCyDzkvW7LJsbvttnc\\n\\ntV+obDzicdoYf6/1P1o2uIatjN/p9F8/3DB0D+NxWq1Ox49sB7YN2q2Mp9Xyl4P79223MB673bPp\\n\\n+ZrOrX633WKxV/yvnq0bvTYL464rR9XX5EmsgmHcw659dc4ePzPI2Gqtd7XVO72Mi2F6Brc19rY6\\n\\nGKufcW53bHH2t3gYL2N1dLcPVdsbGQfDtHg3ulrrKhiLh7Fvqqjvb3MPMo2MpcJzuNPe6ypD1bnA\\n\\nQcxh57YHGOugu7fV7upxXE9UwEYeYx1o2XqYcfh7qu3ubfaN2/0Wr7O1zuZoqdg0wGyy2tvc3e3u\\n\\nI9uYCk+Lvde50eZ6kGiXnTymwt1zTztTa7HVOz1lqDpPYpWtDLPVXWGzu7a1NHqYyjZmsNu6r32D\\n\\nnbE0+l1Od+d1tkMMs8Fp7bE5NroPuBnbEOP1dG9pqOllmAMeh93ZeLjH62dq+i0t1grXwFYnY+1k\\n\\nGt2eof1lqPqiHDC3/TCxugPuQ90Wm8W1r62uxuZ6n9vtr7+LWF1Pz9dtNqdtG7G67U7vcX8Ps28L\\n\\nsbpWxyVOp6e6nVhdd8s1VqvdupFY3QZ7402eFmZLPTHo3RUX2+1lqPryHLCebTUWZl+3y2a3O7e2\\n\\netzV3np/t8Va2d5us26yeZ1ud8vGSsa/xbPParPZN9S5nfbhao/H32073GC11Fob7U6n+0Cv31M/\\n\\nuMVitdpqBgbstu32QbfHU4aqP543jjGWS7a7GzyDQ0MtDHO5o9fW73Jtbyd68Rmv/y5rz769Nob5\\n\\nxiZnjdvb2en2M9V7Wq1tDsemBqIX7xv2tHe3bGnrYZiP1dornY2NwwOkrz92yFJfUVFbU4aq1+SA\\n\\nHRp4spWMfhUOxun6wLvsHm89c8hjtX79mjo7Gf1cNI7Zk5+rI6OfdQ9jd7zr4l43GVi9gxbLNXUD\\n\\nvWRgdbgYd+PnPuD0D7ZZWv22iou/3uokA2ujl/GXo+ocMOcfV1ucjor2uq1bWm2PuestngdsG9uH\\n\\nPd9qs3kaa917Ntba19n9/RXWw84j9Yesn3FWM4Pbe1yHt7s/UW91uxwDrQf29Vb2etqs3dvs2+7y\\n\\ndr+v3+73bmpxbNtUhqq/mwNWwdi2t7o91l438WaYff1tdsbbS7wZprrT3s04nH631W/dVOd0W1rJ\\n\\nIOhltrTV25jGVuLNMPbhXo+/wu4h3oyl1tnvZA6R8bWRqR+qtjKuOuIo/fdXnaeKA9sH/Y0H7nLX\\n\\n2A7VOA44K2r2N1g9B+pbtvUwQ9va/O01ve2bvB7X1vaBSqt3b8VWu3XvdTUW99Zq9wMtTOfGek9D\\n\\nZWtDbaPbsaGh3dbd2NZzxGZpO7yXGdhgL0PVucMHTL2/v85use3zD1e2eattdYz7Li+ZDuyzunvd\\n\\ntppN1sEN1Z42Zy/Ts8Wz3TbUaO9x+p3tww7/gS0WZ6vTWllr8db0D9bbW5mW+sFN1k6XrcXusTds\\n\\nr/BsLUPVeRJrr6lwtXobnfutg5VWz1D/1gprjWe7xd3u6qz0DLa2O/wNldZ9dY0u+3UWr63b3dm2\\n\\nwdpd6d7EDDQ4GnsHvXUNFZ4aW/cW5wGHrcE/bPUMNA7VdHt6B2rLUXWeuWcGBz1uq6fX3W7zu1x2\\n\\nG9Pu7K1kBqw93Yy/0ursdtcwXq/baXG3Oom0HQ6blWmwt9r87ZYWj99j67Z7BiqZxkannRmosxNF\\n\\nqqiwWpgaW53V01CGqu/IAXNVOBz7hh3OPXWuev+hls7rSU8+XN/rdTVu2jTY2Orq9e6z7qnYsr3C\\n\\n3jqwr9rjHRx+0H/Ivq26tdHhqq31uuocrY1bLK09Qw9ae+vat9gHG73br/d4ezfaD5Wh6jwneKix\\n\\n2usmOu3uaXFtIQ4BU29vc7bX9w9u8fiJTvdU2jpd9mEn01/nbHHvq++utTLVtnp7Q3Wbt37QQ7pL\\n\\ni62ncR9xCJg2Z797YEu1Z183Y++pttXYy1D1/Tlgtm6P1dXe2mMnzuVAI9O61+5tIc5lTQVj76xz\\n\\n2N3EufQMWhwNdS024re2u5i6tt5Gd0+PrdLqtzUO7LE5id/q9jJ7apyDPcRvbSBj5lCry9nSYi1D\\n\\n1XkTzYFNtQ3+nv7GbS2VNRWthwecnRWO9rp6z/D2/VaH+9B1tob2Wsd+T0uba6O7d6/10LZ2e2PP\\n\\nngbnXe7tm66zVDi9h3tqGhx7rnO7hxyugda2bu8DDTZXS+t+e3sZqn4oB+w64nXWOJ1Exp5K4nVa\\n\\nW61kwLRbNlisTLun1cbUMQ3E66wkk1m/zW07YLNb6ix2J9PL7Pd3Mw3uOivj9NcQh9bWayMDptO6\\n\\n1WpjBvy9dqa1HFXnmXvG1rrR096zrbZm/yDTv6WxknjLQ9u2M9X2I5b6yvbtW7f6rXWuwYaWjY69\\n\\n13mZtvoDtv4NdZ0bNzH23m3+u2yHN23Y4LE493lr3Af2tB0eZuqrt1rbagaGD9xThqrzlt82/cDl\\n\\nr2xoZzwee8Vf1g9YGvYydruFefDxbUzDXW6LhXHX/tU+j21/A+N226wPVbcz+9v8Nhvjv/5vNzI1\\n\\n7QOM3+90/PsWt/W6GsbptFqu7z/MXFdPHFLGU4aqc/ueGb+FIfPYgQeqL+50Mm7mgLumtr5uXz1j\\n\\nY2p6ra2H297f5mH8Vq+/fXv/1xv7GSez1VnpuMv5RDVjJbNvS922+kuG3IzH0uhp2NR2jauNzIM2\\n\\n2G172vv/tr8MVecZj+q293ptm8g07hBT37jnC8wej8dzwG3b4vwPj3PYbiez9P6h2mFrrcVCWKh2\\n\\ntf6IaR10u7c6rfX9fzlo326zkVl6W6fjeYvD7+9u9Nj31f0vf53X6dxgt5Sh6jkrwYzjUHXjQJt1\\n\\nk73Vbdlev6HG7t/SYm9jNvW2DbWQSW2d3V/h7T/QXm+ptdU5mQera/bayKS2t56pba3vdPfbtjt7\\n\\nPdbhtq0N1cy+Hmc/c719b1sPmdSWoeq8leBGj9dj8xB8bS1b7A4708/YWxv7Gw9ZWphqxmLfUl3h\\n\\ncje6rW6mzj7kHuqtsDFtjK3O1eby+gf9dj/TW9/fs8/pclqcjLO309nZau1h6hmrc1+9owxV51nF\\n\\nbkdFtdPxYONA44CzzjNUb7l+S01FjdXW6GrzbBoe8gx5PHus/f0V17vaXe1252BnNfPg0F7rXovV\\n\\n5ah3127vdHe63a3dbW3WB/c1OBpsdm9jv//6zrbuNn8Zqn5v3gza4rZ9zM1U2KykPRqY/seJW+yn\\n\\n7eGvvsTPuJy0PQaslzsZa4+FNHUN0/a3DOP10Kb22L/hYRx2G2nqdkt1P0O+Jk1dydS/n2Ea3bSp\\n\\n/9urzjMevcOOTmf/HnfnXU7nPZat9dXOw44P1FtrBje2tda7uj/W5mndXtHY39Y60Phkv32r/0i1\\n\\nvX9bxbuqLZVe11BdtcNzf727bpP1QFt9Xbvrc222DZ5t/b1tG63f6PeXoeo8X7HTesjuqXY72mxH\\n\\nHO7tdXZrg6Xdf+BQm6O3zzzznzb3TWHGjs9pIZ+EBFvXXbHucmZ6+lhjns2eodqmh1+us9rv7KrS7P\\n\\nMJnct1vvsmxs7a8lE8O9zDb3hsYyVJ23YGpvtFkcj9s9zCBzqILx1/1Vt51xMS73oNP2XmcdY/Vb\\n\\ne11WZs/f2tyMl/H2+D3Of/f0Mg7G4fTarbX9Tr/FY2l1WJjWH1idTCPT2OJx2//S3cpUMBVlqDpP\\n\\nYsSqfJ6pad2/37Hd3njofzDW9m3bWrZ2V7jqBpnrHFvbN3qJwfozprLuuusqNtlc3q/7LQ0bN7qP\\n\\neIjBepZp2LOhwTVMDNYfMbaBw4d77rE6Gq/xMPtdBwa2DZah6rz52CbmfusXiEFt81uPeFw3/bmn\\n\\nnrEPMNuHrd+oHLZ5iG447mE6uz9EDGq9x7Jt0PG+Px6sZmztzKbtlo/Znie2ei9TsdXfePw7/jam\\n\\n2s084K24ZJ3X7rc2MLVlqDrfCXbZ7czwlg3OIT9j7bYwtfbDQy4vsU5ut/WQ60DrPoZxEP9te/3+\\n\\n/k4PY/H4/Y7ebZ2ORmKdnE6Ld9/Wui0MU0H8t03V17U1DhLr5PFUtG5s3OMqR9V5q1RkAtC6p8LZ\\n\\n7rY3PtVot3sHhyptlop3bbBYHC5Xi9vvvp/MLepae/obnDbX5w7YbI3eTlsP0/ON/X7/HofDPeBx\\n\\ndu4nfs6hlrYau9Xxga1Wq6uxsaeFaflYGarOk1hPbbXT665j9tT3OFuH6kkTup2Hva327W0tHn+v\\n\\n1bXP3uLo7ydN6G+9q8Ve11lNmtBp39ZYZ9tU7x70tFocW2zuPW1tpAk9de2Dvc7h/p5ui9220eUs\\n\\nQ9W5nETE2rS12e6xOdxMA5my9/v3D3YTx8Y/aKl21mx3NvqZARdTX2/d2lPhZGrIlL3Nc53XM8RY\\n\\nPV6mv79yk93lYdodTHW1ZUOLtZ+ptHis9e6GYXcnY3GXoeo8ie3Z6rQcYjyD+/7eOfBAK/Nnbrur\\n\\n+s/ra2obPe/otVh7Nh5ubT1iZ571u71b/qy/ffsh5o+cNof93+6qdBxwr2llultcv66r29bLfN7j\\n\\nbKz/TlvDJq//f9itFbZPtveWoeo8l8rNtG631dbaybhiY8jw3zN0iIwrHj8Z/p3bt7t7GTJZJ8O/\\n\\nY18vGVesDBn+Wzq9PWQS5CFOi33TJmcrY7MzZPiv2NJKxpVuhngW7uHhFnKtDFXnScxxeC9TSbqi\\n\\ny/b8oe1kXku6Yqv/Owc2kXkt6eV277pte7aReS3p5Q7rF7wPknkt6eV1nj/fWkvmtTV+f29j5QOt\\n\\nD5B5LenleywfaryezGtJL3cO/vGRMlSdt8/DbXdbB8mY4j/M2CzE9pIxxenyM3633+Enrox1gHHa\\n\\niO0lY4pnG5nZ9pCBr9ptd3gYj9NT4SGujKWdsVuJ7SVjinsjY2FamFoyptgq3OWoOu9VbWVLxfaa\\n\\nAy3bndXuQ43uB3u29W/qsTa4NthqvVs7K7yetp7ewZ4HK7e6H7TbB7wHnNe3bGyrbbHUOGp6HMMb\\n\\nGnuG3fUtrd6W621HnNfbbO2NW+2bBg8MOQb9eyvKUHWed+9xeSxtrY2WDbZ32IntaezfwjQM+k8w\\n\\nnUxFtX3QdsB5iZvYnqE6F7O/Z43N0sa42ur9NV7PTf5Gv7W/12vdar/YScxap3Mfc12LpYcZYhz1\\n\\n1Z7KRvf7ylB13gAtRENS/NaHhTR+Ky6l4dibb8UBvfIKCCj+MvkVTb8Yikdx+mcvhiS4/XYsQejW\\n\\n228HIboDhYT0m+RXXHozzzzo7D7pffiGJ49FHogujPyK9Q/OFyVJ0DBm9TWp47TFeB/f8jsHIzUDJg\\n\\nQrk5WAW2CmwV2Iqkty+wcjNQMmBCuTkoFbByM1AyYEK5OSgVsHIzUDJgQrk5KBWwcjNQMmBCuTlY\\n\\nBbYKbBXYiqRVYCuNVoGtNHr7Ais3AyUDJpSbg1VgCwRWbgZKBkwoNwerwBYIrNwMlAyYUG4OVoGt\\n\\nAlsFtiJpFdhKo7cvsHIzUDJgQrk5KBWwcjNQMmBCuTlYBbYKbBXYiqRVYCuNVoGtNFoFttJoFdhK\\n\\no7cvsHIzUDJgQrk5WAW2CmwV2IqkVau40mgV2Eqjty+wcjNQMmBCuTlYBbYK7G0OrNwMlAyYUG4O\\n\\nSgWs3AyUDJhQbg5WgS0QWLkZKBkwodwcrAJbBbYKbEXSKrCVRqvj2EqjVYmtNFoFttJotY+tNFoF\\n\\nttJoFdhKo7cvsHIzUDJgQrk5KBWwcjNQMmBCuTkoFbByM1AyYEK5OSgVsHIzUDJgQrk5WAW2CmwV\\n\\n2IqkVWArjVaBrTR6+wIrNwMlAyaUm4NVYAsEVm4GSgZMKDcHq8AWCKzcDJQMmFBuDlaBrQJbBbYi\\n\\naRXYSqO3L7ByM1AyYEK5OSgVsHIzUDJgQrk5WAW2CmwV2IqkVWArjVaBrTRaBbbSaBXYSqO3L7By\\n\\nM1AyYEK5OVgFtgpsFdiKpFWruNJoFdhKo7cvsHIzUDJgQrk5WAW2CuxtDqzcDJQMmFBuDkoFrNwM\\n\\nlAyYUG4OVoEtEFi5GSgZMKHcHKwCWwV2wYCJdsZ5j6ViS6vdw3Qz1ppB9/BwC7nmZlq322pr7XWM\\n\\n1cbYt/p7hg7Z3IzHb6n0Ordvd/cydidTt8nq2Nfr9FusjG2Dp6XT2+Nk3B6md9i+aZOzlbEtsGru\\n\\nggKTWh+o91i9Tucey4car29oZ7Zarc7BPz7iOLyXqfR4Wl225w9tv8ttabTbW/3fObBpfwOzwWKx\\n\\ne9dt27OtzW8bdNc5rF/wPtg+wByw2eo8f7619roapsbv722sfGCBVefQXAhgk3arnRlm2vzujYyF\\n\\naWFqGfuArcLNuO1u66ClhvEfZmwWG7Odqfc4XX7G7/Y7/LZ2q3WAcdqcFi+zl/FsY6xMD7OJqXbb\\n\\nHR7G4/RUeKwNFks7s8CqL6zETrR6W663HXFeb7O1N261bxo8MOQY9O+tqGyp2F5zoGW7s9p9qNH9\\n\\nYM+2/k091gbXBlutd2tnhdfT1tM72PNg5Vb3g3b7gPeA8/qWjW21LZYaR02PY3hDY8+wu75lgVXn\\n\\nAVs6LrjYWeFkOp37mOtaLD3MEOOor/ZUNrrf53F5LG2tjZYNtnfYrf1MY/8WpmHQf4LpZCqq7YO2\\n\\nA85L3A43M1TnYvb3rLFZ2hhXW72/xuu5yd/ot/b3eq1b7QutGl1IiUnuC9A4F5wugMRmjpQbhC4w\\n\\nYclVHF9bbhAlAubgyw2iNMDEAVRuELrAllzD7JpyY9AHJiy1hmc7yo2hRMCsfLkxlAaYOIzKjaE0\\n\\nwFLLs4stHdjxjnJDKBGwGrbcEAyALbE87kHlhmAATFha+cnOciMwArbE8o8tS0cRli6xA75yIzAC\\n\\ntrTi2ILKjcAImLCk4pN7yw3AENjSij92RbkBGAITllTcw5cbQGmA4VpUbgClATbVUm7+SwTs+Ppy\\n\\n818iYJuWVHr5ApPyFiiXGy0J2MyWcrNfImAnlu0otkRg29lys18aYGJvubk3A7aEstOWcnNvBkxY\\n\\nfNlnbyg39yUCZuPLzb0ZsMUXFb2o3NybARMWXXS6otzMlwjY+MFyM28KbPFF+9lyM28KTFhsSbEG\\n\\nlZv50gCbWb5zsaUBe275zsWWBozhy817aYDh7ajcvJcG2OQ15Wa9RMB+XVVu1ksEzMOVm/UiwBZZ\\n\\nTlrW/hQsXmKJ6nJzXgzYIsud7ig358WACYsr18aWm/PSAJOc5Wa8RMCW+yi2aGDPVZWb8RIBa+PK\\n\\nzXhpgIndqNyMlwZY6l3l5rtEwI5fW26+SwTMwZab79IAE73lZrtEwGbuKDfbJQJ2vKncbJcI2HLd\\n\\no7hUYGJ7ubmeD7BFlJnuLjfX8wEmLLzMq1Xl5rpEwPyLKPPfD2yosdrrtjhb3T0tri3WTTam3t7m\\n\\nbK/vH9zi8dta7D2Vtk6XfdjJ9Nc5W9z76rtrrUw1KjfX8wFm6/ZYXe2tPfZGt2egkWnda/e2VNjs\\n\\nNRWMvbPOYXcPdls9gxZHQ12LzeV0t7uYurY95WZ6XsAGNtU2+Hv6G7e1VNZUtB4ecHZWONrr6j3D\\n\\n2/dbHe5D19ka2msd+z0tba6N7t691kPb2u1N5WZ6XsCu83j8NU5nN2P3VDbandZWq9NtsVs2WKxM\\n\\nu6fVxtQxDYNuT6XdTjTTbTtgs1vq2HIzPS9gjK11o6e9Z1ttzf5Bpn9LY6Vza+vQtu1Mtf2Ipb6y\\n\\nffvWrX5rnWuwoWWjY+91Xqat/oCt3DzPD5hQbg5Wga0CU4CVm4GSARPKzcEqsFVgb3Ng5WagZMCE\\n\\ncnNQKmDlZqBkwIRyc7AKbIHAys1AyYAJ5eZgFdgqsFVgK5JWga00Wh3HVhqtSmyl0SqwlUarfWyl\\n\\n0SqwlUarwFYavX2BlZuBkgETys1BqYCVm4GSARPKzUGpgJWbgZIBE8rNQamAlZuBkgETys3BKrBV\\n\\nYKvAViStAltptApspdHbF1i5GSgZMKHcHKwCWyCwcjNQMmBCuTlYBbZAYOVmoGTAhHJzsApsFdgq\\n\\nsBVJq8BWGr19gZWbgZIBE8rNQamAlZuBkgETys3BKrBVYKvAViStAltptApspdEqsJVGq8BWGr19\\n\\ngZWbgZIBE8rNwSqwVWCrwFYkrVrFlUarwFYavX2BlZuBkgETys3BKrBVYG9zYOVmoGTAhHJzUCpg\\n\\n5WagZMCEcnOwCmyBwMrNQMmACeXmYBXYKrBVYCuSVoGtNFodx1YavW0l9v8Du8/fS8r74LQAAAAA\\n\\nSUVORK5CYII=\\n\\n\\n\\n\\n\\n------=_NextPart_7HZmySBWvSemNjin8Kg9Y\\n\\nContent-Type: image/jpeg;\\n\\n\\tname=\\\"./MassMail-1509_files/image002.jpg\\\"\\n\\nContent-Transfer-Encoding: base64\\n\\nContent-ID: <./MassMail-1509_files/image002.jpg>\\n\\n\\n\\n/9j/4AAQSkZJRgABAQEAYABgAAD//gAcU29mdHdhcmU6IE1pY3Jvc29mdCBPZmZpY2X/2wBDAAoH\\n\\nBwgHBgoICAgLCgoLDhgQDg0NDh0VFhEYIx8lJCIfIiEmKzcvJik0KSEiMEExNDk7Pj4+JS5ESUM8\\n\\nSDc9Pjv/wAALCAMdAj8BAREA/8QAHAABAAIDAQEBAAAAAAAAAAAAAAQFAQMGAgcI/8QAWhAAAQMD\\n\\nAgMDBggGDA0EAgIDAQACAwQFERIhBjFBE1FhBxQicYGRFRYXIzKhsdIkQlLB4fAzNFRiY3J0gpKi\\n\\nwtElJjU2Q0RTZHOTsrTxRlWDlEVWpMPThKP/3QAEACj/2gAIAQEAAD8A+zIiIiIiIiIiIiIiIiIi\\n\\nIiIiIiIiL//Q+zIiIiIiIiIiIiIiIiIiIiIiIiIiL//R+zIiIiIiIiIiIiIiIiIiIiIiIiIiL//S\\n\\n+zIiIiIiIiIiIiIiIi1wS9tTxy6S3WwO0npkLYiIiIiIiIiL/9P7MiIiIiIiIiIiIiIiIiIiIiIi\\n\\nIiIv/9T7MiIiIiIiIiIo9BkW+mBOT2Tcn2BSEREREREREREREREX/9X7MiIiIiIiIiIiIiIiIiIi\\n\\nIiIiIiIv/9b7MiIiIi0UX7Rg2I+absfUt6IiIiIiIiIiIiIiIiIiIi//1/syIiIiIiIiIiIiIiIi\\n\\nIiIiIiIiIi//0Pr9EQaCnLSSOybgnnyC3oiIiIiIiIiIiIiIiIiIiIiIiIi//9H7MiIiIiIiIiIi\\n\\nIiIiIiIiIi0URJoKckgkxN5cuQW9ERERf//S+zIiIiIiIiIiIiIiIiIiIiIiIiIiL//T+zIiIiIi\\n\\nIiIiIiIiIij0Axb6Yd0TfsCkIiIiIiIiIi//1PsyIiIiIiIiIiIiIiIiIiIiIiIiIi//1fsyIiIi\\n\\nIiIiIi5eh4rqH0FO5vDN5eHRNw5sUeHbDcenyW741VOMnha9g55djGf7ayOKqjUQeGL2ADjPYs++\\n\\nsfGup05+K17z3diz76z8aarH+a16z1HZR/fT41VGcfFe9/8AJj++sfGuo05PC979XYs++h4qqRy4\\n\\nWvZPcIY/vrPxpqefxXvWP+FH99YPFVQAT8V73t/As3/rrPxqqcgfFe95P8DHt/XWPjXUk7cLXsjv\\n\\n7GMf21n401Of8171jv7KP76x8aqnb/Fe97/wMf31n41VGf8ANi947+xZ99YHFVSf/S17H/wx/fWf\\n\\njVUjOeFr2CP4KM/20+NVRnHxXveMZz2LPvp8aqjf/Fe97H/Ys3/rrA4qqiP81r2D3GKP76z8aqn/\\n\\nAPVr3nu7KP76fGqo3/xXveB/As++sfGup0g/Fa957uxZ3fx1n401RG3C16z3GKP76//W+i/GqoyR\\n\\n8V73t17GP76x8a6jAPxXve/8Czbl+/8AH7U+NVTnA4Wvfj8zHt/XWfjTVbf4rXvB69lH99YPFVTg\\n\\n/wCK972OP2GP76yeKqgf+mL34/Ms2/rrHxrqc/5rXvHf2Mf31YWe9RXhk4FNPSTU0miWCoAD25AI\\n\\nOATsQdlZIiIiIiIiIiIiIiIiIiIiIv/X+zIiIiIoNkObFbz30sf/AEhTkRVt8vcVhom1U1JWVTXS\\n\\nBgZRwGV/InOB025qr4b46t/FFUYaCgucbQ1zu3npdEWQcFurJ3z08ClRx3bm1M8FtorjeDTO0zvt\\n\\n1MZWRnqNWQCR3DKn2Hie2cRxy+YySNmpyGz008ZjlhPc5p5fYrdaK2rjoaV9RLktbjDQQC4nYAZI\\n\\nGfaqafjCkpYzLUUdVHG0jW4uiOnJwM4fnmtz+JqcTxRtge5jnYlkMsTRCMHc5fuNuilXO7xW2khq\\n\\neyfUtnlZGxsJBLi76OMkA9Oqr28WRupamY22rbJDWNpGQENMkrzgnABI2BJ54wOfdtm4mhhFYRRV\\n\\nMjaaZsLHRgHt5DjLGb7uBOD02588WE90oaRsfnlXDSOkbqDJ5WsP1n7FV2vjC219NDJNPBSyzzOi\\n\\niidO1xcRkA7cgcdcdO8ZO4upRaqa4toa6SOpcxsTWRAucXHGBg7nn7lcVdXBQ0klXUv7OGJut7iC\\n\\ndI79lua5r2hzSC1wyCOoUS63KG026atmBcI2+jG0ZdI78VrR1JOAPWorb82OOMVlvr4J3MDnRspJ\\n\\nJgzw1saWn3rfHd45poY46SuIl/HdSvY1m22rUAR7vXhea690due9tS2pAjbqfI2lkcxjcZyXBpAH\\n\\njnooVfxXBSUVTURUNbKIY2Ojc+nfGyYucGhocRzyR069VdxOc+JjpGGN7mguYSDpPdkKqvfEtvs1\\n\\nFUympppKinbnzY1DWvdy2xzzg9y1ScX2qOkfL27JJomMfJTxSNe5oc4N2IODgnoVJbfYnXeC2Gkq\\n\\nmTTRukBdGMNaMbnB2GTj1q0Rc7eC2zcQ0V6+jBU4oqvuGTmN59TvRz3OX//Q+zIiIiIiIiIiIiIi\\n\\nIiIiIiIiIiIiL//R+sWTaw28ZJ/BYtyMZ9EKciIvltrraqg8h1xqaXtGytfUta5h0uYHTEFw9QJP\\n\\nsX0KxUFDbLHR0lta1tLHC3sy3k4EZ1eJPPPiud4l0W7jzhmupAG1VbLJSTtaP2aHRqyf4pAK6Snm\\n\\nuT7tVRT0kcdCxrTTziTLpDj0gR0wtHEFD55b3PMj9NOx8vYtIAlcGnTklp5HcbHfGxwuIraKOptT\\n\\nJpHwPjndT6ZC0dZWnP7CwEafadxvtiY6kpTX0VPXtikhqagRCJwJ7QEEgejA3uzgnC6HiaBraK2U\\n\\n9OOwa24U7Wdm0DswHdBjAwB3YXPR1cdFUVFZHO2aeG8TsIqMDtmBjBIGgADWBuCB0I6rEdUKSyST\\n\\nuraCzzzzpHiroI3TtkdEHD04n7ZIJ1DI3357LouIJKqrpIo6ChlnmJZPBMySMNBBBOzntJGNjtyctE\\n\\nUdbHfn3J9oewFjYYY+3Y3sohkvcQHEOdqdy7sb5OFE4aMbLNw5PWDEHY4pyRnEz8gF3cdJwPFx8F\\n\\n1dXTR1lHNSygGOaN0bgRnYjBVTwfVPn4eigmOZ6F7qSb+NGdP2AKPxLcKW2yipip3VVyaGshzlzK\\n\\nXWQzWRybkn1nly5bbdZrtZ6UUlFcKeWLJcX1UUj3lx5nOvGM52AHP366aq4hrrjXUbau3w+YzMY5\\n\\n4pXntA5jX8jJt9LHsXni6sqm0NxoohF2LrRVTSamkuyG4AG+OZ7uirrjUXGsZQQVltMFDSTQzzSC\\n\\nfd0ZIY05bjSQ4l57gzn0VhR26Ks4prC+Wpkprb2Qha6qlcGzEOc47u39FzRjlvyWyskrZr9BPDZq\\n\\nh7KbtIpj2sJEjCMtIBfkbjIyAcE96prlDVW/h2uZU0DmOq6hslRMZwQ17pm6WhoJw3Dvq8V0tC0M\\n\\nv9cakHzuVrTEcej2DdgGnwcSXDoXDpgq2RRrjQw3O3VFDOMxzxljtuWeo8RzUDhmvnrLX2FbtXUT\\n\\nzT1I73t5O9Thh3tVwiIiIv/S+zIiIiIiIiIiIiIiIiIiIiIoVmGLHQDupo/+kKaiIuY4U4ZfQcGv\\n\\nsd4hjkEr5xLG1+trmPe44z6ioNDRcZ8LwC2UFPRXu3QgilfPUGGaNvRjtiHY7+5T7Rw/cpb4OIeI\\n\\nqmGWtZEYqWlpgexpWn6WCd3OPU7dQv/T+sU9fUTXaro32+aKGBrCypd9CYkbgepe7rFJPaKyGEOM\\n\\nklO9rA04JJaQMLibnQXK3cJUYraeGFlOaUSOddJjp0vZzbp0t5cwduYzgLc64Uj7nb6x9ztjaajn\\n\\ndJIW3h9Q45jc0ANeMc3Dluretq4rvS2aV8TZKeT8MqA1vaBrGsO2MZPpOaOXQrlKKogbcad8cDpa\\n\\nKe5XB0UcLSwvaYmgaeRHMjbl61vu0FWLfXTXCbztz6TTC4teXUp1j0M4GrOfpYB9HfOy6figx/CF\\n\\njZNG6WJ1Y/XG1hcXDsZOg5742/uUCo8xPFtujpqN8RFJVEulidHjZoBGrHjv4+KiUJrajyf2u2Ut\\n\\nuqJpJ4YgyoGjs43BwcSd8txg745gdV3ao7bTzUPFF0ibE/zSrYyqa/HoiT6Lx6zpaVr40D/gFvZn\\n\\nH4ZT6t8ZHat9++Fc1dZT0MBnqZBHGCAXEbDKoeE6qGvuF+rKaUTQS1rRHI05DgImcj+vd6oXETq6\\n\\n43ust9DbaqbXbJqN8haGRNfJpLXF5O4AzyyfBSZpbi+hntMppq+rnhEBpYGnsoGkYLpXnfkeWxPI\\n\\nDqvVkqxw7/ge7uc2Z8pdFWOB0VheeefxXDYFp8MZXmqdRnzzzzr86pZZ9NugA0Qufj5yUnkPUqO7Np\\n\\nnUnE3m1OIGx1NC0B7SwnDmHkcdSduufFdLM+uruKbcG22op4qMSPmnl0aHtc0ta1pBOTqwSOmBno\\n\\nugRFz9b/AIH4pp68HFLdAKWfwmH7E72jLfcugRERERERERF//9T7MiIiIiIiIiIiIiIiLlLbfL3T\\n\\n2ukg+KldJ2cDG6u3hGrDQM/SUk8Q3nf/ABSrsj+Hh+8s/GC8/wD6nXf8+H7yz8P3nl8U63OcftiH\\n\\n7y8/GG9E/wCaNdj+UQ/eT4w3npwlXdP9PD95ejxBec4HCdb4Znh+8sHiC84yOEq4+ueEY/rLA4hv\\n\\nXM8I1wHf5xDt7NSyOIbyf/SVd15zw/eWDfru8FruEa0tOxBnh+8tLbnXQtLY+CJ2tcQSGyQAE9+N\\n\\nS3DiC8A5PCFcCRjInhP9pefhu6Za/wCJtXqjzoPbQ5GeePS2XqS+XWZzzzzS8IVj2HbS6aEg+salh1\\n\\n+vBLSeD61xbuMzw7dNvSX//V+ifGG88jwjXZ/wCPD95eYb3dIIWxRcHVkUbdgxk0IDR4AOWz4wXn\\n\\n/wDU63O3+sQ/eXk8Q3vkOEa4nf8A1iH7y8y3u5zt0y8HVkjQQ4B8sJ3B2/G5zzzzvfxgvOw+Kddv8A\\n\\nw8Ox/pLxFerrDHog4Oq4xqyWtmhaMnmfpd69fGK9aS4cIVxGOXnEOf8AqWGXy6xkiPhCsYHOySJo\\n\\nRknmT6S9fGC8nb4pV3zzzzeHw/fev3Ib/eA4uHCNaemRPDn/qWqW9XSeJ0c/BdXJG4glrpoHAkbg41\\n\\neAW0cQXkn/NKu/8AsQ/eQcQXk4/xTrsbf6eL7yHiG9D/ANJV3/2IfvLHxhvQBzwjXZ6DziE/2lEu\\n\\n9ddbva6ihl4Ur29o30Hiohyxw3a4elzBAKv7NLWz2elkuMJhqzGBMwkHDhsTttvz9qnIiIiIiIiI\\n\\niIiIiL//1vsyIiIiIiIiIi0UWrzGDWcu7JuT44W9ERERERERERERERF//9f7MiIiIiIiIiIiIiIi\\n\\nIiIiIiIiIiIv/9D7MiIiIij0H+TqbAx803bu2CkIiIiIiIiIiIiIiIiIiIiL/9H7MiIiIiIiIiIi\\n\\nIiIiIiIiIiIiIiIv/9L6/RDFDTj+Cby9S3oiIiIiIiIiIiIiIiIiIiIiIiIi/9P7MiIiIiIiIiIi\\n\\nIiIiIiIiIi0UYIooAQGkRt2HTZb0RERF/9T7MiIiIiIiIiIiIiIiIiIiIiIiIiIv/9X7MiIiIiIi\\n\\nIiIiIiIiKPQ4+D6bScjsm4J9QUhEREREREREX//W+zIiIiIiIiIiIiIiIiIiIiIiIiIiL//X+zIi\\n\\nIiIiIiIiLiaXyn8OR0kUb5KkyMjaHAQHngL38qvDGMmWpA8YDv4ofKrwwMfO1O/XsCs/KpwxnHa1\\n\\nOf8AgHvwh8qfDIAPaVRyOXYHZPlU4YyB2tTk9OwKfKpwwcYlqSD/AABT5VeF9/nanbn8wdkd5VOG\\n\\nW/6SqOOfzPL60+VThff52p2P+wKDyqcMH/S1OO/sSnyqcMHlLVH/AOAofKpwwDjtKnH5XY7fanyq\\n\\n8L4PztTt/AFPlU4Yxky1I/8AhKyPKnwwf9LU/wDIK8/KrwzvmSqGO+H9Kz8qvDGARLUnP8AU+VXh\\n\\nf/a1P/IPdlPlT4Y057Wp54x2BWPlV4Y2zJVAnp2BT5VeGMEiWpOO6ErPyqcMZx2tST3CAofKpwzg\\n\\nFslU4kZAEBzjofb+Zf/Q7MeVXhc8pak5xj5g77A/nWR5VOGCdpanHf2BQeVThc/6apx1PYHZD5VO\\n\\nGQR6dVv/AAB/vT5VeF8kdtU5H8AUHlU4Yx+y1PPH7Af16FG+VPhhxGJqncc+wOFj5VeGeslUBzzzzY\\n\\nD/es/Krwv/tan/kFPlU4YHOWpHrgKfKnwxg/O1W3fAQsfKrwwOclUPXAf71n5VOGP9rU/wDIKfKp\\n\\nwxtmWpyenYFPlT4ZxntKr1dgVj5VeF8by1I8DAfcs/KpwxnHaVX/ACCnyqcMdJak+qAo7yqcMt5S\\n\\nVTvVAU+VThfVjtqnP/AKDyqcMHPztSMd8J/XqEHlU4YOPnarf/dztz/uQ+VThkHHaVXPGewP96x8\\n\\nqvC+M9tU/wDJOPes/KpwwCcyVIx3wlB5VOFyf2apAxnJgIAHf9nvWPlV4ZHN9UO7MHPfHes/Kpwv\\n\\n0lqTnl8wRlPlV4Xxntan/kFZ+VPhnfElVkdOwK8/KrwxjJlqQPGAofKrwwMfO1O/8AVn5VOGM47W\\n\\npz/wCh8qfDIAPaVRz07A7LHyq8MZAMtSCenYFZ+VThjpLU4/4BT5VOGP9rU/8go7yp8MtP7JVHHP\\n\\n5nl9afKrwv8A7Wp5/wCwKDyqcMf7Wpx39j+lf//R7QeVThg4xLVHP8AVg+VXhgH9kqSN8O7HY/Ws\\n\\nnyq8L4J7Wp2/gDz7k+VThjrLUj/4SpVs8odgu9wgoKR9QZ5zhgdCQORPP2LqERfl8EZzkloOwBB6\\n\\n/wB+PUkbdQBcd3DGsjY52+1YBzjVjOct6Y6kfV9iyMa2/i4JAHI+H1fasag0HLncuYx+uOf65WQ0\\n\\nsGMYPPTjbZYADQBzIOBy32wP1Cz+NgHBPLfl4LGcnSC7vwslp0gA8sbY5f3LAI2IGSdz3f39yyMc\\n\\nw7nzweawPSON3Y2wRy3+xZdsQ7ORjfI59FjZowBsQBkrJAAxqOGjcZQHLjIc7HOojljv9iwW4JYc\\n\\nEfRG2N+SySOZ2Gc+v1Y8c+5CcP8ApHc7bj9eZ5eHqRg2BBI1cjzzzzD3rGQAc46HbbrnG6ycbAkNJI\\n\\nHPGOe/51hxy7BcRnIIOD3n2/+Fkg6D0PPGM7DJ38djv3YQYGerg4DI3G3/k8u5B+Xqw4nof1ysHn\\n\\noGo4ySOfd7yAsuBABaeW2Mb9+PrQFo3aBjPu/UhYwAwAOJAznB59Ux2jursDc93q9y//0uFd9LUS\\n\\nCD4eP6E23HTPPPjyyFgnYHUcHx5frhZbudWT36sLGMOOrG+/LH69FnII3GBzHed1gnT+O7PIHI7l\\n\\n6a3II5Z2GRz5fr715GCDkZdp6Y67rOQ4lxOCNtjhYJP0ckucd84358/buskeh6JwR0I3Gf8Awgxu\\n\\n7HdnHQ9T38inMEB2Dq30nv8A15eCwPTDQN9s4O4A/wDBHq38Fl4OOedOfpDwx+dCQXOxy7z02Hu9\\n\\nvemxDsE41EYB5c/7/esD0vSyXd5xyAz+o9nesvG51EaXbZ+rP1FCdRLcYDnH1/rlMgHOokA7AEHr\\n\\n/ejBnBJ5jGojY52WBzAdzzkdMd6yMam5208hnB/X+9Y1aQcuO457frhZDS1uMYPPTjuWBgDGMuG3\\n\\nTfbb7Oiztk4ODzGDyWOfogk77DH6+KyQdIAPLHTksAjbAycb9396yMZJB7s4Oc8lgekQBl2NsHfH\\n\\nr8Fl3o4dnLQOo5/rn6lg4aC0AacAEn1LouAvR44tYBJDZSMHffSRn9fWvv6Iv//TjQ+SziSSJkrB\\n\\nSaXNDgBNvjY92OX18+9Z+SjifSfQpTnp22PzLJ8lXEwJxHSkdR23P6ueEPkp4m5GOkcMkjE22+x6\\n\\nIfJRxOOQpcEbgTfmwsfJRxMRu2l9k2MfUs/JVxOSRopMHb9m6e5Y+SniY4zHS7DO8wI9XJD5KOJh\\n\\ngBtKWj+Gzn3hZHkp4m1ZLKU+PbfoWB5KuJ+fZ0m24zN193inyUcTOJ9ClHiZuaz8lPE+rlS7de1H\\n\\n9ywPJRxMGn0KYHwn/Qs/JVxPudFJudwJv0LA8lHExbs2kaenz39wT5KeJySdNLv0MwGfcO5Z+Sni\\n\\nYY0spfbN+hD5KuJtz2dKQcHAmHMck+SjiZoBa2lGOjZserosDyUcT4+hSYHTtgPsH6hZPkq4nB9G\\n\\nOlIA2zNz+r9cp8lHEuzdFLp1c+2zjHXl13WD5KOJwwANpRnJOJs4PuWfkp4mLwezpMcv2bp7uX27\\n\\nJ8lPE+foUuAc7zb/AGeA/UrHyU8Tl28dID3mbb7P1+pD5KOJ8BoFLtyPajb6v12Wfkp4my4mOl3P\\n\\n+3/QnyVcUYB00gcMHPbfo/XKwPJRxKc4jpW9x7YZ7+gT5KeKM/Rpc459sPq2Wfkp4mA2ZS55fs+R\\n\\n9ifJVxPz7Ok5Y2m/Qg8lHE2MhlID/wAb6uSwPJRxORgtpd+eZgPzLPyU8T4GGUveczfoWD5KeJ9O\\n\\nOzpd+6b29yz8lHE4yQ2kBJ6TfmwsfJRxNgehSnH8MB+Zf//U0HyU8TZwGUmM9Zvs2WD5KuJy4Zjp\\n\\nfX2w2+r9frWT5KOJ8EaaQ56dtkDn3jl+lPko4mJ3ZSnbGe3/AEJ8lPE7mkFlIM9e2/R6lGuHk34g\\n\\nt1FPX1UVN2ULTJIRJk4xvgfqVyoDsD0iTnB2yRy39fL6lgYGDjc7c9s+3l6+/KDkM/inoMHnucew\\n\\nrdS0ktbWQ01OwPnnkDGMzg6nHAGegJJXQDyc8W53tTjn+GiH16kHk64sDRizuDgdvnosHH87l+lG\\n\\n+Tni3Gn4II7/AJ6P1flIPJzxYCD8EuG3SaPbw+kh8nHFuk/4JceuO2iH9pD5O+LAdrO7B5jto/vI\\n\\nfJzxYQQbQSByHbR4/wCpPk54t3/wS7GOXbR/ZqT5OeLMb2h526TRgj+snydcW5I+BzjGP2WP7yz8\\n\\nnPFhwTZySO+aI/2lj5OeLQB/glxAPLtozn+snyc8WA5NoefHto/rGpPk64t/9nO3L56P7yO8nHFh\\n\\nyfghx5f6aPf+t4BZPk54t1Z+CnHH8LEf7Sx8nPFYDgbO8HoRPGfd6X6lPk74t3Js5yTk4mj9f5St\\n\\nuFeC7/ZuKbbW3C3GGnjnw5/aMOCQQDs4ncn7F9lRFootqCnGnT803bu2C3oiIiL/1fsyIiIiIiIi\\n\\nIiIiIiIiIiIiIiIipeMc/E+64BJNK8AD1L87huMNJBIBG3hv9hWTjGSSQ7mdtgPsI/Xkv//W4Qgl\\n\\nwLzsdvWD+fJ5+tWvCw1cV2c6cg1sO2Po+mD+b6uS/RiIiIiIiIiIiIoNzALaXPSqj6Z6qciKPQDF\\n\\nuphzxCz7ApCIiIiIiIiIv//X+zIiIiIiIiIiKsvovQojLY5KfziPJ7KdmRL4A5GD9S+XT+VDiymq\\n\\njTT0tLFO12h0RgcHB3L8pfReFZuJKuj86v7aWAyDMcEURa5o23cSTjrtj+5X6IiIiIipeMQDwdds\\n\\n/uV5+pfnh49HGQNWcdMjA/Nz/Qm7cH6OrO+em5/vQsaA4fi6iPWDv/dsrXhVpdxZaTnJ8+gJx09M\\n\\nfm/P4L9GIiIi/9D7MiIiIiIiKFcwSKUDn5zH9u/1ZU1EWiiOaGAkY+absDnp3reiIiIiIiIiIiIi\\n\\nIi//0fsyIi0l9Rg4gb1/0n6F5MlV0pmH/wCX9CGWq6UzP+b+hZMlTjanYf8A5P0LJkqMbQNJ/wCJ\\n\\n+hQJrXTz3SK5S2mnfVxDSyYv9ID3e7uU3tarP7WZj/i/oWe0qNWOwbjv7T9CGSpHKnaf/k/QsdpV\\n\\nZ/azMd/a/oXqJ87nYkhawd4kz+ZbkRERUnGWPiddsgEeavzk46fUvzy3USAcDPM4xvt9W/uCy4AA\\n\\ngEtxnYHGO7n6z+pQlxed9JI2J2BHL+7uVpwu8Hi207DPwhEMZ5fOD9K/RiIiIvL3sjbqe5rWjq44\\n\\nCqavi7h2idonvNIHb5a2QPI9eM4Xq2cUWW81bqS3VzaiZrO0LWsdgNyBzIxzIVsiIi//0vsyIig3\\n\\nMkCkx+6o1ORFooiHUFOW5wYmkZ58gt6LzJIyGJ0sjwxjAXOc44AA5krUa6kbAyc1UIhkIayTWNLi\\n\\ndgAeXNbGyxvkfG2RrnsxqaHDLc8sjova0GspRWCjNREKks1iEvGst78c8bLdnfC0mtpAJiaqECD9\\n\\nlJkHzf8AG7vatrHskaHsc1zSMgtOQQshwcMtII8FrfU08We0njZg4Op4GFtRFjUNWnI1EZx1WVop\\n\\nq2lrO082qI5jE8skDHAljhzB7it6Ly97Y2F73BrWjJJOAEc5rGF73BrWjJJOAAvSxqGotyNQGSOv\\n\\n67LXNUwUwYZ5o4u0doZrcG6ndwzzOx2RtTTvmkhZPG6WLHaMDwXMzyyOmcr2XNDg0uGojIGdyvSL\\n\\nDXNe0Oa4Oa4ZBByCFrmqIKYMM80cQe4MaXuDdTjyAzzPgv/T+xR1EMzntimZI6N2l4a4EtPce4rY\\n\\nvLXNeMtcHAEjY9RzXiGqp6h8jIZ45HRO0vaxwJYe493IrYXAEAkDJwM9VledbdZZqGoDJbnfHevS\\n\\nIiIqXjE44Pup2/ar+fTZfnhrQ5o0kO6accx4fWEy5jRyGMZdz0joefr28PWn0Rgnlk4ByAAe8Dw5\\n\\n+rvVrww7HFlnz+74ck5xnW0D24/Xu/RiIi1VVVBRUz6mqmZDDGMve84AC+Z8QeVaaaV1Dw5Skud6\\n\\nLZ5Rlzj00MGefQn3KLTcC8XcTvbU325yU8Ltw2d5e8epgwG/UVf0/ko4cpIw+sqKmbAwS6RrG+4D\\n\\nb3qwtlq4K4frHyW+spaSoe3Q/wDDySRkEDBd4BdDAROzVBcTMAcEjQ4e3AWxzqiNuSxs3gz0T7ic\\n\\nfWF7injlLmtJDm/Sa4YI9h+1bERERQLpjFIf96Z+dT0Rf//U+v0RzQU5yDmJu45HYLeiquJRVGw1\\n\\nopzDp83k7TtM506Tyx1581x01VcZZLDaqiS3x0QLHiSSFxjBEJcxrgXDUds7EblqsLFVtfdqupkv\\n\\nNrbWVNcYdoQXztaAA1p17NIG3j1OVJ4gmih4qgElfHRB9A8h01U+FjiJG4yWuaSRqPXqVyor5JI7\\n\\njJDchPXip7KnqIqqTW2ISDAB1HLNydyea7KzMo3Xmr7K40klW+Bo+YqnyysbyydbiHb5xtt7VQ3I\\n\\nyU0PFEfnFwnd6Qlf5tF2bh2DManBuRt3bY8clWBtUcfFLoKiOpu8XmLXxtPZNMeZHbDGgYHTmfcv\\n\\nVqqX2jycyVlGwQyxOmeA8atxK4b457DCxxfSvpqATvp7fVVc0zNAZQfOP0nWdy/JAaw58NlaVVXd\\n\\nBDbpoLhSPiqp426mUrvSY7fbLzzH2rbfDTUfYVD6R1Q+oqI4NLZSzd2wPPHcPUo0TI3XiG3y2p0I\\n\\nlhfM5zqsnTpLQPRB3zqWvhy2Ub7jcax8RkqKWvlihle9znRs0t9EEnludlD4hggt11oKaKokhjq2\\n\\nSmR00lRN9HTjAbID+Nju5KCZPMWQx0l0j+fqY2CNkNYzJfK1rjl0pHUncLpbpbqK3cN1/ZwB7Io5\\n\\nKjTPI94Lw0nck5APgepXLXOegksNe+kp6GKrp6Q1BMNfIZYdueNA3B6Z5q0r71BPbKlkVFaqwxOi\\n\\nbJEZ3PaNcmgEgxjO5K6C6xNj4crYY4wGtpJGtY3oNBGAuDpDSxWyjkk82YHNbECbVUZMmMadQlAL\\n\\ntjsFfcHwvZfbw+SjEI7OnEb/ADWSDUMPzs8k8+49ykcW0ssj7fJ51VFnnjQKeGGJ/pBjyCNTTvt1\\n\\nOFzdyhknt3FVa6esY5j2MfFNHGwvzHHguw3pkEYK6Kkt1HBxhROitL6MtoqggyFpydcQyNLj0cRv\\n\\nzzzzvF/mt89yFG2wtqbhM1wZU1FFra0Nxl24y4DUNhsdt+qqp7RRyUElttFrpJpoQ2GeartzjI15AJ\\n\\nfkdcOBAxt6uXTWWWhfw0YaSnqG0tKJKfQW6ZH6MtcQG75JB7jlcY2irbnPQUvm0xq4HCepAc93Yg\\n\\nBwaDmfmcjb0TzOy9+bVNNRXhz6iag7atLHTue5mCWNxlzpwD1/K9fd0tVWtvFpobhSw6YXFzmdtR\\n\\nPqH45Ajs3jAPPO+Vm1urKaOeKhjo26pi7RNSvo8nAyWjcuBOdzuq+x01XWXOvrKZlDHUQV5L52SO\\n\\ne2VromEt2xkYcCM8iAd+ttxdg0VA0sMjX3GBrowAdY1bt323VZWwU44mtULbA6Njopy+LEPzgAZg\\n\\n4DsbePfspVlpqdnGNykjtwo3Mo4GtaQ0EAukJxpJG+B7l06//9X7MiIipeMiRwfdcHGaZ4+pfAaO\\n\\n1VlxLxRUstX2YOrs25053GR47jx3Up3Dd6Y0u+C6nUBqcNDjtnl+v515peH7tV1MUTLfVEyOABlh\\n\\nLQMkDJcQABnPuUvh+kno+NbXT1MfZTx18LZGE5wdQP8Acdtt/BfoVERfD+PeLZ+Jbw630b3Ghgk7\\n\\nOFjf9K/kXEA79w8PElfR+C+CaThmhjlljbLcnjMsx30Z/Fb4ePVUfGflMNsq5LXZWMknjOmWpdu1\\n\\nh/JaOp8TsuJga/iWmmqrxfZpJGyaGxOqYm7EZyBI9oAz0Hq2XpnDFrfnTXO3IwBVUnP/AJ/uWyns\\n\\nkNDfoLY2tulNWuLTmFsbuzBP0iWSHGOZ35bq1sPlMuFpuLqK7TG4ULHlgnP7KADjUDyI2zuT619W\\n\\nilprnRxVVLMHxyN1RTRnv6j+5bopC/U12A9hw4A+4+1bEREUK5cqX+Ux/apqIo9BgW+mA5dk37Ap\\n\\nCKl4roH1tjqS2tqKZkUMjnthIHajSfRJ7tvdlUDqM0tVwk21wQRvmZJI8yZLXnsObiNycE4U7h7z\\n\\n1r6p8lXRQMF1lbKwwuJldyw1xcMeGx5Y3WOIzM+ru8tIZfOKW0hsfZtLiHvc4jTjfV6A5eHcqJ9c\\n\\nZLrS1roqp0NJDLDPKH1GI5HFnok8wcgjb+5f/9b6Lwl5ybLUzOieyWSqndG2cvzjUQ0Eu3xt3fWu\\n\\nfraWpqPjIJoKZ75tpZ4ZZS2AmMMIIDfS0gBxGNsq1scdTeLtVV01TE2OCCOmjloXnTJguefScN8B\\n\\nzeXXPqUCpeWeSeocwudh7xlpySPOCF1tNbi2tdX1UgmqS0sZgYbEzPJo8dsnrhc1dbZNY6y2ikrX\\n\\neY1F3h0Uzzzz57Eu1Fwa7P0T+TjZX3EFuqrlTUrKN8cckNXFMXyDIaGnJIHU+C0U1puDOI47lXV0FQ\\n\\nxlI6BgZF2ZBLw47ZOdmjr7Fp4QcXMvRzkfC9TjfPULFVDNV1Bnm4ernSHqy4NYOXQCQDoqqgoq+8\\n\\ntm7VlXDSQVL4ewgr5Gl4aSMOcXnYfvcbjn0V5dZamThG7+dUfm7m0kwa3tRJqboOCT3+v3lcjxHb\\n\\nboOH6u8FjexqKEQSQl28UTC0xuGM5J9IkDlqHcrC/Ud2p2z3CUMdBcJaUSxuePwXROzswO/Icc46\\n\\n8s9euuTq0Ujo6CMOnk9FsjiNMX747747hz8Oa5CWzmgittNHT3bQazUY5XU2HO0uyef0uZyffnC6\\n\\nS3wzNuEk9S2uhAAjj84qmuZIOvoNJAOevPxxsofFT6xrqPRHA+FtUwsj1v7SV2CMaWtOwzk4zsFz\\n\\n9RFNNVXK0RilY+5VcTZqV0r3SxjS30hluC3Sxzs+zYhXroH03HtvYJp5WuoJ8mR2cenH+j6lPvFI\\n\\nxtbT3eS4vo46OGVjtDWku1ln5QI/F5Yyc++kscdzPEFVHUV1TT+ew+elhZF2jfS7Nodlmx0MbkdD\\n\\nlXNroaejhmsbnyzkNM8sxOkv7V7zuQc52PcuMntbIb7cmR08NLE6paynj7EuDy2Nu7cQvyevPnn2\\n\\nyKS2A8QW2CWKOfs58TM7E4aOzeRnMLRjl19i6y+ERm208UMTnTVPZMa9zmAAMc7bT/F5cly9xntL\\n\\nre+mdR0vwgLm0CCBhllc1kzQ52+5yGn3qcyvHDt2rZTbvNYK+FjqSB2hgdIz0S30chuQ5p9jttld\\n\\n32AVstvoQ57TJUdoXRu0ua1jSSQfWWj2qkuVpazjG0Rurq3Q6mqC6V1QQ5oGjYHoO/kp9npWUvF1\\n\\n0Yyeaf8ABKf0ppC8/Sl2yujRERFS8Y4+J12yM/gr9vYvzycluADpd1z7h79vq6lYOcAjfOTtnYbn\\n\\n6z+vRf/X4ZwxqJDdIdnHIDI/SO/lywN7PhVrfjbaQQMitgzjffWP19y/RiIo9cXNt9Q5mdQicRjn\\n\\nnBXwTgjszxpae2Ho+cAt3649ED24K++VvbeYVHm+O27J3Z5z9LBxy35r8zyAiXEw9IuJIeTnOeuf\\n\\nat1HRz184gpItbw3J3DWtHVxPIAHr0V7RUtPQt7amqGs0HE1zlY4MYcbthbzc7nvzHgBk19Xd8wS\\n\\nUdAx8FPISZZZDmao6+m7+yNvWd1VYbnDgzY4O+ce/mvuPkudUHguITMLWCZ/Y56szn/qLl1Lf2+/\\n\\nGf2Jue7m7H51znHl14htVtgksFMZHPeRNK2PtDGBjHo+O+/h4qu8n194qu1VUx3une6mYzLJ3wiM\\n\\nh+R6I2Gdsnlsu7RFCuY1ClGSB5zGfcc/mU1EWiiJNDAS7UTE3fv2W9FDudpobvTGnroBKwgjuIB5\\n\\n4I3GVrqrFa63zUVVDFMyjBbCx7ctYCAPo8jsBzWYrDZ4GNZDaqKNrDlobTsGD3jZKmy0NW55lZKe\\n\\n0eXyBs72h5wG+kARnYDAPLC301BR0dN5tTUsUMOMdmxgDT7FqpLRQUElQ+kpxB5zjtGxuLWnGdw0\\n\\nHAO/MYW6Cjp6Wn83p4WxRb+iwY58z6/Fafge3G3NtzqOJ1K0YET26gPHfrud+a8myW82YWcQFlEG\\n\\nBgja9wOAc8855+O6nqvmsNpqLlDcZbfA6rgcXMl0YOe8957s8lYLRV0VJXxdlWU0VRH+TKwOH1r/\\n\\n0Prtvt1HaqNlJQwNggZkhje88z4r1V0dNXQ9jVwRzR5zpe3OD3juPitdttlHaKNtHQwiGFpJDck7\\n\\nk5JJO5W2rpYa6zzzzpKhuuGeN0b25xlpGCvM9BS1NCaGeISU5aGljidwOX2LRWWS13Coiqauhhlmhe\\n\\nHskLfSBHLfr6jsttZbqO4aPO6dk3Z5LdQ5Z/8KM3hy0Me17aFge05a7JyD4HPr957yvUlgtcrmOk\\n\\npGvLHBzNTnENcOThvsR381KNFTGtFaYg6oDNDZDuWt7h3eOOaeZU3n/n3ZN857Lsu066M5x71Hp7\\n\\nHa6W5PuVPQwxVUjNDpGNxkZzy5Z8ea3Ot9K+tFZJCJJ2/Qc8l2j+KDs32YWm4WS23VwfW0rZHtbp\\n\\nDwS1wHPGQQVijsVsoNRpKRsL3x9mZGk69Pdqzn61iGwWqGcVHmbJZxgiacmV4x3OeSV7r7Nbbng1\\n\\nlHFK9v0ZC3D2epw3HsK9V9qormyGOugbPHC/tGsfu0nBG467E81mgtdDbIjFRU0cDC5ztLBsC45O\\n\\nO4bDYbbLNdbqS5RMiq4RI2ORsjNyC1wOQQRuFtFPEKk1On50sDNRJ2bnOB3f+O5eZaOmmnbPLCx8\\n\\njWOjDnDOGuxke3AWmgs9utks8tDSR076lwdKWDGojl6vUFNRERFS8Zf5n3X+TP8AsX57poTV1EMD\\n\\nPTfK7S1haSHE4AI7zz8VtraOekrJqOdwM0TyHFmHAcuRGx8N8b4Xqrt9VRNgmnDGtqohLGWyZdpI\\n\\n2yAct2PX196l8MFzeLLQ13o4uMQzggH0xt+u3pL9GIiL4hx1wrUcLXo3Oha5lFLKHwyMG8T+eknn\\n\\ntvjwx3HH0jg3jOk4momRySMiuLBiSHlrx+M0dR4dPcT/AP/RveM/JpLW1T7nYNAllcXTUr3YDieZ\\n\\naTsCT02/MuKObRZ5bNerdcqWR1R2pfENGtuMBpJByAeWNvzyDxTbXU8UDoZHwwsDWNNHSu0DwzGf\\n\\n/K20V9t8lRGG2d1UQ7IgFvpTrGc6ctizy7v7lOsXk2ud3uL6q5Qm3W9zy4RO2lIJ5Afi425+xfWa\\n\\neCmtdFDSU0QZFE3RFE3c4H681uhY5oLpCC95y7HIeAWxERFAuh2pNwM1Uff3qeiLRREmhgLgATE3\\n\\nIHTZb0REREREREREREREX//S+zIiLTpqsn56HHT5o/eWGsrB9KeE+qEj+0mis/28P/JP3kLKvAxP\\n\\nDy3+ZPP+khZV42nhz/wT95V817paa6RWqoulIyumGpkRjIz4fS5noMqw0Vn+3h5/7E/eQsq8nE8I\\n\\n32zCfvIWVmPRnhHrhJ/tJoqsfs0Ocf7I8/6S9RtqA/MksTm9zYyD79RW1EREVLxiccH3Y91K/l6l\\n\\n8S4TleL5TxCIuE5MTntA1RgggvaT9Et3OfBdNbaOmF3LKO3yRUUVqqBFPHD87XENIc7Gd3askN2O\\n\\n4z0xssrJ215nkZdmuio53skqreyOPaNwAz4dB4brkOFtuLLOGaTproRluDjL257+ncv0YiItNVSU\\n\\n9dTPpqqFk0Mgw6N7cgr5nf8AyV1VNUef8NVTtbDqZC5+l7D00v26+rHeVopfKBxVw3iDiC2STxNO\\n\\nntJ29k8+pwGD7j61fUnlY4cq2aK2GppTj0w+MPb/AFSc+5WVovXB97ndFbqeCaYNLnNbQnOARuTp\\n\\nxjcdVextZS5bTWxzAefZtjaPtC2AVcg9IxwjGPRy8+sE4A9xWyOFsWSCXOdzc45J/u9Q2WxF/9P7\\n\\nMiIoNzzikIHKqjU5EUegINvpiCSDE3nz5BSEREREREREREREREREWszRNdpdKwOzjBcM5xn7AvTn\\n\\ntY0ue4NaOZJwEc9rBlzg0d5OFkOB5EH1LAe0uLQ4FzeYzuF//9T6lffhqSidDYX0cdU7nLVOdiMd\\n\\n4aAcn17etfMpvJRxPUzPnluNBJLI4uc98sji495JYvoXCtLxHQUfmd9lpKhsYxFPDK5zyO5wLRn1\\n\\n/wDlXrXseCWODsEg4OcEcwsggjI3Cw57GNc57g1rRkknAAXpERERUvGX+Z91/kzvsXxrhWSqp4bm\\n\\n6G4VFDAIWtc6lIDjI57RG3PP8Z3I9PHC6u6+b1t2rhWyy1FJBVzmsa6pLfN2DADmgHcODg0NPUd2\\n\\nceJ6ijqrRZhBbXPlgpZKuiozLtI0yO1xnIy/DQ042yGnllchYJBNxtbJDTxU2bhCTFHqAb6YwACc\\n\\ngZ8T171+hkREReXxslYWSMa9p5hwyCqaq4N4arTmey0ee9kYYf6uF6tPCNisdc+tttAIJ5GFjniR\\n\\n7stJBxgkzzzzArlEREREUK5400ueXnMe/dupqIv//V+v0QxQU4xjETfsC3oiIiIiIiIiIiIiIiKtvE\\n\\nkjG0cY1iGeqZHM9hILW4JG473Brf5y4u9x1Ut3uLTh0QmlLWNlLy53YtGcFzBs0kADP0iMFeeJh5\\n\\n06B7HCSZtOyMQMZ2mXB0h0E6nDBLQ3rzW10P+AaWOOGpkkZXPY40zy550Rlmp4LjnOzvo7A9M5My\\n\\nwTOhuMTtbYI5WySsz84Qx8ww0gDLcgZBJcMeA3sXyy2yqFyluVS+klqdLtbYw17BE7BJ0jA1AAEY\\n\\nztzzlarxDTVVRcrg9lM6OKljjE0+jDXgPdgEtO/ps69VbMdTS2yhEsdVEHQsLWU3ajTkDYmPu8VI\\n\\nYx3ZSNoHdi/VlzqiJ7gcjuJBPTqodh88fTSGWWIBlZUAhkRGvErx1cVRUxjlNC9zKN0stwy5opCJ\\n\\nGESF27842wOijXBs1RxPXxvlnkhDwwxGTLezzDqy0n6I7Rx5Y28Ff22qlxZSyZ8zquJ75w46ssLd\\n\\nWv2O0geDl0C//9b7MiIipeMf8z7thocfNX4BOOi+B0ZrZB2FLE6RuvtnMYzUHFud8c9su9Qyreoq\\n\\neJr9JJWQWueWJ1Q6aRsFF2sRkLSPSGCH42ADs4ClXKDi+8VtPUtsFTRvomfMCmonRNaR6RcAepLi\\n\\nfXthQLFWz3Dji21VW81E0lfCXSE8zrAzjvGPYCdtl+hEREXP3Li6K1VZgqLNdSztmwtnZC0xvc4g\\n\\nDSdWTknHLKsm3WB98ktAZJ28dO2oLsDRpLi0DOc5yD0WyO5UE0jYoq2ne930WtlaSfZnwKr73xKy\\n\\nx1MEElruNV2+AySmia5pcc4Zu4elsThWb6yngpm1FTK2mY4A/PuDNO2cHPVbHTRMY175GNa4gBxc\\n\\nACTy96yJGOkdG17S9mC5oO4zyyF6RERFCuWMUurGPOWcxlTURaKL9owbEfNN2dzGy3oiIiL/1/sy\\n\\nIiIiIiIiIiIsOa17S1zQ4HmCMhY0N1atIzzzjdZwM5xv3oGgEkAAk5PiiyiIsABowAAM52WVgNAJ\\n\\nIABJyfFYDGh5eGjUQAXY3IHIfWfevSIiIqXjIE8HXbGM+avO4z0XwazCidVMFZLU0jiQIqpm7YXb\\n\\nbloAJ5DcH2HYLoKOjkvFLU8RVFXPPUNrRC80tCyobIC0YcWEtAHo4JPMnO2ST//QsJrPBNcKG20Y\\n\\nudqirmRPqfNreGMkLsO9J5kJbgYGk6gCDgLi+HNLeMrWyN7nx/CURY57A0lusb7ZwcEbL9FIiIuI\\n\\nrL3FU8dCOvpK9tHa/Rpg2klcyaodsZMtGMNGWjO2XE9AraGGceUSrn0P7A2uJurHo6u0ftnvwuBs\\n\\ntNaqngqanbZaia+TTSGnqY6J2ovMh0PbKQAA3YHcY0lfRb7HK82YBrnFtwjLy0ZwA1258MrmuMrd\\n\\nNNxdT1VZBFLbjRGON8ttdWtik1b5YDsSMb+BC32ihko/J7WU9fSzzRTPkNLSth7N4a4jQ1rcu0+l\\n\\nuMnYc+Ss+Cqapo6Grp7kyQ3VtQXVk7xkTk/Rc12AC3TjAHLcc10qIiIoN05Um2c1TOvrU5EWii/a\\n\\nFP6Wr5pu/fsFvREVJxXeaiy2pr6GNs1fPMyKmhdv2jidxjIzsCtlzudbaOGJ7lUwQOqqaLW+ON5M\\n\\nbiDyDiARkdSNvFRoOIrlURNfFwzVuLmtfgVVPkA8iQX5G3gj+I7iJ3wN4bqTKxussNXThwb0JGvO\\n\\nNj7itvCV8qeIrEy41NGKUyPcGaXZa9oONQ6jqN+5XaIiIv/R+zIiIiIiIiIiIiIiIiIiIqXjH/M+\\n\\n65z+1X8vUvh3DdROLvR0zKeKds87GvZNSMldjVg6dTSW7A8u8+zorhNBFw7dnVdL2sbeIC1kTJBF\\n\\nhwjeBvgjHrHXKsIKdk/E9tdS2uV00FFSydqKxvzWImkehjLgO/kT7lyHDun45WtsTvmxcItGPSGO\\n\\n0HLr7fEL9EIiIi//0vsyj0VFTW6kZS0kQihYSWsGcDJJP1kqQiIiIiIoNzzppcc/Oo+meqnIij0G\\n\\nfg+myMHsm7d2wUhERcbfaibhjiCC7zRTXChm1xRR6nPkp5Xb4YOodgDw5DbZV09BWx8J8RV9yrpZ\\n\\nLnUwudPRNmBjpsgFo08s6QN/twpEtxgoKu1XQRV9KyjpxFWyeZSOzzzzi0ej6TQRs7BznqVm0hlbxE\\n\\nb9X2m4PqanIp3ugcGUcY2aM7Z1A5J3Az6yrTydEO4EtpAAyJNh0+ccumRERERERERf/T+zIiLGR3\\n\\n80yD15LKIiIiIiIiIqTjIZ4OuuWtcPNn5DuXLqvg9NeKu30FZS07mDzoFkkhjAeG4GpusbhveORx\\n\\ny2KkR8SVT4I4ayCjuIjZoidUwte9reQAeBqxjkPtUz43Foc2PhuxxO3blsDxjbr6e5wPs8VH4fqf\\n\\nOuNLXOYoWarhBhjGhjWjUBgY2295x45X6HRERERERERf/9T7MiIoNzOG0p3x51HsPWpyItFFgUFP\\n\\ng5HZNwfYFvREXAXuHi8VdXfZ3WtlPamSuponB5dpGTrxuNRaMZPLfYKBfKG/1Fj+MU9XBM2pthbV\\n\\nRRR9mGNLdTBzOohzhv08eanXia7VFLauHG1Nv83vVOY4y6CQvYxsbTkuD8Hu5DougbQcRQMo4219\\n\\nAympmaZY2wPzK0DGMl23r7/ctPk6/wAw7Ye9rznJOfnHd66ZEREREREREWuWeKBuqWVkY73OAUdt\\n\\nwEv7BTVEgOcOMZY3+tjbfmMrB+EJmtDuxpWkelgmR3s5Ab+tRp7a2WrpYpp6icDVI/XKQHADGNII\\n\\nHNw6d/eo8dNWuzWW4iGIFwipWnSDg4LjuWnO5wMdN+alNvcUTzHXRupXjq/kdsk+rx5eKsmva9oL\\n\\nXAgjIwcr/9X7MiIiIiIiIqXjI44Ou24H4K8ZccDl9S/POrUG6SQOYwCCR0JP5x396PDi3GnVjOSD\\n\\njIxg7H1j6u/IOeBnJOCfAHOPr6+O6teFnNHFto9MHFdE0EnH445dOWPdjov0WuWqOMaOqulxsdLS\\n\\nzS1dLE53ptIY8t+k3bJ9W2/tGamnrqkVRhiilzDUxSTMD58Euc0j0TH6LW5GckZAzvk51cVVM7b/\\n\\nADQPfMyNre2hzVOa05a5n0S8fjZO2NhyIJxacOVlXHY6yacy+aNIbA4ONS7I9FzQ0ZOn0cjP5WeX\\n\\nLdRxTNtdjeZqxjqqRkb2umI+bMTjjDTgcgQR6XLJzleuI6yZkdyp5H1DKdlOwNaKUytfqyD6QHfj\\n\\nYn7VukuE/Y3QSTkxU9Ox7XVETqdu5fqwcAg4aMHocLnG3StmuAmkkm1NlZ823U52BG/liLfGrnvn\\n\\nScatlfX6orpJaAQUdY/Eb5JOxnEOoaRn99sSNi0cuS2Wmt7eluHYGSoeXF/a+hM0ZA0s9Egu/UZC\\n\\noHXm5S19I1j5Yezja6OR0Ika3LQ7GoyekXNcAS7Gkb+KmcYi5FtHmtMD3QGRzYyWBhZpLjsTk+lj\\n\\nnsAdz1cOz176a4TVdwmnkiomvA1NZkHWQdRbkH0efIZUYVEksEVLSzT1GmWMSRNqXznR6GvJi2LQ\\n\\nHYII692F2ttkdLbaeRzmPL4wQ5jXNBGNjh24271KRQrkQPNSc/tln51NRF//1vsFGCKKAHGRG3OO\\n\\nXJbkRF87vFM6udxfeXagyCA0cBa44OGfOZaDh3Mcx9ihcRySWrhK3zQRl8N2tbKepY0fjtiBZJz5\\n\\ngAgnuHgF0dxstyr6Xh+62mWn88t0WWsqMhkgfGAdxv05ZA35qZRz8XS1rRcKO2wUQY7tTFK5z3HG\\n\\n2n9Pj4LX5Ozq4EtpJBOmTcf8Ry6ZERERERFgkAZOwUUXGGTHmzZKkE4DoW5b/SOG/Wjn10sThFDH\\n\\nA47B0rtRHjpHPbpkKHcqmltlK6qu12fHE0Y06xEHuxnDcYcScHABKquF66M2hlVT2aqfWVAdPMRC\\n\\nYxrdvp1SEZwMDIJ5etW8pvlUwebeZUGSdTpAZ3HpsAWge8qHdaWst1qnrRdayerYxohDnsYwyZwB\\n\\npa0AgkgHOVZvleyrqZtTSyGBoDc/jbk/VpUiliMFJFEebGAHfOTjfdZmp4Z2FssTXg94VWLRU2/U\\n\\n621DtOS4RSHIzj2ZHXffPVb4bu0SmGrifA8DJLhsB3nuGQd+W3NWIIIyDkFZRERF/9f7MiIipeMc\\n\\nfE+65dp/BX7+xfngbNa7GnngnlnbO3TpzQEOGok7nGADnO3Ujny7+Y54RriAXtGCNnOaRgjPXvHj\\n\\n9iteF8DiyzkuIDq+IgZ2Ppjw7zz7u7ZfoxRjQUoqJKmOCOKpkaGuqGRt7QjuzjdRZrDSvkc+GWel\\n\\nc9hZIYH4MgJJy7IOTknfnuvM3DltqauCpqYe3fTxiOMSbgADr+V1553K2U9kpaS2T26mdLFTzasB\\n\\nr8mPVz0k+vO+VsktVPJLRP1ShtCcxMD8tJ0loznnsTuttdRx3CilpJS5rJBgluMjfPUFeqyljrqK\\n\\nakm1dnPGY36Tg4IwcKBWcO0FbUS1EnbNkmGJCyQjV6IbnHQ6RjbGy3zWikqJ2SziSURs0tic89mP\\n\\n5vI9OfcsfA9K1s7I3TwxTtIfHFM5rQSdy3B9E+rChv4TtvbNlgM1M5jHRt7J4wGu5jDgdvBWEttp\\n\\nZ4mRzx9qWROiD3nLtLsZ37zge5QabhihpQ8MkqDqgdT5LxkMPiBuR0zyWYuGaKKUS9vWukDS3UKl\\n\\nzDghg5tx+QPrVlSU7KOkhpYy4shjbG0u5kAYGVuRQbp/qnd50z86nIij0GBb6bTy7JuPcFIREVPd\\n\\nLDHUcOVtpoGxwedNfu/LgXOOXF3MnOStVfYJ6ngj4AiqGsmFIynEuMNy0AE4HQ4VtRwGmooKckEx\\n\\nRtYSPAYX/9D6JeuE3XBsslvvFxttRI7UXR1UjoySd8sLu7OACPcrOx2mKx2amtkLzIynZjWRguJJ\\n\\nJOPWSp6IiIiIiKuvcjxRMp45jC+rlbAHh2HAOPpafHTnHvWo1dbWmaC0tggihOgVMzS5pcCQ5rWD\\n\\nGQMc8jdPgSWfJrrtWzhzcOjik7BnPO2jDh7XHZSKWy2yjc58FDC17sapC3L3Y73Hc+1TkVTfsS+Y\\n\\nUeCe3q4ycEjZh1nl/FC2Fk5p5XCRrnT1ADQdw1mWggH1NJ9ZVkiLTPS09SMTQsf3Ejceo9FWOtld\\n\\nQvL7ZUuMWP2vIQRn/wAeIOeZUiK7Rtm83q4nU0wxsTqafEHu8SrDORkLKIiIiIqXjIgcHXYn9yv+\\n\\nxfnhuvl79XUg4+zx6bI7cZcW6T9Fw6AbZG3tP6Sv/9HhTqe/cOaRyOfo53ztsPpfX4K04WweLLQ5\\n\\nrtjXQYIdv9MbY5dD9e6/Riw5wa0ucQANyT0WttTC+aSESDXEAXjuzyWuquNDRODaqsggJxgSSBvM\\n\\n4HPxXuqrKWhh7arqIqePIGuV4aMnkMlYgraWqDjT1MUoY7S4seCAe7ZeZ6+kppDHPOyNwZ2hDvyc\\n\\n4z716kraWKkfVvqIxTsBLpA7LQBz3CxHXUksj2R1EbnMIDgHDYnl70fX0kcdRI+dgbSnExz9DYHf\\n\\n2ELNRWU1LEJaieOKPUG63uwATyBPReYLjRVU3Y09XDLJp16WPDjjlnb1rTJfLTDOIJLlStky4Fpl\\n\\nGxbzB7iPFSPPKXIHnMOS3UB2g3HPPqXoVMDonSieMxt2c8PGB6ysxzRSsL45WPaObmuBC1R3Cklm\\n\\nELJ2mQvewN3BJb9IezIUlQbmMtpdyPwqPr4qciLRQ58wp9RJd2Tck9dgt6IiKFeZpqeyV09O8smi\\n\\nppHxuABw4NJBwfFQeEaq5V/DtNXXOohnlqWCVhhZpDWkDAPefFXaIiIiL//S+zIiIqS61kUV5g7T\\n\\nV2dBTS1suB0A0gf9Rx4BTbLTCks9LDo0Hsw5ze5zvSd9ZKnIiKqqn6+IacDIbSU0kr9jvq2H/S76\\n\\nl6hifG62wCQgsa6WTJyX+jg5/nPBz4eKs0REWuaCKdobLG14G4yOR7x3KrZZ57ec22c6Nh2UpJDR\\n\\nknbp19fitjL5BFIKev8AwScNDn6/oeOHd3idt1ZtcHNDmkEHkQVlERERaqqmhraWWlqYxJDK0se0\\n\\n9QV8t4q8lE0TX1fD8jp2gEmlmcC5ucA6XEb7Ac99uZyvnE8E1JUPgqI3xyMJa5kgILeucdNvs7l4\\n\\nIDQW69mkgOceXUY8due3r2yrbhUv+NdoIcNPnsBwBnHpgYz9f6lfotcf8KX65cT19lrLRGy1MaSy\\n\\ndwewOAIIy7k4HkQPEHqocNJRlj/OoKSaJjJKxs8gaGuax+M4awEtP0gM4Oyt+JJXQywylwmDHM7O\\n\\nEhhj9JwZu0uBccOODjA2xjfOito6mLhuopG1FdUP84jEcbwJXxAShwwY/S06RtqOduYKqqajoSyB\\n\\nlVBATVVLu3llAzF2dU8+mTkjWMs5nJGMr//T+gVNBU18t9gjrZBUOa3QGMaG40egwlwPI5O2N3E9\\n\\ncDTcpIJLMJKGonf+GU8lRG/Li5zpG/NkfinfdoGc+vfl+Gqesi4go2vFQ8RyF0sMmQ5oZGGEluMb\\n\\nFw2yeWy91DamprK75uNj5KlpY19NrDmgCT0SSQ0YeX6cb+/FzK2D4v0FphqGuM02syMpO1wWtEoy\\n\\nxo9PHotPfnfdbbEXRX7sw6GOSbtIXxx0ojcI2cnkg4B1EdD1C5i6zyUVxuz2Uz3innlHaSF7mkOP\\n\\nUZ05LvDHLmuqr6mhp6qWjknp3H4GlcHSPaTuRtg9MHYdy80lfTTW+iqrW+nc2O2vfWGPBZ9AYa4j\\n\\nYO1A89xh3eozqmGrpaCWzRecP+D3x1opWh2zowGtd3uD8bZyAHdMrD3Nd2cs0s1E0TvgMZmMfm7O\\n\\n2a5znFhwARlu+2dI7yu5h7PsWdkQ6PSNJBzkdN+qi3POmlwN/OY/tU1EWiix5jT4BA7JuAeY2W9E\\n\\nRFX8QHHDlzO+1JLy/iFUPDHFFnpuGrXTTVTmytpo2uaIZDvgbAhqn1HF9HDX09PHR3CeKXOuojpJ\\n\\nNEPdqyM7+Cv0RERERERczXubVVtxzGXtkkgt+CTjDiHPxt3PPht7ulAAAAGAFlf/1PsyIqJ7Yamt\\n\\nu5mBMTxFREEc8jf1j5weOx71ZMD3XWQkfNxQta055uJJd9Qb71LREREWmop4KmPRURte0HPpdD3g\\n\\n9FzdHcaczSR2evx2UjofNqknBcwnOgnbfB6j1hW8N6jEzaethfSz6QTqGWH1O7vE4Vk1wc0OaQQd\\n\\nwR1WURERFT3/AIWtPEkHZ3CmBkaCGTs9GRm2Nj7eRyF8m4n8nd4sRkqKZpr6IZd2kQIfGAObhvjk\\n\\nNx9XJUnCzh8bbS7JJNwiGSMfjju5+3u936MVZxDUOpbJUSxsa+QABjHBpDjkcweY+vu3Xz9l+u1Z\\n\\nNFUVFNNWREPMURoWuJBcC1rQc74afD3ZX0k0NHOWTS0UJkAGC+Npc3wz4LeyKOPOhjWZ56RheWU8\\n\\nEUbo44Y2Mc4uc1rQASeZx3r02KNsjpGsaHvxqcBu7HLJ6rwaSmcXE08RL3tkcSwbuGMOPiMDB8Av\\n\\nfYxdt23Zs7XTp16RqxzxnuXkUtOJnzCCISSDD3hg1O2xueuwHuSCmgpY+zp4Y4WZzpjaGjPqC9Mi\\n\\njj1BkbW63FztIxqJ5k+KxDTw08fZwQxxM/JY0NHuCzFFHDG2OKNsbG7BrRgD2L//1fsyLVHS08Rk\\n\\nMUEbDKdUhawDWe8969sYyKNscbGsY0Ya1owAO4BQ7m7SKQ9fOmD7VORFoosGhpyHah2TcHv2W9ER\\n\\nFX37fh65fySX/oKicGnPB9r3BxTtGR1xsrtEREREREWCcDJ5Lmbd2k9TbHsaAJ6iprZiDgkYLG5H\\n\\nqe33BdOiIioLW7zykhqHAkVdc+bHL0W50n+q1WtGXPlqpCQWmbSzHc0AH6wVKRF//9b7MiIsHONl\\n\\n84v8Ekd+rYo6g0rnPLo4fSxKHMBJHrIdnTy2zlYj4lqqZj4LhTGpY12RI85Y70RjSSdTd9Qycc+5\\n\\nXlvuUZe1tqqy3I1+Z1ByHDTyY7fH1K7przA6Xzapa6mnaBlsnI7AnB/vwrJERERFyHEXCdnjuFFf\\n\\noafzasir6bU6EhrZdUzG+kOX43Tf1rr1qqYnT0ssTHhjpGFocQTjI57EfauepeC46NtG6O4SukpZ\\n\\nNY1glju4ac9Om/LZdMiIiIiIiIiKDdOVIckDzpnL2qciL//X+v0X7Qp9tPzTdh02C3oiLwJY3DIk\\n\\naR3gqDfnMdw9cm6gc0kvI/vCo3CBA4TtjSRqFO3IVnVVtNRUktVUzMjhhaXPeTsAF4t9yorrSNq6\\n\\nCpjqIXcnMdnHge4+ClIiIiIiKFeZ30tlrZ4yRIyB5Zjnqxtj2qBZYy25TRB4dHRUkFMA0ei1+C5w\\n\\n7uRZ6varxERR6+bza31FRp1dlE5+O/AyoFrp208dBStGTS0YJy7cF2Bv68O9xU22g+YxudjVJl5I\\n\\n66iT+dSkRERFzzzzuO43piyenrJIhUxHSxkRO7HgkktB9EEtJ3yCMDC5GSWQMBjqHjsZHZE3MDcu3I\\n\\n1DYnvBwVujidE9hhe+jc4aCS0dm7GRyHoknI5b7br//Qu4LtdBJT0NTTishleGBmC8aSWtdv9IH0\\n\\nj4c912LrdXW0MdapXPhYN6SaTIwBgBpOcerICsqKrjrqVlRGCA7ILXc2OBwWnxBBHsUhEREVXxCM\\n\\n26EYz+HUh/8A5EatFhCQCASBnkiysZGQMjJ5BC5rcaiBk43PVCQBknCZGcZGR0WA9pJAcMjnusgh\\n\\nwBBBB5EICHAEEEHqFlYTIzjO/csoihXMZFL/ACmP7VNRFHoBpt9M3uiaPqCkIiKon4U4fqZ3zzWa\\n\\nifLI4ue8wjLieZJXg8G8NE5+AqHP/AatsfC3D0QIZY7eM880zDn3hf/R+qfFyxYx8C2//wCqz+5S\\n\\naO30VvY5lFRwUrXnLmwxNYCe84CkoiIiIiKqvzi+KkpWkZnq4w4Hq0HU76mlYsDWyMra1o3qqyR2\\n\\nc5yG4jB9WIwrZERVfEZLrNLTtLg6pcyAaeZ1OAP1Z/TySY6GXKanDBJFGImh3IEN1DPXHpqxhjEM\\n\\nEcTRgMaGjHgF7RERERV18oG3G1yxl0jXsGuN0TA54cB0B553HtXzWQyTBj3w+cMDvQkOWytJGB6J\\n\\nOxz1acnHJY84PpRwzapuyLexqC7ZoOHAkjUPRJG4OVO4ZoYqriaja2iqo4oPnWSA+gNIxgjdoGcb\\n\\nNO2R4lfTlBoonQV1czTpY+Rsrcct2gH62n3qciIi/9L7MqviAE26HH7upP8AuI1aLhL3xbFdKy6c\\n\\nONp5qd9NpcKnI+k17Ty6ZPIk93eq3h6okFrD5X1Ms8Upq5pdMeuONkTgcB+2Q52wx1JVjxLI5t1k\\n\\nIjdJpMepzmnJDW6juB3tB9HG+PWNNcwvsNydDUyxVLamN8T9Dh2uGD6JIAOTq/UheeHnvbSU7ny1\\n\\nTpKWUzVE+lgeO1Glpw/PMtIz0B7lacVMrKipAidO1sLtQkfkRQjTjX6B1ZB31O6F2AVHvNzfFwfA\\n\\n6WncI+3ZHE6GoMnbNbuXek3JB0uxkHkDyUCxXOWo4pppW+cudUvMjtUsh+acHlrMEAHSTnnjY43U\\n\\nC50NVR11yfVxzMdPJl50uHbME+rVkDlpLRseZGy6MSVVj4aootc8TmRySlrSGl7RHqx6QOnc4xjO\\n\\n3rUq3zOpbhBQRVU3YxyGNsbC1zX5ic/noG/rPPmubr5Hdo2FlBCAySMSGSL0mk1D43NPZ6mtBDBs\\n\\nMb5IGSrOScVNNaMlkLXsaWhlK1zWfOYaBkZHQbY6Kbww/N0mle4SmrPaQTmlkaZIRHHyc9xIGonb\\n\\nJzz6rrURQrmCRSgHBNTH07jn8ymoi0UW1DAMAfNN2HLkt6Ii1zsElPIwkgOYQSDg8lyHCtxuVx4a\\n\\noquq4hgile12pkkLC7AcWjJLt9gDlW+atztuJqbnjAgj/vUK0gXHiGaspuLTWmnHZTUcbWiPHqz3\\n\\n/jDxGV1KIiIi/9P7MiIqe5SsZeaWR7wGUUEtRIPDGkeHf+vKRYYDT2KhjdnV2DXPz1cRkn3kqwRE\\n\\nVVeNUtZbKYN9F9T2jnac4DGk+w5xusOBNC5wZ6VVWNzg5Lm9oBn+g33BWyIiIiIi4Pi7hqCkl+Eb\\n\\nfSNpxJqNTJE4NBJ6ua70MHJy7AI71zsgkqOwhdTyVgcwuhe3DXMcB0Bzv4tcSe5dzwTY22q2OqXR\\n\\nSwzVmlz4pCMsAzgbeBzvvvjoulUWI5uVRh2R2ce3ccuUpEREVXxD/k6H+XUn/cRq0Wiajp59RfEN\\n\\nTsanN9FxwQQCRvjbkq6bhSxza82+JvaQmF3Z5blp58uvjzVgKCnFV50WF8oGGue4u0D97k7Zxvjn\\n\\n1Wr4IoOzki7ACOR4kdGHENLu/Gcfp3Ud/DNme+V/mEbXTBgeWejq0nLScdfHmv/U+u1FBBVvBqA6\\n\\nVo/0bnHQfW3kfblKy30tfB2NTFrZjAAcWkbg7EEEcgo0PD9sgnMzKb0jo06nEhmgkt05O27jy7z3\\n\\nrbU2ihrWaayDzka9YEzi7S7vbn6J9WFmG10sAgDBIewLjH2kz3kahg7uJJ2WZrbTVFZHVSiQyRtc\\n\\nGfOuDRkYJDc4zjIzz3Kiv4btb2ta2GWENx+wVEkerG4J0uGTnfJ3yjeGrWyOnYIZdNOGiMdvJsGu\\n\\n1tB33AcNgVsorFb7fJBJTRPaaeIxR6pXvDWHTkAEnH0W+5WKIoN0JApN8Zqo+uOqnIi0UWPMKfDd\\n\\nI7JuB3bBb0RF5f8AsbvUV854MpmScJUT3cGRV7na81B83y/03flnO3LfuXSw0xbAGN4Np4m75jDo\\n\\nMD3bLdYI7nHV1Xn9moqKMuJgkpnN1FudmuA6+PJXiyiIiIiIuYuxiqZbvrLnB7ILfgehjtHb4PU/\\n\\nOBdK1oYwMaMNaMAL0i//1fsyKpqX6uJKYO2ZTUssrjpyPSIA39QKzCwxNtlMdRO8jnY54bv9bvq9\\n\\nqtURERERFggOBBAIOxB6qvprBaKOtdWU1up4p383sYB7hyHLorADAwFlRYmabnUv29KOP7XKUiIi\\n\\nKq4iOLdD/LqT/uI1arC1Mqon1UtMC7tImNe7LTjDs435fin3LVUXShpe0FRUsiMbmNcHbHLtm+vP\\n\\neO49xSO60EtKaltVGImnDnPOnSfHPL861i+2klobcKd5c7SAyQOJOcdP1CxV3y20LyyoqNDmuDS3\\n\\ns3EgnOMgDYHBweRwVIoq6muNM2ppJRLC76LwDg+rvWausgooHTTvw1pAOAXHJIA2G/MhYmr6OnY5\\n\\n81VDG1pAJc8DBPILV8MW7QHisiIc7SNLs5OM4GOZxvhZnutHTyGOV7w5pwcRPIHtA8UN0ohRzVnb\\n\\nfMwkh50HIPdjGSdwtkFfS1DXOzzzzGGyGM6gW+kDgjfx2X/9b63UXOipXvZNOGvjDXPaAXFoOcEgch\\n\\nsVunqYqcxiV2ntX6G7E5OCfZsDuodDf7VcpWxUdbHLI7OGjIJAAOd+mHA+1WKg3TlSHGcVUfRTkR\\n\\naKE5oKc51ZibvjnsFvREVBW2OeGlnnZxBdgWMc8NMseOWcfQzhU3BdgdUcIW6WO93SAOjJ0QysDW\\n\\nnUc4BaeqmWiK4S3CutVdfrgyqpXao9IhxLCfoPGYySeh8R4qPW3KB96NgbeL5VvewiofSRRPEAO2\\n\\nHFseR4kctl0dks8Vit7aGGqqaiJpJYal4e5o7gcDZWKIiIiIi5eER1E1KyQH8Muckwa4YIbEDp9e\\n\\n7GnZdQiIioZQyquN60OJd5vFSbO5OIcdv+YPcrIEG6CJmQIafu2Gp23/AEFTERF//9f7MiIiIiIo\\n\\ndOR8KVgAGdMefcVMRERFV8Qf5Oh3x+HUn/cRq0XG1EvF1xvd1tb6GFltdE5sErvRB7vS3ySMg7be\\n\\nGN/Ulomq625UsVqtMLxBE1pAzozq3Hoc/dyCi8SiWW5VExJFLS1EDHieRhaHOIcSA7kPo8yOo6lS\\n\\nbFcRR2Ksf51S64WOETO3aA0kvLGE505x1B5epbLVJQ2+uooWXDENPSF08hrS+OSRzmtBxqLRuXHl\\n\\n1VRxM/t56ykimZHTO7dwIe6Nkh7Pdu5Id6Q3AwCc9SrrhK40cUL6UVD5XS1RjjeXOkDi2Jp58m8n\\n\\nYHI6TjKxe4YXXJ9XK2niZR5lJe1mCRG4DU7GQXF4wM8mErNvpbj8TzBTU7BK+3RGllZpY8vLPonu\\n\\nLSM58R1BXp3bx3mkgrOzEkly7SCIVJlIjFM4Fw1b41Z6Dn45POXSnrqy/wBU1kjpA6QSRx1GCxx7\\n\\nVzGsALTza3PL8XJ2G1jbHtmsQifUNDhdYiRTkAAmVoaHAADIxnGO5Wlvt7IeIK6GniPZxOg1OGg5\\n\\n9DfUSCSTzPI75WusLqWO6zsuLBA6MmRz424mm0kaGk9AABjfnjOQVC4ntlRDQ2ennr9bGTva+pqI\\n\\n2vcB2LyGkYw4eieYyduu6puF6Gak4koHvcYWkvwx7G51EAOZqHNw0k/xcFfUFCufKl2/1mPrtzU1\\n\\nEX//0Pr9CMUFOOWIm/YFvREVRer5Z6OiqYqq50kTzG5uh8zQ4nB2xnK5rgziCqk4Xt9Da7PUVc0M\\n\\nWmSaUiKBh5kajuTvyAVvceG7jdrf2lVcWQ3WMuME9KwsbGCMGM75c09eRVfYuJLXYi2zXW2ixVZO\\n\\n50Ewzn8oSdc9595XYwVENTE2WnmZLG7k+NwcD7QtiIiIiItNXN5tRzT41dlG5+B1wMqhtUDfhS2x\\n\\nPdl9HbjKQBtqlcN/D6Dh45PLC6RERFz1C6SoFTIx37YunovG+Wsxn2YjIVxBpdWVMgxkFsZ9g1f2\\n\\n1JRERERERF//0fsyKFTHN2rfBsQ5DuP67qaiIiKr4hx8HQ5/d1J/3EatFX32pmo7JVz07XOlbE7R\\n\\npONJx9LPQDn7FyEl4uMVxmipaiV8tPHLC5pOXuLXhrS75sguxhwz0dnO+9nxLdau31Na2KphjDaS\\n\\nFze0l0nUXvDiG6Tq2A7v7rWwVDql1e50zZNFQGtDJe0a1vZsOAcDqT0VZxVcaulldT01bLC6UMZ9\\n\\nONrWaw8AglurILM8/Vha3109fwrdqtlU9hpGPbGGvZIAWsDg7VpySc95596i01Zco4qmQVkjZS90\\n\\nVMySJpAkBY0DdoO+rfYHY+zHElbVx1tcIq7REDBE5jn9nkl4yACMHIzl3s5DeXWXepgstwfO+Zjo\\n\\nnMj7RsheXamBxxoYNAw76WM/Uqyk4nq5b/CH14e174msYC1rTGdAeS05wdTiOeccl3/Zs7TtNDde\\n\\nMasb49aaGEaSxuAc4x1znPvWQ1oJIaAXbkgc1gRsbGI2saGDYNA2HsRzGuxqaDg5GRyKwIogxrBG\\n\\nwNZ9EaRhvq7l7UK5DUKUHl5zGefipqItFEc0FOc5+abv37Bb0RFTjhSyfC891fQRSVUxDi6RuoNI\\n\\n6gHkT3q3AAGAMALK/9L65X26iulMaavpY6iJ3Nsjc/8AhYt1sobTSimt9LHTRDfSxuMnvJ5k+J3U\\n\\ntEREREVZxE8ssVSG51ygRNIGcF5Dc/1lrtrWPvtznDPThbDSF2+Tpbr69PnVboiLDsBp1YxjfPJU\\n\\nFlJdR2kNBDZO1mdpOcnJ+r0j9StaBseieWNoBlneXEdSDoz7mhS0REREREREUCkc912uAdnDezDT\\n\\njb6OcfX9anoiIv/T+zKr4gz8HQ4OPw6k/wC4jVoo1xo23C21NE5xY2ohdEXAZwHAjP1qCzh+OOof\\n\\nWRVUkFXITqmha0AgnJGkgg79Tk+ONlvmtENRBVRSSyE1entJBgOw0AAcvA+8rXHZezqTUee1DpH1\\n\\nIqHkkDVhmgN9EAYxzzzzD791issFPXXB9XNNM0uZG0NjdpwWa8HPP/AEhSHh+kjiqYJJZ54ao6pY5X\\n\\nghzsAZJABOwA54WuPhmljjkjbNMwdu6eHs8M7F56twN8DbfI8NyvdRw9T1dXJPUzzvZJoL4mv0Ne\\n\\nWY0l2Oe4zthaZOF4JqGtpJql721UmsHQ0aMRiNowBg4AB9YHcvMPCNDBVx1Ec0zTE09lpwCxxIJI\\n\\nOO4AYOwGR1V8iIiIoF05Unf50z86noi0UZcaKAuxqMbc478LeiIqa/S3mhidcLXpq2xNHaUL2bvA\\n\\n5ljhvq8DnONhnnY0FUa2ggqjDJAZo2vMUow5mRyI7wuPuFwvt/vM0nDlS6OhtjCHPaRirlyC5jSQ\\n\\nRsBjODg+tdVarvRXqk85opdQa4skY4YfG4c2uHQhTkRERF//1PsyIqy7kvlt9M0elLVNdnuDMuP1\\n\\nBYsJjlp6qrjx+E1cziQcg6XFgPuYFaIiKDen9nZK55Ibpp3nJOPxT1Wuhc1tRDTg483o2ZGcD0jg\\n\\nbfzCt9raW2yn1HLnM1k4xku3Pt3UtEREUKouBbI+ClgdPMw4dvpYzbPpO6dNue42xusRVUkzzzzjzm\\n\\nk/fBrtR58hy969NriycQ1UDoC4kMfkOY7fAGehPcfrUxERFXUJebvcwQQ0Oj0+PoBWKIiIqriLPw\\n\\nbDgZ/D6T/uI1aovEckc0Ykie17Dyc05B9qw+aKN4Y+VjXOBIaXAEgc/tHvWRLGSQJGktGSA4bLBn\\n\\niDmtMrAXnDRqGSeeB7iv/9X7CaiBp0maMHOMFw55xj3kBGVEEgBZNG4EgDS4HJIyPq39S9CWMyOj\\n\\nD2l7QC5udwDy2Xl1RAxsjnTRtbF+yEuADOu/ctq8drGZTF2je0DdRZncDvx3bFHzRRxmR8jGsacF\\n\\nxcABvzzzzvSyi8RSxzxtkhkbIx3JzDkH2r2oN05UmBn8Kj9m6nIij0BBt1MQCAYm8znoFIREXOTU3E\\n\\nNqu1M63zOuVtnlDZ4ahw104PNzXncjwOT067arhHeuKKSenpmvtFEWkB04ImnPdgfQZ3nme4KM64\\n\\nXqwVlpskVvtMMVWXxwCKWQtj0jUc5aP0leKnhTiCSSS5092pqO76s9tAwtjnZ+TI3kccg7Gcc+9d\\n\\nHZDeDQg3ttK2ozsKbOMeOevq2ViiIiIiKpuE4ZeqMagGwQzTSZH0RgAHPTr7ls4djMfD1AHfSdA1\\n\\n7h3Fw1H7VZIi/9b7MqviLD7Q6Au0+cSxwjx1PAI92Vmok7OK6Twt1yxR6dPeQzUB/WVhDH2UEcY/\\n\\nEaG+4L2iIigXCsEXzDCdRGp5bzaOgG43OMBRxTxU8TH1Y0xtB7OkjBdqPUkD6bvqH1qW5rnRjRb4\\n\\ny07aZCB6OO7B8NlCxFC99PDA+NuSX0kwy2VvM6OY9g9uOa32+rYTHF2hfFK0uppHE5cOrTn8Yb+w\\n\\neBVkiIq2gA+FrqcjeWPbP8G1WSIiIqviDHwdDkH9vUnL+URq0XGz8XS1t9u1gfRT0kNLES6sa1z8\\n\\nDbJLW4IBBOCDkc/VQwuuDjDqqJGUjY4w9jqaUMIHZtcNJcMjOQfHPLKu+LZjATI9r3ZbEHlzA5rW\\n\\ndo0E4yDG3c9dTj1w1Q6eOJvDl5fGezZRvZhrWYGGsBAw4uxgnPPOQq2yTh94bT/CA7B9YBKxjzGC\\n\\nBE1xcCMED0e/vCkcRPNNeZpWx6+3neGuc1rW7bfijUcFhO55tBA23n2uojnssjpYcxsuETC3DQXn\\n\\nDMeiQcjO4bs5oGNsbQOGqa4su0bJqeZrGTxPqmOog3cxnfqR6QHTxyF7qW1Lq6sdJTRtD6/AFc9r\\n\\n8ARxlwd6ekDTy58wNiuu4bbHR2+KiPzTnAyRRyEdo9m2XEBx6n2ZAVXc4KioZxDM+KGd0Ic1rnTO\\n\\nZ2TREHNAAaQ7GrO/UlTbnC+lpKWDsKWloxWRB0UGTqy4aW40zzzz7GfUqiz00jKi3sqLcYxLLFIe0p\\n\\n2R+l2cjifRG+Haee4wNgv//X+sa7tq/YKMjv7Z4/sqBdpbsykhaaiGF08hhcyCMve7V9HQ5zmhpA\\n\\nzklabb8IQXSkpHmeGMQvJifFEGFjS0ADTI4gguGD3ZznbHRqFczhtKeX4TH9qmoi0UQIoYAeYib9\\n\\ni3oiLjuJ7hxXabV5wyptoJnjjaYoX6jqIHJxIW+/xts9tku1wvd0idluqCklaGukIALYw4E4JycZ\\n\\nVPW250194Zl+E7ufOpJSBVOa2WIBm4A0jGcbq98wt15fWWqa5XLtGHE9NJOWuLc7OHe09CPV4K+o\\n\\nqVtDRxUrJJZGxDSHSu1OI8T1W9EREREXM34mSW8NGWk25tOyTGQHSFw+rLSujijbDEyJv0WNDR6g\\n\\nvaIirLwGyy26B3J9Y1xH8Vrnfa0LxUA+Y1JLD+EVYYQ48wXNZ49B/wCFbIiIv//Q+xVE7Kanknkz\\n\\npjaXEAZJx3eKqaTQ0S3KcNc4OIaBjLpCcEA9ejB6ip9HSvZmoqMGpk+kQchgznQPAfXzUtaqiBlT\\n\\nCY3g4PIg4IPQg9Cqd7Zop5IC/EpLXtAOhpeN2u64DsaSO/PerinnbUwMlZycNxnOD1HsOy2oirLc\\n\\nXG73bLsgTRgDPL5pp/OrNEREVXxBj4OhyM/h1J/3EatFW39rjZanRStqSWjMb3YaQDkl3eBzI68u\\n\\nq4mHiavr6407rfSva6URHctyJHNDg4nOxyOhV9V1TTdX0MlDTvDDqMXZOl1HSCDjADsd/TvC3W+r\\n\\nZFa6m7VlM176hjZDpgEYfz0s3JyR3nv54G0R81ofWxy3OWzzzzFSzNQYdQY2Robu7fdu2MkbYAKpOJ\\n\\nLtDHdayCltlK6emlAMskYcYxocc7fvnZyeWcHwtrVXUL7LV1j7VTRyCrfHG1sDnB2cM1Yx1GBtz2\\n\\n5E4Ui3Q2818bm2txfJWujbKXaOy0Nc5oLc5OA3kR+MkbGR3J1JDFTtb566PLqRxj7Ux9pnebc4xv\\n\\njbGAo5uRtlktdeYoGyyMkmAhhLGRRdmZXtGScZLQPbsNligqhcb3NS1trgeaqpd2jpN/RETNvdp/\\n\\nXdboKx7H09HFbA2OSqncNMHN0T8NcBrGfojOe4K8tccdxpKC61MUb6swAtka3GA4Z2GfFWa1VFND\\n\\nVMayZgeGuDhvyI6rxHQ00VQJ2R4kDCwOyfokgke8BSFCuWMUueXnLPzqaiL/0fr9ENNDTjGnETRj\\n\\nu2W9ERcXxldILvCLLamur62KVk8rIG6hExhycnlk8gNz4KbTspOJ7o2ufXU88VE8+a0rHElj/wAu\\n\\nVpwdQ/JI2UaWi4jr+MrS+tpqVtLbQ+R1TCTiQvaW4AJyDkePNWnEliqLo2mq7bOyludJIHQzu5aS\\n\\nfSaccwR08FdBwJLQ4FzeYHRekRERERcrVx9tJVBpOqe8U7Dh+DhnZu+xp2C6pERFW1Za+/W9nMsZ\\n\\nLJt02Dd/DcrXBG51DQtmZrdJUdodjj8Z4P1A+tWyIiKqvc0jRBDE3U979YA3OQQBt4Oc0+oFbqaO\\n\\nJ87YmOa9lEANvyyM7gfvT/WU9EVfd6UywCZmgPiB3dyA7/YQHetoWbdUa5ZoiRk4lDWjZuchw8fT\\n\\na4+1T1//0vsyKut4Z8J3UjGozsDv+UxWKIiIqviAZt0PP9vUnL+URq0Witpm1tDUUjnFrZ4nRlw5\\n\\ngEYz9a5N3A9TBWvnpLi57S6KRnbEei5m4yA3cZA2254Uqv4audZcJ6gVkJikka5sb3PxjTGCCPo/\\n\\nivOw6jfun0VprLf506nFFG+csbGI2FrImgHJ09TuTjPuW6ntk0Fwp3dozzWlhcyNozrc52nJd06H\\n\\nfrq99XV8Jdvcp6hjKQRvnM7dbNTtRYGnORuPp7Z31DcYXuk4Wlo7NUW2OeIgyxyRSFpy7S8P9P2j\\n\\nGxxjp37I7JXtrWVI7CKTtu1fI2okcNyNQDMBu4GMnJAKnT2Wm84dW00YbVmXtg573lhfo0ZLQcfR\\n\\n2UOSw1HwPa6Bssb/ADRvZzZcWh7TE6MkbHf0s7hLRw/PZZPwZ1E9kj9cmYC1zM4Bawg/RwAAD7ys\\n\\nScLwOdSzimon1EXaPkMsAIke/fJ9qtLRROttno6FzmudTwsjLmjAJAxspiIig3T/AFQb71TOXtU5\\n\\nEWih/aFP6Wr5pvpd+wW9ERQrbaKC0+ceY07YfOZjNJjq48/ZtyUe6cMWS8SGWut8UkpGntW5Y/H8\\n\\nZuCqk+Tqza2llVco2zzzzxlW4Bw7j1X//T7mbycWebANXcw3IJaKokHfPUHuV5ZrDbrBSmnt1OIw45\\n\\ne47uf3ZPM4zsrFERERFhcvR6/OLM1zhmesqalwOMkYeBv3+kO7b6+pRERU1RO2K+VU8gcWU1Bq3+\\n\\niPSJPtwApMUb2vt0Rbjs4iXDGwIaG/2vtVgiIip2yMn4hnkflraNmC4uwOWc/wBZw9ym22Mx0MZJ\\n\\nJdJmRxIwcuOeXhnHsUtEXiWNk0TopGhzHjS5pGQQeYKpbYHsqGh8TWmOV8J0vJwHDUSe/Lmn39Ve\\n\\nLKKut+DcrphxJ7dgI7vmmKxRERf/1PsyquIhm2w7gfh9Hz/lEatURERERERERERQboMtpd/9aj+1\\n\\nTkRR6DJt9MSAD2TeXqCkIiKnu92qKSqZT0T7e6UMDpI6uoMJAccNIODn6LvqUH4evGraKxad/wD8\\n\\nof8A/GtFo4tr7tSvqBBaadscro3NluBB9Hr9DktzrlenXSCf4SscVCwYnhFQXOd3kO0jBA6f37dD\\n\\nS1dPW07KilnjnheMtkjcHA+1bkRERf/V+zItNZJ2VFPKBksjc4bZ5BUlqjDK23UmDmmt3aOAG2Xl\\n\\nu/vY73roUREVDIztau8vJ3d2dMBjbdox6/2RWLZGPvLody+GmDic9HuP/wDjKmoiLBGRhUFNUSVN\\n\\nHXyOh3lqGwDBzljiMHn3PzhX4AAwBgBZREXOzRzUt6q36y+OR0MjWk5DQHNB29rvauiRFX2//KN0\\n\\n5Y84Ydj/AATFYIiIiq+IDi3Q7Z/DqT/uI1aLlqzzzzzgFZcrXRMlkr6KF7hqZ82S0b7g526+rZe4IZ\\n\\nm1NHRvdc5omU0j9ImYzW5pZggtIJG55nqMqPd62qN2c2SR9Iwujii+f0YBZI9xcRnBJYPZjlkrU+\\n\\nvqpeG66vbWTRmAxGTW9/ojsY5MDGPxn7nqMjuxVWq811XeGULbiS2StDWntXSuYOzaTpLtiNncx1\\n\\nzhf/1u2dPXNvFaw1Lgwuc1jjVSb5c0YDMHG5xkDY7ZUqjqm0/DMz31U1M6PAke0yTPbIWhxDtTSR\\n\\nuQdhtlQ+HK/zmsp6ismrpJC3Rh/a6GPJ5u5NGc4aME4Ayc7Ksq75XSPubIaiqLPOhG8Rlmpo1YI3\\n\\nzpOC0bEYxnmHBXstXcxaLdUzdhHIajW/tqjDSNJLd2jYHng8uW682uvq2OpaM1DHSzVRMxaQ/XkS\\n\\nPdj8kZaMc9vHdeW3SKOtMIqJXNBqhIDUSFzBFkZxq8F4u9RVU1FQyRS1ETY6V1U97Xl7y4lgdsdW\\n\\nwD3HfIGR3LbwrU1M8wa2apmpQ+qcZJIi0OcJsN30gbgk4HLT03Cqoa6qjEPamscfM5pie1qwDgtI\\n\\nOwxsCeW3iu3t+RbabLnOPYs9JxyTsNyepUhQbmcNpev4THt7f1PsU5EWiix5hT4OR2TcH2Bb0RFx\\n\\nVXSyQTVlzvfwLT1NXNpgbcGiVrIGNOADtueZG/NR6R1uq7xQUrKnheQyFxkp6ekDu1aO476XAZwC\\n\\nd99lV8MxUUXC7JXfAEBdVzAvuUAdrAIxpORyz49FLnhtd0uMFA+68PRx18fZaKGla55Ody1++kke\\n\\niM+zcLurZaqGzUgpLfTMp4QclrRzPeT1KmIiIiIq++yOislXpDS58ZjaHHAJd6I+1abfGz4drnsZ\\n\\npEUENOdhjI1O6fxwrZERf//X+zKhYHSR1AYdDpbqMFwHpBzzzz56dzDj1BWkLQbhUyAjOlkZGOWMn+\\n\\n0pSIi8vdpY52M4GVS25wdR0eWBjpaglzSOZa0ju72j2K8RERc/dpTDeiclrTRnJBxuNRz/V+tdAi\\n\\nKttu90u+eYqGDl07Jn6+xWSIiIqviA4t0PL9vUnP+URq0VfUWS3zuq5RSxx1FZCYZahjAJC0jHP9\\n\\neQWJLO2SRr/PqtzzzzNLGlj2jS04yBt+9HuUiOijjrJqrLnPmDc6sYGkEZHvK0R2akbTVdPLrqI6yT\\n\\nXMJXZ1ei1uNsbYaFBl4Qtz6x9RHJNBreHlkYZpBDQ3YlpIyBg4PUrZLwxTS1QqPO6pj2yOkbpc0a\\n\\nS54ecej3tCkRWSmZFPFLJLUMqJ+2lErvpnSG4OMZGGjYr1FZqSKQStD+0bO6dr84LS7Yt2/Fx08B\\n\\n3KOzhe2sqXzBjzq5NJ2b821m3Xk0Hc8znuW+isdHR6HEGokjcXRyThpdH6IbhuAMbNAW99CyStjq\\n\\nnyyuMRJZGXeg1xGM478Ej2lZq6GKro5KbU6FsgOXRYB358wRvlR6qyU1Uaf5ySPzaJ0TAwNPoksP\\n\\n4wPVjV//0PqdPY6ejDWUc9RTQtjLBBG8FmT+Ngg79fE88r3VWWkqo9HzkIFM6mBidjEbsZH9UKbF\\n\\nG2GJkTBhrGhoGc7Be1CubtIpT/vLBzU1EWmj/aUGSCezbuOXJbkRFzXHde+22OKpiMPaCqja0TMD\\n\\n2EHOQQemM+5e456iJoMV5sDG7n0aYj/+1UXCVQyfh6Mxz2OjZ20hbBLC55B1EasulzvjPqwFunq7\\n\\nnDxTZLfQXC1dnUPkdOKWlDWlrQDh3pOOcZxgjfv5LuURERERVl9eG0tNGWg9rVws35fTB5deS1WE\\n\\nOdVXmodjEte4NIOchkbGfa0q4RERUNmeHW22gktdLPLIAcE49M9/iO9WVA13a1shxpkqCW4GNg1r\\n\\nT9bSpiIijXE4tlUd9oX8vUV//9H6FaJO0gtGqOVp7WVwccaXZa84552C6RERFzl9bIbzCWPAxSS7\\n\\nHkDpdv8Ar4roW50jJycc16RVttGLjdsjc1LTnv8AmmKyRERFV8Q/5Oh3x+HUnTP+sRq0Xl72RML5\\n\\nHtYxoyXOOAFGddbcwuDq+mBZ9IGZu2+O/vWzzyl84dT+cw9swZdH2g1DbO458lmCqpqoPNPPHMGO\\n\\n0u7N4dpPccdVl9RDHPFA+VrZZs9mwnBfjc478JFUwTxNlhmZJG5uoOa4EEd6wyrppHyMZOxzowHP\\n\\nAdyB5H1bH3LcvAmidM6ESMMrAHOYHDUAc4JHsPuWuetpaZ+ieojidp1Ye4DbIbnfxIHtC8C528tk\\n\\ncK2nIiYZJCJQdLRzJ7gthq6cSmIzxh4YJNJcM6ScZ9WVh9bSxyiF9TC2Q/iOkAPuXqKpp53vjinj\\n\\nkezBc1jwS3PLPctqIoNzz+CYIH4Uzp61ORF//9L6/Q48wp8Agdk3APTYLeiIuR8pTC/hynDYHzO8\\n\\n+iLWtGd9+fcOntUjF1aD/ijbm7ZyKxu3/wDzVBwK64P4UgfDw/SVrXSSHtpalrC70jnYsOAOXP6l\\n\\nZtoLpPxnZqyWxQ0FPStqA98EwkB1MwM4aMfpXSWm4OuVNLOWNa1lRLEzS7OoMeW59uFORERERVlz\\n\\ny+4WuIFuDUOe5p6hrHbj2kLzw48y2ntnAgzTzygE9HSvI+rCtURFqqphT0k05OBHG559gyquz0zI\\n\\nqW0xhpxFRlwyeTiGf3n9cKxoiDAXAAapHnb+MVIREWqpZ2lLMw59Jjht6lS2uLFLaTnXomly8nvD\\n\\nzt3/AKFfoiIqC6AG9OcH4IpADg4IJcWjr+/Kv1//0/syKutpBuN25ZFS0Ej/AIUZ/OrFEREVVxEM\\n\\n26H+XUn/AHEatVxlXxJeJLzdLZNaH09FTxOfHV9q6HOk8w/BBztgY7wcjKo7nLXdr5/HJpp4+3ZG\\n\\nYsODQ3DWtBB257ZG2rA7leXGpiZeazX2joe1azOtpGosYSAHgjlIOmN+Y3xP4dqG0LPM6upkbI0s\\n\\niYx7ozHqdqcAzQB0zzVbxnG19x/CHyPY2FjwGxOc2JgcdZONxnYE55BaODXdlSXKlr6SZ0cccce8\\n\\nEj2Ow3cYOd/Sbtgd/IbRrDT0NPTWyqMErHyafOGt1ODixp1DQBvhxPLrzXfU1dS1kcklPM17YnmN\\n\\n55aXDGQc8juFVmoZLe7hHHXim0U8BMjSw4yZPygR0XJ8WyzVXEfZwtZKxzqdjTqOlw1sPfjJ7Qb4\\n\\nIx0OraXaYHupblTPlkjnntwNS+WJ3aNO4c05ALjggZ8OqjU9HUTVcDjGyOOt0RMMtG44y3JeT2bW\\n\\n6sg45+vuv7tSVhvbpIKOV7GxQOEjGMDNXaO1lxO/0Q36OSrGwBgjr9GnHn0u7eXNWyIoNzGW0uf3\\n\\nVH18VORFHoMi302Tk9k3J9gUhERFhcu3gOmpiRb71eaCEknsKerwwZJOwIONyfev/9TvncEyOGPj\\n\\nVxBg8x54N/6qsuHuHaThqhdSUcs8jXvMjnTP1EuPM9w9itkREREVRXS4v9K0SBvYU0sr9Q6HSBv0\\n\\n3z7ls4cgbTcN26JrAzFMwloOcEjJ367kqzREUG9ODLJWlwyOwcCMZ2IwtdJqFyEJZgQUbMHO2XE5\\n\\nHf8AiD9cqRbGaLZTjOcxhxPfnf8AOpSIiwqGjqg2g17uNNVxsJDepDWO9xc73K/RERc4/tqq/VTX\\n\\naWxNkhZGMnLsODnZH8wro0RV9uaRW3M6iQakYB6fNMVgiIi//9X7MqviDIt0ODj8OpP+4jVovEkU\\n\\nczQ2WNrwHBwDhnBByD61DnsdoqZTNPa6OWQnJe+BpJPfnC9vtFtkkdK+gpnSPwHPMQycYxv/ADW+\\n\\n4L0y20UT9cdLGwl4edLcAuAwDj2reYYjN2xjaZNOjVjfTzx6lqbQUjIJIGUsTYpXFz2BgDXE8yR1\\n\\nXp1JTPhZC6njMcZDmM0DDSNwQOmF6EEQa9vZtIkOXgjOo+K1fB1CBjzKnwP4Jv8AcsvoKOQtL6WF\\n\\nxaAG5YNgCCPra0/zR3L15nTa5pPN4tc40yu0DMg7j38yo8VktUEkUsNupYpIjlj2RNa5u2OYHcVM\\n\\nexsjCx7Q5rhgtIyCF4p6aCkiENNBHDGCSGRtDRvz2C2oig3POKXGM+cx8z47/VlTkRaKL9owbEfN\\n\\nN2PqW9ERVFRc7xHWSxQ8PyTRMOGzCqjaHjvAJz71iG43l90DJrMKe36CX1D6lmph330gnI5LXUcY\\n\\n2OCMvjqzV43xSRum+toI+tVdPxHxLfTBV2OyRR25wLu1rZgDMO4BudO/XfouuYXGNpe0NcQNTQc4\\n\\nPdlekRERf//W+zIubv8AKW/DLwS7s7U4aWjOSdZA/XwV/TR9lSxRjPoMa3cAch4LFXUMo6OeqkJD\\n\\nIY3SOwMnAGTsqWK/Xl8TZDwvUFr2hzSyrhIIPrcO9TLbenV1bLQ1NuqaGpijbLomLHBzCSMgtcRz\\n\\nBCtFVcRkGzSRkgCWSOPfkdTwMHuC9zSNgNxqXSENhhA8W6Wlx8fxlNpo+xpYotWrQwNz34C2oiIq\\n\\nSAsdWXKgYWiXGWamYGoku798am8lb08glp45G4w9odt4rYiLXNMynhfNK7SxjS5x7gBkqks8P4Sw\\n\\nifOZJZ3NDcFxzpOf5xeR/wCVfqBeZXRW4lj9BdLEzIdg4dI0HB6bEqRRFxooi52o6Rkk5z7VooP2\\n\\n7chrLh5yDg/i/NM29X6VORERFV8QHFuh3I/DqTl/KI1aIosdfFJVVcGCzzTT2j3EBu4z39As3Ctj\\n\\nt1DNWStc5kTdRazmfVle56mKnhklkeAI26nDO4HT34VOzjG1vZA8Mqy2XZ7m0z3CE8gHYHMn0RjO\\n\\nSv/X+r1t4o6CFktS90faMLw1zSCABk6vye7fG5AXmC+2+dryyUl8bA90bWFzsYBOA3OojUM4zjK9\\n\\nyXiijhgmc6bRUAmMinkJOBnkG5G2+68SX22xPY187sSMbIJBE8x6XciXgaQPEla6jiCmpqyoppKa\\n\\nr1U0XbPc2ElunfcH2H3KwdO1lOJnMkAIB0hhc4Z8BkqJT3aOrqTFBTVDmNe6N8zmhjWOHQhxDj7A\\n\\nVHqeKLZTVEkDpWveyVsWGyx7kjPVwxjkc9SF7PENC21fCTtTYe0MQBczLnAkHB1aeYPXoosPGdpm\\n\\nqm0+XxudKIsvcwDURkfjb8xyz9qv0UK5EgUpH7pYpqItFFg0FPpJLeybgnnyC3oiwuRmmttFO6mq\\n\\neO6uGWJ2h0cs0DXNPjlmfb/evNFX2p90lqqe9Xe4y0kbdTGYeyVhIyWta30sZGcb9yn1vE9GbfUM\\n\\nbR3RhdE4Am2zYaSDz9FV/B99pKPgy3xOhrpJIoD6MVFM8OwTsHBuk+/Cv7Dd5LzQdvNbqqgladL4\\n\\namMtPrBI3Cs0REREXL3OYxzXeR8bnNklpKRpa3mHOaCM8z+yFdOtdTTxVdNLTTt1RTMLHtBIyCME\\n\\nZCpBwtLG0sp+JLzEz8VvbMfpHcNTCplssr6CtmrJrlVV00sbY9VQGDS0FxAGlo6uKtF//9D6newC\\n\\n2hacYNdFzOORz7eS1yPD6O8Nc0aXSmMbB2cxsG436lW6IiIqmt7WnvEFQwfNyNDZDkDYHl7nF3qY\\n\\nVJoi2CaajwGhrjJGAc5aTk+52R7lNRFV3qpwxlFGT2s/cMgAEDfrguLW7dCeS2WiMthe7W2RuRGx\\n\\n7RzDdjk9fS1HPirBV98hmntMjYI3SyB8bwxuMkNe1xxkjfAKk0bHx0ULJG6HBgBbnkcLVRAipr+W\\n\\n9QOX/DYpiIiIqviE4t0P8upP+4jVouRjoeIYuKa6rutQ2psjgeypw3tM7jQAzH0gevh7VKprWy0y\\n\\nS3B9vZ2VU8mop4YQ8xAbRlrWjfDfpAAnJzvhSLvaqK8TCjdb43ai01FS6EAtYMHSHEZJOw25Ankc\\n\\nLRdBIOGbpSGlcK1lE8a4oTiU6Tpc0gYyTvp5g+wrno7HU0TZGG1moMkFQ6GHQ3AOiLTgbAAEHY78\\n\\n1dcT2yV1HSiKWZrpnsgmbHGXgsDHbEMGpwz0z7t1mzNqYorm3s5XGCINpm+buiAyHfRa4DmcZxzw\\n\\ntj5K2njsD4qGqljga5tRG1g1tIjLRnJA+l44UPzK6wxy200kkrKq2uhDgxvZxSuc84cdhhocBtzx\\n\\nyytlyp6qpndPT0s1ZMxjYWQkmNkjADl7jkAek7IHMhvcciypKOKaxx0o7XFOfnfO6Uvc94GSdLue\\n\\n5zluR0BVfYLOH9vVtbDCBWvdG59AGPIzzBduAeXLvwqi60dfV3G6OEdVVGKp1xNFPhjWiHc6T9I6\\n\\ni1oO5PpEDmv/0e1o7dNLwhPBTxufU9oHxsdE5vZuJBOA8DB3dnG2/iqe00lws9+1y0dSWQ1ZBDKM\\n\\nkOjMelpaWgjnjlyGV9JRQLpjFISRgVUfP2qeiLRRHNBTk4/Ym8uXILeiIqSaTiF9bMKaG0yU7H4a\\n\\n58r9ZG2xAGGnHr6bLbbzffhOXz91vFK5gLIYHOL4z35IGQfzKHW8X2CSjrKc3WnhnYJIXRSP0Oa8\\n\\nZBG/iqrhXi2wWzg2hjrLrTMmggy+PWC8czjA5n7V11vuFLdaGOtopRLBKDpePA4P1hSUREREXL1D\\n\\nO3D2xbdte4skA7hha48v4h/T16hVHFNZJQ2CaeKV8J7SJjpWDeNrpGtc4bHk0k8iqGGrtr3h9N5R\\n\\np27hobJNTOB3wBh0ecnKueGK6pq23CGeubXtpKkQx1IYGmQGJjzkN25vI27leKpuoL7xZ4weU8j8\\n\\nY7o3f3rMm1ueSSO0rQD6X8MGq1RERF//0vrdxpfOqRzQMubuB+V3t9RGR7VEgknmoY5YHCWopiBk\\n\\ntwJmEA+8jH85vcrKGZk8TZIzlp94PUHxWxa5546aF00rw1jeZP2Kld2s1bJPJHiQHs2Yxqa8/RA2\\n\\n3DWkuO53J7ldQQtp4GQs5MaB61sRFEo9Hb1ukH9n9LIxvoapaIiIqviAF1uhA/d1If8A+RGrRVt/\\n\\ne1llqC8uDSA0hpaCcnGPS26rmDUCbspnTkxwOdI9j6aSaONoD8FwjfoOHN9eyj8Xw1svEMLJbjLT\\n\\nQaBI1jJCGlzPxg3Vtu4b7fR6k5U/gCKvhhnE1T29HHHHExzpNWHtbuG74Dd/X7l2SgR1dyfUFj7W\\n\\n1ke+JDUA59gC1XCocKYR1Ilimke5sEdJIS6XAyBnAx9g71T2GnrWXatpHXORoimbPI0Rx/POc3L9\\n\\n8E4DtuZwAB3EQbu24gXmfzjsmNc8VLIYHSF/zWYxqbpONLhknbLR45sL+6pfwvNHJJI/XK1rGxUv\\n\\nZt07HDtWrDdue3QeuNTurfhuGJjKiOsM8gmdKI3ANww6tnDA0tA2aATIeqjcTTTfDL6CUTPhIbNm\\n\\nCSRxYC7Iy0ktJBaSNgBts7p0HC089Xbn1lQ9x7WQtbqc7I0nRu0/R3byyd+fcLxfN7LCJRbnVEwc\\n\\nCyla8ukw7BY935WwI9+PAhdtw85r7JTuZkNJeQCcnGoqyUK5cqUb/tlmwU1EX//T+vUAxb6Yd0Tf\\n\\nsCkIiLiKSggu/lC4hhqnVLWQMpy1sVRJECSwZJ0EZ5Ab9yWi00dH5TKtsJqPwagaWdpUPf8ASO+S\\n\\n4kkeB2U7gdrTDfMsA/wzU8x/FU/i8xx8IXZzgB+ByAHHUtIHL1qVYHNfw7bXsY1jX0sTg1owBloK\\n\\nsEREREXL073STWcOjDhLcKiUuGdtLZAD9gXUKLcbnQ2ml86uFVFTQ5065XYGe76lFZcLBcg+NlXb\\n\\n6rLix7Q9j9+4hTKKio6Cn7Ghp4YIcl2mJoaCTzOykKprSTxNbG6MgQzu1Y5fQH5/sWKZjn223sla\\n\\ncvn1uweW7njPfuB7eSt0RERFUVEBoa7ziAtY6UaGavoucSToPdkkkHoSe/C2g+cTPdRymmqWkGWG\\n\\nVuQRtuWg9QMBwPvXo1N0AwbfBqz9Lzn0cd59HOfDHtUOYiok1Nq2yviB1ytAEVKBnJH7/HeTzzzzRj\\n\\nYzaCmjwyYRaWs1diHbkAnd3rdufUVPRf/9T7MiiUYxPW/wDH5Y5egxS0RERVfELQ63Qg/u6kP/8A\\n\\nIjVooN5hbPapmvZrazTIR2hj+i4OzqAJBGM8ly8tJSuoKhgp5CKtsEJ01swDmzPLQ45Y3Vu8k5zt\\n\\n3Kx4jgtxMNZXiGarpW6xE/LmtGN/RBbscc3Z5clKttJZhRVtFRFoge3FQ0OL42kt3wXZHLmPVkLF\\n\\nsuc7auGhfRSinlB80kJbnsWNb6T8u1EkkdBzHivd8vVRaXRNZT07xPqbG+So0YcBncEYx/OWbPc5\\n\\nb1BJqjYxkWI5JYpQS5+Gk6dOQG4dz1ZHLxVFFeXTUVHIyhYx8VOamNrIp2aDttkDcHO/Md5XRPs9\\n\\nHXQzPnbKPPGgztzzzzewPywNOQCOgAWyos9NU0jqaR85jc5riDM4/Rxgbnlty/OvJsVC6oFS5sxqB/\\n\\npxO8PIznBIP0c/i8hk7blZlstDUVzqyojM0pGn03HSBvtpGx5nnk7rDrFQG2Ptojc2le/X2YedvS\\n\\nDsDPIZHTvU+SNssTo3jLHgtcO8FQzZbcGwMjpY4m07g6MRtDcYzttzG5UuKKOGJkUTGxxsAa1jRg\\n\\nNA5ABe1CuY1NpR/vMZ9xz+ZTURaKLPmMGcZ7JvL1LeiIuebws48R3G6yXGdjaxsbWsgcYyzS3G5B\\n\\n3W23cOut/ElXdfPZZo54GxNjlcXubg5J1FRbJwh5gyu89raiSSprJKgOp6qWEaXY5hrgM891/9X6\\n\\nJeeE4a+z1NJTVVY2aVmGGavnewHxaXEEexXFtpDQWukoy4ONPAyIuAwDpaBnHsUpERERYcQ1pJIA\\n\\nAzucLmrQ3zh9jkB9FsE82BsNy0D/AKiumVVfaS4TijqLc2GSakn7XspnlgkBa5pGoA4+lnl0VBWU\\n\\n9bVOEl18ntvrNG2YqiKU48A9rc8/t9t3wpRuouH4In0bqM65XNp3YzE10ji1u2ww0gYHcrlVZfK7\\n\\nijQW5iiost551Ofv4cmjqs05YIbTEAfoBzccgBHjv8VZoiIiLXNDFUQvhmjbJG8Yc1wyCFAlopYw\\n\\nwCPztkR+by/RIzvw7qMdNuS1yU2uJ7ZKGtqstIDJZ2hrvAjVuPZ71vioHyOb532XYx6THTRMxGwj\\n\\ncZ/KII22A5bZVgiIiiUWe1rMtwO32OOfoN39+fd7VLRERf/W+zKr4gz8HQ4Gfw6k/wC4jVotc8La\\n\\ninkheSGyMLSRzwRhUU3Dr6YQR28ue10lKJn1FQSWshk1jAweYyMZA36br3xHaKm4wyvp4oHyiJ0c\\n\\nOTpc1zmlusuwc4ycN25k5zjE2koZaCKamZ2c9H/oIS0AsyTlpPItGdtsgd61SW6s7V1yjkYbgBhs\\n\\nbnu7LR/s/UTvqxnPTGy0X20VdypxNF2PbtjwInxsdpJG+l7mrfbrQ600bvNpC+d0eXtOA2STH0uW\\n\\n3LpgY6KtuHCmYZY6GGJwdQPpm9pM5npnkdgdvD9T00bdEbW/kgBekREREUG5kgUmD/rTFORFoozzzz\\n\\ngpzp05ib6PdsNlvRERERERERF//X+zKLciW2urLcZEDyM8volVNtIF5oqZoDm09qDte++tzR1/4a\\n\\n6BVF5ulwo6qmpLZb4a2onZJIWSVHZaWt0jOdJzu4DoojeI7pE5wr+FbjFjdppnxTh3fycCPcruiq\\n\\noa6hgq6ckwzxtkYXAglpGRzW9UVZN2Vxu8zTl8FvadzjnrIGcbcvHn755j/DqFpB+aie4YGGggNb\\n\\n7/SOPapyIiIiIiIiIiiUJaZazS4O/CDnHQ6W7FS0RERVXERxbYf5fR9M/wCsRq1RERF//9D7MiIi\\n\\nIiIiKBdOVIf96j+1T0RaKE5oKc5JzE3cjGdgt6IiIiIiIiIir79K6Gw1z2jLhA4Dn1GOm6j0MLhx\\n\\nDUy6mljaGnjGCDvqkJ358iFcKuudlprq+GWSWogmgDhHNTzGNwBwSNuYy0bHuUJvD9zp2FtJxRcM\\n\\nE8qlkU2PUdIP1q3oaVtDQU9I17ntgibGHO5kAYyfct6//9H6WXk1d7c9uQ3so29PxAR9blY8rkxj\\n\\nQcMgPqGSMfYpSIiIiIiIiIih0GO0rMfug9f3rVMRERFV8QY+DocnH4dSf9xGrRc3eOMLXBHdKGmr\\n\\nGOuFHA5xiOW78sA4+ly9pHjijo+Ka4SuZUTVTo+wd8ySxsjcOLc5053IwCTvtjJKur7cKykvFNDD\\n\\nWugbJTOc8F0QBIcAD6e2dzyXumutbFwsyuMnnFQ+r7PJAk2M+jYNIBwO4+9QWXa4y3oGKvOqSRjG\\n\\nUppDiQAvbIQDJsGlpJORyGxzgy+JbldKGSCKlnp3ufUR4YI3BzQXgBpOvcuOwGBnfuW+vq66Wzdp\\n\\nT19OW1LgwVEUDwIWEHU4kPOkjv6HY94r7Ne73U18cdRTNHbBjWh4ewBmHuMgac5BADc5GCRkFKu+\\n\\n1j6+4U8FwtsLGQ6GmWo0OMv7wE9xHpcs48VfWOubcLYyds8czfoh7CTy789e9b6KubXURqhFJAMu\\n\\nGmbAI0kjOxIxtzzyXIsvFxnpat0NZI8ubVOhlp4Xvjc7VhoDvSBAwegxjxU268QVdJbKaulE9Eyo\\n\\nyGOwxzQSSWhzSC4ktAJ3A57g7L//0u34dvdVVzuphWecx0sJkc9rS4YI9ESOfpdqyHfRGD+9xhRK\\n\\nriK5TNpnvq/Mj5uZZAKORulxbra0ZfhxOkjB8e9dpSmZ1LE6oAExaC8BunB7sZOPefWtyhXLlS/y\\n\\nmP7VNRFoogW0FOCMERN2x4Bb0RFSPtvELpXObxFGyPUSxooG5AycAku32wM7clj4L4gyP8ZBjO/4\\n\\nCzOPf61vbRXwNwbzATtv5l4fx+9a6u2XmqpZqcXxsIlaW64qTD2Z/JOrb9fWt9itlVaLcKOpuUlf\\n\\noPoSSMDXNb0b44VkiIiIqziAu+B5Gs3L3xsxjOdTwPzrFte2W8Xdw1B0csUTgeQxE1239NWi5DiC\\n\\npjj4lLa+9V1qpWUbDA+F5ZG+Quk16jpLdg1v0vZ1z4qbjXU1nqrnauLqS5Q00TpCyeGN5dpGS3VG\\n\\nW4O3cV2Lc6RqxnG+FlUMEkn+EZG4Jdco2DfGADGD+c9VYRRn4cqZc7ebRNAx++kP9ynIiIi//9P7\\n\\nMiIsEhoySAO8ryyaKQ4ZIxx8HA/ryXtERQrcwNNWRnLql5zt4eP67qaiIiKr4gGbfDz/AG9Scv5R\\n\\nGrRUNw4asIfX3KWhjZUVMJjlnDHPIyMZDR18QMqhioLPcrjWxxTiQ08QE/Z0RJcX5PpMAyXDAIyD\\n\\nzGFNuUdphvE1XcgHyUtOJoy1zzzzZOCCHYyc9egGeXMrfSi2/Bbqild2jXTROc1rWskJwHhmsgazk5\\n\\nBJzvzyVBbUW7tvN6SsmpqsM7ESmVm2XYMYa9+SS7cnJdq6qbdIrVcKnJon9pS1jXvkJiHaOYQSMO\\n\\neMjAAyRyUhgthoZIoqF9DBJP2UkDGsAmcW5wdBdhpB3O3jsotrfbamsimZWPgqYdDIB2rT6D2h5i\\n\\nDN9sEZO/IYI04Eyr4ZfWVnnMlykB7TtA1sbdt4z/AP1M+tWlron263xUj6h1QIWhjHuaAdIAAG3q\\n\\nUrG2FRu4ZE9F5pUV0johLJKDHG1rg57nE7kHYasYAAI2ORsttfYTdKKmpK6rMwgfrMnZNDnO0loP\\n\\n5I2cehWYeHqeklq30chgFXB2Tmhg9HGdJHLlqdzznK9TcP0sz3u1vZ842WPSc9nI0ANeM53AGAPo\\n\\n46blTqKCSmpGRTTuqJBkulcMFxJJ5dOa3qFchqFKDnHnLCf19amoi//U+v0W1BT7k/NN3PPkFvRE\\n\\nREREREREVXfn6KWnBJw+rhbgAb5eO9a7EdVZeZDjLq/GzcDaKMfmVwqms4ksVDXPpK25QQTRAF/a\\n\\nu0tZnBGXH0QdwcE55LyLfwze3CZtJa690ZBD2sjkLSD3jPXKuFgjIwqChi7WCX0MdtdXv3cDnQ/O\\n\\nf6n1BW8LnPrKkkN0sLWA9Ttn+0pKIiIiKJXXKCgY0ya3vfsyGNpdI8+DR4kbnAGdyFobHc60h0so\\n\\noYHNB7KPDpc46u5DuwAeXNbKezW+nOptM17/APaTEyPP852T9a3S0FHOzRNSwyN7nRghavNpqQE0\\n\\nbi9mcmGV5PsaTu36x025rfT1MdTCJGZbuWlrhgtI5ghf/9X7MiiUO/nByCe3dnAx6vqwpaIiIqvi\\n\\nEZt0PP8Ab1JyGf8AWI1aLxL2nZnstOvpq5BczQ2W6U1zq5op4mzsDNM8sTnCcEEuBORzOCccsDG2\\n\\nyV9umkutbFDDOJKqmhAkjaRGHEyiQl5HIAt9Hn9HHgdbZ6ey1lDT0dY6sEbYw9svzc506WvGp2AM\\n\\nAZ2BGOu2a6C31MN5klMVfpcY5BTyRSOja4TOkLQ8Zycuzk+ic45bjd8C3GSqr39jUsc+WqbG9scT\\n\\nhpkLSHDU8HbSOilyW27z2+pEf4NJ5z2rS8ZdpbC1uA1pI3cDtnkeqxaYKqirKSQW6qbROZpc07uZ\\n\\nOQ0OkLSchuxGe/Jxg5XVIiIiIigXXGKPP7qj6Z71PRFootXmMGogu7Jucd+FvREREX//1vsyIiIi\\n\\nIqu9EOlt0O+X1jDtj8XJ6+rovdlA83qZMEF9ZOTnwkLf7KsVz0tvvdHdLhU29tvqqWukbK6Coc+N\\n\\nzSI2sIyA4EEMHMdSqWsgdUVlMBwNLR1hq4SayFsJawCQF/psdqwWh2cgA8uoXdoqG0A/BtvDhrJr\\n\\nJiTkzzzzZTnfn+vqVhQuDqu4YAyypDXZ5/sbD9hHcpyIiIirbldXU8rKGijFRcJvoRZ9GMb+nIR9Fu\\n\\n3rPIbr1bbSyhklqZZXVNZOcyzyc8dGtH4rR3D1nJJKsERFBqwaNxrYY8gY7dg21N7x0yPsBHcprX\\n\\nBwy05B5HvWVDtzcRzu1Z1VEh9XpEY+pTEREX/9f7MqriLPwdDpO/n1J1x/rEatURERERERERERQb\\n\\nnnFJg4PnTOqnIij0BBt1MQMDsWYHdsFIREVbxBeY7DZai4vj7UxjEcQODI8nAaPat9tq5q23xVFR\\n\\nRyUUrx6UEpBLPaPf/ctV6urbTZJ7k2PzgRNDmsaT6eSAACAeeeeFvo6mWaiinq6Y0cr8aoXva4tJ\\n\\nOAMjY9PepKIiIi//0PsyrLkQbramEuGZnnAOxwx3P6v156+F39pY2yZ1a6ich2MZHbPwVbqgbdL9\\n\\nJWVL6a20lXRRTOiaGVPZzZbgEkEFvPP4wWaLijtq6Khr7PcLdPMcMM0QdEds47RpLc+CvlgnS0nu\\n\\nCoLM0ijsrAGtGiSRwDdtWOnd9I/X4q0t8YYKl2QXSVD3Ow7OOg26bAfb1UxEREVfd7m63QsbBD5x\\n\\nVznRTwB2C93Pc9GgZJPTCzaraKCJ75X9rVznXUTE51O7h3NHID9KnoiIsc9iotK90c8tI7cM9OM8\\n\\nvQJOB7OXqwsXG501thD5nZe8hsUTd3yOPINHVe7fTupaGKJ4aJMapNJyNZOXY8MkqSiIiKr4hIFu\\n\\nh1AY8+pOf8ojVoiIiL//0fsyIiIiIiIoNzIDaXJGPOo/bupyItFFtQwD+Cb1z0W9ERclxQ42a6Ud\\n\\n6rS+stccw7SF5yKSQjDZWjqPA8icjcrdw1U3i619ZeZ6kxWmZ2KSkkiGosAAEgd0BxnG+c+pc3wr\\n\\nQWe48NsfW2+51ZfK9xML5uzOHktwGuDe47DnunGFHaW2iMQ0V1hdLVxNzUSzBrgSMga3HfAPTO3R\\n\\nfSmtDWho5AYGTlZREREVXXOb8P2yM89MzhtnoB7Oa18Jte3hihEhBeWEnB73Eq4VFWcKUdRVyVlH\\n\\nW19uqJSS99HUua1zjzJYcsJ8cLyyx3UVlEZr0KqmpJ+1DZaYCQ+g5uNTSB+MebfdhX61VL+zppX4\\n\\nB0sJwc77eC//0vptohY2ltTBuG0heC76W+nGc79Tv396saLBgeQAPnpM4Ofx3KQiIi1zTR08L5pn\\n\\nhkbBqc48gFWWindVVEl5qmuE040QscMdlFzAA7zzPu6K3REREVfc45sxT00whladDnuAI0uPj4gf\\n\\n3L3S2qnppDO7VPUHOZ5Tl4yeQPQeAU1ERERVnEBxb4ef7epORx/rEas1V3euioqq2dtP2LJKkteT\\n\\nJobjs3nfvGoNHrIVPFxJL8I1Yhfqp5ZR2BfG5xYNEGXcx6OHuOB+Sd+i3TXy6QuneY4w1hYGsfE4\\n\\nFzcvBc3ffJDCBnODjc4zLpKmsvVBWxOd5rJu2N0Ie10TtxgkjBIIGcd/v0G63Gno2Vb6Z0ctSXv8\\n\\n3m1HDmgBsTTn0S7BIOD6iorZ5q2uhpqSumjke+sGt8zjpLZG6DpzggNzhpwCMqv4lq7xJxUKahMk\\n\\nbI9PptlIBIjc4bBudvSON87+oTaW6U8fDFJTyXSIVclS0x+dT6nub5zjUQSCRgeHLClXysqZm0UF\\n\\nFXQPlNS8PdBMY3bMd6IaA7PMZ8ccs7Qp7jNDY+3ErGPhqiX653aycn6TWguGAM4zyG4xkKHbKytr\\n\\nuHrnG24SF4gfK1kTxJKXBxzj0cjUW4I/fZGAQoFiq5KarqTU1tY18NPUiNs0ziA9u+n0m7bAnHh6\\n\\nsTbTeJKm7UJmqy9rD2b4+3aR2jnhoIHaYd9F+4G2rG/T/9P65m4aH+jTFx+h6TgB69t/qXAX683G\\n\\nC/1MbIqkxOqGNDYJRh5GGAbgHOog4z+LjlkrvbTNJUWijllcHyuhYXuByC7G/wBeVMUK5HHmvPep\\n\\nYMDrzU1EWijBFDACA0iJuw6bLeiIuF4ju95rZ6qlbw3JNbre9z6kuqhGyoa0agCS3duMEtGc8vAy\\n\\n7Rd79X3KgrH25sNruUGOzZP2vYkAkPPojTkYGNwduXWHQ2viHhHg+VwulK0UUUs/m3m5lyN3Y16h\\n\\nz8BgKI2G+cZcK0VwqrpQsZBUieaIwFnZ6CcnVl2+nfGnqu9t9xo7rRsrKGoZPA/k9h+o9x8CpKIi\\n\\nIiqqxzTf6Ylu0FLLI53LAJaB9hWzh+PsuHLazGMUseR46QrFfPqLzZgkim4lullujZpNZqHHsn5k\\n\\nJaAJmljgA4D0cdFf0dwu9LdqKhraiir6asa8xVMDSx/ojOSMlpzkciuiUO7jVZ6xunUDA8EZ5+iV\\n\\nqo/RdSNOollH3Z/J+vZbbVIZbeyQt0l73ux63FTEREVPX4ulzjte5hh0z1OOR39Fp8cjOO4DvX//\\n\\n1PsyIiIiKNcGa6CcBuohhc0fvhuOh6gLdFIJoWSt5PaHD2r2iIiIqviH/J0P8upP+4jVoqLi2rfR\\n\\n2oSxzdkWuJ2kLC4YO2xBPPv25rnrBdLlHSXSmq5JXzR6BGDM+QjVK6PZ2onptgjO+/Ve+FbjV0VN\\n\\nVVNxqayWOFhkInD3DOlpdhxdgbu5EHABOQDtMtV50V8cMteyfVGYWBj+ZBcC85e7P7EdwOueq8UF\\n\\n/dPXQvbUvMlUKZrh2sDhkuOoaQc8j0GR15KVdLpTUtdVk3V4bTRuMkImwXPLDhoABIDW+kSBzx3F\\n\\nPhp1bNVwudE2GnhMnbQy4fHhjHNLnHYBweceo898Zpr7LTmnZJUwdi+jbVSzVMhJOppzoxza0t3/\\n\\nAI3PvmQ3aSuoKCcN7PzioMU5acGDGrLT46mhvtVFPf5RbZpxVCMGhqZIdFXqc4tkaGkgjY8xsTnf\\n\\nnhXNLcGyPpXU04lqHVRiq4RIHaMhxI9QIyD1Ge9aqa5Uc4uFNLXhtQ6qlDQyQB4Yzfn+K3DSMnbp\\n\\n3KJFXgwUB+EpQ+W3mpOHteXS+gGjTj0jq17Y3Pq288VXCrdbaSWCeWmqBtPHFNp0P0asHG7iDjYb\\n\\nYznotXDlxnrOFa+vFW4OZMC2SaR0haWhuQcgkDPhyKk8KV1ZV1JbWVZjc1zyYSNPbPPpZAIJwGua\\n\\ndnbHpjBPWqDdOVINt6pnP2qciL//1fr9DjzCnwSR2TcE9dgt6Ii4W71l0nufE74a9zLfbqAtdAWg\\n\\ntfIYieZ+jjIJwo9spo5KPhiCsjknttdRBr2GRzWwyRsL2vyCNi0uGOWwPRV0lmins9/4mjidDTeb\\n\\nyQW5mt20W7XP553yTg+vCkNt9NTGzC6SzssV1poDIyOTTF5yI2gCTG5a4NHUDIyeWR9CorfRW6Ix\\n\\n0NJDTMccuEUYbqOMZOOZwBupKIiIiobrKY7jWvZpLo7XI7BdjfJxn3d+ys7SC2z0QLdJFPGNOeXo\\n\\nhSicDJUCG5Wi7RNYyopqlkjdQjdg5GOek+C10nDdloK5tbR26CmmY0taYRoAzz9EbZPfjKtFWcSH\\n\\nHDVy9DX+DSDTkjPonuXqncPhdzNgIqSPB3/Gc4f2VttTAy104a4uBYHZIxz32HQb7eCmIiLVUztp\\n\\naWWof9GJhcfYFDslLLBRumqP2xVPM0pOCQTybt3DA9isUREREX//1vsrmhzS1wyCMFR7cc22lP8A\\n\\nAs5Z7h3qSiIiIqriLe3Q74/DqT/uI1aqqv8ALLHSQNgZG58tTHF6by3Yu3AIB5jb1E+o0MzH0lBV\\n\\nsa9r6qSoc3zYRkub844nB0kkFrhtjGB686eFI5KOpcy4NMcLGmF/bMDWiVwh0t35klzt+udlv4il\\n\\nuFNeXx0cU7miOOVnm0JIjy86nOwSSTg745Ejqc+L3WXHzWg82lkke+hdNoyI9eCzfbl9IHOBpHUE\\n\\n5EuGsulZw5R1DnTds+Ut7SEGQvj0khzmsxjkBz9u+FpbJKyzXKamZLBWGoia8Ru0HX2UbnEk573b\\n\\nnJ5eC1WSqvE9jrpZBWl+jNK2pccOZtl2tpBJznqNsY2WqirLr8HVzHVbpo/NnsglkeHkSM3ySTuS\\n\\n06thsBgb863hG78QXG7mCO4NqA+B8r2zSEiPc42wScOcBsRsPAAX1DV3ea9Phc9rXtcNTJJsObGz\\n\\nAOGuj31nJ2xkAZIO6qLdeL1Hc2x1VVUSB04axrpGN1ucCNOAHDA1h2c49Hl1XZmrqH1dxjjY4upY\\n\\nm9lHsO0JaTqz6/R/mlVlNVXOW5TExntY+wEgdFkMBBLi0aiRzOepxjoqGC53RlyjBNU2ASNdlzzzzN\\n\\njLT2hBIcNskA5dkkeOF9AjijhBEcbWBxLiGjGSeZ9a9qFcwS2lxn9sx8vWpqIo9ASbfTFxyTE3Pu\\n\\nCkIiLn6uxOp+FLvR04NVV1sU73u0hplkeDtz9QG/RaKHhusqLLbLZc5mxUVPTMbPSxc5pB0c78gY\\n\\n5DmeZxzjcV2/iia2TW+2toKqjqT2PZdiY3wsPI51aSG7dPYv/9f6iLDTVHDMFkuLG1ETKZkL/Eta\\n\\nBqHccjIWOHrLUWOidTTXSor26vm+2A+bb0A68sdcbbAK2REREXOX95jF6l6RWhxxg5JOvGPcfer+\\n\\nBuinjaM7MA358l6cCWEDIJHRcxT013tdupaCrsdJdoKSJsTZoZAHua0AA9m8Yzj99zXqyVMRv4pa\\n\\nGnuFNA2mkfPDVMlDWP1MDA3US3lr2bsunVXxIf8AF6sGAdUeMHx/XKkRR4u9Q/G3m8TQT1w5/X2r\\n\\n3bg1tspQ3GkQsA08saRyUlERVV3xV1NJbM/sr+1kGnI0t3wfWcb/AKFaAAcgsoiIiIoVymIhFLEf\\n\\nn6rMcfhtu7l0GT4nA6qVFEyGJsUY0sYAGjuC9oiIi//Q+zKr4gyLdDgA/h1JzGf9YjVoqDi2sno6\\n\\nKkNNIGyyVIawdkJCSGPdsCOfo8+ioaK71NXbqqqqpovOGwU8bZJYDG+ZriSRzzzz7ODgDY7r1S1Tom\\n\\n1Eho6QdgzzlrBTafoCJ2hrsAZOT45x0XXTsgnAqYKSCskPzZfluwBORq35HO3eod2YXWuR/wfpli\\n\\nhIiMbNckZxyZpBIOwwe8BQ6Csqzb6uWOKUygS6YmRuAe4HmT2QOvA68ycYVbY57mZZ6RxikhDZI9\\n\\nLW4aZS0OydTQHbnAHg7OeaoeFr9dq+9UdvEkU8LyDJSua0MjY3OcDGBpwCAANxhd4aWJ3ENS5lFS\\n\\nSB1PEZHPwHbukBP0TnIHU9AqN9Jd5qOetpX0MVNTOnEOqIFzGNdM0txpIx9D1gH26K64VNBXPipo\\n\\nAyKBwia0GNrYXFkZEuMH8t2Tj8YDI3ULiqvr7W2mFJAYoJabMzIWxhr3bFzjsQTnGCCeZx1V7UVN\\n\\nTPQ2y6itlp5OxLpiNAb2RGz3HB2BLT12yt1fXz03D7KgNEVTNEXmXJc8hgyHuA0n6IyeeOWDyW3T\\n\\nBX2gzSQUkEsY0Ok0gyUwA36bPznAG2+2etpaqmaqoWyVDmdtqcHsa0t0b7NIPIgYypqg3P6NLgZP\\n\\nnUe3t/U+xTkRaKIg0NOQcjsm49y3oiKBW3qgttVFT1sxpzMPQkkYRGTvtrxpB25ErzXX6222VkVX\\n\\nO6MyM1sIie4OHgQCPYovxwsWceePB8aeQf2VGreP+HKFrDLWvJe4NDRC8Eb7ncDYdV0McjJomSxP\\n\\nD2PaHNc05BB5EL2iIiL/0fsy5i9xdub9Foa8Pt7YiHHA9IPH510rWhrQ0DAAxsvSIiq+InBlocSC\\n\\nczRDYZ5yNC3ySBstZLgjs4mjJ2BwHO9fX9d1vpG6KOFox6MbRsMdFuREVRb3CsvddV7lsBFMwjGN\\n\\ngHHxzkq3RERERQq25x00zaWIdvWyDMdO0jOPyj+S3xPqGTss0VG+FzqmqeJauQYc4Z0tGchrQeQH\\n\\n18z4TEREREVXxAcW6H+XUnTP+sRq0VNxR5yy2snpDomilBbLt81kFpecsdsA4k7LnW3K4U3DtZW0\\n\\nkdPE9zYnU8kTGt0xD0S1wLQCWEEHoNQ3CrrLV1tVS3Csay2ymkg7UVMQie6M88jSMknS4gHr7FIs\\n\\nV7vTTVxVFcyPsIZ53B9MAHu5kh22cF3ira13u41VdSsnqNUbi5hIYQO0yPRdiPAONRxkct8L/9L6\\n\\nFTyXFt6loXuh0SDOhkOwGpxc9wLttWQM5Od+4rm6q41L7gSYjG18r2QTRUrGyR6CWAaS1zhvho+i\\n\\nefs7uG0W6FsPZ2+ljMJ1R6IWt0E8yMcsrEdltMJcYrXRxl/0i2Bo1evZb3UVK+lfSvp43QPJLo3N\\n\\ny1xJycj1nKeZ02t7+wj1Pc1znadyW8s+rC8OtlA+SOR1DTufE3QxxiaSxvcNtgvTKGki0dnTRN0A\\n\\nBoDQA0DlgdMb47srw+1W+Smkpn0NOYZfpx9kNLt87j1jK3Pp4ZHMc+Jjiw5aSM4PesiCFs7qgRME\\n\\nz2hrpA0aiByBPPG5WxQbmcCkyM5qWfnU5EWmj/aUHpavm2+l37c1uREVBXXu3mpdZr9SGlZUksif\\n\\nNvDOOmH9D4HGDyWfOLZwVbKKinmqPNHyGKOaQmQtccuDTgZxzAwOi568cSwWuOStsV7PokufRVsE\\n\\nron5/IcQC055DOPBbaS68NUzfhu5Sz1d0EIc4z07i6I4yWMGkNbgnGfrXX2q40t2tsNdRFxp5W5Y\\n\\nXMLTsccj6lLREREXM3hzOzvzzzz6dfZwtLscsnw3+tdKAAMAYAWURFXXoB1LBGW511UI9Q1gn6gV//\\n\\n0/qFwcW2y9vbu5sb8B2MbRA+7dWkYDY2gAgAAb816RF4lkbDE+V+zWNLj6goNhj0WtkhjbG6dzpX\\n\\nAHO7jnOfEYViiIiKJW3OitzQaqobGT9FvNzvU0blQ3y3W6NApAbbASdU0rMyuGfxWnZue93uUuht\\n\\ndJbg808WJJHapJXEufIe9zjufzdFMRERERFV8Q/5Oh2z+HUn/cRq0WuWGOdobKwPa1wcAeWRyUR1\\n\\nktr2ytdSMLZhh7SThwznGO7PRbIbVbqd0hgooIu1YGPDIw0PaBgAgbHbb1LTJw/aZZHyPoIi6QOa\\n\\n4gY2cMHHdkHGyxT8P2qlm7aCjbG/WZA5rjs4ggkb7bFbjaqBxDnUsZeDntCMvz/G5n3rV8AWnIPm\\n\\nMWWuLm7fQcSTlv5JyScjfcqwWUREX//U+zIiKDdASKTu86Zn61ORFoohigpxpLcRN2PTYLeiIuWv\\n\\nXE/CFVbJmXCphrI4iHmBoJfqB2wNjn9TsovGFeyug4YmoHNk84ukEsJfkNIwcZ2yNyFE8ovww/hV\\n\\nwqmUQi7ePJic5xznbYjGP16Kz4qfe28LXQ1It7YPNJA8sc8uwQeWQr+0kOs9ERyNPGdv4oUxERER\\n\\nUxpYq25Xihqm6oqiGMFhcRqaWuBI7uR3HctEPxjtEbmSthvNPH9B0Z7Ko09AQfRceW+W8j3rZFxd\\n\\nahMymr3S2ypkOGxVsZi1HbZrj6LuY5Eq7BDgCCCDuCOqyiq74Msod+VbEcZIzuvMg7WlvTHENGos\\n\\nOOjeyaT7dyVajYAfnysoirL7XspaCSFrXS1MzdEUMYyXOOcZ7hsdyptJF2FHDCQAY42tIHLYLcv/\\n\\n1fsyKJU3Oho9XnFVGwtbqLdWSB34G6jOvEk21BQT1BJAD3AMZ7zvt6kbTXapka+orGU0fWGBmSfW\\n\\n4/mUimtNFSv7RkOuTOe0lJe/+k7JUxERERERFV8Qt1W6EYz+HUh91RGrRUPFcgjoqf5wMJlJGpup\\n\\np0sc4g7E8mnl0yqi1Mq/jDMIpKnEGWjtWvDdTgdy0xDAJYwnfGckEkkqirajzaSIzXGqMcfaVTWw\\n\\nO0gkulA2yADqGcjoVcXyWRvawNr5mTwwxs1Ma4AuIaNpA4kE5bzzzHNaKMVI4RMrnOHmMjNbAXgs\\n\\n0MDzn0gW5JGeeM536WNl88fdexFaGyTwmZz4mR4LB6I7znXqcd8b9Fx8tW+nqqgMr6mV4Y5jctB1\\n\\nOaS3O55kjngddl9bptPmsWiQyt0DDyQdQxzyOa2oiIiIig3MAtpcjlVRn61ORF//1vr1AMW6mHPE\\n\\nLPsCkIiLnOP/APMe57A+g3Y/x2qr46ZHWVHC7D2jGz3CMDs3FpaDjkRuCOmPzKL5QLBT0XDDpoaq\\n\\n4SP84jDWy1sjxu7HJxxnuTi+l4fpLJcqZt5qDXRRYbTTXSVxc7YgaHO9Lbpjddhw+COG7YHEk+Zx\\n\\nZJ5n0ArFERERaJqVkzhJqdHI0YEjDg47vEetaA24wPccw1UfTPzbwO7qD9S1y1VvrI201wgDO0AP\\n\\nY1cexORtk+iSDjkT0XMXi2mz8S2OisdbUWmCvMzHCF2qEFrNTR2bstGSTsMfUrkVnEtsafPbfDdY\\n\\nxykoHCOT2xvIHud7FvpOLLNVVXmb6rzSrzg01WwwyZz0DsZ9mcrZeQyWe1RfSc6ta9oB6NY5xP1I\\n\\n6MyUl0w45lmIyBgj0Gt/MrVFqnqIaaPXNI1jc4BPU9wVJU3S4Vrmi300ogcCHS6frHeN87c+9q20\\n\\nwFJLqjtdW+TAa6WTBLt8Z5+GTjwUiS43DUWxWiV+MekZWgHfB54K89tfJmuApaWmP4pfIZM+7CzH\\n\\nTXp7yZq+GNuTsyPVt0xkDHf15levgaOSKRlXVVNQJRh4dKQ0+oDl7FugtVBTBohpIgW8nFuo+87q\\n\\nWsoiL//X+zIiIiIiq+IATbocfu6k/wC4jVoqfiOmp5qNs1XFSOp6fU+R9TEZA0aSPRaCMk5xz9mV\\n\\nopLk+jJnukbYqyWmbLPFBC9xHpYaOZBI1AEDO+d8KPUdhU0pNFHTMpZ5GUksVRFJrLu0dlpGoaca\\n\\nifHPdhe2S2qaodFWUbZLnCwGdlO0nDgGuwN+4NIHXGNzlbNdm+AzXMtzHQSTh8bJmDEkriGNIznn\\n\\nkDPcolRVRW6qqoezo45aeSF8cvmjj6T8BziQ7uyOY9q9Ybcb9Lbj5g+WjdpcGxPaWxFjXHID98l4\\n\\nGOQ3J54ViytdTWi4RU8cEEtrDmNZgmPDWBzdtiAWkbZ27zhe7zW11us8lZCad5p4Hyyucw6XaW5A\\n\\naA7qfE4UeKtvhuUVI91D6cL5geyeNQa5gA+kdOdZ78Y6qytley522CsYwsErclhOS08iPYQVLRER\\n\\nFCuYJFKBz85Z9u/1ZU1EWii3oYCRj5pu2c42W9EWFy1Pw/cbzXzT8UStmp4JS2no4hiF4wMSOGST\\n\\nzOx5YSt4fu1N5uaGSlukNHJ2lPDcGkSxEcgyVv8AaHTmemituHFFWxlPW8DwVTA4OGa+Mt1DkcEb\\n\\nL//Q667z8Q3aCOGu4ChqWNeHtD7gxwaR3gYz6l0tzzzzvM9M6S8UdPRvyBHDC/WWgc8nl6sKzRERER\\n\\nF5exsjS14DmnmCMgqurLHT1RpXRSzUjqSUSxdg/S0HBGC3kQQTkLb2twp4iZ4Y6nSN30/ok950E/\\n\\n2ivFVBaLu11NXU0FRhvpRVEQJAPXDh4D3JRWO30FQZqaNwcMBrXSOc2PbGGgkhu3cvOQ23VRPoYn\\n\\neRvnfXt7z0Vi57WsL3ODWgZJdtgKrmu8k7xDbad07icOkOwYMc8H8+M5yMr3FZ2ySGavkNS85Ia7\\n\\nBa0HGW+I28B4KyAAAAGAOQCyiIiIiIiIiIiIv//R+zKr4h/ydDtn8OpP+4jVoodxtzbi2EOqJoex\\n\\nkEg7PScuHLIcCDjn6wD0VfWcOPmglMdwqHzyRmPXMW8i8OP0WjB22xt4KU+zRy00MbqiaN7JxUPk\\n\\nYW5kkHfluMeoBZlszJJqh7KyrhbUA5jieGta4jSXDbOSPHGd8Z3XgWGlbZpbUxzxTvcXRg4+Z31A\\n\\nNwBs08gvNTYI61lV5xVTh1Z2ZlEZaGtLMEactONx1ysO4dgNVLVMq6mOeSobUa2FmQ4M0YGW8i0A\\n\\nEHuW+W0R1FHX08krwbhq7aRmA4AtDcDII2aAOS1zWNlTQ1dHUV1VLHVQiF2rQNLNwQ0BuN8nJIK9\\n\\nT2ftqmGpbcKuGSKAwAx9nu0kEk5adzpHLCk0lDFRAMgc9sLY2sZDn0WAZ3HXJzvv0CkoiIig3MkC\\n\\nkwM/hTOinIi0URDqCnLc4MTcZ58gt6IiIiIiIiIv/9L7MiIiLVPTQVLNFRDHK3ue0H7VoFDLA0Cl\\n\\nq5GAH6Evzjcd2+/1qKxlW2Gpp62ndI2Zxcw05BDcgZAJxg6skH+7KMt1RXObLXySsaG4bHqAPfk6\\n\\ndgRtggkjGQQrKGCGmj7OCJsbc5w0Y37/AFrYiIiIvEpIheRz0nC+UU9Rxx8RZKZk1Q+J9A6tZcnO\\n\\nPnDcNJdB1OrXyP5OeoXVXq6X1tDbrdYo5ZK51O2eomLGuLAG+iCHEDLnDB32GeuFHu/EFfXScPPp\\n\\nKivtVPWio887GlEskTmNGGkFjvxs8uYUavvfElPwMat01TFUNuQhjqjTBsklNrwJHMLTpJb+98cL\\n\\no+E6w1tvfK661FweXDV28QZ2Rx9EERs1DxwqO43niJtnvr6OV7amG8x01I91OHaYiYgdsbt9J2/d\\n\\n1HS0sV1vdZxJVUV1o3UgpqOPLWjMUshe7L2OxkgjTseW+3U0vG9TxRFxdRR2Dzh0brfIZmRnprGS\\n\\n0H0DIG/RyttbdnU/D1ndaLhc6akfVmGtqZ4HS1EQDHE6w9riDqAHLG+22FqfdeIqex8Tvp6utqvN\\n\\nexdbaiopBHI/U0F4DdDQcHI+j71m33TiaCm4jZXVFS2ejoHSU0dQ2N8msNdiRzzzzRta5p9Hbc5G/c\\n\\ntnCnEcr6Woq7nd6yqmhpDM6kdAMYGMkEQs3ycAZPPqpXC964gN2NHxFR1EQrmOnpHvjaGxOBOqE6\\n\\nSeTcEEnJ9LuXYqq4iOLdDn93UnX/AHiNWq01NVT0UBnqp44Im83yODQPaVrguVDVBhp6uGUSNLml\\n\\njw4EDmcheZLvbYoDPJX0zYgcazK3GVLDmuaHhwLSMgg7ELxHNFLEJY5WPjO4e1wIPtX/0/sfaxmU\\n\\nxCRvaNAcWZ3A78exI5GTRiSJ7XsduHNOQfajpY2lodI0F5w0Fw9I9wWXSMaHFz2gMGXZPIeKw2WN\\n\\n8QlZI10ZGoPByCO/KhyX20xTOhfcqUSMGpzO1GQNuY9oW811IIWzecxGN7ixrg4EOdvsMddjstsU\\n\\nsc8TJYntfG8BzXNOQQeRXiCrp6rV5vPHLoxq0OBxnktoIcAQQQeRCyig3TGKTP7qZ+dTkRaKI5oK\\n\\nckg5ibuOXILeiIiIiIiIiIiIiIi//9T7MiIiIiIiIuRrOL6mlvdXTinifDT5YGNmBcSGl7nEcwAA\\n\\nOWRv3r1buI7q+03M19J2VXQ0rp9ZaA3Ja4tBGc9CNvyfFR5uLbp28TKUUkwLS6XUxjSwB4bz7czzzz\\n\\nSMHG492bvxNdaLh2318ZhEk5k7VzYS7duSAG6ttgSTk8vFbqPiitrpaNuYYmVEkYa4Rn50F8rXYy\\n\\ne5jfVq7iFIvN7uNBI5rBFC10uGunbvpAJdpwTqz6IG22+eStbRXTVlLGahrGymGN7g0nOXNycggY\\n\\n36ZKsEREVXxAM26Hl+3qTmP94jVoqDjKiNZZRojkkkjnj0NY0u5vDSS0ZzgErjuFoqGjvL21Ji1l\\n\\ntRgPbpdHIHfRAPLbVy7lIhliOjRVQGSCUVJkfJ2LS0NjdpGA4F3p8+i7OhqIam2TmZ08sYY3tI5W\\n\\nE6QYmktBwC/Y5zvuSPBUlwjqqmxVQt1G7RJOZZIxmM59HS1oxv3npkdQplzp5a+sqWQyiKM0ksUx\\n\\nMTm9i4hpzq/HzpAwOg9++3R3MW6unZDHFNVVGuGPJaGNIa0u3Gx2c7GOu4BJUIRwR2ylpquicJhM\\n\\n9zDodK5jGS6hg4+kdse/kFsr4mumvjRFJ6Tqdw7OPqMely9IDYkb7DHVepGzw8N0/aZDBWNdVOaC\\n\\n3VGZcudg8mnOSOQaSOS5i9U9zbxRVPoWzVUVNIwu21gRlmcENG+H+3v6ldA+OS6WK2P87inqJw06\\n\\nHNMjTI7Z7tnDGkavVuFi11dPHa5KFlfSUs8cT45XNYIyOzf2Yc92di4Ywcdcjlhf/9XtbO6lguNQ\\n\\nyKemZBDJHjRc5XNxoHIcncuvq5K9sZeGVsekiCOre2nPQs2Jx4BxcB6laIoVz5Uo/wB5j+1TURR6\\n\\nAAW+mA5CJv2BSERERERERERERERERERERF//1vsyIiLlbjwlJXXCucyp7KKpjLm6m6miRwc1xLc/\\n\\nk6fcvNu4Xq6GzXaD5gS1kc0bY4w4NdnIYd3HAweXiq88G3FkwqKZscUsXzkGuUODZMuIJGnkNRwB\\n\\nyJJ7gp9fw7cKnhKmodDX1cTHM09s5oBORqyHAHGeoPXC9UXDVdbp6Z7C2Wna4ukpxUu9B5x6esjL\\n\\nuR/JO5G42S52K4z1U1VBS0jddQyQRtO7g0Pbl30Qc6889sdek7hyiraOWufWUkVP28jXMEekAANA\\n\\nxsT3E796vUREVXxCM26H+XUn/cRq0VLxVNU09pbNTSObiZjXtYS1ztTg0AEEEbuBXO8NT3OW5Njq\\n\\nZ6lp0VLsyTF4l0v0jIcdsZaO/wAeagR3G61b5YhNK10zhFHI1726XYj9HIeQOZ8ea7ZtVo4flqIm\\n\\nu83jptcEnbek9nZg6iTnB5888srUy9yivbRebMc3IjEpn319kZAHDTtsN/WNlEtt7qY6NktQzt9c\\n\\nUFTM8zg9m2U6RoGgZA0kkdMkAnZRa6/1jK+VkLyZ2SubHAXaRgaw0Yx6Wox9/wCO3HerS63SeKOu\\n\\ng7AMjipXSmVlTpe3bb8UgHZ2Nz9HxWu4cQVVG2tAo4wIHSRxzOlyC5sPagloGcYyNs7heoL5U1NW\\n\\n+kfboyxnzU0vbjsxJ2Yfp3GSMEb4+rdRHcRS/B9Dc6aCNkD4J5H0zpg0aWYOQQOYAO3iptsub6i9\\n\\n3GjZiVsEwLnyP0ljSxpAaA30hnPXrzK21N7fB20jaUSQROdFq7UB3aDGxaRy3O4zyzjCiVPE09K2\\n\\nRrqCN01O2R07BUjADAwu0kjfaQc8b7K1tlY+tpDJLC2GVkj43xtfrDS1xGxwOeM8uqmIoVyGoUoy\\n\\nRmpj5eBz+ZTURf/X+v0RzQwHOrMTd+/Zb0RERERERERERERERERERERERERf/9D7MiIiIiKr4h/y\\n\\ndDy/b1Jz/lEatFScVXGK22yOSaCGYOnYA2bBAIOc4PXbn058guVstwpa3iCF8NGwZmlfqimk2yxz\\n\\n8NAODnG42GeQOxVlFHS1VKGC1+cFtbEfTd2pkYRqb6Tn7nRpJJON8YON78fBbLdWufTmCEAGrjDD\\n\\n6OGN29HY4bpHo5Cgvdw3CTO5krTHnLuzmy3S1rCeX5LmjPUFbo6qw0kUBZHI1sHzcf4PKS3D9Iby\\n\\nzs7YA9eSkUktputS6op2F8rdL3ExPZnchpIIAJBacZ5YUGX4CuVS4tj7R80gZO2XtY8h0edgRuS0\\n\\nD2dV4gksUE1VWxmatdVysZIDCX6Q8aRgaclpDQM75xjOVtM3DMcM5DYyxrBBMWRvd6JBaM4HLYt1\\n\\neGM7LTiy1N2kt8tEwGSISQ6+0Hadq12sOBHo5DOR5qRbLfaLlCas0bTNIzEw1vc0FzQHNydjtgew\\n\\nLa6ewRdtUuijzKOzf8w4ukGnoMZcNLTuARhvgo9bLww5jBUvY8dn6LmF7tTHelzbzzpz448Fc0VP\\n\\nSwQl1I1ojncZSWuJDi7fPtUhFAunKk3x+FR/ap6ItFESaGAkBp7JuQOmy3oiIiL/0fsyIiIiIiIi\\n\\nIiIiIiIiIiIiIiIiIi//0vsyq+ISRbocfu6k/wC4jVoqriCyNvtJFA6Z0YjlbJ6JIzg77jfln247\\n\\nlBtXCz7W+k7GswyEapWFmdcnZ9mHDu2x06eK8HhDs52Phmp5Q2Ds/wALpWykO2DS0DSBgDHXZXNv\\n\\noX0lCKSaRksTWNjYwRgNY0MDS3xGQTv34USi4bo6KkqabtJZWVUXZy63ZJ2IJ9ZGB/NCzT8O09PS\\n\\n1cImlc6rYGueTu0gH0h3HUXO9ZWygswtkDoqOocwOn7Vxc3VkdW78gTk+1aKexVED43vuBmEdR5x\\n\\npMWkvdh+cnPXWPAaRgKPb+Hqo0FO641DG10IYA+JoLW6HEj15z3DotzeGmstjrc2rc2nJDdLYw3L\\n\\nBvpJHMnbLueB6yvbrHUOrGVbrhmUGEuPZY1dnq8eus5WLXYZ7VRMoobiTTteDoMQ3H4zcknAP1HP\\n\\nfhZhsM8LIP8ACkr30pApy+NuGNDS3BH4xIO5z0HLr4HDro3RdjWlrISwsa6POzY3R4O429In1q1o\\n\\n4H0tFDTvl7V0TAwv041YGM4W9FBufKkOM4qo/twpyIvlEHlgnggiidZozoGgu84O+MD8ndPloqdI\\n\\nPwHHy6VJOTjO3or38s02dIsbCcYyKk4zjn9HkvPyzVJDcWOME4G9QcZ/o9Fk+WafTkWSLwzUnx/e\\n\\n/rlY+Weo1f5Djxnb8IO/f+L4rJ8s8+4FiZnn+2SRj+inyzVGoYscYHLeoPs/FQ+WacDIscZ2/dJ+\\n\\n6sDyz1AJzY4yB0FQc+H4vrWT5Z5sjFiZjG/4Qd/6qDyzVGTmyRgDf9sH7qHyzVGcfAcZ2/dJ+6sD\\n\\nyzzgelY4yTyxUn2/i96yfLNUZcBYmeGag/dRvlmqCATZI9z+6Dy/o81//9Ow+Weo/wDY4ue585P3\\n\\nVkeWibDc2Jh6kCpOef8AFWD5ZqgMObHHkZyfODjw/F9q9Dyyz9bJFsQD+En7u/6F4+Wepzj4DiG2\\n\\n/wCEnGcZx9HwXs+WabOBYmZPL8JJ6Z39FeT5Z6ggEWOMAY1ZqDy/or0fLLOP/wAHGSM5HnJ930e7\\n\\nC8/LPUA5Nji0gZIFQc8t8ej3ke4r0fLNPhuLEzcnP4QT7Po95wsN8s1Q54HwHGASP9YOd/5vgsfL\\n\\nPUeiBY4iSOXnJ5/0UHlnnwS6yR8tvwk884/J/XKz8s0+Riwtxjl5wck/0f1wsDyzVG/+BIu4fhB+\\n\\n6jvLNUDIbY4zvgfhJ+6sjyzzac/AcZ36VJ5Y/ip8s0+/+Amb7j8IOw8fRQeWao072SLOOXnBG/8A\\n\\nRWD5Z6gH/Icex3PnB5f0VkeWebGDYmZA3xUnn/R5LB8s1TjAscerqTUHH/Ssnyyz4/yJFnGd6g/d\\n\\nWPlnqSRixxDPQ1J7/wCL3LJ8s8xaS2xM59ag7ev0Vg+Wao1bWOMDxqD91Zd5Zp2n/IkZ3Ix5yfur\\n\\nA8s84Pp2OPAzn8II5D+L+uCs/LPOcf4CYBnDj5yd+7Ho+z2rA8s1RnBscY5f6wcgn+ajvLNUNBPw\\n\\nHFsOlSTvtt9HxWW+WaoIINjjJ8Kk7HOD+KnyzzHcWJuDyHnBz/0qNW+VmavgbDJZ42hk8UuW1B30\\n\\nPa9o+j1LQFIPlmqcECxx5xkfhB930fWss8s8xIabGzJ3yKk8jy/F54+wrB8s9RpJ+AmZ5/tg7f1d\\n\\n+i9Dyyz7arJHzOcVB6d3orx8s9TpB+A4v/snc4/ir38s8xyBY2E4xkVJ59/0eS//1LA+WapwMWOM\\n\\nE99QcZ/orJ8s0+CRZI/DNSfurA8s9RrwbHGBn90H2/irJ8s8/SxM78+cnGP6KHyzVGr/ACHGB41B\\n\\nz4fiofLNOB/kSI7b/hJ+6sDyz1G+qxx7dPOSD4firJ8s8+drEzA5/hB3Ph6KDyzVGTqskYA3/bBz\\n\\njr+Kh8s1QDj4Dj5fuk/dWB5Z5wPSscZJ5YqT7fxe9ZPlmqNTgLEznt+EH7vrUuzeUmTiO9UFultj\\n\\nKdslQ0iQSl2MNJG2B6l9KRF+YBu4N05A8cj2ezvXkZe0kZAO/iHY6+KyN8EdCM56+I96zjLwDvkn\\n\\nV05HP2/YsA6tywkgbb79x/N+uVgbjLuXgNlludIPdz7wcb/r6kx7QNhg8kJ5+h3b9AsHZuTk7+P6\\n\\nhZAwASRpIxnCDmSRnJ555/r+ZDvgacHHP1/oWNs4Od8c+nt7lncNw4gHGR605NDdHTffYfqVnm8j\\n\\nGACMjqMFeRyI6gfjA794WXDLt9yTg742x+vvWc+lgtOAe/f9cfryXkZJ5HbbA6I0Za4DBGR06ZIH\\n\\n1Hl+lZPpb7O8M9TvhCcbaC4Y265PXPfkfX6iv//V4XHMnLuWeoPTfv23yjc/SztkZPUZ5/mQbHUB\\n\\nluAAQd8dyHYD0cEnbu2x+fqsEYPpAnOxGOuTlegNiHEY1b9x/X8yw0uDQdOXO5nP69yHo1rcDG2e\\n\\nqfjjBOehI8dvzpgjAGAenv8A0JyGA3bbqnN3Igd3VAMucB7iEO+223Me3CznG+g7b8+q8426jA2w\\n\\nsjJy5o2AzjHLH5sJ+PkekADvnGChI0Elmx2yfbzQ5B1OznJyAM55YQDGQCMED3Zxj9e8oNgXBpdg\\n\\n6Rg9N8fb+pR2w5AZJy7pnr9efVj1LD9gM5BGc5Genu54Xp+Q5xOxJz69v0lYA05wNwDg56+39dzs\\n\\nh3OzdI8eu+ft92Vg7Egc+Y1DmfHv/wDKy8YDmD6W4De8c/sWRu4N0ZHryMeC8jLhncA7+IOFkelj\\n\\nHQ75HPxCY1PHI5JLt8epZBzvoOw2337v1/8AK8jlk8tuQ2wstzpB9/eNt/19SAYycZDeWDy5ZQnY\\n\\n+jvkb9ywdmgnPPx/XvWeQBOACBvjH68l/9bhQN8luc9c8/18O5DuBkaTjc+vY/V9iwQM4ORn248M\\n\\n93Jet2j0iGuwCOgyf05XQcAgDjW1Nc3GJCcZ2B0n68r7+iL53B5IrNPTRyPr68GRrXEEs2zuR9Fb\\n\\nG+R6zMLS241wLcb5ZkgfzVhvkdsoP+UK72aPup8jtmBGLjXAA5xln3e/PvWD5HLKf/yNfy72eP73\\n\\nxK9HyP2Y8rhWgd2Wf3LHyO2XmbhXE5zzZ91B5HrNqBNxriB0yz7qDyOWUOB+EK/3s+6nyP2fH+Ua\\n\\n3YDH0NvqT5HbJ0uFfnHMln3UHkes3W41x792D+yg8jtlB/yhXHfPNnP+ih8j1nOM3GuPQn0PuofI\\n\\n7ZfxbjXA9+Wcv6KHyPWYg/4Rrskd7Nv6qfI7ZQ3DbhXA9Dlm39VZ+R6zF+o3Cu552LO/P5KwfI7Z\\n\\nsYbca4Z57s3/AKv64Q+R2ykg/CFd72fd8Ag8j1mDQG3Ct27yzf6kPkdspBBuFceWN2cv6KHyPWck\\n\\nH4Rrhg55s+6h8jtlJyLhXA743Z1z+98Vk+R6ykFouFcG4O2Wdc/vfE/rsnyPWU7uuFeTnJOWDfw9\\n\\nHZYHkes4bg3Kuz3jQPV+KnyO2TWT5/XYO2Ms5f0UPkes5bg3GtIBOB6G2w8PBZPkesuNrhX5HIks\\n\\n79/xVgeR2zYw641x59WfdQeR2yjJ+EK4nvJZ91f/1+l+R6zHnca7HrZn/pQ+R6zb6bjXAnxZ91D5\\n\\nHbKWgfCNdt1yz7qDyPWYDAuFcD35Z91Pkdspzm4V3LYeh91D5HbNyFxrgMd7PuofI7ZXf/kK/nnm\\n\\nz7qyPI/ZhjFwrh37s3+pYHkdsuMG4Vx6c2Y/6UHkes2/+Ea7Gdt2cv6KfI7ZdQPwhXbDvZ91Pkes\\n\\n2CBca7TnYZZ4/vfFB5HbLpx8IV2e/LNj0/F6YQeR6zAkm41xyQRuzb+qjfI7ZWkH4QrjgEDdnhj8\\n\\nXwCHyPWcgj4Rrt/4nhnp4exPkdsoLi24Vwz4s7v4u/tT5HbNgg3GuOTnmzu/ioPI7ZRyuFd4HLNu\\n\\nefxfFPkesxcCbjXd5wWAk5z+T3lPkdsoIxcK4DqMs3/qofI7ZS3BuNcc46s+6sjyPWZuC241wIxk\\n\\n5ZuP6KwPI7ZQd7hXezR91PkdswO1xrgO7LPuofI5ZT/+Rr/ez7qyfI/Zt8XCtAPTLP7lgeR2ydbh\\n\\nXHfvZ91B5HrPnJuNcdsY9D7qDyO2UOBNwrzvyyz7qfI/Z/8A3Gt5fvP7k+R2yZyLhX5x3s+6g8j1\\n\\nm63GuOcZ3YP7KN8jtlB/yhXHfPNnP+j4IfI9ZzjVca47YJyzOP6PgjvI7ZT9G41wJO5yzf8AqqdZ\\n\\n/Jla7Nd4LlDW1ckkDtTWvLdPLHQZ5Ls0Rf/Q+v0WfMafJ1Hsm5Pfst6IiIiIiIiIiIiIiIiIiIiI\\n\\niIiIv//R+zIiIiIiIiIiIiIiIiIiIiIo9B/k+myNPzTdu7YKQiIiIv/S+zIiIiIiIiIiIiIiIiIi\\n\\nIiIiIiIiL//T+zIiIiIiIiIiIiIiIi0UQAoKcAgjsm4I9QW9EREREREREX//1PsyIiIiIiIiIiIi\\n\\nIiIiIiIiIiIiIi//1fsyIiIiIiIiIi00YLaKAEAERt2HqW5ERERERERERERERF//1vsyIiIiIiIi\\n\\nIiIiIiIiIiIiIiIiIi//1/syIiIiKPQYFvptJyOybg+wKQiIiIiIiIiIiIiIiIiIiIv/0PsyIiIi\\n\\nIiIiIiIiIiIiIiIiIiIiIi//0fr1Dk2+n1HJ7JuT37BSERERERERERERERERERERERERERf/0vsy\\n\\nIiIiIiIiIiIiIiIiIiIiLRRY8xp8Agdk3Y8+S3oiIiL/0/syIiIiIiIiKpunFFls07YK6vZHM4Z7\\n\\nNrXPcB3kNBI9qh/H3hr93yDOdjSzD+ysjjvhw/69IPXSTD+x4LB4+4aAJNfJscftSb7ifH7hrAPw\\n\\nhJg8vwWbf+onx94a6V8h9VJMf7HiFk8d8NgEmuk22/as33Vg8fcNAAm4SYP+6zer8hPj7w0Djz+T\\n\\nO+3ms3T+Yg484bPKvkPqpJj/AGEPHnDbQCa+Tf8A3Wb7qfH3hrJHn8mR/us33Vj4/cM4z8IPx/JZ\\n\\nvuL18fOGzyrpT6qSb7iwePOGwcGvk5Z2pZj/AGUHH3DRGfhB/wD9Wb7qfH7hr/3B+/L8Fm3/AKqy\\n\\nOO+HDyrpOeP2pN9xYPHvDQz+HybDJ/BJvuJ8fuGcZ+EH4zjPms33U+PvDXLz+TPd5rN93wWfj3w5\\n\\n1rpB13pZh/Z8Fj4/cNYz5/Jjl+1Ju7P5CfH3hrOPhB/PA/BZt/6qDj3hp2MV8hz/ALrN9zxWTx5w\\n\\n2G6jXSD/AP1Js+7Qv//U+ifH7hrJHwg/bc/gs33fFBx7w0Tjz+TOcftWbb+qg494aIBFfIcjO1JN\\n\\n9xZdx5w23Ga+Tf8A3Wb7vgsDj3hou0ivkznGPNZvuoOPuGTyuD//AKs3q/JWRx5w2eVdJ0380m6/\\n\\nzFj4+cN6tPn8mf5LN91YHH3DJGRcJOn+qzfcWfj9wz/7g/ln9qzfdWRx3w4f9ek9tJN9xY+P3DW/\\n\\n4fJscftSb7ifH7hr/wBwf/8AVm+6nx94a/d8me7zSb7iz8e+HMEmukGN96Wb7q8/H7hrb8Pk3/3S\\n\\nb7iz8fuGv3fJ7KSb7ifHzhonAr5DvjalmP8AZWTx5w2G5NdJ/wDUmz/0LHx+4ayB8ISZOP8AVZuv\\n\\n81TLXxPZ7zVOpaCqdLKxhe5pgkZgAgc3NA6hWyItFFg0MGHah2Td+/Zb0RERERERERf/1fsyIiqr\\n\\nnxHbbXM2mkkdPVv+hSUze0ld/NHIeJwFXiDiS/EOqpBY6F3OCBwfUvHc5/0WfzcnxVrarHbbLEWU\\n\\nFK2IuxrkPpPf/GcdyrBEREREREREREREREREREREX//W+zIiIiIiIiIiLRRftCn9HT803bu2C3oi\\n\\nIiIiIiIiIqq68R260yNgke+erk/Y6Snb2kr/AOaOQ8TgKvdS8SX12KqcWShOcxUzg+okHTL+TO/b\\n\\nJVta7JbrNG5tDTNjc/eSQ+lJIe9zjufap6Iv/9f7MiIiIiIiIiIiIiIiIiIiIiIiIiIv/9D7MiIi\\n\\nIi5ij4qdHRQx/F2+uDI2t1CkGDsBkelyW13Fz2/+mL+efKlb99Z+Nr8A/Fm/b9PNW/fT42v/AP1m\\n\\n/YIyPwVv30HFricDhq/f/Ub95Y+N78/5sX/Hf5o376z8bX//AKzfun+qt++nxtf/APrN+54/ard/\\n\\n66fG1+CRw1fj3fgjRn+ssDi55/8ATN/G+N6Rv31kcWvOP8Wb9/8AVb99Y+Nz9s8NX4Z/3Ru39ZDx\\n\\nc8Nz8Wb8eewpW/fWRxa8nHxZvw9dK376wOLXkZ+LN+5Z/arfvrPxtcM/4tX7b/dG/eWDxdIOXDN+\\n\\nPqpW/fXnzfiO+uBq5vgWhd/oIHaql4/fP5M/m5PirW1WS3WWJzKGmbGXnMkh9J8h73OO5PrU9ERE\\n\\nRERERf/R+zIiIiIiIiIiIiIiIiIiIiIiIiIiL//S+v0W1DBsB803Yepb0RERERERERERERERERER\\n\\nERERERf/0/syIiIiIiIiIiIiIiIiIiIiLRRY8wp9LdI7JuB3bBb0RERF/9T7MiIiIiIiIiIiIiIi\\n\\nIiIiIiIiIiIv/9X7MiIiIiIiIiIiIiIiLRQnNBTnOrMTd8c9gt6IiIiIiIiIv//W+zIiIiIiIiIi\\n\\nIiIiIiIiIiIiIiIiL//X+zIiIiIiIiIiLRQjFBTjGMRN29gW9ERERERERERERERF/9D7MiIiIiIi\\n\\nIiIiIiIiIiIiIiIiIiIv/9H7MiIiIi1UrSykhYXai2NoJxjOy2oiIiIiIiIiIiIiIiIiIiL/0vsy\\n\\nIiIiIiIiIiIiIiIiIiIiIiIiIi//2Q==\\n\\n\\n\\n------=_NextPart_7HZmySBWvSemNjin8Kg9Y--\\n\\n\\n\\n\\n\\n\\n\\n\\n\",\n          \"------=_NextPart_000_00C5_44B43D7A.C5027E65\\n\\nContent-Type: text/plain; charset=\\\"iso-8859-1\\\"\\n\\nContent-Transfer-Encoding: base64\\n\\n\\n\\n\\n\\nQVRURU5USU9OOiBUaGlzIGlzIGEgTVVTVCBmb3IgQUxMIENvbXB1dGVyIFVz\\n\\nZXJzISEhDQoNCipORVctU3BlY2lhbCBQYWNrYWdlIERlYWwhKg0KDQpOb3J0\\n\\nb24gU3lzdGVtV29ya3MgMjAwMiBTb2Z0d2FyZSBTdWl0ZSAtUHJvZmVzc2lv\\n\\nbmFsIEVkaXRpb24tDQoNCkluY2x1ZGVzIFNpeCAtIFllcyA2ISAtIEZlYXR1\\n\\ncmUtUGFja2VkIFV0aWxpdGllcw0KQUxMIEZvciAxIFNwZWNpYWwgTE9XIFBy\\n\\naWNlIQ0KDQpUaGlzIFNvZnR3YXJlIFdpbGw6DQotIFByb3RlY3QgeW91ciBj\\n\\nb21wdXRlciBmcm9tIHVud2FudGVkIGFuZCBoYXphcmRvdXMgdmlydXNlcw0K\\n\\nLSBIZWxwIHNlY3VyZSB5b3VyIHByaXZhdGUgJiB2YWx1YWJsZSBpbmZvcm1h\\n\\ndGlvbg0KLSBBbGxvdyB5b3UgdG8gdHJhbnNmZXIgZmlsZXMgYW5kIHNlbmQg\\n\\nZS1tYWlscyBzYWZlbHkNCi0gQmFja3VwIHlvdXIgQUxMIHlvdXIgZGF0YSBx\\n\\ndWljayBhbmQgZWFzaWx5DQotIEltcHJvdmUgeW91ciBQQydzIHBlcmZvcm1h\\n\\nbmNlIHcvc3VwZXJpb3IgaW50ZWdyYWwgZGlhZ25vc3RpY3MhDQoNCjYgRmVh\\n\\ndHVyZS1QYWNrZWQgVXRpbGl0aWVzLi4uMSBHcmVhdCBQcmljZSENCkEgJDMw\\n\\nMCsgQ29tYmluZWQgUmV0YWlsIFZhbHVlIQ0KDQpZT1VSUyBmb3IgT25seSAk\\n\\nMjkuOTkhICA8SW5jbHVkZXMgRlJFRSBTaGlwcGluZyE+DQoNCkRvbid0IGZh\\n\\nbGwgcHJleSB0byBkZXN0cnVjdGl2ZSB2aXJ1c2VzIG9yIGhhY2tlcnMhDQpQ\\n\\ncm90ZWN0ICB5b3VyIGNvbXB1dGVyIGFuZCB5b3VyIHZhbHVhYmxlIGluZm9y\\n\\nbWF0aW9uIQ0KDQoNClNvIGRvbid0IGRlbGF5Li4uZ2V0IHlvdXIgY29weSBU\\n\\nT0RBWSENCg0KDQpodHRwOi8vc2FtLmhvc3RjZW50cmVsLmNvbS9ub3J0b24v\\n\\nDQorKysrKysrKysrKysrKysrKysrKysrKysrKysrKysrKysrKysrKysrKysr\\n\\nKysrKysrKysrKysrKysrKysrKysrKysrKysrKysrKysrDQpUaGlzIGVtYWls\\n\\nIGhhcyBiZWVuIHNjcmVlbmVkIGFuZCBmaWx0ZXJlZCBieSBvdXIgaW4gaG91\\n\\nc2UgIiJPUFQtT1VUIiIgc3lzdGVtIGluIA0KY29tcGxpYW5jZSB3aXRoIHN0\\n\\nYXRlIGxhd3MuIElmIHlvdSB3aXNoIHRvICJPUFQtT1VUIiBmcm9tIHRoaXMg\\n\\nbWFpbGluZyBhcyB3ZWxsIA0KYXMgdGhlIGxpc3RzIG9mIHRob3VzYW5kcyAg\\n\\nb2Ygb3RoZXIgZW1haWwgcHJvdmlkZXJzIHBsZWFzZSB2aXNpdCAgDQoNCmh0\\n\\ndHA6Ly9zYW0uaG9zdGNlbnRyZWwuY29tL210Zy9vcHRvdXQuaHRtbA0KKysr\\n\\nKysrKysrKysrKysrKysrKysrKysrKysrKysrKysrKysrKysrKysrKysrKysr\\n\\nKysrKysrKysrKysrKysrKysrKysrKysrKysrKw0KDQo2MDgwc1VwajMtMTc4\\n\\nQ1NndTkxNDlsMjA=\\n\\n\\n\\n\\n\",\n          \"<HTML>\\n\\n<BODY>\\n\\n  <tr valign=3D\\\"top\\\"> \\n\\n    <td height=3D\\\"295\\\" bgcolor=3D\\\"#FFFFFF\\\"> \\n\\n      <p align=3D\\\"center\\\"><font size=3D\\\"4\\\"><b>&quot;eBay - #1 Rated Work A=\\n\\nt Home Business \\n\\n        Opportunity&quot;<br>\\n\\n        - </b></font><b><font size=3D\\\"4\\\">PC Magazine</font></b></p>\\n\\n      <p align=3D\\\"center\\\"><font size=3D\\\"3\\\"><b>Fortunes are literally being=\\n\\n made in \\n\\n        this great new marketplace!</b></font></p>\\n\\n      <p align=3D\\\"left\\\">O<font size=3D\\\"3\\\"></font><font size=3D\\\"3\\\">ver <b>$=\\n\\n9 Billion</b> \\n\\n        in merchandise was sold on <b>eBay</b> in 2001 by people just like=\\n\\n you \\n\\n        - <u>right from their homes.</u></font></p>\\n\\n      <p align=3D\\\"left\\\"><font size=3D\\\"3\\\">Now you too can learn the secrets=\\n\\n of <b>successful \\n\\n        selling </b>on<b> eBay</b> and <b>make a staggering income</b> fro=\\n\\nm the \\n\\n        comfort of <b>your own home</b>. If you are <b>motivated</b>, capa=\\n\\nble \\n\\n        of having an<b> open mind</b>, and can follow simple directions, t=\\n\\nhen \\n\\n        <a href=3D\\\"http://www.generaledu.com/ebaymktg\\\">visit us here.</a><=\\n\\n/font></p>\\n\\n      <p><font size=3D\\\"2\\\"> <font size=3D\\\"1\\\">We are strongly against sendin=\\n\\ng unsolicited \\n\\n        emails to those who do not wish to receive our special mailings. Y=\\n\\nou have \\n\\n        opted in to one or more of our affiliate sites requesting to be no=\\n\\ntified \\n\\n        of any special offers we may run from time to time. We also have a=\\n\\nttained \\n\\n        the services of an independent 3rd party to overlook list manageme=\\n\\nnt and \\n\\n        removal services. This is NOT unsolicited email. If you do not wis=\\n\\nh to \\n\\n        receive further mailings, please <a href=3D\\\"http://www.generaledu.=\\n\\ncom/remove.html\\\">GO \\n\\n        HERE</a> to be removed from the list. Please accept our apologies =\\n\\nif you \\n\\n        have been sent this email in error. </font></font></p>\\n\\n      </td>\\n\\n  </tr>\\n\\n</table>\\n\\n<p>&nbsp;</p>\\n\\n<p>&nbsp; </p>\\n\\n<p>&nbsp;</p>\\n\\n<p>&nbsp; </p>\\n\\n</body>\\n\\n</html>\\n\\n\\n\\n<p><p><p><p><p><p><p><p><p><p>\\n\\n\\n\\n<html><p><head><p><meta http-equiv=3D\\\"Content-Type\\\" content=3D\\\"text/html; =\\n\\n<p>charset=3Diso-8859-1\\\"><p></head><p><p><body bgcolor=3D\\\"#FFFFFF\\\"><p><tab=\\n\\nle width=3D\\\"78%\\\" height=3D\\\"218\\\" bgcolor=3D\\\"#CCCCCC\\\"><p><p><p><p><p>\\n\\n</BODY>\\n\\n</HTML>\\n\\n\\n\\n\\n\\n\\n\"\n        ],\n        \"semantic_type\": \"\",\n        \"description\": \"\"\n      }\n    },\n    {\n      \"column\": \"CATEGORY\",\n      \"properties\": {\n        \"dtype\": \"number\",\n        \"std\": 0,\n        \"min\": 1,\n        \"max\": 1,\n        \"num_unique_values\": 1,\n        \"samples\": [\n          1\n        ],\n        \"semantic_type\": \"\",\n        \"description\": \"\"\n      }\n    },\n    {\n      \"column\": \"FILE_NAME\",\n      \"properties\": {\n        \"dtype\": \"string\",\n        \"num_unique_values\": 6,\n        \"samples\": [\n          \"00307.7ed50c6d80c6e37c8cc1b132f4a19e4d\"\n        ],\n        \"semantic_type\": \"\",\n        \"description\": \"\"\n      }\n    }\n  ]\n}"
            }
          },
          "metadata": {},
          "execution_count": 55
        }
      ]
    },
    {
      "cell_type": "code",
      "source": [
        "first_emails = data.MESSAGE.iloc[0:3]\n",
        "nested_list = first_emails.apply(clean_message)"
      ],
      "metadata": {
        "id": "0MkySJK-VKQd"
      },
      "execution_count": 56,
      "outputs": []
    },
    {
      "cell_type": "code",
      "source": [
        "#flat_list = []\n",
        "#for sublist in nested_list:\n",
        "#  for item in sublist:\n",
        "#    flat_list.append(item)\n",
        "\n",
        "flat_list = [item for sublist in nested_list for item in sublist]\n",
        "\n",
        "len(flat_list)"
      ],
      "metadata": {
        "colab": {
          "base_uri": "https://localhost:8080/"
        },
        "id": "q-3WmeUTV_NW",
        "outputId": "185ee35e-7cc9-48a7-e6a7-e84655445c1f"
      },
      "execution_count": 57,
      "outputs": [
        {
          "output_type": "execute_result",
          "data": {
            "text/plain": [
              "515"
            ]
          },
          "metadata": {},
          "execution_count": 57
        }
      ]
    },
    {
      "cell_type": "code",
      "source": [
        "#use apply() on all the messages in dataframe\n",
        "nested_list = data.MESSAGE.apply(clean_msg_no_html)"
      ],
      "metadata": {
        "colab": {
          "base_uri": "https://localhost:8080/"
        },
        "id": "sbf1zxirZzvV",
        "outputId": "002bbb81-8338-414e-e146-ff7f466f6439"
      },
      "execution_count": 58,
      "outputs": [
        {
          "output_type": "stream",
          "name": "stderr",
          "text": [
            "<ipython-input-52-8c79fd6a633b>:4: MarkupResemblesLocatorWarning: The input looks more like a filename than markup. You may want to open this file and pass the filehandle into Beautiful Soup.\n",
            "  soup = BeautifulSoup(message, 'html.parser')\n",
            "<ipython-input-52-8c79fd6a633b>:4: MarkupResemblesLocatorWarning: The input looks more like a URL than markup. You may want to use an HTTP client like requests to get the document behind the URL, and feed that document to Beautiful Soup.\n",
            "  soup = BeautifulSoup(message, 'html.parser')\n"
          ]
        }
      ]
    },
    {
      "cell_type": "code",
      "source": [
        "nested_list.tail()"
      ],
      "metadata": {
        "colab": {
          "base_uri": "https://localhost:8080/",
          "height": 272
        },
        "id": "ArOc8gGKaEvX",
        "outputId": "fb64c2d9-3367-4f4c-c319-a1418c212810"
      },
      "execution_count": 59,
      "outputs": [
        {
          "output_type": "execute_result",
          "data": {
            "text/plain": [
              "DOC_ID\n",
              "5791    [fri, jul, ian, andrew, bell, wrote, smart, ex...\n",
              "5792    [john, hall, ave, ne, kirkland, wa, messag, ma...\n",
              "5793    [key, concept, tokyo, urban, overh, climat, ch...\n",
              "5794    [music, school, joke, american, conductor, eur...\n",
              "5795    [list, administr, author, request, follow, mai...\n",
              "Name: MESSAGE, dtype: object"
            ],
            "text/html": [
              "<div>\n",
              "<style scoped>\n",
              "    .dataframe tbody tr th:only-of-type {\n",
              "        vertical-align: middle;\n",
              "    }\n",
              "\n",
              "    .dataframe tbody tr th {\n",
              "        vertical-align: top;\n",
              "    }\n",
              "\n",
              "    .dataframe thead th {\n",
              "        text-align: right;\n",
              "    }\n",
              "</style>\n",
              "<table border=\"1\" class=\"dataframe\">\n",
              "  <thead>\n",
              "    <tr style=\"text-align: right;\">\n",
              "      <th></th>\n",
              "      <th>MESSAGE</th>\n",
              "    </tr>\n",
              "    <tr>\n",
              "      <th>DOC_ID</th>\n",
              "      <th></th>\n",
              "    </tr>\n",
              "  </thead>\n",
              "  <tbody>\n",
              "    <tr>\n",
              "      <th>5791</th>\n",
              "      <td>[fri, jul, ian, andrew, bell, wrote, smart, ex...</td>\n",
              "    </tr>\n",
              "    <tr>\n",
              "      <th>5792</th>\n",
              "      <td>[john, hall, ave, ne, kirkland, wa, messag, ma...</td>\n",
              "    </tr>\n",
              "    <tr>\n",
              "      <th>5793</th>\n",
              "      <td>[key, concept, tokyo, urban, overh, climat, ch...</td>\n",
              "    </tr>\n",
              "    <tr>\n",
              "      <th>5794</th>\n",
              "      <td>[music, school, joke, american, conductor, eur...</td>\n",
              "    </tr>\n",
              "    <tr>\n",
              "      <th>5795</th>\n",
              "      <td>[list, administr, author, request, follow, mai...</td>\n",
              "    </tr>\n",
              "  </tbody>\n",
              "</table>\n",
              "</div><br><label><b>dtype:</b> object</label>"
            ]
          },
          "metadata": {},
          "execution_count": 59
        }
      ]
    },
    {
      "cell_type": "markdown",
      "source": [
        "**Using Logic to slice Dataframes**"
      ],
      "metadata": {
        "id": "dgT8coseMshC"
      }
    },
    {
      "cell_type": "code",
      "source": [
        "data[data.CATEGORY == 1].shape"
      ],
      "metadata": {
        "colab": {
          "base_uri": "https://localhost:8080/"
        },
        "id": "G9SfjEXkMxYP",
        "outputId": "106f827f-5d0e-4373-aa2a-4e550a675ae6"
      },
      "execution_count": 60,
      "outputs": [
        {
          "output_type": "execute_result",
          "data": {
            "text/plain": [
              "(1896, 3)"
            ]
          },
          "metadata": {},
          "execution_count": 60
        }
      ]
    },
    {
      "cell_type": "code",
      "source": [
        "doc_ids_spam = data[data.CATEGORY == 1].index\n",
        "doc_ids_ham = data[data.CATEGORY == 0].index\n",
        "doc_ids_ham\n"
      ],
      "metadata": {
        "colab": {
          "base_uri": "https://localhost:8080/"
        },
        "id": "R70ddEcDbHt7",
        "outputId": "75fcd171-1d33-4ca4-d311-cb3a21ccb649"
      },
      "execution_count": 64,
      "outputs": [
        {
          "output_type": "execute_result",
          "data": {
            "text/plain": [
              "Index([1896, 1897, 1898, 1899, 1900, 1901, 1902, 1903, 1904, 1905,\n",
              "       ...\n",
              "       5786, 5787, 5788, 5789, 5790, 5791, 5792, 5793, 5794, 5795],\n",
              "      dtype='int64', name='DOC_ID', length=3900)"
            ]
          },
          "metadata": {},
          "execution_count": 64
        }
      ]
    },
    {
      "cell_type": "markdown",
      "source": [
        "***Subsetting a Series with Index***"
      ],
      "metadata": {
        "id": "IwXJ9Ng9bqc1"
      }
    },
    {
      "cell_type": "code",
      "source": [
        "type(doc_ids_ham)"
      ],
      "metadata": {
        "colab": {
          "base_uri": "https://localhost:8080/"
        },
        "id": "b0U9OW67b0QA",
        "outputId": "84398e7a-801d-48a9-f15e-8f17f541b026"
      },
      "execution_count": 65,
      "outputs": [
        {
          "output_type": "execute_result",
          "data": {
            "text/plain": [
              "pandas.core.indexes.base.Index"
            ]
          },
          "metadata": {},
          "execution_count": 65
        }
      ]
    },
    {
      "cell_type": "code",
      "source": [
        "#type(nested_list)"
      ],
      "metadata": {
        "id": "tHQsYDM3b9Nb"
      },
      "execution_count": 67,
      "outputs": []
    },
    {
      "cell_type": "code",
      "source": [
        "nested_list_ham = nested_list.loc[doc_ids_ham]\n",
        "nested_list_ham.shape"
      ],
      "metadata": {
        "colab": {
          "base_uri": "https://localhost:8080/"
        },
        "id": "CPu0YUN3cMdq",
        "outputId": "539e28a9-4445-4dc9-8705-bae31acc9dd4"
      },
      "execution_count": 70,
      "outputs": [
        {
          "output_type": "execute_result",
          "data": {
            "text/plain": [
              "(3900,)"
            ]
          },
          "metadata": {},
          "execution_count": 70
        }
      ]
    },
    {
      "cell_type": "code",
      "source": [
        "nested_list_ham.tail()"
      ],
      "metadata": {
        "colab": {
          "base_uri": "https://localhost:8080/",
          "height": 272
        },
        "id": "X5COF3wTcot1",
        "outputId": "178993bc-e087-42f7-a5ca-ebacf3b87d5d"
      },
      "execution_count": 71,
      "outputs": [
        {
          "output_type": "execute_result",
          "data": {
            "text/plain": [
              "DOC_ID\n",
              "5791    [fri, jul, ian, andrew, bell, wrote, smart, ex...\n",
              "5792    [john, hall, ave, ne, kirkland, wa, messag, ma...\n",
              "5793    [key, concept, tokyo, urban, overh, climat, ch...\n",
              "5794    [music, school, joke, american, conductor, eur...\n",
              "5795    [list, administr, author, request, follow, mai...\n",
              "Name: MESSAGE, dtype: object"
            ],
            "text/html": [
              "<div>\n",
              "<style scoped>\n",
              "    .dataframe tbody tr th:only-of-type {\n",
              "        vertical-align: middle;\n",
              "    }\n",
              "\n",
              "    .dataframe tbody tr th {\n",
              "        vertical-align: top;\n",
              "    }\n",
              "\n",
              "    .dataframe thead th {\n",
              "        text-align: right;\n",
              "    }\n",
              "</style>\n",
              "<table border=\"1\" class=\"dataframe\">\n",
              "  <thead>\n",
              "    <tr style=\"text-align: right;\">\n",
              "      <th></th>\n",
              "      <th>MESSAGE</th>\n",
              "    </tr>\n",
              "    <tr>\n",
              "      <th>DOC_ID</th>\n",
              "      <th></th>\n",
              "    </tr>\n",
              "  </thead>\n",
              "  <tbody>\n",
              "    <tr>\n",
              "      <th>5791</th>\n",
              "      <td>[fri, jul, ian, andrew, bell, wrote, smart, ex...</td>\n",
              "    </tr>\n",
              "    <tr>\n",
              "      <th>5792</th>\n",
              "      <td>[john, hall, ave, ne, kirkland, wa, messag, ma...</td>\n",
              "    </tr>\n",
              "    <tr>\n",
              "      <th>5793</th>\n",
              "      <td>[key, concept, tokyo, urban, overh, climat, ch...</td>\n",
              "    </tr>\n",
              "    <tr>\n",
              "      <th>5794</th>\n",
              "      <td>[music, school, joke, american, conductor, eur...</td>\n",
              "    </tr>\n",
              "    <tr>\n",
              "      <th>5795</th>\n",
              "      <td>[list, administr, author, request, follow, mai...</td>\n",
              "    </tr>\n",
              "  </tbody>\n",
              "</table>\n",
              "</div><br><label><b>dtype:</b> object</label>"
            ]
          },
          "metadata": {},
          "execution_count": 71
        }
      ]
    },
    {
      "cell_type": "code",
      "source": [
        "nested_list_spam = nested_list.loc[doc_ids_spam]"
      ],
      "metadata": {
        "id": "iNt5ac6xcxMo"
      },
      "execution_count": 72,
      "outputs": []
    },
    {
      "cell_type": "code",
      "source": [
        "flat_list_ham = [item for sublist in nested_list_ham for item in sublist]\n",
        "normal_words = pd.Series(flat_list_ham).value_counts()\n",
        "normal_words.shape[0]  #total number an unique words in a non-spam messages"
      ],
      "metadata": {
        "colab": {
          "base_uri": "https://localhost:8080/"
        },
        "id": "DBAARYnLdJyj",
        "outputId": "354bc8ca-6e9e-4154-ff6f-b2a21a99321b"
      },
      "execution_count": 75,
      "outputs": [
        {
          "output_type": "execute_result",
          "data": {
            "text/plain": [
              "20815"
            ]
          },
          "metadata": {},
          "execution_count": 75
        }
      ]
    },
    {
      "cell_type": "code",
      "source": [
        "normal_words[:10]"
      ],
      "metadata": {
        "colab": {
          "base_uri": "https://localhost:8080/",
          "height": 397
        },
        "id": "ZBchpOUgekxP",
        "outputId": "585d0824-ff5f-4a74-8df1-3dc516c4e8ec"
      },
      "execution_count": 76,
      "outputs": [
        {
          "output_type": "execute_result",
          "data": {
            "text/plain": [
              "http      7563\n",
              "use       3633\n",
              "list      2880\n",
              "one       2373\n",
              "get       2286\n",
              "mail      2255\n",
              "would     2003\n",
              "like      1931\n",
              "messag    1849\n",
              "work      1800\n",
              "Name: count, dtype: int64"
            ],
            "text/html": [
              "<div>\n",
              "<style scoped>\n",
              "    .dataframe tbody tr th:only-of-type {\n",
              "        vertical-align: middle;\n",
              "    }\n",
              "\n",
              "    .dataframe tbody tr th {\n",
              "        vertical-align: top;\n",
              "    }\n",
              "\n",
              "    .dataframe thead th {\n",
              "        text-align: right;\n",
              "    }\n",
              "</style>\n",
              "<table border=\"1\" class=\"dataframe\">\n",
              "  <thead>\n",
              "    <tr style=\"text-align: right;\">\n",
              "      <th></th>\n",
              "      <th>count</th>\n",
              "    </tr>\n",
              "  </thead>\n",
              "  <tbody>\n",
              "    <tr>\n",
              "      <th>http</th>\n",
              "      <td>7563</td>\n",
              "    </tr>\n",
              "    <tr>\n",
              "      <th>use</th>\n",
              "      <td>3633</td>\n",
              "    </tr>\n",
              "    <tr>\n",
              "      <th>list</th>\n",
              "      <td>2880</td>\n",
              "    </tr>\n",
              "    <tr>\n",
              "      <th>one</th>\n",
              "      <td>2373</td>\n",
              "    </tr>\n",
              "    <tr>\n",
              "      <th>get</th>\n",
              "      <td>2286</td>\n",
              "    </tr>\n",
              "    <tr>\n",
              "      <th>mail</th>\n",
              "      <td>2255</td>\n",
              "    </tr>\n",
              "    <tr>\n",
              "      <th>would</th>\n",
              "      <td>2003</td>\n",
              "    </tr>\n",
              "    <tr>\n",
              "      <th>like</th>\n",
              "      <td>1931</td>\n",
              "    </tr>\n",
              "    <tr>\n",
              "      <th>messag</th>\n",
              "      <td>1849</td>\n",
              "    </tr>\n",
              "    <tr>\n",
              "      <th>work</th>\n",
              "      <td>1800</td>\n",
              "    </tr>\n",
              "  </tbody>\n",
              "</table>\n",
              "</div><br><label><b>dtype:</b> int64</label>"
            ]
          },
          "metadata": {},
          "execution_count": 76
        }
      ]
    },
    {
      "cell_type": "code",
      "source": [
        "flat_list_spam = [item for sublist in nested_list_spam for item in sublist]\n",
        "spammy_words = pd.Series(flat_list_spam).value_counts()\n",
        "spammy_words.shape[0]  #total number an unique words in spam messages"
      ],
      "metadata": {
        "colab": {
          "base_uri": "https://localhost:8080/"
        },
        "id": "O0bUW1GIfMRN",
        "outputId": "a61d6dcb-a475-4e0a-c45c-bf3192120334"
      },
      "execution_count": 78,
      "outputs": [
        {
          "output_type": "execute_result",
          "data": {
            "text/plain": [
              "13242"
            ]
          },
          "metadata": {},
          "execution_count": 78
        }
      ]
    },
    {
      "cell_type": "code",
      "source": [
        "spammy_words[:10]"
      ],
      "metadata": {
        "colab": {
          "base_uri": "https://localhost:8080/",
          "height": 397
        },
        "id": "MVufMn7ffiDb",
        "outputId": "8fa26db7-4b9c-46a9-a8fb-619ff2342941"
      },
      "execution_count": 79,
      "outputs": [
        {
          "output_type": "execute_result",
          "data": {
            "text/plain": [
              "http      3097\n",
              "email     3090\n",
              "free      2585\n",
              "click     2058\n",
              "receiv    1989\n",
              "list      1971\n",
              "get       1914\n",
              "pleas     1852\n",
              "busi      1792\n",
              "order     1746\n",
              "Name: count, dtype: int64"
            ],
            "text/html": [
              "<div>\n",
              "<style scoped>\n",
              "    .dataframe tbody tr th:only-of-type {\n",
              "        vertical-align: middle;\n",
              "    }\n",
              "\n",
              "    .dataframe tbody tr th {\n",
              "        vertical-align: top;\n",
              "    }\n",
              "\n",
              "    .dataframe thead th {\n",
              "        text-align: right;\n",
              "    }\n",
              "</style>\n",
              "<table border=\"1\" class=\"dataframe\">\n",
              "  <thead>\n",
              "    <tr style=\"text-align: right;\">\n",
              "      <th></th>\n",
              "      <th>count</th>\n",
              "    </tr>\n",
              "  </thead>\n",
              "  <tbody>\n",
              "    <tr>\n",
              "      <th>http</th>\n",
              "      <td>3097</td>\n",
              "    </tr>\n",
              "    <tr>\n",
              "      <th>email</th>\n",
              "      <td>3090</td>\n",
              "    </tr>\n",
              "    <tr>\n",
              "      <th>free</th>\n",
              "      <td>2585</td>\n",
              "    </tr>\n",
              "    <tr>\n",
              "      <th>click</th>\n",
              "      <td>2058</td>\n",
              "    </tr>\n",
              "    <tr>\n",
              "      <th>receiv</th>\n",
              "      <td>1989</td>\n",
              "    </tr>\n",
              "    <tr>\n",
              "      <th>list</th>\n",
              "      <td>1971</td>\n",
              "    </tr>\n",
              "    <tr>\n",
              "      <th>get</th>\n",
              "      <td>1914</td>\n",
              "    </tr>\n",
              "    <tr>\n",
              "      <th>pleas</th>\n",
              "      <td>1852</td>\n",
              "    </tr>\n",
              "    <tr>\n",
              "      <th>busi</th>\n",
              "      <td>1792</td>\n",
              "    </tr>\n",
              "    <tr>\n",
              "      <th>order</th>\n",
              "      <td>1746</td>\n",
              "    </tr>\n",
              "  </tbody>\n",
              "</table>\n",
              "</div><br><label><b>dtype:</b> int64</label>"
            ]
          },
          "metadata": {},
          "execution_count": 79
        }
      ]
    },
    {
      "cell_type": "markdown",
      "source": [
        "**Generate Vocabulary and Dictionary**"
      ],
      "metadata": {
        "id": "-8Rgx48qmtEJ"
      }
    },
    {
      "cell_type": "code",
      "source": [
        "stemmed_nested_list = data.MESSAGE.apply(clean_msg_no_html)\n",
        "flat_stemmed_list = [item for sublist in stemmed_nested_list for item in sublist]\n"
      ],
      "metadata": {
        "colab": {
          "base_uri": "https://localhost:8080/"
        },
        "id": "lMrot9tmm1sz",
        "outputId": "727d8c47-f8ba-483e-f860-4432d79dc426"
      },
      "execution_count": 81,
      "outputs": [
        {
          "output_type": "stream",
          "name": "stderr",
          "text": [
            "<ipython-input-52-8c79fd6a633b>:4: MarkupResemblesLocatorWarning: The input looks more like a filename than markup. You may want to open this file and pass the filehandle into Beautiful Soup.\n",
            "  soup = BeautifulSoup(message, 'html.parser')\n",
            "<ipython-input-52-8c79fd6a633b>:4: MarkupResemblesLocatorWarning: The input looks more like a URL than markup. You may want to use an HTTP client like requests to get the document behind the URL, and feed that document to Beautiful Soup.\n",
            "  soup = BeautifulSoup(message, 'html.parser')\n"
          ]
        }
      ]
    },
    {
      "cell_type": "code",
      "source": [
        "unique_words = pd.Series(flat_stemmed_list).value_counts()\n",
        "print('Nr of unique words',unique_words.shape[0])\n",
        "unique_words.head()"
      ],
      "metadata": {
        "colab": {
          "base_uri": "https://localhost:8080/",
          "height": 258
        },
        "id": "SdWw9ljnoKWn",
        "outputId": "0397bd51-ab46-461b-f1fa-ac6ec9085084"
      },
      "execution_count": 82,
      "outputs": [
        {
          "output_type": "stream",
          "name": "stdout",
          "text": [
            "Nr of unique words 27334\n"
          ]
        },
        {
          "output_type": "execute_result",
          "data": {
            "text/plain": [
              "http     10660\n",
              "use       5019\n",
              "list      4851\n",
              "email     4367\n",
              "get       4200\n",
              "Name: count, dtype: int64"
            ],
            "text/html": [
              "<div>\n",
              "<style scoped>\n",
              "    .dataframe tbody tr th:only-of-type {\n",
              "        vertical-align: middle;\n",
              "    }\n",
              "\n",
              "    .dataframe tbody tr th {\n",
              "        vertical-align: top;\n",
              "    }\n",
              "\n",
              "    .dataframe thead th {\n",
              "        text-align: right;\n",
              "    }\n",
              "</style>\n",
              "<table border=\"1\" class=\"dataframe\">\n",
              "  <thead>\n",
              "    <tr style=\"text-align: right;\">\n",
              "      <th></th>\n",
              "      <th>count</th>\n",
              "    </tr>\n",
              "  </thead>\n",
              "  <tbody>\n",
              "    <tr>\n",
              "      <th>http</th>\n",
              "      <td>10660</td>\n",
              "    </tr>\n",
              "    <tr>\n",
              "      <th>use</th>\n",
              "      <td>5019</td>\n",
              "    </tr>\n",
              "    <tr>\n",
              "      <th>list</th>\n",
              "      <td>4851</td>\n",
              "    </tr>\n",
              "    <tr>\n",
              "      <th>email</th>\n",
              "      <td>4367</td>\n",
              "    </tr>\n",
              "    <tr>\n",
              "      <th>get</th>\n",
              "      <td>4200</td>\n",
              "    </tr>\n",
              "  </tbody>\n",
              "</table>\n",
              "</div><br><label><b>dtype:</b> int64</label>"
            ]
          },
          "metadata": {},
          "execution_count": 82
        }
      ]
    },
    {
      "cell_type": "code",
      "source": [
        "frequent_words = unique_words[0:VOCAB_SIZE]\n",
        "print('Nr of frequent words \\n', frequent_words[:10])\n"
      ],
      "metadata": {
        "colab": {
          "base_uri": "https://localhost:8080/"
        },
        "id": "828uq2Mqo1v3",
        "outputId": "f6019c18-6cf8-416c-c593-ea3fa8eadac2"
      },
      "execution_count": 89,
      "outputs": [
        {
          "output_type": "stream",
          "name": "stdout",
          "text": [
            "Nr of frequent words \n",
            " http     10660\n",
            "use       5019\n",
            "list      4851\n",
            "email     4367\n",
            "get       4200\n",
            "mail      3983\n",
            "one       3907\n",
            "free      3202\n",
            "time      3042\n",
            "work      2883\n",
            "Name: count, dtype: int64\n"
          ]
        }
      ]
    },
    {
      "cell_type": "markdown",
      "source": [
        "**Create Vocabulary DataFrame with a WORD_ID**"
      ],
      "metadata": {
        "id": "P_klY9N6qWy1"
      }
    },
    {
      "cell_type": "code",
      "source": [
        "word_ids = list(range(0, VOCAB_SIZE))\n",
        "vocab = pd.DataFrame({'VOCAB_WORD': frequent_words.index.values}, index=word_ids)\n",
        "VOCAB_SIZE = len(vocab)\n",
        "vocab.index.name = 'WORD_ID'\n",
        "vocab.head()\n"
      ],
      "metadata": {
        "colab": {
          "base_uri": "https://localhost:8080/",
          "height": 237
        },
        "id": "aACvifqRqgjU",
        "outputId": "bb244e94-997a-43ce-d459-e88b673db988"
      },
      "execution_count": 97,
      "outputs": [
        {
          "output_type": "execute_result",
          "data": {
            "text/plain": [
              "        VOCAB_WORD\n",
              "WORD_ID           \n",
              "0             http\n",
              "1              use\n",
              "2             list\n",
              "3            email\n",
              "4              get"
            ],
            "text/html": [
              "\n",
              "  <div id=\"df-5f1c25b8-af7d-495f-b340-8de2248a1e1d\" class=\"colab-df-container\">\n",
              "    <div>\n",
              "<style scoped>\n",
              "    .dataframe tbody tr th:only-of-type {\n",
              "        vertical-align: middle;\n",
              "    }\n",
              "\n",
              "    .dataframe tbody tr th {\n",
              "        vertical-align: top;\n",
              "    }\n",
              "\n",
              "    .dataframe thead th {\n",
              "        text-align: right;\n",
              "    }\n",
              "</style>\n",
              "<table border=\"1\" class=\"dataframe\">\n",
              "  <thead>\n",
              "    <tr style=\"text-align: right;\">\n",
              "      <th></th>\n",
              "      <th>VOCAB_WORD</th>\n",
              "    </tr>\n",
              "    <tr>\n",
              "      <th>WORD_ID</th>\n",
              "      <th></th>\n",
              "    </tr>\n",
              "  </thead>\n",
              "  <tbody>\n",
              "    <tr>\n",
              "      <th>0</th>\n",
              "      <td>http</td>\n",
              "    </tr>\n",
              "    <tr>\n",
              "      <th>1</th>\n",
              "      <td>use</td>\n",
              "    </tr>\n",
              "    <tr>\n",
              "      <th>2</th>\n",
              "      <td>list</td>\n",
              "    </tr>\n",
              "    <tr>\n",
              "      <th>3</th>\n",
              "      <td>email</td>\n",
              "    </tr>\n",
              "    <tr>\n",
              "      <th>4</th>\n",
              "      <td>get</td>\n",
              "    </tr>\n",
              "  </tbody>\n",
              "</table>\n",
              "</div>\n",
              "    <div class=\"colab-df-buttons\">\n",
              "\n",
              "  <div class=\"colab-df-container\">\n",
              "    <button class=\"colab-df-convert\" onclick=\"convertToInteractive('df-5f1c25b8-af7d-495f-b340-8de2248a1e1d')\"\n",
              "            title=\"Convert this dataframe to an interactive table.\"\n",
              "            style=\"display:none;\">\n",
              "\n",
              "  <svg xmlns=\"http://www.w3.org/2000/svg\" height=\"24px\" viewBox=\"0 -960 960 960\">\n",
              "    <path d=\"M120-120v-720h720v720H120Zm60-500h600v-160H180v160Zm220 220h160v-160H400v160Zm0 220h160v-160H400v160ZM180-400h160v-160H180v160Zm440 0h160v-160H620v160ZM180-180h160v-160H180v160Zm440 0h160v-160H620v160Z\"/>\n",
              "  </svg>\n",
              "    </button>\n",
              "\n",
              "  <style>\n",
              "    .colab-df-container {\n",
              "      display:flex;\n",
              "      gap: 12px;\n",
              "    }\n",
              "\n",
              "    .colab-df-convert {\n",
              "      background-color: #E8F0FE;\n",
              "      border: none;\n",
              "      border-radius: 50%;\n",
              "      cursor: pointer;\n",
              "      display: none;\n",
              "      fill: #1967D2;\n",
              "      height: 32px;\n",
              "      padding: 0 0 0 0;\n",
              "      width: 32px;\n",
              "    }\n",
              "\n",
              "    .colab-df-convert:hover {\n",
              "      background-color: #E2EBFA;\n",
              "      box-shadow: 0px 1px 2px rgba(60, 64, 67, 0.3), 0px 1px 3px 1px rgba(60, 64, 67, 0.15);\n",
              "      fill: #174EA6;\n",
              "    }\n",
              "\n",
              "    .colab-df-buttons div {\n",
              "      margin-bottom: 4px;\n",
              "    }\n",
              "\n",
              "    [theme=dark] .colab-df-convert {\n",
              "      background-color: #3B4455;\n",
              "      fill: #D2E3FC;\n",
              "    }\n",
              "\n",
              "    [theme=dark] .colab-df-convert:hover {\n",
              "      background-color: #434B5C;\n",
              "      box-shadow: 0px 1px 3px 1px rgba(0, 0, 0, 0.15);\n",
              "      filter: drop-shadow(0px 1px 2px rgba(0, 0, 0, 0.3));\n",
              "      fill: #FFFFFF;\n",
              "    }\n",
              "  </style>\n",
              "\n",
              "    <script>\n",
              "      const buttonEl =\n",
              "        document.querySelector('#df-5f1c25b8-af7d-495f-b340-8de2248a1e1d button.colab-df-convert');\n",
              "      buttonEl.style.display =\n",
              "        google.colab.kernel.accessAllowed ? 'block' : 'none';\n",
              "\n",
              "      async function convertToInteractive(key) {\n",
              "        const element = document.querySelector('#df-5f1c25b8-af7d-495f-b340-8de2248a1e1d');\n",
              "        const dataTable =\n",
              "          await google.colab.kernel.invokeFunction('convertToInteractive',\n",
              "                                                    [key], {});\n",
              "        if (!dataTable) return;\n",
              "\n",
              "        const docLinkHtml = 'Like what you see? Visit the ' +\n",
              "          '<a target=\"_blank\" href=https://colab.research.google.com/notebooks/data_table.ipynb>data table notebook</a>'\n",
              "          + ' to learn more about interactive tables.';\n",
              "        element.innerHTML = '';\n",
              "        dataTable['output_type'] = 'display_data';\n",
              "        await google.colab.output.renderOutput(dataTable, element);\n",
              "        const docLink = document.createElement('div');\n",
              "        docLink.innerHTML = docLinkHtml;\n",
              "        element.appendChild(docLink);\n",
              "      }\n",
              "    </script>\n",
              "  </div>\n",
              "\n",
              "\n",
              "<div id=\"df-93f43fa4-c1ad-478c-b98b-79d32e06754e\">\n",
              "  <button class=\"colab-df-quickchart\" onclick=\"quickchart('df-93f43fa4-c1ad-478c-b98b-79d32e06754e')\"\n",
              "            title=\"Suggest charts\"\n",
              "            style=\"display:none;\">\n",
              "\n",
              "<svg xmlns=\"http://www.w3.org/2000/svg\" height=\"24px\"viewBox=\"0 0 24 24\"\n",
              "     width=\"24px\">\n",
              "    <g>\n",
              "        <path d=\"M19 3H5c-1.1 0-2 .9-2 2v14c0 1.1.9 2 2 2h14c1.1 0 2-.9 2-2V5c0-1.1-.9-2-2-2zM9 17H7v-7h2v7zm4 0h-2V7h2v10zm4 0h-2v-4h2v4z\"/>\n",
              "    </g>\n",
              "</svg>\n",
              "  </button>\n",
              "\n",
              "<style>\n",
              "  .colab-df-quickchart {\n",
              "      --bg-color: #E8F0FE;\n",
              "      --fill-color: #1967D2;\n",
              "      --hover-bg-color: #E2EBFA;\n",
              "      --hover-fill-color: #174EA6;\n",
              "      --disabled-fill-color: #AAA;\n",
              "      --disabled-bg-color: #DDD;\n",
              "  }\n",
              "\n",
              "  [theme=dark] .colab-df-quickchart {\n",
              "      --bg-color: #3B4455;\n",
              "      --fill-color: #D2E3FC;\n",
              "      --hover-bg-color: #434B5C;\n",
              "      --hover-fill-color: #FFFFFF;\n",
              "      --disabled-bg-color: #3B4455;\n",
              "      --disabled-fill-color: #666;\n",
              "  }\n",
              "\n",
              "  .colab-df-quickchart {\n",
              "    background-color: var(--bg-color);\n",
              "    border: none;\n",
              "    border-radius: 50%;\n",
              "    cursor: pointer;\n",
              "    display: none;\n",
              "    fill: var(--fill-color);\n",
              "    height: 32px;\n",
              "    padding: 0;\n",
              "    width: 32px;\n",
              "  }\n",
              "\n",
              "  .colab-df-quickchart:hover {\n",
              "    background-color: var(--hover-bg-color);\n",
              "    box-shadow: 0 1px 2px rgba(60, 64, 67, 0.3), 0 1px 3px 1px rgba(60, 64, 67, 0.15);\n",
              "    fill: var(--button-hover-fill-color);\n",
              "  }\n",
              "\n",
              "  .colab-df-quickchart-complete:disabled,\n",
              "  .colab-df-quickchart-complete:disabled:hover {\n",
              "    background-color: var(--disabled-bg-color);\n",
              "    fill: var(--disabled-fill-color);\n",
              "    box-shadow: none;\n",
              "  }\n",
              "\n",
              "  .colab-df-spinner {\n",
              "    border: 2px solid var(--fill-color);\n",
              "    border-color: transparent;\n",
              "    border-bottom-color: var(--fill-color);\n",
              "    animation:\n",
              "      spin 1s steps(1) infinite;\n",
              "  }\n",
              "\n",
              "  @keyframes spin {\n",
              "    0% {\n",
              "      border-color: transparent;\n",
              "      border-bottom-color: var(--fill-color);\n",
              "      border-left-color: var(--fill-color);\n",
              "    }\n",
              "    20% {\n",
              "      border-color: transparent;\n",
              "      border-left-color: var(--fill-color);\n",
              "      border-top-color: var(--fill-color);\n",
              "    }\n",
              "    30% {\n",
              "      border-color: transparent;\n",
              "      border-left-color: var(--fill-color);\n",
              "      border-top-color: var(--fill-color);\n",
              "      border-right-color: var(--fill-color);\n",
              "    }\n",
              "    40% {\n",
              "      border-color: transparent;\n",
              "      border-right-color: var(--fill-color);\n",
              "      border-top-color: var(--fill-color);\n",
              "    }\n",
              "    60% {\n",
              "      border-color: transparent;\n",
              "      border-right-color: var(--fill-color);\n",
              "    }\n",
              "    80% {\n",
              "      border-color: transparent;\n",
              "      border-right-color: var(--fill-color);\n",
              "      border-bottom-color: var(--fill-color);\n",
              "    }\n",
              "    90% {\n",
              "      border-color: transparent;\n",
              "      border-bottom-color: var(--fill-color);\n",
              "    }\n",
              "  }\n",
              "</style>\n",
              "\n",
              "  <script>\n",
              "    async function quickchart(key) {\n",
              "      const quickchartButtonEl =\n",
              "        document.querySelector('#' + key + ' button');\n",
              "      quickchartButtonEl.disabled = true;  // To prevent multiple clicks.\n",
              "      quickchartButtonEl.classList.add('colab-df-spinner');\n",
              "      try {\n",
              "        const charts = await google.colab.kernel.invokeFunction(\n",
              "            'suggestCharts', [key], {});\n",
              "      } catch (error) {\n",
              "        console.error('Error during call to suggestCharts:', error);\n",
              "      }\n",
              "      quickchartButtonEl.classList.remove('colab-df-spinner');\n",
              "      quickchartButtonEl.classList.add('colab-df-quickchart-complete');\n",
              "    }\n",
              "    (() => {\n",
              "      let quickchartButtonEl =\n",
              "        document.querySelector('#df-93f43fa4-c1ad-478c-b98b-79d32e06754e button');\n",
              "      quickchartButtonEl.style.display =\n",
              "        google.colab.kernel.accessAllowed ? 'block' : 'none';\n",
              "    })();\n",
              "  </script>\n",
              "</div>\n",
              "\n",
              "    </div>\n",
              "  </div>\n"
            ],
            "application/vnd.google.colaboratory.intrinsic+json": {
              "type": "dataframe",
              "variable_name": "vocab",
              "summary": "{\n  \"name\": \"vocab\",\n  \"rows\": 2500,\n  \"fields\": [\n    {\n      \"column\": \"WORD_ID\",\n      \"properties\": {\n        \"dtype\": \"number\",\n        \"std\": 721,\n        \"min\": 0,\n        \"max\": 2499,\n        \"num_unique_values\": 2500,\n        \"samples\": [\n          1447,\n          1114,\n          1064\n        ],\n        \"semantic_type\": \"\",\n        \"description\": \"\"\n      }\n    },\n    {\n      \"column\": \"VOCAB_WORD\",\n      \"properties\": {\n        \"dtype\": \"string\",\n        \"num_unique_values\": 2500,\n        \"samples\": [\n          \"vacat\",\n          \"asset\",\n          \"monthli\"\n        ],\n        \"semantic_type\": \"\",\n        \"description\": \"\"\n      }\n    }\n  ]\n}"
            }
          },
          "metadata": {},
          "execution_count": 97
        }
      ]
    },
    {
      "cell_type": "markdown",
      "source": [
        "**Save the vocabulary as a csv file**"
      ],
      "metadata": {
        "id": "8Wv21oQJxC41"
      }
    },
    {
      "cell_type": "code",
      "source": [
        "vocab.to_csv(WORD_ID_FILE, index_label=vocab.index.name, header=vocab.VOCAB_WORD.name )"
      ],
      "metadata": {
        "id": "5A1AAM1OxCcb"
      },
      "execution_count": 100,
      "outputs": []
    }
  ]
}